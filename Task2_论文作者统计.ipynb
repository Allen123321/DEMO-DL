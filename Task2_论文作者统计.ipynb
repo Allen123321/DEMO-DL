{
  "nbformat": 4,
  "nbformat_minor": 0,
  "metadata": {
    "colab": {
      "name": "Task2 论文作者统计.ipynb",
      "provenance": [],
      "authorship_tag": "ABX9TyO7i2FNErKgX4bPadsQX8KW",
      "include_colab_link": true
    },
    "kernelspec": {
      "name": "python3",
      "display_name": "Python 3"
    }
  },
  "cells": [
    {
      "cell_type": "markdown",
      "metadata": {
        "id": "view-in-github",
        "colab_type": "text"
      },
      "source": [
        "<a href=\"https://colab.research.google.com/github/Allen123321/DEMO-DL/blob/master/Task2_%E8%AE%BA%E6%96%87%E4%BD%9C%E8%80%85%E7%BB%9F%E8%AE%A1.ipynb\" target=\"_parent\"><img src=\"https://colab.research.google.com/assets/colab-badge.svg\" alt=\"Open In Colab\"/></a>"
      ]
    },
    {
      "cell_type": "markdown",
      "metadata": {
        "id": "bqofSljbPXGR"
      },
      "source": [
        "##  任务说明\r\n",
        "任务主题：论文作者统计，统计所有论文作者出现频率Top10的姓名；<br>\r\n",
        "任务内容：论文作者的统计、使用 Pandas 读取数据并使用字符串操作；<br>\r\n",
        "任务成果：学习 Pandas 的字符串操作；<br>\r\n",
        "[github链接(原教程):](https://github.com/datawhalechina/team-learning-data-mining/blob/master/AcademicTrends/Task2%20%E8%AE%BA%E6%96%87%E4%BD%9C%E8%80%85%E7%BB%9F%E8%AE%A1.ipyn)"
      ]
    },
    {
      "cell_type": "markdown",
      "metadata": {
        "id": "gevUSMhAQfVX"
      },
      "source": [
        "## 具体代码实现\r\n",
        "\r\n",
        "\r\n",
        "\r\n"
      ]
    },
    {
      "cell_type": "code",
      "metadata": {
        "id": "qdXwlIJNRj0U"
      },
      "source": [
        "!mv -f /content/kaggle.json  /root/.kaggle  #添加kaggle.json到colab中"
      ],
      "execution_count": 7,
      "outputs": []
    },
    {
      "cell_type": "code",
      "metadata": {
        "colab": {
          "base_uri": "https://localhost:8080/"
        },
        "id": "_3f-Sn6_SUin",
        "outputId": "d34c30f7-573c-43e2-af60-8399f8c98f4b"
      },
      "source": [
        "!kaggle datasets download -d Cornell-University/arxiv #从kaggle上下载数据集到colab中"
      ],
      "execution_count": 8,
      "outputs": [
        {
          "output_type": "stream",
          "text": [
            "Warning: Your Kaggle API key is readable by other users on this system! To fix this, you can run 'chmod 600 /root/.kaggle/kaggle.json'\n",
            "Downloading arxiv.zip to /content\n",
            " 99% 893M/906M [00:06<00:00, 190MB/s]\n",
            "100% 906M/906M [00:06<00:00, 148MB/s]\n"
          ],
          "name": "stdout"
        }
      ]
    },
    {
      "cell_type": "code",
      "metadata": {
        "colab": {
          "base_uri": "https://localhost:8080/"
        },
        "id": "7ZuyGRHaS1T9",
        "outputId": "ca4861bf-8ee2-4822-e48a-f36322a5a406"
      },
      "source": [
        "!unzip -o /content/arxiv.zip #解压"
      ],
      "execution_count": 10,
      "outputs": [
        {
          "output_type": "stream",
          "text": [
            "Archive:  /content/arxiv.zip\n",
            "  inflating: arxiv-metadata-oai-snapshot.json  \n"
          ],
          "name": "stdout"
        }
      ]
    },
    {
      "cell_type": "code",
      "metadata": {
        "id": "LTh2sjC3OtXL"
      },
      "source": [
        "# 导入所需的package\r\n",
        "import seaborn as sns #用于画图\r\n",
        "from bs4 import BeautifulSoup #用于爬取arxiv的数据\r\n",
        "import re #用于正则表达式，匹配字符串的模式\r\n",
        "import requests #用于网络连接，发送网络请求，使用域名获取对应信息\r\n",
        "import json #读取数据，我们的数据为json格式的\r\n",
        "import pandas as pd #数据处理，数据分析\r\n",
        "import matplotlib.pyplot as plt #画图工具"
      ],
      "execution_count": 9,
      "outputs": []
    },
    {
      "cell_type": "code",
      "metadata": {
        "id": "T8CAKapcTbGR"
      },
      "source": [
        "\r\n",
        "def readArxivFile(path, columns=['id', 'submitter', 'authors', 'title', 'comments', 'journal-ref', 'doi',\r\n",
        "                                 'report-no', 'categories', 'license', 'abstract', 'versions',\r\n",
        "                                 'update_date', 'authors_parsed'], count=None):\r\n",
        "  data= []\r\n",
        "  with open(path,'r') as f:\r\n",
        "    for idx,line in enumerate(f):\r\n",
        "      if idx == count:\r\n",
        "        break\r\n",
        "\r\n",
        "      d = json.loads(line)\r\n",
        "      d = {col:d[col] for col in columns}  \r\n",
        "      data.append(d)\r\n",
        "\r\n",
        "  data = pd.DataFrame(data)\r\n",
        "\r\n",
        "  return data\r\n",
        "\r\n",
        "data = readArxivFile('arxiv-metadata-oai-snapshot.json',['id', 'authors', 'categories', 'authors_parsed'],100000)\r\n",
        "\r\n",
        "      "
      ],
      "execution_count": 12,
      "outputs": []
    },
    {
      "cell_type": "markdown",
      "metadata": {
        "id": "wMk8Sc_EW1c_"
      },
      "source": [
        "## 数据统计\r\n",
        "接下来我们将完成以下统计操作：\r\n",
        "\r\n",
        "统计所有作者姓名出现频率的Top10；<br>\r\n",
        "统计所有作者姓（姓名最后一个单词）的出现频率的Top10；<br>\r\n",
        "统计所有作者姓第一个字符的频率；<br>"
      ]
    },
    {
      "cell_type": "code",
      "metadata": {
        "colab": {
          "base_uri": "https://localhost:8080/",
          "height": 198
        },
        "id": "rLzMDlG6W1Cx",
        "outputId": "c0df859d-9965-4890-e791-cc5ae27bcdc5"
      },
      "source": [
        "data2 = data[data['categories'].apply(lambda x : 'cs.CV' in x)] # 选择类别为cs.CV下面的论文\r\n",
        "data2.head()"
      ],
      "execution_count": 13,
      "outputs": [
        {
          "output_type": "execute_result",
          "data": {
            "text/html": [
              "<div>\n",
              "<style scoped>\n",
              "    .dataframe tbody tr th:only-of-type {\n",
              "        vertical-align: middle;\n",
              "    }\n",
              "\n",
              "    .dataframe tbody tr th {\n",
              "        vertical-align: top;\n",
              "    }\n",
              "\n",
              "    .dataframe thead th {\n",
              "        text-align: right;\n",
              "    }\n",
              "</style>\n",
              "<table border=\"1\" class=\"dataframe\">\n",
              "  <thead>\n",
              "    <tr style=\"text-align: right;\">\n",
              "      <th></th>\n",
              "      <th>id</th>\n",
              "      <th>authors</th>\n",
              "      <th>categories</th>\n",
              "      <th>authors_parsed</th>\n",
              "    </tr>\n",
              "  </thead>\n",
              "  <tbody>\n",
              "    <tr>\n",
              "      <th>1266</th>\n",
              "      <td>0704.1267</td>\n",
              "      <td>Laurence Likforman-Sulem, Abderrazak Zahour, B...</td>\n",
              "      <td>cs.CV</td>\n",
              "      <td>[[Likforman-Sulem, Laurence, ], [Zahour, Abder...</td>\n",
              "    </tr>\n",
              "    <tr>\n",
              "      <th>3634</th>\n",
              "      <td>0704.3635</td>\n",
              "      <td>Fulufhelo Vincent Nelwamondo and Tshilidzi Mar...</td>\n",
              "      <td>cs.CV cs.IR</td>\n",
              "      <td>[[Nelwamondo, Fulufhelo Vincent, ], [Marwala, ...</td>\n",
              "    </tr>\n",
              "    <tr>\n",
              "      <th>4201</th>\n",
              "      <td>0705.0199</td>\n",
              "      <td>Erik Berglund, Joaquin Sitte</td>\n",
              "      <td>cs.NE cs.AI cs.CV</td>\n",
              "      <td>[[Berglund, Erik, ], [Sitte, Joaquin, ]]</td>\n",
              "    </tr>\n",
              "    <tr>\n",
              "      <th>4216</th>\n",
              "      <td>0705.0214</td>\n",
              "      <td>Mourad Zerai, Maher Moakher</td>\n",
              "      <td>cs.CV</td>\n",
              "      <td>[[Zerai, Mourad, ], [Moakher, Maher, ]]</td>\n",
              "    </tr>\n",
              "    <tr>\n",
              "      <th>4451</th>\n",
              "      <td>0705.0449</td>\n",
              "      <td>Pierre-Fran\\c{c}ois Marteau (VALORIA), Gilbas ...</td>\n",
              "      <td>cs.CV</td>\n",
              "      <td>[[Marteau, Pierre-François, , VALORIA], [Ménie...</td>\n",
              "    </tr>\n",
              "  </tbody>\n",
              "</table>\n",
              "</div>"
            ],
            "text/plain": [
              "             id  ...                                     authors_parsed\n",
              "1266  0704.1267  ...  [[Likforman-Sulem, Laurence, ], [Zahour, Abder...\n",
              "3634  0704.3635  ...  [[Nelwamondo, Fulufhelo Vincent, ], [Marwala, ...\n",
              "4201  0705.0199  ...           [[Berglund, Erik, ], [Sitte, Joaquin, ]]\n",
              "4216  0705.0214  ...            [[Zerai, Mourad, ], [Moakher, Maher, ]]\n",
              "4451  0705.0449  ...  [[Marteau, Pierre-François, , VALORIA], [Ménie...\n",
              "\n",
              "[5 rows x 4 columns]"
            ]
          },
          "metadata": {
            "tags": []
          },
          "execution_count": 13
        }
      ]
    },
    {
      "cell_type": "markdown",
      "metadata": {
        "id": "lC_tfc0jYoNx"
      },
      "source": [
        "# sum 拼接list\r\n",
        "\r\n",
        "\r\n",
        "```\r\n",
        "\r\n",
        "a = [[1], [2], [3], [4], [5]] \r\n",
        " \r\n",
        "sum(a, [])  \r\n",
        "# [1, 2, 3, 4, 5]\r\n",
        "\r\n",
        ">>> a = [[1,2],[3],[4,5,6,7],[8]]\r\n",
        ">>> sum(a,[])\r\n",
        "[1, 2, 3, 4, 5, 6, 7, 8]\r\n",
        "```\r\n",
        "\r\n"
      ]
    },
    {
      "cell_type": "code",
      "metadata": {
        "colab": {
          "base_uri": "https://localhost:8080/"
        },
        "id": "rXzH6nnGX2wf",
        "outputId": "cf51a8d0-746e-4c83-9647-4f3942dc4581"
      },
      "source": [
        "# 拼接所有作者\r\n",
        "print(data2['authors_parsed'])\r\n",
        "print(sum(data2['authors_parsed'], []))\r\n",
        "all_authors = sum(data2['authors_parsed'], [])"
      ],
      "execution_count": 15,
      "outputs": [
        {
          "output_type": "stream",
          "text": [
            "1266     [[Likforman-Sulem, Laurence, ], [Zahour, Abder...\n",
            "3634     [[Nelwamondo, Fulufhelo Vincent, ], [Marwala, ...\n",
            "4201              [[Berglund, Erik, ], [Sitte, Joaquin, ]]\n",
            "4216               [[Zerai, Mourad, ], [Moakher, Maher, ]]\n",
            "4451     [[Marteau, Pierre-François, , VALORIA], [Ménie...\n",
            "                               ...                        \n",
            "97466                             [[Alagoz, B. Baykant, ]]\n",
            "98435                                [[Abenius, Tobias, ]]\n",
            "98700    [[Valiollahzadeh, Seyyed Majid, ], [Sayadiyan,...\n",
            "98701    [[Valiollahzadeh, Seyyed Majid, ], [Sayadiyan,...\n",
            "99018    [[Zayyani, Hadi., ], [Valiollahzadeh, Seyyedma...\n",
            "Name: authors_parsed, Length: 134, dtype: object\n",
            "[['Likforman-Sulem', 'Laurence', ''], ['Zahour', 'Abderrazak', ''], ['Taconet', 'Bruno', ''], ['Nelwamondo', 'Fulufhelo Vincent', ''], ['Marwala', 'Tshilidzi', ''], ['Berglund', 'Erik', ''], ['Sitte', 'Joaquin', ''], ['Zerai', 'Mourad', ''], ['Moakher', 'Maher', ''], ['Marteau', 'Pierre-François', '', 'VALORIA'], ['Ménier', 'Gilbas', '', 'VALORIA'], ['Spiller', 'Jonathan M.', ''], ['Marwala', 'T.', ''], ['Falk', 'D. L.', ''], ['Rubin', 'D. M.', ''], ['Marwala', 'T.', ''], ['Surajpal', 'Dhiresh R.', ''], ['Marwala', 'Tshilidzi', ''], ['Machowski', 'Lukasz A', ''], ['Marwala', 'Tshilidzi', ''], ['Graves', 'Alex', ''], ['Fernandez', 'Santiago', ''], ['Schmidhuber', 'Juergen', ''], ['Cohen', 'Asaf', ''], ['Weissman', 'Tsachy', ''], ['Merhav', 'Neri', ''], ['Jacquet', 'W.', ''], ['de Groen', 'P.', ''], ['Sofge', 'Donald A.', ''], ['Beezley', 'Jonathan D.', ''], ['Mandel', 'Jan', ''], ['Lichtenwalner', 'Peter F.', ''], ['Sofge', 'Donald A.', ''], ['Scurrell', 'Simon', ''], ['Marwala', 'Tshilidzi', ''], ['Rubin', 'David', ''], ['Sofge', 'D. A.', ''], ['Bezzi', 'Michele', ''], ['Groenevelt', 'Robin', ''], ['Coltuc', 'Dinu', '', 'GIPSA-lab'], ['Chassery', 'Jean-Marc', '', 'GIPSA-lab'], ['Bartolo', 'Alexandra', ''], ['McGuire', 'Patrick C.', ''], ['Camilleri', 'Kenneth P.', ''], ['Spiteri', 'Christopher', ''], ['Borg', 'Jonathan C.', ''], ['Farrugia', 'Philip J.', ''], ['Ormo', 'Jens', ''], ['Gomez-Elvira', 'Javier', ''], ['Rodriguez-Manfredi', 'Jose Antonio', ''], ['Diaz-Martinez', 'Enrique', ''], ['Ritter', 'Helge', ''], ['Haschke', 'Robert', ''], ['Oesker', 'Markus', ''], ['Ontrup', 'Joerg', ''], ['Diamant', 'Emanuel', ''], ['Knill', 'Oliver', ''], ['Ramirez-Herran', 'Jose', ''], ['Knill', 'Oliver', ''], ['Ramirez-Herran', 'Jose', ''], ['Knill', 'Oliver', ''], ['Ramirez-Herran', 'Jose', ''], ['Mihailescu', 'Preda', ''], ['Lian', 'Heng', ''], ['Bugeau', 'Aurelie', '', 'IRISA'], ['Pérez', 'Patrick', '', 'IRISA'], ['Héas', 'Patrick', '', 'IRISA'], ['Datcu', 'Mihai', '', 'DLR, Oberpfaffenhofen'], ['McAuley', 'Julian J.', ''], ['Caetano', 'Tiberio S.', ''], ['Barbosa', 'Marconi S.', ''], ['McAuley', 'Julian John', ''], ['Caetano', 'Tiberio S.', ''], ['Alipour', 'Philip B.', ''], ['Kay', 'David A', '', 'Oxford University Computational Laboratory'], ['Tomasi', 'Alessandro', '', 'University of Sussex'], ['Boutin', 'Mireille', ''], ['Kemper', 'Gregor', ''], ['Jiang', 'Wu', ''], ['Ding', 'Fei', ''], ['Xiang', 'Qiao-liang', ''], ['Keysers', 'Daniel', ''], ['Tanaka', 'Harki', ''], ['Ortega', 'Neli Regina Siqueira', ''], ['Galizia', 'Mauricio Stanzione', ''], ['Sobrinho', 'Joao Batista Borges', ''], ['Amato', 'Marcelo Britto Passos', ''], ['Skoric', 'B.', ''], ['Bernal', 'M. Miron', ''], ['Estrada', 'H. Coyote', ''], ['Nazuno', 'J. Figueroa', ''], ['Alipour', 'Philip B.', ''], ['Cunha', 'Arthur', ''], ['Do', 'Minh', ''], ['Vetterli', 'Martin', ''], ['Anthony', 'Gidudu', ''], ['Gregg', 'Hulley', ''], ['Tshilidzi', 'Marwala', ''], ['Ishikawa', 'Hiroshi', ''], ['Breuel', 'Thomas M.', ''], ['Breuel', 'Thomas M.', ''], ['Breuel', 'Thomas M.', ''], ['Deepthi', 'Dasika Ratna', ''], ['Kuchibhotla', 'Sujeet', ''], ['Eswaran', 'K.', ''], ['Pruvot', 'Jean Hugues', '', 'GREYC'], ['Brun', 'Luc', '', 'GREYC'], ['Palaiyanur', 'Hari', ''], ['Chang', 'Cheng', ''], ['Sahai', 'Anant', ''], ['Anguelov', 'Roumen', ''], ['Plaskitt', 'Inger', ''], ['Lai', 'Po-Hsiang', ''], [\"O'Sullivan\", 'Joseph A.', ''], ['Goparaju', 'Sreechakra', ''], ['Acharya', 'Jayadev', ''], ['Ray', 'Ajoy K.', ''], ['Goswami', 'Jaideva C.', ''], ['Wang', 'Dao-Shun', ''], ['Yi', 'Feng', ''], ['Li', 'Xiaobo', ''], ['Zaslavskiy', 'Mikhail', ''], ['Bach', 'Francis', ''], ['Vert', 'Jean-Philippe', ''], ['Jafri', 'Syed Ali Raza', ''], ['Boutin', 'Mireille', ''], ['Delp', 'Edward J.', ''], ['Lian', 'Heng', ''], ['Pal', 'Mahesh', ''], ['Pal', 'Mahesh', ''], ['Mather', 'Paul M.', ''], ['Pal', 'Mahesh', ''], ['Arsinte', 'Radu', ''], ['Ilioaei', 'Ciprian', ''], ['Arsinte', 'Radu', ''], ['Murtagh', 'Fionn', ''], ['Starck', 'Jean-Luc', ''], ['Hochbaum', 'Dorit S.', ''], ['Arsinte', 'Radu', ''], ['Miron', 'Costin', ''], ['Springett', 'Jarrad', ''], ['Vendrig', 'Jeroen', ''], ['Chen', 'Li', ''], ['Fernandes', 'C.', ''], ['Mora', 'A. M.', ''], ['Merelo', 'J. J.', ''], ['Ramos', 'V.', ''], ['Laredo', 'J. L. J.', ''], ['Konnik', 'Mikhail V.', ''], ['Xu', 'Zhiqiang', ''], ['Xu', 'Guoliang', ''], ['Garcia', 'Vincent', ''], ['Debreuve', 'Eric', ''], ['Barlaud', 'Michel', ''], ['Chen', 'Li', ''], ['Rong', 'Yongwu', ''], ['Choudhury', 'Pabitra Pal', ''], ['Nayak', 'Birendra Kumar', ''], ['Sahoo', 'Sudhakar', ''], ['Rath', 'Sunil Pankaj', ''], ['Leandro', 'J. J. G.', ''], ['Cesar', 'R. M.', 'Jr'], ['Costa', 'L. da F.', ''], ['Bao', 'Forrest Sheng', ''], ['Lie', 'Donald Yu-Chun', ''], ['Zhang', 'Yuanlin', ''], [\"d'Amico\", 'M.', ''], ['Frosini', 'P.', ''], ['Landi', 'C.', ''], ['Noma', 'Alexandre', ''], ['Graciano', 'Ana B. V.', ''], ['Consularo', 'Luis Augusto', ''], ['Cesar-Jr', 'Roberto M.', ''], ['Bloch', 'Isabelle', ''], ['Yu', 'Zhang', ''], ['Zhong-ke', 'Shi', ''], ['Run-quan', 'Wang', ''], ['Konnik', 'M. V.', ''], ['Manykin', 'E. A.', ''], ['Starikov', 'S. N.', ''], ['Lecellier', 'François', ''], ['Jehan-Besson', 'Stéphanie', ''], ['Fadili', 'Jalal', ''], ['Aubert', 'Gilles', ''], ['Revenu', 'Marinette', ''], ['Lecellier', 'François', ''], ['Jehan-Besson', 'Stéphanie', ''], ['Fadili', 'Jalal', ''], ['Aubert', 'Gilles', ''], ['Revenu', 'Marinette', ''], ['Saloux', 'Eric', ''], ['Lopes', 'Fabricio Martins', ''], ['Martins-Jr', 'David Correa', ''], ['Cesar-Jr', 'Roberto M.', ''], ['Jia', 'Hongjun', ''], ['Zhang', 'Li', ''], ['Holm', 'Darryl D.', ''], ['Trouve', 'Alain', ''], ['Younes', 'Laurent', ''], ['Patrangenaru', 'V.', ''], ['Liu', 'X.', ''], ['Sugathadasa', 'S.', ''], ['Yu', 'Guoshen', ''], ['Slotine', 'Jean-Jacques', ''], ['Martin', 'Arnaud', '', 'E3I2'], ['Laanaya', 'Hicham', '', 'E3I2'], ['Arnold-Bos', 'Andreas', '', 'E3I2'], ['Martin', 'Arnaud', '', 'E3I2'], ['Osswald', 'Christophe', '', 'E3I2'], ['Feng', 'S.', ''], ['Kogan', 'I. A.', ''], ['Krim', 'H.', ''], ['Martin', 'Arnaud', '', 'E3I2'], ['Martin', 'Arnaud', '', 'E3I2'], ['Osswald', 'Christophe', '', 'E3I2'], ['Martin', 'Arnaud', '', 'E3I2'], ['Osswald', 'Christophe', '', 'E3I2'], ['Caetano', 'Tiberio S.', ''], ['McAuley', 'Julian J.', ''], ['Cheng', 'Li', ''], ['Le', 'Quoc V.', ''], ['Smola', 'Alex J.', ''], ['Tariel', 'Vincent', ''], ['Tariel', 'Vincent', ''], ['Tariel', 'Vincent', ''], ['Tariel', 'Vincent', ''], ['Mitrokotsa', 'Aikaterini', ''], ['Dimitrakakis', 'Christos', ''], ['Douligeris', 'Christos', ''], ['Kalantari', 'Mahzad', ''], ['Jung', 'Franck', ''], ['Guedon', 'JeanPierre', ''], ['Paparoditis', 'Nicolas', ''], ['Yu', 'Guoshen', ''], ['Slotine', 'Jean-Jacques', ''], ['Miravet', 'Carlos', ''], ['Pascual', 'Luis', ''], ['Krouch', 'Eloise', ''], ['del Cura', 'Juan Manuel', ''], ['Sparavigna', 'A.', ''], ['Marazzato', 'R.', ''], ['Diamant', 'Emanuel', ''], ['Prasetyo', 'Eri', ''], ['Afandi', 'Hamzah', ''], ['Ginhac', 'Nurul Huda Dominique', ''], ['Paindavoine', 'Michel', ''], ['Prasetyo', 'Eri', ''], ['Ginhac', 'Dominique', ''], ['Paindavoine', 'Michel', ''], ['Bhattacharya', 'C', ''], ['Brouwer', 'William', ''], ['Kataria', 'Saurabh', ''], ['Das', 'Sujatha', ''], ['Mitra', 'Prasenjit', ''], ['Giles', 'C. L.', ''], ['Mairal', 'Julien', '', 'WILLOW'], ['Bach', 'Francis', '', 'WILLOW'], ['Ponce', 'Jean', '', 'WILLOW,\\n  LIENS'], ['Sapiro', 'Guillermo', '', 'WILLOW, VGG'], ['Zisserman', 'Andrew', '', 'WILLOW, VGG'], ['Kuehn', 'Steffen', ''], ['McAuley', 'Julian J.', ''], ['Caetano', 'Tiberio S.', ''], ['Smola', 'Alexander J.', ''], ['Kühn', 'Steffen', ''], ['Gühmann', 'Clemens', ''], ['Yu', 'Guoshen', ''], ['Slotine', 'Jean-Jacques', ''], ['Vasiloglou', 'Nikolaos', ''], ['Gray', 'Alexander G.', ''], ['Anderson', 'David V.', ''], ['Rosten', 'Edward', ''], ['Porter', 'Reid', ''], ['Drummond', 'Tom', ''], ['Koroutchev', 'K.', ''], ['Korutcheva', 'E.', ''], ['Dupé', 'François-Xavier', '', 'GREYC'], ['Brun', 'Luc', '', 'GREYC'], ['Hogg', 'David W.', '', 'NYU'], ['Lang', 'Dustin', '', 'Toronto'], ['Schraudolph', 'Nicol N.', ''], ['Kamenetsky', 'Dmitry', ''], ['Rosten', 'Edward', ''], ['Loveland', 'Rohan', ''], ['Kokiopoulou', 'Effrosyni', ''], ['Frossard', 'Pascal', ''], ['Llonch', 'R. Sala', ''], ['Kokiopoulou', 'E.', ''], ['Tosic', 'I.', ''], ['Frossard', 'P.', ''], ['Ris', 'Marcelo', ''], ['Barrera', 'Junior', ''], ['Martins', 'David C.', 'Jr'], ['Cerri', 'Andrea', ''], ['Frosini', 'Patrizio', ''], ['Zivny', 'Stanislav', ''], ['Cohen', 'David A.', ''], ['Jeavons', 'Peter G.', ''], ['Lemire', 'Daniel', ''], ['Bogevolnov', 'Justislav', ''], ['Jiang', 'Bin', ''], ['Liu', 'Xintao', ''], ['Sparavigna', 'A.', ''], ['Marazzato', 'R.', ''], ['Morgan', 'Simon P.', ''], ['Yin', 'Wotao', ''], ['Vixie', 'Kevin R.', ''], ['Li', 'Qiang', ''], ['He', 'Yan', ''], ['Jiang', 'Jing-ping', ''], ['Feng', 'Guihuan', '', 'IRCCyN'], ['Viard-Gaudin', 'Christian', '', 'IRCCyN'], ['Alagoz', 'B. Baykant', ''], ['Abenius', 'Tobias', ''], ['Valiollahzadeh', 'Seyyed Majid', ''], ['Sayadiyan', 'Abolghasem', ''], ['Nazari', 'Mohammad', ''], ['Valiollahzadeh', 'Seyyed Majid', ''], ['Sayadiyan', 'Abolghasem', ''], ['Nazari', 'Mohammad', ''], ['Zayyani', 'Hadi.', ''], ['Valiollahzadeh', 'Seyyedmajid', ''], ['Babaie-Zadeh', 'Massoud.', '']]\n"
          ],
          "name": "stdout"
        }
      ]
    },
    {
      "cell_type": "markdown",
      "metadata": {
        "id": "_2lhg8v4ZcM4"
      },
      "source": [
        "处理完成后all_authors变成了所有一个list，其中每个元素为一个作者的姓名。\r\n",
        "\r\n",
        "## 完成姓名频率的统计。"
      ]
    },
    {
      "cell_type": "code",
      "metadata": {
        "colab": {
          "base_uri": "https://localhost:8080/"
        },
        "id": "Q0JLbN8lY6SM",
        "outputId": "117c19ed-d5eb-4392-de18-90e857fa8a0a"
      },
      "source": [
        "# 拼接所有的作者\r\n",
        "authors_names = [' '.join(x) for x in all_authors]\r\n",
        "print(authors_names)"
      ],
      "execution_count": 16,
      "outputs": [
        {
          "output_type": "stream",
          "text": [
            "['Likforman-Sulem Laurence ', 'Zahour Abderrazak ', 'Taconet Bruno ', 'Nelwamondo Fulufhelo Vincent ', 'Marwala Tshilidzi ', 'Berglund Erik ', 'Sitte Joaquin ', 'Zerai Mourad ', 'Moakher Maher ', 'Marteau Pierre-François  VALORIA', 'Ménier Gilbas  VALORIA', 'Spiller Jonathan M. ', 'Marwala T. ', 'Falk D. L. ', 'Rubin D. M. ', 'Marwala T. ', 'Surajpal Dhiresh R. ', 'Marwala Tshilidzi ', 'Machowski Lukasz A ', 'Marwala Tshilidzi ', 'Graves Alex ', 'Fernandez Santiago ', 'Schmidhuber Juergen ', 'Cohen Asaf ', 'Weissman Tsachy ', 'Merhav Neri ', 'Jacquet W. ', 'de Groen P. ', 'Sofge Donald A. ', 'Beezley Jonathan D. ', 'Mandel Jan ', 'Lichtenwalner Peter F. ', 'Sofge Donald A. ', 'Scurrell Simon ', 'Marwala Tshilidzi ', 'Rubin David ', 'Sofge D. A. ', 'Bezzi Michele ', 'Groenevelt Robin ', 'Coltuc Dinu  GIPSA-lab', 'Chassery Jean-Marc  GIPSA-lab', 'Bartolo Alexandra ', 'McGuire Patrick C. ', 'Camilleri Kenneth P. ', 'Spiteri Christopher ', 'Borg Jonathan C. ', 'Farrugia Philip J. ', 'Ormo Jens ', 'Gomez-Elvira Javier ', 'Rodriguez-Manfredi Jose Antonio ', 'Diaz-Martinez Enrique ', 'Ritter Helge ', 'Haschke Robert ', 'Oesker Markus ', 'Ontrup Joerg ', 'Diamant Emanuel ', 'Knill Oliver ', 'Ramirez-Herran Jose ', 'Knill Oliver ', 'Ramirez-Herran Jose ', 'Knill Oliver ', 'Ramirez-Herran Jose ', 'Mihailescu Preda ', 'Lian Heng ', 'Bugeau Aurelie  IRISA', 'Pérez Patrick  IRISA', 'Héas Patrick  IRISA', 'Datcu Mihai  DLR, Oberpfaffenhofen', 'McAuley Julian J. ', 'Caetano Tiberio S. ', 'Barbosa Marconi S. ', 'McAuley Julian John ', 'Caetano Tiberio S. ', 'Alipour Philip B. ', 'Kay David A  Oxford University Computational Laboratory', 'Tomasi Alessandro  University of Sussex', 'Boutin Mireille ', 'Kemper Gregor ', 'Jiang Wu ', 'Ding Fei ', 'Xiang Qiao-liang ', 'Keysers Daniel ', 'Tanaka Harki ', 'Ortega Neli Regina Siqueira ', 'Galizia Mauricio Stanzione ', 'Sobrinho Joao Batista Borges ', 'Amato Marcelo Britto Passos ', 'Skoric B. ', 'Bernal M. Miron ', 'Estrada H. Coyote ', 'Nazuno J. Figueroa ', 'Alipour Philip B. ', 'Cunha Arthur ', 'Do Minh ', 'Vetterli Martin ', 'Anthony Gidudu ', 'Gregg Hulley ', 'Tshilidzi Marwala ', 'Ishikawa Hiroshi ', 'Breuel Thomas M. ', 'Breuel Thomas M. ', 'Breuel Thomas M. ', 'Deepthi Dasika Ratna ', 'Kuchibhotla Sujeet ', 'Eswaran K. ', 'Pruvot Jean Hugues  GREYC', 'Brun Luc  GREYC', 'Palaiyanur Hari ', 'Chang Cheng ', 'Sahai Anant ', 'Anguelov Roumen ', 'Plaskitt Inger ', 'Lai Po-Hsiang ', \"O'Sullivan Joseph A. \", 'Goparaju Sreechakra ', 'Acharya Jayadev ', 'Ray Ajoy K. ', 'Goswami Jaideva C. ', 'Wang Dao-Shun ', 'Yi Feng ', 'Li Xiaobo ', 'Zaslavskiy Mikhail ', 'Bach Francis ', 'Vert Jean-Philippe ', 'Jafri Syed Ali Raza ', 'Boutin Mireille ', 'Delp Edward J. ', 'Lian Heng ', 'Pal Mahesh ', 'Pal Mahesh ', 'Mather Paul M. ', 'Pal Mahesh ', 'Arsinte Radu ', 'Ilioaei Ciprian ', 'Arsinte Radu ', 'Murtagh Fionn ', 'Starck Jean-Luc ', 'Hochbaum Dorit S. ', 'Arsinte Radu ', 'Miron Costin ', 'Springett Jarrad ', 'Vendrig Jeroen ', 'Chen Li ', 'Fernandes C. ', 'Mora A. M. ', 'Merelo J. J. ', 'Ramos V. ', 'Laredo J. L. J. ', 'Konnik Mikhail V. ', 'Xu Zhiqiang ', 'Xu Guoliang ', 'Garcia Vincent ', 'Debreuve Eric ', 'Barlaud Michel ', 'Chen Li ', 'Rong Yongwu ', 'Choudhury Pabitra Pal ', 'Nayak Birendra Kumar ', 'Sahoo Sudhakar ', 'Rath Sunil Pankaj ', 'Leandro J. J. G. ', 'Cesar R. M. Jr', 'Costa L. da F. ', 'Bao Forrest Sheng ', 'Lie Donald Yu-Chun ', 'Zhang Yuanlin ', \"d'Amico M. \", 'Frosini P. ', 'Landi C. ', 'Noma Alexandre ', 'Graciano Ana B. V. ', 'Consularo Luis Augusto ', 'Cesar-Jr Roberto M. ', 'Bloch Isabelle ', 'Yu Zhang ', 'Zhong-ke Shi ', 'Run-quan Wang ', 'Konnik M. V. ', 'Manykin E. A. ', 'Starikov S. N. ', 'Lecellier François ', 'Jehan-Besson Stéphanie ', 'Fadili Jalal ', 'Aubert Gilles ', 'Revenu Marinette ', 'Lecellier François ', 'Jehan-Besson Stéphanie ', 'Fadili Jalal ', 'Aubert Gilles ', 'Revenu Marinette ', 'Saloux Eric ', 'Lopes Fabricio Martins ', 'Martins-Jr David Correa ', 'Cesar-Jr Roberto M. ', 'Jia Hongjun ', 'Zhang Li ', 'Holm Darryl D. ', 'Trouve Alain ', 'Younes Laurent ', 'Patrangenaru V. ', 'Liu X. ', 'Sugathadasa S. ', 'Yu Guoshen ', 'Slotine Jean-Jacques ', 'Martin Arnaud  E3I2', 'Laanaya Hicham  E3I2', 'Arnold-Bos Andreas  E3I2', 'Martin Arnaud  E3I2', 'Osswald Christophe  E3I2', 'Feng S. ', 'Kogan I. A. ', 'Krim H. ', 'Martin Arnaud  E3I2', 'Martin Arnaud  E3I2', 'Osswald Christophe  E3I2', 'Martin Arnaud  E3I2', 'Osswald Christophe  E3I2', 'Caetano Tiberio S. ', 'McAuley Julian J. ', 'Cheng Li ', 'Le Quoc V. ', 'Smola Alex J. ', 'Tariel Vincent ', 'Tariel Vincent ', 'Tariel Vincent ', 'Tariel Vincent ', 'Mitrokotsa Aikaterini ', 'Dimitrakakis Christos ', 'Douligeris Christos ', 'Kalantari Mahzad ', 'Jung Franck ', 'Guedon JeanPierre ', 'Paparoditis Nicolas ', 'Yu Guoshen ', 'Slotine Jean-Jacques ', 'Miravet Carlos ', 'Pascual Luis ', 'Krouch Eloise ', 'del Cura Juan Manuel ', 'Sparavigna A. ', 'Marazzato R. ', 'Diamant Emanuel ', 'Prasetyo Eri ', 'Afandi Hamzah ', 'Ginhac Nurul Huda Dominique ', 'Paindavoine Michel ', 'Prasetyo Eri ', 'Ginhac Dominique ', 'Paindavoine Michel ', 'Bhattacharya C ', 'Brouwer William ', 'Kataria Saurabh ', 'Das Sujatha ', 'Mitra Prasenjit ', 'Giles C. L. ', 'Mairal Julien  WILLOW', 'Bach Francis  WILLOW', 'Ponce Jean  WILLOW,\\n  LIENS', 'Sapiro Guillermo  WILLOW, VGG', 'Zisserman Andrew  WILLOW, VGG', 'Kuehn Steffen ', 'McAuley Julian J. ', 'Caetano Tiberio S. ', 'Smola Alexander J. ', 'Kühn Steffen ', 'Gühmann Clemens ', 'Yu Guoshen ', 'Slotine Jean-Jacques ', 'Vasiloglou Nikolaos ', 'Gray Alexander G. ', 'Anderson David V. ', 'Rosten Edward ', 'Porter Reid ', 'Drummond Tom ', 'Koroutchev K. ', 'Korutcheva E. ', 'Dupé François-Xavier  GREYC', 'Brun Luc  GREYC', 'Hogg David W.  NYU', 'Lang Dustin  Toronto', 'Schraudolph Nicol N. ', 'Kamenetsky Dmitry ', 'Rosten Edward ', 'Loveland Rohan ', 'Kokiopoulou Effrosyni ', 'Frossard Pascal ', 'Llonch R. Sala ', 'Kokiopoulou E. ', 'Tosic I. ', 'Frossard P. ', 'Ris Marcelo ', 'Barrera Junior ', 'Martins David C. Jr', 'Cerri Andrea ', 'Frosini Patrizio ', 'Zivny Stanislav ', 'Cohen David A. ', 'Jeavons Peter G. ', 'Lemire Daniel ', 'Bogevolnov Justislav ', 'Jiang Bin ', 'Liu Xintao ', 'Sparavigna A. ', 'Marazzato R. ', 'Morgan Simon P. ', 'Yin Wotao ', 'Vixie Kevin R. ', 'Li Qiang ', 'He Yan ', 'Jiang Jing-ping ', 'Feng Guihuan  IRCCyN', 'Viard-Gaudin Christian  IRCCyN', 'Alagoz B. Baykant ', 'Abenius Tobias ', 'Valiollahzadeh Seyyed Majid ', 'Sayadiyan Abolghasem ', 'Nazari Mohammad ', 'Valiollahzadeh Seyyed Majid ', 'Sayadiyan Abolghasem ', 'Nazari Mohammad ', 'Zayyani Hadi. ', 'Valiollahzadeh Seyyedmajid ', 'Babaie-Zadeh Massoud. ']\n"
          ],
          "name": "stdout"
        }
      ]
    },
    {
      "cell_type": "code",
      "metadata": {
        "colab": {
          "base_uri": "https://localhost:8080/"
        },
        "id": "l9E0c7M-bRj8",
        "outputId": "20f2232e-d57f-45da-9e64-efd106c3cfc4"
      },
      "source": [
        "authors_names = pd.DataFrame(authors_names)\r\n",
        "print(authors_names)"
      ],
      "execution_count": 17,
      "outputs": [
        {
          "output_type": "stream",
          "text": [
            "                                 0\n",
            "0        Likforman-Sulem Laurence \n",
            "1               Zahour Abderrazak \n",
            "2                   Taconet Bruno \n",
            "3    Nelwamondo Fulufhelo Vincent \n",
            "4               Marwala Tshilidzi \n",
            "..                             ...\n",
            "318          Sayadiyan Abolghasem \n",
            "319               Nazari Mohammad \n",
            "320                 Zayyani Hadi. \n",
            "321    Valiollahzadeh Seyyedmajid \n",
            "322         Babaie-Zadeh Massoud. \n",
            "\n",
            "[323 rows x 1 columns]\n"
          ],
          "name": "stdout"
        }
      ]
    },
    {
      "cell_type": "code",
      "metadata": {
        "colab": {
          "base_uri": "https://localhost:8080/",
          "height": 406
        },
        "id": "TkWds96fbgeX",
        "outputId": "b2279ee2-220a-4383-dfb0-3cce42b0ae9e"
      },
      "source": [
        "# 根据作者频率绘制直方图\r\n",
        "plt.figure(figsize=(10, 6))\r\n",
        "authors_names[0].value_counts().head(10).plot(kind='barh')\r\n",
        "# 修改图配置\r\n",
        "names = authors_names[0].value_counts().index.values[:10]\r\n",
        "_ = plt.yticks(range(0, len(names)), names)\r\n",
        "plt.ylabel('Author')\r\n",
        "plt.xlabel('Count')"
      ],
      "execution_count": 20,
      "outputs": [
        {
          "output_type": "execute_result",
          "data": {
            "text/plain": [
              "Text(0.5, 0, 'Count')"
            ]
          },
          "metadata": {
            "tags": []
          },
          "execution_count": 20
        },
        {
          "output_type": "display_data",
          "data": {
            "image/png": "[encoded data removed]",
            "text/plain": [
              "<Figure size 720x432 with 1 Axes>"
            ]
          },
          "metadata": {
            "tags": [],
            "needs_background": "light"
          }
        }
      ]
    },
    {
      "cell_type": "markdown",
      "metadata": {
        "id": "HySDl2-bcnj7"
      },
      "source": [
        "接下来统计姓名姓，也就是authors_parsed字段中作者第一个单词："
      ]
    },
    {
      "cell_type": "code",
      "metadata": {
        "colab": {
          "base_uri": "https://localhost:8080/"
        },
        "id": "flZrUavRcm-H",
        "outputId": "2a8635f5-e37d-4b5b-b3c5-2a3de5db7805"
      },
      "source": [
        "authors_lastnames = [x[0] for x in all_authors]\r\n",
        "authors_lastnames = pd.DataFrame(authors_lastnames)\r\n",
        "print(authors_lastnames)"
      ],
      "execution_count": 21,
      "outputs": [
        {
          "output_type": "stream",
          "text": [
            "                   0\n",
            "0    Likforman-Sulem\n",
            "1             Zahour\n",
            "2            Taconet\n",
            "3         Nelwamondo\n",
            "4            Marwala\n",
            "..               ...\n",
            "318        Sayadiyan\n",
            "319           Nazari\n",
            "320          Zayyani\n",
            "321   Valiollahzadeh\n",
            "322     Babaie-Zadeh\n",
            "\n",
            "[323 rows x 1 columns]\n"
          ],
          "name": "stdout"
        }
      ]
    },
    {
      "cell_type": "code",
      "metadata": {
        "colab": {
          "base_uri": "https://localhost:8080/",
          "height": 406
        },
        "id": "gKEcIKpAc2FO",
        "outputId": "b854f038-58b3-444e-b1d7-a12c32f1d826"
      },
      "source": [
        "plt.figure(figsize=(10, 6))\r\n",
        "authors_lastnames[0].value_counts().head(10).plot(kind='barh')\r\n",
        "\r\n",
        "names = authors_lastnames[0].value_counts().index.values[:10]\r\n",
        "_ = plt.yticks(range(0, len(names)), names)\r\n",
        "plt.ylabel('Author')\r\n",
        "plt.xlabel('Count')"
      ],
      "execution_count": 24,
      "outputs": [
        {
          "output_type": "execute_result",
          "data": {
            "text/plain": [
              "Text(0.5, 0, 'Count')"
            ]
          },
          "metadata": {
            "tags": []
          },
          "execution_count": 24
        },
        {
          "output_type": "display_data",
          "data": {
            "image/png": "[encoded data removed]",
            "text/plain": [
              "<Figure size 720x432 with 1 Axes>"
            ]
          },
          "metadata": {
            "tags": [],
            "needs_background": "light"
          }
        }
      ]
    },
    {
      "cell_type": "markdown",
      "metadata": {
        "id": "KSJmDI8udmYs"
      },
      "source": [
        "统计所有作者姓第一个字符的频率"
      ]
    },
    {
      "cell_type": "code",
      "metadata": {
        "colab": {
          "base_uri": "https://localhost:8080/"
        },
        "id": "Q-aq5OWsdeRW",
        "outputId": "43a24c23-7d66-4853-d1d8-f055aa8dc707"
      },
      "source": [
        "authors_first_letter = [x[0][0:1] for x in all_authors]\r\n",
        "print(authors_first_letter)\r\n",
        "authors_first_letter = pd.DataFrame(authors_first_letter)\r\n",
        "print(authors_first_letter)"
      ],
      "execution_count": 29,
      "outputs": [
        {
          "output_type": "stream",
          "text": [
            "['L', 'Z', 'T', 'N', 'M', 'B', 'S', 'Z', 'M', 'M', 'M', 'S', 'M', 'F', 'R', 'M', 'S', 'M', 'M', 'M', 'G', 'F', 'S', 'C', 'W', 'M', 'J', 'd', 'S', 'B', 'M', 'L', 'S', 'S', 'M', 'R', 'S', 'B', 'G', 'C', 'C', 'B', 'M', 'C', 'S', 'B', 'F', 'O', 'G', 'R', 'D', 'R', 'H', 'O', 'O', 'D', 'K', 'R', 'K', 'R', 'K', 'R', 'M', 'L', 'B', 'P', 'H', 'D', 'M', 'C', 'B', 'M', 'C', 'A', 'K', 'T', 'B', 'K', 'J', 'D', 'X', 'K', 'T', 'O', 'G', 'S', 'A', 'S', 'B', 'E', 'N', 'A', 'C', 'D', 'V', 'A', 'G', 'T', 'I', 'B', 'B', 'B', 'D', 'K', 'E', 'P', 'B', 'P', 'C', 'S', 'A', 'P', 'L', 'O', 'G', 'A', 'R', 'G', 'W', 'Y', 'L', 'Z', 'B', 'V', 'J', 'B', 'D', 'L', 'P', 'P', 'M', 'P', 'A', 'I', 'A', 'M', 'S', 'H', 'A', 'M', 'S', 'V', 'C', 'F', 'M', 'M', 'R', 'L', 'K', 'X', 'X', 'G', 'D', 'B', 'C', 'R', 'C', 'N', 'S', 'R', 'L', 'C', 'C', 'B', 'L', 'Z', 'd', 'F', 'L', 'N', 'G', 'C', 'C', 'B', 'Y', 'Z', 'R', 'K', 'M', 'S', 'L', 'J', 'F', 'A', 'R', 'L', 'J', 'F', 'A', 'R', 'S', 'L', 'M', 'C', 'J', 'Z', 'H', 'T', 'Y', 'P', 'L', 'S', 'Y', 'S', 'M', 'L', 'A', 'M', 'O', 'F', 'K', 'K', 'M', 'M', 'O', 'M', 'O', 'C', 'M', 'C', 'L', 'S', 'T', 'T', 'T', 'T', 'M', 'D', 'D', 'K', 'J', 'G', 'P', 'Y', 'S', 'M', 'P', 'K', 'd', 'S', 'M', 'D', 'P', 'A', 'G', 'P', 'P', 'G', 'P', 'B', 'B', 'K', 'D', 'M', 'G', 'M', 'B', 'P', 'S', 'Z', 'K', 'M', 'C', 'S', 'K', 'G', 'Y', 'S', 'V', 'G', 'A', 'R', 'P', 'D', 'K', 'K', 'D', 'B', 'H', 'L', 'S', 'K', 'R', 'L', 'K', 'F', 'L', 'K', 'T', 'F', 'R', 'B', 'M', 'C', 'F', 'Z', 'C', 'J', 'L', 'B', 'J', 'L', 'S', 'M', 'M', 'Y', 'V', 'L', 'H', 'J', 'F', 'V', 'A', 'A', 'V', 'S', 'N', 'V', 'S', 'N', 'Z', 'V', 'B']\n",
            "     0\n",
            "0    L\n",
            "1    Z\n",
            "2    T\n",
            "3    N\n",
            "4    M\n",
            "..  ..\n",
            "318  S\n",
            "319  N\n",
            "320  Z\n",
            "321  V\n",
            "322  B\n",
            "\n",
            "[323 rows x 1 columns]\n"
          ],
          "name": "stdout"
        }
      ]
    },
    {
      "cell_type": "code",
      "metadata": {
        "colab": {
          "base_uri": "https://localhost:8080/",
          "height": 406
        },
        "id": "CzRV79OgeX-Z",
        "outputId": "4641216b-25f8-4e59-816d-0fb940dbc9a7"
      },
      "source": [
        "plt.figure(figsize=(10, 6))\r\n",
        "authors_first_letter[0].value_counts().head(10).plot(kind='barh')\r\n",
        "\r\n",
        "first_letter = authors_first_letter[0].value_counts().index.values[:10]\r\n",
        "_ = plt.yticks(range(0, len(first_letter)), first_letter)\r\n",
        "plt.ylabel('Author\\'s first letter')\r\n",
        "plt.xlabel('Count')"
      ],
      "execution_count": 31,
      "outputs": [
        {
          "output_type": "execute_result",
          "data": {
            "text/plain": [
              "Text(0.5, 0, 'Count')"
            ]
          },
          "metadata": {
            "tags": []
          },
          "execution_count": 31
        },
        {
          "output_type": "display_data",
          "data": {
            "image/png": "[encoded data removed]",
            "text/plain": [
              "<Figure size 720x432 with 1 Axes>"
            ]
          },
          "metadata": {
            "tags": [],
            "needs_background": "light"
          }
        }
      ]
    }
  ]
}