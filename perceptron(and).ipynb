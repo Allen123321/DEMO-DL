{
  "nbformat": 4,
  "nbformat_minor": 0,
  "metadata": {
    "colab": {
      "name": "perceptron(and).ipynb",
      "provenance": [],
      "authorship_tag": "ABX9TyO9SF68ms8wyNEmMNc/bLA1",
      "include_colab_link": true
    },
    "kernelspec": {
      "name": "python3",
      "display_name": "Python 3"
    }
  },
  "cells": [
    {
      "cell_type": "markdown",
      "metadata": {
        "id": "view-in-github",
        "colab_type": "text"
      },
      "source": [
        "<a href=\"https://colab.research.google.com/github/Allen123321/DEMO-DL/blob/master/perceptron(and).ipynb\" target=\"_parent\"><img src=\"https://colab.research.google.com/assets/colab-badge.svg\" alt=\"Open In Colab\"/></a>"
      ]
    },
    {
      "cell_type": "code",
      "metadata": {
        "id": "iCeOh_CdG7Ib"
      },
      "source": [
        "from functools import reduce"
      ],
      "execution_count": 3,
      "outputs": []
    },
    {
      "cell_type": "code",
      "metadata": {
        "id": "wE04ayaDIL3H"
      },
      "source": [
        "class VectorOp(object):\n",
        "  #实现向量计算操作\n",
        "  @staticmethod\n",
        "  def dot(x,y):\n",
        "    #计算两个向量的内积\n",
        "    #首先把x[x1,x2,x3]和y[y1,y2,y3]按照元素相乘\n",
        "    #变成[x1*y1,x2*y2,x3*y3]\n",
        "    #然后利用reduce求和\n",
        "    return reduce(lambda a,b:a+b,VectorOp.element_multiply(x,y),0.0)\n",
        "\n",
        "  @staticmethod\n",
        "  def element_multiply(x,y):\n",
        "    #将两个向量x和y按元素相乘\n",
        "    #首先把x[x1,x2,x3...]和y[y1,y2,y3,...]打包在一起\n",
        "    #变成[(x1,y1),(x2,y2),(x3,y3),...]\n",
        "    #然后利用map函数计算[x1*y1, x2*y2, x3*y3]\n",
        "    return list(map(lambda x_y: x_y[0]*x_y[1],zip(x,y)))\n",
        "\n",
        "  @staticmethod\n",
        "  def element_add(x,y):\n",
        "    #将两个向量x和y按照元素相加\n",
        "    #首先把x[x1,x2,x3...]和y[y1,y2,y3,...]打包在一起\n",
        "    #变成[(x1,y1),(x2,y2),(x3,y3),...]\n",
        "    #然后利用map函数计算[x1+y1, x2+y2, x3+y3]\n",
        "    return list(map(lambda x_y:x_y[0]+x_y[1],zip(x,y)))\n",
        "\n",
        "  @staticmethod\n",
        "  def scala_multiply(v,s):\n",
        "    #将向量v中的每个元素和标量s相乘\n",
        "    return map(lambda e: e*s, v)"
      ],
      "execution_count": 4,
      "outputs": []
    },
    {
      "cell_type": "code",
      "metadata": {
        "id": "1sKYeap3TXHr"
      },
      "source": [
        "class Perceptron(object):\n",
        "  def __init__(self,input_num,activator):\n",
        "    #初始化感知器，设置输入参数的个数，以及激活函数。\n",
        "    #激活函数的类型为double -> double\n",
        "    self.activator = activator\n",
        "    # 权重向量初始化为0\n",
        "    self.weights = [0,0] * input_num\n",
        "    # 偏置项初始化为0\n",
        "    self.bias = 0.0\n",
        "\n",
        "  def __str__(self):\n",
        "    #打印学习到的权重、偏置项\n",
        "    return ('weights\\t:%s \\n bias \\t: %f \\n'%(self.weights,self.bias))\n",
        "\n",
        "  def predict(self,input_vec):\n",
        "    #输入向量，输出感知器的计算结果\n",
        "    #计算向量input_vec[x1,x2,x3...]和weights[w1,w2,w3,...]的内积\n",
        "    #然后加上bias\n",
        "    return self.activator(VectorOp.dot(input_vec,self.weights)+ self.bias)\n",
        "\n",
        "  def train(self,input_vec,lables, iteration,rate):\n",
        "    #输入训练数据：一组向量、与每个向量对应的label；以及训练轮数、学习率\n",
        "    for i in range(iteration):\n",
        "      self._one_iteration(input_vec,lables,rate)\n",
        "\n",
        "  def _one_iteration(self,input_vecs,labels,rate):\n",
        "    #一次迭代，把所有的训练数据过一遍\n",
        "    #把输入和输出打包在一起，成为样本的列表[(input_vec, label), ...]\n",
        "    #而每个训练样本是(input_vec, label)\n",
        "    samples = zip(input_vecs,labels)\n",
        "    #对每个样本，按照感知器规则更新权重\n",
        "    for (input_vec,label) in samples:\n",
        "      output = self.predict(input_vec)\n",
        "      self._update_weights(input_vec,output,label,rate)\n",
        "\n",
        "  def _update_weights(self,input_vec,output,label,rate):\n",
        "    #按照感知器规则更新权重\n",
        "    #首先计算本次更新的delta\n",
        "    #然后把input_vec[x1,x2,x3,...]向量中的每个值乘上delta，得到每个权重更新\n",
        "    #最后再把权重更新按元素加到原先的weights[w1,w2,w3,...]上\n",
        "    delta = label - output\n",
        "    self.weights = VectorOp.element_add(\n",
        "        self.weights, VectorOp.scala_multiply(input_vec,rate*delta)\n",
        "    )\n",
        "    #更新bias\n",
        "    self.bias += rate*delta\n",
        "  \n",
        "\n",
        "\n",
        "\n",
        "\n",
        "\n",
        "\n",
        "\n",
        "\n"
      ],
      "execution_count": 25,
      "outputs": []
    },
    {
      "cell_type": "code",
      "metadata": {
        "id": "mFS9psT6ciFW"
      },
      "source": [
        "def f(x):\n",
        "  #定义激活函数f\n",
        "  return 1 if x>0 else 0\n",
        "\n",
        "def get_training_dataset():\n",
        "  #基于and真值表构建训练数据\n",
        "  #构建训练数据\n",
        "  #输入向量列表\n",
        "  input_vecs = [[1,1],[0,0],[1,0],[0,1]]\n",
        "  #期望的输出列表，注意要与输入一一对应\n",
        "  lables = [1,0,0,0]\n",
        "  return input_vecs,lables\n",
        "\n",
        "def train_and_perceptron():\n",
        "  #使用and真值表训练感知器\n",
        "  #创建感知器，输入参数个数为2（因为and是二元函数），激活函数为f\n",
        "  p = Perceptron(2,f)\n",
        "  # 训练，迭代10轮, 学习速率为0.1\n",
        "  input_vecs, labels = get_training_dataset()\n",
        "  p.train(input_vecs, labels, 10, 0.1)\n",
        "\n",
        "  return p"
      ],
      "execution_count": 26,
      "outputs": []
    },
    {
      "cell_type": "code",
      "metadata": {
        "colab": {
          "base_uri": "https://localhost:8080/"
        },
        "id": "n3VexZnFcSf6",
        "outputId": "9e7aa20d-d0d5-4183-9134-40cd37ce4693"
      },
      "source": [
        "if __name__ == '__main__':\n",
        "    # 训练and感知器\n",
        "    and_perceptron = train_and_perceptron()\n",
        "    # 打印训练获得的权重\n",
        "    print(and_perceptron)\n",
        " "
      ],
      "execution_count": 27,
      "outputs": [
        {
          "output_type": "stream",
          "text": [
            "weights\t:[0.1, 0.2] \n",
            " bias \t: -0.200000 \n",
            "\n"
          ],
          "name": "stdout"
        }
      ]
    },
    {
      "cell_type": "code",
      "metadata": {
        "colab": {
          "base_uri": "https://localhost:8080/"
        },
        "id": "9lD-RV9eeAsX",
        "outputId": "e21c2827-b995-4140-d380-4ee60e62bef4"
      },
      "source": [
        "print('1 and 1 = %d' % and_perceptron.predict([1, 1]))\n",
        "print('0 and 0 = %d' % and_perceptron.predict([0, 0]))\n",
        "print('1 and 0 = %d' % and_perceptron.predict([1, 0]))\n",
        "print('0 and 1 = %d' % and_perceptron.predict([0, 1]))"
      ],
      "execution_count": 29,
      "outputs": [
        {
          "output_type": "stream",
          "text": [
            "1 and 1 = 1\n",
            "0 and 0 = 0\n",
            "1 and 0 = 0\n",
            "0 and 1 = 0\n"
          ],
          "name": "stdout"
        }
      ]
    }
  ]
}