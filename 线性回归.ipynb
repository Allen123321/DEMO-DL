{
  "nbformat": 4,
  "nbformat_minor": 0,
  "metadata": {
    "colab": {
      "name": "线性回归.ipynb",
      "provenance": [],
      "collapsed_sections": [],
      "authorship_tag": "ABX9TyN5J4EH+N1SXJW+5uFA3DzO",
      "include_colab_link": true
    },
    "kernelspec": {
      "name": "python3",
      "display_name": "Python 3"
    },
    "language_info": {
      "name": "python"
    }
  },
  "cells": [
    {
      "cell_type": "markdown",
      "metadata": {
        "id": "view-in-github",
        "colab_type": "text"
      },
      "source": [
        "<a href=\"https://colab.research.google.com/github/Allen123321/DEMO-DL/blob/master/%E7%BA%BF%E6%80%A7%E5%9B%9E%E5%BD%92.ipynb\" target=\"_parent\"><img src=\"https://colab.research.google.com/assets/colab-badge.svg\" alt=\"Open In Colab\"/></a>"
      ]
    },
    {
      "cell_type": "markdown",
      "metadata": {
        "id": "mrX_a7emb__b"
      },
      "source": [
        "## 一元线性回归\n",
        "以一元为例，$y=w_1x_1+b=w^Tb=w_1x_1+w_0x_0$, 实际使用梯度下降法时可以令$x_0=1$,则求出的$w_0=b$\n",
        "\n",
        "## 梯度下降法\n",
        "如何求取梯度？\n",
        "\n",
        "假设给定模型$h(\\theta)=\\sum_{j=0}^{n} \\theta_{j} x_{j}$以及目标函数(损失函数):$J(\\theta)=\\frac{1}{m} \\sum_{i=0}^{m}\\left(y^{i}-h_{\\theta}\\left(x^{i}\\right)\\right)^{2}$, 其中$m$表示数据的量，我们目标是为了$J(\\theta)$尽可能小，所以这里加上$\\frac{1}{2}$为了后面的简化，即$J(\\theta)=\\frac{1}{2m} \\sum_{i=0}^{m}\\left(y^{i}-h_{\\theta}\\left(x^{i}\\right)\\right)^{2}$。\n",
        "那么梯度则为：$$\n",
        "\\begin{aligned}\n",
        "\\frac{\\partial J(\\theta)}{\\partial \\theta_{j}} =-\\frac{1}{m} \\sum_{i=0}^{m}\\left(y^{i}-h_{\\theta}\\left(x^{i}\\right)\\right) \\frac{\\partial}{\\partial \\theta_{j}}\\left(y^{i}-h_{\\theta}\\left(x^{i}\\right)\\right) \\\\\n",
        "=-\\frac{1}{m} \\sum_{i=0}^{m}\\left(y^{i}-h_{\\theta}\\left(x^{i}\\right)\\right) \\frac{\\partial}{\\partial \\theta_{j}}\\left(\\sum_{j=0}^{n} \\theta_{j} x_{j}^{i}-y^{i}\\right) \\\\ =-\\frac{1}{m} \\sum_{i=0}^{m}\\left(y^{i}-h_{\\theta}\\left(x^{i}\\right)\\right) x_{j}^{i}\\\\=\\frac{1}{m} \\sum_{i=0}^{m}\\left(h_{\\theta}-y^{i}\\left(x^{i}\\right)\\right) x_{j}^{i}\n",
        "\\end{aligned}\n",
        "$$\n",
        "\n",
        "设$x$是(m,n)维的矩阵，$y$是(m,1)维度的矩阵，$h_{\\theta}$是预测的值，维度与$y$相同，那么梯度用矩阵表示如下:$$\n",
        "\\frac{\\partial J(\\theta)}{\\partial \\theta_{j}} = \\frac{1}{m}x^{T}(h_{\\theta}-y)\n",
        "$$\n",
        "\n",
        "## 梯度下降法的过程\n",
        "\n",
        "![png](https://raw.githubusercontent.com/datawhalechina/machine-learning-toy-code/b36e2a1cba102f27e9212f53172c9922a0ea5380/LinearRegression/BGD.png)\n"
      ]
    },
    {
      "cell_type": "code",
      "metadata": {
        "colab": {
          "base_uri": "https://localhost:8080/",
          "height": 1000
        },
        "id": "Sx3wELRib_oh",
        "outputId": "d99fb689-27e7-4c67-aa69-1e1f0c22ea2c"
      },
      "source": [
        "import numpy as np\n",
        "import matplotlib.pyplot as plt\n",
        "\n",
        "def true_fun(X):\n",
        "    return 1.5*X + 0.2\n",
        "\n",
        "np.random.seed(0) # 随机种子\n",
        "n_samples = 30\n",
        "'''生成随机数据作为训练集'''\n",
        "train_X = np.sort(np.random.rand(n_samples)) \n",
        "train_y = (true_fun(train_X) + np.random.randn(n_samples) * 0.05).reshape(n_samples,1)\n",
        "print(\"train_y\",train_y)\n",
        "data_X = []\n",
        "#𝑤0=𝑏\n",
        "for x in train_X:\n",
        "    data_X.append([1,x])\n",
        "data_X = np.array((data_X))\n",
        "print(\"data_x\",data_X)\n",
        "m,n = np.shape(data_X) # m, 数据量 n: 特征数\n",
        "print(m,n)\n",
        "maxiter = 1000 # 迭代数\n",
        "weights = np.ones((n,1))  \n",
        "alpha = 0.1 # 学习率\n",
        "for i in range(0,maxiter):\n",
        "    error = np.dot(data_X,weights)- train_y\n",
        "    gradient = data_X.transpose().dot(error)/m\n",
        "    weights = weights - alpha * gradient\n",
        "print(\"输出参数w:\",weights[1:]) # 输出模型参数w\n",
        "print(\"输出参数:b\",weights[0]) # 输出参数b\n",
        "\n",
        "\n",
        "test_X = np.linspace(0, 1, 100)\n",
        "plt.plot(test_X, test_X*weights[1][0]+weights[0][0], label=\"Model\") \n",
        "plt.plot(test_X, true_fun(test_X), label=\"True function\")\n",
        "plt.scatter(train_X,train_y) # 画出训练集的点\n",
        "plt.legend(loc=\"best\")"
      ],
      "execution_count": 1,
      "outputs": [
        {
          "output_type": "stream",
          "text": [
            "train_y [[0.27354941]\n",
            " [0.26944584]\n",
            " [0.44418168]\n",
            " [0.30469336]\n",
            " [0.41731786]\n",
            " [0.76580309]\n",
            " [0.89863187]\n",
            " [0.90895014]\n",
            " [0.86412819]\n",
            " [0.91112717]\n",
            " [0.9383832 ]\n",
            " [0.89430256]\n",
            " [0.99992917]\n",
            " [1.0310377 ]\n",
            " [1.11358138]\n",
            " [1.16426406]\n",
            " [1.14051519]\n",
            " [1.15372603]\n",
            " [1.2203564 ]\n",
            " [1.29623423]\n",
            " [1.28548025]\n",
            " [1.48512633]\n",
            " [1.37325524]\n",
            " [1.42702605]\n",
            " [1.44237845]\n",
            " [1.57653402]\n",
            " [1.50770007]\n",
            " [1.60636636]\n",
            " [1.60072081]\n",
            " [1.68727264]]\n",
            "data_x [[1.         0.0202184 ]\n",
            " [1.         0.07103606]\n",
            " [1.         0.0871293 ]\n",
            " [1.         0.11827443]\n",
            " [1.         0.14335329]\n",
            " [1.         0.38344152]\n",
            " [1.         0.41466194]\n",
            " [1.         0.4236548 ]\n",
            " [1.         0.43758721]\n",
            " [1.         0.46147936]\n",
            " [1.         0.52184832]\n",
            " [1.         0.52889492]\n",
            " [1.         0.54488318]\n",
            " [1.         0.5488135 ]\n",
            " [1.         0.56804456]\n",
            " [1.         0.60276338]\n",
            " [1.         0.63992102]\n",
            " [1.         0.64589411]\n",
            " [1.         0.71518937]\n",
            " [1.         0.77815675]\n",
            " [1.         0.78052918]\n",
            " [1.         0.79172504]\n",
            " [1.         0.79915856]\n",
            " [1.         0.83261985]\n",
            " [1.         0.87001215]\n",
            " [1.         0.891773  ]\n",
            " [1.         0.92559664]\n",
            " [1.         0.94466892]\n",
            " [1.         0.96366276]\n",
            " [1.         0.97861834]]\n",
            "30 2\n",
            "输出参数w: [[1.445439]]\n",
            "输出参数:b [0.22683262]\n"
          ],
          "name": "stdout"
        },
        {
          "output_type": "execute_result",
          "data": {
            "text/plain": [
              "<matplotlib.legend.Legend at 0x7fe12f06e7d0>"
            ]
          },
          "metadata": {
            "tags": []
          },
          "execution_count": 1
        },
        {
          "output_type": "display_data",
          "data": {
            "image/png": "[encoded data removed]",
            "text/plain": [
              "<Figure size 432x288 with 1 Axes>"
            ]
          },
          "metadata": {
            "tags": [],
            "needs_background": "light"
          }
        }
      ]
    },
    {
      "cell_type": "markdown",
      "metadata": {
        "id": "rP5XlUIgg3ie"
      },
      "source": [
        "### scikit-learn\n",
        "scikit-learn，简称sklearn，是一个开源的基于python语言的机器学习工具包。它通过NumPy, SciPy和Matplotlib等python数值计算的库实现高效的算法应用，并且涵盖了几乎所有主流机器学习算法。\n",
        "\n",
        "官网：https://scikit-learn.org/stable/index.html"
      ]
    },
    {
      "cell_type": "code",
      "metadata": {
        "id": "H-eDeclTgmYB"
      },
      "source": [
        "import numpy as np\n",
        "from sklearn.linear_model import LinearRegression # 导入线性回归模型\n",
        "import matplotlib.pyplot as plt\n",
        "from sklearn.model_selection import learning_curve\n",
        "\n",
        "def true_fun(X):\n",
        "    return 1.5*X + 0.2\n",
        "\n",
        "np.random.seed(0) # 随机种子\n",
        "n_samples = 30\n",
        "'''生成随机数据作为训练集'''\n",
        "train_X = np.sort(np.random.rand(n_samples)) \n",
        "train_y = true_fun(train_X) + np.random.randn(n_samples) * 0.05"
      ],
      "execution_count": 2,
      "outputs": []
    },
    {
      "cell_type": "code",
      "metadata": {
        "colab": {
          "base_uri": "https://localhost:8080/"
        },
        "id": "8Ag6tUezhMTO",
        "outputId": "1df06c60-0dae-47bf-f2ea-9f1a978b8b65"
      },
      "source": [
        "train_X"
      ],
      "execution_count": 3,
      "outputs": [
        {
          "output_type": "execute_result",
          "data": {
            "text/plain": [
              "array([0.0202184 , 0.07103606, 0.0871293 , 0.11827443, 0.14335329,\n",
              "       0.38344152, 0.41466194, 0.4236548 , 0.43758721, 0.46147936,\n",
              "       0.52184832, 0.52889492, 0.54488318, 0.5488135 , 0.56804456,\n",
              "       0.60276338, 0.63992102, 0.64589411, 0.71518937, 0.77815675,\n",
              "       0.78052918, 0.79172504, 0.79915856, 0.83261985, 0.87001215,\n",
              "       0.891773  , 0.92559664, 0.94466892, 0.96366276, 0.97861834])"
            ]
          },
          "metadata": {
            "tags": []
          },
          "execution_count": 3
        }
      ]
    },
    {
      "cell_type": "code",
      "metadata": {
        "colab": {
          "base_uri": "https://localhost:8080/"
        },
        "id": "JidOvhMjhPHx",
        "outputId": "ae1c5ab7-f504-43f1-b7c3-53b809e70cc1"
      },
      "source": [
        "train_y"
      ],
      "execution_count": 4,
      "outputs": [
        {
          "output_type": "execute_result",
          "data": {
            "text/plain": [
              "array([0.27354941, 0.26944584, 0.44418168, 0.30469336, 0.41731786,\n",
              "       0.76580309, 0.89863187, 0.90895014, 0.86412819, 0.91112717,\n",
              "       0.9383832 , 0.89430256, 0.99992917, 1.0310377 , 1.11358138,\n",
              "       1.16426406, 1.14051519, 1.15372603, 1.2203564 , 1.29623423,\n",
              "       1.28548025, 1.48512633, 1.37325524, 1.42702605, 1.44237845,\n",
              "       1.57653402, 1.50770007, 1.60636636, 1.60072081, 1.68727264])"
            ]
          },
          "metadata": {
            "tags": []
          },
          "execution_count": 4
        }
      ]
    },
    {
      "cell_type": "code",
      "metadata": {
        "colab": {
          "base_uri": "https://localhost:8080/"
        },
        "id": "YRSEX9dYhVjb",
        "outputId": "4d9de32a-16f1-48fc-8f60-2193872b2343"
      },
      "source": [
        "train_X[:,np.newaxis]"
      ],
      "execution_count": 5,
      "outputs": [
        {
          "output_type": "execute_result",
          "data": {
            "text/plain": [
              "array([[0.0202184 ],\n",
              "       [0.07103606],\n",
              "       [0.0871293 ],\n",
              "       [0.11827443],\n",
              "       [0.14335329],\n",
              "       [0.38344152],\n",
              "       [0.41466194],\n",
              "       [0.4236548 ],\n",
              "       [0.43758721],\n",
              "       [0.46147936],\n",
              "       [0.52184832],\n",
              "       [0.52889492],\n",
              "       [0.54488318],\n",
              "       [0.5488135 ],\n",
              "       [0.56804456],\n",
              "       [0.60276338],\n",
              "       [0.63992102],\n",
              "       [0.64589411],\n",
              "       [0.71518937],\n",
              "       [0.77815675],\n",
              "       [0.78052918],\n",
              "       [0.79172504],\n",
              "       [0.79915856],\n",
              "       [0.83261985],\n",
              "       [0.87001215],\n",
              "       [0.891773  ],\n",
              "       [0.92559664],\n",
              "       [0.94466892],\n",
              "       [0.96366276],\n",
              "       [0.97861834]])"
            ]
          },
          "metadata": {
            "tags": []
          },
          "execution_count": 5
        }
      ]
    },
    {
      "cell_type": "code",
      "metadata": {
        "colab": {
          "base_uri": "https://localhost:8080/"
        },
        "id": "Z9KliNQphcmb",
        "outputId": "a63be182-fda9-443a-87dd-02486ee84831"
      },
      "source": [
        "model = LinearRegression() # 定义模型\n",
        "model.fit(train_X[:,np.newaxis], train_y) # 训练模型\n",
        "\n",
        "print(\"输出参数w:\",model.coef_) # 输出模型参数w\n",
        "print(\"输出参数:b\",model.intercept_) # 输出参数b"
      ],
      "execution_count": 6,
      "outputs": [
        {
          "output_type": "stream",
          "text": [
            "输出参数w: [1.4474774]\n",
            "输出参数:b 0.22557541560416694\n"
          ],
          "name": "stdout"
        }
      ]
    },
    {
      "cell_type": "code",
      "metadata": {
        "colab": {
          "base_uri": "https://localhost:8080/",
          "height": 282
        },
        "id": "ymojXF3mhic7",
        "outputId": "8ce9dfa7-252f-4868-91ce-176ee9ad4518"
      },
      "source": [
        "test_X = np.linspace(0, 1, 100)\n",
        "plt.plot(test_X, model.predict(test_X[:, np.newaxis]), label=\"Model\")\n",
        "plt.plot(test_X, true_fun(test_X), label=\"True function\")\n",
        "plt.scatter(train_X,train_y) # 画出训练集的点\n",
        "plt.legend(loc=\"best\")"
      ],
      "execution_count": 7,
      "outputs": [
        {
          "output_type": "execute_result",
          "data": {
            "text/plain": [
              "<matplotlib.legend.Legend at 0x7fe117ca3c90>"
            ]
          },
          "metadata": {
            "tags": []
          },
          "execution_count": 7
        },
        {
          "output_type": "display_data",
          "data": {
            "image/png": "[encoded data removed]",
            "text/plain": [
              "<Figure size 432x288 with 1 Axes>"
            ]
          },
          "metadata": {
            "tags": [],
            "needs_background": "light"
          }
        }
      ]
    },
    {
      "cell_type": "markdown",
      "metadata": {
        "id": "Gr25YGkohkcR"
      },
      "source": [
        "### 多元线性回归\n",
        "以三元为例，$y=w_1x_1+w_2x_2+w_3x_3+b=w^Tb$"
      ]
    },
    {
      "cell_type": "code",
      "metadata": {
        "colab": {
          "base_uri": "https://localhost:8080/"
        },
        "id": "FP5EYYAXhj6d",
        "outputId": "9b99d034-fb69-48e4-cc69-21b42815e3a2"
      },
      "source": [
        "from sklearn.linear_model import LinearRegression\n",
        "\n",
        "X = [[1,1,1],[1,1,2],[1,2,1]]\n",
        "y = [[6],[9],[8]]\n",
        " \n",
        "model = LinearRegression()\n",
        "model.fit(X, y)\n",
        "print(\"输出参数w:\",model.coef_) # 输出参数w1,w2,w3\n",
        "print(\"输出参数b:\",model.intercept_) # 输出参数b\n",
        "test_X = [[1,3,5]]\n",
        "pred_y = model.predict(test_X)\n",
        "print(\"预测结果:\",pred_y)"
      ],
      "execution_count": 8,
      "outputs": [
        {
          "output_type": "stream",
          "text": [
            "输出参数w: [[0. 2. 3.]]\n",
            "输出参数b: [1.]\n",
            "预测结果: [[22.]]\n"
          ],
          "name": "stdout"
        }
      ]
    },
    {
      "cell_type": "markdown",
      "metadata": {
        "id": "r0t0r2AEh6yE"
      },
      "source": [
        "### 多项式回归以及过拟合与欠拟合\n",
        "\n",
        "1. 训练集\n",
        "\n",
        "用来训练模型内参数的数据集\n",
        "\n",
        "2. 验证集\n",
        "\n",
        "用于在训练过程中检验模型的状态，收敛情况，通常用于调整超参数，根据几组模型验证集上的表现决定哪组超参数拥有最好的性能。\n",
        "\n",
        "同时验证集在训练过程中还可以用来监控模型是否发生过拟合，一般来说验证集表现稳定后，若继续训练，训练集表现还会继续上升，但是验证集会出现不升反降的情况，这样一般就发生了过拟合。所以验证集也用来判断何时停止训练\n",
        "\n",
        "3. 测试集\n",
        "\n",
        "测试集用来评价模型泛化能力，即使用训练集调整了参数，之前模型使用验证集确定了超参数，最后使用一个不同的数据集来检查模型。\n",
        "\n",
        "4. 交叉验证\n",
        "\n",
        "交叉验证法的作用就是尝试利用不同的训练集/测试集划分来对模型做多组不同的训练/测试，来应对测试结果过于片面以及训练数据不足的问题。\n",
        "\n",
        "![img2](https://github.com/datawhalechina/machine-learning-toy-code/raw/b36e2a1cba102f27e9212f53172c9922a0ea5380/LinearRegression/cross_valid.png)"
      ]
    },
    {
      "cell_type": "code",
      "metadata": {
        "colab": {
          "base_uri": "https://localhost:8080/",
          "height": 467
        },
        "id": "1_ytK0Smh57r",
        "outputId": "5b343a86-0c53-4e70-b31e-0ae3fcd26516"
      },
      "source": [
        "import numpy as np\n",
        "import matplotlib.pyplot as plt\n",
        "from sklearn.pipeline import Pipeline\n",
        "from sklearn.preprocessing import PolynomialFeatures\n",
        "from sklearn.linear_model import LinearRegression\n",
        "from sklearn.model_selection import cross_val_score\n",
        "\n",
        "def true_fun(X):\n",
        "    return np.cos(1.5 * np.pi * X)\n",
        "np.random.seed(0)\n",
        "\n",
        "n_samples = 30\n",
        "degrees = [1, 4, 15] # 多项式最高次\n",
        "\n",
        "X = np.sort(np.random.rand(n_samples)) \n",
        "y = true_fun(X) + np.random.randn(n_samples) * 0.1\n",
        "\n",
        "plt.figure(figsize=(14, 5))\n",
        "for i in range(len(degrees)):\n",
        "    ax = plt.subplot(1, len(degrees), i + 1)\n",
        "    plt.setp(ax, xticks=(), yticks=())\n",
        "\n",
        "    polynomial_features = PolynomialFeatures(degree=degrees[i],\n",
        "                                             include_bias=False) ##进行特征的构造\n",
        "    linear_regression = LinearRegression()\n",
        "    pipeline = Pipeline([(\"polynomial_features\", polynomial_features),\n",
        "                         (\"linear_regression\", linear_regression)]) # 使用pipline串联模型\n",
        "    pipeline.fit(X[:, np.newaxis], y)\n",
        "\n",
        "    # 使用交叉验证\n",
        "    scores = cross_val_score(pipeline, X[:, np.newaxis], y,\n",
        "                             scoring=\"neg_mean_squared_error\", cv=10)\n",
        "    print(\"socres\", scores)\n",
        "    X_test = np.linspace(0, 1, 100)\n",
        "    plt.plot(X_test, pipeline.predict(X_test[:, np.newaxis]), label=\"Model\")\n",
        "    plt.plot(X_test, true_fun(X_test), label=\"True function\")\n",
        "    plt.scatter(X, y, edgecolor='b', s=20, label=\"Samples\")\n",
        "    plt.xlabel(\"x\")\n",
        "    plt.ylabel(\"y\")\n",
        "    plt.xlim((0, 1))\n",
        "    plt.ylim((-2, 2))\n",
        "    plt.legend(loc=\"best\")\n",
        "    plt.title(\"Degree {}\\nMSE = {:.2e}(+/- {:.2e})\".format(\n",
        "        degrees[i], -scores.mean(), scores.std()))\n",
        "plt.show()\n"
      ],
      "execution_count": 9,
      "outputs": [
        {
          "output_type": "stream",
          "text": [
            "socres [-1.15358906 -0.19957154 -0.0442151  -0.36298787 -0.27884536 -0.29893644\n",
            " -0.17598593 -0.00857039 -0.24728522 -1.3073027 ]\n",
            "socres [-0.25174939 -0.04193604 -0.02725282 -0.02934695 -0.00485939 -0.00487645\n",
            " -0.01858739 -0.03843547 -0.01218562 -0.00285797]\n",
            "socres [-1.80522539e+09 -3.37259198e+04 -5.11890381e-03 -6.96763228e-03\n",
            " -9.22480383e-03 -6.86000799e-02 -5.07763372e-02 -7.90679606e-02\n",
            " -7.39770062e-02 -3.52166975e+03]\n"
          ],
          "name": "stdout"
        },
        {
          "output_type": "display_data",
          "data": {
            "image/png": "[encoded data removed]",
            "text/plain": [
              "<Figure size 1008x360 with 3 Axes>"
            ]
          },
          "metadata": {
            "tags": []
          }
        }
      ]
    },
    {
      "cell_type": "code",
      "metadata": {
        "id": "AEyn98Bbjst7"
      },
      "source": [
        ""
      ],
      "execution_count": null,
      "outputs": []
    }
  ]
}