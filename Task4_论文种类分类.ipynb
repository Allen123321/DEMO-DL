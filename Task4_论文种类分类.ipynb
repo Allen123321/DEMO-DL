{
  "nbformat": 4,
  "nbformat_minor": 0,
  "metadata": {
    "colab": {
      "name": "Task4 论文种类分类.ipynb",
      "provenance": [],
      "collapsed_sections": [],
      "toc_visible": true,
      "authorship_tag": "ABX9TyPEThRrgBFSyJEhH5y7tI+8",
      "include_colab_link": true
    },
    "kernelspec": {
      "name": "python3",
      "display_name": "Python 3"
    }
  },
  "cells": [
    {
      "cell_type": "markdown",
      "metadata": {
        "id": "view-in-github",
        "colab_type": "text"
      },
      "source": [
        "<a href=\"https://colab.research.google.com/github/Allen123321/DEMO-DL/blob/master/Task4_%E8%AE%BA%E6%96%87%E7%A7%8D%E7%B1%BB%E5%88%86%E7%B1%BB.ipynb\" target=\"_parent\"><img src=\"https://colab.research.google.com/assets/colab-badge.svg\" alt=\"Open In Colab\"/></a>"
      ]
    },
    {
      "cell_type": "markdown",
      "metadata": {
        "id": "SIsLk2nLdc3e"
      },
      "source": [
        "## 任务介绍：\r\n",
        "论文分类（数据建模任务），利用已有数据建模，对新论文进行类别分类；<br>\r\n",
        "使用论文标题完成类别分类；<br>\r\n",
        "学会文本分类的基本方法、TF-IDF等；<br>\r\n",
        "TF-IDF（term frequency–inverse document frequency）<br>\r\n",
        "TF是词频(Term Frequency)，IDF是逆文本频率指数(Inverse Document Frequency)。"
      ]
    },
    {
      "cell_type": "markdown",
      "metadata": {
        "id": "OJPN0BoheENr"
      },
      "source": [
        "## 数据处理步骤\r\n",
        "在原始arxiv论文中论文都有对应的类别，而论文类别是作者填写的。在本次任务中我们可以借助论文的标题和摘要完成：<br>\r\n",
        "+ 对论文标题和摘要进行处理；<br>\r\n",
        "+ 对论文类别进行处理；<br>\r\n",
        "+ 构建文本分类模型；<br>\r\n"
      ]
    },
    {
      "cell_type": "markdown",
      "metadata": {
        "id": "Q-TPJy1-eisy"
      },
      "source": [
        "## 文本分类方法\r\n",
        "+ 1：TF-IDF+机器学习分类器\r\n",
        "直接使用TF-IDF对文本提取特征，使用分类器进行分类，分类器的选择上可以使用SVM、LR、XGboost等。\r\n",
        "+ 2：FastText\r\n",
        "FastText是入门款的词向量，利用Facebook提供的FastText工具，可以快速构建分类器\r\n",
        "+ 3：WordVec+深度学习分类器\r\n",
        "WordVec是进阶款的词向量，并通过构建深度学习分类完成分类。深度学习分类的网络结构可以选择TextCNN、TextRnn或者BiLSTM。\r\n",
        "+ 4：Bert词向量\r\n",
        "Bert是高配款的词向量，具有强大的建模学习能力。"
      ]
    },
    {
      "cell_type": "markdown",
      "metadata": {
        "id": "cevCAu2yfCTB"
      },
      "source": [
        "## 代码实现"
      ]
    },
    {
      "cell_type": "markdown",
      "metadata": {
        "id": "r663khqkfxTq"
      },
      "source": [
        "### 加载数据"
      ]
    },
    {
      "cell_type": "code",
      "metadata": {
        "colab": {
          "base_uri": "https://localhost:8080/"
        },
        "id": "vDqNqiAVfwn0",
        "outputId": "d02b9845-8ea1-493b-9e9a-44bebed879fc"
      },
      "source": [
        "from google.colab import drive\r\n",
        "drive.mount('/content/gdrive/') #挂载google drive 加载数据集"
      ],
      "execution_count": null,
      "outputs": [
        {
          "output_type": "stream",
          "text": [
            "Mounted at /content/gdrive/\n"
          ],
          "name": "stdout"
        }
      ]
    },
    {
      "cell_type": "code",
      "metadata": {
        "id": "KmI9zj1vgeoJ"
      },
      "source": [
        "!cp -f  /content/gdrive/MyDrive/Colab\\ Notebooks/arxiv.zip  /content/ "
      ],
      "execution_count": null,
      "outputs": []
    },
    {
      "cell_type": "code",
      "metadata": {
        "colab": {
          "base_uri": "https://localhost:8080/"
        },
        "id": "okM9TUx8ggSR",
        "outputId": "ef62efb6-7e22-48f4-a59c-42545acbe5c4"
      },
      "source": [
        "!unzip -o /content/arxiv.zip  #解压数据集"
      ],
      "execution_count": null,
      "outputs": [
        {
          "output_type": "stream",
          "text": [
            "Archive:  /content/arxiv.zip\n",
            "  inflating: arxiv-metadata-oai-snapshot.json  \n"
          ],
          "name": "stdout"
        }
      ]
    },
    {
      "cell_type": "markdown",
      "metadata": {
        "id": "xw6tceqrgkXY"
      },
      "source": [
        "### 导入所需的数据包"
      ]
    },
    {
      "cell_type": "code",
      "metadata": {
        "id": "Ued2K3ZxcvUB"
      },
      "source": [
        "# 导入所需的package\r\n",
        "import seaborn as sns #用于画图\r\n",
        "from bs4 import BeautifulSoup #用于爬取arxiv的数据\r\n",
        "import re #用于正则表达式，匹配字符串的模式\r\n",
        "import requests #用于网络连接，发送网络请求，使用域名获取对应信息\r\n",
        "import json #读取数据，我们的数据为json格式的\r\n",
        "import pandas as pd #数据处理，数据分析\r\n",
        "import matplotlib.pyplot as plt #画图工具"
      ],
      "execution_count": null,
      "outputs": []
    },
    {
      "cell_type": "markdown",
      "metadata": {
        "id": "aV8LRFungqnZ"
      },
      "source": [
        "### 读取所有数据"
      ]
    },
    {
      "cell_type": "code",
      "metadata": {
        "id": "cJ870TC7fMP3"
      },
      "source": [
        "def readArxivFile(path, columns=['id', 'submitter', 'authors', 'title', 'comments', 'journal-ref', 'doi',\r\n",
        "       'report-no', 'categories', 'license', 'abstract', 'versions',\r\n",
        "       'update_date', 'authors_parsed'], count=None):\r\n",
        "    '''\r\n",
        "    定义读取文件的函数\r\n",
        "        path: 文件路径\r\n",
        "        columns: 需要选择的列\r\n",
        "        count: 读取行数\r\n",
        "    '''\r\n",
        "    \r\n",
        "    data  = []\r\n",
        "    with open(path, 'r') as f: \r\n",
        "        for idx, line in enumerate(f): \r\n",
        "            if idx == count:\r\n",
        "                break\r\n",
        "                \r\n",
        "            d = json.loads(line)\r\n",
        "            d = {col : d[col] for col in columns}\r\n",
        "            data.append(d)\r\n",
        "\r\n",
        "    data = pd.DataFrame(data)\r\n",
        "    return data\r\n",
        "\r\n",
        "data = readArxivFile('arxiv-metadata-oai-snapshot.json', \r\n",
        "                     ['id', 'title', 'categories', 'abstract'],200000)"
      ],
      "execution_count": null,
      "outputs": []
    },
    {
      "cell_type": "code",
      "metadata": {
        "colab": {
          "base_uri": "https://localhost:8080/",
          "height": 407
        },
        "id": "iRdcZSJQujv_",
        "outputId": "cf0285b1-c573-4def-d7df-2e3a57a03928"
      },
      "source": [
        "data "
      ],
      "execution_count": null,
      "outputs": [
        {
          "output_type": "execute_result",
          "data": {
            "text/html": [
              "<div>\n",
              "<style scoped>\n",
              "    .dataframe tbody tr th:only-of-type {\n",
              "        vertical-align: middle;\n",
              "    }\n",
              "\n",
              "    .dataframe tbody tr th {\n",
              "        vertical-align: top;\n",
              "    }\n",
              "\n",
              "    .dataframe thead th {\n",
              "        text-align: right;\n",
              "    }\n",
              "</style>\n",
              "<table border=\"1\" class=\"dataframe\">\n",
              "  <thead>\n",
              "    <tr style=\"text-align: right;\">\n",
              "      <th></th>\n",
              "      <th>id</th>\n",
              "      <th>title</th>\n",
              "      <th>categories</th>\n",
              "      <th>abstract</th>\n",
              "    </tr>\n",
              "  </thead>\n",
              "  <tbody>\n",
              "    <tr>\n",
              "      <th>0</th>\n",
              "      <td>0704.0001</td>\n",
              "      <td>Calculation of prompt diphoton production cros...</td>\n",
              "      <td>hep-ph</td>\n",
              "      <td>A fully differential calculation in perturba...</td>\n",
              "    </tr>\n",
              "    <tr>\n",
              "      <th>1</th>\n",
              "      <td>0704.0002</td>\n",
              "      <td>Sparsity-certifying Graph Decompositions</td>\n",
              "      <td>math.CO cs.CG</td>\n",
              "      <td>We describe a new algorithm, the $(k,\\ell)$-...</td>\n",
              "    </tr>\n",
              "    <tr>\n",
              "      <th>2</th>\n",
              "      <td>0704.0003</td>\n",
              "      <td>The evolution of the Earth-Moon system based o...</td>\n",
              "      <td>physics.gen-ph</td>\n",
              "      <td>The evolution of Earth-Moon system is descri...</td>\n",
              "    </tr>\n",
              "    <tr>\n",
              "      <th>3</th>\n",
              "      <td>0704.0004</td>\n",
              "      <td>A determinant of Stirling cycle numbers counts...</td>\n",
              "      <td>math.CO</td>\n",
              "      <td>We show that a determinant of Stirling cycle...</td>\n",
              "    </tr>\n",
              "    <tr>\n",
              "      <th>4</th>\n",
              "      <td>0704.0005</td>\n",
              "      <td>From dyadic $\\Lambda_{\\alpha}$ to $\\Lambda_{\\a...</td>\n",
              "      <td>math.CA math.FA</td>\n",
              "      <td>In this paper we show how to compute the $\\L...</td>\n",
              "    </tr>\n",
              "    <tr>\n",
              "      <th>...</th>\n",
              "      <td>...</td>\n",
              "      <td>...</td>\n",
              "      <td>...</td>\n",
              "      <td>...</td>\n",
              "    </tr>\n",
              "    <tr>\n",
              "      <th>199995</th>\n",
              "      <td>1007.0757</td>\n",
              "      <td>Detectability of large-scale power suppression...</td>\n",
              "      <td>astro-ph.CO gr-qc hep-th</td>\n",
              "      <td>Suppression in primordial power on the Unive...</td>\n",
              "    </tr>\n",
              "    <tr>\n",
              "      <th>199996</th>\n",
              "      <td>1007.0758</td>\n",
              "      <td>Systematic Improvement of Parton Showers with ...</td>\n",
              "      <td>hep-ph hep-ex nucl-th</td>\n",
              "      <td>We carry out a systematic classification and...</td>\n",
              "    </tr>\n",
              "    <tr>\n",
              "      <th>199997</th>\n",
              "      <td>1007.0759</td>\n",
              "      <td>Relaxation dynamics of stochastic long-range i...</td>\n",
              "      <td>cond-mat.stat-mech</td>\n",
              "      <td>Long-range interacting systems, while relaxi...</td>\n",
              "    </tr>\n",
              "    <tr>\n",
              "      <th>199998</th>\n",
              "      <td>1007.0760</td>\n",
              "      <td>Identification of a connection from Cauchy dat...</td>\n",
              "      <td>math.DG math.AP</td>\n",
              "      <td>We consider a connection $\\nabla^X$ on a com...</td>\n",
              "    </tr>\n",
              "    <tr>\n",
              "      <th>199999</th>\n",
              "      <td>1007.0761</td>\n",
              "      <td>Adhesive penetration in Beech wood Part II: Pe...</td>\n",
              "      <td>cond-mat.mtrl-sci</td>\n",
              "      <td>We propose an analytical model to predict th...</td>\n",
              "    </tr>\n",
              "  </tbody>\n",
              "</table>\n",
              "<p>200000 rows × 4 columns</p>\n",
              "</div>"
            ],
            "text/plain": [
              "               id  ...                                           abstract\n",
              "0       0704.0001  ...    A fully differential calculation in perturba...\n",
              "1       0704.0002  ...    We describe a new algorithm, the $(k,\\ell)$-...\n",
              "2       0704.0003  ...    The evolution of Earth-Moon system is descri...\n",
              "3       0704.0004  ...    We show that a determinant of Stirling cycle...\n",
              "4       0704.0005  ...    In this paper we show how to compute the $\\L...\n",
              "...           ...  ...                                                ...\n",
              "199995  1007.0757  ...    Suppression in primordial power on the Unive...\n",
              "199996  1007.0758  ...    We carry out a systematic classification and...\n",
              "199997  1007.0759  ...    Long-range interacting systems, while relaxi...\n",
              "199998  1007.0760  ...    We consider a connection $\\nabla^X$ on a com...\n",
              "199999  1007.0761  ...    We propose an analytical model to predict th...\n",
              "\n",
              "[200000 rows x 4 columns]"
            ]
          },
          "metadata": {
            "tags": []
          },
          "execution_count": 5
        }
      ]
    },
    {
      "cell_type": "markdown",
      "metadata": {
        "id": "6rlXQVbej-2U"
      },
      "source": [
        "### 将标题和摘要拼接一起"
      ]
    },
    {
      "cell_type": "code",
      "metadata": {
        "id": "5VUDzSKYiSyN"
      },
      "source": [
        "data['text'] = data['title'] + data['abstract']"
      ],
      "execution_count": null,
      "outputs": []
    },
    {
      "cell_type": "code",
      "metadata": {
        "colab": {
          "base_uri": "https://localhost:8080/",
          "height": 198
        },
        "id": "o1taGlPOjleT",
        "outputId": "d4be729f-62fb-4e95-dd38-c28e26926684"
      },
      "source": [
        "data.head()"
      ],
      "execution_count": null,
      "outputs": [
        {
          "output_type": "execute_result",
          "data": {
            "text/html": [
              "<div>\n",
              "<style scoped>\n",
              "    .dataframe tbody tr th:only-of-type {\n",
              "        vertical-align: middle;\n",
              "    }\n",
              "\n",
              "    .dataframe tbody tr th {\n",
              "        vertical-align: top;\n",
              "    }\n",
              "\n",
              "    .dataframe thead th {\n",
              "        text-align: right;\n",
              "    }\n",
              "</style>\n",
              "<table border=\"1\" class=\"dataframe\">\n",
              "  <thead>\n",
              "    <tr style=\"text-align: right;\">\n",
              "      <th></th>\n",
              "      <th>id</th>\n",
              "      <th>title</th>\n",
              "      <th>categories</th>\n",
              "      <th>abstract</th>\n",
              "      <th>text</th>\n",
              "    </tr>\n",
              "  </thead>\n",
              "  <tbody>\n",
              "    <tr>\n",
              "      <th>0</th>\n",
              "      <td>0704.0001</td>\n",
              "      <td>Calculation of prompt diphoton production cros...</td>\n",
              "      <td>hep-ph</td>\n",
              "      <td>A fully differential calculation in perturba...</td>\n",
              "      <td>Calculation of prompt diphoton production cros...</td>\n",
              "    </tr>\n",
              "    <tr>\n",
              "      <th>1</th>\n",
              "      <td>0704.0002</td>\n",
              "      <td>Sparsity-certifying Graph Decompositions</td>\n",
              "      <td>math.CO cs.CG</td>\n",
              "      <td>We describe a new algorithm, the $(k,\\ell)$-...</td>\n",
              "      <td>Sparsity-certifying Graph Decompositions  We d...</td>\n",
              "    </tr>\n",
              "    <tr>\n",
              "      <th>2</th>\n",
              "      <td>0704.0003</td>\n",
              "      <td>The evolution of the Earth-Moon system based o...</td>\n",
              "      <td>physics.gen-ph</td>\n",
              "      <td>The evolution of Earth-Moon system is descri...</td>\n",
              "      <td>The evolution of the Earth-Moon system based o...</td>\n",
              "    </tr>\n",
              "    <tr>\n",
              "      <th>3</th>\n",
              "      <td>0704.0004</td>\n",
              "      <td>A determinant of Stirling cycle numbers counts...</td>\n",
              "      <td>math.CO</td>\n",
              "      <td>We show that a determinant of Stirling cycle...</td>\n",
              "      <td>A determinant of Stirling cycle numbers counts...</td>\n",
              "    </tr>\n",
              "    <tr>\n",
              "      <th>4</th>\n",
              "      <td>0704.0005</td>\n",
              "      <td>From dyadic $\\Lambda_{\\alpha}$ to $\\Lambda_{\\a...</td>\n",
              "      <td>math.CA math.FA</td>\n",
              "      <td>In this paper we show how to compute the $\\L...</td>\n",
              "      <td>From dyadic $\\Lambda_{\\alpha}$ to $\\Lambda_{\\a...</td>\n",
              "    </tr>\n",
              "  </tbody>\n",
              "</table>\n",
              "</div>"
            ],
            "text/plain": [
              "          id  ...                                               text\n",
              "0  0704.0001  ...  Calculation of prompt diphoton production cros...\n",
              "1  0704.0002  ...  Sparsity-certifying Graph Decompositions  We d...\n",
              "2  0704.0003  ...  The evolution of the Earth-Moon system based o...\n",
              "3  0704.0004  ...  A determinant of Stirling cycle numbers counts...\n",
              "4  0704.0005  ...  From dyadic $\\Lambda_{\\alpha}$ to $\\Lambda_{\\a...\n",
              "\n",
              "[5 rows x 5 columns]"
            ]
          },
          "metadata": {
            "tags": []
          },
          "execution_count": 7
        }
      ]
    },
    {
      "cell_type": "code",
      "metadata": {
        "id": "X58tGF1HjxP-"
      },
      "source": [
        "data['text'] = data['text'].apply(lambda x: x.replace('\\n',' '))\r\n",
        "data['text'] = data['text'].apply(lambda x: x.lower())\r\n",
        "data = data.drop(['abstract', 'title'], axis=1)"
      ],
      "execution_count": null,
      "outputs": []
    },
    {
      "cell_type": "code",
      "metadata": {
        "colab": {
          "base_uri": "https://localhost:8080/",
          "height": 407
        },
        "id": "go0RJd_Ekc51",
        "outputId": "9b7ef5a2-b3ec-4c5b-bd5a-2c42d05a40fa"
      },
      "source": [
        "data"
      ],
      "execution_count": null,
      "outputs": [
        {
          "output_type": "execute_result",
          "data": {
            "text/html": [
              "<div>\n",
              "<style scoped>\n",
              "    .dataframe tbody tr th:only-of-type {\n",
              "        vertical-align: middle;\n",
              "    }\n",
              "\n",
              "    .dataframe tbody tr th {\n",
              "        vertical-align: top;\n",
              "    }\n",
              "\n",
              "    .dataframe thead th {\n",
              "        text-align: right;\n",
              "    }\n",
              "</style>\n",
              "<table border=\"1\" class=\"dataframe\">\n",
              "  <thead>\n",
              "    <tr style=\"text-align: right;\">\n",
              "      <th></th>\n",
              "      <th>id</th>\n",
              "      <th>categories</th>\n",
              "      <th>text</th>\n",
              "    </tr>\n",
              "  </thead>\n",
              "  <tbody>\n",
              "    <tr>\n",
              "      <th>0</th>\n",
              "      <td>0704.0001</td>\n",
              "      <td>hep-ph</td>\n",
              "      <td>calculation of prompt diphoton production cros...</td>\n",
              "    </tr>\n",
              "    <tr>\n",
              "      <th>1</th>\n",
              "      <td>0704.0002</td>\n",
              "      <td>math.CO cs.CG</td>\n",
              "      <td>sparsity-certifying graph decompositions  we d...</td>\n",
              "    </tr>\n",
              "    <tr>\n",
              "      <th>2</th>\n",
              "      <td>0704.0003</td>\n",
              "      <td>physics.gen-ph</td>\n",
              "      <td>the evolution of the earth-moon system based o...</td>\n",
              "    </tr>\n",
              "    <tr>\n",
              "      <th>3</th>\n",
              "      <td>0704.0004</td>\n",
              "      <td>math.CO</td>\n",
              "      <td>a determinant of stirling cycle numbers counts...</td>\n",
              "    </tr>\n",
              "    <tr>\n",
              "      <th>4</th>\n",
              "      <td>0704.0005</td>\n",
              "      <td>math.CA math.FA</td>\n",
              "      <td>from dyadic $\\lambda_{\\alpha}$ to $\\lambda_{\\a...</td>\n",
              "    </tr>\n",
              "    <tr>\n",
              "      <th>...</th>\n",
              "      <td>...</td>\n",
              "      <td>...</td>\n",
              "      <td>...</td>\n",
              "    </tr>\n",
              "    <tr>\n",
              "      <th>199995</th>\n",
              "      <td>1007.0757</td>\n",
              "      <td>astro-ph.CO gr-qc hep-th</td>\n",
              "      <td>detectability of large-scale power suppression...</td>\n",
              "    </tr>\n",
              "    <tr>\n",
              "      <th>199996</th>\n",
              "      <td>1007.0758</td>\n",
              "      <td>hep-ph hep-ex nucl-th</td>\n",
              "      <td>systematic improvement of parton showers with ...</td>\n",
              "    </tr>\n",
              "    <tr>\n",
              "      <th>199997</th>\n",
              "      <td>1007.0759</td>\n",
              "      <td>cond-mat.stat-mech</td>\n",
              "      <td>relaxation dynamics of stochastic long-range i...</td>\n",
              "    </tr>\n",
              "    <tr>\n",
              "      <th>199998</th>\n",
              "      <td>1007.0760</td>\n",
              "      <td>math.DG math.AP</td>\n",
              "      <td>identification of a connection from cauchy dat...</td>\n",
              "    </tr>\n",
              "    <tr>\n",
              "      <th>199999</th>\n",
              "      <td>1007.0761</td>\n",
              "      <td>cond-mat.mtrl-sci</td>\n",
              "      <td>adhesive penetration in beech wood part ii: pe...</td>\n",
              "    </tr>\n",
              "  </tbody>\n",
              "</table>\n",
              "<p>200000 rows × 3 columns</p>\n",
              "</div>"
            ],
            "text/plain": [
              "               id  ...                                               text\n",
              "0       0704.0001  ...  calculation of prompt diphoton production cros...\n",
              "1       0704.0002  ...  sparsity-certifying graph decompositions  we d...\n",
              "2       0704.0003  ...  the evolution of the earth-moon system based o...\n",
              "3       0704.0004  ...  a determinant of stirling cycle numbers counts...\n",
              "4       0704.0005  ...  from dyadic $\\lambda_{\\alpha}$ to $\\lambda_{\\a...\n",
              "...           ...  ...                                                ...\n",
              "199995  1007.0757  ...  detectability of large-scale power suppression...\n",
              "199996  1007.0758  ...  systematic improvement of parton showers with ...\n",
              "199997  1007.0759  ...  relaxation dynamics of stochastic long-range i...\n",
              "199998  1007.0760  ...  identification of a connection from cauchy dat...\n",
              "199999  1007.0761  ...  adhesive penetration in beech wood part ii: pe...\n",
              "\n",
              "[200000 rows x 3 columns]"
            ]
          },
          "metadata": {
            "tags": []
          },
          "execution_count": 9
        }
      ]
    },
    {
      "cell_type": "markdown",
      "metadata": {
        "id": "FkAkrgHnkZOU"
      },
      "source": [
        "### 处理类别"
      ]
    },
    {
      "cell_type": "code",
      "metadata": {
        "id": "cobYFJkkkXRK"
      },
      "source": [
        "# 多个类别，包含子分类\r\n",
        "data['categories'] = data['categories'].apply(lambda x : x.split(' '))\r\n"
      ],
      "execution_count": null,
      "outputs": []
    },
    {
      "cell_type": "code",
      "metadata": {
        "colab": {
          "base_uri": "https://localhost:8080/",
          "height": 407
        },
        "id": "nzUuut7PlRrX",
        "outputId": "d5e094ea-cdb8-4cdc-9207-942ea872c858"
      },
      "source": [
        "data"
      ],
      "execution_count": null,
      "outputs": [
        {
          "output_type": "execute_result",
          "data": {
            "text/html": [
              "<div>\n",
              "<style scoped>\n",
              "    .dataframe tbody tr th:only-of-type {\n",
              "        vertical-align: middle;\n",
              "    }\n",
              "\n",
              "    .dataframe tbody tr th {\n",
              "        vertical-align: top;\n",
              "    }\n",
              "\n",
              "    .dataframe thead th {\n",
              "        text-align: right;\n",
              "    }\n",
              "</style>\n",
              "<table border=\"1\" class=\"dataframe\">\n",
              "  <thead>\n",
              "    <tr style=\"text-align: right;\">\n",
              "      <th></th>\n",
              "      <th>id</th>\n",
              "      <th>categories</th>\n",
              "      <th>text</th>\n",
              "    </tr>\n",
              "  </thead>\n",
              "  <tbody>\n",
              "    <tr>\n",
              "      <th>0</th>\n",
              "      <td>0704.0001</td>\n",
              "      <td>[hep-ph]</td>\n",
              "      <td>calculation of prompt diphoton production cros...</td>\n",
              "    </tr>\n",
              "    <tr>\n",
              "      <th>1</th>\n",
              "      <td>0704.0002</td>\n",
              "      <td>[math.CO, cs.CG]</td>\n",
              "      <td>sparsity-certifying graph decompositions  we d...</td>\n",
              "    </tr>\n",
              "    <tr>\n",
              "      <th>2</th>\n",
              "      <td>0704.0003</td>\n",
              "      <td>[physics.gen-ph]</td>\n",
              "      <td>the evolution of the earth-moon system based o...</td>\n",
              "    </tr>\n",
              "    <tr>\n",
              "      <th>3</th>\n",
              "      <td>0704.0004</td>\n",
              "      <td>[math.CO]</td>\n",
              "      <td>a determinant of stirling cycle numbers counts...</td>\n",
              "    </tr>\n",
              "    <tr>\n",
              "      <th>4</th>\n",
              "      <td>0704.0005</td>\n",
              "      <td>[math.CA, math.FA]</td>\n",
              "      <td>from dyadic $\\lambda_{\\alpha}$ to $\\lambda_{\\a...</td>\n",
              "    </tr>\n",
              "    <tr>\n",
              "      <th>...</th>\n",
              "      <td>...</td>\n",
              "      <td>...</td>\n",
              "      <td>...</td>\n",
              "    </tr>\n",
              "    <tr>\n",
              "      <th>199995</th>\n",
              "      <td>1007.0757</td>\n",
              "      <td>[astro-ph.CO, gr-qc, hep-th]</td>\n",
              "      <td>detectability of large-scale power suppression...</td>\n",
              "    </tr>\n",
              "    <tr>\n",
              "      <th>199996</th>\n",
              "      <td>1007.0758</td>\n",
              "      <td>[hep-ph, hep-ex, nucl-th]</td>\n",
              "      <td>systematic improvement of parton showers with ...</td>\n",
              "    </tr>\n",
              "    <tr>\n",
              "      <th>199997</th>\n",
              "      <td>1007.0759</td>\n",
              "      <td>[cond-mat.stat-mech]</td>\n",
              "      <td>relaxation dynamics of stochastic long-range i...</td>\n",
              "    </tr>\n",
              "    <tr>\n",
              "      <th>199998</th>\n",
              "      <td>1007.0760</td>\n",
              "      <td>[math.DG, math.AP]</td>\n",
              "      <td>identification of a connection from cauchy dat...</td>\n",
              "    </tr>\n",
              "    <tr>\n",
              "      <th>199999</th>\n",
              "      <td>1007.0761</td>\n",
              "      <td>[cond-mat.mtrl-sci]</td>\n",
              "      <td>adhesive penetration in beech wood part ii: pe...</td>\n",
              "    </tr>\n",
              "  </tbody>\n",
              "</table>\n",
              "<p>200000 rows × 3 columns</p>\n",
              "</div>"
            ],
            "text/plain": [
              "               id  ...                                               text\n",
              "0       0704.0001  ...  calculation of prompt diphoton production cros...\n",
              "1       0704.0002  ...  sparsity-certifying graph decompositions  we d...\n",
              "2       0704.0003  ...  the evolution of the earth-moon system based o...\n",
              "3       0704.0004  ...  a determinant of stirling cycle numbers counts...\n",
              "4       0704.0005  ...  from dyadic $\\lambda_{\\alpha}$ to $\\lambda_{\\a...\n",
              "...           ...  ...                                                ...\n",
              "199995  1007.0757  ...  detectability of large-scale power suppression...\n",
              "199996  1007.0758  ...  systematic improvement of parton showers with ...\n",
              "199997  1007.0759  ...  relaxation dynamics of stochastic long-range i...\n",
              "199998  1007.0760  ...  identification of a connection from cauchy dat...\n",
              "199999  1007.0761  ...  adhesive penetration in beech wood part ii: pe...\n",
              "\n",
              "[200000 rows x 3 columns]"
            ]
          },
          "metadata": {
            "tags": []
          },
          "execution_count": 11
        }
      ]
    },
    {
      "cell_type": "code",
      "metadata": {
        "id": "jpmMYmOrvEZ4"
      },
      "source": [
        "# 单个类别，不包含子分类\r\n",
        "data['categories_big'] = data['categories'].apply(lambda x : [xx.split('.')[0] for xx in x])"
      ],
      "execution_count": null,
      "outputs": []
    },
    {
      "cell_type": "code",
      "metadata": {
        "colab": {
          "base_uri": "https://localhost:8080/",
          "height": 407
        },
        "id": "rz58BEAHvR_d",
        "outputId": "797657d0-927a-4add-c455-3118b70c9b5d"
      },
      "source": [
        "data"
      ],
      "execution_count": null,
      "outputs": [
        {
          "output_type": "execute_result",
          "data": {
            "text/html": [
              "<div>\n",
              "<style scoped>\n",
              "    .dataframe tbody tr th:only-of-type {\n",
              "        vertical-align: middle;\n",
              "    }\n",
              "\n",
              "    .dataframe tbody tr th {\n",
              "        vertical-align: top;\n",
              "    }\n",
              "\n",
              "    .dataframe thead th {\n",
              "        text-align: right;\n",
              "    }\n",
              "</style>\n",
              "<table border=\"1\" class=\"dataframe\">\n",
              "  <thead>\n",
              "    <tr style=\"text-align: right;\">\n",
              "      <th></th>\n",
              "      <th>id</th>\n",
              "      <th>categories</th>\n",
              "      <th>text</th>\n",
              "      <th>categories_big</th>\n",
              "    </tr>\n",
              "  </thead>\n",
              "  <tbody>\n",
              "    <tr>\n",
              "      <th>0</th>\n",
              "      <td>0704.0001</td>\n",
              "      <td>[hep-ph]</td>\n",
              "      <td>calculation of prompt diphoton production cros...</td>\n",
              "      <td>[hep-ph]</td>\n",
              "    </tr>\n",
              "    <tr>\n",
              "      <th>1</th>\n",
              "      <td>0704.0002</td>\n",
              "      <td>[math.CO, cs.CG]</td>\n",
              "      <td>sparsity-certifying graph decompositions  we d...</td>\n",
              "      <td>[math, cs]</td>\n",
              "    </tr>\n",
              "    <tr>\n",
              "      <th>2</th>\n",
              "      <td>0704.0003</td>\n",
              "      <td>[physics.gen-ph]</td>\n",
              "      <td>the evolution of the earth-moon system based o...</td>\n",
              "      <td>[physics]</td>\n",
              "    </tr>\n",
              "    <tr>\n",
              "      <th>3</th>\n",
              "      <td>0704.0004</td>\n",
              "      <td>[math.CO]</td>\n",
              "      <td>a determinant of stirling cycle numbers counts...</td>\n",
              "      <td>[math]</td>\n",
              "    </tr>\n",
              "    <tr>\n",
              "      <th>4</th>\n",
              "      <td>0704.0005</td>\n",
              "      <td>[math.CA, math.FA]</td>\n",
              "      <td>from dyadic $\\lambda_{\\alpha}$ to $\\lambda_{\\a...</td>\n",
              "      <td>[math, math]</td>\n",
              "    </tr>\n",
              "    <tr>\n",
              "      <th>...</th>\n",
              "      <td>...</td>\n",
              "      <td>...</td>\n",
              "      <td>...</td>\n",
              "      <td>...</td>\n",
              "    </tr>\n",
              "    <tr>\n",
              "      <th>199995</th>\n",
              "      <td>1007.0757</td>\n",
              "      <td>[astro-ph.CO, gr-qc, hep-th]</td>\n",
              "      <td>detectability of large-scale power suppression...</td>\n",
              "      <td>[astro-ph, gr-qc, hep-th]</td>\n",
              "    </tr>\n",
              "    <tr>\n",
              "      <th>199996</th>\n",
              "      <td>1007.0758</td>\n",
              "      <td>[hep-ph, hep-ex, nucl-th]</td>\n",
              "      <td>systematic improvement of parton showers with ...</td>\n",
              "      <td>[hep-ph, hep-ex, nucl-th]</td>\n",
              "    </tr>\n",
              "    <tr>\n",
              "      <th>199997</th>\n",
              "      <td>1007.0759</td>\n",
              "      <td>[cond-mat.stat-mech]</td>\n",
              "      <td>relaxation dynamics of stochastic long-range i...</td>\n",
              "      <td>[cond-mat]</td>\n",
              "    </tr>\n",
              "    <tr>\n",
              "      <th>199998</th>\n",
              "      <td>1007.0760</td>\n",
              "      <td>[math.DG, math.AP]</td>\n",
              "      <td>identification of a connection from cauchy dat...</td>\n",
              "      <td>[math, math]</td>\n",
              "    </tr>\n",
              "    <tr>\n",
              "      <th>199999</th>\n",
              "      <td>1007.0761</td>\n",
              "      <td>[cond-mat.mtrl-sci]</td>\n",
              "      <td>adhesive penetration in beech wood part ii: pe...</td>\n",
              "      <td>[cond-mat]</td>\n",
              "    </tr>\n",
              "  </tbody>\n",
              "</table>\n",
              "<p>200000 rows × 4 columns</p>\n",
              "</div>"
            ],
            "text/plain": [
              "               id  ...             categories_big\n",
              "0       0704.0001  ...                   [hep-ph]\n",
              "1       0704.0002  ...                 [math, cs]\n",
              "2       0704.0003  ...                  [physics]\n",
              "3       0704.0004  ...                     [math]\n",
              "4       0704.0005  ...               [math, math]\n",
              "...           ...  ...                        ...\n",
              "199995  1007.0757  ...  [astro-ph, gr-qc, hep-th]\n",
              "199996  1007.0758  ...  [hep-ph, hep-ex, nucl-th]\n",
              "199997  1007.0759  ...                 [cond-mat]\n",
              "199998  1007.0760  ...               [math, math]\n",
              "199999  1007.0761  ...                 [cond-mat]\n",
              "\n",
              "[200000 rows x 4 columns]"
            ]
          },
          "metadata": {
            "tags": []
          },
          "execution_count": 13
        }
      ]
    },
    {
      "cell_type": "markdown",
      "metadata": {
        "id": "_-r7Jtdklqsk"
      },
      "source": [
        "使用sklearn对类别进行编码"
      ]
    },
    {
      "cell_type": "code",
      "metadata": {
        "id": "sX-OaUhHlmKq"
      },
      "source": [
        "from sklearn.preprocessing import MultiLabelBinarizer\r\n",
        "mlb = MultiLabelBinarizer()\r\n",
        "data_label = mlb.fit_transform(data['categories_big'].iloc[:])"
      ],
      "execution_count": null,
      "outputs": []
    },
    {
      "cell_type": "code",
      "metadata": {
        "colab": {
          "base_uri": "https://localhost:8080/"
        },
        "id": "OFMBK-2UmaWN",
        "outputId": "a60840b3-88c3-4bab-bd11-51a395a06015"
      },
      "source": [
        "data_label"
      ],
      "execution_count": null,
      "outputs": [
        {
          "output_type": "execute_result",
          "data": {
            "text/plain": [
              "array([[0, 0, 0, ..., 0, 0, 0],\n",
              "       [0, 0, 1, ..., 0, 0, 0],\n",
              "       [0, 0, 0, ..., 0, 0, 0],\n",
              "       ...,\n",
              "       [0, 1, 0, ..., 0, 0, 0],\n",
              "       [0, 0, 0, ..., 0, 0, 0],\n",
              "       [0, 1, 0, ..., 0, 0, 0]])"
            ]
          },
          "metadata": {
            "tags": []
          },
          "execution_count": 15
        }
      ]
    },
    {
      "cell_type": "markdown",
      "metadata": {
        "id": "vSBy1bZZoGDe"
      },
      "source": [
        "方法一\r\n",
        "使用TFIDF提取特征，限制最多4000个单词：<br>\r\n",
        "1.datawhale 教程方法"
      ]
    },
    {
      "cell_type": "code",
      "metadata": {
        "id": "iR7SDzfRoFVc"
      },
      "source": [
        "from sklearn.feature_extraction.text import TfidfVectorizer\r\n",
        "vectorizer = TfidfVectorizer(max_features=4000)\r\n",
        "data_tfidf = vectorizer.fit_transform(data['text'].iloc[:])"
      ],
      "execution_count": null,
      "outputs": []
    },
    {
      "cell_type": "code",
      "metadata": {
        "id": "nywd20kaqDfZ"
      },
      "source": [
        "# 划分训练集和验证集\r\n",
        "from sklearn.model_selection import train_test_split\r\n",
        "x_train, x_test, y_train, y_test = train_test_split(data_tfidf, data_label,test_size = 0.2,random_state = 16)"
      ],
      "execution_count": null,
      "outputs": []
    },
    {
      "cell_type": "markdown",
      "metadata": {
        "id": "FudM2Xu__qhg"
      },
      "source": [
        "TF-IDF+ 朴素贝叶斯"
      ]
    },
    {
      "cell_type": "code",
      "metadata": {
        "id": "js_pOPwYqjBl"
      },
      "source": [
        "# 用sklearn构建多标签分类模型\r\n",
        "from sklearn.multioutput import MultiOutputClassifier\r\n",
        "from sklearn.naive_bayes import MultinomialNB  # 朴素贝叶斯多分类器\r\n",
        "clf = MultiOutputClassifier(MultinomialNB()).fit(x_train, y_train)"
      ],
      "execution_count": null,
      "outputs": []
    },
    {
      "cell_type": "code",
      "metadata": {
        "colab": {
          "base_uri": "https://localhost:8080/"
        },
        "id": "8eM_8a8sq797",
        "outputId": "723c9ab8-f3e4-4562-822c-1e810edec286"
      },
      "source": [
        "from sklearn.metrics import accuracy_score\r\n",
        "##计算模型的准确率\r\n",
        "print(clf.score(x_train,y_train))\r\n",
        "print('训练数据集准确率',accuracy_score(y_train,clf.predict(x_train)))\r\n",
        "print(clf.score(x_test,y_test))\r\n",
        "print('测试集准确率',accuracy_score(y_test,clf.predict(x_test)))"
      ],
      "execution_count": null,
      "outputs": [
        {
          "output_type": "stream",
          "text": [
            "0.57288125\n",
            "训练数据集准确率 0.57288125\n",
            "0.56925\n",
            "测试集准确率 0.56925\n"
          ],
          "name": "stdout"
        }
      ]
    },
    {
      "cell_type": "code",
      "metadata": {
        "colab": {
          "base_uri": "https://localhost:8080/"
        },
        "id": "uHdvRIIWrhSq",
        "outputId": "bd9c47c5-7f7c-424f-cd18-bbee1b1cb7ed"
      },
      "source": [
        "from sklearn.metrics import classification_report\r\n",
        "print(classification_report(y_test, clf.predict(x_test)))"
      ],
      "execution_count": null,
      "outputs": [
        {
          "output_type": "stream",
          "text": [
            "              precision    recall  f1-score   support\n",
            "\n",
            "           0       0.95      0.84      0.90      7756\n",
            "           1       0.85      0.79      0.82      7392\n",
            "           2       0.75      0.73      0.74      2891\n",
            "           3       0.00      0.00      0.00         1\n",
            "           4       0.72      0.48      0.57      2128\n",
            "           5       0.47      0.67      0.55       905\n",
            "           6       0.93      0.36      0.52       563\n",
            "           7       0.71      0.68      0.69      3601\n",
            "           8       0.75      0.60      0.67      3425\n",
            "           9       0.85      0.88      0.87     10945\n",
            "          10       0.46      0.12      0.19      1835\n",
            "          11       0.79      0.05      0.10       724\n",
            "          12       0.47      0.37      0.41       523\n",
            "          13       0.55      0.37      0.44      1103\n",
            "          14       0.67      0.14      0.23      3392\n",
            "          15       0.77      0.17      0.27       653\n",
            "          16       0.91      0.16      0.27       260\n",
            "          17       0.89      0.43      0.58      2597\n",
            "          18       0.81      0.40      0.54       686\n",
            "\n",
            "   micro avg       0.81      0.65      0.72     51380\n",
            "   macro avg       0.70      0.43      0.49     51380\n",
            "weighted avg       0.80      0.65      0.69     51380\n",
            " samples avg       0.72      0.72      0.70     51380\n",
            "\n"
          ],
          "name": "stdout"
        },
        {
          "output_type": "stream",
          "text": [
            "/usr/local/lib/python3.6/dist-packages/sklearn/metrics/_classification.py:1272: UndefinedMetricWarning: Precision and F-score are ill-defined and being set to 0.0 in labels with no predicted samples. Use `zero_division` parameter to control this behavior.\n",
            "  _warn_prf(average, modifier, msg_start, len(result))\n",
            "/usr/local/lib/python3.6/dist-packages/sklearn/metrics/_classification.py:1272: UndefinedMetricWarning: Precision and F-score are ill-defined and being set to 0.0 in samples with no predicted labels. Use `zero_division` parameter to control this behavior.\n",
            "  _warn_prf(average, modifier, msg_start, len(result))\n"
          ],
          "name": "stderr"
        }
      ]
    },
    {
      "cell_type": "markdown",
      "metadata": {
        "id": "5qNPxzIO-Q64"
      },
      "source": [
        "## TF-IDF+LR"
      ]
    },
    {
      "cell_type": "code",
      "metadata": {
        "id": "hb6xSn8O2yW_"
      },
      "source": [
        "from sklearn.multiclass import OneVsRestClassifier\r\n",
        "from sklearn.linear_model import LogisticRegression\r\n",
        "clf1 = OneVsRestClassifier(LogisticRegression(),n_jobs=-1).fit(x_train, y_train)"
      ],
      "execution_count": null,
      "outputs": []
    },
    {
      "cell_type": "code",
      "metadata": {
        "colab": {
          "base_uri": "https://localhost:8080/"
        },
        "id": "jONtpfMM5avb",
        "outputId": "b71c9212-a33d-41c1-f42c-576b8b6650da"
      },
      "source": [
        "##计算模型的准确率\r\n",
        "print(clf1.score(x_train,y_train))\r\n",
        "print('训练数据集准确率(KNN)',accuracy_score(y_train,clf1.predict(x_train)))\r\n",
        "print(clf1.score(x_test,y_test))\r\n",
        "print('测试集准确率(KNN)',accuracy_score(y_test,clf1.predict(x_test)))"
      ],
      "execution_count": null,
      "outputs": [
        {
          "output_type": "stream",
          "text": [
            "0.66745\n",
            "训练数据集准确率(KNN) 0.66745\n",
            "0.64945\n",
            "测试集准确率(KNN) 0.64945\n"
          ],
          "name": "stdout"
        }
      ]
    },
    {
      "cell_type": "code",
      "metadata": {
        "colab": {
          "base_uri": "https://localhost:8080/"
        },
        "id": "MNZJEJ5O9v_s",
        "outputId": "1202c614-3195-4379-e53f-330df0bd0af7"
      },
      "source": [
        "print(classification_report(y_test, clf1.predict(x_test)))"
      ],
      "execution_count": null,
      "outputs": [
        {
          "output_type": "stream",
          "text": [
            "              precision    recall  f1-score   support\n",
            "\n",
            "           0       0.95      0.89      0.92      7756\n",
            "           1       0.90      0.82      0.86      7392\n",
            "           2       0.86      0.71      0.78      2891\n",
            "           3       0.00      0.00      0.00         1\n",
            "           4       0.77      0.58      0.66      2128\n",
            "           5       0.80      0.51      0.63       905\n",
            "           6       0.90      0.58      0.71       563\n",
            "           7       0.83      0.68      0.75      3601\n",
            "           8       0.81      0.61      0.69      3425\n",
            "           9       0.91      0.88      0.90     10945\n",
            "          10       0.57      0.12      0.20      1835\n",
            "          11       0.70      0.22      0.33       724\n",
            "          12       0.67      0.34      0.46       523\n",
            "          13       0.80      0.46      0.59      1103\n",
            "          14       0.69      0.35      0.47      3392\n",
            "          15       0.79      0.39      0.52       653\n",
            "          16       0.88      0.40      0.55       260\n",
            "          17       0.86      0.63      0.73      2597\n",
            "          18       0.84      0.48      0.61       686\n",
            "\n",
            "   micro avg       0.87      0.70      0.78     51380\n",
            "   macro avg       0.77      0.51      0.60     51380\n",
            "weighted avg       0.85      0.70      0.76     51380\n",
            " samples avg       0.80      0.77      0.77     51380\n",
            "\n"
          ],
          "name": "stdout"
        },
        {
          "output_type": "stream",
          "text": [
            "/usr/local/lib/python3.6/dist-packages/sklearn/metrics/_classification.py:1272: UndefinedMetricWarning: Precision and F-score are ill-defined and being set to 0.0 in labels with no predicted samples. Use `zero_division` parameter to control this behavior.\n",
            "  _warn_prf(average, modifier, msg_start, len(result))\n",
            "/usr/local/lib/python3.6/dist-packages/sklearn/metrics/_classification.py:1272: UndefinedMetricWarning: Precision and F-score are ill-defined and being set to 0.0 in samples with no predicted labels. Use `zero_division` parameter to control this behavior.\n",
            "  _warn_prf(average, modifier, msg_start, len(result))\n"
          ],
          "name": "stderr"
        }
      ]
    },
    {
      "cell_type": "markdown",
      "metadata": {
        "id": "XWUuSP5a_AVE"
      },
      "source": [
        "## TF-IDF+线性支持向量机 \r\n",
        "svc"
      ]
    },
    {
      "cell_type": "code",
      "metadata": {
        "id": "H8XXuq57-yDg"
      },
      "source": [
        "from sklearn.svm import LinearSVC\r\n",
        "clf2 = OneVsRestClassifier(LinearSVC(), n_jobs=1).fit(x_train, y_train)"
      ],
      "execution_count": null,
      "outputs": []
    },
    {
      "cell_type": "code",
      "metadata": {
        "colab": {
          "base_uri": "https://localhost:8080/"
        },
        "id": "yEiLyARn-6ku",
        "outputId": "a365d3b6-46b9-4e68-940e-6ac62835301a"
      },
      "source": [
        "##计算模型的准确率\r\n",
        "print(clf2.score(x_train,y_train))\r\n",
        "print('训练数据集准确率(KNN)',accuracy_score(y_train,clf2.predict(x_train)))\r\n",
        "print(clf2.score(x_test,y_test))\r\n",
        "print('测试集准确率(KNN)',accuracy_score(y_test,clf2.predict(x_test)))"
      ],
      "execution_count": null,
      "outputs": [
        {
          "output_type": "stream",
          "text": [
            "0.70023125\n",
            "训练数据集准确率(KNN) 0.70023125\n",
            "0.66015\n",
            "测试集准确率(KNN) 0.66015\n"
          ],
          "name": "stdout"
        }
      ]
    },
    {
      "cell_type": "code",
      "metadata": {
        "colab": {
          "base_uri": "https://localhost:8080/"
        },
        "id": "0BFs-mTmCgvr",
        "outputId": "ed631ddf-ec61-42da-daa5-04e72b3fda2d"
      },
      "source": [
        "print(classification_report(y_test, clf1.predict(x_test)))"
      ],
      "execution_count": null,
      "outputs": [
        {
          "output_type": "stream",
          "text": [
            "              precision    recall  f1-score   support\n",
            "\n",
            "           0       0.95      0.89      0.92      7756\n",
            "           1       0.90      0.82      0.86      7392\n",
            "           2       0.86      0.71      0.78      2891\n",
            "           3       0.00      0.00      0.00         1\n",
            "           4       0.77      0.58      0.66      2128\n",
            "           5       0.80      0.51      0.63       905\n",
            "           6       0.90      0.58      0.71       563\n",
            "           7       0.83      0.68      0.75      3601\n",
            "           8       0.81      0.61      0.69      3425\n",
            "           9       0.91      0.88      0.90     10945\n",
            "          10       0.57      0.12      0.20      1835\n",
            "          11       0.70      0.22      0.33       724\n",
            "          12       0.67      0.34      0.46       523\n",
            "          13       0.80      0.46      0.59      1103\n",
            "          14       0.69      0.35      0.47      3392\n",
            "          15       0.79      0.39      0.52       653\n",
            "          16       0.88      0.40      0.55       260\n",
            "          17       0.86      0.63      0.73      2597\n",
            "          18       0.84      0.48      0.61       686\n",
            "\n",
            "   micro avg       0.87      0.70      0.78     51380\n",
            "   macro avg       0.77      0.51      0.60     51380\n",
            "weighted avg       0.85      0.70      0.76     51380\n",
            " samples avg       0.80      0.77      0.77     51380\n",
            "\n"
          ],
          "name": "stdout"
        },
        {
          "output_type": "stream",
          "text": [
            "/usr/local/lib/python3.6/dist-packages/sklearn/metrics/_classification.py:1272: UndefinedMetricWarning: Precision and F-score are ill-defined and being set to 0.0 in labels with no predicted samples. Use `zero_division` parameter to control this behavior.\n",
            "  _warn_prf(average, modifier, msg_start, len(result))\n",
            "/usr/local/lib/python3.6/dist-packages/sklearn/metrics/_classification.py:1272: UndefinedMetricWarning: Precision and F-score are ill-defined and being set to 0.0 in samples with no predicted labels. Use `zero_division` parameter to control this behavior.\n",
            "  _warn_prf(average, modifier, msg_start, len(result))\n"
          ],
          "name": "stderr"
        }
      ]
    },
    {
      "cell_type": "code",
      "metadata": {
        "colab": {
          "base_uri": "https://localhost:8080/",
          "height": 592
        },
        "id": "zz1NaoFgDCrp",
        "outputId": "2b3c376a-9575-4ec8-8bbc-10380fdfe4a2"
      },
      "source": [
        "import numpy as np\r\n",
        "\r\n",
        "plt.figure(figsize=(15, 10), facecolor='w')\r\n",
        "x = np.arange(3)\r\n",
        "training_acc = [clf.score(x_train,y_train),clf1.score(x_train,y_train),clf2.score(x_train,y_train)]\r\n",
        "test_acc = [clf.score(x_test,y_test),clf1.score(x_test,y_test),clf2.score(x_test,y_test)]\r\n",
        "clf_names = [\"TF-IDF+naive_bayes\",\"TF-IDF+LR\",\"TF-IDF+ LinearSVC\"]\r\n",
        "ax = plt.axes()\r\n",
        "b0 = ax.bar(x+0.1, training_acc, width=0.2, color='#77E0A0')\r\n",
        "b1 = ax.bar(x+0.3, test_acc, width=0.2, color='#8800FF')\r\n",
        "plt.xticks(x+0.2, clf_names)\r\n",
        "plt.legend([b0[0], b1[0]], (u'Training set acc', u'test set acc'), loc='upper left', shadow=True)\r\n",
        "plt.show()"
      ],
      "execution_count": null,
      "outputs": [
        {
          "output_type": "display_data",
          "data": {
            "image/png": "[encoded data removed]",
            "text/plain": [
              "<Figure size 1080x720 with 1 Axes>"
            ]
          },
          "metadata": {
            "tags": []
          }
        }
      ]
    },
    {
      "cell_type": "markdown",
      "metadata": {
        "id": "DHhAa9tYaCbR"
      },
      "source": [
        "## 方法2 深度学习"
      ]
    },
    {
      "cell_type": "code",
      "metadata": {
        "id": "bH_HcAo7aeYP"
      },
      "source": [
        "# parameter\r\n",
        "max_features= 500\r\n",
        "max_len= 150\r\n",
        "embed_size=100\r\n",
        "batch_size = 32\r\n",
        "epochs = 5\r\n",
        "\r\n",
        "from keras.preprocessing.text import Tokenizer\r\n",
        "from keras.preprocessing import sequence\r\n",
        "\r\n"
      ],
      "execution_count": 62,
      "outputs": []
    },
    {
      "cell_type": "code",
      "metadata": {
        "id": "-XR5OaPGatvu"
      },
      "source": [
        "tokens = Tokenizer(num_words = max_features)\r\n",
        "tokens.fit_on_texts(list(data['text']))\r\n",
        "y_train = data_label\r\n",
        "#y_test = data_label[180000:]\r\n",
        "x_sub_train = tokens.texts_to_sequences(data['text'])\r\n",
        "x_sub_train = sequence.pad_sequences(x_sub_train, maxlen=max_len)\r\n",
        "# x_sub_test = tokens.texts_to_sequences(data['text'].iloc[180000:])\r\n",
        "# x_sub_test = sequence.pad_sequences(x_sub_test, maxlen=max_len)"
      ],
      "execution_count": 69,
      "outputs": []
    },
    {
      "cell_type": "code",
      "metadata": {
        "colab": {
          "base_uri": "https://localhost:8080/"
        },
        "id": "0HQsBkwtbV37",
        "outputId": "43fb6ac0-b817-4c2d-9c6f-88830bb64a99"
      },
      "source": [
        "# LSTM model\r\n",
        "# Keras Layers:\r\n",
        "from keras.layers import Dense,Input,LSTM,Bidirectional,Activation,Conv1D,GRU\r\n",
        "from keras.layers import Dropout,Embedding,GlobalMaxPooling1D, MaxPooling1D, Add, Flatten\r\n",
        "from keras.layers import GlobalAveragePooling1D, GlobalMaxPooling1D, concatenate, SpatialDropout1D# Keras Callback Functions:\r\n",
        "from keras.callbacks import Callback\r\n",
        "from keras.callbacks import EarlyStopping,ModelCheckpoint\r\n",
        "from keras import initializers, regularizers, constraints, optimizers, layers, callbacks\r\n",
        "from keras.models import Model\r\n",
        "from keras.optimizers import Adam\r\n",
        "\r\n",
        "sequence_input = Input(shape=(max_len, ))\r\n",
        "x = Embedding(max_features, embed_size, trainable=True)(sequence_input)\r\n",
        "x = SpatialDropout1D(0.2)(x)\r\n",
        "x = Bidirectional(GRU(128, return_sequences=True,dropout=0.1,recurrent_dropout=0.1))(x)\r\n",
        "x = Conv1D(64, kernel_size = 3, padding = \"valid\", kernel_initializer = \"glorot_uniform\")(x)\r\n",
        "avg_pool = GlobalAveragePooling1D()(x)\r\n",
        "max_pool = GlobalMaxPooling1D()(x)\r\n",
        "x = concatenate([avg_pool, max_pool]) \r\n",
        "preds = Dense(19, activation=\"sigmoid\")(x)\r\n",
        "\r\n",
        "model = Model(sequence_input, preds)\r\n",
        "model.compile(loss='binary_crossentropy',optimizer=Adam(lr=1e-3),metrics=['accuracy'])\r\n",
        "model.fit(x_sub_train, y_train, \r\n",
        "          batch_size=batch_size, \r\n",
        "          validation_split=0.2,\r\n",
        "          epochs=epochs)"
      ],
      "execution_count": 70,
      "outputs": [
        {
          "output_type": "stream",
          "text": [
            "Epoch 1/5\n",
            "5000/5000 [==============================] - 3203s 640ms/step - loss: 0.1422 - accuracy: 0.5925 - val_loss: 0.1050 - val_accuracy: 0.7135\n",
            "Epoch 2/5\n",
            "5000/5000 [==============================] - 3242s 648ms/step - loss: 0.0989 - accuracy: 0.7089 - val_loss: 0.0991 - val_accuracy: 0.7290\n",
            "Epoch 3/5\n",
            "5000/5000 [==============================] - 3205s 641ms/step - loss: 0.0929 - accuracy: 0.7241 - val_loss: 0.0983 - val_accuracy: 0.7237\n",
            "Epoch 4/5\n",
            "5000/5000 [==============================] - 3224s 645ms/step - loss: 0.0900 - accuracy: 0.7309 - val_loss: 0.0959 - val_accuracy: 0.7329\n",
            "Epoch 5/5\n",
            "5000/5000 [==============================] - 3158s 632ms/step - loss: 0.0865 - accuracy: 0.7400 - val_loss: 0.0950 - val_accuracy: 0.7336\n"
          ],
          "name": "stdout"
        },
        {
          "output_type": "execute_result",
          "data": {
            "text/plain": [
              "<tensorflow.python.keras.callbacks.History at 0x7f74a58f7358>"
            ]
          },
          "metadata": {
            "tags": []
          },
          "execution_count": 70
        }
      ]
    }
  ]
}