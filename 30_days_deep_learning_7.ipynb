{
  "nbformat": 4,
  "nbformat_minor": 0,
  "metadata": {
    "colab": {
      "name": "30_days_deep_learning_7.ipynb",
      "provenance": [],
      "authorship_tag": "ABX9TyPX+0sN7PBDYOd2TbjeIiGG",
      "include_colab_link": true
    },
    "kernelspec": {
      "name": "python3",
      "display_name": "Python 3"
    }
  },
  "cells": [
    {
      "cell_type": "markdown",
      "metadata": {
        "id": "view-in-github",
        "colab_type": "text"
      },
      "source": [
        "<a href=\"https://colab.research.google.com/github/Allen123321/DEMO-DL/blob/master/30_days_deep_learning_7.ipynb\" target=\"_parent\"><img src=\"https://colab.research.google.com/assets/colab-badge.svg\" alt=\"Open In Colab\"/></a>"
      ]
    },
    {
      "cell_type": "markdown",
      "metadata": {
        "id": "5k3nBd2Mmet1"
      },
      "source": [
        "自动微分机制\r\n",
        "\r\n",
        "神经网络通常依赖反向传播求梯度来更新网络参数，求梯度过程通常是一件非常复杂而容易出错的事情。\r\n",
        "\r\n",
        "而深度学习框架可以帮助我们自动地完成这种求梯度运算。\r\n",
        "\r\n",
        "Tensorflow一般使用梯度磁带tf.GradientTape来记录正向运算过程，然后反播磁带自动得到梯度值。\r\n",
        "\r\n",
        "这种利用tf.GradientTape求微分的方法叫做Tensorflow的自动微分机制。\r\n",
        "\r\n",
        "\r\n"
      ]
    },
    {
      "cell_type": "code",
      "metadata": {
        "colab": {
          "base_uri": "https://localhost:8080/"
        },
        "id": "pL-9ETIUmVx2",
        "outputId": "b1a1ee58-a4f9-45e4-9903-855aab61e921"
      },
      "source": [
        "# 一，利用梯度磁带求导数\r\n",
        "import tensorflow as tf\r\n",
        "import numpy as np\r\n",
        "\r\n",
        "x = tf.Variable(0.0,name = \"x\", dtype = tf.float32)\r\n",
        "a = tf.constant(1.0)\r\n",
        "b = tf.constant(-2.0)\r\n",
        "c = tf.constant(1.0)\r\n",
        "\r\n",
        "with tf.GradientTape() as tape:\r\n",
        "  y = a*tf.pow(x,2) + b*x + c\r\n",
        "\r\n",
        "dy_dx = tape.gradient(y,x)\r\n",
        "print(dy_dx)"
      ],
      "execution_count": 1,
      "outputs": [
        {
          "output_type": "stream",
          "text": [
            "tf.Tensor(-2.0, shape=(), dtype=float32)\n"
          ],
          "name": "stdout"
        }
      ]
    },
    {
      "cell_type": "code",
      "metadata": {
        "colab": {
          "base_uri": "https://localhost:8080/"
        },
        "id": "EszfN7N5tBFQ",
        "outputId": "d7cdc20b-6264-4d31-92a3-d454b275cf36"
      },
      "source": [
        "# 对常量张量也可以求导，需要增加watch\r\n",
        "\r\n",
        "with tf.GradientTape() as tape:\r\n",
        "  tape.watch([a,b,c])\r\n",
        "  y = a*tf.pow(x,2) + b*x +c\r\n",
        "\r\n",
        "dy_dx,dy_da,dy_db,dy_dc = tape.gradient(y,[x,a,b,c])\r\n",
        "print(dy_da)\r\n",
        "print(dy_dc)\r\n"
      ],
      "execution_count": 2,
      "outputs": [
        {
          "output_type": "stream",
          "text": [
            "tf.Tensor(0.0, shape=(), dtype=float32)\n",
            "tf.Tensor(1.0, shape=(), dtype=float32)\n"
          ],
          "name": "stdout"
        }
      ]
    },
    {
      "cell_type": "code",
      "metadata": {
        "colab": {
          "base_uri": "https://localhost:8080/"
        },
        "id": "ik7LDx9Itiys",
        "outputId": "15a18b26-a4a1-4f5d-e341-198ebae0627c"
      },
      "source": [
        "# 可以求二阶导数\r\n",
        "with tf.GradientTape() as tape2:\r\n",
        "  with tf.GradientTape() as tape1:\r\n",
        "    y = a * tf.pow(x,2) + b*x +c\r\n",
        "  dy_dx = tape1.gradient(y,x)\r\n",
        "dy2_dx2 = tape2.gradient(dy_dx,x)\r\n",
        "\r\n",
        "\r\n",
        "print(dy2_dx2)"
      ],
      "execution_count": 3,
      "outputs": [
        {
          "output_type": "stream",
          "text": [
            "tf.Tensor(2.0, shape=(), dtype=float32)\n"
          ],
          "name": "stdout"
        }
      ]
    },
    {
      "cell_type": "code",
      "metadata": {
        "colab": {
          "base_uri": "https://localhost:8080/"
        },
        "id": "UIv9OEOjuf0a",
        "outputId": "2fde2b9f-d99f-45f5-83be-a21f9725212a"
      },
      "source": [
        "# 可以在autograph中使用\r\n",
        "\r\n",
        "@tf.function\r\n",
        "def f(x):\r\n",
        "  a = tf.constant(1.0)\r\n",
        "  b = tf.constant(-2.0)\r\n",
        "  c = tf.constant(1.0)\r\n",
        "\r\n",
        "  # 自变量转换成tf.float32\r\n",
        "  x = tf.cast(x,tf.float32)\r\n",
        "  with tf.GradientTape() as tape:\r\n",
        "    tape.watch(x)\r\n",
        "    y = a*tf.pow(x,2) + b*x + c\r\n",
        "\r\n",
        "  dy_dx = tape.gradient(y,x)\r\n",
        "\r\n",
        "  return ((dy_dx,y))\r\n",
        "\r\n",
        "\r\n",
        "tf.print(f(tf.constant(0.0)))\r\n",
        "tf.print(f(tf.constant(1.0)))"
      ],
      "execution_count": 4,
      "outputs": [
        {
          "output_type": "stream",
          "text": [
            "(-2, 1)\n",
            "(0, 0)\n"
          ],
          "name": "stdout"
        }
      ]
    },
    {
      "cell_type": "code",
      "metadata": {
        "colab": {
          "base_uri": "https://localhost:8080/"
        },
        "id": "yYnJkeYXvuVt",
        "outputId": "a3111818-92f8-4705-844f-7928b9a994bc"
      },
      "source": [
        "# 二，利用梯度磁带和优化器求最小值\r\n",
        "# 求f(x) = a*x**2 + b*x + c的最小值\r\n",
        "# 使用optimizer.apply_gradients\r\n",
        "x = tf.Variable(0.0,name = 'x',dtype= tf.float32)\r\n",
        "a = tf.constant(1.0)\r\n",
        "b = tf.constant(-2.0)\r\n",
        "c = tf.constant(1.0)\r\n",
        "\r\n",
        "optimizer = tf.keras.optimizers.SGD(learning_rate = 0.01)\r\n",
        "\r\n",
        "for _ in range(1000):\r\n",
        "  with tf.GradientTape() as tape:\r\n",
        "    y = a * tf.pow(x,2) + b*x +c\r\n",
        "  \r\n",
        "  dy_dx = tape.gradient(y,x)\r\n",
        "\r\n",
        "  optimizer.apply_gradients(grads_and_vars=[(dy_dx,x)])\r\n",
        "\r\n",
        "tf.print(\"y =\",y,\"; x =\",x)"
      ],
      "execution_count": 6,
      "outputs": [
        {
          "output_type": "stream",
          "text": [
            "y = 0 ; x = 0.99999851\n"
          ],
          "name": "stdout"
        }
      ]
    },
    {
      "cell_type": "code",
      "metadata": {
        "colab": {
          "base_uri": "https://localhost:8080/"
        },
        "id": "sc_qwzvAxNXR",
        "outputId": "35750438-a999-42d4-c0a6-7dbc94960821"
      },
      "source": [
        "# 求f(x) = a*x**2 + b*x + c的最小值\r\n",
        "# 使用optimizer.minimize\r\n",
        "# optimizer.minimize相当于先用tape求gradient,再apply_gradient\r\n",
        "\r\n",
        "\r\n",
        "x = tf.Variable(0.0,name = \"x\",dtype = tf.float32)\r\n",
        "\r\n",
        "#注意f()无参数\r\n",
        "def f():   \r\n",
        "    a = tf.constant(1.0)\r\n",
        "    b = tf.constant(-2.0)\r\n",
        "    c = tf.constant(1.0)\r\n",
        "    y = a*tf.pow(x,2)+b*x+c\r\n",
        "    return(y)\r\n",
        "\r\n",
        "optimizer = tf.keras.optimizers.SGD(learning_rate=0.01)   \r\n",
        "for _ in range(1000):\r\n",
        "    optimizer.minimize(f,[x])   \r\n",
        "    \r\n",
        "tf.print(\"y =\",f(),\"; x =\",x)"
      ],
      "execution_count": 7,
      "outputs": [
        {
          "output_type": "stream",
          "text": [
            "y = 0 ; x = 0.99999851\n"
          ],
          "name": "stdout"
        }
      ]
    },
    {
      "cell_type": "code",
      "metadata": {
        "colab": {
          "base_uri": "https://localhost:8080/"
        },
        "id": "8lnMrxcfyba3",
        "outputId": "6da45409-ed02-4327-cf1f-19bd5d30cade"
      },
      "source": [
        "# 在autograph中完成最小值求解\r\n",
        "# 使用optimizer.apply_gradients\r\n",
        "\r\n",
        "x = tf.Variable(0.0,name = \"x\",dtype = tf.float32)\r\n",
        "optimizer = tf.keras.optimizers.SGD(learning_rate=0.01)\r\n",
        "\r\n",
        "@tf.function\r\n",
        "def minimizef():\r\n",
        "    a = tf.constant(1.0)\r\n",
        "    b = tf.constant(-2.0)\r\n",
        "    c = tf.constant(1.0)\r\n",
        "    \r\n",
        "    for _ in tf.range(1000): #注意autograph时使用tf.range(1000)而不是range(1000)\r\n",
        "        with tf.GradientTape() as tape:\r\n",
        "            y = a*tf.pow(x,2) + b*x + c\r\n",
        "        dy_dx = tape.gradient(y,x)\r\n",
        "        optimizer.apply_gradients(grads_and_vars=[(dy_dx,x)])\r\n",
        "        \r\n",
        "    y = a*tf.pow(x,2) + b*x + c\r\n",
        "    return y\r\n",
        "\r\n",
        "tf.print(minimizef())\r\n",
        "tf.print(x)"
      ],
      "execution_count": 8,
      "outputs": [
        {
          "output_type": "stream",
          "text": [
            "0\n",
            "0.99999851\n"
          ],
          "name": "stdout"
        }
      ]
    },
    {
      "cell_type": "code",
      "metadata": {
        "colab": {
          "base_uri": "https://localhost:8080/"
        },
        "id": "qAmITLLoz0DH",
        "outputId": "4cfdc876-cb31-4eeb-a566-63447a198b02"
      },
      "source": [
        "# 在autograph中完成最小值求解\r\n",
        "# 使用optimizer.minimize\r\n",
        "\r\n",
        "x = tf.Variable(0.0,name = \"x\",dtype = tf.float32)\r\n",
        "optimizer = tf.keras.optimizers.SGD(learning_rate=0.01)   \r\n",
        "\r\n",
        "@tf.function\r\n",
        "def f():   \r\n",
        "    a = tf.constant(1.0)\r\n",
        "    b = tf.constant(-2.0)\r\n",
        "    c = tf.constant(1.0)\r\n",
        "    y = a*tf.pow(x,2)+b*x+c\r\n",
        "    return(y)\r\n",
        "\r\n",
        "@tf.function\r\n",
        "def train(epoch):  \r\n",
        "    for _ in tf.range(epoch):  \r\n",
        "        optimizer.minimize(f,[x])\r\n",
        "    return(f())\r\n",
        "\r\n",
        "\r\n",
        "tf.print(train(1000))\r\n",
        "tf.print(x)"
      ],
      "execution_count": 9,
      "outputs": [
        {
          "output_type": "stream",
          "text": [
            "0\n",
            "0.99999851\n"
          ],
          "name": "stdout"
        }
      ]
    }
  ]
}