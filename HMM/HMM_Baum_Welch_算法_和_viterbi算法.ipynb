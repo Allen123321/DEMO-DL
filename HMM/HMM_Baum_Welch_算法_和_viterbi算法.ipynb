{
  "nbformat": 4,
  "nbformat_minor": 0,
  "metadata": {
    "colab": {
      "name": "HMM_Baum-Welch 算法 和 viterbi算法.ipynb",
      "provenance": [],
      "authorship_tag": "ABX9TyPgT9MT2Rcwyn8dbFhzAvbr",
      "include_colab_link": true
    },
    "kernelspec": {
      "name": "python3",
      "display_name": "Python 3"
    }
  },
  "cells": [
    {
      "cell_type": "markdown",
      "metadata": {
        "id": "view-in-github",
        "colab_type": "text"
      },
      "source": [
        "<a href=\"https://colab.research.google.com/github/Allen123321/DEMO-DL/blob/master/HMM_Baum_Welch_%E7%AE%97%E6%B3%95_%E5%92%8C_viterbi%E7%AE%97%E6%B3%95.ipynb\" target=\"_parent\"><img src=\"https://colab.research.google.com/assets/colab-badge.svg\" alt=\"Open In Colab\"/></a>"
      ]
    },
    {
      "cell_type": "code",
      "metadata": {
        "id": "Fu7NYWuVZJJ3"
      },
      "source": [
        "import numpy as np\n",
        "\n",
        "def convert_obs_seq_2_index(Q, index=None):\n",
        "    \"\"\"\n",
        "    将观测序列转换为观测值的索引值\n",
        "    Q:是输入的观测序列\n",
        "    \"\"\"\n",
        "    if index is not None:\n",
        "        cht = Q[index]\n",
        "        if \"黑\" == cht:\n",
        "            return 1\n",
        "        else:\n",
        "            return 0\n",
        "    else:\n",
        "        result = []\n",
        "        for q in Q:\n",
        "            if \"黑\" == q:\n",
        "                result.append(1)\n",
        "            else:\n",
        "                result.append(0)\n",
        "        return result"
      ],
      "execution_count": 1,
      "outputs": []
    },
    {
      "cell_type": "code",
      "metadata": {
        "id": "HcZBfpQYZu0V"
      },
      "source": [
        "# 前向算法\n",
        "def calc_alpha(pi, A, B, Q, alpha, fetch_index_by_obs_seq=None):\n",
        "    \"\"\"\n",
        "    计算前向概率α的值\n",
        "    pi：初始的随机概率值\n",
        "    A：状态转移矩阵\n",
        "    B: 状态和观测值之间的转移矩阵\n",
        "    Q: 观测值列表\n",
        "    alpha：前向概率alpha矩阵\n",
        "    fetch_index_by_obs_seq: 根据序列获取对应索引值，可以为空\n",
        "    NOTE:\n",
        "        1. ord函数的含义是将一个单个的字符转换为数字, eg: ord('a') = 97; ord('中')=20013；底层其实是将字符转换为ASCII码；\n",
        "        2. 最终会直接更新参数中的alpha对象\n",
        "    \"\"\"\n",
        "    # 0. 初始化\n",
        "    fetch_index_by_obs_seq_f = fetch_index_by_obs_seq\n",
        "    if fetch_index_by_obs_seq_f is None:\n",
        "        fetch_index_by_obs_seq_f = lambda obs, obs_index: ord(obs[obs_index])\n",
        "\n",
        "    # 1. 初始一个状态类别的顺序\n",
        "    n = len(A)\n",
        "    n_range = range(n)\n",
        "\n",
        "    # 2. 更新初值(t=1)\n",
        "    for i in n_range:\n",
        "        alpha[0][i] = pi[i] * B[i][fetch_index_by_obs_seq_f(Q, 0)]\n",
        "\n",
        "    # 3. 迭代更新其它时刻\n",
        "    T = len(Q)\n",
        "    tmp = [0 for i in n_range]\n",
        "    for t in range(1, T):\n",
        "        for i in n_range:\n",
        "            # 1. 计算上一个时刻t-1累积过来的概率值\n",
        "            for j in n_range:\n",
        "                tmp[j] = alpha[t - 1][j] * A[j][i]\n",
        "\n",
        "            # 2. 更新alpha的值\n",
        "            alpha[t][i] = np.sum(tmp) * B[i][fetch_index_by_obs_seq_f(Q, t)]\n",
        "\n",
        "\n"
      ],
      "execution_count": 2,
      "outputs": []
    },
    {
      "cell_type": "code",
      "metadata": {
        "id": "qRiEl2wdbedo"
      },
      "source": [
        "#后向算法\n",
        "def calc_beta(pi, A, B, Q, beta, fetch_index_by_obs_seq=None):\n",
        "    \"\"\"\n",
        "    计算后向概率β的值\n",
        "    pi：初始的随机概率值\n",
        "    A：状态转移矩阵\n",
        "    B: 状态和观测值之间的转移矩阵\n",
        "    Q: 观测值列表\n",
        "    beta：后向概率beta矩阵\n",
        "    fetch_index_by_obs_seq: 根据序列获取对应索引值，可以为空\n",
        "    NOTE:\n",
        "        1. ord函数的含义是将一个单个的字符转换为数字, eg: ord('a') = 97; ord('中')=20013；底层其实是将字符转换为ASCII码；\n",
        "        2. 最终会直接更新参数中的beta对象\n",
        "    \"\"\"\n",
        "    # 0. 初始化\n",
        "    fetch_index_by_obs_seq_f = fetch_index_by_obs_seq\n",
        "    if fetch_index_by_obs_seq_f is None:\n",
        "        fetch_index_by_obs_seq_f = lambda obs, obs_index: ord(obs[obs_index])\n",
        "\n",
        "    # 1. 初始一个状态类别的顺序\n",
        "    n = len(A)\n",
        "    n_range = range(n)\n",
        "    T = len(Q)\n",
        "\n",
        "    # 2. 更新初值(t=T)\n",
        "    for i in n_range:\n",
        "        beta[T - 1][i] = 1\n",
        "\n",
        "    # 3. 迭代更新其它时刻\n",
        "    tmp = [0 for i in n_range]\n",
        "    for t in range(T - 2, -1, -1):\n",
        "        for i in n_range:\n",
        "            # 1. 计算到下一个时刻t+1的概率值\n",
        "            for j in n_range:\n",
        "                tmp[j] = A[i][j] * beta[t + 1][j] * B[j][fetch_index_by_obs_seq_f(Q, t + 1)]\n",
        "\n",
        "            # 2. 更新beta的值\n",
        "            beta[t][i] = np.sum(tmp)\n"
      ],
      "execution_count": 3,
      "outputs": []
    },
    {
      "cell_type": "code",
      "metadata": {
        "id": "uloCNrEbaBda",
        "outputId": "dad5ffa3-a6b2-4c80-cd27-612019aaaf33",
        "colab": {
          "base_uri": "https://localhost:8080/",
          "height": 117
        }
      },
      "source": [
        "pi = np.array([0.2, 0.5, 0.3])\n",
        "A = np.array([\n",
        "    [0.5, 0.4, 0.1],\n",
        "    [0.2, 0.2, 0.6],\n",
        "    [0.2, 0.5, 0.3]\n",
        "    ])\n",
        "B = np.array([\n",
        "    [0.4, 0.6],\n",
        "    [0.8, 0.2],\n",
        "    [0.5, 0.5]\n",
        "    ])\n",
        "Q = '白黑白白黑'\n",
        "alpha = np.zeros((len(Q), len(A)))\n",
        "# 开始计算\n",
        "calc_alpha(pi, A, B, Q, alpha, convert_obs_seq_2_index)\n",
        "# 输出最终结果\n",
        "print(alpha)\n",
        "\n",
        "# 计算最终概率值：\n",
        "p = 0\n",
        "for i in alpha[-1]:\n",
        "\n",
        "  p += i\n",
        "print(Q, end=\"->出现的概率为:\")\n",
        "print(p)"
      ],
      "execution_count": 3,
      "outputs": [
        {
          "output_type": "stream",
          "text": [
            "[[0.08       0.4        0.15      ]\n",
            " [0.09       0.0374     0.1465    ]\n",
            " [0.032712   0.093384   0.037695  ]\n",
            " [0.01702872 0.04048728 0.03530505]\n",
            " [0.0142037  0.00651229 0.01829338]]\n",
            "白黑白白黑->出现的概率为:0.03900936690000001\n"
          ],
          "name": "stdout"
        }
      ]
    },
    {
      "cell_type": "code",
      "metadata": {
        "id": "vrfr8a7ZcUrt",
        "outputId": "ce726504-7471-40a0-f093-fd212a25927c",
        "colab": {
          "base_uri": "https://localhost:8080/",
          "height": 117
        }
      },
      "source": [
        "beta = np.zeros((len(Q), len(A)))\n",
        "# 开始计算\n",
        "calc_beta(pi, A, B, Q, beta,convert_obs_seq_2_index)\n",
        "# 输出最终结果\n",
        "print(beta)\n",
        "\n",
        "# 计算最终概率值：\n",
        "p1 = 0\n",
        "for i in range(len(A)):\n",
        "  p1 += pi[i] * B[i][convert_obs_seq_2_index(Q, 0)] * beta[0][i]\n",
        "\n",
        "print(Q, end=\"->出现的概率为:\")\n",
        "print(p1)"
      ],
      "execution_count": 6,
      "outputs": [
        {
          "output_type": "stream",
          "text": [
            "[[0.05866323 0.06623394 0.05215155]\n",
            " [0.134115   0.137346   0.148821  ]\n",
            " [0.2517     0.219      0.2739    ]\n",
            " [0.43       0.46       0.37      ]\n",
            " [1.         1.         1.        ]]\n",
            "白黑白白黑->出现的概率为:0.03900936690000001\n"
          ],
          "name": "stdout"
        }
      ]
    },
    {
      "cell_type": "code",
      "metadata": {
        "id": "oyNXdB5mdE3y"
      },
      "source": [
        "\"\"\"计算gama值,即给定模型lambda和观测序列Q的时候，时刻t对应状态i的概率值\"\"\"\n",
        "def calc_gamma(alpha, beta, gamma):\n",
        "    \"\"\"\n",
        "    根据alphe和beta的值计算gamma值\n",
        "    最终结果保存在gamma矩阵中\n",
        "    \"\"\"\n",
        "    T = len(alpha)\n",
        "    n_range = range(len(alpha[0]))\n",
        "    tmp = [0 for i in n_range]\n",
        "    for t in range(T):\n",
        "        # 累加t时刻对应的所有状态值的前向概率和后向概率，从而计算分母\n",
        "        for i in n_range:\n",
        "            tmp[i] = alpha[t][i] * beta[t][i]\n",
        "        sum_alpha_beta_of_t = np.sum(tmp)\n",
        "\n",
        "        # 更新gamma值\n",
        "        for i in n_range:\n",
        "            gamma[t][i] = tmp[i] / sum_alpha_beta_of_t\n"
      ],
      "execution_count": 4,
      "outputs": []
    },
    {
      "cell_type": "code",
      "metadata": {
        "id": "JgM7snDgd3GJ",
        "outputId": "249b0c95-b166-4f4f-e4dc-b408c6a35fcd",
        "colab": {
          "base_uri": "https://localhost:8080/",
          "height": 134
        }
      },
      "source": [
        "gamma = np.zeros((len(Q), len(A)))\n",
        "\n",
        "# 3. 计算gamm矩阵\n",
        "calc_gamma(alpha, beta, gamma)\n",
        "# 输出最终结果\n",
        "print(\"gamma矩阵:\")\n",
        "print(gamma)\n",
        "\n",
        "# 选择每个时刻最大的概率作为预测概率\n",
        "print(\"各个时刻最大概率的盒子为:\", end='')\n",
        "index = ['盒子1', '盒子2', '盒子3']\n",
        "for p in gamma:\n",
        "  print(index[p.tolist().index(np.max(p))], end=\"\\t\")"
      ],
      "execution_count": 10,
      "outputs": [
        {
          "output_type": "stream",
          "text": [
            "gamma矩阵:\n",
            "[[0.12030594 0.67915934 0.20053472]\n",
            " [0.30942184 0.13167967 0.5588985 ]\n",
            " [0.21106752 0.52426116 0.26467132]\n",
            " [0.18770747 0.47742761 0.33486492]\n",
            " [0.36410987 0.1669418  0.46894833]]\n",
            "各个时刻最大概率的盒子为:盒子2\t盒子3\t盒子2\t盒子2\t盒子3\t"
          ],
          "name": "stdout"
        }
      ]
    },
    {
      "cell_type": "code",
      "metadata": {
        "id": "vAzlGwxKfEAq"
      },
      "source": [
        "\"\"\"计算两个连续状态的联合概率值可西/可赛值\"\"\"\n",
        "\n",
        "def calc_ksi(alpha, beta, A, B, Q, ksi, fetch_index_by_obs_seq=None):\n",
        "    \"\"\"\n",
        "    计算时刻t的时候状态为i，时刻t+1的时候状态为j的联合概率ksi\n",
        "    alpha：对应的前向概率值\n",
        "    beta：对应的后向概率值\n",
        "    A：状态转移矩阵\n",
        "    B: 状态和观测值之间的转移矩阵\n",
        "    Q: 观测值列表\n",
        "    ksi：待求解的ksi矩阵\n",
        "    fetch_index_by_obs_seq: 根据序列获取对应索引值的函数，可以为空\n",
        "    NOTE:\n",
        "        1. ord函数的含义是将一个单个的字符转换为数字, eg: ord('a') = 97; ord('中')=20013；底层其实是将字符转换为ASCII码；\n",
        "        2. 最终会直接更新参数中的ksi矩阵\n",
        "    \"\"\"\n",
        "    # 0. 初始化\n",
        "    # 初始化序列转换为索引的方法\n",
        "    fetch_index_by_obs_seq_f = fetch_index_by_obs_seq\n",
        "    if fetch_index_by_obs_seq_f is None:\n",
        "        fetch_index_by_obs_seq_f = lambda obs, obs_index: ord(obs[obs_index])\n",
        "\n",
        "    # 初始化相关的参数值: n、T\n",
        "    T = len(alpha)\n",
        "    n = len(A)\n",
        "\n",
        "    # 1. 开始迭代更新\n",
        "    n_range = range(n)\n",
        "    tmp = np.zeros((n, n))\n",
        "\n",
        "    for t in range(T - 1):\n",
        "        # 1. 计算t时刻状态为i，t+1时刻状态为j的概率值\n",
        "        for i in n_range:\n",
        "            for j in n_range:\n",
        "                tmp[i][j] = alpha[t][i] * A[i][j] * B[j][fetch_index_by_obs_seq_f(Q, t + 1)] * beta[t + 1][j]\n",
        "\n",
        "        # 2. 计算t时候的联合概率和\n",
        "        sum_pro_of_t = np.sum(tmp)\n",
        "\n",
        "        # 2. 计算时刻t时候的联合概率ksi\n",
        "        for i in n_range:\n",
        "            for j in n_range:\n",
        "                ksi[t][i][j] = tmp[i][j] / sum_pro_of_t\n"
      ],
      "execution_count": 5,
      "outputs": []
    },
    {
      "cell_type": "code",
      "metadata": {
        "id": "eMbjSVP8fvvy",
        "outputId": "ae1c2b74-bd1f-4473-d22f-b17e35feac01",
        "colab": {
          "base_uri": "https://localhost:8080/",
          "height": 268
        }
      },
      "source": [
        "T = len(Q)\n",
        "n = len(A)\n",
        "ksi = np.zeros((T - 1, n, n))\n",
        "print(ksi)"
      ],
      "execution_count": 11,
      "outputs": [
        {
          "output_type": "stream",
          "text": [
            "[[[0. 0. 0.]\n",
            "  [0. 0. 0.]\n",
            "  [0. 0. 0.]]\n",
            "\n",
            " [[0. 0. 0.]\n",
            "  [0. 0. 0.]\n",
            "  [0. 0. 0.]]\n",
            "\n",
            " [[0. 0. 0.]\n",
            "  [0. 0. 0.]\n",
            "  [0. 0. 0.]]\n",
            "\n",
            " [[0. 0. 0.]\n",
            "  [0. 0. 0.]\n",
            "  [0. 0. 0.]]]\n"
          ],
          "name": "stdout"
        }
      ]
    },
    {
      "cell_type": "code",
      "metadata": {
        "id": "FYdd1J_QgR2N",
        "outputId": "c6d8b24b-afa2-419c-942f-e6e4bd0e0f63",
        "colab": {
          "base_uri": "https://localhost:8080/",
          "height": 284
        }
      },
      "source": [
        "# 4. 计算ksi矩阵\n",
        "calc_ksi(alpha, beta, A, B, Q, ksi, convert_obs_seq_2_index)\n",
        "# 输出最终结果\n",
        "print(\"ksi矩阵:\")\n",
        "print(ksi)"
      ],
      "execution_count": 14,
      "outputs": [
        {
          "output_type": "stream",
          "text": [
            "ksi矩阵:\n",
            "[[[0.08251249 0.02253342 0.01526003]\n",
            "  [0.16502498 0.05633355 0.45780082]\n",
            "  [0.06188437 0.0528127  0.08583765]]\n",
            "\n",
            " [[0.11614134 0.16168424 0.03159626]\n",
            "  [0.01930527 0.03359439 0.07878   ]\n",
            "  [0.07562091 0.32898252 0.15429506]]\n",
            "\n",
            " [[0.07211683 0.12343718 0.0155135 ]\n",
            "  [0.0823497  0.17619005 0.26572141]\n",
            "  [0.03324094 0.17780037 0.05363   ]]\n",
            "\n",
            " [[0.1309587  0.03492232 0.02182645]\n",
            "  [0.12454633 0.04151544 0.31136583]\n",
            "  [0.10860484 0.09050403 0.13575605]]]\n"
          ],
          "name": "stdout"
        }
      ]
    },
    {
      "cell_type": "code",
      "metadata": {
        "id": "XWjZeFH-gcdy"
      },
      "source": [
        "\"\"\"进行HMM参数学习的算法\"\"\"\n",
        "def baum_welch(pi, A, B, Q, max_iter=3, fetch_index_by_obs_seq=None):\n",
        "    \"\"\"\n",
        "    根据传入的初始概率矩阵(pi、A、B)以及观测序列Q，使用baum_welch算法进行迭代求解最终的pi、A、B的值；最大迭代次数默认为3；最终更新结果保存在传入的参数矩阵中(pi\\A\\B)\n",
        "    \"\"\"\n",
        "    # 0. 初始化相关变量\n",
        "    # 初始化序列转换为索引的方法\n",
        "    fetch_index_by_obs_seq_f = fetch_index_by_obs_seq\n",
        "    if fetch_index_by_obs_seq_f is None:\n",
        "        fetch_index_by_obs_seq_f = lambda obs, obs_index: ord(obs[obs_index])\n",
        "\n",
        "    # 初始化相关的参数值: n、m、T\n",
        "    T = len(Q)\n",
        "    n = len(A)\n",
        "    m = len(B[0])\n",
        "    alpha = np.zeros((T, n))\n",
        "    beta = np.zeros((T, n))\n",
        "    gamma = np.zeros((T, n))\n",
        "    ksi = np.zeros((T - 1, n, n))\n",
        "    n_range = range(n)\n",
        "    m_range = range(m)\n",
        "    t_range = range(T)\n",
        "    t_1_range = range(T - 1)\n",
        "\n",
        "    # 1. 迭代更新(EM算法思想类型)\n",
        "    for time in range(max_iter):\n",
        "        # a. 在当前的pi，A，B的情况下对观测序列Q分别计算alpha、beta、gamma和ksi\n",
        "        calc_alpha(pi, A, B, Q, alpha, fetch_index_by_obs_seq_f)\n",
        "        calc_beta(pi, A, B, Q, beta, fetch_index_by_obs_seq_f)\n",
        "        calc_gamma(alpha, beta, gamma)\n",
        "        calc_ksi(alpha, beta, A, B, Q, ksi, fetch_index_by_obs_seq_f)\n",
        "\n",
        "        # b. 更新pi、A、B的值\n",
        "        # b.1. 更新pi值\n",
        "        for i in n_range:\n",
        "            pi[i] = gamma[0][i]\n",
        "\n",
        "        # b.2. 更新状态转移矩阵A的值\n",
        "        tmp1 = np.zeros(T - 1)\n",
        "        tmp2 = np.zeros(T - 1)\n",
        "        for i in n_range:\n",
        "            for j in n_range:\n",
        "                # 获取所有时刻从状态i转移到状态j的值\n",
        "                for t in t_1_range:\n",
        "                    tmp1[t] = ksi[t][i][j]\n",
        "                    tmp2[t] = gamma[t][i]\n",
        "\n",
        "                # 更新状态i到状态j的转移概率\n",
        "                A[i][j] = np.sum(tmp1) / np.sum(tmp2)\n",
        "\n",
        "        # b.3. 更新状态和观测值之间的转移矩阵\n",
        "        for i in n_range:\n",
        "            for k in m_range:\n",
        "                tmp1 = np.zeros(T)\n",
        "                tmp2 = np.zeros(T)\n",
        "                # 获取所有时刻从状态i转移到观测值k的概率和\n",
        "                number = 0\n",
        "                for t in t_range:\n",
        "                    if k == fetch_index_by_obs_seq_f(Q, t):\n",
        "                        # 如果序列Q中时刻t对应的观测值就是k，那么进行统计这个时刻t为状态i的概率值\n",
        "                        tmp1[t] = gamma[t][i]\n",
        "                        number += 1\n",
        "\n",
        "                    tmp2[t] = gamma[t][i]\n",
        "\n",
        "                # 更新状态i到观测值k之间的转移概率\n",
        "                if number == 0:\n",
        "                    # 没有转移，所以为0\n",
        "                    B[i][k] = 0\n",
        "                else:\n",
        "                    # 有具体值，那么进行更新操作\n",
        "                    B[i][k] = np.sum(tmp1) / np.sum(tmp2)\n"
      ],
      "execution_count": 6,
      "outputs": []
    },
    {
      "cell_type": "code",
      "metadata": {
        "id": "fasBzJsri_QL",
        "outputId": "6a1af543-4c94-487d-9b5e-3ed7d6379468",
        "colab": {
          "base_uri": "https://localhost:8080/",
          "height": 284
        }
      },
      "source": [
        "np.random.seed(10)\n",
        "pi = np.random.randint(1, 10, 3)\n",
        "pi = pi / np.sum(pi)\n",
        "A = np.random.randint(1, 10, (3, 3))\n",
        "A = A / np.sum(A, axis=1).reshape((-1, 1))\n",
        "B = np.random.randint(1, 5, (3, 2))\n",
        "B = B / np.sum(B, axis=1).reshape((-1, 1))\n",
        "\n",
        "\n",
        "# pi = np.array([0.2, 0.5, 0.3])\n",
        "# A = np.array([\n",
        "#     [0.5, 0.4, 0.1],\n",
        "#     [0.2, 0.2, 0.6],\n",
        "#     [0.2, 0.5, 0.3]\n",
        "#     ])\n",
        "# B = np.array([\n",
        "#     [0.4, 0.6],\n",
        "#     [0.8, 0.2],\n",
        "#     [0.5, 0.5]\n",
        "#     ])\n",
        "# Q = '白黑白白黑'\n",
        "\n",
        "# print(\"随机初始的概率矩阵:\")\n",
        "# print(\"pi初始状态选择矩阵:\")\n",
        "# print(pi)\n",
        "# print(\"\\n状态转移矩阵A:\")\n",
        "# print(A)\n",
        "# print(\"\\n状态和观测值之间的转移矩阵B:\")\n",
        "# print(B)\n",
        "\n",
        "\n",
        "\n",
        "# 开始计算\n",
        "baum_welch(pi, A, B, Q, max_iter=10, fetch_index_by_obs_seq=convert_obs_seq_2_index)\n",
        "\n",
        "# 输出最终结果\n",
        "print(\"\\n\\n\\n最终计算出来的结果:\")\n",
        "print(\"pi初始状态选择矩阵:\")\n",
        "print(pi)\n",
        "print(\"\\n状态转移矩阵A:\")\n",
        "print(A)\n",
        "print(\"\\n状态和观测值之间的转移矩阵B:\")\n",
        "print(B)"
      ],
      "execution_count": 10,
      "outputs": [
        {
          "output_type": "stream",
          "text": [
            "\n",
            "\n",
            "\n",
            "最终计算出来的结果:\n",
            "pi初始状态选择矩阵:\n",
            "[9.99998920e-01 1.07968223e-06 9.02395088e-53]\n",
            "\n",
            "状态转移矩阵A:\n",
            "[[2.03184731e-22 5.18727102e-16 1.00000000e+00]\n",
            " [9.99846221e-01 7.63506021e-05 7.74281358e-05]\n",
            " [2.76117461e-28 1.00000000e+00 7.49179156e-34]]\n",
            "\n",
            "状态和观测值之间的转移矩阵B:\n",
            "[[9.99999999e-01 5.32975241e-10]\n",
            " [1.00000000e+00 4.99488039e-10]\n",
            " [2.74494329e-20 1.00000000e+00]]\n"
          ],
          "name": "stdout"
        }
      ]
    },
    {
      "cell_type": "code",
      "metadata": {
        "id": "xgVMIRMam2ou"
      },
      "source": [
        "\"\"\"实现viterbi算法\"\"\"\n",
        "\n",
        "def viterbi(pi, A, B, Q, fetch_index_by_obs_seq=None):\n",
        "    \"\"\"计算观测序列\"\"\"\n",
        "    # 0. 初始化\n",
        "    # 初始化序列转换为索引的方法\n",
        "    fetch_index_by_obs_seq_f = fetch_index_by_obs_seq\n",
        "    if fetch_index_by_obs_seq_f is None:\n",
        "        fetch_index_by_obs_seq_f = lambda obs, obs_index: ord(obs[obs_index])\n",
        "\n",
        "    # 初始化相关的参数值: n、m、T\n",
        "    T = len(Q)\n",
        "    n = len(A)\n",
        "    n_range = range(n)\n",
        "    # 存储delta值\n",
        "    delta = np.zeros((T, n))\n",
        "    # 存储状态值，pre_index[t][i]表示t时刻的状态为i，上一个最优状态(delta值最大的)为pre_index[t][i]\n",
        "    pre_index = np.zeros((T, n), dtype=np.int)\n",
        "\n",
        "    # 1. 计算t=1的时候delta的值\n",
        "    for i in n_range:\n",
        "        delta[0][i] = pi[i] * B[i][fetch_index_by_obs_seq_f(Q, 0)]\n",
        "\n",
        "    # 2. 更新其它时刻的值\n",
        "    for t in range(1, T):\n",
        "        for i in n_range:\n",
        "            # 当前时刻t的状态为i\n",
        "            # a. 获取最大值\n",
        "            max_delta = -1\n",
        "            for j in n_range:\n",
        "                # j表示的是上一个时刻的状态值\n",
        "                tmp = delta[t - 1][j] * A[j][i]\n",
        "                if tmp > max_delta:\n",
        "                    max_delta = tmp\n",
        "                    pre_index[t][i] = j\n",
        "\n",
        "            # b. 更新值\n",
        "            delta[t][i] = max_delta * B[i][fetch_index_by_obs_seq_f(Q, t)]\n",
        "\n",
        "    # 3. 解码操作，查找到最大的结果值\n",
        "    decode = [-1 for i in range(T)]\n",
        "    # 先找最后一个时刻的delta最大值\n",
        "    max_delta_index = 0\n",
        "    for i in range(1, n):\n",
        "        if delta[T - 1][i] > delta[T - 1][max_delta_index]:\n",
        "            max_delta_index = i\n",
        "    decode[T - 1] = max_delta_index\n",
        "    # 再根据转移的路径(最大转移路径), 找出最终的链路\n",
        "    for t in range(T - 2, -1, -1):\n",
        "        max_delta_index = pre_index[t + 1][max_delta_index]\n",
        "        decode[t] = max_delta_index\n",
        "    return decode"
      ],
      "execution_count": 11,
      "outputs": []
    },
    {
      "cell_type": "code",
      "metadata": {
        "id": "iapYxG1_opbk",
        "outputId": "fdb34c65-fa2a-41d2-cc21-0260acd8f9ad",
        "colab": {
          "base_uri": "https://localhost:8080/",
          "height": 50
        }
      },
      "source": [
        "pi = np.array([0.2, 0.5, 0.3])\n",
        "A = np.array([\n",
        "    [0.5, 0.4, 0.1],\n",
        "    [0.2, 0.2, 0.6],\n",
        "    [0.2, 0.5, 0.3]\n",
        "    ])\n",
        "B = np.array([\n",
        "    [0.4, 0.6],\n",
        "    [0.8, 0.2],\n",
        "    [0.5, 0.5]\n",
        "    ])\n",
        "Q = '白黑白白黑'\n",
        "\n",
        "# 开始计算\n",
        "state_seq = viterbi(pi, A, B, Q, convert_obs_seq_2_index)\n",
        "print(\"最终结果为:\", end='')\n",
        "print(state_seq)\n",
        "state = ['盒子1', '盒子2', '盒子3']\n",
        "for i in state_seq:\n",
        "  print(state[i], end='\\t')"
      ],
      "execution_count": 12,
      "outputs": [
        {
          "output_type": "stream",
          "text": [
            "最终结果为:[1, 2, 1, 1, 2]\n",
            "盒子2\t盒子3\t盒子2\t盒子2\t盒子3\t"
          ],
          "name": "stdout"
        }
      ]
    }
  ]
}