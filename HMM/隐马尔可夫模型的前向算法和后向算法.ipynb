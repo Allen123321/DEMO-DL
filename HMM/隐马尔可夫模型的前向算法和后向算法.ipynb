{
  "nbformat": 4,
  "nbformat_minor": 0,
  "metadata": {
    "colab": {
      "name": "隐马尔可夫模型的前向算法和后向算法.ipynb",
      "provenance": [],
      "authorship_tag": "ABX9TyNWuKPnzXe4t796LKxDiAXz",
      "include_colab_link": true
    },
    "kernelspec": {
      "name": "python3",
      "display_name": "Python 3"
    }
  },
  "cells": [
    {
      "cell_type": "markdown",
      "metadata": {
        "id": "view-in-github",
        "colab_type": "text"
      },
      "source": [
        "<a href=\"https://colab.research.google.com/github/Allen123321/DEMO-DL/blob/master/%E9%9A%90%E9%A9%AC%E5%B0%94%E5%8F%AF%E5%A4%AB%E6%A8%A1%E5%9E%8B%E7%9A%84%E5%89%8D%E5%90%91%E7%AE%97%E6%B3%95%E5%92%8C%E5%90%8E%E5%90%91%E7%AE%97%E6%B3%95.ipynb\" target=\"_parent\"><img src=\"https://colab.research.google.com/assets/colab-badge.svg\" alt=\"Open In Colab\"/></a>"
      ]
    },
    {
      "cell_type": "code",
      "metadata": {
        "id": "J_p2VFhZPaO_"
      },
      "source": [
        "import numpy as np\n",
        "import math\n"
      ],
      "execution_count": 1,
      "outputs": []
    },
    {
      "cell_type": "code",
      "metadata": {
        "id": "hZ2SqiF4QFUl"
      },
      "source": [
        "#隐马尔科夫模型前向算法\n",
        "def hmm_forward(A,PI,B,O):\n",
        "  M = np.shape(O)[0] #观测序列的大小\n",
        "  N = np.shape(A)[0] #状态序列的大小\n",
        "  T = M\n",
        "  alpha = np.mat(np.zeros((M,N)))\n",
        "  P = 0.0\n",
        "\n",
        "  for i in range(N):\n",
        "    alpha[0,i] = PI[i,0]*B[i,O[0,0]]\n",
        "  \n",
        "  for t in range(T-1):\n",
        "    for i in range(N):\n",
        "      temp_value = 0.0\n",
        "      for j in range(N):\n",
        "        temp_value += alpha[t,j] * A[j,i]\n",
        "\n",
        "      index = O[t+1,0]\n",
        "      alpha[t+1,i] = temp_value * B[i,index]\n",
        "\n",
        "  for i in range(N):\n",
        "    P += alpha[T-1,i]\n",
        "\n",
        "  return P,alpha\n",
        "\n",
        "\n",
        "\n",
        "  \n"
      ],
      "execution_count": 27,
      "outputs": []
    },
    {
      "cell_type": "code",
      "metadata": {
        "id": "hfLxMoOdU-Un",
        "outputId": "c1029062-89d0-46fa-ac4d-dffc7792d735",
        "colab": {
          "base_uri": "https://localhost:8080/",
          "height": 117
        }
      },
      "source": [
        "A = np.mat([[0.5, 0.2, 0.3],[0.3, 0.5, 0.2],[0.2, 0.3, 0.5]])\n",
        "B = np.mat([[0.5, 0.5],[0.4, 0.6],[0.7, 0.3]])\n",
        "PI = np.mat([[0.2],[0.4],[0.4]])\n",
        "O = np.mat([[0],[1],[0],[1]]) #红，白，红\n",
        "P,alpha = hmm_forward(A, PI, B, O)\n",
        "print(P)\n",
        "print(\"--------------------------------------\")\n",
        "print(alpha)\n"
      ],
      "execution_count": 29,
      "outputs": [
        {
          "output_type": "stream",
          "text": [
            "0.06009079999999999\n",
            "--------------------------------------\n",
            "[[0.1        0.16       0.28      ]\n",
            " [0.077      0.1104     0.0606    ]\n",
            " [0.04187    0.035512   0.052836  ]\n",
            " [0.0210779  0.02518848 0.01382442]]\n"
          ],
          "name": "stdout"
        }
      ]
    },
    {
      "cell_type": "code",
      "metadata": {
        "id": "6dtcOAKNc05J"
      },
      "source": [
        "#隐马尔科链模型后向算法\n",
        "def hmm_backword(A, PI, B, O):\n",
        "    N = np.shape(A)[0]\n",
        "    T = np.shape(O)[0]\n",
        "    beta = np.mat(np.zeros((T, N)))\n",
        "    P = 0.0\n",
        "\n",
        "    beta[T - 1, :] = 1\n",
        "    t = T - 2\n",
        "    while t >= 0:\n",
        "        for i in range(N):\n",
        "            temp_value = 0.0\n",
        "            for j in range(N):\n",
        "                index = O[t + 1, 0]\n",
        "                temp_value += A[i, j] * B[j, index] * beta[t + 1, j]\n",
        "            beta[t, i] = temp_value\n",
        "        t -= 1\n",
        "\n",
        "    for i in range(N):\n",
        "        index = O[0, 0]\n",
        "        P += PI[i, 0] * B[i, index] * beta[0, i]\n",
        "    return P,beta"
      ],
      "execution_count": 37,
      "outputs": []
    },
    {
      "cell_type": "code",
      "metadata": {
        "id": "2oGxH-p8dgXq",
        "outputId": "699bcb1f-73ea-4de1-e847-e0f75be4fdfb",
        "colab": {
          "base_uri": "https://localhost:8080/",
          "height": 117
        }
      },
      "source": [
        "P,beta = hmm_backword(A, PI, B, O)\n",
        "print(P)\n",
        "print(\"--------------------------------------\")\n",
        "print(beta)"
      ],
      "execution_count": 39,
      "outputs": [
        {
          "output_type": "stream",
          "text": [
            "0.06009079999999999\n",
            "--------------------------------------\n",
            "[[0.112462 0.121737 0.104881]\n",
            " [0.2461   0.2312   0.2577  ]\n",
            " [0.46     0.51     0.43    ]\n",
            " [1.       1.       1.      ]]\n"
          ],
          "name": "stdout"
        }
      ]
    }
  ]
}