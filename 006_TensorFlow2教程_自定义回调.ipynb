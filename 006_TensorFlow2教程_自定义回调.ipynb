{
  "nbformat": 4,
  "nbformat_minor": 0,
  "metadata": {
    "colab": {
      "name": "006.TensorFlow2教程-自定义回调.ipynb",
      "provenance": [],
      "authorship_tag": "ABX9TyNdXqynPhL982Z96wjdjv2n",
      "include_colab_link": true
    },
    "kernelspec": {
      "name": "python3",
      "display_name": "Python 3"
    }
  },
  "cells": [
    {
      "cell_type": "markdown",
      "metadata": {
        "id": "view-in-github",
        "colab_type": "text"
      },
      "source": [
        "<a href=\"https://colab.research.google.com/github/Allen123321/DEMO-DL/blob/master/006_TensorFlow2%E6%95%99%E7%A8%8B_%E8%87%AA%E5%AE%9A%E4%B9%89%E5%9B%9E%E8%B0%83.ipynb\" target=\"_parent\"><img src=\"https://colab.research.google.com/assets/colab-badge.svg\" alt=\"Open In Colab\"/></a>"
      ]
    },
    {
      "cell_type": "markdown",
      "metadata": {
        "id": "hWTJTSiS-Q6R"
      },
      "source": [
        "自定义回调是一个很好用的工具，可以在训练，评估和推理期间自定义模型的行为，包括读取/更改keras模型等。"
      ]
    },
    {
      "cell_type": "code",
      "metadata": {
        "id": "fiaei5a8-E5n"
      },
      "source": [
        "from __future__ import absolute_import, division,print_function, unicode_literals\r\n",
        "import tensorflow as tf"
      ],
      "execution_count": 1,
      "outputs": []
    },
    {
      "cell_type": "markdown",
      "metadata": {
        "id": "Cp47u8lX-tIn"
      },
      "source": [
        "## 1 Keras回调简介\r\n",
        "在Kreas中，Callback是一个python类，旨在被子类化以提供特定功能，并在训练的各阶段（包括每个batch/epoch的开始和结束），以及测试中调用一组方法。\r\n",
        "\r\n",
        "我们可以通过回调列表，传递回调方法，在训练/评估/推断的不同阶段调用回调方法。\r\n",
        "\r\n",
        "构建一个模型"
      ]
    },
    {
      "cell_type": "code",
      "metadata": {
        "id": "aPmI2tUy-nIQ"
      },
      "source": [
        "def get_model():\r\n",
        "    model = tf.keras.Sequential()\r\n",
        "    model.add(tf.keras.layers.Dense(1, activation = 'linear', input_dim = 784))\r\n",
        "    model.compile(optimizer=tf.keras.optimizers.RMSprop(lr=0.1), loss='mean_squared_error', metrics=['mae'])\r\n",
        "    return model"
      ],
      "execution_count": 2,
      "outputs": []
    },
    {
      "cell_type": "markdown",
      "metadata": {
        "id": "Go_sI4EtAMCa"
      },
      "source": [
        "导入数据"
      ]
    },
    {
      "cell_type": "code",
      "metadata": {
        "colab": {
          "base_uri": "https://localhost:8080/"
        },
        "id": "V_3owH-LAH8j",
        "outputId": "f06b56b8-3f87-4097-963f-3bc09f0fd0d9"
      },
      "source": [
        "(x_train, y_train), (x_test, y_test) = tf.keras.datasets.mnist.load_data()\r\n",
        "x_train = x_train.reshape(60000, 784).astype('float32') / 255\r\n",
        "x_test = x_test.reshape(10000, 784).astype('float32') / 255"
      ],
      "execution_count": 3,
      "outputs": [
        {
          "output_type": "stream",
          "text": [
            "Downloading data from https://storage.googleapis.com/tensorflow/tf-keras-datasets/mnist.npz\n",
            "11493376/11490434 [==============================] - 0s 0us/step\n"
          ],
          "name": "stdout"
        }
      ]
    },
    {
      "cell_type": "code",
      "metadata": {
        "id": "s07ypn49AT1a"
      },
      "source": [
        "\r\n",
        "# 定义一个简单的自定义回调，以跟踪每批数据的开始和结束。\r\n",
        "\r\n",
        "import datetime\r\n",
        "\r\n",
        "class MyCustomCallback(tf.keras.callbacks.Callback):\r\n",
        "\r\n",
        "    def on_train_batch_begin(self, batch, logs=None):\r\n",
        "        print('Training: batch {} begins at {}'.format(batch, datetime.datetime.now().time()))\r\n",
        "\r\n",
        "    def on_train_batch_end(self, batch, logs=None):\r\n",
        "        print('Training: batch {} ends at {}'.format(batch, datetime.datetime.now().time()))\r\n",
        "\r\n",
        "    def on_test_batch_begin(self, batch, logs=None):\r\n",
        "        print('Evaluating: batch {} begins at {}'.format(batch, datetime.datetime.now().time()))\r\n",
        "\r\n",
        "    def on_test_batch_end(self, batch, logs=None):\r\n",
        "        print('Evaluating: batch {} ends at {}'.format(batch, datetime.datetime.now().time()))"
      ],
      "execution_count": 4,
      "outputs": []
    },
    {
      "cell_type": "code",
      "metadata": {
        "colab": {
          "base_uri": "https://localhost:8080/"
        },
        "id": "Y739_oEaAhHN",
        "outputId": "90127dc7-cd11-4e5b-ee87-12db4623d556"
      },
      "source": [
        "# 在训练时传入回调函数\r\n",
        "\r\n",
        "model = get_model()\r\n",
        "_ = model.fit(x_train, y_train,\r\n",
        "          batch_size=64,\r\n",
        "          epochs=1,\r\n",
        "          steps_per_epoch=5,\r\n",
        "          verbose=0,\r\n",
        "          callbacks=[MyCustomCallback()])"
      ],
      "execution_count": 5,
      "outputs": [
        {
          "output_type": "stream",
          "text": [
            "Training: batch 0 begins at 09:23:10.356244\n",
            "Training: batch 0 ends at 09:23:10.847938\n",
            "Training: batch 1 begins at 09:23:10.848678\n",
            "Training: batch 1 ends at 09:23:10.850134\n",
            "Training: batch 2 begins at 09:23:10.850306\n",
            "Training: batch 2 ends at 09:23:10.851435\n",
            "Training: batch 3 begins at 09:23:10.851564\n",
            "Training: batch 3 ends at 09:23:10.852802\n",
            "Training: batch 4 begins at 09:23:10.852932\n",
            "Training: batch 4 ends at 09:23:10.853934\n"
          ],
          "name": "stdout"
        }
      ]
    },
    {
      "cell_type": "markdown",
      "metadata": {
        "id": "BjUeKUxZBIRu"
      },
      "source": [
        "## 1.1 以下方法会调用回调函数\r\n",
        "fit(), fit_generator() 训练或使用迭代数据进行训练。\r\n",
        "\r\n",
        "evaluate(), evaluate_generator() 评估或使用迭代数据进行评估。\r\n",
        "\r\n",
        "predict(), predict_generator() 预测或使用迭代数据进行预测。"
      ]
    },
    {
      "cell_type": "code",
      "metadata": {
        "colab": {
          "base_uri": "https://localhost:8080/"
        },
        "id": "kYRiXX0aBLjm",
        "outputId": "2477698d-0d65-42e6-c088-e1556d068bec"
      },
      "source": [
        "_ = model.evaluate(x_test, y_test, batch_size=128, verbose=0, steps=5,\r\n",
        "          callbacks=[MyCustomCallback()])"
      ],
      "execution_count": 7,
      "outputs": [
        {
          "output_type": "stream",
          "text": [
            "Evaluating: batch 0 begins at 09:23:47.311024\n",
            "Evaluating: batch 0 ends at 09:23:47.313384\n",
            "Evaluating: batch 1 begins at 09:23:47.313553\n",
            "Evaluating: batch 1 ends at 09:23:47.314869\n",
            "Evaluating: batch 2 begins at 09:23:47.314976\n",
            "Evaluating: batch 2 ends at 09:23:47.316052\n",
            "Evaluating: batch 3 begins at 09:23:47.316174\n",
            "Evaluating: batch 3 ends at 09:23:47.317379\n",
            "Evaluating: batch 4 begins at 09:23:47.317480\n",
            "Evaluating: batch 4 ends at 09:23:47.318413\n"
          ],
          "name": "stdout"
        }
      ]
    },
    {
      "cell_type": "markdown",
      "metadata": {
        "id": "EGVwiy5qBZMz"
      },
      "source": [
        "## 2 回调方法概述\r\n",
        "### 2.1 训练/测试/预测的常用方法\r\n",
        "\r\n",
        "为了进行训练，测试和预测，提供了以下方法来替代。\r\n",
        "\r\n",
        "on_(train|test|predict)_begin(self, logs=None) 在fit/ evaluate/ predict开始时调用。\r\n",
        "\r\n",
        "on_(train|test|predict)_end(self, logs=None) 在fit/ evaluate/ predict结束时调用。\r\n",
        "\r\n",
        "on_(train|test|predict)_batch_begin(self, batch, logs=None) 在培训/测试/预测期间处理批次之前立即调用。在此方法中，logs是带有batch和size可用键的字典，代表当前批次号和批次大小。\r\n",
        "\r\n",
        "on_(train|test|predict)_batch_end(self, batch, logs=None) 在培训/测试/预测批次结束时调用。在此方法中，logs是一个包含状态指标结果的字典。"
      ]
    },
    {
      "cell_type": "markdown",
      "metadata": {
        "id": "8T0rwxwiglbi"
      },
      "source": [
        "2.2 训练时特定方法\r\n",
        "另外，为了进行培训，提供以下内容。\r\n",
        "\r\n",
        "on_epoch_begin（self，epoch，logs = None） 在训练期间的开始时调用。\r\n",
        "\r\n",
        "on_epoch_end（self，epoch，logs = None） 在训练期间的末尾调用。"
      ]
    },
    {
      "cell_type": "markdown",
      "metadata": {
        "id": "Gz44LAvWhKQv"
      },
      "source": [
        "\r\n",
        "2.3 logsdict的用法\r\n",
        "该logs字典包含损loss，已经每个batch和epoch的结束时的所有指标。示例包括loss和平均绝对误差。"
      ]
    },
    {
      "cell_type": "code",
      "metadata": {
        "colab": {
          "base_uri": "https://localhost:8080/"
        },
        "id": "Fn0MciohhKAf",
        "outputId": "71fa42fb-5d51-41ab-9b9c-8bae3f81332c"
      },
      "source": [
        "class LossAndErrorPrintingCallback(tf.keras.callbacks.Callback):\r\n",
        "\r\n",
        "    def on_train_batch_end(self, batch, logs=None):\r\n",
        "        print('For batch {}, loss is {:7.2f}.'.format(batch, logs['loss']))\r\n",
        "\r\n",
        "    def on_test_batch_end(self, batch, logs=None):\r\n",
        "        print('For batch {}, loss is {:7.2f}.'.format(batch, logs['loss']))\r\n",
        "\r\n",
        "    def on_epoch_end(self, epoch, logs=None):\r\n",
        "        print('The average loss for epoch {} is {:7.2f} and mean absolute error is {:7.2f}.'.format(epoch, logs['loss'], logs['mae']))\r\n",
        "\r\n",
        "model = get_model()\r\n",
        "_ = model.fit(x_train, y_train,\r\n",
        "          batch_size=64,\r\n",
        "          steps_per_epoch=5,\r\n",
        "          epochs=3,\r\n",
        "          verbose=0,\r\n",
        "          callbacks=[LossAndErrorPrintingCallback()])"
      ],
      "execution_count": 8,
      "outputs": [
        {
          "output_type": "stream",
          "text": [
            "For batch 0, loss is   24.85.\n",
            "For batch 1, loss is  477.44.\n",
            "For batch 2, loss is  325.83.\n",
            "For batch 3, loss is  246.63.\n",
            "For batch 4, loss is  198.87.\n",
            "The average loss for epoch 0 is  198.87 and mean absolute error is    8.26.\n",
            "For batch 0, loss is    6.17.\n",
            "For batch 1, loss is    6.03.\n",
            "For batch 2, loss is    5.99.\n",
            "For batch 3, loss is    5.77.\n",
            "For batch 4, loss is    6.02.\n",
            "The average loss for epoch 1 is    6.02 and mean absolute error is    2.03.\n",
            "For batch 0, loss is    8.70.\n",
            "For batch 1, loss is    7.12.\n",
            "For batch 2, loss is    6.48.\n",
            "For batch 3, loss is    7.38.\n",
            "For batch 4, loss is    9.22.\n",
            "The average loss for epoch 2 is    9.22 and mean absolute error is    2.49.\n"
          ],
          "name": "stdout"
        }
      ]
    },
    {
      "cell_type": "code",
      "metadata": {
        "colab": {
          "base_uri": "https://localhost:8080/"
        },
        "id": "gXH6-QUXhjz-",
        "outputId": "8134b9b6-039b-4b4e-acd2-83b90dae5be8"
      },
      "source": [
        "_ = model.evaluate(x_test, y_test, batch_size=128, verbose=0, steps=20,\r\n",
        "          callbacks=[LossAndErrorPrintingCallback()])"
      ],
      "execution_count": 9,
      "outputs": [
        {
          "output_type": "stream",
          "text": [
            "For batch 0, loss is   19.19.\n",
            "For batch 1, loss is   19.32.\n",
            "For batch 2, loss is   19.30.\n",
            "For batch 3, loss is   19.53.\n",
            "For batch 4, loss is   19.50.\n",
            "For batch 5, loss is   19.97.\n",
            "For batch 6, loss is   20.11.\n",
            "For batch 7, loss is   20.14.\n",
            "For batch 8, loss is   20.09.\n",
            "For batch 9, loss is   20.07.\n",
            "For batch 10, loss is   19.94.\n",
            "For batch 11, loss is   19.93.\n",
            "For batch 12, loss is   20.00.\n",
            "For batch 13, loss is   19.90.\n",
            "For batch 14, loss is   19.79.\n",
            "For batch 15, loss is   19.63.\n",
            "For batch 16, loss is   19.72.\n",
            "For batch 17, loss is   19.64.\n",
            "For batch 18, loss is   19.69.\n",
            "For batch 19, loss is   19.77.\n"
          ],
          "name": "stdout"
        }
      ]
    },
    {
      "cell_type": "markdown",
      "metadata": {
        "id": "p4C7-1hohnUQ"
      },
      "source": [
        "\r\n",
        "## 3 keras回调示例\r\n",
        "### 3.1 以最小的损失尽早停止\r\n",
        "第一个示例展示了Callback通过达到最小损失时更改属性model.stop_training（布尔值），停止Keras训练。用户可以提供一个参数patience来指定训练最终停止之前应该等待多少个时期。\r\n",
        "\r\n",
        "注：tf.keras.callbacks.EarlyStopping 提供了更完整，更通用的实现。"
      ]
    },
    {
      "cell_type": "code",
      "metadata": {
        "id": "SQ1HVdiOhm70"
      },
      "source": [
        "import numpy as np\r\n",
        "class EarlyStoppingAtMinLoss(tf.keras.callbacks.Callback):\r\n",
        "    def __init__(self, patience=0):\r\n",
        "        super(EarlyStoppingAtMinLoss, self).__init__()\r\n",
        "        self.patience = patience\r\n",
        "        self.best_weights = None  # loss最低时的权重\r\n",
        "    def on_train_begin(self, logs=None):\r\n",
        "        # loss不再下降时等待的轮数\r\n",
        "        self.wait = 0\r\n",
        "        # 停止时的轮数\r\n",
        "        self.stopped_epoch = 0\r\n",
        "        # 开始时的最优loss\r\n",
        "        self.best = np.Inf\r\n",
        "    \r\n",
        "    def on_epoch_end(self, epoch, logs=None):\r\n",
        "        current = logs.get('loss')\r\n",
        "        if np.less(current, self.best):\r\n",
        "            self.best = current\r\n",
        "            self.wait = 0\r\n",
        "            # 最佳权重\r\n",
        "            self.best_weights = self.model.get_weights()\r\n",
        "        else:\r\n",
        "            self.wait += 1\r\n",
        "            if self.wait >= self.patience:\r\n",
        "                self.stopped_epoch = epoch\r\n",
        "                self.model.stop_training = True\r\n",
        "                print('导入当前最佳模型')\r\n",
        "                self.model.set_weights(self.best_weights)\r\n",
        "    def on_train_end(self, logs=None):\r\n",
        "        if self.stopped_epoch > 0:\r\n",
        "            print('在%05d: 提前停止训练'% (self.stopped_epoch+1))"
      ],
      "execution_count": 10,
      "outputs": []
    },
    {
      "cell_type": "code",
      "metadata": {
        "colab": {
          "base_uri": "https://localhost:8080/"
        },
        "id": "FIhCgS4jigEf",
        "outputId": "ce7f22fb-456f-44d1-8189-146565018b7e"
      },
      "source": [
        "model = get_model()\r\n",
        "_ = model.fit(x_train, y_train,\r\n",
        "          batch_size=64,\r\n",
        "          steps_per_epoch=5,\r\n",
        "          epochs=30,\r\n",
        "          verbose=0,\r\n",
        "          callbacks=[LossAndErrorPrintingCallback(), EarlyStoppingAtMinLoss()])"
      ],
      "execution_count": 11,
      "outputs": [
        {
          "output_type": "stream",
          "text": [
            "For batch 0, loss is   22.20.\n",
            "For batch 1, loss is  491.81.\n",
            "For batch 2, loss is  335.79.\n",
            "For batch 3, loss is  254.13.\n",
            "For batch 4, loss is  204.92.\n",
            "The average loss for epoch 0 is  204.92 and mean absolute error is    8.25.\n",
            "For batch 0, loss is    6.67.\n",
            "For batch 1, loss is    7.11.\n",
            "For batch 2, loss is    6.81.\n",
            "For batch 3, loss is    6.58.\n",
            "For batch 4, loss is    6.17.\n",
            "The average loss for epoch 1 is    6.17 and mean absolute error is    2.06.\n",
            "For batch 0, loss is    6.51.\n",
            "For batch 1, loss is    5.75.\n",
            "For batch 2, loss is    5.42.\n",
            "For batch 3, loss is    5.38.\n",
            "For batch 4, loss is    5.40.\n",
            "The average loss for epoch 2 is    5.40 and mean absolute error is    1.89.\n",
            "For batch 0, loss is   11.22.\n",
            "For batch 1, loss is   16.06.\n",
            "For batch 2, loss is   23.59.\n",
            "For batch 3, loss is   26.06.\n",
            "For batch 4, loss is   25.30.\n",
            "The average loss for epoch 3 is   25.30 and mean absolute error is    4.31.\n",
            "导入当前最佳模型\n",
            "在00004: 提前停止训练\n"
          ],
          "name": "stdout"
        }
      ]
    },
    {
      "cell_type": "markdown",
      "metadata": {
        "id": "97qH7ITBiu7k"
      },
      "source": [
        "## 自定义学习率\r\n",
        "在模型训练中通常要做的一件事是随着训练轮次改变学习率。Keras后端公开了可用于设置变量的get_value API。在此示例中，我们展示了如何使用自定义的回调来动态更改学习率。\r\n",
        "\r\n",
        "注：这只是示例实现，请参见callbacks.LearningRateScheduler和keras.optimizers.schedules有关更一般的实现。"
      ]
    },
    {
      "cell_type": "code",
      "metadata": {
        "id": "2GOJ1Ezcil9C"
      },
      "source": [
        "\r\n",
        "class LearningRateScheduler(tf.keras.callbacks.Callback):\r\n",
        "    def __init__(self, schedule):\r\n",
        "        super(LearningRateScheduler, self).__init__()\r\n",
        "        self.schedule = schedule\r\n",
        "        \r\n",
        "    def on_epoch_begin(self, epoch, logs=None):\r\n",
        "        if not hasattr(self.model.optimizer, 'lr'):\r\n",
        "            raise ValueError('Optimizer没有lr参数。')\r\n",
        "        # 获取当前lr\r\n",
        "        lr = float(tf.keras.backend.get_value(self.model.optimizer.lr))\r\n",
        "        # 调整lr\r\n",
        "        scheduled_lr = self.schedule(epoch, lr)\r\n",
        "        tf.keras.backend.set_value(self.model.optimizer.lr, scheduled_lr)\r\n",
        "        print('Epoch %05d: 学习率为%6.4f.'%(epoch, scheduled_lr))"
      ],
      "execution_count": 12,
      "outputs": []
    },
    {
      "cell_type": "markdown",
      "metadata": {
        "id": "IwywICywi-tQ"
      },
      "source": [
        "\r\n",
        "按轮次调整学习率"
      ]
    },
    {
      "cell_type": "code",
      "metadata": {
        "colab": {
          "base_uri": "https://localhost:8080/"
        },
        "id": "O8ZNZiBOi_wg",
        "outputId": "db21b1e6-04f2-4575-b8b5-85a5210cc0ce"
      },
      "source": [
        "\r\n",
        "LR_SCHEDULE = [\r\n",
        "    # (epoch to start, learning rate) tuples\r\n",
        "    (3, 0.05), (6, 0.01), (9, 0.005), (12, 0.001)\r\n",
        "]\r\n",
        "\r\n",
        "def lr_schedule(epoch, lr):\r\n",
        "    if epoch < LR_SCHEDULE[0][0] or epoch > LR_SCHEDULE[-1][0]:\r\n",
        "        return lr\r\n",
        "    for i in range(len(LR_SCHEDULE)):\r\n",
        "        if epoch == LR_SCHEDULE[i][0]:\r\n",
        "            return LR_SCHEDULE[i][1]\r\n",
        "    return lr\r\n",
        "\r\n",
        "model = get_model()\r\n",
        "_ = model.fit(x_train, y_train,\r\n",
        "          batch_size=64,\r\n",
        "          steps_per_epoch=5,\r\n",
        "          epochs=15,\r\n",
        "          verbose=0,\r\n",
        "          callbacks=[LossAndErrorPrintingCallback(), LearningRateScheduler(lr_schedule)])"
      ],
      "execution_count": 13,
      "outputs": [
        {
          "output_type": "stream",
          "text": [
            "Epoch 00000: 学习率为0.1000.\n",
            "For batch 0, loss is   23.23.\n",
            "For batch 1, loss is  486.80.\n",
            "For batch 2, loss is  334.04.\n",
            "For batch 3, loss is  252.60.\n",
            "For batch 4, loss is  203.43.\n",
            "The average loss for epoch 0 is  203.43 and mean absolute error is    8.37.\n",
            "Epoch 00001: 学习率为0.1000.\n",
            "For batch 0, loss is    6.56.\n",
            "For batch 1, loss is    6.60.\n",
            "For batch 2, loss is    6.01.\n",
            "For batch 3, loss is    6.15.\n",
            "For batch 4, loss is    6.10.\n",
            "The average loss for epoch 1 is    6.10 and mean absolute error is    2.02.\n",
            "Epoch 00002: 学习率为0.1000.\n",
            "For batch 0, loss is    5.31.\n",
            "For batch 1, loss is    5.34.\n",
            "For batch 2, loss is    5.41.\n",
            "For batch 3, loss is    5.79.\n",
            "For batch 4, loss is    5.81.\n",
            "The average loss for epoch 2 is    5.81 and mean absolute error is    1.95.\n",
            "Epoch 00003: 学习率为0.0500.\n",
            "For batch 0, loss is    5.59.\n",
            "For batch 1, loss is    5.16.\n",
            "For batch 2, loss is    5.52.\n",
            "For batch 3, loss is    5.37.\n",
            "For batch 4, loss is    5.27.\n",
            "The average loss for epoch 3 is    5.27 and mean absolute error is    1.85.\n",
            "Epoch 00004: 学习率为0.0500.\n",
            "For batch 0, loss is    4.19.\n",
            "For batch 1, loss is    4.06.\n",
            "For batch 2, loss is    4.59.\n",
            "For batch 3, loss is    4.48.\n",
            "For batch 4, loss is    4.59.\n",
            "The average loss for epoch 4 is    4.59 and mean absolute error is    1.70.\n",
            "Epoch 00005: 学习率为0.0500.\n",
            "For batch 0, loss is    6.04.\n",
            "For batch 1, loss is    5.57.\n",
            "For batch 2, loss is    5.77.\n",
            "For batch 3, loss is    5.26.\n",
            "For batch 4, loss is    5.25.\n",
            "The average loss for epoch 5 is    5.25 and mean absolute error is    1.87.\n",
            "Epoch 00006: 学习率为0.0100.\n",
            "For batch 0, loss is    6.19.\n",
            "For batch 1, loss is    5.28.\n",
            "For batch 2, loss is    4.56.\n",
            "For batch 3, loss is    4.53.\n",
            "For batch 4, loss is    4.50.\n",
            "The average loss for epoch 6 is    4.50 and mean absolute error is    1.73.\n",
            "Epoch 00007: 学习率为0.0100.\n",
            "For batch 0, loss is    4.34.\n",
            "For batch 1, loss is    4.43.\n",
            "For batch 2, loss is    4.05.\n",
            "For batch 3, loss is    4.27.\n",
            "For batch 4, loss is    4.26.\n",
            "The average loss for epoch 7 is    4.26 and mean absolute error is    1.65.\n",
            "Epoch 00008: 学习率为0.0100.\n",
            "For batch 0, loss is    3.65.\n",
            "For batch 1, loss is    3.43.\n",
            "For batch 2, loss is    3.91.\n",
            "For batch 3, loss is    3.96.\n",
            "For batch 4, loss is    3.88.\n",
            "The average loss for epoch 8 is    3.88 and mean absolute error is    1.59.\n",
            "Epoch 00009: 学习率为0.0050.\n",
            "For batch 0, loss is    3.54.\n",
            "For batch 1, loss is    3.38.\n",
            "For batch 2, loss is    3.37.\n",
            "For batch 3, loss is    3.90.\n",
            "For batch 4, loss is    3.91.\n",
            "The average loss for epoch 9 is    3.91 and mean absolute error is    1.57.\n",
            "Epoch 00010: 学习率为0.0050.\n",
            "For batch 0, loss is    4.63.\n",
            "For batch 1, loss is    3.50.\n",
            "For batch 2, loss is    3.94.\n",
            "For batch 3, loss is    4.02.\n",
            "For batch 4, loss is    4.11.\n",
            "The average loss for epoch 10 is    4.11 and mean absolute error is    1.58.\n",
            "Epoch 00011: 学习率为0.0050.\n",
            "For batch 0, loss is    3.27.\n",
            "For batch 1, loss is    5.26.\n",
            "For batch 2, loss is    4.87.\n",
            "For batch 3, loss is    4.82.\n",
            "For batch 4, loss is    4.59.\n",
            "The average loss for epoch 11 is    4.59 and mean absolute error is    1.72.\n",
            "Epoch 00012: 学习率为0.0010.\n",
            "For batch 0, loss is    3.80.\n",
            "For batch 1, loss is    3.55.\n",
            "For batch 2, loss is    3.94.\n",
            "For batch 3, loss is    4.21.\n",
            "For batch 4, loss is    4.27.\n",
            "The average loss for epoch 12 is    4.27 and mean absolute error is    1.64.\n",
            "Epoch 00013: 学习率为0.0010.\n",
            "For batch 0, loss is    4.20.\n",
            "For batch 1, loss is    4.03.\n",
            "For batch 2, loss is    4.14.\n",
            "For batch 3, loss is    3.97.\n",
            "For batch 4, loss is    4.09.\n",
            "The average loss for epoch 13 is    4.09 and mean absolute error is    1.62.\n",
            "Epoch 00014: 学习率为0.0010.\n",
            "For batch 0, loss is    4.21.\n",
            "For batch 1, loss is    3.65.\n",
            "For batch 2, loss is    4.09.\n",
            "For batch 3, loss is    4.12.\n",
            "For batch 4, loss is    4.05.\n",
            "The average loss for epoch 14 is    4.05 and mean absolute error is    1.60.\n"
          ],
          "name": "stdout"
        }
      ]
    }
  ]
}