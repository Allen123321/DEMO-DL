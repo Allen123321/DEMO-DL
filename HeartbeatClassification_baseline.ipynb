{
  "nbformat": 4,
  "nbformat_minor": 0,
  "metadata": {
    "colab": {
      "name": "HeartbeatClassification_baseline.ipynb",
      "provenance": [],
      "mount_file_id": "1ysUhbPWQF34fwpQ3XYTQoHTJyJLV9xjQ",
      "authorship_tag": "ABX9TyP9AdLYGvq8AAlgaeVebrPz",
      "include_colab_link": true
    },
    "kernelspec": {
      "name": "python3",
      "display_name": "Python 3"
    },
    "language_info": {
      "name": "python"
    }
  },
  "cells": [
    {
      "cell_type": "markdown",
      "metadata": {
        "id": "view-in-github",
        "colab_type": "text"
      },
      "source": [
        "<a href=\"https://colab.research.google.com/github/Allen123321/DEMO-DL/blob/master/HeartbeatClassification_baseline.ipynb\" target=\"_parent\"><img src=\"https://colab.research.google.com/assets/colab-badge.svg\" alt=\"Open In Colab\"/></a>"
      ]
    },
    {
      "cell_type": "markdown",
      "metadata": {
        "id": "Rn_l8qPBNiPg"
      },
      "source": [
        "1.导入第三方包"
      ]
    },
    {
      "cell_type": "code",
      "metadata": {
        "colab": {
          "base_uri": "https://localhost:8080/"
        },
        "id": "m5pSZqcPNyvq",
        "outputId": "98973490-2fc9-4403-b627-e19a7d1d1876"
      },
      "source": [
        "! pip install catboost"
      ],
      "execution_count": 1,
      "outputs": [
        {
          "output_type": "stream",
          "text": [
            "Collecting catboost\n",
            "\u001b[?25l  Downloading https://files.pythonhosted.org/packages/47/80/8e9c57ec32dfed6ba2922bc5c96462cbf8596ce1a6f5de532ad1e43e53fe/catboost-0.25.1-cp37-none-manylinux1_x86_64.whl (67.3MB)\n",
            "\u001b[K     |████████████████████████████████| 67.3MB 54kB/s \n",
            "\u001b[?25hRequirement already satisfied: graphviz in /usr/local/lib/python3.7/dist-packages (from catboost) (0.10.1)\n",
            "Requirement already satisfied: matplotlib in /usr/local/lib/python3.7/dist-packages (from catboost) (3.2.2)\n",
            "Requirement already satisfied: plotly in /usr/local/lib/python3.7/dist-packages (from catboost) (4.4.1)\n",
            "Requirement already satisfied: six in /usr/local/lib/python3.7/dist-packages (from catboost) (1.15.0)\n",
            "Requirement already satisfied: pandas>=0.24.0 in /usr/local/lib/python3.7/dist-packages (from catboost) (1.1.5)\n",
            "Requirement already satisfied: numpy>=1.16.0 in /usr/local/lib/python3.7/dist-packages (from catboost) (1.19.5)\n",
            "Requirement already satisfied: scipy in /usr/local/lib/python3.7/dist-packages (from catboost) (1.4.1)\n",
            "Requirement already satisfied: kiwisolver>=1.0.1 in /usr/local/lib/python3.7/dist-packages (from matplotlib->catboost) (1.3.1)\n",
            "Requirement already satisfied: pyparsing!=2.0.4,!=2.1.2,!=2.1.6,>=2.0.1 in /usr/local/lib/python3.7/dist-packages (from matplotlib->catboost) (2.4.7)\n",
            "Requirement already satisfied: python-dateutil>=2.1 in /usr/local/lib/python3.7/dist-packages (from matplotlib->catboost) (2.8.1)\n",
            "Requirement already satisfied: cycler>=0.10 in /usr/local/lib/python3.7/dist-packages (from matplotlib->catboost) (0.10.0)\n",
            "Requirement already satisfied: retrying>=1.3.3 in /usr/local/lib/python3.7/dist-packages (from plotly->catboost) (1.3.3)\n",
            "Requirement already satisfied: pytz>=2017.2 in /usr/local/lib/python3.7/dist-packages (from pandas>=0.24.0->catboost) (2018.9)\n",
            "Installing collected packages: catboost\n",
            "Successfully installed catboost-0.25.1\n"
          ],
          "name": "stdout"
        }
      ]
    },
    {
      "cell_type": "code",
      "metadata": {
        "id": "OWeXMChONRkV"
      },
      "source": [
        "import os\n",
        "import gc\n",
        "import math\n",
        "\n",
        "import pandas as pd\n",
        "import numpy as np\n",
        "\n",
        "import lightgbm as lgb\n",
        "import xgboost as xgb\n",
        "from catboost import CatBoostRegressor\n",
        "from sklearn.linear_model import SGDRegressor, LinearRegression, Ridge\n",
        "from sklearn.preprocessing import MinMaxScaler\n",
        "\n",
        "\n",
        "from sklearn.model_selection import StratifiedKFold, KFold\n",
        "from sklearn.metrics import log_loss\n",
        "from sklearn.model_selection import train_test_split\n",
        "from sklearn.preprocessing import OneHotEncoder\n",
        "\n",
        "from tqdm import tqdm\n",
        "import matplotlib.pyplot as plt\n",
        "import time\n",
        "import warnings\n",
        "warnings.filterwarnings('ignore')"
      ],
      "execution_count": 2,
      "outputs": []
    },
    {
      "cell_type": "markdown",
      "metadata": {
        "id": "FcN5FJPoPDPK"
      },
      "source": [
        "读取数据"
      ]
    },
    {
      "cell_type": "code",
      "metadata": {
        "colab": {
          "base_uri": "https://localhost:8080/",
          "height": 196
        },
        "id": "aRyz7PC1PBAs",
        "outputId": "3038c5bc-8018-4ca5-f550-ad727fc33e8f"
      },
      "source": [
        "train = pd.read_csv('/content/drive/MyDrive/dataset/heartbeat-data/train.csv')\n",
        "test=pd.read_csv('/content/drive/MyDrive/dataset/heartbeat-data/testA.csv')\n",
        "train.head()"
      ],
      "execution_count": 3,
      "outputs": [
        {
          "output_type": "execute_result",
          "data": {
            "text/html": [
              "<div>\n",
              "<style scoped>\n",
              "    .dataframe tbody tr th:only-of-type {\n",
              "        vertical-align: middle;\n",
              "    }\n",
              "\n",
              "    .dataframe tbody tr th {\n",
              "        vertical-align: top;\n",
              "    }\n",
              "\n",
              "    .dataframe thead th {\n",
              "        text-align: right;\n",
              "    }\n",
              "</style>\n",
              "<table border=\"1\" class=\"dataframe\">\n",
              "  <thead>\n",
              "    <tr style=\"text-align: right;\">\n",
              "      <th></th>\n",
              "      <th>id</th>\n",
              "      <th>heartbeat_signals</th>\n",
              "      <th>label</th>\n",
              "    </tr>\n",
              "  </thead>\n",
              "  <tbody>\n",
              "    <tr>\n",
              "      <th>0</th>\n",
              "      <td>0</td>\n",
              "      <td>0.9912297987616655,0.9435330436439665,0.764677...</td>\n",
              "      <td>0.0</td>\n",
              "    </tr>\n",
              "    <tr>\n",
              "      <th>1</th>\n",
              "      <td>1</td>\n",
              "      <td>0.9714822034884503,0.9289687459588268,0.572932...</td>\n",
              "      <td>0.0</td>\n",
              "    </tr>\n",
              "    <tr>\n",
              "      <th>2</th>\n",
              "      <td>2</td>\n",
              "      <td>1.0,0.9591487564065292,0.7013782792997189,0.23...</td>\n",
              "      <td>2.0</td>\n",
              "    </tr>\n",
              "    <tr>\n",
              "      <th>3</th>\n",
              "      <td>3</td>\n",
              "      <td>0.9757952826275774,0.9340884687738161,0.659636...</td>\n",
              "      <td>0.0</td>\n",
              "    </tr>\n",
              "    <tr>\n",
              "      <th>4</th>\n",
              "      <td>4</td>\n",
              "      <td>0.0,0.055816398940721094,0.26129357194994196,0...</td>\n",
              "      <td>2.0</td>\n",
              "    </tr>\n",
              "  </tbody>\n",
              "</table>\n",
              "</div>"
            ],
            "text/plain": [
              "   id                                  heartbeat_signals  label\n",
              "0   0  0.9912297987616655,0.9435330436439665,0.764677...    0.0\n",
              "1   1  0.9714822034884503,0.9289687459588268,0.572932...    0.0\n",
              "2   2  1.0,0.9591487564065292,0.7013782792997189,0.23...    2.0\n",
              "3   3  0.9757952826275774,0.9340884687738161,0.659636...    0.0\n",
              "4   4  0.0,0.055816398940721094,0.26129357194994196,0...    2.0"
            ]
          },
          "metadata": {
            "tags": []
          },
          "execution_count": 3
        }
      ]
    },
    {
      "cell_type": "code",
      "metadata": {
        "colab": {
          "base_uri": "https://localhost:8080/",
          "height": 196
        },
        "id": "3M7ZWYv7PVGz",
        "outputId": "92e8071e-bd6d-4f9a-f7e4-6144a2158c47"
      },
      "source": [
        "test.head()"
      ],
      "execution_count": 4,
      "outputs": [
        {
          "output_type": "execute_result",
          "data": {
            "text/html": [
              "<div>\n",
              "<style scoped>\n",
              "    .dataframe tbody tr th:only-of-type {\n",
              "        vertical-align: middle;\n",
              "    }\n",
              "\n",
              "    .dataframe tbody tr th {\n",
              "        vertical-align: top;\n",
              "    }\n",
              "\n",
              "    .dataframe thead th {\n",
              "        text-align: right;\n",
              "    }\n",
              "</style>\n",
              "<table border=\"1\" class=\"dataframe\">\n",
              "  <thead>\n",
              "    <tr style=\"text-align: right;\">\n",
              "      <th></th>\n",
              "      <th>id</th>\n",
              "      <th>heartbeat_signals</th>\n",
              "    </tr>\n",
              "  </thead>\n",
              "  <tbody>\n",
              "    <tr>\n",
              "      <th>0</th>\n",
              "      <td>100000</td>\n",
              "      <td>0.9915713654170097,1.0,0.6318163407681274,0.13...</td>\n",
              "    </tr>\n",
              "    <tr>\n",
              "      <th>1</th>\n",
              "      <td>100001</td>\n",
              "      <td>0.6075533139615096,0.5417083883163654,0.340694...</td>\n",
              "    </tr>\n",
              "    <tr>\n",
              "      <th>2</th>\n",
              "      <td>100002</td>\n",
              "      <td>0.9752726292239277,0.6710965234906665,0.686758...</td>\n",
              "    </tr>\n",
              "    <tr>\n",
              "      <th>3</th>\n",
              "      <td>100003</td>\n",
              "      <td>0.9956348033996116,0.9170249621481004,0.521096...</td>\n",
              "    </tr>\n",
              "    <tr>\n",
              "      <th>4</th>\n",
              "      <td>100004</td>\n",
              "      <td>1.0,0.8879490481178918,0.745564725322326,0.531...</td>\n",
              "    </tr>\n",
              "  </tbody>\n",
              "</table>\n",
              "</div>"
            ],
            "text/plain": [
              "       id                                  heartbeat_signals\n",
              "0  100000  0.9915713654170097,1.0,0.6318163407681274,0.13...\n",
              "1  100001  0.6075533139615096,0.5417083883163654,0.340694...\n",
              "2  100002  0.9752726292239277,0.6710965234906665,0.686758...\n",
              "3  100003  0.9956348033996116,0.9170249621481004,0.521096...\n",
              "4  100004  1.0,0.8879490481178918,0.745564725322326,0.531..."
            ]
          },
          "metadata": {
            "tags": []
          },
          "execution_count": 4
        }
      ]
    },
    {
      "cell_type": "markdown",
      "metadata": {
        "id": "zmXtDvakPZXh"
      },
      "source": [
        "3.数据预处理"
      ]
    },
    {
      "cell_type": "code",
      "metadata": {
        "id": "Wml6Igo3PYTn"
      },
      "source": [
        "def reduce_mem_usage(df):\n",
        "    start_mem = df.memory_usage().sum() / 1024**2 \n",
        "    print('Memory usage of dataframe is {:.2f} MB'.format(start_mem))\n",
        "    \n",
        "    for col in df.columns:\n",
        "        col_type = df[col].dtype\n",
        "        \n",
        "        if col_type != object:\n",
        "            c_min = df[col].min()\n",
        "            c_max = df[col].max()\n",
        "            if str(col_type)[:3] == 'int':\n",
        "                if c_min > np.iinfo(np.int8).min and c_max < np.iinfo(np.int8).max:\n",
        "                    df[col] = df[col].astype(np.int8)\n",
        "                elif c_min > np.iinfo(np.int16).min and c_max < np.iinfo(np.int16).max:\n",
        "                    df[col] = df[col].astype(np.int16)\n",
        "                elif c_min > np.iinfo(np.int32).min and c_max < np.iinfo(np.int32).max:\n",
        "                    df[col] = df[col].astype(np.int32)\n",
        "                elif c_min > np.iinfo(np.int64).min and c_max < np.iinfo(np.int64).max:\n",
        "                    df[col] = df[col].astype(np.int64)  \n",
        "            else:\n",
        "                if c_min > np.finfo(np.float16).min and c_max < np.finfo(np.float16).max:\n",
        "                    df[col] = df[col].astype(np.float16)\n",
        "                elif c_min > np.finfo(np.float32).min and c_max < np.finfo(np.float32).max:\n",
        "                    df[col] = df[col].astype(np.float32)\n",
        "                else:\n",
        "                    df[col] = df[col].astype(np.float64)\n",
        "        else:\n",
        "            df[col] = df[col].astype('category')\n",
        "\n",
        "    end_mem = df.memory_usage().sum() / 1024**2 \n",
        "    print('Memory usage after optimization is: {:.2f} MB'.format(end_mem))\n",
        "    print('Decreased by {:.1f}%'.format(100 * (start_mem - end_mem) / start_mem))\n",
        "    \n",
        "    return df"
      ],
      "execution_count": 5,
      "outputs": []
    },
    {
      "cell_type": "code",
      "metadata": {
        "colab": {
          "base_uri": "https://localhost:8080/"
        },
        "id": "uzZb-W6jQe8b",
        "outputId": "a8202031-a0c2-499b-82b4-2a4deb26bbaf"
      },
      "source": [
        "# 简单预处理\n",
        "train_list = []\n",
        "\n",
        "for items in train.values:\n",
        "    train_list.append([items[0]] + [float(i) for i in items[1].split(',')] + [items[2]])\n",
        "\n",
        "train = pd.DataFrame(np.array(train_list))\n",
        "train.columns = ['id'] + ['s_'+str(i) for i in range(len(train_list[0])-2)] + ['label']\n",
        "train = reduce_mem_usage(train)\n",
        "\n",
        "test_list=[]\n",
        "for items in test.values:\n",
        "    test_list.append([items[0]] + [float(i) for i in items[1].split(',')])\n",
        "\n",
        "test = pd.DataFrame(np.array(test_list))\n",
        "test.columns = ['id'] + ['s_'+str(i) for i in range(len(test_list[0])-1)]\n",
        "test = reduce_mem_usage(test)"
      ],
      "execution_count": 6,
      "outputs": [
        {
          "output_type": "stream",
          "text": [
            "Memory usage of dataframe is 157.93 MB\n",
            "Memory usage after optimization is: 39.67 MB\n",
            "Decreased by 74.9%\n",
            "Memory usage of dataframe is 31.43 MB\n",
            "Memory usage after optimization is: 7.90 MB\n",
            "Decreased by 74.9%\n"
          ],
          "name": "stdout"
        }
      ]
    },
    {
      "cell_type": "markdown",
      "metadata": {
        "id": "ymtojth5Q1cY"
      },
      "source": [
        "训练数据/测试数据准备"
      ]
    },
    {
      "cell_type": "code",
      "metadata": {
        "id": "h_XBTLBNQ05X"
      },
      "source": [
        "x_train = train.drop(['id','label'], axis=1)\n",
        "y_train = train['label']\n",
        "x_test=test.drop(['id'], axis=1)"
      ],
      "execution_count": 7,
      "outputs": []
    },
    {
      "cell_type": "markdown",
      "metadata": {
        "id": "Y_de0IjxRZvO"
      },
      "source": [
        "5.模型训练"
      ]
    },
    {
      "cell_type": "code",
      "metadata": {
        "id": "A1mKG8ZeRZQA"
      },
      "source": [
        "# @cuda.jit\n",
        "def abs_sum(y_pre,y_tru):\n",
        "    y_pre=np.array(y_pre)\n",
        "    y_tru=np.array(y_tru)\n",
        "    loss=sum(sum(abs(y_pre-y_tru)))\n",
        "    return loss"
      ],
      "execution_count": 8,
      "outputs": []
    },
    {
      "cell_type": "code",
      "metadata": {
        "id": "Sg5l12QUQxxD"
      },
      "source": [
        "# @cuda.jit\n",
        "def cv_model(clf, train_x, train_y, test_x, clf_name):\n",
        "    folds = 5\n",
        "    seed = 2021\n",
        "    kf = KFold(n_splits=folds, shuffle=True, random_state=seed)\n",
        "    test = np.zeros((test_x.shape[0],4))\n",
        "\n",
        "    cv_scores = []\n",
        "    onehot_encoder = OneHotEncoder(sparse=False)\n",
        "    for i, (train_index, valid_index) in enumerate(kf.split(train_x, train_y)):\n",
        "        print('************************************ {} ************************************'.format(str(i+1)))\n",
        "        trn_x, trn_y, val_x, val_y = train_x.iloc[train_index], train_y[train_index], train_x.iloc[valid_index], train_y[valid_index]\n",
        "        \n",
        "        if clf_name == \"lgb\":\n",
        "            train_matrix = clf.Dataset(trn_x, label=trn_y)\n",
        "            valid_matrix = clf.Dataset(val_x, label=val_y)\n",
        "\n",
        "            params = {\n",
        "                'boosting_type': 'gbdt',\n",
        "                'objective': 'multiclass',\n",
        "                'num_class': 4,\n",
        "                'num_leaves': 2 ** 5,\n",
        "                'feature_fraction': 0.8,\n",
        "                'bagging_fraction': 0.8,\n",
        "                'bagging_freq': 4,\n",
        "                'learning_rate': 0.1,\n",
        "                'seed': seed,\n",
        "                'nthread': 28,\n",
        "                'n_jobs':24,\n",
        "                'verbose': -1,\n",
        "            }\n",
        "\n",
        "            model = clf.train(params, \n",
        "                      train_set=train_matrix, \n",
        "                      valid_sets=valid_matrix, \n",
        "                      num_boost_round=2000, \n",
        "                      verbose_eval=100, \n",
        "                      early_stopping_rounds=200)\n",
        "            val_pred = model.predict(val_x, num_iteration=model.best_iteration)\n",
        "            test_pred = model.predict(test_x, num_iteration=model.best_iteration) \n",
        "            \n",
        "        val_y=np.array(val_y).reshape(-1, 1)\n",
        "        val_y = onehot_encoder.fit_transform(val_y)\n",
        "        print('预测的概率矩阵为：')\n",
        "        print(test_pred)\n",
        "        test += test_pred\n",
        "        score=abs_sum(val_y, val_pred)\n",
        "        cv_scores.append(score)\n",
        "        print(cv_scores)\n",
        "    print(\"%s_scotrainre_list:\" % clf_name, cv_scores)\n",
        "    print(\"%s_score_mean:\" % clf_name, np.mean(cv_scores))\n",
        "    print(\"%s_score_std:\" % clf_name, np.std(cv_scores))\n",
        "    test=test/kf.n_splits\n",
        "\n",
        "    return test"
      ],
      "execution_count": 9,
      "outputs": []
    },
    {
      "cell_type": "code",
      "metadata": {
        "colab": {
          "base_uri": "https://localhost:8080/"
        },
        "id": "9pXdCJlrWn4A",
        "outputId": "a386702d-ebc6-4723-8966-9621054df3ed"
      },
      "source": [
        "!echo $CUDA_HOME"
      ],
      "execution_count": 10,
      "outputs": [
        {
          "output_type": "stream",
          "text": [
            "\n"
          ],
          "name": "stdout"
        }
      ]
    },
    {
      "cell_type": "code",
      "metadata": {
        "colab": {
          "base_uri": "https://localhost:8080/"
        },
        "id": "IjYRQG0lWrmW",
        "outputId": "37f63cb2-5bc3-497d-be25-1c20740b32b4"
      },
      "source": [
        "!nvidia-smi"
      ],
      "execution_count": 11,
      "outputs": [
        {
          "output_type": "stream",
          "text": [
            "Tue Apr  6 09:13:04 2021       \n",
            "+-----------------------------------------------------------------------------+\n",
            "| NVIDIA-SMI 460.67       Driver Version: 460.32.03    CUDA Version: 11.2     |\n",
            "|-------------------------------+----------------------+----------------------+\n",
            "| GPU  Name        Persistence-M| Bus-Id        Disp.A | Volatile Uncorr. ECC |\n",
            "| Fan  Temp  Perf  Pwr:Usage/Cap|         Memory-Usage | GPU-Util  Compute M. |\n",
            "|                               |                      |               MIG M. |\n",
            "|===============================+======================+======================|\n",
            "|   0  Tesla K80           Off  | 00000000:00:04.0 Off |                    0 |\n",
            "| N/A   71C    P8    33W / 149W |      0MiB / 11441MiB |      0%      Default |\n",
            "|                               |                      |                  N/A |\n",
            "+-------------------------------+----------------------+----------------------+\n",
            "                                                                               \n",
            "+-----------------------------------------------------------------------------+\n",
            "| Processes:                                                                  |\n",
            "|  GPU   GI   CI        PID   Type   Process name                  GPU Memory |\n",
            "|        ID   ID                                                   Usage      |\n",
            "|=============================================================================|\n",
            "|  No running processes found                                                 |\n",
            "+-----------------------------------------------------------------------------+\n"
          ],
          "name": "stdout"
        }
      ]
    },
    {
      "cell_type": "code",
      "metadata": {
        "id": "Zt1FI-GyW3kx"
      },
      "source": [
        "from numba import cuda"
      ],
      "execution_count": 12,
      "outputs": []
    },
    {
      "cell_type": "code",
      "metadata": {
        "colab": {
          "base_uri": "https://localhost:8080/"
        },
        "id": "JGVRInjFRzy7",
        "outputId": "9fdf429f-4933-4759-91a5-8620d29a3c63"
      },
      "source": [
        "# @cuda.jit\n",
        "def lgb_model(x_train, y_train, x_test):\n",
        "    lgb_test = cv_model(lgb, x_train, y_train, x_test, \"lgb\")\n",
        "    return lgb_test\n",
        "lgb_test = lgb_model(x_train, y_train, x_test)"
      ],
      "execution_count": 10,
      "outputs": [
        {
          "output_type": "stream",
          "text": [
            "************************************ 1 ************************************\n",
            "Training until validation scores don't improve for 200 rounds.\n",
            "[100]\tvalid_0's multi_logloss: 0.064112\n",
            "[200]\tvalid_0's multi_logloss: 0.0459167\n",
            "[300]\tvalid_0's multi_logloss: 0.0408373\n",
            "[400]\tvalid_0's multi_logloss: 0.0392399\n",
            "[500]\tvalid_0's multi_logloss: 0.0392175\n",
            "[600]\tvalid_0's multi_logloss: 0.0405053\n",
            "Early stopping, best iteration is:\n",
            "[463]\tvalid_0's multi_logloss: 0.0389485\n",
            "预测的概率矩阵为：\n",
            "[[9.99961153e-01 3.79594757e-05 5.40269890e-07 3.47753326e-07]\n",
            " [4.99636350e-05 5.92518438e-04 9.99357510e-01 8.40463147e-09]\n",
            " [1.13534131e-06 6.17413877e-08 5.21828651e-07 9.99998281e-01]\n",
            " ...\n",
            " [1.22083700e-01 2.13622465e-04 8.77693686e-01 8.99180470e-06]\n",
            " [9.99980119e-01 1.98198246e-05 3.10446404e-08 2.99597008e-08]\n",
            " [9.94006248e-01 1.02828877e-03 3.81770253e-03 1.14776091e-03]]\n",
            "[579.1476207255504]\n",
            "************************************ 2 ************************************\n",
            "Training until validation scores don't improve for 200 rounds.\n",
            "[100]\tvalid_0's multi_logloss: 0.0687167\n",
            "[200]\tvalid_0's multi_logloss: 0.0502461\n",
            "[300]\tvalid_0's multi_logloss: 0.0448571\n",
            "[400]\tvalid_0's multi_logloss: 0.0434752\n",
            "[500]\tvalid_0's multi_logloss: 0.0437877\n",
            "[600]\tvalid_0's multi_logloss: 0.0451813\n",
            "Early stopping, best iteration is:\n",
            "[436]\tvalid_0's multi_logloss: 0.0432897\n",
            "预测的概率矩阵为：\n",
            "[[9.99991739e-01 7.88513434e-06 2.75344752e-07 1.00915251e-07]\n",
            " [2.49685427e-05 2.43497381e-04 9.99731529e-01 4.61614730e-09]\n",
            " [1.44652230e-06 5.27814431e-08 8.75834875e-07 9.99997625e-01]\n",
            " ...\n",
            " [1.73518192e-02 6.25526922e-04 9.82020954e-01 1.69956047e-06]\n",
            " [9.99964916e-01 3.49310996e-05 6.38724919e-08 8.85421858e-08]\n",
            " [9.49334496e-01 2.90531517e-03 4.51978522e-02 2.56233644e-03]]\n",
            "[579.1476207255504, 604.2307776963924]\n",
            "************************************ 3 ************************************\n",
            "Training until validation scores don't improve for 200 rounds.\n",
            "[100]\tvalid_0's multi_logloss: 0.0618889\n",
            "[200]\tvalid_0's multi_logloss: 0.0430953\n",
            "[300]\tvalid_0's multi_logloss: 0.0375819\n",
            "[400]\tvalid_0's multi_logloss: 0.0352853\n",
            "[500]\tvalid_0's multi_logloss: 0.0351532\n",
            "[600]\tvalid_0's multi_logloss: 0.0358523\n",
            "Early stopping, best iteration is:\n",
            "[430]\tvalid_0's multi_logloss: 0.0349329\n",
            "预测的概率矩阵为：\n",
            "[[9.99983568e-01 1.56724846e-05 1.94436783e-07 5.64651188e-07]\n",
            " [2.99349484e-05 2.43726437e-04 9.99726329e-01 9.67287310e-09]\n",
            " [2.31218700e-06 1.82129075e-07 6.88966798e-07 9.99996817e-01]\n",
            " ...\n",
            " [2.96181314e-02 2.17104772e-04 9.70149950e-01 1.48136138e-05]\n",
            " [9.99966536e-01 3.34076405e-05 4.80303648e-08 7.93476494e-09]\n",
            " [9.73829094e-01 5.30951041e-03 1.50529670e-02 5.80842848e-03]]\n",
            "[579.1476207255504, 604.2307776963924, 555.3013640683623]\n",
            "************************************ 4 ************************************\n",
            "Training until validation scores don't improve for 200 rounds.\n",
            "[100]\tvalid_0's multi_logloss: 0.0686223\n",
            "[200]\tvalid_0's multi_logloss: 0.0500697\n",
            "[300]\tvalid_0's multi_logloss: 0.045032\n",
            "[400]\tvalid_0's multi_logloss: 0.0440971\n",
            "[500]\tvalid_0's multi_logloss: 0.0446604\n",
            "[600]\tvalid_0's multi_logloss: 0.0464719\n",
            "Early stopping, best iteration is:\n",
            "[441]\tvalid_0's multi_logloss: 0.0439851\n",
            "预测的概率矩阵为：\n",
            "[[9.99993398e-01 5.63383991e-06 4.13276650e-07 5.54430625e-07]\n",
            " [4.23117526e-05 1.07414935e-03 9.98883518e-01 2.07032580e-08]\n",
            " [1.48865216e-06 1.48204734e-07 6.84974277e-07 9.99997678e-01]\n",
            " ...\n",
            " [1.76412184e-02 1.88982715e-04 9.82166158e-01 3.64074385e-06]\n",
            " [9.99938870e-01 6.10399865e-05 4.18069924e-08 4.79151711e-08]\n",
            " [8.63192676e-01 1.44352297e-02 1.12629861e-01 9.74223271e-03]]\n",
            "[579.1476207255504, 604.2307776963924, 555.3013640683623, 605.9808495854535]\n",
            "************************************ 5 ************************************\n",
            "Training until validation scores don't improve for 200 rounds.\n",
            "[100]\tvalid_0's multi_logloss: 0.0620219\n",
            "[200]\tvalid_0's multi_logloss: 0.0442736\n",
            "[300]\tvalid_0's multi_logloss: 0.038578\n",
            "[400]\tvalid_0's multi_logloss: 0.0372811\n",
            "[500]\tvalid_0's multi_logloss: 0.03731\n",
            "[600]\tvalid_0's multi_logloss: 0.0382158\n",
            "Early stopping, best iteration is:\n",
            "[439]\tvalid_0's multi_logloss: 0.036957\n",
            "预测的概率矩阵为：\n",
            "[[9.99982194e-01 1.70578170e-05 4.38130927e-07 3.10112892e-07]\n",
            " [5.29666403e-05 1.31372254e-03 9.98633279e-01 3.15655986e-08]\n",
            " [2.00659963e-06 1.05574382e-07 1.42520417e-06 9.99996463e-01]\n",
            " ...\n",
            " [1.00123126e-02 4.74424633e-05 9.89939074e-01 1.17041518e-06]\n",
            " [9.99920877e-01 7.90255835e-05 7.54952546e-08 2.23046247e-08]\n",
            " [9.65319082e-01 3.09196193e-03 2.49116248e-02 6.67733096e-03]]\n",
            "[579.1476207255504, 604.2307776963924, 555.3013640683623, 605.9808495854535, 570.2883889772513]\n",
            "lgb_scotrainre_list: [579.1476207255504, 604.2307776963924, 555.3013640683623, 605.9808495854535, 570.2883889772513]\n",
            "lgb_score_mean: 582.989800210602\n",
            "lgb_score_std: 19.608697878368336\n"
          ],
          "name": "stdout"
        }
      ]
    },
    {
      "cell_type": "markdown",
      "metadata": {
        "id": "BGSFM-iMSDLA"
      },
      "source": [
        "预测结果"
      ]
    },
    {
      "cell_type": "code",
      "metadata": {
        "id": "SsVFE9YdSCOZ"
      },
      "source": [
        "temp=pd.DataFrame(lgb_test)\n",
        "result=pd.read_csv('/content/drive/MyDrive/dataset/heartbeat-data/sample_submit.csv')\n",
        "result['label_0']=temp[0]\n",
        "result['label_1']=temp[1]\n",
        "result['label_2']=temp[2]\n",
        "result['label_3']=temp[3]\n",
        "result.to_csv('submit.csv',index=False)"
      ],
      "execution_count": 11,
      "outputs": []
    }
  ]
}