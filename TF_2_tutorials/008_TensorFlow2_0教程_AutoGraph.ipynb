{
  "nbformat": 4,
  "nbformat_minor": 0,
  "metadata": {
    "colab": {
      "name": "008.TensorFlow2.0教程-AutoGraph.ipynb",
      "provenance": [],
      "authorship_tag": "ABX9TyPZafIw0fdFX/OTRO4TFhXl",
      "include_colab_link": true
    },
    "kernelspec": {
      "name": "python3",
      "display_name": "Python 3"
    },
    "accelerator": "GPU"
  },
  "cells": [
    {
      "cell_type": "markdown",
      "metadata": {
        "id": "view-in-github",
        "colab_type": "text"
      },
      "source": [
        "<a href=\"https://colab.research.google.com/github/Allen123321/DEMO-DL/blob/master/008_TensorFlow2_0%E6%95%99%E7%A8%8B_AutoGraph.ipynb\" target=\"_parent\"><img src=\"https://colab.research.google.com/assets/colab-badge.svg\" alt=\"Open In Colab\"/></a>"
      ]
    },
    {
      "cell_type": "markdown",
      "metadata": {
        "id": "6SLSO_vZ_8Yn"
      },
      "source": [
        "tf.function的一个很酷的新功能是AutoGraph，它允许使用自然的Python语法编写图形代码。"
      ]
    },
    {
      "cell_type": "code",
      "metadata": {
        "id": "FBq05vgr_3Y_"
      },
      "source": [
        "import numpy as np\r\n",
        "import tensorflow as tf\r\n",
        "from tensorflow.python.ops import control_flow_util\r\n",
        "control_flow_util.ENABLE_CONTROL_FLOW_V2 = True"
      ],
      "execution_count": null,
      "outputs": []
    },
    {
      "cell_type": "markdown",
      "metadata": {
        "id": "nTdBMjN8F5Kt"
      },
      "source": [
        "### 1.tf.function装饰器\r\n",
        "当使用tf.function注释函数时，可以像调用任何其他函数一样调用它。 它将被编译成图，这意味着可以获得更快执行，更好地在GPU或TPU上运行或导出到SavedModel。"
      ]
    },
    {
      "cell_type": "code",
      "metadata": {
        "colab": {
          "base_uri": "https://localhost:8080/"
        },
        "id": "EqTTmMlYFg91",
        "outputId": "63159b61-68ae-4b2f-9355-d56582bbc825"
      },
      "source": [
        "@tf.function\r\n",
        "def simple_nn_layer(x,y):\r\n",
        "  return tf.nn.relu(tf.matmul(x,y)) #ReLU (rectified linear unit)\r\n",
        "\r\n",
        "x = tf.random.uniform((3,3))\r\n",
        "y = tf.random.uniform((3,3))\r\n",
        "print(x,y)"
      ],
      "execution_count": null,
      "outputs": [
        {
          "output_type": "stream",
          "text": [
            "tf.Tensor(\n",
            "[[0.1390537  0.6079837  0.4776001 ]\n",
            " [0.82905483 0.8028264  0.8668375 ]\n",
            " [0.7280388  0.72032845 0.27477336]], shape=(3, 3), dtype=float32) tf.Tensor(\n",
            "[[0.11848652 0.6014826  0.40673816]\n",
            " [0.65667975 0.55658734 0.5674547 ]\n",
            " [0.10427463 0.43542564 0.66451144]], shape=(3, 3), dtype=float32)\n"
          ],
          "name": "stdout"
        }
      ]
    },
    {
      "cell_type": "code",
      "metadata": {
        "colab": {
          "base_uri": "https://localhost:8080/"
        },
        "id": "CfPFHuMNGoPG",
        "outputId": "2fd63bc9-c7fd-49db-82de-573615310ea7"
      },
      "source": [
        "simple_nn_layer(x,y)"
      ],
      "execution_count": null,
      "outputs": [
        {
          "output_type": "execute_result",
          "data": {
            "text/plain": [
              "<tf.Tensor: shape=(3, 3), dtype=float32, numpy=\n",
              "array([[0.46552816, 0.62999374, 0.7189324 ],\n",
              "       [0.7158208 , 1.3229483 , 1.3687993 ],\n",
              "       [0.5879398 , 0.9584718 , 0.887465  ]], dtype=float32)>"
            ]
          },
          "metadata": {
            "tags": []
          },
          "execution_count": 3
        }
      ]
    },
    {
      "cell_type": "markdown",
      "metadata": {
        "id": "sUj-BNghHOaN"
      },
      "source": [
        "如果我们检查注释的结果，我们可以看到它是一个特殊的可调用函数，它处理与TensorFlow运行时的所有交互。"
      ]
    },
    {
      "cell_type": "code",
      "metadata": {
        "colab": {
          "base_uri": "https://localhost:8080/"
        },
        "id": "bJVUPgnoHUDm",
        "outputId": "38958fda-2eea-4289-ba08-ec781b670cd4"
      },
      "source": [
        "simple_nn_layer"
      ],
      "execution_count": null,
      "outputs": [
        {
          "output_type": "execute_result",
          "data": {
            "text/plain": [
              "<tensorflow.python.eager.def_function.Function at 0x7fd7a32da588>"
            ]
          },
          "metadata": {
            "tags": []
          },
          "execution_count": 4
        }
      ]
    },
    {
      "cell_type": "markdown",
      "metadata": {
        "id": "bR6QcVFvHYl-"
      },
      "source": [
        "如果代码使用多个函数，则无需对它们进行全部注释\r\n",
        "\r\n",
        "从带注释函数调用的任何函数也将以图形模式运行。"
      ]
    },
    {
      "cell_type": "code",
      "metadata": {
        "colab": {
          "base_uri": "https://localhost:8080/"
        },
        "id": "kaeu1sJdHX2z",
        "outputId": "cc30feba-602f-4969-c180-d4c2890ae7bc"
      },
      "source": [
        "def linear_layer(x):\r\n",
        "  return 2*x + 1\r\n",
        "@tf.function\r\n",
        "def deep_net(x):\r\n",
        "  return tf.nn.relu(linear_layer(x))\r\n",
        "\r\n",
        "deep_net(tf.constant((1,2,3))) "
      ],
      "execution_count": null,
      "outputs": [
        {
          "output_type": "execute_result",
          "data": {
            "text/plain": [
              "<tf.Tensor: shape=(3,), dtype=int32, numpy=array([3, 5, 7], dtype=int32)>"
            ]
          },
          "metadata": {
            "tags": []
          },
          "execution_count": 7
        }
      ]
    },
    {
      "cell_type": "markdown",
      "metadata": {
        "id": "327nT4feICJy"
      },
      "source": [
        "## 2.使用Python控制流程\r\n",
        "在tf.function中使用依赖于数据的控制流时，可以使用Python控制流语句，AutoGraph会将它们转换为适当的TensorFlow操作。 例如，如果语句依赖于Tensor，则语句将转换为tf.cond（）。"
      ]
    },
    {
      "cell_type": "code",
      "metadata": {
        "colab": {
          "base_uri": "https://localhost:8080/"
        },
        "id": "YrkPHeu4IBaS",
        "outputId": "60f2b2ab-f21c-4ba9-f9ff-49bb816f546e"
      },
      "source": [
        "\r\n",
        "@tf.function\r\n",
        "def square_if_positive(x):\r\n",
        "  if x > 0:\r\n",
        "    x = x * x\r\n",
        "  else:\r\n",
        "    x = 0\r\n",
        "  return x\r\n",
        "\r\n",
        "print('square_if_positive(2) = {}'.format(square_if_positive(tf.constant(2))))\r\n",
        "print('square_if_positive(-2) = {}'.format(square_if_positive(tf.constant(-2))))"
      ],
      "execution_count": null,
      "outputs": [
        {
          "output_type": "stream",
          "text": [
            "square_if_positive(2) = 4\n",
            "square_if_positive(-2) = 0\n"
          ],
          "name": "stdout"
        }
      ]
    },
    {
      "cell_type": "markdown",
      "metadata": {
        "id": "lG-beMZAJQmz"
      },
      "source": [
        "AutoGraph支持常见的Python语句，例如while，if，break，continue和return，支持嵌套。 这意味着可以在while和if语句的条件下使用Tensor表达式，或者在for循环中迭代Tensor。"
      ]
    },
    {
      "cell_type": "code",
      "metadata": {
        "colab": {
          "base_uri": "https://localhost:8080/"
        },
        "id": "cCFjTTdmJUyA",
        "outputId": "e04e3de3-49ef-483b-bc17-4b5b1f24b7d3"
      },
      "source": [
        "\r\n",
        "@tf.function\r\n",
        "def sum_even(items):\r\n",
        "  s = 0\r\n",
        "  for c in items:\r\n",
        "    if c % 2 > 0:\r\n",
        "      continue\r\n",
        "    s += c\r\n",
        "  return s\r\n",
        "\r\n",
        "\r\n",
        "sum_even(tf.constant([10, 12, 15, 20]))"
      ],
      "execution_count": null,
      "outputs": [
        {
          "output_type": "execute_result",
          "data": {
            "text/plain": [
              "<tf.Tensor: shape=(), dtype=int32, numpy=42>"
            ]
          },
          "metadata": {
            "tags": []
          },
          "execution_count": 9
        }
      ]
    },
    {
      "cell_type": "markdown",
      "metadata": {
        "id": "fGQln-0hLzWE"
      },
      "source": [
        "AutoGraph还为高级用户提供了低级API。 例如，我们可以使用它来查看生成的代码。"
      ]
    },
    {
      "cell_type": "code",
      "metadata": {
        "colab": {
          "base_uri": "https://localhost:8080/"
        },
        "id": "jnDDAF1HL3Ey",
        "outputId": "50003bc6-b6bf-4dce-bce9-fafa4b2a288b"
      },
      "source": [
        "print(tf.autograph.to_code(sum_even.python_function, experimental_optional_features=None))"
      ],
      "execution_count": null,
      "outputs": [
        {
          "output_type": "stream",
          "text": [
            "def tf__sum_even(items):\n",
            "    with ag__.FunctionScope('sum_even', 'fscope', ag__.ConversionOptions(recursive=True, user_requested=True, optional_features=(), internal_convert_user_code=True)) as fscope:\n",
            "        do_return = False\n",
            "        retval_ = ag__.UndefinedReturnValue()\n",
            "        s = 0\n",
            "\n",
            "        def get_state_2():\n",
            "            return (s,)\n",
            "\n",
            "        def set_state_2(vars_):\n",
            "            nonlocal s\n",
            "            (s,) = vars_\n",
            "\n",
            "        def loop_body(itr):\n",
            "            nonlocal s\n",
            "            c = itr\n",
            "            continue_ = False\n",
            "\n",
            "            def get_state():\n",
            "                return (continue_,)\n",
            "\n",
            "            def set_state(vars_):\n",
            "                nonlocal continue_\n",
            "                (continue_,) = vars_\n",
            "\n",
            "            def if_body():\n",
            "                nonlocal continue_\n",
            "                continue_ = True\n",
            "\n",
            "            def else_body():\n",
            "                nonlocal continue_\n",
            "                pass\n",
            "            ag__.if_stmt(((ag__.ld(c) % 2) > 0), if_body, else_body, get_state, set_state, ('continue_',), 1)\n",
            "\n",
            "            def get_state_1():\n",
            "                return (s,)\n",
            "\n",
            "            def set_state_1(vars_):\n",
            "                nonlocal s\n",
            "                (s,) = vars_\n",
            "\n",
            "            def if_body_1():\n",
            "                nonlocal s\n",
            "                s = ag__.ld(s)\n",
            "                s += c\n",
            "\n",
            "            def else_body_1():\n",
            "                nonlocal s\n",
            "                pass\n",
            "            ag__.if_stmt(ag__.not_(continue_), if_body_1, else_body_1, get_state_1, set_state_1, ('s',), 1)\n",
            "        c = ag__.Undefined('c')\n",
            "        continue_ = ag__.Undefined('continue_')\n",
            "        ag__.for_stmt(ag__.ld(items), None, loop_body, get_state_2, set_state_2, ('s',), {'iterate_names': 'c'})\n",
            "        try:\n",
            "            do_return = True\n",
            "            retval_ = ag__.ld(s)\n",
            "        except:\n",
            "            do_return = False\n",
            "            raise\n",
            "        return fscope.ret(retval_, do_return)\n",
            "\n"
          ],
          "name": "stdout"
        }
      ]
    },
    {
      "cell_type": "code",
      "metadata": {
        "colab": {
          "base_uri": "https://localhost:8080/"
        },
        "id": "xXbHEvN3MU_M",
        "outputId": "dfae591e-8075-40f7-bcca-f7423a77fe8f"
      },
      "source": [
        "# 一个更复杂的控制流程的例子：\r\n",
        "@tf.function\r\n",
        "def fizzbuzz(n):\r\n",
        "  msg = tf.constant('')\r\n",
        "  for i in tf.range(n):\r\n",
        "    if tf.equal(i % 3, 0):\r\n",
        "      msg += 'Fizz'\r\n",
        "    elif tf.equal(i % 5, 0):\r\n",
        "      msg += 'Buzz'\r\n",
        "    else:\r\n",
        "      msg += tf.as_string(i)\r\n",
        "    msg += '\\n'\r\n",
        "  return msg\r\n",
        "\r\n",
        "print(fizzbuzz(tf.constant(15)).numpy().decode())"
      ],
      "execution_count": null,
      "outputs": [
        {
          "output_type": "stream",
          "text": [
            "Fizz\n",
            "1\n",
            "2\n",
            "Fizz\n",
            "4\n",
            "Buzz\n",
            "Fizz\n",
            "7\n",
            "8\n",
            "Fizz\n",
            "Buzz\n",
            "11\n",
            "Fizz\n",
            "13\n",
            "14\n",
            "\n"
          ],
          "name": "stdout"
        }
      ]
    },
    {
      "cell_type": "markdown",
      "metadata": {
        "id": "iyHUWc4WUspo"
      },
      "source": [
        "3.Keras和AutoGraph<br>\r\n",
        "也可以将tf.function与对象方法一起使用。 例如，可以通过注释模型的调用函数来装饰自定义Keras模型。"
      ]
    },
    {
      "cell_type": "code",
      "metadata": {
        "colab": {
          "base_uri": "https://localhost:8080/"
        },
        "id": "-kOedIQIU9wF",
        "outputId": "c77bd192-1c0c-4aa2-d692-ba05581e759a"
      },
      "source": [
        "class CustomModel(tf.keras.models.Model):\r\n",
        "\r\n",
        "    @tf.function\r\n",
        "    def call(self, input_data):\r\n",
        "        if tf.reduce_mean(input_data) > 0:\r\n",
        "            return input_data\r\n",
        "        else:\r\n",
        "            return input_data // 2\r\n",
        "\r\n",
        "\r\n",
        "model = CustomModel()\r\n",
        "\r\n",
        "model(tf.constant([-2, -4]))"
      ],
      "execution_count": null,
      "outputs": [
        {
          "output_type": "execute_result",
          "data": {
            "text/plain": [
              "<tf.Tensor: shape=(2,), dtype=int32, numpy=array([-1, -2], dtype=int32)>"
            ]
          },
          "metadata": {
            "tags": []
          },
          "execution_count": 14
        }
      ]
    },
    {
      "cell_type": "markdown",
      "metadata": {
        "id": "btnfhLSCVe8H"
      },
      "source": [
        "副作用 就像在eager模式下一样，你可以使用带有副作用的操作，比如通常在tf.function中的tf.assign或tf.print，它会插入必要的控件依赖项以确保它们按顺序执行。"
      ]
    },
    {
      "cell_type": "code",
      "metadata": {
        "colab": {
          "base_uri": "https://localhost:8080/"
        },
        "id": "LiMaFoxWViqL",
        "outputId": "269632ba-8a89-4261-9efb-00b03914c52b"
      },
      "source": [
        "\r\n",
        "v = tf.Variable(5)\r\n",
        "\r\n",
        "@tf.function\r\n",
        "def find_next_odd():\r\n",
        "  v.assign(v + 1)\r\n",
        "  if tf.equal(v % 2, 0):\r\n",
        "    v.assign(v + 1)\r\n",
        "\r\n",
        "\r\n",
        "find_next_odd()\r\n",
        "v"
      ],
      "execution_count": null,
      "outputs": [
        {
          "output_type": "execute_result",
          "data": {
            "text/plain": [
              "<tf.Variable 'Variable:0' shape=() dtype=int32, numpy=7>"
            ]
          },
          "metadata": {
            "tags": []
          },
          "execution_count": 13
        }
      ]
    },
    {
      "cell_type": "markdown",
      "metadata": {
        "id": "nQUa-P8eV1xx"
      },
      "source": [
        "4.用AutoGraph训练一个简单模型"
      ]
    },
    {
      "cell_type": "code",
      "metadata": {
        "colab": {
          "base_uri": "https://localhost:8080/"
        },
        "id": "IQG1knJEV0Zx",
        "outputId": "5436d176-38af-41e3-859c-ad8680f93376"
      },
      "source": [
        "def prepare_mnist_features_and_labels(x, y):\r\n",
        "  x = tf.cast(x, tf.float32) / 255.0\r\n",
        "  y = tf.cast(y, tf.int64)\r\n",
        "  return x, y\r\n",
        "\r\n",
        "def mnist_dataset():\r\n",
        "  (x, y), _ = tf.keras.datasets.mnist.load_data()\r\n",
        "  ds = tf.data.Dataset.from_tensor_slices((x, y))\r\n",
        "  ds = ds.map(prepare_mnist_features_and_labels)\r\n",
        "  ds = ds.take(20000).shuffle(20000).batch(100)\r\n",
        "  return ds\r\n",
        "\r\n",
        "train_dataset = mnist_dataset()\r\n",
        "model = tf.keras.Sequential((\r\n",
        "    tf.keras.layers.Reshape(target_shape=(28 * 28,), input_shape=(28, 28)),\r\n",
        "    tf.keras.layers.Dense(100, activation='relu'),\r\n",
        "    tf.keras.layers.Dense(100, activation='relu'),\r\n",
        "    tf.keras.layers.Dense(10)))\r\n",
        "model.build()\r\n",
        "optimizer = tf.keras.optimizers.Adam()\r\n",
        "compute_loss = tf.keras.losses.SparseCategoricalCrossentropy(from_logits=True)\r\n",
        "\r\n",
        "compute_accuracy = tf.keras.metrics.SparseCategoricalAccuracy()\r\n",
        "\r\n",
        "\r\n",
        "def train_one_step(model, optimizer, x, y):\r\n",
        "  with tf.GradientTape() as tape:\r\n",
        "    logits = model(x)\r\n",
        "    loss = compute_loss(y, logits)\r\n",
        "\r\n",
        "  grads = tape.gradient(loss, model.trainable_variables)\r\n",
        "  optimizer.apply_gradients(zip(grads, model.trainable_variables))\r\n",
        "\r\n",
        "  compute_accuracy(y, logits)\r\n",
        "  return loss\r\n",
        "\r\n",
        "\r\n",
        "@tf.function\r\n",
        "def train(model, optimizer):\r\n",
        "  train_ds = mnist_dataset()\r\n",
        "  step = 0\r\n",
        "  loss = 0.0\r\n",
        "  accuracy = 0.0\r\n",
        "  for x, y in train_ds:\r\n",
        "    step += 1\r\n",
        "    loss = train_one_step(model, optimizer, x, y)\r\n",
        "    if tf.equal(step % 10, 0):\r\n",
        "      tf.print('Step', step, ': loss', loss, '; accuracy', compute_accuracy.result())\r\n",
        "  return step, loss, accuracy\r\n",
        "\r\n",
        "step, loss, accuracy = train(model, optimizer)\r\n",
        "print('Final step', step, ': loss', loss, '; accuracy', compute_accuracy.result())"
      ],
      "execution_count": null,
      "outputs": [
        {
          "output_type": "stream",
          "text": [
            "Downloading data from https://storage.googleapis.com/tensorflow/tf-keras-datasets/mnist.npz\n",
            "11493376/11490434 [==============================] - 0s 0us/step\n",
            "Step 10 : loss 1.70244324 ; accuracy 0.355\n",
            "Step 20 : loss 1.20132709 ; accuracy 0.507\n",
            "Step 30 : loss 0.927756727 ; accuracy 0.596\n",
            "Step 40 : loss 0.574580491 ; accuracy 0.65025\n",
            "Step 50 : loss 0.3621445 ; accuracy 0.6884\n",
            "Step 60 : loss 0.425934702 ; accuracy 0.716833353\n",
            "Step 70 : loss 0.442160308 ; accuracy 0.741714299\n",
            "Step 80 : loss 0.560473442 ; accuracy 0.76125\n",
            "Step 90 : loss 0.415736228 ; accuracy 0.773444474\n",
            "Step 100 : loss 0.556635499 ; accuracy 0.7845\n",
            "Step 110 : loss 0.389212072 ; accuracy 0.795\n",
            "Step 120 : loss 0.371432334 ; accuracy 0.803333342\n",
            "Step 130 : loss 0.327443898 ; accuracy 0.81\n",
            "Step 140 : loss 0.216433913 ; accuracy 0.818285704\n",
            "Step 150 : loss 0.289660066 ; accuracy 0.824666679\n",
            "Step 160 : loss 0.481015176 ; accuracy 0.83075\n",
            "Step 170 : loss 0.296280861 ; accuracy 0.834941149\n",
            "Step 180 : loss 0.316158533 ; accuracy 0.839222193\n",
            "Step 190 : loss 0.288673609 ; accuracy 0.843105257\n",
            "Step 200 : loss 0.379696608 ; accuracy 0.84645\n",
            "Final step tf.Tensor(200, shape=(), dtype=int32) : loss tf.Tensor(0.3796966, shape=(), dtype=float32) ; accuracy tf.Tensor(0.84645, shape=(), dtype=float32)\n"
          ],
          "name": "stdout"
        }
      ]
    },
    {
      "cell_type": "markdown",
      "metadata": {
        "id": "DWrg59vSXDPk"
      },
      "source": [
        "\r\n",
        "5.关于批处理的说明<br>\r\n",
        "在实际应用中，批处理对性能至关重要。 转换为AutoGraph的最佳代码是在批处理级别决定控制流的代码。 如果在单个示例级别做出决策，请尝试使用批处理API来维护性能。\r\n",
        "\r\n",
        "\r\n",
        "\r\n"
      ]
    },
    {
      "cell_type": "code",
      "metadata": {
        "colab": {
          "base_uri": "https://localhost:8080/"
        },
        "id": "DZrUrLtNXAXU",
        "outputId": "331a985b-70a6-44be-ce8c-50706927303f"
      },
      "source": [
        "def square_if_positive(x):\r\n",
        "  return [i ** 2 if i > 0 else i for i in x]\r\n",
        "\r\n",
        "\r\n",
        "square_if_positive(range(-5, 5))"
      ],
      "execution_count": null,
      "outputs": [
        {
          "output_type": "execute_result",
          "data": {
            "text/plain": [
              "[-5, -4, -3, -2, -1, 0, 1, 4, 9, 16]"
            ]
          },
          "metadata": {
            "tags": []
          },
          "execution_count": 16
        }
      ]
    },
    {
      "cell_type": "code",
      "metadata": {
        "colab": {
          "base_uri": "https://localhost:8080/"
        },
        "id": "55A6iCbYXZoP",
        "outputId": "e8c8b74d-7585-4eb5-87a4-570262a1dc61"
      },
      "source": [
        "# 在tensorflow中上面的代码应该改成下面所示\r\n",
        "@tf.function\r\n",
        "def square_if_positive_naive(x):\r\n",
        "  result = tf.TensorArray(tf.int32, size=x.shape[0])\r\n",
        "  for i in tf.range(x.shape[0]):\r\n",
        "    if x[i] > 0:\r\n",
        "      result = result.write(i, x[i] ** 2)\r\n",
        "    else:\r\n",
        "      result = result.write(i, x[i])\r\n",
        "  return result.stack()\r\n",
        "\r\n",
        "\r\n",
        "square_if_positive_naive(tf.range(-5, 5))"
      ],
      "execution_count": null,
      "outputs": [
        {
          "output_type": "execute_result",
          "data": {
            "text/plain": [
              "<tf.Tensor: shape=(10,), dtype=int32, numpy=array([-5, -4, -3, -2, -1,  0,  1,  4,  9, 16], dtype=int32)>"
            ]
          },
          "metadata": {
            "tags": []
          },
          "execution_count": 17
        }
      ]
    },
    {
      "cell_type": "code",
      "metadata": {
        "id": "84eJfrclXtC6",
        "colab": {
          "base_uri": "https://localhost:8080/"
        },
        "outputId": "3310ddf9-08aa-4b57-db65-16783804dae1"
      },
      "source": [
        "# 也可以怎么写\r\n",
        "def square_if_positive_vectorized(x):\r\n",
        "  return tf.where(x > 0, x ** 2, x)\r\n",
        "\r\n",
        "\r\n",
        "square_if_positive_vectorized(tf.range(-5, 5))"
      ],
      "execution_count": null,
      "outputs": [
        {
          "output_type": "execute_result",
          "data": {
            "text/plain": [
              "<tf.Tensor: shape=(10,), dtype=int32, numpy=array([-5, -4, -3, -2, -1,  0,  1,  4,  9, 16], dtype=int32)>"
            ]
          },
          "metadata": {
            "tags": []
          },
          "execution_count": 18
        }
      ]
    }
  ]
}