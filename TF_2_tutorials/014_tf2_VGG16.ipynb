{
  "nbformat": 4,
  "nbformat_minor": 0,
  "metadata": {
    "colab": {
      "name": "014.tf2-VGG16.ipynb",
      "provenance": [],
      "authorship_tag": "ABX9TyOmWSujgUW4Ur5NMwDsDDSa",
      "include_colab_link": true
    },
    "kernelspec": {
      "name": "python3",
      "display_name": "Python 3"
    },
    "accelerator": "GPU"
  },
  "cells": [
    {
      "cell_type": "markdown",
      "metadata": {
        "id": "view-in-github",
        "colab_type": "text"
      },
      "source": [
        "<a href=\"https://colab.research.google.com/github/Allen123321/DEMO-DL/blob/master/014_tf2_VGG16.ipynb\" target=\"_parent\"><img src=\"https://colab.research.google.com/assets/colab-badge.svg\" alt=\"Open In Colab\"/></a>"
      ]
    },
    {
      "cell_type": "code",
      "metadata": {
        "id": "29LzE9BhxLPi"
      },
      "source": [
        "import skimage\r\n",
        "import numpy as np\r\n",
        "import tensorflow as tf"
      ],
      "execution_count": 1,
      "outputs": []
    },
    {
      "cell_type": "code",
      "metadata": {
        "colab": {
          "base_uri": "https://localhost:8080/"
        },
        "id": "p3R2QA-8z2eJ",
        "outputId": "848155a6-9104-4c7b-b205-ac31d84a26c3"
      },
      "source": [
        "!wget http://download.tensorflow.org/example_images/flower_photos.tgz"
      ],
      "execution_count": 2,
      "outputs": [
        {
          "output_type": "stream",
          "text": [
            "--2021-02-14 13:18:22--  http://download.tensorflow.org/example_images/flower_photos.tgz\n",
            "Resolving download.tensorflow.org (download.tensorflow.org)... 172.217.15.80, 2607:f8b0:4004:810::2010\n",
            "Connecting to download.tensorflow.org (download.tensorflow.org)|172.217.15.80|:80... connected.\n",
            "HTTP request sent, awaiting response... 200 OK\n",
            "Length: 228813984 (218M) [application/x-compressed-tar]\n",
            "Saving to: ‘flower_photos.tgz’\n",
            "\n",
            "flower_photos.tgz   100%[===================>] 218.21M   333MB/s    in 0.7s    \n",
            "\n",
            "2021-02-14 13:18:23 (333 MB/s) - ‘flower_photos.tgz’ saved [228813984/228813984]\n",
            "\n"
          ],
          "name": "stdout"
        }
      ]
    },
    {
      "cell_type": "code",
      "metadata": {
        "id": "QKzZlzIk0Gai"
      },
      "source": [
        "!tar   zxvf    /content/flower_photos.tgz"
      ],
      "execution_count": null,
      "outputs": []
    },
    {
      "cell_type": "code",
      "metadata": {
        "id": "Dn86XGYrBkdx"
      },
      "source": [
        "#划分数据集为 train / val \r\n",
        "import shutil\r\n",
        "\r\n",
        "images_dir='/content/flower_photos'\r\n",
        "import os\r\n",
        "save_train_imgs='/content/flowerdataset/train'\r\n",
        "save_validiation_imgs = '/content/flowerdataset/val'\r\n",
        "if not os.path.exists(save_train_imgs):os.makedirs(save_train_imgs)\r\n",
        "if not os.path.exists(save_validiation_imgs):os.makedirs(save_validiation_imgs)\r\n",
        "for parent, dirnames, filenames in os.walk(images_dir):\r\n",
        "    for dirname in dirnames:\r\n",
        "      class_path = os.path.join(images_dir, dirname)\r\n",
        "      for parent1, dirnames1, filenames1 in os.walk(class_path):\r\n",
        "        for i,filenames1 in enumerate(filenames1):\r\n",
        "          img_path = os.path.join(class_path, filenames1)\r\n",
        "          if i % 5 == 0:\r\n",
        "            new_path_v = os.path.join(save_validiation_imgs, dirname)\r\n",
        "            if not os.path.exists(new_path_v):os.makedirs(new_path_v)\r\n",
        "            new_img_path_v = os.path.join(new_path_v, filenames1)\r\n",
        "            shutil.move(img_path, new_img_path_v)\r\n",
        "          else:\r\n",
        "            new_path_t = os.path.join(save_train_imgs, dirname)\r\n",
        "            if not os.path.exists(new_path_t):os.makedirs(new_path_t)\r\n",
        "            new_img_path_t = os.path.join(new_path_t, filenames1)\r\n",
        "            shutil.move(img_path, new_img_path_t)\r\n",
        "    "
      ],
      "execution_count": 4,
      "outputs": []
    },
    {
      "cell_type": "code",
      "metadata": {
        "id": "qVkIphk4M2my"
      },
      "source": [
        "#导入相应的库\r\n",
        "from tensorflow.keras.preprocessing.image import ImageDataGenerator\r\n",
        "from tensorflow.keras import layers, models, Model, Sequential\r\n",
        "import matplotlib.pyplot as plt\r\n",
        "from tensorflow.keras.callbacks import ReduceLROnPlateau,EarlyStopping\r\n",
        "import tensorflow as tf\r\n",
        "import json\r\n",
        "import os"
      ],
      "execution_count": 2,
      "outputs": []
    },
    {
      "cell_type": "code",
      "metadata": {
        "id": "wtFbN_fiM6MX"
      },
      "source": [
        "#设置图片的大小，路径，batch_size,epoch\r\n",
        "im_height = 224\r\n",
        "im_width = 224\r\n",
        "batch_size = 128\r\n",
        "epochs = 15\r\n",
        "\r\n",
        "train_dir = \"/content/flowerdataset/train/\"\r\n",
        "validation_dir = \"/content/flowerdataset/val/\""
      ],
      "execution_count": 3,
      "outputs": []
    },
    {
      "cell_type": "code",
      "metadata": {
        "colab": {
          "base_uri": "https://localhost:8080/"
        },
        "id": "9TZUhIJFNGfW",
        "outputId": "d8928cfc-f978-441f-bbde-e69191f7576f"
      },
      "source": [
        "# 图像预处理（训练集图片运用图像增强）\r\n",
        "train_image_generator = ImageDataGenerator( rescale=1./255,\r\n",
        "                                            rotation_range=40,\r\n",
        "                                            width_shift_range=0.2,\r\n",
        "                                            height_shift_range=0.2,\r\n",
        "                                            zoom_range=0.2,\r\n",
        "                                            horizontal_flip=True,\r\n",
        "                                            fill_mode='nearest')\r\n",
        "# 图像预处理\r\n",
        "validation_image_generator = ImageDataGenerator(rescale=1./255)\r\n",
        "\r\n",
        "#训练集数据生成器，one-hot编码，打乱数据\r\n",
        "train_data_gen = train_image_generator.flow_from_directory(directory=train_dir,\r\n",
        "                                                           batch_size=batch_size,\r\n",
        "                                                           shuffle=True,\r\n",
        "                                                           target_size=(im_height, im_width),\r\n",
        "                                                           class_mode='categorical')\r\n",
        "#训练集图片总数\r\n",
        "total_train = train_data_gen.n\r\n",
        "#验证集数据生成器\r\n",
        "val_data_gen = validation_image_generator.flow_from_directory(directory=validation_dir,\r\n",
        "                                                              batch_size=batch_size,\r\n",
        "                                                              shuffle=False,\r\n",
        "                                                              target_size=(im_height, im_width),\r\n",
        "                                                              class_mode='categorical')\r\n",
        "#验证集图片总数\r\n",
        "total_val = val_data_gen.n\r\n"
      ],
      "execution_count": 4,
      "outputs": [
        {
          "output_type": "stream",
          "text": [
            "Found 2934 images belonging to 5 classes.\n",
            "Found 736 images belonging to 5 classes.\n"
          ],
          "name": "stdout"
        }
      ]
    },
    {
      "cell_type": "code",
      "metadata": {
        "colab": {
          "base_uri": "https://localhost:8080/"
        },
        "id": "NZKxGR3wNpHW",
        "outputId": "d98ee1ff-3f09-4294-aca2-7086fd9033db"
      },
      "source": [
        "#VGG16预训练网络\r\n",
        "covn_base = tf.keras.applications.vgg16.VGG16(weights='imagenet',include_top=False)\r\n",
        "covn_base.trainable = True\r\n",
        "#冻结前面的层，训练最后四层\r\n",
        "for layers in covn_base.layers[:-4]:\r\n",
        "    layers.trainable = False\r\n",
        "#构建模型\r\n",
        "model = tf.keras.Sequential()\r\n",
        "model.add(covn_base)\r\n",
        "model.add(tf.keras.layers.GlobalAveragePooling2D())\r\n",
        "model.add(tf.keras.layers.Dense(256, activation='relu'))\r\n",
        "model.add(tf.keras.layers.Dropout(0.2))\r\n",
        "model.add(tf.keras.layers.Dense(5, activation='softmax'))\r\n",
        "model.summary()\r\n",
        "\r\n"
      ],
      "execution_count": 10,
      "outputs": [
        {
          "output_type": "stream",
          "text": [
            "Model: \"sequential\"\n",
            "_________________________________________________________________\n",
            "Layer (type)                 Output Shape              Param #   \n",
            "=================================================================\n",
            "vgg16 (Functional)           (None, None, None, 512)   14714688  \n",
            "_________________________________________________________________\n",
            "global_average_pooling2d (Gl (None, 512)               0         \n",
            "_________________________________________________________________\n",
            "dense (Dense)                (None, 256)               131328    \n",
            "_________________________________________________________________\n",
            "dropout (Dropout)            (None, 256)               0         \n",
            "_________________________________________________________________\n",
            "dense_1 (Dense)              (None, 5)                 1285      \n",
            "=================================================================\n",
            "Total params: 14,847,301\n",
            "Trainable params: 7,212,037\n",
            "Non-trainable params: 7,635,264\n",
            "_________________________________________________________________\n"
          ],
          "name": "stdout"
        }
      ]
    },
    {
      "cell_type": "code",
      "metadata": {
        "colab": {
          "base_uri": "https://localhost:8080/"
        },
        "id": "ffK4EOIDNxCx",
        "outputId": "89cade54-061f-47ef-b8c5-5b5a6c983bc4"
      },
      "source": [
        "#编译模型，初始学习率0.001\r\n",
        "model.compile(optimizer=tf.keras.optimizers.Adam(learning_rate=0.001),\r\n",
        "              loss=tf.keras.losses.CategoricalCrossentropy(from_logits=False),\r\n",
        "              metrics=[\"accuracy\"])\r\n",
        "#监视'val_loss'，当两个epoch不变时，学习率减小为1/10\r\n",
        "reduce_lr = ReduceLROnPlateau(monitor='val_loss', factor=0.1, patience=2, verbose=1)\r\n",
        "#开始训练\r\n",
        "history = model.fit(x=train_data_gen,\r\n",
        "                    steps_per_epoch=total_train // batch_size,\r\n",
        "                    epochs=epochs,\r\n",
        "                    validation_data=val_data_gen,\r\n",
        "                    validation_steps=total_val // batch_size,\r\n",
        "                    callbacks=[reduce_lr])"
      ],
      "execution_count": 11,
      "outputs": [
        {
          "output_type": "stream",
          "text": [
            "Epoch 1/15\n",
            "22/22 [==============================] - 48s 2s/step - loss: 1.7155 - accuracy: 0.2280 - val_loss: 1.4554 - val_accuracy: 0.2891\n",
            "Epoch 2/15\n",
            "22/22 [==============================] - 41s 2s/step - loss: 1.4099 - accuracy: 0.3647 - val_loss: 1.3132 - val_accuracy: 0.3297\n",
            "Epoch 3/15\n",
            "22/22 [==============================] - 41s 2s/step - loss: 1.2692 - accuracy: 0.4261 - val_loss: 1.2292 - val_accuracy: 0.3797\n",
            "Epoch 4/15\n",
            "22/22 [==============================] - 41s 2s/step - loss: 1.1893 - accuracy: 0.4639 - val_loss: 1.2916 - val_accuracy: 0.3438\n",
            "Epoch 5/15\n",
            "22/22 [==============================] - 41s 2s/step - loss: 1.2078 - accuracy: 0.4586 - val_loss: 1.0575 - val_accuracy: 0.5063\n",
            "Epoch 6/15\n",
            "22/22 [==============================] - 40s 2s/step - loss: 0.9212 - accuracy: 0.5906 - val_loss: 0.6835 - val_accuracy: 0.7422\n",
            "Epoch 7/15\n",
            "22/22 [==============================] - 41s 2s/step - loss: 0.7433 - accuracy: 0.6965 - val_loss: 0.5148 - val_accuracy: 0.7969\n",
            "Epoch 8/15\n",
            "22/22 [==============================] - 41s 2s/step - loss: 0.4942 - accuracy: 0.8024 - val_loss: 0.4203 - val_accuracy: 0.8687\n",
            "Epoch 9/15\n",
            "22/22 [==============================] - 41s 2s/step - loss: 0.4318 - accuracy: 0.8394 - val_loss: 0.5090 - val_accuracy: 0.8203\n",
            "Epoch 10/15\n",
            "22/22 [==============================] - 42s 2s/step - loss: 0.3899 - accuracy: 0.8486 - val_loss: 0.3790 - val_accuracy: 0.8781\n",
            "Epoch 11/15\n",
            "22/22 [==============================] - 41s 2s/step - loss: 0.3292 - accuracy: 0.8712 - val_loss: 0.3893 - val_accuracy: 0.8969\n",
            "Epoch 12/15\n",
            "22/22 [==============================] - 40s 2s/step - loss: 0.3101 - accuracy: 0.8819 - val_loss: 0.3768 - val_accuracy: 0.8828\n",
            "Epoch 13/15\n",
            "22/22 [==============================] - 41s 2s/step - loss: 0.2479 - accuracy: 0.9024 - val_loss: 0.3873 - val_accuracy: 0.8875\n",
            "Epoch 14/15\n",
            "22/22 [==============================] - 40s 2s/step - loss: 0.2363 - accuracy: 0.9089 - val_loss: 0.3387 - val_accuracy: 0.9109\n",
            "Epoch 15/15\n",
            "22/22 [==============================] - 41s 2s/step - loss: 0.2057 - accuracy: 0.9188 - val_loss: 0.3858 - val_accuracy: 0.9047\n"
          ],
          "name": "stdout"
        }
      ]
    },
    {
      "cell_type": "code",
      "metadata": {
        "colab": {
          "base_uri": "https://localhost:8080/",
          "height": 541
        },
        "id": "51gtGtFdN179",
        "outputId": "ec7435b1-0b33-4a05-814b-5beea82d80e2"
      },
      "source": [
        "# 记录准确率和损失值\r\n",
        "history_dict = history.history\r\n",
        "train_loss = history_dict[\"loss\"]\r\n",
        "train_accuracy = history_dict[\"accuracy\"]\r\n",
        "val_loss = history_dict[\"val_loss\"]\r\n",
        "val_accuracy = history_dict[\"val_accuracy\"]\r\n",
        "\r\n",
        "# 绘制损失值\r\n",
        "plt.figure()\r\n",
        "plt.plot(range(epochs), train_loss, label='train_loss')\r\n",
        "plt.plot(range(epochs), val_loss, label='val_loss')\r\n",
        "plt.legend()\r\n",
        "plt.xlabel('epochs')\r\n",
        "plt.ylabel('loss')\r\n",
        "\r\n",
        "# 绘制准确率\r\n",
        "plt.figure()\r\n",
        "plt.plot(range(epochs), train_accuracy, label='train_accuracy')\r\n",
        "plt.plot(range(epochs), val_accuracy, label='val_accuracy')\r\n",
        "plt.legend()\r\n",
        "plt.xlabel('epochs')\r\n",
        "plt.ylabel('accuracy')\r\n",
        "plt.show()"
      ],
      "execution_count": 12,
      "outputs": [
        {
          "output_type": "display_data",
          "data": {
            "image/png": "[encoded data removed]",
            "text/plain": [
              "<Figure size 432x288 with 1 Axes>"
            ]
          },
          "metadata": {
            "tags": [],
            "needs_background": "light"
          }
        },
        {
          "output_type": "display_data",
          "data": {
            "image/png": "[encoded data removed]",
            "text/plain": [
              "<Figure size 432x288 with 1 Axes>"
            ]
          },
          "metadata": {
            "tags": [],
            "needs_background": "light"
          }
        }
      ]
    },
    {
      "cell_type": "markdown",
      "metadata": {
        "id": "NmG_4KFMM7CT"
      },
      "source": [
        "方案2 -- 没有预训练"
      ]
    },
    {
      "cell_type": "code",
      "metadata": {
        "id": "2UItPo9D3Ysc"
      },
      "source": [
        "from tensorflow.keras.preprocessing import image_dataset_from_directory"
      ],
      "execution_count": 13,
      "outputs": []
    },
    {
      "cell_type": "code",
      "metadata": {
        "colab": {
          "base_uri": "https://localhost:8080/"
        },
        "id": "iSGnPR9i0qQM",
        "outputId": "7e4e1a23-782e-4279-fb97-2d3a554b706e"
      },
      "source": [
        "#设置图片的大小，路径，batch_size,epoch\r\n",
        "image_size = (224,224)\r\n",
        "batch_size = 32\r\n",
        "epochs = 20\r\n",
        "\r\n",
        "image_path = \"/content/flower_photos\"\r\n",
        "\r\n",
        "train_dataset = image_dataset_from_directory(image_path,\r\n",
        "                                       labels=\"inferred\",\r\n",
        "                                       batch_size=batch_size,\r\n",
        "                                       color_mode=\"rgb\",\r\n",
        "                                       shuffle=True,\r\n",
        "                                       image_size=image_size,\r\n",
        "                                       validation_split=0.2,\r\n",
        "                                       seed=214,\r\n",
        "                                       label_mode ='categorical',\r\n",
        "                                       subset=\"training\"\r\n",
        "                                       )\r\n",
        "validation_dataset = image_dataset_from_directory(image_path,\r\n",
        "                                       labels=\"inferred\",\r\n",
        "                                       batch_size=batch_size,\r\n",
        "                                       color_mode=\"rgb\",\r\n",
        "                                       shuffle=True,\r\n",
        "                                       seed=214,\r\n",
        "                                       image_size=image_size,\r\n",
        "                                       validation_split=0.2,\r\n",
        "                                       subset=\"validation\",\r\n",
        "                                       label_mode ='categorical'\r\n",
        "                                       )\r\n",
        "\r\n"
      ],
      "execution_count": 22,
      "outputs": [
        {
          "output_type": "stream",
          "text": [
            "Found 3670 files belonging to 5 classes.\n",
            "Using 2936 files for training.\n",
            "Found 3670 files belonging to 5 classes.\n",
            "Using 734 files for validation.\n"
          ],
          "name": "stdout"
        }
      ]
    },
    {
      "cell_type": "code",
      "metadata": {
        "id": "o_NkUT-hxaca"
      },
      "source": [
        "VGG_MEAN = [103.939, 116.779, 123.68]\r\n",
        "\r\n",
        "# define input layer\r\n",
        "input_layer = tf.keras.layers.Input([224, 224, 3])\r\n",
        "red, green, blue = tf.split(axis=3, num_or_size_splits=3, value=input_layer)\r\n",
        "bgr = tf.concat(axis=3, values=[blue - VGG_MEAN[0], green - VGG_MEAN[1], red - VGG_MEAN[2]])\r\n",
        "#bgr = tf.concat(axis=3, values=[blue, green, red])\r\n",
        "# Block 1\r\n",
        "conv1_1 = tf.keras.layers.Conv2D(filters=64, kernel_size=[3, 3], strides=[1, 1], padding='same',\r\n",
        "                                 use_bias=True, activation='relu', name='conv1_1')(input_layer)\r\n",
        "\r\n",
        "conv1_2 = tf.keras.layers.Conv2D(filters=64, kernel_size=[3, 3], strides=[1, 1], padding='same',\r\n",
        "                                 use_bias=True, activation='relu', name='conv1_2')(conv1_1)\r\n",
        "pool1_1 = tf.nn.max_pool(conv1_2, ksize=[1, 2, 2, 1], strides=[1, 2, 2, 1], padding='SAME', name='pool1_1')\r\n",
        "\r\n",
        "# Block 2\r\n",
        "conv2_1 = tf.keras.layers.Conv2D(filters=128, kernel_size=[3, 3], strides=[1, 1], padding='same',\r\n",
        "                                 use_bias=True, activation='relu', name='conv2_1')(pool1_1)\r\n",
        "conv2_2 = tf.keras.layers.Conv2D(filters=128, kernel_size=[3, 3], strides=[1, 1], padding='same',\r\n",
        "                                 use_bias=True, activation='relu', name='conv2_2')(conv2_1)\r\n",
        "pool2_1 = tf.nn.max_pool(conv2_2, ksize=[1, 2, 2, 1], strides=[1, 2, 2, 1], padding='SAME', name='pool2_1')\r\n",
        "\r\n",
        "# Block 3\r\n",
        "conv3_1 = tf.keras.layers.Conv2D(filters=256, kernel_size=[3, 3], strides=[1, 1], padding='same',\r\n",
        "                                 use_bias=True, activation='relu', name='conv3_1')(pool2_1)\r\n",
        "conv3_2 = tf.keras.layers.Conv2D(filters=256, kernel_size=[3, 3], strides=[1, 1], padding='same',\r\n",
        "                                 use_bias=True, activation='relu', name='conv3_2')(conv3_1)\r\n",
        "conv3_3 = tf.keras.layers.Conv2D(filters=256, kernel_size=[3, 3], strides=[1, 1], padding='same',\r\n",
        "                                 use_bias=True, activation='relu', name='conv3_3')(conv3_2)\r\n",
        "pool3_1 = tf.nn.max_pool(conv3_3, ksize=[1, 2, 2, 1], strides=[1, 2, 2, 1], padding='SAME', name='pool3_1')\r\n",
        "\r\n",
        "# Block 4\r\n",
        "conv4_1 = tf.keras.layers.Conv2D(filters=512, kernel_size=[3, 3], strides=[1, 1], padding='same',\r\n",
        "                                 use_bias=True, activation='relu', name='conv4_1')(pool3_1)\r\n",
        "conv4_2 = tf.keras.layers.Conv2D(filters=512, kernel_size=[3, 3], strides=[1, 1], padding='same',\r\n",
        "                                 use_bias=True, activation='relu', name='conv4_2')(conv4_1)\r\n",
        "conv4_3 = tf.keras.layers.Conv2D(filters=512, kernel_size=[3, 3], strides=[1, 1], padding='same',\r\n",
        "                                 use_bias=True, activation='relu', name='conv4_3')(conv4_2)\r\n",
        "pool4_1 = tf.nn.max_pool(conv4_3, ksize=[1, 2, 2, 1], strides=[1, 2, 2, 1], padding='SAME', name='pool4_1')\r\n",
        "\r\n",
        "\r\n",
        "# Block 4\r\n",
        "conv5_1 = tf.keras.layers.Conv2D(filters=512, kernel_size=[3, 3], strides=[1, 1], padding='same',\r\n",
        "                                 use_bias=True, activation='relu', name='conv5_1')(pool4_1)\r\n",
        "conv5_2 = tf.keras.layers.Conv2D(filters=512, kernel_size=[3, 3], strides=[1, 1], padding='same',\r\n",
        "                                 use_bias=True, activation='relu', name='conv5_2')(conv5_1)\r\n",
        "conv5_3 = tf.keras.layers.Conv2D(filters=512, kernel_size=[3, 3], strides=[1, 1], padding='same',\r\n",
        "                                 use_bias=True, activation='relu', name='conv5_3')(conv5_2)\r\n",
        "pool5_1 = tf.nn.max_pool(conv5_3, ksize=[1, 2, 2, 1], strides=[1, 2, 2, 1], padding='SAME', name='pool5_1')\r\n",
        "\r\n",
        "flatten = tf.keras.layers.Flatten()(pool5_1)\r\n",
        "fc6 = tf.keras.layers.Dense(units=4096, use_bias=True, name='fc6', activation='relu')(flatten)\r\n",
        "fc7 = tf.keras.layers.Dense(units=256, use_bias=True, name='fc7', activation='relu')(fc6)\r\n",
        "fc8 = tf.keras.layers.Dense(units=5, use_bias=True, name='fc8', activation=None)(fc7)\r\n",
        "\r\n",
        "\r\n",
        "prob = tf.nn.softmax(fc8)\r\n",
        "\r\n",
        "# Build model\r\n",
        "model_1 = tf.keras.Model(input_layer, prob)"
      ],
      "execution_count": 34,
      "outputs": []
    },
    {
      "cell_type": "code",
      "metadata": {
        "colab": {
          "base_uri": "https://localhost:8080/"
        },
        "id": "oTvbzPVWzZ65",
        "outputId": "c9d4c9e0-f433-45a4-b1e6-73a169218509"
      },
      "source": [
        "model_1.summary()"
      ],
      "execution_count": 35,
      "outputs": [
        {
          "output_type": "stream",
          "text": [
            "Model: \"model_8\"\n",
            "_________________________________________________________________\n",
            "Layer (type)                 Output Shape              Param #   \n",
            "=================================================================\n",
            "input_9 (InputLayer)         [(None, 224, 224, 3)]     0         \n",
            "_________________________________________________________________\n",
            "conv1_1 (Conv2D)             (None, 224, 224, 64)      1792      \n",
            "_________________________________________________________________\n",
            "conv1_2 (Conv2D)             (None, 224, 224, 64)      36928     \n",
            "_________________________________________________________________\n",
            "tf.nn.max_pool2d_40 (TFOpLam (None, 112, 112, 64)      0         \n",
            "_________________________________________________________________\n",
            "conv2_1 (Conv2D)             (None, 112, 112, 128)     73856     \n",
            "_________________________________________________________________\n",
            "conv2_2 (Conv2D)             (None, 112, 112, 128)     147584    \n",
            "_________________________________________________________________\n",
            "tf.nn.max_pool2d_41 (TFOpLam (None, 56, 56, 128)       0         \n",
            "_________________________________________________________________\n",
            "conv3_1 (Conv2D)             (None, 56, 56, 256)       295168    \n",
            "_________________________________________________________________\n",
            "conv3_2 (Conv2D)             (None, 56, 56, 256)       590080    \n",
            "_________________________________________________________________\n",
            "conv3_3 (Conv2D)             (None, 56, 56, 256)       590080    \n",
            "_________________________________________________________________\n",
            "tf.nn.max_pool2d_42 (TFOpLam (None, 28, 28, 256)       0         \n",
            "_________________________________________________________________\n",
            "conv4_1 (Conv2D)             (None, 28, 28, 512)       1180160   \n",
            "_________________________________________________________________\n",
            "conv4_2 (Conv2D)             (None, 28, 28, 512)       2359808   \n",
            "_________________________________________________________________\n",
            "conv4_3 (Conv2D)             (None, 28, 28, 512)       2359808   \n",
            "_________________________________________________________________\n",
            "tf.nn.max_pool2d_43 (TFOpLam (None, 14, 14, 512)       0         \n",
            "_________________________________________________________________\n",
            "conv5_1 (Conv2D)             (None, 14, 14, 512)       2359808   \n",
            "_________________________________________________________________\n",
            "conv5_2 (Conv2D)             (None, 14, 14, 512)       2359808   \n",
            "_________________________________________________________________\n",
            "conv5_3 (Conv2D)             (None, 14, 14, 512)       2359808   \n",
            "_________________________________________________________________\n",
            "tf.nn.max_pool2d_44 (TFOpLam (None, 7, 7, 512)         0         \n",
            "_________________________________________________________________\n",
            "flatten_8 (Flatten)          (None, 25088)             0         \n",
            "_________________________________________________________________\n",
            "fc6 (Dense)                  (None, 4096)              102764544 \n",
            "_________________________________________________________________\n",
            "fc7 (Dense)                  (None, 256)               1048832   \n",
            "_________________________________________________________________\n",
            "fc8 (Dense)                  (None, 5)                 1285      \n",
            "_________________________________________________________________\n",
            "tf.nn.softmax_8 (TFOpLambda) (None, 5)                 0         \n",
            "=================================================================\n",
            "Total params: 118,529,349\n",
            "Trainable params: 118,529,349\n",
            "Non-trainable params: 0\n",
            "_________________________________________________________________\n"
          ],
          "name": "stdout"
        }
      ]
    },
    {
      "cell_type": "code",
      "metadata": {
        "colab": {
          "base_uri": "https://localhost:8080/"
        },
        "id": "1t-E-t8hDkUF",
        "outputId": "489ff28e-18fc-4c12-d24a-db584e0b71a1"
      },
      "source": [
        "#编译模型，初始学习率0.001\r\n",
        "model_1.compile(optimizer=tf.keras.optimizers.Adam(learning_rate=0.001),\r\n",
        "              loss=tf.keras.losses.CategoricalCrossentropy(from_logits=False),\r\n",
        "              metrics=[\"accuracy\"])\r\n",
        "#监视'val_loss'，当两个epoch不变时，学习率减小为1/10\r\n",
        "# reduce_lr = ReduceLROnPlateau(monitor='val_loss', factor=0.1, patience=2, verbose=1)\r\n",
        "#开始训练\r\n",
        "history = model_1.fit(train_dataset,\r\n",
        "                    #steps_per_epoch=total_train // batch_size,\r\n",
        "                    epochs=epochs,\r\n",
        "                    validation_data=validation_dataset,\r\n",
        "                    #validation_steps=total_val // batch_size,\r\n",
        "                    #callbacks=[reduce_lr]\r\n",
        "                    )"
      ],
      "execution_count": 36,
      "outputs": [
        {
          "output_type": "stream",
          "text": [
            "Epoch 1/20\n",
            "92/92 [==============================] - 47s 502ms/step - loss: 193.6306 - accuracy: 0.2290 - val_loss: 1.5899 - val_accuracy: 0.2071\n",
            "Epoch 2/20\n",
            "92/92 [==============================] - 47s 504ms/step - loss: 1.8061 - accuracy: 0.2742 - val_loss: 1.6044 - val_accuracy: 0.2302\n",
            "Epoch 3/20\n",
            "92/92 [==============================] - 47s 508ms/step - loss: 1.6060 - accuracy: 0.2612 - val_loss: 1.6003 - val_accuracy: 0.2302\n",
            "Epoch 4/20\n",
            "92/92 [==============================] - 48s 512ms/step - loss: 1.5955 - accuracy: 0.2433 - val_loss: 1.5907 - val_accuracy: 0.2888\n",
            "Epoch 5/20\n",
            "92/92 [==============================] - 48s 516ms/step - loss: 1.5341 - accuracy: 0.3183 - val_loss: 1.4503 - val_accuracy: 0.3733\n",
            "Epoch 6/20\n",
            "92/92 [==============================] - 48s 519ms/step - loss: 1.4767 - accuracy: 0.3478 - val_loss: 1.4237 - val_accuracy: 0.3787\n",
            "Epoch 7/20\n",
            "92/92 [==============================] - 48s 519ms/step - loss: 1.4160 - accuracy: 0.3803 - val_loss: 1.3410 - val_accuracy: 0.4401\n",
            "Epoch 8/20\n",
            "92/92 [==============================] - 48s 519ms/step - loss: 1.3556 - accuracy: 0.4102 - val_loss: 1.2795 - val_accuracy: 0.4332\n",
            "Epoch 9/20\n",
            "92/92 [==============================] - 48s 518ms/step - loss: 1.2587 - accuracy: 0.4733 - val_loss: 1.2615 - val_accuracy: 0.4728\n",
            "Epoch 10/20\n",
            "92/92 [==============================] - 48s 518ms/step - loss: 1.2273 - accuracy: 0.4872 - val_loss: 1.1928 - val_accuracy: 0.5014\n",
            "Epoch 11/20\n",
            "92/92 [==============================] - 48s 518ms/step - loss: 1.1313 - accuracy: 0.5401 - val_loss: 1.2770 - val_accuracy: 0.5109\n",
            "Epoch 12/20\n",
            "92/92 [==============================] - 48s 518ms/step - loss: 1.0708 - accuracy: 0.5596 - val_loss: 1.2563 - val_accuracy: 0.5313\n",
            "Epoch 13/20\n",
            "92/92 [==============================] - 48s 519ms/step - loss: 0.9786 - accuracy: 0.6085 - val_loss: 1.2083 - val_accuracy: 0.5572\n",
            "Epoch 14/20\n",
            "92/92 [==============================] - 48s 519ms/step - loss: 0.9001 - accuracy: 0.6326 - val_loss: 1.3197 - val_accuracy: 0.5204\n",
            "Epoch 15/20\n",
            "92/92 [==============================] - 48s 518ms/step - loss: 0.7869 - accuracy: 0.6921 - val_loss: 1.4076 - val_accuracy: 0.5490\n",
            "Epoch 16/20\n",
            "92/92 [==============================] - 48s 519ms/step - loss: 0.6750 - accuracy: 0.7465 - val_loss: 1.9747 - val_accuracy: 0.5163\n",
            "Epoch 17/20\n",
            "92/92 [==============================] - 48s 519ms/step - loss: 0.6137 - accuracy: 0.7474 - val_loss: 2.0077 - val_accuracy: 0.5436\n",
            "Epoch 18/20\n",
            "92/92 [==============================] - 48s 518ms/step - loss: 0.5060 - accuracy: 0.8060 - val_loss: 2.3881 - val_accuracy: 0.5204\n",
            "Epoch 19/20\n",
            "92/92 [==============================] - 48s 519ms/step - loss: 0.4181 - accuracy: 0.8364 - val_loss: 2.3080 - val_accuracy: 0.5177\n",
            "Epoch 20/20\n",
            "92/92 [==============================] - 48s 518ms/step - loss: 0.4268 - accuracy: 0.8511 - val_loss: 2.7865 - val_accuracy: 0.5368\n"
          ],
          "name": "stdout"
        }
      ]
    },
    {
      "cell_type": "code",
      "metadata": {
        "colab": {
          "base_uri": "https://localhost:8080/",
          "height": 541
        },
        "id": "tqmlt1MIQvHz",
        "outputId": "0da6a414-9a1a-49b1-b6fe-81ac7dfc4355"
      },
      "source": [
        "# 记录准确率和损失值\r\n",
        "history_dict = history.history\r\n",
        "train_loss = history_dict[\"loss\"]\r\n",
        "train_accuracy = history_dict[\"accuracy\"]\r\n",
        "val_loss = history_dict[\"val_loss\"]\r\n",
        "val_accuracy = history_dict[\"val_accuracy\"]\r\n",
        "\r\n",
        "# 绘制损失值\r\n",
        "plt.figure()\r\n",
        "plt.plot(range(epochs), train_loss, label='train_loss')\r\n",
        "plt.plot(range(epochs), val_loss, label='val_loss')\r\n",
        "plt.legend()\r\n",
        "plt.xlabel('epochs')\r\n",
        "plt.ylabel('loss')\r\n",
        "\r\n",
        "# 绘制准确率\r\n",
        "plt.figure()\r\n",
        "plt.plot(range(epochs), train_accuracy, label='train_accuracy')\r\n",
        "plt.plot(range(epochs), val_accuracy, label='val_accuracy')\r\n",
        "plt.legend()\r\n",
        "plt.xlabel('epochs')\r\n",
        "plt.ylabel('accuracy')\r\n",
        "plt.show()"
      ],
      "execution_count": 37,
      "outputs": [
        {
          "output_type": "display_data",
          "data": {
            "image/png": "[encoded data removed]",
            "text/plain": [
              "<Figure size 432x288 with 1 Axes>"
            ]
          },
          "metadata": {
            "tags": [],
            "needs_background": "light"
          }
        },
        {
          "output_type": "display_data",
          "data": {
            "image/png": "[encoded data removed]",
            "text/plain": [
              "<Figure size 432x288 with 1 Axes>"
            ]
          },
          "metadata": {
            "tags": [],
            "needs_background": "light"
          }
        }
      ]
    }
  ]
}