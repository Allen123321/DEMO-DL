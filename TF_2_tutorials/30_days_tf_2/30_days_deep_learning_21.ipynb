{
  "nbformat": 4,
  "nbformat_minor": 0,
  "metadata": {
    "colab": {
      "name": "30_days_deep_learning_21.ipynb",
      "provenance": [],
      "authorship_tag": "ABX9TyMld1hdCZvRGCmOWeHyapky",
      "include_colab_link": true
    },
    "kernelspec": {
      "name": "python3",
      "display_name": "Python 3"
    },
    "accelerator": "TPU"
  },
  "cells": [
    {
      "cell_type": "markdown",
      "metadata": {
        "id": "view-in-github",
        "colab_type": "text"
      },
      "source": [
        "<a href=\"https://colab.research.google.com/github/Allen123321/DEMO-DL/blob/master/30_days_deep_learning_21.ipynb\" target=\"_parent\"><img src=\"https://colab.research.google.com/assets/colab-badge.svg\" alt=\"Open In Colab\"/></a>"
      ]
    },
    {
      "cell_type": "markdown",
      "metadata": {
        "id": "AbXNLErYB1cL"
      },
      "source": [
        "## 6-5,使用TPU训练模型\r\n",
        "如果想尝试使用Google Colab上的TPU来训练模型，也是非常方便，仅需添加6行代码。"
      ]
    },
    {
      "cell_type": "code",
      "metadata": {
        "colab": {
          "base_uri": "https://localhost:8080/"
        },
        "id": "Fb4LAwFSBIxZ",
        "outputId": "d2ba9d38-200d-4fc7-b703-45bb52444489"
      },
      "source": [
        "%tensorflow_version 2.x\r\n",
        "import tensorflow as tf\r\n",
        "print(tf.__version__)\r\n",
        "from tensorflow.keras import * "
      ],
      "execution_count": 6,
      "outputs": [
        {
          "output_type": "stream",
          "text": [
            "2.4.0\n"
          ],
          "name": "stdout"
        }
      ]
    },
    {
      "cell_type": "markdown",
      "metadata": {
        "id": "bnVAkIjkCFFL"
      },
      "source": [
        "一，准备数据"
      ]
    },
    {
      "cell_type": "code",
      "metadata": {
        "colab": {
          "base_uri": "https://localhost:8080/"
        },
        "id": "AaGx8ZcSCDNI",
        "outputId": "45a93cec-9f02-49ef-fd30-d1909ffb5065"
      },
      "source": [
        "MAX_LEN = 300\r\n",
        "BATCH_SIZE = 32\r\n",
        "(x_train,y_train),(x_test,y_test) = datasets.reuters.load_data()\r\n",
        "x_train = preprocessing.sequence.pad_sequences(x_train,maxlen=MAX_LEN)\r\n",
        "x_test = preprocessing.sequence.pad_sequences(x_test,maxlen=MAX_LEN)\r\n",
        "\r\n",
        "MAX_WORDS = x_train.max()+1\r\n",
        "CAT_NUM = y_train.max()+1\r\n",
        "\r\n",
        "ds_train = tf.data.Dataset.from_tensor_slices((x_train,y_train)) \\\r\n",
        "          .shuffle(buffer_size = 1000).batch(BATCH_SIZE) \\\r\n",
        "          .prefetch(tf.data.experimental.AUTOTUNE).cache()\r\n",
        "   \r\n",
        "ds_test = tf.data.Dataset.from_tensor_slices((x_test,y_test)) \\\r\n",
        "          .shuffle(buffer_size = 1000).batch(BATCH_SIZE) \\\r\n",
        "          .prefetch(tf.data.experimental.AUTOTUNE).cache()"
      ],
      "execution_count": 7,
      "outputs": [
        {
          "output_type": "stream",
          "text": [
            "/usr/local/lib/python3.6/dist-packages/tensorflow/python/keras/datasets/reuters.py:148: VisibleDeprecationWarning: Creating an ndarray from ragged nested sequences (which is a list-or-tuple of lists-or-tuples-or ndarrays with different lengths or shapes) is deprecated. If you meant to do this, you must specify 'dtype=object' when creating the ndarray\n",
            "  x_train, y_train = np.array(xs[:idx]), np.array(labels[:idx])\n",
            "/usr/local/lib/python3.6/dist-packages/tensorflow/python/keras/datasets/reuters.py:149: VisibleDeprecationWarning: Creating an ndarray from ragged nested sequences (which is a list-or-tuple of lists-or-tuples-or ndarrays with different lengths or shapes) is deprecated. If you meant to do this, you must specify 'dtype=object' when creating the ndarray\n",
            "  x_test, y_test = np.array(xs[idx:]), np.array(labels[idx:])\n"
          ],
          "name": "stderr"
        }
      ]
    },
    {
      "cell_type": "markdown",
      "metadata": {
        "id": "VgKakacZCMtT"
      },
      "source": [
        "二，定义模型"
      ]
    },
    {
      "cell_type": "code",
      "metadata": {
        "id": "GpCOwvBCCLOR"
      },
      "source": [
        "tf.keras.backend.clear_session()\r\n",
        "def create_model():\r\n",
        "    \r\n",
        "    model = models.Sequential()\r\n",
        "\r\n",
        "    model.add(layers.Embedding(MAX_WORDS,7,input_length=MAX_LEN))\r\n",
        "    model.add(layers.Conv1D(filters = 64,kernel_size = 5,activation = \"relu\"))\r\n",
        "    model.add(layers.MaxPool1D(2))\r\n",
        "    model.add(layers.Conv1D(filters = 32,kernel_size = 3,activation = \"relu\"))\r\n",
        "    model.add(layers.MaxPool1D(2))\r\n",
        "    model.add(layers.Flatten())\r\n",
        "    model.add(layers.Dense(CAT_NUM,activation = \"softmax\"))\r\n",
        "    return(model)\r\n",
        "\r\n",
        "def compile_model(model):\r\n",
        "    model.compile(optimizer=optimizers.Nadam(),\r\n",
        "                loss=losses.SparseCategoricalCrossentropy(from_logits=True),\r\n",
        "                metrics=[metrics.SparseCategoricalAccuracy(),metrics.SparseTopKCategoricalAccuracy(5)]) \r\n",
        "    return(model)"
      ],
      "execution_count": 8,
      "outputs": []
    },
    {
      "cell_type": "code",
      "metadata": {
        "colab": {
          "base_uri": "https://localhost:8080/"
        },
        "id": "txyhAVIJCmPZ",
        "outputId": "b098f88a-2dbf-4c75-9761-74682e426301"
      },
      "source": [
        "#三，训练模型\r\n",
        "#增加以下6行代码\r\n",
        "import os\r\n",
        "resolver = tf.distribute.cluster_resolver.TPUClusterResolver(tpu='grpc://' + os.environ['COLAB_TPU_ADDR'])\r\n",
        "tf.config.experimental_connect_to_cluster(resolver)\r\n",
        "tf.tpu.experimental.initialize_tpu_system(resolver)\r\n",
        "strategy = tf.distribute.experimental.TPUStrategy(resolver)\r\n",
        "with strategy.scope():\r\n",
        "    model = create_model()\r\n",
        "    model.summary()\r\n",
        "    model = compile_model(model)"
      ],
      "execution_count": 10,
      "outputs": [
        {
          "output_type": "stream",
          "text": [
            "WARNING:tensorflow:TPU system grpc://10.30.195.42:8470 has already been initialized. Reinitializing the TPU can cause previously created variables on TPU to be lost.\n"
          ],
          "name": "stdout"
        },
        {
          "output_type": "stream",
          "text": [
            "WARNING:tensorflow:TPU system grpc://10.30.195.42:8470 has already been initialized. Reinitializing the TPU can cause previously created variables on TPU to be lost.\n"
          ],
          "name": "stderr"
        },
        {
          "output_type": "stream",
          "text": [
            "INFO:tensorflow:Initializing the TPU system: grpc://10.30.195.42:8470\n"
          ],
          "name": "stdout"
        },
        {
          "output_type": "stream",
          "text": [
            "INFO:tensorflow:Initializing the TPU system: grpc://10.30.195.42:8470\n"
          ],
          "name": "stderr"
        },
        {
          "output_type": "stream",
          "text": [
            "INFO:tensorflow:Clearing out eager caches\n"
          ],
          "name": "stdout"
        },
        {
          "output_type": "stream",
          "text": [
            "INFO:tensorflow:Clearing out eager caches\n"
          ],
          "name": "stderr"
        },
        {
          "output_type": "stream",
          "text": [
            "INFO:tensorflow:Finished initializing TPU system.\n"
          ],
          "name": "stdout"
        },
        {
          "output_type": "stream",
          "text": [
            "INFO:tensorflow:Finished initializing TPU system.\n",
            "WARNING:absl:`tf.distribute.experimental.TPUStrategy` is deprecated, please use  the non experimental symbol `tf.distribute.TPUStrategy` instead.\n"
          ],
          "name": "stderr"
        },
        {
          "output_type": "stream",
          "text": [
            "INFO:tensorflow:Found TPU system:\n"
          ],
          "name": "stdout"
        },
        {
          "output_type": "stream",
          "text": [
            "INFO:tensorflow:Found TPU system:\n"
          ],
          "name": "stderr"
        },
        {
          "output_type": "stream",
          "text": [
            "INFO:tensorflow:*** Num TPU Cores: 8\n"
          ],
          "name": "stdout"
        },
        {
          "output_type": "stream",
          "text": [
            "INFO:tensorflow:*** Num TPU Cores: 8\n"
          ],
          "name": "stderr"
        },
        {
          "output_type": "stream",
          "text": [
            "INFO:tensorflow:*** Num TPU Workers: 1\n"
          ],
          "name": "stdout"
        },
        {
          "output_type": "stream",
          "text": [
            "INFO:tensorflow:*** Num TPU Workers: 1\n"
          ],
          "name": "stderr"
        },
        {
          "output_type": "stream",
          "text": [
            "INFO:tensorflow:*** Num TPU Cores Per Worker: 8\n"
          ],
          "name": "stdout"
        },
        {
          "output_type": "stream",
          "text": [
            "INFO:tensorflow:*** Num TPU Cores Per Worker: 8\n"
          ],
          "name": "stderr"
        },
        {
          "output_type": "stream",
          "text": [
            "INFO:tensorflow:*** Available Device: _DeviceAttributes(/job:localhost/replica:0/task:0/device:CPU:0, CPU, 0, 0)\n"
          ],
          "name": "stdout"
        },
        {
          "output_type": "stream",
          "text": [
            "INFO:tensorflow:*** Available Device: _DeviceAttributes(/job:localhost/replica:0/task:0/device:CPU:0, CPU, 0, 0)\n"
          ],
          "name": "stderr"
        },
        {
          "output_type": "stream",
          "text": [
            "INFO:tensorflow:*** Available Device: _DeviceAttributes(/job:worker/replica:0/task:0/device:CPU:0, CPU, 0, 0)\n"
          ],
          "name": "stdout"
        },
        {
          "output_type": "stream",
          "text": [
            "INFO:tensorflow:*** Available Device: _DeviceAttributes(/job:worker/replica:0/task:0/device:CPU:0, CPU, 0, 0)\n"
          ],
          "name": "stderr"
        },
        {
          "output_type": "stream",
          "text": [
            "INFO:tensorflow:*** Available Device: _DeviceAttributes(/job:worker/replica:0/task:0/device:TPU:0, TPU, 0, 0)\n"
          ],
          "name": "stdout"
        },
        {
          "output_type": "stream",
          "text": [
            "INFO:tensorflow:*** Available Device: _DeviceAttributes(/job:worker/replica:0/task:0/device:TPU:0, TPU, 0, 0)\n"
          ],
          "name": "stderr"
        },
        {
          "output_type": "stream",
          "text": [
            "INFO:tensorflow:*** Available Device: _DeviceAttributes(/job:worker/replica:0/task:0/device:TPU:1, TPU, 0, 0)\n"
          ],
          "name": "stdout"
        },
        {
          "output_type": "stream",
          "text": [
            "INFO:tensorflow:*** Available Device: _DeviceAttributes(/job:worker/replica:0/task:0/device:TPU:1, TPU, 0, 0)\n"
          ],
          "name": "stderr"
        },
        {
          "output_type": "stream",
          "text": [
            "INFO:tensorflow:*** Available Device: _DeviceAttributes(/job:worker/replica:0/task:0/device:TPU:2, TPU, 0, 0)\n"
          ],
          "name": "stdout"
        },
        {
          "output_type": "stream",
          "text": [
            "INFO:tensorflow:*** Available Device: _DeviceAttributes(/job:worker/replica:0/task:0/device:TPU:2, TPU, 0, 0)\n"
          ],
          "name": "stderr"
        },
        {
          "output_type": "stream",
          "text": [
            "INFO:tensorflow:*** Available Device: _DeviceAttributes(/job:worker/replica:0/task:0/device:TPU:3, TPU, 0, 0)\n"
          ],
          "name": "stdout"
        },
        {
          "output_type": "stream",
          "text": [
            "INFO:tensorflow:*** Available Device: _DeviceAttributes(/job:worker/replica:0/task:0/device:TPU:3, TPU, 0, 0)\n"
          ],
          "name": "stderr"
        },
        {
          "output_type": "stream",
          "text": [
            "INFO:tensorflow:*** Available Device: _DeviceAttributes(/job:worker/replica:0/task:0/device:TPU:4, TPU, 0, 0)\n"
          ],
          "name": "stdout"
        },
        {
          "output_type": "stream",
          "text": [
            "INFO:tensorflow:*** Available Device: _DeviceAttributes(/job:worker/replica:0/task:0/device:TPU:4, TPU, 0, 0)\n"
          ],
          "name": "stderr"
        },
        {
          "output_type": "stream",
          "text": [
            "INFO:tensorflow:*** Available Device: _DeviceAttributes(/job:worker/replica:0/task:0/device:TPU:5, TPU, 0, 0)\n"
          ],
          "name": "stdout"
        },
        {
          "output_type": "stream",
          "text": [
            "INFO:tensorflow:*** Available Device: _DeviceAttributes(/job:worker/replica:0/task:0/device:TPU:5, TPU, 0, 0)\n"
          ],
          "name": "stderr"
        },
        {
          "output_type": "stream",
          "text": [
            "INFO:tensorflow:*** Available Device: _DeviceAttributes(/job:worker/replica:0/task:0/device:TPU:6, TPU, 0, 0)\n"
          ],
          "name": "stdout"
        },
        {
          "output_type": "stream",
          "text": [
            "INFO:tensorflow:*** Available Device: _DeviceAttributes(/job:worker/replica:0/task:0/device:TPU:6, TPU, 0, 0)\n"
          ],
          "name": "stderr"
        },
        {
          "output_type": "stream",
          "text": [
            "INFO:tensorflow:*** Available Device: _DeviceAttributes(/job:worker/replica:0/task:0/device:TPU:7, TPU, 0, 0)\n"
          ],
          "name": "stdout"
        },
        {
          "output_type": "stream",
          "text": [
            "INFO:tensorflow:*** Available Device: _DeviceAttributes(/job:worker/replica:0/task:0/device:TPU:7, TPU, 0, 0)\n"
          ],
          "name": "stderr"
        },
        {
          "output_type": "stream",
          "text": [
            "INFO:tensorflow:*** Available Device: _DeviceAttributes(/job:worker/replica:0/task:0/device:TPU_SYSTEM:0, TPU_SYSTEM, 0, 0)\n"
          ],
          "name": "stdout"
        },
        {
          "output_type": "stream",
          "text": [
            "INFO:tensorflow:*** Available Device: _DeviceAttributes(/job:worker/replica:0/task:0/device:TPU_SYSTEM:0, TPU_SYSTEM, 0, 0)\n"
          ],
          "name": "stderr"
        },
        {
          "output_type": "stream",
          "text": [
            "INFO:tensorflow:*** Available Device: _DeviceAttributes(/job:worker/replica:0/task:0/device:XLA_CPU:0, XLA_CPU, 0, 0)\n"
          ],
          "name": "stdout"
        },
        {
          "output_type": "stream",
          "text": [
            "INFO:tensorflow:*** Available Device: _DeviceAttributes(/job:worker/replica:0/task:0/device:XLA_CPU:0, XLA_CPU, 0, 0)\n"
          ],
          "name": "stderr"
        },
        {
          "output_type": "stream",
          "text": [
            "Model: \"sequential\"\n",
            "_________________________________________________________________\n",
            "Layer (type)                 Output Shape              Param #   \n",
            "=================================================================\n",
            "embedding (Embedding)        (None, 300, 7)            216874    \n",
            "_________________________________________________________________\n",
            "conv1d (Conv1D)              (None, 296, 64)           2304      \n",
            "_________________________________________________________________\n",
            "max_pooling1d (MaxPooling1D) (None, 148, 64)           0         \n",
            "_________________________________________________________________\n",
            "conv1d_1 (Conv1D)            (None, 146, 32)           6176      \n",
            "_________________________________________________________________\n",
            "max_pooling1d_1 (MaxPooling1 (None, 73, 32)            0         \n",
            "_________________________________________________________________\n",
            "flatten (Flatten)            (None, 2336)              0         \n",
            "_________________________________________________________________\n",
            "dense (Dense)                (None, 46)                107502    \n",
            "=================================================================\n",
            "Total params: 332,856\n",
            "Trainable params: 332,856\n",
            "Non-trainable params: 0\n",
            "_________________________________________________________________\n"
          ],
          "name": "stdout"
        }
      ]
    },
    {
      "cell_type": "code",
      "metadata": {
        "colab": {
          "base_uri": "https://localhost:8080/"
        },
        "id": "IOJrj0jPC5WQ",
        "outputId": "5c9fe75b-c927-46a7-851e-cd806a74791d"
      },
      "source": [
        "history = model.fit(ds_train,validation_data = ds_test,epochs = 10)"
      ],
      "execution_count": 11,
      "outputs": [
        {
          "output_type": "stream",
          "text": [
            "Epoch 1/10\n",
            "281/281 [==============================] - 14s 36ms/step - loss: 2.3997 - sparse_categorical_accuracy: 0.3689 - sparse_top_k_categorical_accuracy: 0.7155 - val_loss: 1.6754 - val_sparse_categorical_accuracy: 0.5659 - val_sparse_top_k_categorical_accuracy: 0.7640\n",
            "Epoch 2/10\n",
            "281/281 [==============================] - 8s 27ms/step - loss: 1.5497 - sparse_categorical_accuracy: 0.6065 - sparse_top_k_categorical_accuracy: 0.7815 - val_loss: 1.4949 - val_sparse_categorical_accuracy: 0.6354 - val_sparse_top_k_categorical_accuracy: 0.8032\n",
            "Epoch 3/10\n",
            "281/281 [==============================] - 8s 27ms/step - loss: 1.1917 - sparse_categorical_accuracy: 0.6918 - sparse_top_k_categorical_accuracy: 0.8493 - val_loss: 1.5547 - val_sparse_categorical_accuracy: 0.6492 - val_sparse_top_k_categorical_accuracy: 0.8085\n",
            "Epoch 4/10\n",
            "281/281 [==============================] - 8s 28ms/step - loss: 0.8828 - sparse_categorical_accuracy: 0.7759 - sparse_top_k_categorical_accuracy: 0.9125 - val_loss: 1.7960 - val_sparse_categorical_accuracy: 0.6336 - val_sparse_top_k_categorical_accuracy: 0.8041\n",
            "Epoch 5/10\n",
            "281/281 [==============================] - 8s 28ms/step - loss: 0.6140 - sparse_categorical_accuracy: 0.8496 - sparse_top_k_categorical_accuracy: 0.9583 - val_loss: 2.1134 - val_sparse_categorical_accuracy: 0.6215 - val_sparse_top_k_categorical_accuracy: 0.8032\n",
            "Epoch 6/10\n",
            "281/281 [==============================] - 8s 28ms/step - loss: 0.4486 - sparse_categorical_accuracy: 0.8965 - sparse_top_k_categorical_accuracy: 0.9766 - val_loss: 2.4288 - val_sparse_categorical_accuracy: 0.6055 - val_sparse_top_k_categorical_accuracy: 0.8014\n",
            "Epoch 7/10\n",
            "281/281 [==============================] - 8s 28ms/step - loss: 0.3583 - sparse_categorical_accuracy: 0.9203 - sparse_top_k_categorical_accuracy: 0.9840 - val_loss: 2.7322 - val_sparse_categorical_accuracy: 0.5913 - val_sparse_top_k_categorical_accuracy: 0.8014\n",
            "Epoch 8/10\n",
            "281/281 [==============================] - 8s 28ms/step - loss: 0.3043 - sparse_categorical_accuracy: 0.9331 - sparse_top_k_categorical_accuracy: 0.9884 - val_loss: 2.9537 - val_sparse_categorical_accuracy: 0.5837 - val_sparse_top_k_categorical_accuracy: 0.8041\n",
            "Epoch 9/10\n",
            "281/281 [==============================] - 8s 28ms/step - loss: 0.2677 - sparse_categorical_accuracy: 0.9382 - sparse_top_k_categorical_accuracy: 0.9919 - val_loss: 3.0503 - val_sparse_categorical_accuracy: 0.5761 - val_sparse_top_k_categorical_accuracy: 0.8019\n",
            "Epoch 10/10\n",
            "281/281 [==============================] - 8s 29ms/step - loss: 0.2410 - sparse_categorical_accuracy: 0.9418 - sparse_top_k_categorical_accuracy: 0.9949 - val_loss: 3.1145 - val_sparse_categorical_accuracy: 0.5859 - val_sparse_top_k_categorical_accuracy: 0.8010\n"
          ],
          "name": "stdout"
        }
      ]
    }
  ]
}