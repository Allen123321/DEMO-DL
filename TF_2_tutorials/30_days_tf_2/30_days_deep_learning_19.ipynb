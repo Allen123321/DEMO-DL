{
  "nbformat": 4,
  "nbformat_minor": 0,
  "metadata": {
    "colab": {
      "name": "30_days_deep_learning_19.ipynb",
      "provenance": [],
      "authorship_tag": "ABX9TyPXnIzttMH6ssPtyB9H4MbK",
      "include_colab_link": true
    },
    "kernelspec": {
      "name": "python3",
      "display_name": "Python 3"
    }
  },
  "cells": [
    {
      "cell_type": "markdown",
      "metadata": {
        "id": "view-in-github",
        "colab_type": "text"
      },
      "source": [
        "<a href=\"https://colab.research.google.com/github/Allen123321/DEMO-DL/blob/master/30_days_deep_learning_19.ipynb\" target=\"_parent\"><img src=\"https://colab.research.google.com/assets/colab-badge.svg\" alt=\"Open In Colab\"/></a>"
      ]
    },
    {
      "cell_type": "markdown",
      "metadata": {
        "id": "tP-V7WJWbPIn"
      },
      "source": [
        "## 6-2,训练模型的3种方法\r\n",
        "模型的训练主要有内置fit方法、内置tran_on_batch方法、自定义训练循环。<br>\r\n",
        "注：fit_generator方法在tf.keras中不推荐使用，其功能已经被fit包含。\r\n"
      ]
    },
    {
      "cell_type": "code",
      "metadata": {
        "id": "3N9GcRzFbAyg"
      },
      "source": [
        "import numpy as np\r\n",
        "import pandas as pd\r\n",
        "import tensorflow as tf\r\n",
        "from tensorflow.keras import *\r\n",
        "#打印时间分割线\r\n",
        "@tf.function\r\n",
        "def printbar():\r\n",
        "    today_ts = tf.timestamp()%(24*60*60)\r\n",
        "\r\n",
        "    hour = tf.cast(today_ts//3600+2,tf.int32)%tf.constant(24)\r\n",
        "    minite = tf.cast((today_ts%3600)//60,tf.int32)\r\n",
        "    second = tf.cast(tf.floor(today_ts%60),tf.int32)\r\n",
        "    \r\n",
        "    def timeformat(m):\r\n",
        "        if tf.strings.length(tf.strings.format(\"{}\",m))==1:\r\n",
        "            return(tf.strings.format(\"0{}\",m))\r\n",
        "        else:\r\n",
        "            return(tf.strings.format(\"{}\",m))\r\n",
        "    \r\n",
        "    timestring = tf.strings.join([timeformat(hour),timeformat(minite),\r\n",
        "                timeformat(second)],separator = \":\")\r\n",
        "    tf.print(\"==========\"*8+timestring)"
      ],
      "execution_count": 1,
      "outputs": []
    },
    {
      "cell_type": "code",
      "metadata": {
        "colab": {
          "base_uri": "https://localhost:8080/"
        },
        "id": "tN1Gb2GnbqcJ",
        "outputId": "ee4990c9-acf3-4485-bba2-641c94b68f19"
      },
      "source": [
        "MAX_LEN = 300\r\n",
        "BATCH_SIZE = 32\r\n",
        "(x_train,y_train),(x_test,y_test) = datasets.reuters.load_data()\r\n",
        "x_train = preprocessing.sequence.pad_sequences(x_train,maxlen=MAX_LEN) # Pads sequences to the same length.\r\n",
        "x_test = preprocessing.sequence.pad_sequences(x_test,maxlen=MAX_LEN)\r\n",
        "\r\n",
        "MAX_WORDS = x_train.max()+1\r\n",
        "CAT_NUM = y_train.max()+1"
      ],
      "execution_count": 2,
      "outputs": [
        {
          "output_type": "stream",
          "text": [
            "Downloading data from https://storage.googleapis.com/tensorflow/tf-keras-datasets/reuters.npz\n",
            "2113536/2110848 [==============================] - 0s 0us/step\n"
          ],
          "name": "stdout"
        },
        {
          "output_type": "stream",
          "text": [
            "/usr/local/lib/python3.6/dist-packages/tensorflow/python/keras/datasets/reuters.py:148: VisibleDeprecationWarning: Creating an ndarray from ragged nested sequences (which is a list-or-tuple of lists-or-tuples-or ndarrays with different lengths or shapes) is deprecated. If you meant to do this, you must specify 'dtype=object' when creating the ndarray\n",
            "  x_train, y_train = np.array(xs[:idx]), np.array(labels[:idx])\n",
            "/usr/local/lib/python3.6/dist-packages/tensorflow/python/keras/datasets/reuters.py:149: VisibleDeprecationWarning: Creating an ndarray from ragged nested sequences (which is a list-or-tuple of lists-or-tuples-or ndarrays with different lengths or shapes) is deprecated. If you meant to do this, you must specify 'dtype=object' when creating the ndarray\n",
            "  x_test, y_test = np.array(xs[idx:]), np.array(labels[idx:])\n"
          ],
          "name": "stderr"
        }
      ]
    },
    {
      "cell_type": "code",
      "metadata": {
        "id": "60gMj9Hqc5Sm"
      },
      "source": [
        "ds_train = tf.data.Dataset.from_tensor_slices((x_train,y_train)) \\\r\n",
        "          .shuffle(buffer_size = 1000).batch(BATCH_SIZE) \\\r\n",
        "          .prefetch(tf.data.experimental.AUTOTUNE).cache()\r\n",
        "   \r\n",
        "ds_test = tf.data.Dataset.from_tensor_slices((x_test,y_test)) \\\r\n",
        "          .shuffle(buffer_size = 1000).batch(BATCH_SIZE) \\\r\n",
        "          .prefetch(tf.data.experimental.AUTOTUNE).cache() \r\n",
        "          \r\n",
        "# 使用 prefetch 方法让数据准备和参数迭代两个过程相互并行。\r\n",
        "\r\n",
        "#使用 cache 方法让数据在第一个epoch后缓存到内存中，仅限于数据集不大情形。"
      ],
      "execution_count": 7,
      "outputs": []
    },
    {
      "cell_type": "markdown",
      "metadata": {
        "id": "-SikjMoNeALW"
      },
      "source": [
        "## 一，内置fit方法\r\n",
        "该方法功能非常强大, 支持对numpy array, tf.data.Dataset以及 Python generator数据进行训练。\r\n",
        "\r\n",
        "并且可以通过设置回调函数实现对训练过程的复杂控制逻辑。"
      ]
    },
    {
      "cell_type": "code",
      "metadata": {
        "colab": {
          "base_uri": "https://localhost:8080/"
        },
        "id": "spYiIJ7RdxQb",
        "outputId": "9c06ffa4-2669-47f4-e73d-d20e310df8d3"
      },
      "source": [
        "tf.keras.backend.clear_session()\r\n",
        "def create_model():\r\n",
        "  model = models.Sequential()\r\n",
        "  model.add(layers.Embedding(MAX_WORDS,7,input_length=MAX_LEN))\r\n",
        "  model.add(layers.Conv1D(filters = 64,kernel_size = 5,activation = \"relu\"))\r\n",
        "  model.add(layers.MaxPool1D(2))\r\n",
        "  model.add(layers.Conv1D(filters = 32,kernel_size = 3,activation = \"relu\"))\r\n",
        "  model.add(layers.MaxPool1D(2))\r\n",
        "  model.add(layers.Flatten())\r\n",
        "  model.add(layers.Dense(CAT_NUM,activation = \"softmax\"))\r\n",
        "  return(model)\r\n",
        "\r\n",
        "def compile_model(model):\r\n",
        "  model.compile(optimizer=optimizers.Nadam(),\r\n",
        "                loss=losses.SparseCategoricalCrossentropy(),\r\n",
        "                metrics=[metrics.SparseCategoricalAccuracy(),metrics.SparseTopKCategoricalAccuracy(5)]) \r\n",
        "  return(model)\r\n",
        "\r\n",
        "model = create_model()\r\n",
        "model.summary()\r\n",
        "model = compile_model(model)\r\n",
        "                "
      ],
      "execution_count": 8,
      "outputs": [
        {
          "output_type": "stream",
          "text": [
            "Model: \"sequential\"\n",
            "_________________________________________________________________\n",
            "Layer (type)                 Output Shape              Param #   \n",
            "=================================================================\n",
            "embedding (Embedding)        (None, 300, 7)            216874    \n",
            "_________________________________________________________________\n",
            "conv1d (Conv1D)              (None, 296, 64)           2304      \n",
            "_________________________________________________________________\n",
            "max_pooling1d (MaxPooling1D) (None, 148, 64)           0         \n",
            "_________________________________________________________________\n",
            "conv1d_1 (Conv1D)            (None, 146, 32)           6176      \n",
            "_________________________________________________________________\n",
            "max_pooling1d_1 (MaxPooling1 (None, 73, 32)            0         \n",
            "_________________________________________________________________\n",
            "flatten (Flatten)            (None, 2336)              0         \n",
            "_________________________________________________________________\n",
            "dense (Dense)                (None, 46)                107502    \n",
            "=================================================================\n",
            "Total params: 332,856\n",
            "Trainable params: 332,856\n",
            "Non-trainable params: 0\n",
            "_________________________________________________________________\n"
          ],
          "name": "stdout"
        }
      ]
    },
    {
      "cell_type": "code",
      "metadata": {
        "colab": {
          "base_uri": "https://localhost:8080/"
        },
        "id": "_mea5D_Ce5rw",
        "outputId": "2ecedea5-86c6-4282-b2a2-b711e2013ca1"
      },
      "source": [
        "history = model.fit(ds_train,validation_data = ds_test,epochs = 10)"
      ],
      "execution_count": 9,
      "outputs": [
        {
          "output_type": "stream",
          "text": [
            "Epoch 1/10\n",
            "281/281 [==============================] - 9s 29ms/step - loss: 2.3841 - sparse_categorical_accuracy: 0.3980 - sparse_top_k_categorical_accuracy: 0.7151 - val_loss: 1.7610 - val_sparse_categorical_accuracy: 0.5463 - val_sparse_top_k_categorical_accuracy: 0.7596\n",
            "Epoch 2/10\n",
            "281/281 [==============================] - 8s 28ms/step - loss: 1.6231 - sparse_categorical_accuracy: 0.5821 - sparse_top_k_categorical_accuracy: 0.7786 - val_loss: 1.5976 - val_sparse_categorical_accuracy: 0.5819 - val_sparse_top_k_categorical_accuracy: 0.7827\n",
            "Epoch 3/10\n",
            "281/281 [==============================] - 8s 28ms/step - loss: 1.2944 - sparse_categorical_accuracy: 0.6672 - sparse_top_k_categorical_accuracy: 0.8278 - val_loss: 1.6088 - val_sparse_categorical_accuracy: 0.6122 - val_sparse_top_k_categorical_accuracy: 0.7983\n",
            "Epoch 4/10\n",
            "281/281 [==============================] - 8s 28ms/step - loss: 1.0285 - sparse_categorical_accuracy: 0.7319 - sparse_top_k_categorical_accuracy: 0.8855 - val_loss: 1.7645 - val_sparse_categorical_accuracy: 0.6215 - val_sparse_top_k_categorical_accuracy: 0.8041\n",
            "Epoch 5/10\n",
            "281/281 [==============================] - 8s 28ms/step - loss: 0.7859 - sparse_categorical_accuracy: 0.7962 - sparse_top_k_categorical_accuracy: 0.9301 - val_loss: 2.0069 - val_sparse_categorical_accuracy: 0.6184 - val_sparse_top_k_categorical_accuracy: 0.7965\n",
            "Epoch 6/10\n",
            "281/281 [==============================] - 8s 28ms/step - loss: 0.5891 - sparse_categorical_accuracy: 0.8521 - sparse_top_k_categorical_accuracy: 0.9600 - val_loss: 2.3199 - val_sparse_categorical_accuracy: 0.6122 - val_sparse_top_k_categorical_accuracy: 0.7952\n",
            "Epoch 7/10\n",
            "281/281 [==============================] - 8s 28ms/step - loss: 0.4624 - sparse_categorical_accuracy: 0.8882 - sparse_top_k_categorical_accuracy: 0.9760 - val_loss: 2.5766 - val_sparse_categorical_accuracy: 0.6126 - val_sparse_top_k_categorical_accuracy: 0.8001\n",
            "Epoch 8/10\n",
            "281/281 [==============================] - 8s 28ms/step - loss: 0.3766 - sparse_categorical_accuracy: 0.9108 - sparse_top_k_categorical_accuracy: 0.9825 - val_loss: 2.7702 - val_sparse_categorical_accuracy: 0.6207 - val_sparse_top_k_categorical_accuracy: 0.7970\n",
            "Epoch 9/10\n",
            "281/281 [==============================] - 8s 27ms/step - loss: 0.3202 - sparse_categorical_accuracy: 0.9236 - sparse_top_k_categorical_accuracy: 0.9890 - val_loss: 2.9447 - val_sparse_categorical_accuracy: 0.6256 - val_sparse_top_k_categorical_accuracy: 0.7961\n",
            "Epoch 10/10\n",
            "281/281 [==============================] - 8s 29ms/step - loss: 0.2800 - sparse_categorical_accuracy: 0.9326 - sparse_top_k_categorical_accuracy: 0.9920 - val_loss: 3.1010 - val_sparse_categorical_accuracy: 0.6220 - val_sparse_top_k_categorical_accuracy: 0.7974\n"
          ],
          "name": "stdout"
        }
      ]
    },
    {
      "cell_type": "code",
      "metadata": {
        "id": "3uEWaSAtfTSa"
      },
      "source": [
        "%matplotlib inline\r\n",
        "%config InlineBackend.figure_format = 'svg'\r\n",
        "\r\n",
        "import matplotlib.pyplot as plt\r\n",
        "\r\n",
        "def plot_metric(history, metric):\r\n",
        "    train_metrics = history.history[metric]\r\n",
        "    val_metrics = history.history['val_'+metric]\r\n",
        "    epochs = range(1, len(train_metrics) + 1)\r\n",
        "    plt.plot(epochs, train_metrics, 'bo--')\r\n",
        "    plt.plot(epochs, val_metrics, 'ro-')\r\n",
        "    plt.title('Training and validation '+ metric)\r\n",
        "    plt.xlabel(\"Epochs\")\r\n",
        "    plt.ylabel(metric)\r\n",
        "    plt.legend([\"train_\"+metric, 'val_'+metric])\r\n",
        "    plt.show()"
      ],
      "execution_count": 10,
      "outputs": []
    },
    {
      "cell_type": "code",
      "metadata": {
        "colab": {
          "base_uri": "https://localhost:8080/",
          "height": 390
        },
        "id": "CojuWwXLfi7F",
        "outputId": "9073ca3a-9f0b-4748-9a39-e7e396101050"
      },
      "source": [
        "plot_metric(history,\"sparse_categorical_accuracy\")"
      ],
      "execution_count": 29,
      "outputs": [
        {
          "output_type": "display_data",
          "data": {
            "text/plain": [
              "<Figure size 432x288 with 1 Axes>"
            ],
            "image/svg+xml": "<?xml version=\"1.0\" encoding=\"utf-8\" standalone=\"no\"?>\n<!DOCTYPE svg PUBLIC \"-//W3C//DTD SVG 1.1//EN\"\n  \"http://www.w3.org/Graphics/SVG/1.1/DTD/svg11.dtd\">\n<!-- Created with matplotlib (https://matplotlib.org/) -->\n<svg height=\"277.314375pt\" version=\"1.1\" viewBox=\"0 0 386.059375 277.314375\" width=\"386.059375pt\" xmlns=\"http://www.w3.org/2000/svg\" xmlns:xlink=\"http://www.w3.org/1999/xlink\">\n <defs>\n  <style type=\"text/css\">\n*{stroke-linecap:butt;stroke-linejoin:round;}\n  </style>\n </defs>\n <g id=\"figure_1\">\n  <g id=\"patch_1\">\n   <path d=\"M 0 277.314375 \nL 386.059375 277.314375 \nL 386.059375 0 \nL 0 0 \nz\n\" style=\"fill:none;\"/>\n  </g>\n  <g id=\"axes_1\">\n   <g id=\"patch_2\">\n    <path d=\"M 44.059375 239.758125 \nL 378.859375 239.758125 \nL 378.859375 22.318125 \nL 44.059375 22.318125 \nz\n\" style=\"fill:#ffffff;\"/>\n   </g>\n   <g id=\"matplotlib.axis_1\">\n    <g id=\"xtick_1\">\n     <g id=\"line2d_1\">\n      <defs>\n       <path d=\"M 0 0 \nL 0 3.5 \n\" id=\"mca4031cc8b\" style=\"stroke:#000000;stroke-width:0.8;\"/>\n      </defs>\n      <g>\n       <use style=\"stroke:#000000;stroke-width:0.8;\" x=\"93.095739\" xlink:href=\"#mca4031cc8b\" y=\"239.758125\"/>\n      </g>\n     </g>\n     <g id=\"text_1\">\n      <!-- 2 -->\n      <defs>\n       <path d=\"M 19.1875 8.296875 \nL 53.609375 8.296875 \nL 53.609375 0 \nL 7.328125 0 \nL 7.328125 8.296875 \nQ 12.9375 14.109375 22.625 23.890625 \nQ 32.328125 33.6875 34.8125 36.53125 \nQ 39.546875 41.84375 41.421875 45.53125 \nQ 43.3125 49.21875 43.3125 52.78125 \nQ 43.3125 58.59375 39.234375 62.25 \nQ 35.15625 65.921875 28.609375 65.921875 \nQ 23.96875 65.921875 18.8125 64.3125 \nQ 13.671875 62.703125 7.8125 59.421875 \nL 7.8125 69.390625 \nQ 13.765625 71.78125 18.9375 73 \nQ 24.125 74.21875 28.421875 74.21875 \nQ 39.75 74.21875 46.484375 68.546875 \nQ 53.21875 62.890625 53.21875 53.421875 \nQ 53.21875 48.921875 51.53125 44.890625 \nQ 49.859375 40.875 45.40625 35.40625 \nQ 44.1875 33.984375 37.640625 27.21875 \nQ 31.109375 20.453125 19.1875 8.296875 \nz\n\" id=\"DejaVuSans-50\"/>\n      </defs>\n      <g transform=\"translate(89.914489 254.356562)scale(0.1 -0.1)\">\n       <use xlink:href=\"#DejaVuSans-50\"/>\n      </g>\n     </g>\n    </g>\n    <g id=\"xtick_2\">\n     <g id=\"line2d_2\">\n      <g>\n       <use style=\"stroke:#000000;stroke-width:0.8;\" x=\"160.732102\" xlink:href=\"#mca4031cc8b\" y=\"239.758125\"/>\n      </g>\n     </g>\n     <g id=\"text_2\">\n      <!-- 4 -->\n      <defs>\n       <path d=\"M 37.796875 64.3125 \nL 12.890625 25.390625 \nL 37.796875 25.390625 \nz\nM 35.203125 72.90625 \nL 47.609375 72.90625 \nL 47.609375 25.390625 \nL 58.015625 25.390625 \nL 58.015625 17.1875 \nL 47.609375 17.1875 \nL 47.609375 0 \nL 37.796875 0 \nL 37.796875 17.1875 \nL 4.890625 17.1875 \nL 4.890625 26.703125 \nz\n\" id=\"DejaVuSans-52\"/>\n      </defs>\n      <g transform=\"translate(157.550852 254.356562)scale(0.1 -0.1)\">\n       <use xlink:href=\"#DejaVuSans-52\"/>\n      </g>\n     </g>\n    </g>\n    <g id=\"xtick_3\">\n     <g id=\"line2d_3\">\n      <g>\n       <use style=\"stroke:#000000;stroke-width:0.8;\" x=\"228.368466\" xlink:href=\"#mca4031cc8b\" y=\"239.758125\"/>\n      </g>\n     </g>\n     <g id=\"text_3\">\n      <!-- 6 -->\n      <defs>\n       <path d=\"M 33.015625 40.375 \nQ 26.375 40.375 22.484375 35.828125 \nQ 18.609375 31.296875 18.609375 23.390625 \nQ 18.609375 15.53125 22.484375 10.953125 \nQ 26.375 6.390625 33.015625 6.390625 \nQ 39.65625 6.390625 43.53125 10.953125 \nQ 47.40625 15.53125 47.40625 23.390625 \nQ 47.40625 31.296875 43.53125 35.828125 \nQ 39.65625 40.375 33.015625 40.375 \nz\nM 52.59375 71.296875 \nL 52.59375 62.3125 \nQ 48.875 64.0625 45.09375 64.984375 \nQ 41.3125 65.921875 37.59375 65.921875 \nQ 27.828125 65.921875 22.671875 59.328125 \nQ 17.53125 52.734375 16.796875 39.40625 \nQ 19.671875 43.65625 24.015625 45.921875 \nQ 28.375 48.1875 33.59375 48.1875 \nQ 44.578125 48.1875 50.953125 41.515625 \nQ 57.328125 34.859375 57.328125 23.390625 \nQ 57.328125 12.15625 50.6875 5.359375 \nQ 44.046875 -1.421875 33.015625 -1.421875 \nQ 20.359375 -1.421875 13.671875 8.265625 \nQ 6.984375 17.96875 6.984375 36.375 \nQ 6.984375 53.65625 15.1875 63.9375 \nQ 23.390625 74.21875 37.203125 74.21875 \nQ 40.921875 74.21875 44.703125 73.484375 \nQ 48.484375 72.75 52.59375 71.296875 \nz\n\" id=\"DejaVuSans-54\"/>\n      </defs>\n      <g transform=\"translate(225.187216 254.356562)scale(0.1 -0.1)\">\n       <use xlink:href=\"#DejaVuSans-54\"/>\n      </g>\n     </g>\n    </g>\n    <g id=\"xtick_4\">\n     <g id=\"line2d_4\">\n      <g>\n       <use style=\"stroke:#000000;stroke-width:0.8;\" x=\"296.00483\" xlink:href=\"#mca4031cc8b\" y=\"239.758125\"/>\n      </g>\n     </g>\n     <g id=\"text_4\">\n      <!-- 8 -->\n      <defs>\n       <path d=\"M 31.78125 34.625 \nQ 24.75 34.625 20.71875 30.859375 \nQ 16.703125 27.09375 16.703125 20.515625 \nQ 16.703125 13.921875 20.71875 10.15625 \nQ 24.75 6.390625 31.78125 6.390625 \nQ 38.8125 6.390625 42.859375 10.171875 \nQ 46.921875 13.96875 46.921875 20.515625 \nQ 46.921875 27.09375 42.890625 30.859375 \nQ 38.875 34.625 31.78125 34.625 \nz\nM 21.921875 38.8125 \nQ 15.578125 40.375 12.03125 44.71875 \nQ 8.5 49.078125 8.5 55.328125 \nQ 8.5 64.0625 14.71875 69.140625 \nQ 20.953125 74.21875 31.78125 74.21875 \nQ 42.671875 74.21875 48.875 69.140625 \nQ 55.078125 64.0625 55.078125 55.328125 \nQ 55.078125 49.078125 51.53125 44.71875 \nQ 48 40.375 41.703125 38.8125 \nQ 48.828125 37.15625 52.796875 32.3125 \nQ 56.78125 27.484375 56.78125 20.515625 \nQ 56.78125 9.90625 50.3125 4.234375 \nQ 43.84375 -1.421875 31.78125 -1.421875 \nQ 19.734375 -1.421875 13.25 4.234375 \nQ 6.78125 9.90625 6.78125 20.515625 \nQ 6.78125 27.484375 10.78125 32.3125 \nQ 14.796875 37.15625 21.921875 38.8125 \nz\nM 18.3125 54.390625 \nQ 18.3125 48.734375 21.84375 45.5625 \nQ 25.390625 42.390625 31.78125 42.390625 \nQ 38.140625 42.390625 41.71875 45.5625 \nQ 45.3125 48.734375 45.3125 54.390625 \nQ 45.3125 60.0625 41.71875 63.234375 \nQ 38.140625 66.40625 31.78125 66.40625 \nQ 25.390625 66.40625 21.84375 63.234375 \nQ 18.3125 60.0625 18.3125 54.390625 \nz\n\" id=\"DejaVuSans-56\"/>\n      </defs>\n      <g transform=\"translate(292.82358 254.356562)scale(0.1 -0.1)\">\n       <use xlink:href=\"#DejaVuSans-56\"/>\n      </g>\n     </g>\n    </g>\n    <g id=\"xtick_5\">\n     <g id=\"line2d_5\">\n      <g>\n       <use style=\"stroke:#000000;stroke-width:0.8;\" x=\"363.641193\" xlink:href=\"#mca4031cc8b\" y=\"239.758125\"/>\n      </g>\n     </g>\n     <g id=\"text_5\">\n      <!-- 10 -->\n      <defs>\n       <path d=\"M 12.40625 8.296875 \nL 28.515625 8.296875 \nL 28.515625 63.921875 \nL 10.984375 60.40625 \nL 10.984375 69.390625 \nL 28.421875 72.90625 \nL 38.28125 72.90625 \nL 38.28125 8.296875 \nL 54.390625 8.296875 \nL 54.390625 0 \nL 12.40625 0 \nz\n\" id=\"DejaVuSans-49\"/>\n       <path d=\"M 31.78125 66.40625 \nQ 24.171875 66.40625 20.328125 58.90625 \nQ 16.5 51.421875 16.5 36.375 \nQ 16.5 21.390625 20.328125 13.890625 \nQ 24.171875 6.390625 31.78125 6.390625 \nQ 39.453125 6.390625 43.28125 13.890625 \nQ 47.125 21.390625 47.125 36.375 \nQ 47.125 51.421875 43.28125 58.90625 \nQ 39.453125 66.40625 31.78125 66.40625 \nz\nM 31.78125 74.21875 \nQ 44.046875 74.21875 50.515625 64.515625 \nQ 56.984375 54.828125 56.984375 36.375 \nQ 56.984375 17.96875 50.515625 8.265625 \nQ 44.046875 -1.421875 31.78125 -1.421875 \nQ 19.53125 -1.421875 13.0625 8.265625 \nQ 6.59375 17.96875 6.59375 36.375 \nQ 6.59375 54.828125 13.0625 64.515625 \nQ 19.53125 74.21875 31.78125 74.21875 \nz\n\" id=\"DejaVuSans-48\"/>\n      </defs>\n      <g transform=\"translate(357.278693 254.356562)scale(0.1 -0.1)\">\n       <use xlink:href=\"#DejaVuSans-49\"/>\n       <use x=\"63.623047\" xlink:href=\"#DejaVuSans-48\"/>\n      </g>\n     </g>\n    </g>\n    <g id=\"text_6\">\n     <!-- Epochs -->\n     <defs>\n      <path d=\"M 9.8125 72.90625 \nL 55.90625 72.90625 \nL 55.90625 64.59375 \nL 19.671875 64.59375 \nL 19.671875 43.015625 \nL 54.390625 43.015625 \nL 54.390625 34.71875 \nL 19.671875 34.71875 \nL 19.671875 8.296875 \nL 56.78125 8.296875 \nL 56.78125 0 \nL 9.8125 0 \nz\n\" id=\"DejaVuSans-69\"/>\n      <path d=\"M 18.109375 8.203125 \nL 18.109375 -20.796875 \nL 9.078125 -20.796875 \nL 9.078125 54.6875 \nL 18.109375 54.6875 \nL 18.109375 46.390625 \nQ 20.953125 51.265625 25.265625 53.625 \nQ 29.59375 56 35.59375 56 \nQ 45.5625 56 51.78125 48.09375 \nQ 58.015625 40.1875 58.015625 27.296875 \nQ 58.015625 14.40625 51.78125 6.484375 \nQ 45.5625 -1.421875 35.59375 -1.421875 \nQ 29.59375 -1.421875 25.265625 0.953125 \nQ 20.953125 3.328125 18.109375 8.203125 \nz\nM 48.6875 27.296875 \nQ 48.6875 37.203125 44.609375 42.84375 \nQ 40.53125 48.484375 33.40625 48.484375 \nQ 26.265625 48.484375 22.1875 42.84375 \nQ 18.109375 37.203125 18.109375 27.296875 \nQ 18.109375 17.390625 22.1875 11.75 \nQ 26.265625 6.109375 33.40625 6.109375 \nQ 40.53125 6.109375 44.609375 11.75 \nQ 48.6875 17.390625 48.6875 27.296875 \nz\n\" id=\"DejaVuSans-112\"/>\n      <path d=\"M 30.609375 48.390625 \nQ 23.390625 48.390625 19.1875 42.75 \nQ 14.984375 37.109375 14.984375 27.296875 \nQ 14.984375 17.484375 19.15625 11.84375 \nQ 23.34375 6.203125 30.609375 6.203125 \nQ 37.796875 6.203125 41.984375 11.859375 \nQ 46.1875 17.53125 46.1875 27.296875 \nQ 46.1875 37.015625 41.984375 42.703125 \nQ 37.796875 48.390625 30.609375 48.390625 \nz\nM 30.609375 56 \nQ 42.328125 56 49.015625 48.375 \nQ 55.71875 40.765625 55.71875 27.296875 \nQ 55.71875 13.875 49.015625 6.21875 \nQ 42.328125 -1.421875 30.609375 -1.421875 \nQ 18.84375 -1.421875 12.171875 6.21875 \nQ 5.515625 13.875 5.515625 27.296875 \nQ 5.515625 40.765625 12.171875 48.375 \nQ 18.84375 56 30.609375 56 \nz\n\" id=\"DejaVuSans-111\"/>\n      <path d=\"M 48.78125 52.59375 \nL 48.78125 44.1875 \nQ 44.96875 46.296875 41.140625 47.34375 \nQ 37.3125 48.390625 33.40625 48.390625 \nQ 24.65625 48.390625 19.8125 42.84375 \nQ 14.984375 37.3125 14.984375 27.296875 \nQ 14.984375 17.28125 19.8125 11.734375 \nQ 24.65625 6.203125 33.40625 6.203125 \nQ 37.3125 6.203125 41.140625 7.25 \nQ 44.96875 8.296875 48.78125 10.40625 \nL 48.78125 2.09375 \nQ 45.015625 0.34375 40.984375 -0.53125 \nQ 36.96875 -1.421875 32.421875 -1.421875 \nQ 20.0625 -1.421875 12.78125 6.34375 \nQ 5.515625 14.109375 5.515625 27.296875 \nQ 5.515625 40.671875 12.859375 48.328125 \nQ 20.21875 56 33.015625 56 \nQ 37.15625 56 41.109375 55.140625 \nQ 45.0625 54.296875 48.78125 52.59375 \nz\n\" id=\"DejaVuSans-99\"/>\n      <path d=\"M 54.890625 33.015625 \nL 54.890625 0 \nL 45.90625 0 \nL 45.90625 32.71875 \nQ 45.90625 40.484375 42.875 44.328125 \nQ 39.84375 48.1875 33.796875 48.1875 \nQ 26.515625 48.1875 22.3125 43.546875 \nQ 18.109375 38.921875 18.109375 30.90625 \nL 18.109375 0 \nL 9.078125 0 \nL 9.078125 75.984375 \nL 18.109375 75.984375 \nL 18.109375 46.1875 \nQ 21.34375 51.125 25.703125 53.5625 \nQ 30.078125 56 35.796875 56 \nQ 45.21875 56 50.046875 50.171875 \nQ 54.890625 44.34375 54.890625 33.015625 \nz\n\" id=\"DejaVuSans-104\"/>\n      <path d=\"M 44.28125 53.078125 \nL 44.28125 44.578125 \nQ 40.484375 46.53125 36.375 47.5 \nQ 32.28125 48.484375 27.875 48.484375 \nQ 21.1875 48.484375 17.84375 46.4375 \nQ 14.5 44.390625 14.5 40.28125 \nQ 14.5 37.15625 16.890625 35.375 \nQ 19.28125 33.59375 26.515625 31.984375 \nL 29.59375 31.296875 \nQ 39.15625 29.25 43.1875 25.515625 \nQ 47.21875 21.78125 47.21875 15.09375 \nQ 47.21875 7.46875 41.1875 3.015625 \nQ 35.15625 -1.421875 24.609375 -1.421875 \nQ 20.21875 -1.421875 15.453125 -0.5625 \nQ 10.6875 0.296875 5.421875 2 \nL 5.421875 11.28125 \nQ 10.40625 8.6875 15.234375 7.390625 \nQ 20.0625 6.109375 24.8125 6.109375 \nQ 31.15625 6.109375 34.5625 8.28125 \nQ 37.984375 10.453125 37.984375 14.40625 \nQ 37.984375 18.0625 35.515625 20.015625 \nQ 33.0625 21.96875 24.703125 23.78125 \nL 21.578125 24.515625 \nQ 13.234375 26.265625 9.515625 29.90625 \nQ 5.8125 33.546875 5.8125 39.890625 \nQ 5.8125 47.609375 11.28125 51.796875 \nQ 16.75 56 26.8125 56 \nQ 31.78125 56 36.171875 55.265625 \nQ 40.578125 54.546875 44.28125 53.078125 \nz\n\" id=\"DejaVuSans-115\"/>\n     </defs>\n     <g transform=\"translate(193.54375 268.034687)scale(0.1 -0.1)\">\n      <use xlink:href=\"#DejaVuSans-69\"/>\n      <use x=\"63.183594\" xlink:href=\"#DejaVuSans-112\"/>\n      <use x=\"126.660156\" xlink:href=\"#DejaVuSans-111\"/>\n      <use x=\"187.841797\" xlink:href=\"#DejaVuSans-99\"/>\n      <use x=\"242.822266\" xlink:href=\"#DejaVuSans-104\"/>\n      <use x=\"306.201172\" xlink:href=\"#DejaVuSans-115\"/>\n     </g>\n    </g>\n   </g>\n   <g id=\"matplotlib.axis_2\">\n    <g id=\"ytick_1\">\n     <g id=\"line2d_6\">\n      <defs>\n       <path d=\"M 0 0 \nL -3.5 0 \n\" id=\"m0b5182b83c\" style=\"stroke:#000000;stroke-width:0.8;\"/>\n      </defs>\n      <g>\n       <use style=\"stroke:#000000;stroke-width:0.8;\" x=\"44.059375\" xlink:href=\"#m0b5182b83c\" y=\"213.744618\"/>\n      </g>\n     </g>\n     <g id=\"text_7\">\n      <!-- 0.5 -->\n      <defs>\n       <path d=\"M 10.6875 12.40625 \nL 21 12.40625 \nL 21 0 \nL 10.6875 0 \nz\n\" id=\"DejaVuSans-46\"/>\n       <path d=\"M 10.796875 72.90625 \nL 49.515625 72.90625 \nL 49.515625 64.59375 \nL 19.828125 64.59375 \nL 19.828125 46.734375 \nQ 21.96875 47.46875 24.109375 47.828125 \nQ 26.265625 48.1875 28.421875 48.1875 \nQ 40.625 48.1875 47.75 41.5 \nQ 54.890625 34.8125 54.890625 23.390625 \nQ 54.890625 11.625 47.5625 5.09375 \nQ 40.234375 -1.421875 26.90625 -1.421875 \nQ 22.3125 -1.421875 17.546875 -0.640625 \nQ 12.796875 0.140625 7.71875 1.703125 \nL 7.71875 11.625 \nQ 12.109375 9.234375 16.796875 8.0625 \nQ 21.484375 6.890625 26.703125 6.890625 \nQ 35.15625 6.890625 40.078125 11.328125 \nQ 45.015625 15.765625 45.015625 23.390625 \nQ 45.015625 31 40.078125 35.4375 \nQ 35.15625 39.890625 26.703125 39.890625 \nQ 22.75 39.890625 18.8125 39.015625 \nQ 14.890625 38.140625 10.796875 36.28125 \nz\n\" id=\"DejaVuSans-53\"/>\n      </defs>\n      <g transform=\"translate(21.15625 217.543837)scale(0.1 -0.1)\">\n       <use xlink:href=\"#DejaVuSans-48\"/>\n       <use x=\"63.623047\" xlink:href=\"#DejaVuSans-46\"/>\n       <use x=\"95.410156\" xlink:href=\"#DejaVuSans-53\"/>\n      </g>\n     </g>\n    </g>\n    <g id=\"ytick_2\">\n     <g id=\"line2d_7\">\n      <g>\n       <use style=\"stroke:#000000;stroke-width:0.8;\" x=\"44.059375\" xlink:href=\"#m0b5182b83c\" y=\"171.750855\"/>\n      </g>\n     </g>\n     <g id=\"text_8\">\n      <!-- 0.6 -->\n      <g transform=\"translate(21.15625 175.550074)scale(0.1 -0.1)\">\n       <use xlink:href=\"#DejaVuSans-48\"/>\n       <use x=\"63.623047\" xlink:href=\"#DejaVuSans-46\"/>\n       <use x=\"95.410156\" xlink:href=\"#DejaVuSans-54\"/>\n      </g>\n     </g>\n    </g>\n    <g id=\"ytick_3\">\n     <g id=\"line2d_8\">\n      <g>\n       <use style=\"stroke:#000000;stroke-width:0.8;\" x=\"44.059375\" xlink:href=\"#m0b5182b83c\" y=\"129.757091\"/>\n      </g>\n     </g>\n     <g id=\"text_9\">\n      <!-- 0.7 -->\n      <defs>\n       <path d=\"M 8.203125 72.90625 \nL 55.078125 72.90625 \nL 55.078125 68.703125 \nL 28.609375 0 \nL 18.3125 0 \nL 43.21875 64.59375 \nL 8.203125 64.59375 \nz\n\" id=\"DejaVuSans-55\"/>\n      </defs>\n      <g transform=\"translate(21.15625 133.55631)scale(0.1 -0.1)\">\n       <use xlink:href=\"#DejaVuSans-48\"/>\n       <use x=\"63.623047\" xlink:href=\"#DejaVuSans-46\"/>\n       <use x=\"95.410156\" xlink:href=\"#DejaVuSans-55\"/>\n      </g>\n     </g>\n    </g>\n    <g id=\"ytick_4\">\n     <g id=\"line2d_9\">\n      <g>\n       <use style=\"stroke:#000000;stroke-width:0.8;\" x=\"44.059375\" xlink:href=\"#m0b5182b83c\" y=\"87.763328\"/>\n      </g>\n     </g>\n     <g id=\"text_10\">\n      <!-- 0.8 -->\n      <g transform=\"translate(21.15625 91.562547)scale(0.1 -0.1)\">\n       <use xlink:href=\"#DejaVuSans-48\"/>\n       <use x=\"63.623047\" xlink:href=\"#DejaVuSans-46\"/>\n       <use x=\"95.410156\" xlink:href=\"#DejaVuSans-56\"/>\n      </g>\n     </g>\n    </g>\n    <g id=\"ytick_5\">\n     <g id=\"line2d_10\">\n      <g>\n       <use style=\"stroke:#000000;stroke-width:0.8;\" x=\"44.059375\" xlink:href=\"#m0b5182b83c\" y=\"45.769565\"/>\n      </g>\n     </g>\n     <g id=\"text_11\">\n      <!-- 0.9 -->\n      <defs>\n       <path d=\"M 10.984375 1.515625 \nL 10.984375 10.5 \nQ 14.703125 8.734375 18.5 7.8125 \nQ 22.3125 6.890625 25.984375 6.890625 \nQ 35.75 6.890625 40.890625 13.453125 \nQ 46.046875 20.015625 46.78125 33.40625 \nQ 43.953125 29.203125 39.59375 26.953125 \nQ 35.25 24.703125 29.984375 24.703125 \nQ 19.046875 24.703125 12.671875 31.3125 \nQ 6.296875 37.9375 6.296875 49.421875 \nQ 6.296875 60.640625 12.9375 67.421875 \nQ 19.578125 74.21875 30.609375 74.21875 \nQ 43.265625 74.21875 49.921875 64.515625 \nQ 56.59375 54.828125 56.59375 36.375 \nQ 56.59375 19.140625 48.40625 8.859375 \nQ 40.234375 -1.421875 26.421875 -1.421875 \nQ 22.703125 -1.421875 18.890625 -0.6875 \nQ 15.09375 0.046875 10.984375 1.515625 \nz\nM 30.609375 32.421875 \nQ 37.25 32.421875 41.125 36.953125 \nQ 45.015625 41.5 45.015625 49.421875 \nQ 45.015625 57.28125 41.125 61.84375 \nQ 37.25 66.40625 30.609375 66.40625 \nQ 23.96875 66.40625 20.09375 61.84375 \nQ 16.21875 57.28125 16.21875 49.421875 \nQ 16.21875 41.5 20.09375 36.953125 \nQ 23.96875 32.421875 30.609375 32.421875 \nz\n\" id=\"DejaVuSans-57\"/>\n      </defs>\n      <g transform=\"translate(21.15625 49.568783)scale(0.1 -0.1)\">\n       <use xlink:href=\"#DejaVuSans-48\"/>\n       <use x=\"63.623047\" xlink:href=\"#DejaVuSans-46\"/>\n       <use x=\"95.410156\" xlink:href=\"#DejaVuSans-57\"/>\n      </g>\n     </g>\n    </g>\n    <g id=\"text_12\">\n     <!-- sparse_categorical_accuracy -->\n     <defs>\n      <path d=\"M 34.28125 27.484375 \nQ 23.390625 27.484375 19.1875 25 \nQ 14.984375 22.515625 14.984375 16.5 \nQ 14.984375 11.71875 18.140625 8.90625 \nQ 21.296875 6.109375 26.703125 6.109375 \nQ 34.1875 6.109375 38.703125 11.40625 \nQ 43.21875 16.703125 43.21875 25.484375 \nL 43.21875 27.484375 \nz\nM 52.203125 31.203125 \nL 52.203125 0 \nL 43.21875 0 \nL 43.21875 8.296875 \nQ 40.140625 3.328125 35.546875 0.953125 \nQ 30.953125 -1.421875 24.3125 -1.421875 \nQ 15.921875 -1.421875 10.953125 3.296875 \nQ 6 8.015625 6 15.921875 \nQ 6 25.140625 12.171875 29.828125 \nQ 18.359375 34.515625 30.609375 34.515625 \nL 43.21875 34.515625 \nL 43.21875 35.40625 \nQ 43.21875 41.609375 39.140625 45 \nQ 35.0625 48.390625 27.6875 48.390625 \nQ 23 48.390625 18.546875 47.265625 \nQ 14.109375 46.140625 10.015625 43.890625 \nL 10.015625 52.203125 \nQ 14.9375 54.109375 19.578125 55.046875 \nQ 24.21875 56 28.609375 56 \nQ 40.484375 56 46.34375 49.84375 \nQ 52.203125 43.703125 52.203125 31.203125 \nz\n\" id=\"DejaVuSans-97\"/>\n      <path d=\"M 41.109375 46.296875 \nQ 39.59375 47.171875 37.8125 47.578125 \nQ 36.03125 48 33.890625 48 \nQ 26.265625 48 22.1875 43.046875 \nQ 18.109375 38.09375 18.109375 28.8125 \nL 18.109375 0 \nL 9.078125 0 \nL 9.078125 54.6875 \nL 18.109375 54.6875 \nL 18.109375 46.1875 \nQ 20.953125 51.171875 25.484375 53.578125 \nQ 30.03125 56 36.53125 56 \nQ 37.453125 56 38.578125 55.875 \nQ 39.703125 55.765625 41.0625 55.515625 \nz\n\" id=\"DejaVuSans-114\"/>\n      <path d=\"M 56.203125 29.59375 \nL 56.203125 25.203125 \nL 14.890625 25.203125 \nQ 15.484375 15.921875 20.484375 11.0625 \nQ 25.484375 6.203125 34.421875 6.203125 \nQ 39.59375 6.203125 44.453125 7.46875 \nQ 49.3125 8.734375 54.109375 11.28125 \nL 54.109375 2.78125 \nQ 49.265625 0.734375 44.1875 -0.34375 \nQ 39.109375 -1.421875 33.890625 -1.421875 \nQ 20.796875 -1.421875 13.15625 6.1875 \nQ 5.515625 13.8125 5.515625 26.8125 \nQ 5.515625 40.234375 12.765625 48.109375 \nQ 20.015625 56 32.328125 56 \nQ 43.359375 56 49.78125 48.890625 \nQ 56.203125 41.796875 56.203125 29.59375 \nz\nM 47.21875 32.234375 \nQ 47.125 39.59375 43.09375 43.984375 \nQ 39.0625 48.390625 32.421875 48.390625 \nQ 24.90625 48.390625 20.390625 44.140625 \nQ 15.875 39.890625 15.1875 32.171875 \nz\n\" id=\"DejaVuSans-101\"/>\n      <path d=\"M 50.984375 -16.609375 \nL 50.984375 -23.578125 \nL -0.984375 -23.578125 \nL -0.984375 -16.609375 \nz\n\" id=\"DejaVuSans-95\"/>\n      <path d=\"M 18.3125 70.21875 \nL 18.3125 54.6875 \nL 36.8125 54.6875 \nL 36.8125 47.703125 \nL 18.3125 47.703125 \nL 18.3125 18.015625 \nQ 18.3125 11.328125 20.140625 9.421875 \nQ 21.96875 7.515625 27.59375 7.515625 \nL 36.8125 7.515625 \nL 36.8125 0 \nL 27.59375 0 \nQ 17.1875 0 13.234375 3.875 \nQ 9.28125 7.765625 9.28125 18.015625 \nL 9.28125 47.703125 \nL 2.6875 47.703125 \nL 2.6875 54.6875 \nL 9.28125 54.6875 \nL 9.28125 70.21875 \nz\n\" id=\"DejaVuSans-116\"/>\n      <path d=\"M 45.40625 27.984375 \nQ 45.40625 37.75 41.375 43.109375 \nQ 37.359375 48.484375 30.078125 48.484375 \nQ 22.859375 48.484375 18.828125 43.109375 \nQ 14.796875 37.75 14.796875 27.984375 \nQ 14.796875 18.265625 18.828125 12.890625 \nQ 22.859375 7.515625 30.078125 7.515625 \nQ 37.359375 7.515625 41.375 12.890625 \nQ 45.40625 18.265625 45.40625 27.984375 \nz\nM 54.390625 6.78125 \nQ 54.390625 -7.171875 48.1875 -13.984375 \nQ 42 -20.796875 29.203125 -20.796875 \nQ 24.46875 -20.796875 20.265625 -20.09375 \nQ 16.0625 -19.390625 12.109375 -17.921875 \nL 12.109375 -9.1875 \nQ 16.0625 -11.328125 19.921875 -12.34375 \nQ 23.78125 -13.375 27.78125 -13.375 \nQ 36.625 -13.375 41.015625 -8.765625 \nQ 45.40625 -4.15625 45.40625 5.171875 \nL 45.40625 9.625 \nQ 42.625 4.78125 38.28125 2.390625 \nQ 33.9375 0 27.875 0 \nQ 17.828125 0 11.671875 7.65625 \nQ 5.515625 15.328125 5.515625 27.984375 \nQ 5.515625 40.671875 11.671875 48.328125 \nQ 17.828125 56 27.875 56 \nQ 33.9375 56 38.28125 53.609375 \nQ 42.625 51.21875 45.40625 46.390625 \nL 45.40625 54.6875 \nL 54.390625 54.6875 \nz\n\" id=\"DejaVuSans-103\"/>\n      <path d=\"M 9.421875 54.6875 \nL 18.40625 54.6875 \nL 18.40625 0 \nL 9.421875 0 \nz\nM 9.421875 75.984375 \nL 18.40625 75.984375 \nL 18.40625 64.59375 \nL 9.421875 64.59375 \nz\n\" id=\"DejaVuSans-105\"/>\n      <path d=\"M 9.421875 75.984375 \nL 18.40625 75.984375 \nL 18.40625 0 \nL 9.421875 0 \nz\n\" id=\"DejaVuSans-108\"/>\n      <path d=\"M 8.5 21.578125 \nL 8.5 54.6875 \nL 17.484375 54.6875 \nL 17.484375 21.921875 \nQ 17.484375 14.15625 20.5 10.265625 \nQ 23.53125 6.390625 29.59375 6.390625 \nQ 36.859375 6.390625 41.078125 11.03125 \nQ 45.3125 15.671875 45.3125 23.6875 \nL 45.3125 54.6875 \nL 54.296875 54.6875 \nL 54.296875 0 \nL 45.3125 0 \nL 45.3125 8.40625 \nQ 42.046875 3.421875 37.71875 1 \nQ 33.40625 -1.421875 27.6875 -1.421875 \nQ 18.265625 -1.421875 13.375 4.4375 \nQ 8.5 10.296875 8.5 21.578125 \nz\nM 31.109375 56 \nz\n\" id=\"DejaVuSans-117\"/>\n      <path d=\"M 32.171875 -5.078125 \nQ 28.375 -14.84375 24.75 -17.8125 \nQ 21.140625 -20.796875 15.09375 -20.796875 \nL 7.90625 -20.796875 \nL 7.90625 -13.28125 \nL 13.1875 -13.28125 \nQ 16.890625 -13.28125 18.9375 -11.515625 \nQ 21 -9.765625 23.484375 -3.21875 \nL 25.09375 0.875 \nL 2.984375 54.6875 \nL 12.5 54.6875 \nL 29.59375 11.921875 \nL 46.6875 54.6875 \nL 56.203125 54.6875 \nz\n\" id=\"DejaVuSans-121\"/>\n     </defs>\n     <g transform=\"translate(14.798438 202.907656)rotate(-90)scale(0.1 -0.1)\">\n      <use xlink:href=\"#DejaVuSans-115\"/>\n      <use x=\"52.099609\" xlink:href=\"#DejaVuSans-112\"/>\n      <use x=\"115.576172\" xlink:href=\"#DejaVuSans-97\"/>\n      <use x=\"176.855469\" xlink:href=\"#DejaVuSans-114\"/>\n      <use x=\"217.96875\" xlink:href=\"#DejaVuSans-115\"/>\n      <use x=\"270.068359\" xlink:href=\"#DejaVuSans-101\"/>\n      <use x=\"331.591797\" xlink:href=\"#DejaVuSans-95\"/>\n      <use x=\"381.591797\" xlink:href=\"#DejaVuSans-99\"/>\n      <use x=\"436.572266\" xlink:href=\"#DejaVuSans-97\"/>\n      <use x=\"497.851562\" xlink:href=\"#DejaVuSans-116\"/>\n      <use x=\"537.060547\" xlink:href=\"#DejaVuSans-101\"/>\n      <use x=\"598.583984\" xlink:href=\"#DejaVuSans-103\"/>\n      <use x=\"662.060547\" xlink:href=\"#DejaVuSans-111\"/>\n      <use x=\"723.242188\" xlink:href=\"#DejaVuSans-114\"/>\n      <use x=\"764.355469\" xlink:href=\"#DejaVuSans-105\"/>\n      <use x=\"792.138672\" xlink:href=\"#DejaVuSans-99\"/>\n      <use x=\"847.119141\" xlink:href=\"#DejaVuSans-97\"/>\n      <use x=\"908.398438\" xlink:href=\"#DejaVuSans-108\"/>\n      <use x=\"936.181641\" xlink:href=\"#DejaVuSans-95\"/>\n      <use x=\"986.181641\" xlink:href=\"#DejaVuSans-97\"/>\n      <use x=\"1047.460938\" xlink:href=\"#DejaVuSans-99\"/>\n      <use x=\"1102.441406\" xlink:href=\"#DejaVuSans-99\"/>\n      <use x=\"1157.421875\" xlink:href=\"#DejaVuSans-117\"/>\n      <use x=\"1220.800781\" xlink:href=\"#DejaVuSans-114\"/>\n      <use x=\"1261.914062\" xlink:href=\"#DejaVuSans-97\"/>\n      <use x=\"1323.193359\" xlink:href=\"#DejaVuSans-99\"/>\n      <use x=\"1378.173828\" xlink:href=\"#DejaVuSans-121\"/>\n     </g>\n    </g>\n   </g>\n   <g id=\"line2d_11\">\n    <path clip-path=\"url(#p6d04f18e32)\" d=\"M 59.277557 229.874489 \nL 93.095739 169.329045 \nL 126.91392 135.152413 \nL 160.732102 107.193968 \nL 194.550284 80.871899 \nL 228.368466 60.814747 \nL 262.186648 47.25632 \nL 296.00483 39.682297 \nL 329.823011 35.427758 \nL 363.641193 32.201761 \n\" style=\"fill:none;stroke:#0000ff;stroke-dasharray:5.55,2.4;stroke-dashoffset:0;stroke-width:1.5;\"/>\n    <defs>\n     <path d=\"M 0 3 \nC 0.795609 3 1.55874 2.683901 2.12132 2.12132 \nC 2.683901 1.55874 3 0.795609 3 0 \nC 3 -0.795609 2.683901 -1.55874 2.12132 -2.12132 \nC 1.55874 -2.683901 0.795609 -3 0 -3 \nC -0.795609 -3 -1.55874 -2.683901 -2.12132 -2.12132 \nC -2.683901 -1.55874 -3 -0.795609 -3 0 \nC -3 0.795609 -2.683901 1.55874 -2.12132 2.12132 \nC -1.55874 2.683901 -0.795609 3 0 3 \nz\n\" id=\"m7e57168341\" style=\"stroke:#0000ff;\"/>\n    </defs>\n    <g clip-path=\"url(#p6d04f18e32)\">\n     <use style=\"fill:#0000ff;stroke:#0000ff;\" x=\"59.277557\" xlink:href=\"#m7e57168341\" y=\"229.874489\"/>\n     <use style=\"fill:#0000ff;stroke:#0000ff;\" x=\"93.095739\" xlink:href=\"#m7e57168341\" y=\"169.329045\"/>\n     <use style=\"fill:#0000ff;stroke:#0000ff;\" x=\"126.91392\" xlink:href=\"#m7e57168341\" y=\"135.152413\"/>\n     <use style=\"fill:#0000ff;stroke:#0000ff;\" x=\"160.732102\" xlink:href=\"#m7e57168341\" y=\"107.193968\"/>\n     <use style=\"fill:#0000ff;stroke:#0000ff;\" x=\"194.550284\" xlink:href=\"#m7e57168341\" y=\"80.871899\"/>\n     <use style=\"fill:#0000ff;stroke:#0000ff;\" x=\"228.368466\" xlink:href=\"#m7e57168341\" y=\"60.814747\"/>\n     <use style=\"fill:#0000ff;stroke:#0000ff;\" x=\"262.186648\" xlink:href=\"#m7e57168341\" y=\"47.25632\"/>\n     <use style=\"fill:#0000ff;stroke:#0000ff;\" x=\"296.00483\" xlink:href=\"#m7e57168341\" y=\"39.682297\"/>\n     <use style=\"fill:#0000ff;stroke:#0000ff;\" x=\"329.823011\" xlink:href=\"#m7e57168341\" y=\"35.427758\"/>\n     <use style=\"fill:#0000ff;stroke:#0000ff;\" x=\"363.641193\" xlink:href=\"#m7e57168341\" y=\"32.201761\"/>\n    </g>\n   </g>\n   <g id=\"line2d_12\">\n    <path clip-path=\"url(#p6d04f18e32)\" d=\"M 59.277557 194.299606 \nL 93.095739 179.341889 \nL 126.91392 166.627832 \nL 160.732102 162.701439 \nL 194.550284 164.010245 \nL 228.368466 166.627832 \nL 262.186648 166.440881 \nL 296.00483 163.075391 \nL 329.823011 161.018707 \nL 363.641193 162.514463 \n\" style=\"fill:none;stroke:#ff0000;stroke-linecap:square;stroke-width:1.5;\"/>\n    <defs>\n     <path d=\"M 0 3 \nC 0.795609 3 1.55874 2.683901 2.12132 2.12132 \nC 2.683901 1.55874 3 0.795609 3 0 \nC 3 -0.795609 2.683901 -1.55874 2.12132 -2.12132 \nC 1.55874 -2.683901 0.795609 -3 0 -3 \nC -0.795609 -3 -1.55874 -2.683901 -2.12132 -2.12132 \nC -2.683901 -1.55874 -3 -0.795609 -3 0 \nC -3 0.795609 -2.683901 1.55874 -2.12132 2.12132 \nC -1.55874 2.683901 -0.795609 3 0 3 \nz\n\" id=\"m92551a0eb8\" style=\"stroke:#ff0000;\"/>\n    </defs>\n    <g clip-path=\"url(#p6d04f18e32)\">\n     <use style=\"fill:#ff0000;stroke:#ff0000;\" x=\"59.277557\" xlink:href=\"#m92551a0eb8\" y=\"194.299606\"/>\n     <use style=\"fill:#ff0000;stroke:#ff0000;\" x=\"93.095739\" xlink:href=\"#m92551a0eb8\" y=\"179.341889\"/>\n     <use style=\"fill:#ff0000;stroke:#ff0000;\" x=\"126.91392\" xlink:href=\"#m92551a0eb8\" y=\"166.627832\"/>\n     <use style=\"fill:#ff0000;stroke:#ff0000;\" x=\"160.732102\" xlink:href=\"#m92551a0eb8\" y=\"162.701439\"/>\n     <use style=\"fill:#ff0000;stroke:#ff0000;\" x=\"194.550284\" xlink:href=\"#m92551a0eb8\" y=\"164.010245\"/>\n     <use style=\"fill:#ff0000;stroke:#ff0000;\" x=\"228.368466\" xlink:href=\"#m92551a0eb8\" y=\"166.627832\"/>\n     <use style=\"fill:#ff0000;stroke:#ff0000;\" x=\"262.186648\" xlink:href=\"#m92551a0eb8\" y=\"166.440881\"/>\n     <use style=\"fill:#ff0000;stroke:#ff0000;\" x=\"296.00483\" xlink:href=\"#m92551a0eb8\" y=\"163.075391\"/>\n     <use style=\"fill:#ff0000;stroke:#ff0000;\" x=\"329.823011\" xlink:href=\"#m92551a0eb8\" y=\"161.018707\"/>\n     <use style=\"fill:#ff0000;stroke:#ff0000;\" x=\"363.641193\" xlink:href=\"#m92551a0eb8\" y=\"162.514463\"/>\n    </g>\n   </g>\n   <g id=\"patch_3\">\n    <path d=\"M 44.059375 239.758125 \nL 44.059375 22.318125 \n\" style=\"fill:none;stroke:#000000;stroke-linecap:square;stroke-linejoin:miter;stroke-width:0.8;\"/>\n   </g>\n   <g id=\"patch_4\">\n    <path d=\"M 378.859375 239.758125 \nL 378.859375 22.318125 \n\" style=\"fill:none;stroke:#000000;stroke-linecap:square;stroke-linejoin:miter;stroke-width:0.8;\"/>\n   </g>\n   <g id=\"patch_5\">\n    <path d=\"M 44.059375 239.758125 \nL 378.859375 239.758125 \n\" style=\"fill:none;stroke:#000000;stroke-linecap:square;stroke-linejoin:miter;stroke-width:0.8;\"/>\n   </g>\n   <g id=\"patch_6\">\n    <path d=\"M 44.059375 22.318125 \nL 378.859375 22.318125 \n\" style=\"fill:none;stroke:#000000;stroke-linecap:square;stroke-linejoin:miter;stroke-width:0.8;\"/>\n   </g>\n   <g id=\"text_13\">\n    <!-- Training and validation sparse_categorical_accuracy -->\n    <defs>\n     <path d=\"M -0.296875 72.90625 \nL 61.375 72.90625 \nL 61.375 64.59375 \nL 35.5 64.59375 \nL 35.5 0 \nL 25.59375 0 \nL 25.59375 64.59375 \nL -0.296875 64.59375 \nz\n\" id=\"DejaVuSans-84\"/>\n     <path d=\"M 54.890625 33.015625 \nL 54.890625 0 \nL 45.90625 0 \nL 45.90625 32.71875 \nQ 45.90625 40.484375 42.875 44.328125 \nQ 39.84375 48.1875 33.796875 48.1875 \nQ 26.515625 48.1875 22.3125 43.546875 \nQ 18.109375 38.921875 18.109375 30.90625 \nL 18.109375 0 \nL 9.078125 0 \nL 9.078125 54.6875 \nL 18.109375 54.6875 \nL 18.109375 46.1875 \nQ 21.34375 51.125 25.703125 53.5625 \nQ 30.078125 56 35.796875 56 \nQ 45.21875 56 50.046875 50.171875 \nQ 54.890625 44.34375 54.890625 33.015625 \nz\n\" id=\"DejaVuSans-110\"/>\n     <path id=\"DejaVuSans-32\"/>\n     <path d=\"M 45.40625 46.390625 \nL 45.40625 75.984375 \nL 54.390625 75.984375 \nL 54.390625 0 \nL 45.40625 0 \nL 45.40625 8.203125 \nQ 42.578125 3.328125 38.25 0.953125 \nQ 33.9375 -1.421875 27.875 -1.421875 \nQ 17.96875 -1.421875 11.734375 6.484375 \nQ 5.515625 14.40625 5.515625 27.296875 \nQ 5.515625 40.1875 11.734375 48.09375 \nQ 17.96875 56 27.875 56 \nQ 33.9375 56 38.25 53.625 \nQ 42.578125 51.265625 45.40625 46.390625 \nz\nM 14.796875 27.296875 \nQ 14.796875 17.390625 18.875 11.75 \nQ 22.953125 6.109375 30.078125 6.109375 \nQ 37.203125 6.109375 41.296875 11.75 \nQ 45.40625 17.390625 45.40625 27.296875 \nQ 45.40625 37.203125 41.296875 42.84375 \nQ 37.203125 48.484375 30.078125 48.484375 \nQ 22.953125 48.484375 18.875 42.84375 \nQ 14.796875 37.203125 14.796875 27.296875 \nz\n\" id=\"DejaVuSans-100\"/>\n     <path d=\"M 2.984375 54.6875 \nL 12.5 54.6875 \nL 29.59375 8.796875 \nL 46.6875 54.6875 \nL 56.203125 54.6875 \nL 35.6875 0 \nL 23.484375 0 \nz\n\" id=\"DejaVuSans-118\"/>\n    </defs>\n    <g transform=\"translate(54.995313 16.318125)scale(0.12 -0.12)\">\n     <use xlink:href=\"#DejaVuSans-84\"/>\n     <use x=\"46.333984\" xlink:href=\"#DejaVuSans-114\"/>\n     <use x=\"87.447266\" xlink:href=\"#DejaVuSans-97\"/>\n     <use x=\"148.726562\" xlink:href=\"#DejaVuSans-105\"/>\n     <use x=\"176.509766\" xlink:href=\"#DejaVuSans-110\"/>\n     <use x=\"239.888672\" xlink:href=\"#DejaVuSans-105\"/>\n     <use x=\"267.671875\" xlink:href=\"#DejaVuSans-110\"/>\n     <use x=\"331.050781\" xlink:href=\"#DejaVuSans-103\"/>\n     <use x=\"394.527344\" xlink:href=\"#DejaVuSans-32\"/>\n     <use x=\"426.314453\" xlink:href=\"#DejaVuSans-97\"/>\n     <use x=\"487.59375\" xlink:href=\"#DejaVuSans-110\"/>\n     <use x=\"550.972656\" xlink:href=\"#DejaVuSans-100\"/>\n     <use x=\"614.449219\" xlink:href=\"#DejaVuSans-32\"/>\n     <use x=\"646.236328\" xlink:href=\"#DejaVuSans-118\"/>\n     <use x=\"705.416016\" xlink:href=\"#DejaVuSans-97\"/>\n     <use x=\"766.695312\" xlink:href=\"#DejaVuSans-108\"/>\n     <use x=\"794.478516\" xlink:href=\"#DejaVuSans-105\"/>\n     <use x=\"822.261719\" xlink:href=\"#DejaVuSans-100\"/>\n     <use x=\"885.738281\" xlink:href=\"#DejaVuSans-97\"/>\n     <use x=\"947.017578\" xlink:href=\"#DejaVuSans-116\"/>\n     <use x=\"986.226562\" xlink:href=\"#DejaVuSans-105\"/>\n     <use x=\"1014.009766\" xlink:href=\"#DejaVuSans-111\"/>\n     <use x=\"1075.191406\" xlink:href=\"#DejaVuSans-110\"/>\n     <use x=\"1138.570312\" xlink:href=\"#DejaVuSans-32\"/>\n     <use x=\"1170.357422\" xlink:href=\"#DejaVuSans-115\"/>\n     <use x=\"1222.457031\" xlink:href=\"#DejaVuSans-112\"/>\n     <use x=\"1285.933594\" xlink:href=\"#DejaVuSans-97\"/>\n     <use x=\"1347.212891\" xlink:href=\"#DejaVuSans-114\"/>\n     <use x=\"1388.326172\" xlink:href=\"#DejaVuSans-115\"/>\n     <use x=\"1440.425781\" xlink:href=\"#DejaVuSans-101\"/>\n     <use x=\"1501.949219\" xlink:href=\"#DejaVuSans-95\"/>\n     <use x=\"1551.949219\" xlink:href=\"#DejaVuSans-99\"/>\n     <use x=\"1606.929688\" xlink:href=\"#DejaVuSans-97\"/>\n     <use x=\"1668.208984\" xlink:href=\"#DejaVuSans-116\"/>\n     <use x=\"1707.417969\" xlink:href=\"#DejaVuSans-101\"/>\n     <use x=\"1768.941406\" xlink:href=\"#DejaVuSans-103\"/>\n     <use x=\"1832.417969\" xlink:href=\"#DejaVuSans-111\"/>\n     <use x=\"1893.599609\" xlink:href=\"#DejaVuSans-114\"/>\n     <use x=\"1934.712891\" xlink:href=\"#DejaVuSans-105\"/>\n     <use x=\"1962.496094\" xlink:href=\"#DejaVuSans-99\"/>\n     <use x=\"2017.476562\" xlink:href=\"#DejaVuSans-97\"/>\n     <use x=\"2078.755859\" xlink:href=\"#DejaVuSans-108\"/>\n     <use x=\"2106.539062\" xlink:href=\"#DejaVuSans-95\"/>\n     <use x=\"2156.539062\" xlink:href=\"#DejaVuSans-97\"/>\n     <use x=\"2217.818359\" xlink:href=\"#DejaVuSans-99\"/>\n     <use x=\"2272.798828\" xlink:href=\"#DejaVuSans-99\"/>\n     <use x=\"2327.779297\" xlink:href=\"#DejaVuSans-117\"/>\n     <use x=\"2391.158203\" xlink:href=\"#DejaVuSans-114\"/>\n     <use x=\"2432.271484\" xlink:href=\"#DejaVuSans-97\"/>\n     <use x=\"2493.550781\" xlink:href=\"#DejaVuSans-99\"/>\n     <use x=\"2548.53125\" xlink:href=\"#DejaVuSans-121\"/>\n    </g>\n   </g>\n   <g id=\"legend_1\">\n    <g id=\"patch_7\">\n     <path d=\"M 167.845313 234.758125 \nL 371.859375 234.758125 \nQ 373.859375 234.758125 373.859375 232.758125 \nL 373.859375 203.845625 \nQ 373.859375 201.845625 371.859375 201.845625 \nL 167.845313 201.845625 \nQ 165.845313 201.845625 165.845313 203.845625 \nL 165.845313 232.758125 \nQ 165.845313 234.758125 167.845313 234.758125 \nz\n\" style=\"fill:#ffffff;opacity:0.8;stroke:#cccccc;stroke-linejoin:miter;\"/>\n    </g>\n    <g id=\"line2d_13\">\n     <path d=\"M 169.845313 209.944062 \nL 189.845313 209.944062 \n\" style=\"fill:none;stroke:#0000ff;stroke-dasharray:5.55,2.4;stroke-dashoffset:0;stroke-width:1.5;\"/>\n    </g>\n    <g id=\"line2d_14\">\n     <g>\n      <use style=\"fill:#0000ff;stroke:#0000ff;\" x=\"179.845313\" xlink:href=\"#m7e57168341\" y=\"209.944062\"/>\n     </g>\n    </g>\n    <g id=\"text_14\">\n     <!-- train_sparse_categorical_accuracy -->\n     <g transform=\"translate(197.845313 213.444062)scale(0.1 -0.1)\">\n      <use xlink:href=\"#DejaVuSans-116\"/>\n      <use x=\"39.208984\" xlink:href=\"#DejaVuSans-114\"/>\n      <use x=\"80.322266\" xlink:href=\"#DejaVuSans-97\"/>\n      <use x=\"141.601562\" xlink:href=\"#DejaVuSans-105\"/>\n      <use x=\"169.384766\" xlink:href=\"#DejaVuSans-110\"/>\n      <use x=\"232.763672\" xlink:href=\"#DejaVuSans-95\"/>\n      <use x=\"282.763672\" xlink:href=\"#DejaVuSans-115\"/>\n      <use x=\"334.863281\" xlink:href=\"#DejaVuSans-112\"/>\n      <use x=\"398.339844\" xlink:href=\"#DejaVuSans-97\"/>\n      <use x=\"459.619141\" xlink:href=\"#DejaVuSans-114\"/>\n      <use x=\"500.732422\" xlink:href=\"#DejaVuSans-115\"/>\n      <use x=\"552.832031\" xlink:href=\"#DejaVuSans-101\"/>\n      <use x=\"614.355469\" xlink:href=\"#DejaVuSans-95\"/>\n      <use x=\"664.355469\" xlink:href=\"#DejaVuSans-99\"/>\n      <use x=\"719.335938\" xlink:href=\"#DejaVuSans-97\"/>\n      <use x=\"780.615234\" xlink:href=\"#DejaVuSans-116\"/>\n      <use x=\"819.824219\" xlink:href=\"#DejaVuSans-101\"/>\n      <use x=\"881.347656\" xlink:href=\"#DejaVuSans-103\"/>\n      <use x=\"944.824219\" xlink:href=\"#DejaVuSans-111\"/>\n      <use x=\"1006.005859\" xlink:href=\"#DejaVuSans-114\"/>\n      <use x=\"1047.119141\" xlink:href=\"#DejaVuSans-105\"/>\n      <use x=\"1074.902344\" xlink:href=\"#DejaVuSans-99\"/>\n      <use x=\"1129.882812\" xlink:href=\"#DejaVuSans-97\"/>\n      <use x=\"1191.162109\" xlink:href=\"#DejaVuSans-108\"/>\n      <use x=\"1218.945312\" xlink:href=\"#DejaVuSans-95\"/>\n      <use x=\"1268.945312\" xlink:href=\"#DejaVuSans-97\"/>\n      <use x=\"1330.224609\" xlink:href=\"#DejaVuSans-99\"/>\n      <use x=\"1385.205078\" xlink:href=\"#DejaVuSans-99\"/>\n      <use x=\"1440.185547\" xlink:href=\"#DejaVuSans-117\"/>\n      <use x=\"1503.564453\" xlink:href=\"#DejaVuSans-114\"/>\n      <use x=\"1544.677734\" xlink:href=\"#DejaVuSans-97\"/>\n      <use x=\"1605.957031\" xlink:href=\"#DejaVuSans-99\"/>\n      <use x=\"1660.9375\" xlink:href=\"#DejaVuSans-121\"/>\n     </g>\n    </g>\n    <g id=\"line2d_15\">\n     <path d=\"M 169.845313 224.900312 \nL 189.845313 224.900312 \n\" style=\"fill:none;stroke:#ff0000;stroke-linecap:square;stroke-width:1.5;\"/>\n    </g>\n    <g id=\"line2d_16\">\n     <g>\n      <use style=\"fill:#ff0000;stroke:#ff0000;\" x=\"179.845313\" xlink:href=\"#m92551a0eb8\" y=\"224.900312\"/>\n     </g>\n    </g>\n    <g id=\"text_15\">\n     <!-- val_sparse_categorical_accuracy -->\n     <g transform=\"translate(197.845313 228.400312)scale(0.1 -0.1)\">\n      <use xlink:href=\"#DejaVuSans-118\"/>\n      <use x=\"59.179688\" xlink:href=\"#DejaVuSans-97\"/>\n      <use x=\"120.458984\" xlink:href=\"#DejaVuSans-108\"/>\n      <use x=\"148.242188\" xlink:href=\"#DejaVuSans-95\"/>\n      <use x=\"198.242188\" xlink:href=\"#DejaVuSans-115\"/>\n      <use x=\"250.341797\" xlink:href=\"#DejaVuSans-112\"/>\n      <use x=\"313.818359\" xlink:href=\"#DejaVuSans-97\"/>\n      <use x=\"375.097656\" xlink:href=\"#DejaVuSans-114\"/>\n      <use x=\"416.210938\" xlink:href=\"#DejaVuSans-115\"/>\n      <use x=\"468.310547\" xlink:href=\"#DejaVuSans-101\"/>\n      <use x=\"529.833984\" xlink:href=\"#DejaVuSans-95\"/>\n      <use x=\"579.833984\" xlink:href=\"#DejaVuSans-99\"/>\n      <use x=\"634.814453\" xlink:href=\"#DejaVuSans-97\"/>\n      <use x=\"696.09375\" xlink:href=\"#DejaVuSans-116\"/>\n      <use x=\"735.302734\" xlink:href=\"#DejaVuSans-101\"/>\n      <use x=\"796.826172\" xlink:href=\"#DejaVuSans-103\"/>\n      <use x=\"860.302734\" xlink:href=\"#DejaVuSans-111\"/>\n      <use x=\"921.484375\" xlink:href=\"#DejaVuSans-114\"/>\n      <use x=\"962.597656\" xlink:href=\"#DejaVuSans-105\"/>\n      <use x=\"990.380859\" xlink:href=\"#DejaVuSans-99\"/>\n      <use x=\"1045.361328\" xlink:href=\"#DejaVuSans-97\"/>\n      <use x=\"1106.640625\" xlink:href=\"#DejaVuSans-108\"/>\n      <use x=\"1134.423828\" xlink:href=\"#DejaVuSans-95\"/>\n      <use x=\"1184.423828\" xlink:href=\"#DejaVuSans-97\"/>\n      <use x=\"1245.703125\" xlink:href=\"#DejaVuSans-99\"/>\n      <use x=\"1300.683594\" xlink:href=\"#DejaVuSans-99\"/>\n      <use x=\"1355.664062\" xlink:href=\"#DejaVuSans-117\"/>\n      <use x=\"1419.042969\" xlink:href=\"#DejaVuSans-114\"/>\n      <use x=\"1460.15625\" xlink:href=\"#DejaVuSans-97\"/>\n      <use x=\"1521.435547\" xlink:href=\"#DejaVuSans-99\"/>\n      <use x=\"1576.416016\" xlink:href=\"#DejaVuSans-121\"/>\n     </g>\n    </g>\n   </g>\n  </g>\n </g>\n <defs>\n  <clipPath id=\"p6d04f18e32\">\n   <rect height=\"217.44\" width=\"334.8\" x=\"44.059375\" y=\"22.318125\"/>\n  </clipPath>\n </defs>\n</svg>\n"
          },
          "metadata": {
            "tags": [],
            "needs_background": "light"
          }
        }
      ]
    },
    {
      "cell_type": "code",
      "metadata": {
        "colab": {
          "base_uri": "https://localhost:8080/",
          "height": 390
        },
        "id": "c5-TT-Izh6c0",
        "outputId": "8c6b9532-2eca-4f1a-9654-31b20f492361"
      },
      "source": [
        "plot_metric(history,\"sparse_top_k_categorical_accuracy\")"
      ],
      "execution_count": 30,
      "outputs": [
        {
          "output_type": "display_data",
          "data": {
            "text/plain": [
              "<Figure size 432x288 with 1 Axes>"
            ],
            "image/svg+xml": "<?xml version=\"1.0\" encoding=\"utf-8\" standalone=\"no\"?>\n<!DOCTYPE svg PUBLIC \"-//W3C//DTD SVG 1.1//EN\"\n  \"http://www.w3.org/Graphics/SVG/1.1/DTD/svg11.dtd\">\n<!-- Created with matplotlib (https://matplotlib.org/) -->\n<svg height=\"277.314375pt\" version=\"1.1\" viewBox=\"0 0 400.792813 277.314375\" width=\"400.792813pt\" xmlns=\"http://www.w3.org/2000/svg\" xmlns:xlink=\"http://www.w3.org/1999/xlink\">\n <defs>\n  <style type=\"text/css\">\n*{stroke-linecap:butt;stroke-linejoin:round;}\n  </style>\n </defs>\n <g id=\"figure_1\">\n  <g id=\"patch_1\">\n   <path d=\"M 0 277.314375 \nL 400.792813 277.314375 \nL 400.792813 0 \nL 0 0 \nz\n\" style=\"fill:none;\"/>\n  </g>\n  <g id=\"axes_1\">\n   <g id=\"patch_2\">\n    <path d=\"M 50.421875 239.758125 \nL 385.221875 239.758125 \nL 385.221875 22.318125 \nL 50.421875 22.318125 \nz\n\" style=\"fill:#ffffff;\"/>\n   </g>\n   <g id=\"matplotlib.axis_1\">\n    <g id=\"xtick_1\">\n     <g id=\"line2d_1\">\n      <defs>\n       <path d=\"M 0 0 \nL 0 3.5 \n\" id=\"m9649890672\" style=\"stroke:#000000;stroke-width:0.8;\"/>\n      </defs>\n      <g>\n       <use style=\"stroke:#000000;stroke-width:0.8;\" x=\"99.458239\" xlink:href=\"#m9649890672\" y=\"239.758125\"/>\n      </g>\n     </g>\n     <g id=\"text_1\">\n      <!-- 2 -->\n      <defs>\n       <path d=\"M 19.1875 8.296875 \nL 53.609375 8.296875 \nL 53.609375 0 \nL 7.328125 0 \nL 7.328125 8.296875 \nQ 12.9375 14.109375 22.625 23.890625 \nQ 32.328125 33.6875 34.8125 36.53125 \nQ 39.546875 41.84375 41.421875 45.53125 \nQ 43.3125 49.21875 43.3125 52.78125 \nQ 43.3125 58.59375 39.234375 62.25 \nQ 35.15625 65.921875 28.609375 65.921875 \nQ 23.96875 65.921875 18.8125 64.3125 \nQ 13.671875 62.703125 7.8125 59.421875 \nL 7.8125 69.390625 \nQ 13.765625 71.78125 18.9375 73 \nQ 24.125 74.21875 28.421875 74.21875 \nQ 39.75 74.21875 46.484375 68.546875 \nQ 53.21875 62.890625 53.21875 53.421875 \nQ 53.21875 48.921875 51.53125 44.890625 \nQ 49.859375 40.875 45.40625 35.40625 \nQ 44.1875 33.984375 37.640625 27.21875 \nQ 31.109375 20.453125 19.1875 8.296875 \nz\n\" id=\"DejaVuSans-50\"/>\n      </defs>\n      <g transform=\"translate(96.276989 254.356562)scale(0.1 -0.1)\">\n       <use xlink:href=\"#DejaVuSans-50\"/>\n      </g>\n     </g>\n    </g>\n    <g id=\"xtick_2\">\n     <g id=\"line2d_2\">\n      <g>\n       <use style=\"stroke:#000000;stroke-width:0.8;\" x=\"167.094602\" xlink:href=\"#m9649890672\" y=\"239.758125\"/>\n      </g>\n     </g>\n     <g id=\"text_2\">\n      <!-- 4 -->\n      <defs>\n       <path d=\"M 37.796875 64.3125 \nL 12.890625 25.390625 \nL 37.796875 25.390625 \nz\nM 35.203125 72.90625 \nL 47.609375 72.90625 \nL 47.609375 25.390625 \nL 58.015625 25.390625 \nL 58.015625 17.1875 \nL 47.609375 17.1875 \nL 47.609375 0 \nL 37.796875 0 \nL 37.796875 17.1875 \nL 4.890625 17.1875 \nL 4.890625 26.703125 \nz\n\" id=\"DejaVuSans-52\"/>\n      </defs>\n      <g transform=\"translate(163.913352 254.356562)scale(0.1 -0.1)\">\n       <use xlink:href=\"#DejaVuSans-52\"/>\n      </g>\n     </g>\n    </g>\n    <g id=\"xtick_3\">\n     <g id=\"line2d_3\">\n      <g>\n       <use style=\"stroke:#000000;stroke-width:0.8;\" x=\"234.730966\" xlink:href=\"#m9649890672\" y=\"239.758125\"/>\n      </g>\n     </g>\n     <g id=\"text_3\">\n      <!-- 6 -->\n      <defs>\n       <path d=\"M 33.015625 40.375 \nQ 26.375 40.375 22.484375 35.828125 \nQ 18.609375 31.296875 18.609375 23.390625 \nQ 18.609375 15.53125 22.484375 10.953125 \nQ 26.375 6.390625 33.015625 6.390625 \nQ 39.65625 6.390625 43.53125 10.953125 \nQ 47.40625 15.53125 47.40625 23.390625 \nQ 47.40625 31.296875 43.53125 35.828125 \nQ 39.65625 40.375 33.015625 40.375 \nz\nM 52.59375 71.296875 \nL 52.59375 62.3125 \nQ 48.875 64.0625 45.09375 64.984375 \nQ 41.3125 65.921875 37.59375 65.921875 \nQ 27.828125 65.921875 22.671875 59.328125 \nQ 17.53125 52.734375 16.796875 39.40625 \nQ 19.671875 43.65625 24.015625 45.921875 \nQ 28.375 48.1875 33.59375 48.1875 \nQ 44.578125 48.1875 50.953125 41.515625 \nQ 57.328125 34.859375 57.328125 23.390625 \nQ 57.328125 12.15625 50.6875 5.359375 \nQ 44.046875 -1.421875 33.015625 -1.421875 \nQ 20.359375 -1.421875 13.671875 8.265625 \nQ 6.984375 17.96875 6.984375 36.375 \nQ 6.984375 53.65625 15.1875 63.9375 \nQ 23.390625 74.21875 37.203125 74.21875 \nQ 40.921875 74.21875 44.703125 73.484375 \nQ 48.484375 72.75 52.59375 71.296875 \nz\n\" id=\"DejaVuSans-54\"/>\n      </defs>\n      <g transform=\"translate(231.549716 254.356562)scale(0.1 -0.1)\">\n       <use xlink:href=\"#DejaVuSans-54\"/>\n      </g>\n     </g>\n    </g>\n    <g id=\"xtick_4\">\n     <g id=\"line2d_4\">\n      <g>\n       <use style=\"stroke:#000000;stroke-width:0.8;\" x=\"302.36733\" xlink:href=\"#m9649890672\" y=\"239.758125\"/>\n      </g>\n     </g>\n     <g id=\"text_4\">\n      <!-- 8 -->\n      <defs>\n       <path d=\"M 31.78125 34.625 \nQ 24.75 34.625 20.71875 30.859375 \nQ 16.703125 27.09375 16.703125 20.515625 \nQ 16.703125 13.921875 20.71875 10.15625 \nQ 24.75 6.390625 31.78125 6.390625 \nQ 38.8125 6.390625 42.859375 10.171875 \nQ 46.921875 13.96875 46.921875 20.515625 \nQ 46.921875 27.09375 42.890625 30.859375 \nQ 38.875 34.625 31.78125 34.625 \nz\nM 21.921875 38.8125 \nQ 15.578125 40.375 12.03125 44.71875 \nQ 8.5 49.078125 8.5 55.328125 \nQ 8.5 64.0625 14.71875 69.140625 \nQ 20.953125 74.21875 31.78125 74.21875 \nQ 42.671875 74.21875 48.875 69.140625 \nQ 55.078125 64.0625 55.078125 55.328125 \nQ 55.078125 49.078125 51.53125 44.71875 \nQ 48 40.375 41.703125 38.8125 \nQ 48.828125 37.15625 52.796875 32.3125 \nQ 56.78125 27.484375 56.78125 20.515625 \nQ 56.78125 9.90625 50.3125 4.234375 \nQ 43.84375 -1.421875 31.78125 -1.421875 \nQ 19.734375 -1.421875 13.25 4.234375 \nQ 6.78125 9.90625 6.78125 20.515625 \nQ 6.78125 27.484375 10.78125 32.3125 \nQ 14.796875 37.15625 21.921875 38.8125 \nz\nM 18.3125 54.390625 \nQ 18.3125 48.734375 21.84375 45.5625 \nQ 25.390625 42.390625 31.78125 42.390625 \nQ 38.140625 42.390625 41.71875 45.5625 \nQ 45.3125 48.734375 45.3125 54.390625 \nQ 45.3125 60.0625 41.71875 63.234375 \nQ 38.140625 66.40625 31.78125 66.40625 \nQ 25.390625 66.40625 21.84375 63.234375 \nQ 18.3125 60.0625 18.3125 54.390625 \nz\n\" id=\"DejaVuSans-56\"/>\n      </defs>\n      <g transform=\"translate(299.18608 254.356562)scale(0.1 -0.1)\">\n       <use xlink:href=\"#DejaVuSans-56\"/>\n      </g>\n     </g>\n    </g>\n    <g id=\"xtick_5\">\n     <g id=\"line2d_5\">\n      <g>\n       <use style=\"stroke:#000000;stroke-width:0.8;\" x=\"370.003693\" xlink:href=\"#m9649890672\" y=\"239.758125\"/>\n      </g>\n     </g>\n     <g id=\"text_5\">\n      <!-- 10 -->\n      <defs>\n       <path d=\"M 12.40625 8.296875 \nL 28.515625 8.296875 \nL 28.515625 63.921875 \nL 10.984375 60.40625 \nL 10.984375 69.390625 \nL 28.421875 72.90625 \nL 38.28125 72.90625 \nL 38.28125 8.296875 \nL 54.390625 8.296875 \nL 54.390625 0 \nL 12.40625 0 \nz\n\" id=\"DejaVuSans-49\"/>\n       <path d=\"M 31.78125 66.40625 \nQ 24.171875 66.40625 20.328125 58.90625 \nQ 16.5 51.421875 16.5 36.375 \nQ 16.5 21.390625 20.328125 13.890625 \nQ 24.171875 6.390625 31.78125 6.390625 \nQ 39.453125 6.390625 43.28125 13.890625 \nQ 47.125 21.390625 47.125 36.375 \nQ 47.125 51.421875 43.28125 58.90625 \nQ 39.453125 66.40625 31.78125 66.40625 \nz\nM 31.78125 74.21875 \nQ 44.046875 74.21875 50.515625 64.515625 \nQ 56.984375 54.828125 56.984375 36.375 \nQ 56.984375 17.96875 50.515625 8.265625 \nQ 44.046875 -1.421875 31.78125 -1.421875 \nQ 19.53125 -1.421875 13.0625 8.265625 \nQ 6.59375 17.96875 6.59375 36.375 \nQ 6.59375 54.828125 13.0625 64.515625 \nQ 19.53125 74.21875 31.78125 74.21875 \nz\n\" id=\"DejaVuSans-48\"/>\n      </defs>\n      <g transform=\"translate(363.641193 254.356562)scale(0.1 -0.1)\">\n       <use xlink:href=\"#DejaVuSans-49\"/>\n       <use x=\"63.623047\" xlink:href=\"#DejaVuSans-48\"/>\n      </g>\n     </g>\n    </g>\n    <g id=\"text_6\">\n     <!-- Epochs -->\n     <defs>\n      <path d=\"M 9.8125 72.90625 \nL 55.90625 72.90625 \nL 55.90625 64.59375 \nL 19.671875 64.59375 \nL 19.671875 43.015625 \nL 54.390625 43.015625 \nL 54.390625 34.71875 \nL 19.671875 34.71875 \nL 19.671875 8.296875 \nL 56.78125 8.296875 \nL 56.78125 0 \nL 9.8125 0 \nz\n\" id=\"DejaVuSans-69\"/>\n      <path d=\"M 18.109375 8.203125 \nL 18.109375 -20.796875 \nL 9.078125 -20.796875 \nL 9.078125 54.6875 \nL 18.109375 54.6875 \nL 18.109375 46.390625 \nQ 20.953125 51.265625 25.265625 53.625 \nQ 29.59375 56 35.59375 56 \nQ 45.5625 56 51.78125 48.09375 \nQ 58.015625 40.1875 58.015625 27.296875 \nQ 58.015625 14.40625 51.78125 6.484375 \nQ 45.5625 -1.421875 35.59375 -1.421875 \nQ 29.59375 -1.421875 25.265625 0.953125 \nQ 20.953125 3.328125 18.109375 8.203125 \nz\nM 48.6875 27.296875 \nQ 48.6875 37.203125 44.609375 42.84375 \nQ 40.53125 48.484375 33.40625 48.484375 \nQ 26.265625 48.484375 22.1875 42.84375 \nQ 18.109375 37.203125 18.109375 27.296875 \nQ 18.109375 17.390625 22.1875 11.75 \nQ 26.265625 6.109375 33.40625 6.109375 \nQ 40.53125 6.109375 44.609375 11.75 \nQ 48.6875 17.390625 48.6875 27.296875 \nz\n\" id=\"DejaVuSans-112\"/>\n      <path d=\"M 30.609375 48.390625 \nQ 23.390625 48.390625 19.1875 42.75 \nQ 14.984375 37.109375 14.984375 27.296875 \nQ 14.984375 17.484375 19.15625 11.84375 \nQ 23.34375 6.203125 30.609375 6.203125 \nQ 37.796875 6.203125 41.984375 11.859375 \nQ 46.1875 17.53125 46.1875 27.296875 \nQ 46.1875 37.015625 41.984375 42.703125 \nQ 37.796875 48.390625 30.609375 48.390625 \nz\nM 30.609375 56 \nQ 42.328125 56 49.015625 48.375 \nQ 55.71875 40.765625 55.71875 27.296875 \nQ 55.71875 13.875 49.015625 6.21875 \nQ 42.328125 -1.421875 30.609375 -1.421875 \nQ 18.84375 -1.421875 12.171875 6.21875 \nQ 5.515625 13.875 5.515625 27.296875 \nQ 5.515625 40.765625 12.171875 48.375 \nQ 18.84375 56 30.609375 56 \nz\n\" id=\"DejaVuSans-111\"/>\n      <path d=\"M 48.78125 52.59375 \nL 48.78125 44.1875 \nQ 44.96875 46.296875 41.140625 47.34375 \nQ 37.3125 48.390625 33.40625 48.390625 \nQ 24.65625 48.390625 19.8125 42.84375 \nQ 14.984375 37.3125 14.984375 27.296875 \nQ 14.984375 17.28125 19.8125 11.734375 \nQ 24.65625 6.203125 33.40625 6.203125 \nQ 37.3125 6.203125 41.140625 7.25 \nQ 44.96875 8.296875 48.78125 10.40625 \nL 48.78125 2.09375 \nQ 45.015625 0.34375 40.984375 -0.53125 \nQ 36.96875 -1.421875 32.421875 -1.421875 \nQ 20.0625 -1.421875 12.78125 6.34375 \nQ 5.515625 14.109375 5.515625 27.296875 \nQ 5.515625 40.671875 12.859375 48.328125 \nQ 20.21875 56 33.015625 56 \nQ 37.15625 56 41.109375 55.140625 \nQ 45.0625 54.296875 48.78125 52.59375 \nz\n\" id=\"DejaVuSans-99\"/>\n      <path d=\"M 54.890625 33.015625 \nL 54.890625 0 \nL 45.90625 0 \nL 45.90625 32.71875 \nQ 45.90625 40.484375 42.875 44.328125 \nQ 39.84375 48.1875 33.796875 48.1875 \nQ 26.515625 48.1875 22.3125 43.546875 \nQ 18.109375 38.921875 18.109375 30.90625 \nL 18.109375 0 \nL 9.078125 0 \nL 9.078125 75.984375 \nL 18.109375 75.984375 \nL 18.109375 46.1875 \nQ 21.34375 51.125 25.703125 53.5625 \nQ 30.078125 56 35.796875 56 \nQ 45.21875 56 50.046875 50.171875 \nQ 54.890625 44.34375 54.890625 33.015625 \nz\n\" id=\"DejaVuSans-104\"/>\n      <path d=\"M 44.28125 53.078125 \nL 44.28125 44.578125 \nQ 40.484375 46.53125 36.375 47.5 \nQ 32.28125 48.484375 27.875 48.484375 \nQ 21.1875 48.484375 17.84375 46.4375 \nQ 14.5 44.390625 14.5 40.28125 \nQ 14.5 37.15625 16.890625 35.375 \nQ 19.28125 33.59375 26.515625 31.984375 \nL 29.59375 31.296875 \nQ 39.15625 29.25 43.1875 25.515625 \nQ 47.21875 21.78125 47.21875 15.09375 \nQ 47.21875 7.46875 41.1875 3.015625 \nQ 35.15625 -1.421875 24.609375 -1.421875 \nQ 20.21875 -1.421875 15.453125 -0.5625 \nQ 10.6875 0.296875 5.421875 2 \nL 5.421875 11.28125 \nQ 10.40625 8.6875 15.234375 7.390625 \nQ 20.0625 6.109375 24.8125 6.109375 \nQ 31.15625 6.109375 34.5625 8.28125 \nQ 37.984375 10.453125 37.984375 14.40625 \nQ 37.984375 18.0625 35.515625 20.015625 \nQ 33.0625 21.96875 24.703125 23.78125 \nL 21.578125 24.515625 \nQ 13.234375 26.265625 9.515625 29.90625 \nQ 5.8125 33.546875 5.8125 39.890625 \nQ 5.8125 47.609375 11.28125 51.796875 \nQ 16.75 56 26.8125 56 \nQ 31.78125 56 36.171875 55.265625 \nQ 40.578125 54.546875 44.28125 53.078125 \nz\n\" id=\"DejaVuSans-115\"/>\n     </defs>\n     <g transform=\"translate(199.90625 268.034687)scale(0.1 -0.1)\">\n      <use xlink:href=\"#DejaVuSans-69\"/>\n      <use x=\"63.183594\" xlink:href=\"#DejaVuSans-112\"/>\n      <use x=\"126.660156\" xlink:href=\"#DejaVuSans-111\"/>\n      <use x=\"187.841797\" xlink:href=\"#DejaVuSans-99\"/>\n      <use x=\"242.822266\" xlink:href=\"#DejaVuSans-104\"/>\n      <use x=\"306.201172\" xlink:href=\"#DejaVuSans-115\"/>\n     </g>\n    </g>\n   </g>\n   <g id=\"matplotlib.axis_2\">\n    <g id=\"ytick_1\">\n     <g id=\"line2d_6\">\n      <defs>\n       <path d=\"M 0 0 \nL -3.5 0 \n\" id=\"mf21faff8ea\" style=\"stroke:#000000;stroke-width:0.8;\"/>\n      </defs>\n      <g>\n       <use style=\"stroke:#000000;stroke-width:0.8;\" x=\"50.421875\" xlink:href=\"#mf21faff8ea\" y=\"226.960935\"/>\n      </g>\n     </g>\n     <g id=\"text_7\">\n      <!-- 0.75 -->\n      <defs>\n       <path d=\"M 10.6875 12.40625 \nL 21 12.40625 \nL 21 0 \nL 10.6875 0 \nz\n\" id=\"DejaVuSans-46\"/>\n       <path d=\"M 8.203125 72.90625 \nL 55.078125 72.90625 \nL 55.078125 68.703125 \nL 28.609375 0 \nL 18.3125 0 \nL 43.21875 64.59375 \nL 8.203125 64.59375 \nz\n\" id=\"DejaVuSans-55\"/>\n       <path d=\"M 10.796875 72.90625 \nL 49.515625 72.90625 \nL 49.515625 64.59375 \nL 19.828125 64.59375 \nL 19.828125 46.734375 \nQ 21.96875 47.46875 24.109375 47.828125 \nQ 26.265625 48.1875 28.421875 48.1875 \nQ 40.625 48.1875 47.75 41.5 \nQ 54.890625 34.8125 54.890625 23.390625 \nQ 54.890625 11.625 47.5625 5.09375 \nQ 40.234375 -1.421875 26.90625 -1.421875 \nQ 22.3125 -1.421875 17.546875 -0.640625 \nQ 12.796875 0.140625 7.71875 1.703125 \nL 7.71875 11.625 \nQ 12.109375 9.234375 16.796875 8.0625 \nQ 21.484375 6.890625 26.703125 6.890625 \nQ 35.15625 6.890625 40.078125 11.328125 \nQ 45.015625 15.765625 45.015625 23.390625 \nQ 45.015625 31 40.078125 35.4375 \nQ 35.15625 39.890625 26.703125 39.890625 \nQ 22.75 39.890625 18.8125 39.015625 \nQ 14.890625 38.140625 10.796875 36.28125 \nz\n\" id=\"DejaVuSans-53\"/>\n      </defs>\n      <g transform=\"translate(21.15625 230.760154)scale(0.1 -0.1)\">\n       <use xlink:href=\"#DejaVuSans-48\"/>\n       <use x=\"63.623047\" xlink:href=\"#DejaVuSans-46\"/>\n       <use x=\"95.410156\" xlink:href=\"#DejaVuSans-55\"/>\n       <use x=\"159.033203\" xlink:href=\"#DejaVuSans-53\"/>\n      </g>\n     </g>\n    </g>\n    <g id=\"ytick_2\">\n     <g id=\"line2d_7\">\n      <g>\n       <use style=\"stroke:#000000;stroke-width:0.8;\" x=\"50.421875\" xlink:href=\"#mf21faff8ea\" y=\"186.700243\"/>\n      </g>\n     </g>\n     <g id=\"text_8\">\n      <!-- 0.80 -->\n      <g transform=\"translate(21.15625 190.499462)scale(0.1 -0.1)\">\n       <use xlink:href=\"#DejaVuSans-48\"/>\n       <use x=\"63.623047\" xlink:href=\"#DejaVuSans-46\"/>\n       <use x=\"95.410156\" xlink:href=\"#DejaVuSans-56\"/>\n       <use x=\"159.033203\" xlink:href=\"#DejaVuSans-48\"/>\n      </g>\n     </g>\n    </g>\n    <g id=\"ytick_3\">\n     <g id=\"line2d_8\">\n      <g>\n       <use style=\"stroke:#000000;stroke-width:0.8;\" x=\"50.421875\" xlink:href=\"#mf21faff8ea\" y=\"146.439551\"/>\n      </g>\n     </g>\n     <g id=\"text_9\">\n      <!-- 0.85 -->\n      <g transform=\"translate(21.15625 150.238769)scale(0.1 -0.1)\">\n       <use xlink:href=\"#DejaVuSans-48\"/>\n       <use x=\"63.623047\" xlink:href=\"#DejaVuSans-46\"/>\n       <use x=\"95.410156\" xlink:href=\"#DejaVuSans-56\"/>\n       <use x=\"159.033203\" xlink:href=\"#DejaVuSans-53\"/>\n      </g>\n     </g>\n    </g>\n    <g id=\"ytick_4\">\n     <g id=\"line2d_9\">\n      <g>\n       <use style=\"stroke:#000000;stroke-width:0.8;\" x=\"50.421875\" xlink:href=\"#mf21faff8ea\" y=\"106.178858\"/>\n      </g>\n     </g>\n     <g id=\"text_10\">\n      <!-- 0.90 -->\n      <defs>\n       <path d=\"M 10.984375 1.515625 \nL 10.984375 10.5 \nQ 14.703125 8.734375 18.5 7.8125 \nQ 22.3125 6.890625 25.984375 6.890625 \nQ 35.75 6.890625 40.890625 13.453125 \nQ 46.046875 20.015625 46.78125 33.40625 \nQ 43.953125 29.203125 39.59375 26.953125 \nQ 35.25 24.703125 29.984375 24.703125 \nQ 19.046875 24.703125 12.671875 31.3125 \nQ 6.296875 37.9375 6.296875 49.421875 \nQ 6.296875 60.640625 12.9375 67.421875 \nQ 19.578125 74.21875 30.609375 74.21875 \nQ 43.265625 74.21875 49.921875 64.515625 \nQ 56.59375 54.828125 56.59375 36.375 \nQ 56.59375 19.140625 48.40625 8.859375 \nQ 40.234375 -1.421875 26.421875 -1.421875 \nQ 22.703125 -1.421875 18.890625 -0.6875 \nQ 15.09375 0.046875 10.984375 1.515625 \nz\nM 30.609375 32.421875 \nQ 37.25 32.421875 41.125 36.953125 \nQ 45.015625 41.5 45.015625 49.421875 \nQ 45.015625 57.28125 41.125 61.84375 \nQ 37.25 66.40625 30.609375 66.40625 \nQ 23.96875 66.40625 20.09375 61.84375 \nQ 16.21875 57.28125 16.21875 49.421875 \nQ 16.21875 41.5 20.09375 36.953125 \nQ 23.96875 32.421875 30.609375 32.421875 \nz\n\" id=\"DejaVuSans-57\"/>\n      </defs>\n      <g transform=\"translate(21.15625 109.978077)scale(0.1 -0.1)\">\n       <use xlink:href=\"#DejaVuSans-48\"/>\n       <use x=\"63.623047\" xlink:href=\"#DejaVuSans-46\"/>\n       <use x=\"95.410156\" xlink:href=\"#DejaVuSans-57\"/>\n       <use x=\"159.033203\" xlink:href=\"#DejaVuSans-48\"/>\n      </g>\n     </g>\n    </g>\n    <g id=\"ytick_5\">\n     <g id=\"line2d_10\">\n      <g>\n       <use style=\"stroke:#000000;stroke-width:0.8;\" x=\"50.421875\" xlink:href=\"#mf21faff8ea\" y=\"65.918166\"/>\n      </g>\n     </g>\n     <g id=\"text_11\">\n      <!-- 0.95 -->\n      <g transform=\"translate(21.15625 69.717384)scale(0.1 -0.1)\">\n       <use xlink:href=\"#DejaVuSans-48\"/>\n       <use x=\"63.623047\" xlink:href=\"#DejaVuSans-46\"/>\n       <use x=\"95.410156\" xlink:href=\"#DejaVuSans-57\"/>\n       <use x=\"159.033203\" xlink:href=\"#DejaVuSans-53\"/>\n      </g>\n     </g>\n    </g>\n    <g id=\"ytick_6\">\n     <g id=\"line2d_11\">\n      <g>\n       <use style=\"stroke:#000000;stroke-width:0.8;\" x=\"50.421875\" xlink:href=\"#mf21faff8ea\" y=\"25.657473\"/>\n      </g>\n     </g>\n     <g id=\"text_12\">\n      <!-- 1.00 -->\n      <g transform=\"translate(21.15625 29.456692)scale(0.1 -0.1)\">\n       <use xlink:href=\"#DejaVuSans-49\"/>\n       <use x=\"63.623047\" xlink:href=\"#DejaVuSans-46\"/>\n       <use x=\"95.410156\" xlink:href=\"#DejaVuSans-48\"/>\n       <use x=\"159.033203\" xlink:href=\"#DejaVuSans-48\"/>\n      </g>\n     </g>\n    </g>\n    <g id=\"text_13\">\n     <!-- sparse_top_k_categorical_accuracy -->\n     <defs>\n      <path d=\"M 34.28125 27.484375 \nQ 23.390625 27.484375 19.1875 25 \nQ 14.984375 22.515625 14.984375 16.5 \nQ 14.984375 11.71875 18.140625 8.90625 \nQ 21.296875 6.109375 26.703125 6.109375 \nQ 34.1875 6.109375 38.703125 11.40625 \nQ 43.21875 16.703125 43.21875 25.484375 \nL 43.21875 27.484375 \nz\nM 52.203125 31.203125 \nL 52.203125 0 \nL 43.21875 0 \nL 43.21875 8.296875 \nQ 40.140625 3.328125 35.546875 0.953125 \nQ 30.953125 -1.421875 24.3125 -1.421875 \nQ 15.921875 -1.421875 10.953125 3.296875 \nQ 6 8.015625 6 15.921875 \nQ 6 25.140625 12.171875 29.828125 \nQ 18.359375 34.515625 30.609375 34.515625 \nL 43.21875 34.515625 \nL 43.21875 35.40625 \nQ 43.21875 41.609375 39.140625 45 \nQ 35.0625 48.390625 27.6875 48.390625 \nQ 23 48.390625 18.546875 47.265625 \nQ 14.109375 46.140625 10.015625 43.890625 \nL 10.015625 52.203125 \nQ 14.9375 54.109375 19.578125 55.046875 \nQ 24.21875 56 28.609375 56 \nQ 40.484375 56 46.34375 49.84375 \nQ 52.203125 43.703125 52.203125 31.203125 \nz\n\" id=\"DejaVuSans-97\"/>\n      <path d=\"M 41.109375 46.296875 \nQ 39.59375 47.171875 37.8125 47.578125 \nQ 36.03125 48 33.890625 48 \nQ 26.265625 48 22.1875 43.046875 \nQ 18.109375 38.09375 18.109375 28.8125 \nL 18.109375 0 \nL 9.078125 0 \nL 9.078125 54.6875 \nL 18.109375 54.6875 \nL 18.109375 46.1875 \nQ 20.953125 51.171875 25.484375 53.578125 \nQ 30.03125 56 36.53125 56 \nQ 37.453125 56 38.578125 55.875 \nQ 39.703125 55.765625 41.0625 55.515625 \nz\n\" id=\"DejaVuSans-114\"/>\n      <path d=\"M 56.203125 29.59375 \nL 56.203125 25.203125 \nL 14.890625 25.203125 \nQ 15.484375 15.921875 20.484375 11.0625 \nQ 25.484375 6.203125 34.421875 6.203125 \nQ 39.59375 6.203125 44.453125 7.46875 \nQ 49.3125 8.734375 54.109375 11.28125 \nL 54.109375 2.78125 \nQ 49.265625 0.734375 44.1875 -0.34375 \nQ 39.109375 -1.421875 33.890625 -1.421875 \nQ 20.796875 -1.421875 13.15625 6.1875 \nQ 5.515625 13.8125 5.515625 26.8125 \nQ 5.515625 40.234375 12.765625 48.109375 \nQ 20.015625 56 32.328125 56 \nQ 43.359375 56 49.78125 48.890625 \nQ 56.203125 41.796875 56.203125 29.59375 \nz\nM 47.21875 32.234375 \nQ 47.125 39.59375 43.09375 43.984375 \nQ 39.0625 48.390625 32.421875 48.390625 \nQ 24.90625 48.390625 20.390625 44.140625 \nQ 15.875 39.890625 15.1875 32.171875 \nz\n\" id=\"DejaVuSans-101\"/>\n      <path d=\"M 50.984375 -16.609375 \nL 50.984375 -23.578125 \nL -0.984375 -23.578125 \nL -0.984375 -16.609375 \nz\n\" id=\"DejaVuSans-95\"/>\n      <path d=\"M 18.3125 70.21875 \nL 18.3125 54.6875 \nL 36.8125 54.6875 \nL 36.8125 47.703125 \nL 18.3125 47.703125 \nL 18.3125 18.015625 \nQ 18.3125 11.328125 20.140625 9.421875 \nQ 21.96875 7.515625 27.59375 7.515625 \nL 36.8125 7.515625 \nL 36.8125 0 \nL 27.59375 0 \nQ 17.1875 0 13.234375 3.875 \nQ 9.28125 7.765625 9.28125 18.015625 \nL 9.28125 47.703125 \nL 2.6875 47.703125 \nL 2.6875 54.6875 \nL 9.28125 54.6875 \nL 9.28125 70.21875 \nz\n\" id=\"DejaVuSans-116\"/>\n      <path d=\"M 9.078125 75.984375 \nL 18.109375 75.984375 \nL 18.109375 31.109375 \nL 44.921875 54.6875 \nL 56.390625 54.6875 \nL 27.390625 29.109375 \nL 57.625 0 \nL 45.90625 0 \nL 18.109375 26.703125 \nL 18.109375 0 \nL 9.078125 0 \nz\n\" id=\"DejaVuSans-107\"/>\n      <path d=\"M 45.40625 27.984375 \nQ 45.40625 37.75 41.375 43.109375 \nQ 37.359375 48.484375 30.078125 48.484375 \nQ 22.859375 48.484375 18.828125 43.109375 \nQ 14.796875 37.75 14.796875 27.984375 \nQ 14.796875 18.265625 18.828125 12.890625 \nQ 22.859375 7.515625 30.078125 7.515625 \nQ 37.359375 7.515625 41.375 12.890625 \nQ 45.40625 18.265625 45.40625 27.984375 \nz\nM 54.390625 6.78125 \nQ 54.390625 -7.171875 48.1875 -13.984375 \nQ 42 -20.796875 29.203125 -20.796875 \nQ 24.46875 -20.796875 20.265625 -20.09375 \nQ 16.0625 -19.390625 12.109375 -17.921875 \nL 12.109375 -9.1875 \nQ 16.0625 -11.328125 19.921875 -12.34375 \nQ 23.78125 -13.375 27.78125 -13.375 \nQ 36.625 -13.375 41.015625 -8.765625 \nQ 45.40625 -4.15625 45.40625 5.171875 \nL 45.40625 9.625 \nQ 42.625 4.78125 38.28125 2.390625 \nQ 33.9375 0 27.875 0 \nQ 17.828125 0 11.671875 7.65625 \nQ 5.515625 15.328125 5.515625 27.984375 \nQ 5.515625 40.671875 11.671875 48.328125 \nQ 17.828125 56 27.875 56 \nQ 33.9375 56 38.28125 53.609375 \nQ 42.625 51.21875 45.40625 46.390625 \nL 45.40625 54.6875 \nL 54.390625 54.6875 \nz\n\" id=\"DejaVuSans-103\"/>\n      <path d=\"M 9.421875 54.6875 \nL 18.40625 54.6875 \nL 18.40625 0 \nL 9.421875 0 \nz\nM 9.421875 75.984375 \nL 18.40625 75.984375 \nL 18.40625 64.59375 \nL 9.421875 64.59375 \nz\n\" id=\"DejaVuSans-105\"/>\n      <path d=\"M 9.421875 75.984375 \nL 18.40625 75.984375 \nL 18.40625 0 \nL 9.421875 0 \nz\n\" id=\"DejaVuSans-108\"/>\n      <path d=\"M 8.5 21.578125 \nL 8.5 54.6875 \nL 17.484375 54.6875 \nL 17.484375 21.921875 \nQ 17.484375 14.15625 20.5 10.265625 \nQ 23.53125 6.390625 29.59375 6.390625 \nQ 36.859375 6.390625 41.078125 11.03125 \nQ 45.3125 15.671875 45.3125 23.6875 \nL 45.3125 54.6875 \nL 54.296875 54.6875 \nL 54.296875 0 \nL 45.3125 0 \nL 45.3125 8.40625 \nQ 42.046875 3.421875 37.71875 1 \nQ 33.40625 -1.421875 27.6875 -1.421875 \nQ 18.265625 -1.421875 13.375 4.4375 \nQ 8.5 10.296875 8.5 21.578125 \nz\nM 31.109375 56 \nz\n\" id=\"DejaVuSans-117\"/>\n      <path d=\"M 32.171875 -5.078125 \nQ 28.375 -14.84375 24.75 -17.8125 \nQ 21.140625 -20.796875 15.09375 -20.796875 \nL 7.90625 -20.796875 \nL 7.90625 -13.28125 \nL 13.1875 -13.28125 \nQ 16.890625 -13.28125 18.9375 -11.515625 \nQ 21 -9.765625 23.484375 -3.21875 \nL 25.09375 0.875 \nL 2.984375 54.6875 \nL 12.5 54.6875 \nL 29.59375 11.921875 \nL 46.6875 54.6875 \nL 56.203125 54.6875 \nz\n\" id=\"DejaVuSans-121\"/>\n     </defs>\n     <g transform=\"translate(14.798438 218.996719)rotate(-90)scale(0.1 -0.1)\">\n      <use xlink:href=\"#DejaVuSans-115\"/>\n      <use x=\"52.099609\" xlink:href=\"#DejaVuSans-112\"/>\n      <use x=\"115.576172\" xlink:href=\"#DejaVuSans-97\"/>\n      <use x=\"176.855469\" xlink:href=\"#DejaVuSans-114\"/>\n      <use x=\"217.96875\" xlink:href=\"#DejaVuSans-115\"/>\n      <use x=\"270.068359\" xlink:href=\"#DejaVuSans-101\"/>\n      <use x=\"331.591797\" xlink:href=\"#DejaVuSans-95\"/>\n      <use x=\"381.591797\" xlink:href=\"#DejaVuSans-116\"/>\n      <use x=\"420.800781\" xlink:href=\"#DejaVuSans-111\"/>\n      <use x=\"481.982422\" xlink:href=\"#DejaVuSans-112\"/>\n      <use x=\"545.458984\" xlink:href=\"#DejaVuSans-95\"/>\n      <use x=\"595.458984\" xlink:href=\"#DejaVuSans-107\"/>\n      <use x=\"653.369141\" xlink:href=\"#DejaVuSans-95\"/>\n      <use x=\"703.369141\" xlink:href=\"#DejaVuSans-99\"/>\n      <use x=\"758.349609\" xlink:href=\"#DejaVuSans-97\"/>\n      <use x=\"819.628906\" xlink:href=\"#DejaVuSans-116\"/>\n      <use x=\"858.837891\" xlink:href=\"#DejaVuSans-101\"/>\n      <use x=\"920.361328\" xlink:href=\"#DejaVuSans-103\"/>\n      <use x=\"983.837891\" xlink:href=\"#DejaVuSans-111\"/>\n      <use x=\"1045.019531\" xlink:href=\"#DejaVuSans-114\"/>\n      <use x=\"1086.132812\" xlink:href=\"#DejaVuSans-105\"/>\n      <use x=\"1113.916016\" xlink:href=\"#DejaVuSans-99\"/>\n      <use x=\"1168.896484\" xlink:href=\"#DejaVuSans-97\"/>\n      <use x=\"1230.175781\" xlink:href=\"#DejaVuSans-108\"/>\n      <use x=\"1257.958984\" xlink:href=\"#DejaVuSans-95\"/>\n      <use x=\"1307.958984\" xlink:href=\"#DejaVuSans-97\"/>\n      <use x=\"1369.238281\" xlink:href=\"#DejaVuSans-99\"/>\n      <use x=\"1424.21875\" xlink:href=\"#DejaVuSans-99\"/>\n      <use x=\"1479.199219\" xlink:href=\"#DejaVuSans-117\"/>\n      <use x=\"1542.578125\" xlink:href=\"#DejaVuSans-114\"/>\n      <use x=\"1583.691406\" xlink:href=\"#DejaVuSans-97\"/>\n      <use x=\"1644.970703\" xlink:href=\"#DejaVuSans-99\"/>\n      <use x=\"1699.951172\" xlink:href=\"#DejaVuSans-121\"/>\n     </g>\n    </g>\n   </g>\n   <g id=\"line2d_12\">\n    <path clip-path=\"url(#pce9b8d7323)\" d=\"M 65.640057 229.874489 \nL 99.458239 191.684653 \nL 133.27642 149.729601 \nL 167.094602 102.843981 \nL 200.912784 71.467346 \nL 234.730966 52.731019 \nL 268.549148 43.94558 \nL 302.36733 38.387435 \nL 336.185511 34.89118 \nL 370.003693 32.201761 \n\" style=\"fill:none;stroke:#0000ff;stroke-dasharray:5.55,2.4;stroke-dashoffset:0;stroke-width:1.5;\"/>\n    <defs>\n     <path d=\"M 0 3 \nC 0.795609 3 1.55874 2.683901 2.12132 2.12132 \nC 2.683901 1.55874 3 0.795609 3 0 \nC 3 -0.795609 2.683901 -1.55874 2.12132 -2.12132 \nC 1.55874 -2.683901 0.795609 -3 0 -3 \nC -0.795609 -3 -1.55874 -2.683901 -2.12132 -2.12132 \nC -2.683901 -1.55874 -3 -0.795609 -3 0 \nC -3 0.795609 -2.683901 1.55874 -2.12132 2.12132 \nC -1.55874 2.683901 -0.795609 3 0 3 \nz\n\" id=\"mb22508a64b\" style=\"stroke:#0000ff;\"/>\n    </defs>\n    <g clip-path=\"url(#pce9b8d7323)\">\n     <use style=\"fill:#0000ff;stroke:#0000ff;\" x=\"65.640057\" xlink:href=\"#mb22508a64b\" y=\"229.874489\"/>\n     <use style=\"fill:#0000ff;stroke:#0000ff;\" x=\"99.458239\" xlink:href=\"#mb22508a64b\" y=\"191.684653\"/>\n     <use style=\"fill:#0000ff;stroke:#0000ff;\" x=\"133.27642\" xlink:href=\"#mb22508a64b\" y=\"149.729601\"/>\n     <use style=\"fill:#0000ff;stroke:#0000ff;\" x=\"167.094602\" xlink:href=\"#mb22508a64b\" y=\"102.843981\"/>\n     <use style=\"fill:#0000ff;stroke:#0000ff;\" x=\"200.912784\" xlink:href=\"#mb22508a64b\" y=\"71.467346\"/>\n     <use style=\"fill:#0000ff;stroke:#0000ff;\" x=\"234.730966\" xlink:href=\"#mb22508a64b\" y=\"52.731019\"/>\n     <use style=\"fill:#0000ff;stroke:#0000ff;\" x=\"268.549148\" xlink:href=\"#mb22508a64b\" y=\"43.94558\"/>\n     <use style=\"fill:#0000ff;stroke:#0000ff;\" x=\"302.36733\" xlink:href=\"#mb22508a64b\" y=\"38.387435\"/>\n     <use style=\"fill:#0000ff;stroke:#0000ff;\" x=\"336.185511\" xlink:href=\"#mb22508a64b\" y=\"34.89118\"/>\n     <use style=\"fill:#0000ff;stroke:#0000ff;\" x=\"370.003693\" xlink:href=\"#mb22508a64b\" y=\"32.201761\"/>\n    </g>\n   </g>\n   <g id=\"line2d_13\">\n    <path clip-path=\"url(#pce9b8d7323)\" d=\"M 65.640057 219.252973 \nL 99.458239 200.610427 \nL 133.27642 188.062605 \nL 167.094602 183.401956 \nL 200.912784 189.496632 \nL 234.730966 190.572141 \nL 268.549148 186.62853 \nL 302.36733 189.138113 \nL 336.185511 189.855151 \nL 370.003693 188.779594 \n\" style=\"fill:none;stroke:#ff0000;stroke-linecap:square;stroke-width:1.5;\"/>\n    <defs>\n     <path d=\"M 0 3 \nC 0.795609 3 1.55874 2.683901 2.12132 2.12132 \nC 2.683901 1.55874 3 0.795609 3 0 \nC 3 -0.795609 2.683901 -1.55874 2.12132 -2.12132 \nC 1.55874 -2.683901 0.795609 -3 0 -3 \nC -0.795609 -3 -1.55874 -2.683901 -2.12132 -2.12132 \nC -2.683901 -1.55874 -3 -0.795609 -3 0 \nC -3 0.795609 -2.683901 1.55874 -2.12132 2.12132 \nC -1.55874 2.683901 -0.795609 3 0 3 \nz\n\" id=\"me4f35a6f11\" style=\"stroke:#ff0000;\"/>\n    </defs>\n    <g clip-path=\"url(#pce9b8d7323)\">\n     <use style=\"fill:#ff0000;stroke:#ff0000;\" x=\"65.640057\" xlink:href=\"#me4f35a6f11\" y=\"219.252973\"/>\n     <use style=\"fill:#ff0000;stroke:#ff0000;\" x=\"99.458239\" xlink:href=\"#me4f35a6f11\" y=\"200.610427\"/>\n     <use style=\"fill:#ff0000;stroke:#ff0000;\" x=\"133.27642\" xlink:href=\"#me4f35a6f11\" y=\"188.062605\"/>\n     <use style=\"fill:#ff0000;stroke:#ff0000;\" x=\"167.094602\" xlink:href=\"#me4f35a6f11\" y=\"183.401956\"/>\n     <use style=\"fill:#ff0000;stroke:#ff0000;\" x=\"200.912784\" xlink:href=\"#me4f35a6f11\" y=\"189.496632\"/>\n     <use style=\"fill:#ff0000;stroke:#ff0000;\" x=\"234.730966\" xlink:href=\"#me4f35a6f11\" y=\"190.572141\"/>\n     <use style=\"fill:#ff0000;stroke:#ff0000;\" x=\"268.549148\" xlink:href=\"#me4f35a6f11\" y=\"186.62853\"/>\n     <use style=\"fill:#ff0000;stroke:#ff0000;\" x=\"302.36733\" xlink:href=\"#me4f35a6f11\" y=\"189.138113\"/>\n     <use style=\"fill:#ff0000;stroke:#ff0000;\" x=\"336.185511\" xlink:href=\"#me4f35a6f11\" y=\"189.855151\"/>\n     <use style=\"fill:#ff0000;stroke:#ff0000;\" x=\"370.003693\" xlink:href=\"#me4f35a6f11\" y=\"188.779594\"/>\n    </g>\n   </g>\n   <g id=\"patch_3\">\n    <path d=\"M 50.421875 239.758125 \nL 50.421875 22.318125 \n\" style=\"fill:none;stroke:#000000;stroke-linecap:square;stroke-linejoin:miter;stroke-width:0.8;\"/>\n   </g>\n   <g id=\"patch_4\">\n    <path d=\"M 385.221875 239.758125 \nL 385.221875 22.318125 \n\" style=\"fill:none;stroke:#000000;stroke-linecap:square;stroke-linejoin:miter;stroke-width:0.8;\"/>\n   </g>\n   <g id=\"patch_5\">\n    <path d=\"M 50.421875 239.758125 \nL 385.221875 239.758125 \n\" style=\"fill:none;stroke:#000000;stroke-linecap:square;stroke-linejoin:miter;stroke-width:0.8;\"/>\n   </g>\n   <g id=\"patch_6\">\n    <path d=\"M 50.421875 22.318125 \nL 385.221875 22.318125 \n\" style=\"fill:none;stroke:#000000;stroke-linecap:square;stroke-linejoin:miter;stroke-width:0.8;\"/>\n   </g>\n   <g id=\"text_14\">\n    <!-- Training and validation sparse_top_k_categorical_accuracy -->\n    <defs>\n     <path d=\"M -0.296875 72.90625 \nL 61.375 72.90625 \nL 61.375 64.59375 \nL 35.5 64.59375 \nL 35.5 0 \nL 25.59375 0 \nL 25.59375 64.59375 \nL -0.296875 64.59375 \nz\n\" id=\"DejaVuSans-84\"/>\n     <path d=\"M 54.890625 33.015625 \nL 54.890625 0 \nL 45.90625 0 \nL 45.90625 32.71875 \nQ 45.90625 40.484375 42.875 44.328125 \nQ 39.84375 48.1875 33.796875 48.1875 \nQ 26.515625 48.1875 22.3125 43.546875 \nQ 18.109375 38.921875 18.109375 30.90625 \nL 18.109375 0 \nL 9.078125 0 \nL 9.078125 54.6875 \nL 18.109375 54.6875 \nL 18.109375 46.1875 \nQ 21.34375 51.125 25.703125 53.5625 \nQ 30.078125 56 35.796875 56 \nQ 45.21875 56 50.046875 50.171875 \nQ 54.890625 44.34375 54.890625 33.015625 \nz\n\" id=\"DejaVuSans-110\"/>\n     <path id=\"DejaVuSans-32\"/>\n     <path d=\"M 45.40625 46.390625 \nL 45.40625 75.984375 \nL 54.390625 75.984375 \nL 54.390625 0 \nL 45.40625 0 \nL 45.40625 8.203125 \nQ 42.578125 3.328125 38.25 0.953125 \nQ 33.9375 -1.421875 27.875 -1.421875 \nQ 17.96875 -1.421875 11.734375 6.484375 \nQ 5.515625 14.40625 5.515625 27.296875 \nQ 5.515625 40.1875 11.734375 48.09375 \nQ 17.96875 56 27.875 56 \nQ 33.9375 56 38.25 53.625 \nQ 42.578125 51.265625 45.40625 46.390625 \nz\nM 14.796875 27.296875 \nQ 14.796875 17.390625 18.875 11.75 \nQ 22.953125 6.109375 30.078125 6.109375 \nQ 37.203125 6.109375 41.296875 11.75 \nQ 45.40625 17.390625 45.40625 27.296875 \nQ 45.40625 37.203125 41.296875 42.84375 \nQ 37.203125 48.484375 30.078125 48.484375 \nQ 22.953125 48.484375 18.875 42.84375 \nQ 14.796875 37.203125 14.796875 27.296875 \nz\n\" id=\"DejaVuSans-100\"/>\n     <path d=\"M 2.984375 54.6875 \nL 12.5 54.6875 \nL 29.59375 8.796875 \nL 46.6875 54.6875 \nL 56.203125 54.6875 \nL 35.6875 0 \nL 23.484375 0 \nz\n\" id=\"DejaVuSans-118\"/>\n    </defs>\n    <g transform=\"translate(42.050938 16.318125)scale(0.12 -0.12)\">\n     <use xlink:href=\"#DejaVuSans-84\"/>\n     <use x=\"46.333984\" xlink:href=\"#DejaVuSans-114\"/>\n     <use x=\"87.447266\" xlink:href=\"#DejaVuSans-97\"/>\n     <use x=\"148.726562\" xlink:href=\"#DejaVuSans-105\"/>\n     <use x=\"176.509766\" xlink:href=\"#DejaVuSans-110\"/>\n     <use x=\"239.888672\" xlink:href=\"#DejaVuSans-105\"/>\n     <use x=\"267.671875\" xlink:href=\"#DejaVuSans-110\"/>\n     <use x=\"331.050781\" xlink:href=\"#DejaVuSans-103\"/>\n     <use x=\"394.527344\" xlink:href=\"#DejaVuSans-32\"/>\n     <use x=\"426.314453\" xlink:href=\"#DejaVuSans-97\"/>\n     <use x=\"487.59375\" xlink:href=\"#DejaVuSans-110\"/>\n     <use x=\"550.972656\" xlink:href=\"#DejaVuSans-100\"/>\n     <use x=\"614.449219\" xlink:href=\"#DejaVuSans-32\"/>\n     <use x=\"646.236328\" xlink:href=\"#DejaVuSans-118\"/>\n     <use x=\"705.416016\" xlink:href=\"#DejaVuSans-97\"/>\n     <use x=\"766.695312\" xlink:href=\"#DejaVuSans-108\"/>\n     <use x=\"794.478516\" xlink:href=\"#DejaVuSans-105\"/>\n     <use x=\"822.261719\" xlink:href=\"#DejaVuSans-100\"/>\n     <use x=\"885.738281\" xlink:href=\"#DejaVuSans-97\"/>\n     <use x=\"947.017578\" xlink:href=\"#DejaVuSans-116\"/>\n     <use x=\"986.226562\" xlink:href=\"#DejaVuSans-105\"/>\n     <use x=\"1014.009766\" xlink:href=\"#DejaVuSans-111\"/>\n     <use x=\"1075.191406\" xlink:href=\"#DejaVuSans-110\"/>\n     <use x=\"1138.570312\" xlink:href=\"#DejaVuSans-32\"/>\n     <use x=\"1170.357422\" xlink:href=\"#DejaVuSans-115\"/>\n     <use x=\"1222.457031\" xlink:href=\"#DejaVuSans-112\"/>\n     <use x=\"1285.933594\" xlink:href=\"#DejaVuSans-97\"/>\n     <use x=\"1347.212891\" xlink:href=\"#DejaVuSans-114\"/>\n     <use x=\"1388.326172\" xlink:href=\"#DejaVuSans-115\"/>\n     <use x=\"1440.425781\" xlink:href=\"#DejaVuSans-101\"/>\n     <use x=\"1501.949219\" xlink:href=\"#DejaVuSans-95\"/>\n     <use x=\"1551.949219\" xlink:href=\"#DejaVuSans-116\"/>\n     <use x=\"1591.158203\" xlink:href=\"#DejaVuSans-111\"/>\n     <use x=\"1652.339844\" xlink:href=\"#DejaVuSans-112\"/>\n     <use x=\"1715.816406\" xlink:href=\"#DejaVuSans-95\"/>\n     <use x=\"1765.816406\" xlink:href=\"#DejaVuSans-107\"/>\n     <use x=\"1823.726562\" xlink:href=\"#DejaVuSans-95\"/>\n     <use x=\"1873.726562\" xlink:href=\"#DejaVuSans-99\"/>\n     <use x=\"1928.707031\" xlink:href=\"#DejaVuSans-97\"/>\n     <use x=\"1989.986328\" xlink:href=\"#DejaVuSans-116\"/>\n     <use x=\"2029.195312\" xlink:href=\"#DejaVuSans-101\"/>\n     <use x=\"2090.71875\" xlink:href=\"#DejaVuSans-103\"/>\n     <use x=\"2154.195312\" xlink:href=\"#DejaVuSans-111\"/>\n     <use x=\"2215.376953\" xlink:href=\"#DejaVuSans-114\"/>\n     <use x=\"2256.490234\" xlink:href=\"#DejaVuSans-105\"/>\n     <use x=\"2284.273438\" xlink:href=\"#DejaVuSans-99\"/>\n     <use x=\"2339.253906\" xlink:href=\"#DejaVuSans-97\"/>\n     <use x=\"2400.533203\" xlink:href=\"#DejaVuSans-108\"/>\n     <use x=\"2428.316406\" xlink:href=\"#DejaVuSans-95\"/>\n     <use x=\"2478.316406\" xlink:href=\"#DejaVuSans-97\"/>\n     <use x=\"2539.595703\" xlink:href=\"#DejaVuSans-99\"/>\n     <use x=\"2594.576172\" xlink:href=\"#DejaVuSans-99\"/>\n     <use x=\"2649.556641\" xlink:href=\"#DejaVuSans-117\"/>\n     <use x=\"2712.935547\" xlink:href=\"#DejaVuSans-114\"/>\n     <use x=\"2754.048828\" xlink:href=\"#DejaVuSans-97\"/>\n     <use x=\"2815.328125\" xlink:href=\"#DejaVuSans-99\"/>\n     <use x=\"2870.308594\" xlink:href=\"#DejaVuSans-121\"/>\n    </g>\n   </g>\n   <g id=\"legend_1\">\n    <g id=\"patch_7\">\n     <path d=\"M 142.029687 234.758125 \nL 378.221875 234.758125 \nQ 380.221875 234.758125 380.221875 232.758125 \nL 380.221875 203.845625 \nQ 380.221875 201.845625 378.221875 201.845625 \nL 142.029687 201.845625 \nQ 140.029687 201.845625 140.029687 203.845625 \nL 140.029687 232.758125 \nQ 140.029687 234.758125 142.029687 234.758125 \nz\n\" style=\"fill:#ffffff;opacity:0.8;stroke:#cccccc;stroke-linejoin:miter;\"/>\n    </g>\n    <g id=\"line2d_14\">\n     <path d=\"M 144.029687 209.944062 \nL 164.029687 209.944062 \n\" style=\"fill:none;stroke:#0000ff;stroke-dasharray:5.55,2.4;stroke-dashoffset:0;stroke-width:1.5;\"/>\n    </g>\n    <g id=\"line2d_15\">\n     <g>\n      <use style=\"fill:#0000ff;stroke:#0000ff;\" x=\"154.029687\" xlink:href=\"#mb22508a64b\" y=\"209.944062\"/>\n     </g>\n    </g>\n    <g id=\"text_15\">\n     <!-- train_sparse_top_k_categorical_accuracy -->\n     <g transform=\"translate(172.029687 213.444062)scale(0.1 -0.1)\">\n      <use xlink:href=\"#DejaVuSans-116\"/>\n      <use x=\"39.208984\" xlink:href=\"#DejaVuSans-114\"/>\n      <use x=\"80.322266\" xlink:href=\"#DejaVuSans-97\"/>\n      <use x=\"141.601562\" xlink:href=\"#DejaVuSans-105\"/>\n      <use x=\"169.384766\" xlink:href=\"#DejaVuSans-110\"/>\n      <use x=\"232.763672\" xlink:href=\"#DejaVuSans-95\"/>\n      <use x=\"282.763672\" xlink:href=\"#DejaVuSans-115\"/>\n      <use x=\"334.863281\" xlink:href=\"#DejaVuSans-112\"/>\n      <use x=\"398.339844\" xlink:href=\"#DejaVuSans-97\"/>\n      <use x=\"459.619141\" xlink:href=\"#DejaVuSans-114\"/>\n      <use x=\"500.732422\" xlink:href=\"#DejaVuSans-115\"/>\n      <use x=\"552.832031\" xlink:href=\"#DejaVuSans-101\"/>\n      <use x=\"614.355469\" xlink:href=\"#DejaVuSans-95\"/>\n      <use x=\"664.355469\" xlink:href=\"#DejaVuSans-116\"/>\n      <use x=\"703.564453\" xlink:href=\"#DejaVuSans-111\"/>\n      <use x=\"764.746094\" xlink:href=\"#DejaVuSans-112\"/>\n      <use x=\"828.222656\" xlink:href=\"#DejaVuSans-95\"/>\n      <use x=\"878.222656\" xlink:href=\"#DejaVuSans-107\"/>\n      <use x=\"936.132812\" xlink:href=\"#DejaVuSans-95\"/>\n      <use x=\"986.132812\" xlink:href=\"#DejaVuSans-99\"/>\n      <use x=\"1041.113281\" xlink:href=\"#DejaVuSans-97\"/>\n      <use x=\"1102.392578\" xlink:href=\"#DejaVuSans-116\"/>\n      <use x=\"1141.601562\" xlink:href=\"#DejaVuSans-101\"/>\n      <use x=\"1203.125\" xlink:href=\"#DejaVuSans-103\"/>\n      <use x=\"1266.601562\" xlink:href=\"#DejaVuSans-111\"/>\n      <use x=\"1327.783203\" xlink:href=\"#DejaVuSans-114\"/>\n      <use x=\"1368.896484\" xlink:href=\"#DejaVuSans-105\"/>\n      <use x=\"1396.679688\" xlink:href=\"#DejaVuSans-99\"/>\n      <use x=\"1451.660156\" xlink:href=\"#DejaVuSans-97\"/>\n      <use x=\"1512.939453\" xlink:href=\"#DejaVuSans-108\"/>\n      <use x=\"1540.722656\" xlink:href=\"#DejaVuSans-95\"/>\n      <use x=\"1590.722656\" xlink:href=\"#DejaVuSans-97\"/>\n      <use x=\"1652.001953\" xlink:href=\"#DejaVuSans-99\"/>\n      <use x=\"1706.982422\" xlink:href=\"#DejaVuSans-99\"/>\n      <use x=\"1761.962891\" xlink:href=\"#DejaVuSans-117\"/>\n      <use x=\"1825.341797\" xlink:href=\"#DejaVuSans-114\"/>\n      <use x=\"1866.455078\" xlink:href=\"#DejaVuSans-97\"/>\n      <use x=\"1927.734375\" xlink:href=\"#DejaVuSans-99\"/>\n      <use x=\"1982.714844\" xlink:href=\"#DejaVuSans-121\"/>\n     </g>\n    </g>\n    <g id=\"line2d_16\">\n     <path d=\"M 144.029687 224.900312 \nL 164.029687 224.900312 \n\" style=\"fill:none;stroke:#ff0000;stroke-linecap:square;stroke-width:1.5;\"/>\n    </g>\n    <g id=\"line2d_17\">\n     <g>\n      <use style=\"fill:#ff0000;stroke:#ff0000;\" x=\"154.029687\" xlink:href=\"#me4f35a6f11\" y=\"224.900312\"/>\n     </g>\n    </g>\n    <g id=\"text_16\">\n     <!-- val_sparse_top_k_categorical_accuracy -->\n     <g transform=\"translate(172.029687 228.400312)scale(0.1 -0.1)\">\n      <use xlink:href=\"#DejaVuSans-118\"/>\n      <use x=\"59.179688\" xlink:href=\"#DejaVuSans-97\"/>\n      <use x=\"120.458984\" xlink:href=\"#DejaVuSans-108\"/>\n      <use x=\"148.242188\" xlink:href=\"#DejaVuSans-95\"/>\n      <use x=\"198.242188\" xlink:href=\"#DejaVuSans-115\"/>\n      <use x=\"250.341797\" xlink:href=\"#DejaVuSans-112\"/>\n      <use x=\"313.818359\" xlink:href=\"#DejaVuSans-97\"/>\n      <use x=\"375.097656\" xlink:href=\"#DejaVuSans-114\"/>\n      <use x=\"416.210938\" xlink:href=\"#DejaVuSans-115\"/>\n      <use x=\"468.310547\" xlink:href=\"#DejaVuSans-101\"/>\n      <use x=\"529.833984\" xlink:href=\"#DejaVuSans-95\"/>\n      <use x=\"579.833984\" xlink:href=\"#DejaVuSans-116\"/>\n      <use x=\"619.042969\" xlink:href=\"#DejaVuSans-111\"/>\n      <use x=\"680.224609\" xlink:href=\"#DejaVuSans-112\"/>\n      <use x=\"743.701172\" xlink:href=\"#DejaVuSans-95\"/>\n      <use x=\"793.701172\" xlink:href=\"#DejaVuSans-107\"/>\n      <use x=\"851.611328\" xlink:href=\"#DejaVuSans-95\"/>\n      <use x=\"901.611328\" xlink:href=\"#DejaVuSans-99\"/>\n      <use x=\"956.591797\" xlink:href=\"#DejaVuSans-97\"/>\n      <use x=\"1017.871094\" xlink:href=\"#DejaVuSans-116\"/>\n      <use x=\"1057.080078\" xlink:href=\"#DejaVuSans-101\"/>\n      <use x=\"1118.603516\" xlink:href=\"#DejaVuSans-103\"/>\n      <use x=\"1182.080078\" xlink:href=\"#DejaVuSans-111\"/>\n      <use x=\"1243.261719\" xlink:href=\"#DejaVuSans-114\"/>\n      <use x=\"1284.375\" xlink:href=\"#DejaVuSans-105\"/>\n      <use x=\"1312.158203\" xlink:href=\"#DejaVuSans-99\"/>\n      <use x=\"1367.138672\" xlink:href=\"#DejaVuSans-97\"/>\n      <use x=\"1428.417969\" xlink:href=\"#DejaVuSans-108\"/>\n      <use x=\"1456.201172\" xlink:href=\"#DejaVuSans-95\"/>\n      <use x=\"1506.201172\" xlink:href=\"#DejaVuSans-97\"/>\n      <use x=\"1567.480469\" xlink:href=\"#DejaVuSans-99\"/>\n      <use x=\"1622.460938\" xlink:href=\"#DejaVuSans-99\"/>\n      <use x=\"1677.441406\" xlink:href=\"#DejaVuSans-117\"/>\n      <use x=\"1740.820312\" xlink:href=\"#DejaVuSans-114\"/>\n      <use x=\"1781.933594\" xlink:href=\"#DejaVuSans-97\"/>\n      <use x=\"1843.212891\" xlink:href=\"#DejaVuSans-99\"/>\n      <use x=\"1898.193359\" xlink:href=\"#DejaVuSans-121\"/>\n     </g>\n    </g>\n   </g>\n  </g>\n </g>\n <defs>\n  <clipPath id=\"pce9b8d7323\">\n   <rect height=\"217.44\" width=\"334.8\" x=\"50.421875\" y=\"22.318125\"/>\n  </clipPath>\n </defs>\n</svg>\n"
          },
          "metadata": {
            "tags": [],
            "needs_background": "light"
          }
        }
      ]
    },
    {
      "cell_type": "markdown",
      "metadata": {
        "id": "GH2f2_rZiE_B"
      },
      "source": [
        "## 二，内置train_on_batch方法\r\n",
        "该内置方法相比较fit方法更加灵活，可以不通过回调函数而直接在批次层次上更加精细地控制训练的过程。"
      ]
    },
    {
      "cell_type": "code",
      "metadata": {
        "colab": {
          "base_uri": "https://localhost:8080/"
        },
        "id": "mPbsayS1iBiJ",
        "outputId": "06885fe8-eea3-4671-84b8-904e11147870"
      },
      "source": [
        "tf.keras.backend.clear_session()\r\n",
        "\r\n",
        "def create_model():\r\n",
        "    model = models.Sequential()\r\n",
        "\r\n",
        "    model.add(layers.Embedding(MAX_WORDS,7,input_length=MAX_LEN))\r\n",
        "    model.add(layers.Conv1D(filters = 64,kernel_size = 5,activation = \"relu\"))\r\n",
        "    model.add(layers.MaxPool1D(2))\r\n",
        "    model.add(layers.Conv1D(filters = 32,kernel_size = 3,activation = \"relu\"))\r\n",
        "    model.add(layers.MaxPool1D(2))\r\n",
        "    model.add(layers.Flatten())\r\n",
        "    model.add(layers.Dense(CAT_NUM,activation = \"softmax\"))\r\n",
        "    return(model)\r\n",
        "\r\n",
        "def compile_model(model):\r\n",
        "    model.compile(optimizer=optimizers.Nadam(),\r\n",
        "                loss=losses.SparseCategoricalCrossentropy(),\r\n",
        "                metrics=[metrics.SparseCategoricalAccuracy(),metrics.SparseTopKCategoricalAccuracy(5)]) \r\n",
        "    return(model)\r\n",
        " \r\n",
        "model = create_model()\r\n",
        "model.summary()\r\n",
        "model = compile_model(model)"
      ],
      "execution_count": 31,
      "outputs": [
        {
          "output_type": "stream",
          "text": [
            "Model: \"sequential\"\n",
            "_________________________________________________________________\n",
            "Layer (type)                 Output Shape              Param #   \n",
            "=================================================================\n",
            "embedding (Embedding)        (None, 300, 7)            216874    \n",
            "_________________________________________________________________\n",
            "conv1d (Conv1D)              (None, 296, 64)           2304      \n",
            "_________________________________________________________________\n",
            "max_pooling1d (MaxPooling1D) (None, 148, 64)           0         \n",
            "_________________________________________________________________\n",
            "conv1d_1 (Conv1D)            (None, 146, 32)           6176      \n",
            "_________________________________________________________________\n",
            "max_pooling1d_1 (MaxPooling1 (None, 73, 32)            0         \n",
            "_________________________________________________________________\n",
            "flatten (Flatten)            (None, 2336)              0         \n",
            "_________________________________________________________________\n",
            "dense (Dense)                (None, 46)                107502    \n",
            "=================================================================\n",
            "Total params: 332,856\n",
            "Trainable params: 332,856\n",
            "Non-trainable params: 0\n",
            "_________________________________________________________________\n"
          ],
          "name": "stdout"
        }
      ]
    },
    {
      "cell_type": "code",
      "metadata": {
        "id": "ziTH-Hx8iPM5"
      },
      "source": [
        "def train_model(model,ds_train,ds_valid,epoches):\r\n",
        "  for epoch in tf.range(1,epoches+1):\r\n",
        "    model.reset_metrics()\r\n",
        "    # 在后期降低学习率\r\n",
        "    if epoch == 5:\r\n",
        "      model.optimizer.lr.assign(model.optimizer.lr/2.0)\r\n",
        "      tf.print(\"Lowering optimizer Learning Rate...\\n\\n\")\r\n",
        "\r\n",
        "    for x, y in ds_train:\r\n",
        "      train_result = model.train_on_batch(x, y)\r\n",
        "\r\n",
        "    for x, y in ds_valid:\r\n",
        "      valid_result = model.test_on_batch(x, y,reset_metrics=False)\r\n",
        "\r\n",
        "    if epoch%1 ==0:\r\n",
        "      printbar()\r\n",
        "      tf.print(\"epoch = \",epoch)\r\n",
        "      print(\"train:\",dict(zip(model.metrics_names,train_result)))\r\n",
        "      print(\"valid:\",dict(zip(model.metrics_names,valid_result)))\r\n",
        "      print(\"\")"
      ],
      "execution_count": 32,
      "outputs": []
    },
    {
      "cell_type": "code",
      "metadata": {
        "colab": {
          "base_uri": "https://localhost:8080/"
        },
        "id": "7diH38vmi2AL",
        "outputId": "0e6c0383-35c8-4b06-8752-18112f20031c"
      },
      "source": [
        "train_model(model,ds_train,ds_test,10)"
      ],
      "execution_count": 37,
      "outputs": [
        {
          "output_type": "stream",
          "text": [
            "================================================================================11:50:31\n",
            "epoch =  1\n",
            "train: {'loss': 1.3767461776733398, 'sparse_categorical_accuracy': 0.5909090638160706, 'sparse_top_k_categorical_accuracy': 0.9090909361839294}\n",
            "valid: {'loss': 1.5933196544647217, 'sparse_categorical_accuracy': 0.5837043523788452, 'sparse_top_k_categorical_accuracy': 0.7809438705444336}\n",
            "\n",
            "================================================================================11:50:40\n",
            "epoch =  2\n",
            "train: {'loss': 1.1801460981369019, 'sparse_categorical_accuracy': 0.6818181872367859, 'sparse_top_k_categorical_accuracy': 0.9090909361839294}\n",
            "valid: {'loss': 1.6016020774841309, 'sparse_categorical_accuracy': 0.6073018908500671, 'sparse_top_k_categorical_accuracy': 0.8000890612602234}\n",
            "\n",
            "================================================================================11:50:49\n",
            "epoch =  3\n",
            "train: {'loss': 1.0590027570724487, 'sparse_categorical_accuracy': 0.7272727489471436, 'sparse_top_k_categorical_accuracy': 0.9090909361839294}\n",
            "valid: {'loss': 1.762027382850647, 'sparse_categorical_accuracy': 0.6202136874198914, 'sparse_top_k_categorical_accuracy': 0.8058770895004272}\n",
            "\n",
            "================================================================================11:50:58\n",
            "epoch =  4\n",
            "train: {'loss': 0.9052450060844421, 'sparse_categorical_accuracy': 0.8636363744735718, 'sparse_top_k_categorical_accuracy': 0.9090909361839294}\n",
            "valid: {'loss': 2.0085108280181885, 'sparse_categorical_accuracy': 0.6166518330574036, 'sparse_top_k_categorical_accuracy': 0.8014247417449951}\n",
            "\n",
            "Lowering optimizer Learning Rate...\n",
            "\n",
            "\n",
            "================================================================================11:51:07\n",
            "epoch =  5\n",
            "train: {'loss': 0.6921960711479187, 'sparse_categorical_accuracy': 0.8636363744735718, 'sparse_top_k_categorical_accuracy': 0.9545454382896423}\n",
            "valid: {'loss': 2.2866899967193604, 'sparse_categorical_accuracy': 0.6268922686576843, 'sparse_top_k_categorical_accuracy': 0.8040961623191833}\n",
            "\n",
            "================================================================================11:51:16\n",
            "epoch =  6\n",
            "train: {'loss': 0.6165651679039001, 'sparse_categorical_accuracy': 0.9545454382896423, 'sparse_top_k_categorical_accuracy': 0.9545454382896423}\n",
            "valid: {'loss': 2.4744391441345215, 'sparse_categorical_accuracy': 0.6251112818717957, 'sparse_top_k_categorical_accuracy': 0.8005343079566956}\n",
            "\n",
            "================================================================================11:51:25\n",
            "epoch =  7\n",
            "train: {'loss': 0.5578311681747437, 'sparse_categorical_accuracy': 0.9545454382896423, 'sparse_top_k_categorical_accuracy': 0.9545454382896423}\n",
            "valid: {'loss': 2.6452972888946533, 'sparse_categorical_accuracy': 0.6246660947799683, 'sparse_top_k_categorical_accuracy': 0.8000890612602234}\n",
            "\n",
            "================================================================================11:51:34\n",
            "epoch =  8\n",
            "train: {'loss': 0.5087273120880127, 'sparse_categorical_accuracy': 0.9090909361839294, 'sparse_top_k_categorical_accuracy': 0.9545454382896423}\n",
            "valid: {'loss': 2.816908359527588, 'sparse_categorical_accuracy': 0.6251112818717957, 'sparse_top_k_categorical_accuracy': 0.8027604818344116}\n",
            "\n",
            "================================================================================11:51:43\n",
            "epoch =  9\n",
            "train: {'loss': 0.4821997880935669, 'sparse_categorical_accuracy': 0.9090909361839294, 'sparse_top_k_categorical_accuracy': 0.9545454382896423}\n",
            "valid: {'loss': 2.9692845344543457, 'sparse_categorical_accuracy': 0.6268922686576843, 'sparse_top_k_categorical_accuracy': 0.8014247417449951}\n",
            "\n",
            "================================================================================11:51:52\n",
            "epoch =  10\n",
            "train: {'loss': 0.4551093280315399, 'sparse_categorical_accuracy': 0.9090909361839294, 'sparse_top_k_categorical_accuracy': 0.9545454382896423}\n",
            "valid: {'loss': 3.104494094848633, 'sparse_categorical_accuracy': 0.6255565285682678, 'sparse_top_k_categorical_accuracy': 0.7996438145637512}\n",
            "\n"
          ],
          "name": "stdout"
        }
      ]
    },
    {
      "cell_type": "markdown",
      "metadata": {
        "id": "qEYmUh77jkBy"
      },
      "source": [
        "## 三，自定义训练循环\r\n",
        "自定义训练循环无需编译模型，直接利用优化器根据损失函数反向传播迭代参数，拥有最高的灵活性。"
      ]
    },
    {
      "cell_type": "code",
      "metadata": {
        "colab": {
          "base_uri": "https://localhost:8080/"
        },
        "id": "6bEWiFIHjOBN",
        "outputId": "4b017bc7-20d1-4457-97b2-72c3ffc15b92"
      },
      "source": [
        "tf.keras.backend.clear_session()\r\n",
        "\r\n",
        "def create_model():\r\n",
        "    \r\n",
        "    model = models.Sequential()\r\n",
        "\r\n",
        "    model.add(layers.Embedding(MAX_WORDS,7,input_length=MAX_LEN))\r\n",
        "    model.add(layers.Conv1D(filters = 64,kernel_size = 5,activation = \"relu\"))\r\n",
        "    model.add(layers.MaxPool1D(2))\r\n",
        "    model.add(layers.Conv1D(filters = 32,kernel_size = 3,activation = \"relu\"))\r\n",
        "    model.add(layers.MaxPool1D(2))\r\n",
        "    model.add(layers.Flatten())\r\n",
        "    model.add(layers.Dense(CAT_NUM,activation = \"softmax\"))\r\n",
        "    return(model)\r\n",
        "\r\n",
        "model = create_model()\r\n",
        "model.summary()"
      ],
      "execution_count": 38,
      "outputs": [
        {
          "output_type": "stream",
          "text": [
            "Model: \"sequential\"\n",
            "_________________________________________________________________\n",
            "Layer (type)                 Output Shape              Param #   \n",
            "=================================================================\n",
            "embedding (Embedding)        (None, 300, 7)            216874    \n",
            "_________________________________________________________________\n",
            "conv1d (Conv1D)              (None, 296, 64)           2304      \n",
            "_________________________________________________________________\n",
            "max_pooling1d (MaxPooling1D) (None, 148, 64)           0         \n",
            "_________________________________________________________________\n",
            "conv1d_1 (Conv1D)            (None, 146, 32)           6176      \n",
            "_________________________________________________________________\n",
            "max_pooling1d_1 (MaxPooling1 (None, 73, 32)            0         \n",
            "_________________________________________________________________\n",
            "flatten (Flatten)            (None, 2336)              0         \n",
            "_________________________________________________________________\n",
            "dense (Dense)                (None, 46)                107502    \n",
            "=================================================================\n",
            "Total params: 332,856\n",
            "Trainable params: 332,856\n",
            "Non-trainable params: 0\n",
            "_________________________________________________________________\n"
          ],
          "name": "stdout"
        }
      ]
    },
    {
      "cell_type": "code",
      "metadata": {
        "colab": {
          "base_uri": "https://localhost:8080/"
        },
        "id": "dVfVwWE-kVDh",
        "outputId": "a3865cd9-fae2-4849-b078-75a389289985"
      },
      "source": [
        "optimizer = optimizers.Nadam()\r\n",
        "loss_func = losses.SparseCategoricalCrossentropy()\r\n",
        "train_loss = metrics.Mean(name='train_loss')\r\n",
        "train_metric = metrics.SparseCategoricalAccuracy(name='train_accuracy')\r\n",
        "\r\n",
        "\r\n",
        "valid_loss = metrics.Mean(name='valid_loss')\r\n",
        "valid_metric = metrics.SparseCategoricalAccuracy(name='valid_accuracy')\r\n",
        "\r\n",
        "@tf.function\r\n",
        "def train_step(model, features, labels):\r\n",
        "    with tf.GradientTape() as tape:\r\n",
        "        predictions = model(features,training = True)\r\n",
        "        loss = loss_func(labels, predictions)\r\n",
        "    gradients = tape.gradient(loss, model.trainable_variables)\r\n",
        "    optimizer.apply_gradients(zip(gradients, model.trainable_variables))\r\n",
        "\r\n",
        "    train_loss.update_state(loss)\r\n",
        "    train_metric.update_state(labels, predictions)\r\n",
        "\r\n",
        "@tf.function\r\n",
        "def valid_step(model, features, labels):\r\n",
        "    predictions = model(features)\r\n",
        "    batch_loss = loss_func(labels, predictions)\r\n",
        "    valid_loss.update_state(batch_loss)\r\n",
        "    valid_metric.update_state(labels, predictions)\r\n",
        "\r\n",
        "def train_model(model,ds_train,ds_valid,epochs):\r\n",
        "    for epoch in tf.range(1,epochs+1):\r\n",
        "        \r\n",
        "        for features, labels in ds_train:\r\n",
        "            train_step(model,features,labels)\r\n",
        "\r\n",
        "        for features, labels in ds_valid:\r\n",
        "            valid_step(model,features,labels)\r\n",
        "\r\n",
        "        logs = 'Epoch={},Loss:{},Accuracy:{},Valid Loss:{},Valid Accuracy:{}'\r\n",
        "        \r\n",
        "        if epoch%1 ==0:\r\n",
        "            printbar()\r\n",
        "            tf.print(tf.strings.format(logs,\r\n",
        "            (epoch,train_loss.result(),train_metric.result(),valid_loss.result(),valid_metric.result())))\r\n",
        "            tf.print(\"\")\r\n",
        "            \r\n",
        "        train_loss.reset_states()\r\n",
        "        valid_loss.reset_states()\r\n",
        "        train_metric.reset_states()\r\n",
        "        valid_metric.reset_states()\r\n",
        "\r\n",
        "train_model(model,ds_train,ds_test,10)\r\n"
      ],
      "execution_count": 39,
      "outputs": [
        {
          "output_type": "stream",
          "text": [
            "================================================================================11:59:10\n",
            "Epoch=1,Loss:2.0140028,Accuracy:0.478957921,Valid Loss:1.6958425,Valid Accuracy:0.554764032\n",
            "\n",
            "================================================================================11:59:17\n",
            "Epoch=2,Loss:1.47327614,Accuracy:0.619349837,Valid Loss:1.56854141,Valid Accuracy:0.587711513\n",
            "\n",
            "================================================================================11:59:24\n",
            "Epoch=3,Loss:1.18837869,Accuracy:0.686706722,Valid Loss:1.59362626,Valid Accuracy:0.618878\n",
            "\n",
            "================================================================================11:59:31\n",
            "Epoch=4,Loss:0.924840748,Accuracy:0.756847,Valid Loss:1.75251126,Valid Accuracy:0.6197685\n",
            "\n",
            "================================================================================11:59:38\n",
            "Epoch=5,Loss:0.694776773,Accuracy:0.820863962,Valid Loss:1.97919953,Valid Accuracy:0.621104181\n",
            "\n",
            "================================================================================11:59:45\n",
            "Epoch=6,Loss:0.530432642,Accuracy:0.865731478,Valid Loss:2.23357773,Valid Accuracy:0.611309\n",
            "\n",
            "================================================================================11:59:52\n",
            "Epoch=7,Loss:0.421535403,Accuracy:0.900912941,Valid Loss:2.46032619,Valid Accuracy:0.611309\n",
            "\n",
            "================================================================================11:59:59\n",
            "Epoch=8,Loss:0.352667928,Accuracy:0.915497661,Valid Loss:2.66847777,Valid Accuracy:0.611309\n",
            "\n",
            "================================================================================12:00:06\n",
            "Epoch=9,Loss:0.305799752,Accuracy:0.925740361,Valid Loss:2.87707806,Valid Accuracy:0.608637571\n",
            "\n",
            "================================================================================12:00:12\n",
            "Epoch=10,Loss:0.269946814,Accuracy:0.93364507,Valid Loss:3.04569864,Valid Accuracy:0.60329473\n",
            "\n"
          ],
          "name": "stdout"
        }
      ]
    }
  ]
}