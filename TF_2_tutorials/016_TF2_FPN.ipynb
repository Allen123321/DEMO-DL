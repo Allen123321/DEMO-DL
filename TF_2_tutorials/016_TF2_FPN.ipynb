{
  "nbformat": 4,
  "nbformat_minor": 0,
  "metadata": {
    "colab": {
      "name": "016.TF2-FPN.ipynb",
      "provenance": [],
      "authorship_tag": "ABX9TyMB2ob7THiUfg11/owbAmHe",
      "include_colab_link": true
    },
    "kernelspec": {
      "name": "python3",
      "display_name": "Python 3"
    }
  },
  "cells": [
    {
      "cell_type": "markdown",
      "metadata": {
        "id": "view-in-github",
        "colab_type": "text"
      },
      "source": [
        "<a href=\"https://colab.research.google.com/github/Allen123321/DEMO-DL/blob/master/016_TF2_FPN.ipynb\" target=\"_parent\"><img src=\"https://colab.research.google.com/assets/colab-badge.svg\" alt=\"Open In Colab\"/></a>"
      ]
    },
    {
      "cell_type": "code",
      "metadata": {
        "colab": {
          "base_uri": "https://localhost:8080/",
          "height": 35
        },
        "id": "95n065VdBqmY",
        "outputId": "0db5e5a0-fe02-4986-9321-6db462e24b9c"
      },
      "source": [
        "import tensorflow as tf\r\n",
        "\r\n",
        "\"\"\"\r\n",
        "Implements a ResNet version of the FPN introduced in\r\n",
        "https://arxiv.org/pdf/1612.03144.pdf\r\n",
        "\"\"\"\r\n"
      ],
      "execution_count": 1,
      "outputs": [
        {
          "output_type": "execute_result",
          "data": {
            "application/vnd.google.colaboratory.intrinsic+json": {
              "type": "string"
            },
            "text/plain": [
              "'\\nImplements a ResNet version of the FPN introduced in\\nhttps://arxiv.org/pdf/1612.03144.pdf\\n'"
            ]
          },
          "metadata": {
            "tags": []
          },
          "execution_count": 1
        }
      ]
    },
    {
      "cell_type": "code",
      "metadata": {
        "id": "uWJax1wnB9ae"
      },
      "source": [
        "class BasicBlock(tf.keras.Model):\r\n",
        "    expansion = 1\r\n",
        "\r\n",
        "    def __init__(self, in_channels, out_channels, strides=1):\r\n",
        "        super(BasicBlock, self).__init__()\r\n",
        "        self.conv1 = tf.keras.layers.Conv2D(out_channels, kernel_size=3, strides=strides,\r\n",
        "                                            padding=\"same\", use_bias=False)\r\n",
        "        self.bn1 = tf.keras.layers.BatchNormalization()\r\n",
        "\r\n",
        "        self.conv2 = tf.keras.layers.Conv2D(out_channels, kernel_size=3, strides=1,\r\n",
        "                                            padding=\"same\", use_bias=False)\r\n",
        "        self.bn2 = tf.keras.layers.BatchNormalization()\r\n",
        "\r\n",
        "        \"\"\"\r\n",
        "        Adds a shortcut between input and residual block and merges them with \"sum\"\r\n",
        "        \"\"\"\r\n",
        "        if strides != 1 or in_channels != self.expansion * out_channels:\r\n",
        "            self.shortcut = tf.keras.Sequential([\r\n",
        "                    tf.keras.layers.Conv2D(self.expansion*out_channels, kernel_size=1,\r\n",
        "                                           strides=strides, use_bias=False),\r\n",
        "                    tf.keras.layers.BatchNormalization()]\r\n",
        "                    )\r\n",
        "        else:\r\n",
        "            self.shortcut = lambda x,_: x\r\n",
        "\r\n",
        "    def call(self, x, training=False):\r\n",
        "        # if training: print(\"=> training network ... \")\r\n",
        "        out = tf.nn.relu(self.bn1(self.conv1(x), training=training))\r\n",
        "        out = self.bn2(self.conv2(out), training=training)\r\n",
        "        out += self.shortcut(x, training)\r\n",
        "        return tf.nn.relu(out)\r\n"
      ],
      "execution_count": 2,
      "outputs": []
    },
    {
      "cell_type": "code",
      "metadata": {
        "id": "excrXhG-EwA0"
      },
      "source": [
        "class FPN(tf.keras.Model):\r\n",
        "    \"\"\" use ResNet as backbone\r\n",
        "    \"\"\"\r\n",
        "    def __init__(self, block, num_blocks):\r\n",
        "        super(FPN, self).__init__()\r\n",
        "        self.in_channels = 64\r\n",
        "\r\n",
        "        self.conv1 = tf.keras.layers.Conv2D(64, 7, 2, padding=\"same\", use_bias=False)\r\n",
        "        self.bn1 = tf.keras.layers.BatchNormalization()\r\n",
        "\r\n",
        "        # Bottom --> up layers\r\n",
        "        self.layer1 = self._make_layer(block,  64, num_blocks[0], stride=1)\r\n",
        "        self.layer2 = self._make_layer(block, 128, num_blocks[1], stride=2)\r\n",
        "        self.layer3 = self._make_layer(block, 256, num_blocks[2], stride=2)\r\n",
        "        self.layer4 = self._make_layer(block, 512, num_blocks[3], stride=2)\r\n",
        "\r\n",
        "        # Top layer\r\n",
        "        self.top_layer = tf.keras.layers.Conv2D(256, 1, 1, padding=\"valid\")\r\n",
        "\r\n",
        "        # Smooth layers\r\n",
        "        self.smooth1   = tf.keras.layers.Conv2D(256, 3, 1, padding=\"same\")\r\n",
        "        self.smooth2   = tf.keras.layers.Conv2D(256, 3, 1, padding=\"same\")\r\n",
        "        self.smooth3   = tf.keras.layers.Conv2D(256, 3, 1, padding=\"same\")\r\n",
        "\r\n",
        "        # Lateral layers\r\n",
        "        self.lateral_layer1 = tf.keras.layers.Conv2D(256, 1, 1, padding=\"valid\")\r\n",
        "        self.lateral_layer2 = tf.keras.layers.Conv2D(256, 1, 1, padding=\"valid\")\r\n",
        "        self.lateral_layer3 = tf.keras.layers.Conv2D(256, 1, 1, padding=\"valid\")\r\n",
        "\r\n",
        "    def _make_layer(self, block, out_channels, num_blocks, stride):\r\n",
        "        strides = [stride] + [1] * (num_blocks - 1)\r\n",
        "        layers = []\r\n",
        "        for stride in strides:\r\n",
        "            layers.append(block(self.in_channels, out_channels, stride))\r\n",
        "            self.in_channels = out_channels * block.expansion\r\n",
        "        return tf.keras.Sequential(layers)\r\n",
        "\r\n",
        "    def _upsample_add(self, x, y):\r\n",
        "        \"\"\"Upsample and add two feature maps.\r\n",
        "        Args:\r\n",
        "          x: (Variable) top feature map to be upsampled.\r\n",
        "          y: (Variable) lateral feature map.\r\n",
        "        Returns:\r\n",
        "          (Variable) added feature map.\r\n",
        "          \"\"\"\r\n",
        "        _, H, W, C = y.shape\r\n",
        "        return tf.image.resize(x, size=(H, W), method=\"bilinear\")\r\n",
        "\r\n",
        "    def call(self, x, training=False):\r\n",
        "        p1 = tf.nn.relu(self.bn1(self.conv1(x), training=training))\r\n",
        "        p1 = tf.nn.max_pool2d(p1, ksize=3, strides=2, padding=\"SAME\")\r\n",
        "\r\n",
        "        # Bottom --> up\r\n",
        "        p2 = self.layer1(p1, training=training)\r\n",
        "        p3 = self.layer2(p2, training=training)\r\n",
        "        p4 = self.layer3(p3, training=training)\r\n",
        "        p5 = self.layer4(p4, training=training)\r\n",
        "\r\n",
        "        # Top-down\r\n",
        "        d5 = self.top_layer(p5)\r\n",
        "        d4 = self._upsample_add(d5, self.lateral_layer1(p4))\r\n",
        "        d3 = self._upsample_add(d4, self.lateral_layer2(p3))\r\n",
        "        d2 = self._upsample_add(d3, self.lateral_layer3(p2))\r\n",
        "\r\n",
        "        # Smooth\r\n",
        "        d4 = self.smooth1(d4)\r\n",
        "        d3 = self.smooth2(d3)\r\n",
        "        d2 = self.smooth3(d2)\r\n",
        "\r\n",
        "        return d2, d3, d4, d5"
      ],
      "execution_count": 3,
      "outputs": []
    },
    {
      "cell_type": "code",
      "metadata": {
        "colab": {
          "base_uri": "https://localhost:8080/"
        },
        "id": "ADcgCNatFjU3",
        "outputId": "bae9f07c-36b6-4dcc-bb93-6c106bc01d7f"
      },
      "source": [
        "def ResNet18_fpn():\r\n",
        "    return FPN(BasicBlock, [2, 2, 2, 2])\r\n",
        "\r\n",
        "def ResNet34_fpn():\r\n",
        "    return FPN(BasicBlock, [3, 4, 6, 3])\r\n",
        "\r\n",
        "if __name__ == \"__main__\":\r\n",
        "    ## Test model\r\n",
        "    data = tf.ones(shape=[1, 416, 416, 3])\r\n",
        "    # model = ResNet18_fpn()\r\n",
        "    model = ResNet34_fpn()\r\n",
        "    fms = model(data)\r\n",
        "    for fm in fms:\r\n",
        "        print(fm.shape)"
      ],
      "execution_count": 4,
      "outputs": [
        {
          "output_type": "stream",
          "text": [
            "(1, 104, 104, 256)\n",
            "(1, 52, 52, 256)\n",
            "(1, 26, 26, 256)\n",
            "(1, 13, 13, 256)\n"
          ],
          "name": "stdout"
        }
      ]
    },
    {
      "cell_type": "code",
      "metadata": {
        "colab": {
          "base_uri": "https://localhost:8080/"
        },
        "id": "PvtGIJMRGDfe",
        "outputId": "bf39d65a-4c0c-40b7-c027-6305052ba130"
      },
      "source": [
        "model.summary()"
      ],
      "execution_count": 8,
      "outputs": [
        {
          "output_type": "stream",
          "text": [
            "Model: \"fpn\"\n",
            "_________________________________________________________________\n",
            "Layer (type)                 Output Shape              Param #   \n",
            "=================================================================\n",
            "conv2d (Conv2D)              multiple                  9408      \n",
            "_________________________________________________________________\n",
            "batch_normalization (BatchNo multiple                  256       \n",
            "_________________________________________________________________\n",
            "sequential (Sequential)      (1, 104, 104, 64)         222720    \n",
            "_________________________________________________________________\n",
            "sequential_2 (Sequential)    (1, 52, 52, 128)          1118720   \n",
            "_________________________________________________________________\n",
            "sequential_4 (Sequential)    (1, 26, 26, 256)          6829056   \n",
            "_________________________________________________________________\n",
            "sequential_6 (Sequential)    (1, 13, 13, 512)          13121536  \n",
            "_________________________________________________________________\n",
            "conv2d_36 (Conv2D)           multiple                  131328    \n",
            "_________________________________________________________________\n",
            "conv2d_37 (Conv2D)           multiple                  590080    \n",
            "_________________________________________________________________\n",
            "conv2d_38 (Conv2D)           multiple                  590080    \n",
            "_________________________________________________________________\n",
            "conv2d_39 (Conv2D)           multiple                  590080    \n",
            "_________________________________________________________________\n",
            "conv2d_40 (Conv2D)           multiple                  65792     \n",
            "_________________________________________________________________\n",
            "conv2d_41 (Conv2D)           multiple                  33024     \n",
            "_________________________________________________________________\n",
            "conv2d_42 (Conv2D)           multiple                  16640     \n",
            "=================================================================\n",
            "Total params: 23,318,720\n",
            "Trainable params: 23,301,696\n",
            "Non-trainable params: 17,024\n",
            "_________________________________________________________________\n"
          ],
          "name": "stdout"
        }
      ]
    },
    {
      "cell_type": "code",
      "metadata": {
        "id": "-frOqRYWFvwx"
      },
      "source": [
        "from keras.utils import plot_model"
      ],
      "execution_count": 9,
      "outputs": []
    },
    {
      "cell_type": "code",
      "metadata": {
        "id": "X7dKlTFFGR5q"
      },
      "source": [
        ""
      ],
      "execution_count": null,
      "outputs": []
    }
  ]
}