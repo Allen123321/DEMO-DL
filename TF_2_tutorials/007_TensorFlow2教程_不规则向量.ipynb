{
  "nbformat": 4,
  "nbformat_minor": 0,
  "metadata": {
    "colab": {
      "name": "007.TensorFlow2教程-不规则向量.ipynb",
      "provenance": [],
      "authorship_tag": "ABX9TyOUGbr3ks3ih0drlu5raiZF",
      "include_colab_link": true
    },
    "kernelspec": {
      "name": "python3",
      "display_name": "Python 3"
    }
  },
  "cells": [
    {
      "cell_type": "markdown",
      "metadata": {
        "id": "view-in-github",
        "colab_type": "text"
      },
      "source": [
        "<a href=\"https://colab.research.google.com/github/Allen123321/DEMO-DL/blob/master/007_TensorFlow2%E6%95%99%E7%A8%8B_%E4%B8%8D%E8%A7%84%E5%88%99%E5%90%91%E9%87%8F.ipynb\" target=\"_parent\"><img src=\"https://colab.research.google.com/assets/colab-badge.svg\" alt=\"Open In Colab\"/></a>"
      ]
    },
    {
      "cell_type": "code",
      "metadata": {
        "id": "FmJuboqVDvct"
      },
      "source": [
        "import math\r\n",
        "import tensorflow as tf"
      ],
      "execution_count": 1,
      "outputs": []
    },
    {
      "cell_type": "markdown",
      "metadata": {
        "id": "KEFUoy12EI2L"
      },
      "source": [
        "数据有多种形式。张量也应该如此。 不规则的张量是嵌套可变长度列表的TensorFlow等效项。它们使存储和处理形状不均匀的数据变得容易，包括：\r\n",
        "\r\n",
        "+ 可变长度功能，例如电影中的一组演员。\r\n",
        "+ 成批的可变长度顺序输入，例如句子或视频剪辑。\r\n",
        "+ 分层输入，例如细分为小节，段落，句子和单词的文本文档。\r\n",
        "+ 结构化输入中的各个字段，例如协议缓冲区。\r\n"
      ]
    },
    {
      "cell_type": "markdown",
      "metadata": {
        "id": "Ya46cDJlHlVn"
      },
      "source": [
        "## 1 不规则张量的作用\r\n",
        "不规则张量受一百多个TensorFlow操作的支持，其中包括数学操作（如tf.add和tf.reduce_mean），数组操作（如tf.concat和tf.tile），字符串操作op（如 tf.substr）以及许多其他功能："
      ]
    },
    {
      "cell_type": "code",
      "metadata": {
        "id": "gq12yIylESCi"
      },
      "source": [
        "digits = tf.ragged.constant([[3,1,4,1], [], [5,9,2], [6],[]])\r\n",
        "words = tf.ragged.constant([[\"So\", \"long\"], [\"thanks\", \"for\", \"all\", \"the\", \"fish\"]])\r\n"
      ],
      "execution_count": 2,
      "outputs": []
    },
    {
      "cell_type": "code",
      "metadata": {
        "colab": {
          "base_uri": "https://localhost:8080/"
        },
        "id": "dkLJ-WhDI7Q5",
        "outputId": "78df9a60-1d51-477c-c3df-3a4ff1a9ef88"
      },
      "source": [
        "print(tf.add(digits, 3))"
      ],
      "execution_count": 3,
      "outputs": [
        {
          "output_type": "stream",
          "text": [
            "<tf.RaggedTensor [[6, 4, 7, 4], [], [8, 12, 5], [9], []]>\n"
          ],
          "name": "stdout"
        }
      ]
    },
    {
      "cell_type": "code",
      "metadata": {
        "colab": {
          "base_uri": "https://localhost:8080/"
        },
        "id": "3N3HXx1DJKpa",
        "outputId": "4216b21b-f96e-46a9-82a8-94f03116327d"
      },
      "source": [
        "print(tf.reduce_mean(digits, axis=1))"
      ],
      "execution_count": 4,
      "outputs": [
        {
          "output_type": "stream",
          "text": [
            "tf.Tensor([2.25              nan 5.33333333 6.                nan], shape=(5,), dtype=float64)\n"
          ],
          "name": "stdout"
        }
      ]
    },
    {
      "cell_type": "code",
      "metadata": {
        "colab": {
          "base_uri": "https://localhost:8080/"
        },
        "id": "dry9MwwjKK6D",
        "outputId": "3ab9f4cd-79b7-46f9-8219-87c3755feae0"
      },
      "source": [
        "print(tf.concat([digits, [[5, 3]]], axis=0))"
      ],
      "execution_count": 5,
      "outputs": [
        {
          "output_type": "stream",
          "text": [
            "<tf.RaggedTensor [[3, 1, 4, 1], [], [5, 9, 2], [6], [], [5, 3]]>\n"
          ],
          "name": "stdout"
        }
      ]
    },
    {
      "cell_type": "code",
      "metadata": {
        "colab": {
          "base_uri": "https://localhost:8080/"
        },
        "id": "6PqYrXe8KRwd",
        "outputId": "8c9a5536-988c-45eb-eca8-7c0b79da126b"
      },
      "source": [
        "print(tf.tile(digits, [1, 2]))"
      ],
      "execution_count": 6,
      "outputs": [
        {
          "output_type": "stream",
          "text": [
            "<tf.RaggedTensor [[3, 1, 4, 1, 3, 1, 4, 1], [], [5, 9, 2, 5, 9, 2], [6, 6], []]>\n"
          ],
          "name": "stdout"
        }
      ]
    },
    {
      "cell_type": "code",
      "metadata": {
        "colab": {
          "base_uri": "https://localhost:8080/"
        },
        "id": "Zvp9eNYkLTq7",
        "outputId": "4b751b86-61db-46d7-db09-dfe48759ec71"
      },
      "source": [
        "print(tf.strings.substr(words, 0, 1))"
      ],
      "execution_count": 8,
      "outputs": [
        {
          "output_type": "stream",
          "text": [
            "<tf.RaggedTensor [[b'S', b'l'], [b't', b'f', b'a', b't', b'f']]>\n"
          ],
          "name": "stdout"
        }
      ]
    },
    {
      "cell_type": "markdown",
      "metadata": {
        "id": "4CwxbRuiYe9u"
      },
      "source": [
        "## 张量\r\n",
        "由命名可知，TensorFlow是一个定义和运算涉及张量的计算的框架。TensorFlow将张量表示为基本数据类型的n维数组。\r\n",
        "tf.Tensor具有以下属性：\r\n",
        "+ 数据类型（float32, int32, string等）\r\n",
        "+ 形状\r\n",
        "一个张量中的每个元素都是一样的数据类型，且数据类型已知。形状可能已知也可能部分已知。某些情况下，只有执行图时才知道张量的形状。\r\n",
        "\r\n",
        "一些特殊的张量：\r\n",
        "\r\n",
        "+ tf.Variable\r\n",
        "+ tf.constant\r\n",
        "+ tf.placeholder\r\n",
        "+ tf.SparseTensor\r\n"
      ]
    },
    {
      "cell_type": "markdown",
      "metadata": {
        "id": "-ExxKo0OZgdc"
      },
      "source": [
        "\r\n",
        "1 Rank <br>\r\n",
        "rank是tf.Tensor对象的尺寸的数量。类似于order,degree或ｎ维。TensorFlow中的rank和数据中矩阵的秩不同。如下表所示，TensorFlow每个rank对应一个不同的数学实体。"
      ]
    },
    {
      "cell_type": "markdown",
      "metadata": {
        "id": "1Vk5l32NZolc"
      },
      "source": [
        "1.1 rank 0"
      ]
    },
    {
      "cell_type": "code",
      "metadata": {
        "id": "Q4Vk-aSGZqV-"
      },
      "source": [
        "import tensorflow as tf\r\n",
        "mammal = tf.Variable('Hongmeng', tf.string)\r\n",
        "ignition = tf.Variable(360, tf.int16)\r\n",
        "floating = tf.Variable(3.141592653, tf.float64)\r\n",
        "its_complicated = tf.Variable(12.3 - 4.56j, tf.complex64)"
      ],
      "execution_count": 9,
      "outputs": []
    },
    {
      "cell_type": "markdown",
      "metadata": {
        "id": "PQvatGqXZ7j-"
      },
      "source": [
        "注：在TensorFlow中，字符串被视为单个对象，而不是字符序列。可能有标量字符串，字符串向量等。"
      ]
    },
    {
      "cell_type": "markdown",
      "metadata": {
        "id": "V0-5D-4tZ90_"
      },
      "source": [
        "## 1.2 rank 1\r\n",
        "要创建rank 1的tf.Tensor对象，一般传递列表作为初始值"
      ]
    },
    {
      "cell_type": "code",
      "metadata": {
        "id": "rJBqQHmxZ9Q4"
      },
      "source": [
        "mystr = tf.Variable([\"Hello\"], tf.string)\r\n",
        "cool_numbers  = tf.Variable([3.14159, 2.71828], tf.float32)\r\n",
        "first_primes = tf.Variable([2, 3, 5, 7, 11], tf.int32)\r\n",
        "its_very_complicated = tf.Variable([12.3 - 4.85j, 7.5 - 6.23j], tf.complex64)"
      ],
      "execution_count": 10,
      "outputs": []
    },
    {
      "cell_type": "markdown",
      "metadata": {
        "id": "5-gAt85PaKYp"
      },
      "source": [
        "## 1.3 rank 2\r\n",
        "rank 2包含行跟列"
      ]
    },
    {
      "cell_type": "code",
      "metadata": {
        "colab": {
          "base_uri": "https://localhost:8080/"
        },
        "id": "vAxYXwpCaNGI",
        "outputId": "e337f305-b199-4d48-8fb2-55cf0fe4b2a1"
      },
      "source": [
        "mymat = tf.Variable([[7],[11]], tf.int16)\r\n",
        "myxor = tf.Variable([[False, True],[True, False]], tf.bool)\r\n",
        "linear_squares = tf.Variable([[4], [9], [16], [25]], tf.int32)\r\n",
        "squarish_squares = tf.Variable([ [4, 9], [16, 25] ], tf.int32)\r\n",
        "rank_of_squares = tf.rank(squarish_squares)\r\n",
        "print(rank_of_squares)\r\n",
        "mymatC = tf.Variable([[7],[11]], tf.int32)"
      ],
      "execution_count": 11,
      "outputs": [
        {
          "output_type": "stream",
          "text": [
            "tf.Tensor(2, shape=(), dtype=int32)\n"
          ],
          "name": "stdout"
        }
      ]
    },
    {
      "cell_type": "markdown",
      "metadata": {
        "id": "SyEHxupEabPN"
      },
      "source": [
        "1.4 高阶张量\r\n",
        "高阶张量由n维数组组成。例如，在图像处理期间，使用了许多等级4的张量，其尺寸对应于批中示例，图像高度，图像宽度和颜色通道。"
      ]
    },
    {
      "cell_type": "code",
      "metadata": {
        "id": "eMowiemhasGE"
      },
      "source": [
        "my_image = tf.zeros([10, 299, 299, 3])\r\n"
      ],
      "execution_count": 14,
      "outputs": []
    },
    {
      "cell_type": "markdown",
      "metadata": {
        "id": "qzlpN03DbJCe"
      },
      "source": [
        "## 1.5 获取tf.Tensor对象的rank\r\n",
        "要确定tf.Tensor对象的rank，可以调用tf.rank方法。例如，以下方法以编程方式确定"
      ]
    },
    {
      "cell_type": "code",
      "metadata": {
        "colab": {
          "base_uri": "https://localhost:8080/"
        },
        "id": "6A5YE-xZbK-T",
        "outputId": "ba56bb84-a24b-464b-9dad-79e431727067"
      },
      "source": [
        "r = tf.rank(my_image)\r\n",
        "print(r)"
      ],
      "execution_count": 15,
      "outputs": [
        {
          "output_type": "stream",
          "text": [
            "tf.Tensor(4, shape=(), dtype=int32)\n"
          ],
          "name": "stdout"
        }
      ]
    },
    {
      "cell_type": "markdown",
      "metadata": {
        "id": "ceSMF5oGbRw3"
      },
      "source": [
        "## 1.6 tf.Tensor切片\r\n",
        "由于 tf.Tensor是n维数组，因此要访问其中的某个元素，需要指定n个索引。\r\n",
        "\r\n",
        "对于等级0的张量（标量），不需要索引，因为它已经是一个数字。\r\n",
        "\r\n",
        "对于秩为1的张量（向量），传递单个索引可访问数字："
      ]
    },
    {
      "cell_type": "code",
      "metadata": {
        "id": "w7NxEWETbh3s"
      },
      "source": [
        "\r\n",
        "my_scalar = first_primes[2]"
      ],
      "execution_count": 16,
      "outputs": []
    },
    {
      "cell_type": "markdown",
      "metadata": {
        "id": "_nUne3rObkJS"
      },
      "source": [
        "对于2级或更高的张量，情况更加有趣。对于 tf.Tensor的rank为2的，传递两个数字将按预期返回标量："
      ]
    },
    {
      "cell_type": "code",
      "metadata": {
        "id": "TBAndjnYbk1s"
      },
      "source": [
        "my_scalar = mymat[1, 0]"
      ],
      "execution_count": 17,
      "outputs": []
    },
    {
      "cell_type": "markdown",
      "metadata": {
        "id": "mwf9t22TbnVT"
      },
      "source": [
        "但是，传递单个数字将返回矩阵的子向量"
      ]
    },
    {
      "cell_type": "code",
      "metadata": {
        "id": "x61VCfkDbom4"
      },
      "source": [
        "my_row_vector = mymat[1]\r\n",
        "my_column_vector = mymat[:, 0]"
      ],
      "execution_count": 18,
      "outputs": []
    },
    {
      "cell_type": "code",
      "metadata": {
        "colab": {
          "base_uri": "https://localhost:8080/"
        },
        "id": "5ORDnunzbu7w",
        "outputId": "2bf17125-3890-4c57-d3f3-7a71bae44d9b"
      },
      "source": [
        "print(my_row_vector)\r\n",
        "print(my_column_vector)"
      ],
      "execution_count": 19,
      "outputs": [
        {
          "output_type": "stream",
          "text": [
            "tf.Tensor([11], shape=(1,), dtype=int32)\n",
            "tf.Tensor([ 7 11], shape=(2,), dtype=int32)\n"
          ],
          "name": "stdout"
        }
      ]
    },
    {
      "cell_type": "markdown",
      "metadata": {
        "id": "xtowbzvmcHva"
      },
      "source": [
        "## 2 形状\r\n",
        "张量的形状是每个维度中元素的数量。TensorFlow在图形构建过程中自动推断形状。这些推断的形状可能具有已知或未知的等级。如果rank是已知的，则每个维度的大小可能是已知的或未知的。\r\n",
        "\r\n",
        "TensorFlow文档使用三种符号约定来描述张量维数：rank，形状和维数。下表显示了它们之间的相互关系："
      ]
    },
    {
      "cell_type": "markdown",
      "metadata": {
        "id": "-ki7n0hBcaeR"
      },
      "source": [
        "2.1 获取tf.Tensor对象的形状¶\r\n",
        "有两种访问形状tf.Tensor的方法。在构建图形时，询问关于张量形状的已知知识通常很有用。\r\n",
        "\r\n",
        "1、可以通过读取对象的shape属性来获取tf.Tensor。此方法返回一个TensorShape对象，这是表示部分指定的形状的便捷方式（因为在构建图形时，并非所有形状都将是完全已知的）。\r\n",
        "\r\n",
        "2、也有可能在运行时获得一个代表某个张量的形状的tf.Tensor。这是通过调用tf.shape 操作来完成的。这样，可以通过构建依赖于输入的动态形状的其他张量来完成网络构建。\r\n",
        "\r\n",
        "例如，下面是如何制作一个零向量，其大小与给定矩阵中的列数相同："
      ]
    },
    {
      "cell_type": "code",
      "metadata": {
        "id": "-qzqTukDcgQ4"
      },
      "source": [
        "zeros = tf.zeros(mymat.shape[1])"
      ],
      "execution_count": 20,
      "outputs": []
    },
    {
      "cell_type": "code",
      "metadata": {
        "colab": {
          "base_uri": "https://localhost:8080/"
        },
        "id": "FV1jGxEDckKq",
        "outputId": "71103353-d1cb-4bb0-a98b-2e986cf2e126"
      },
      "source": [
        "print(zeros)"
      ],
      "execution_count": 21,
      "outputs": [
        {
          "output_type": "stream",
          "text": [
            "tf.Tensor([0.], shape=(1,), dtype=float32)\n"
          ],
          "name": "stdout"
        }
      ]
    },
    {
      "cell_type": "markdown",
      "metadata": {
        "id": "DrBhTwNccobP"
      },
      "source": [
        "## 3 数据类型\r\n",
        "除维数外，张量还具有数据类型。\r\n",
        "\r\n",
        "具有一个以上的数据类型是不可能的。但是，可以将任意数据结构序列化为strings并将其存储在tf.Tensors中。\r\n",
        "\r\n",
        "可以使用tf.cast命令将tf.Tensors从一种数据类型转换为另一种数据类型："
      ]
    },
    {
      "cell_type": "code",
      "metadata": {
        "id": "kyafUi1ZcsP-"
      },
      "source": [
        "float_tensor = tf.cast(tf.constant([1, 2, 3]), dtype=tf.float32)"
      ],
      "execution_count": 22,
      "outputs": []
    },
    {
      "cell_type": "markdown",
      "metadata": {
        "id": "VLmH8C0fc3hF"
      },
      "source": [
        "要检查tf.Tensor的数据类型，请使用Tensor.dtype属性。\r\n",
        "\r\n",
        "tf.Tensor从python对象创建时，可以选择指定数据类型。如果不设置，TensorFlow会选择一种可以代表数据的数据类型。TensorFlow将Python整数转换为tf.int32，并将python浮点数转换为tf.float32。而在将numpy转换为数组时使用的相同规则。"
      ]
    },
    {
      "cell_type": "code",
      "metadata": {
        "colab": {
          "base_uri": "https://localhost:8080/"
        },
        "id": "vFM_84Lwc4o6",
        "outputId": "0ad01fbf-229d-4d7c-8aa4-abbbaf182c5e"
      },
      "source": [
        "float_tensor.dtype"
      ],
      "execution_count": 24,
      "outputs": [
        {
          "output_type": "execute_result",
          "data": {
            "text/plain": [
              "tf.float32"
            ]
          },
          "metadata": {
            "tags": []
          },
          "execution_count": 24
        }
      ]
    },
    {
      "cell_type": "markdown",
      "metadata": {
        "id": "kjXd-gKldAX8"
      },
      "source": [
        "\r\n",
        "4 打印张量\r\n",
        "出于调试目的，可能需要打印tf.Tensor的值。TensorFlow2中可以直接用print打印"
      ]
    },
    {
      "cell_type": "code",
      "metadata": {
        "colab": {
          "base_uri": "https://localhost:8080/"
        },
        "id": "waYK9jSAdBR0",
        "outputId": "f2dbc341-430b-4155-9671-076fd459616a"
      },
      "source": [
        "\r\n",
        "t = tf.add(3, 4)\r\n",
        "print(t)"
      ],
      "execution_count": 25,
      "outputs": [
        {
          "output_type": "stream",
          "text": [
            "tf.Tensor(7, shape=(), dtype=int32)\n"
          ],
          "name": "stdout"
        }
      ]
    },
    {
      "cell_type": "markdown",
      "metadata": {
        "id": "i7lm6TaNdhnv"
      },
      "source": [
        "## 教程-Variables\r\n",
        "TensorFlow 变量是表示程序所控制的共享持久状态的最佳方法。\r\n",
        "\r\n",
        "变量通过tf.Variable类进行操作。tf.Variable 表示张量，其值可以通过在其上运行ops进行更改。特定操作允许您读取和修改此张量的值。\r\n",
        "创建一个变量"
      ]
    },
    {
      "cell_type": "code",
      "metadata": {
        "colab": {
          "base_uri": "https://localhost:8080/"
        },
        "id": "QfYexEiMdsLi",
        "outputId": "b61e2a89-41c4-4d1f-870c-4c6b0190af04"
      },
      "source": [
        "import tensorflow as tf\r\n",
        "# 要创建变量，只需提供初始值\r\n",
        "my_var = tf.Variable(tf.ones([2,3]))\r\n",
        "print(my_var)\r\n",
        "#如果tf.device作用域处于活动状态，则变量将被放置在该设备上；否则，变量将被放置在与其dtype兼容的“最快”设备上\r\n",
        "try:\r\n",
        "    with tf.device(\"/device:GPU:0\"):\r\n",
        "        v = tf.Variable(tf.zeros([10, 10]))\r\n",
        "        print(v)\r\n",
        "except:\r\n",
        "    print('no gpu')"
      ],
      "execution_count": 26,
      "outputs": [
        {
          "output_type": "stream",
          "text": [
            "<tf.Variable 'Variable:0' shape=(2, 3) dtype=float32, numpy=\n",
            "array([[1., 1., 1.],\n",
            "       [1., 1., 1.]], dtype=float32)>\n",
            "<tf.Variable 'Variable:0' shape=(10, 10) dtype=float32, numpy=\n",
            "array([[0., 0., 0., 0., 0., 0., 0., 0., 0., 0.],\n",
            "       [0., 0., 0., 0., 0., 0., 0., 0., 0., 0.],\n",
            "       [0., 0., 0., 0., 0., 0., 0., 0., 0., 0.],\n",
            "       [0., 0., 0., 0., 0., 0., 0., 0., 0., 0.],\n",
            "       [0., 0., 0., 0., 0., 0., 0., 0., 0., 0.],\n",
            "       [0., 0., 0., 0., 0., 0., 0., 0., 0., 0.],\n",
            "       [0., 0., 0., 0., 0., 0., 0., 0., 0., 0.],\n",
            "       [0., 0., 0., 0., 0., 0., 0., 0., 0., 0.],\n",
            "       [0., 0., 0., 0., 0., 0., 0., 0., 0., 0.],\n",
            "       [0., 0., 0., 0., 0., 0., 0., 0., 0., 0.]], dtype=float32)>\n"
          ],
          "name": "stdout"
        }
      ]
    },
    {
      "cell_type": "markdown",
      "metadata": {
        "id": "zDmInJfPeZvY"
      },
      "source": [
        "\r\n",
        "2 使用变量"
      ]
    },
    {
      "cell_type": "code",
      "metadata": {
        "colab": {
          "base_uri": "https://localhost:8080/"
        },
        "id": "Do3Hq4kgedQV",
        "outputId": "a7e2d148-5369-44b1-f21c-266801391cb5"
      },
      "source": [
        "\r\n",
        "# 变量相加\r\n",
        "a = tf.Variable(1.0)\r\n",
        "b = (a+2) *3\r\n",
        "print(a)\r\n",
        "print(b)"
      ],
      "execution_count": 27,
      "outputs": [
        {
          "output_type": "stream",
          "text": [
            "<tf.Variable 'Variable:0' shape=() dtype=float32, numpy=1.0>\n",
            "tf.Tensor(9.0, shape=(), dtype=float32)\n"
          ],
          "name": "stdout"
        }
      ]
    },
    {
      "cell_type": "code",
      "metadata": {
        "colab": {
          "base_uri": "https://localhost:8080/"
        },
        "id": "aZ8NO3WQekv3",
        "outputId": "84a944f7-4383-4caf-8ce1-59ca5df082bb"
      },
      "source": [
        "# 更改某个向量\r\n",
        "a = tf.Variable(1.0)\r\n",
        "b = (a.assign_add(2)) *3\r\n",
        "print(a)\r\n",
        "print(b)"
      ],
      "execution_count": 28,
      "outputs": [
        {
          "output_type": "stream",
          "text": [
            "<tf.Variable 'Variable:0' shape=() dtype=float32, numpy=3.0>\n",
            "tf.Tensor(9.0, shape=(), dtype=float32)\n"
          ],
          "name": "stdout"
        }
      ]
    },
    {
      "cell_type": "markdown",
      "metadata": {
        "id": "DDbpmS64eqR0"
      },
      "source": [
        "\r\n",
        "3 变量追踪\r\n",
        "TensorFlow中的变量是一个Python对象。在构建图层，模型，优化器和其他相关工具时，您可能希望获取（假设）模型中所有变量的列表。"
      ]
    },
    {
      "cell_type": "code",
      "metadata": {
        "colab": {
          "base_uri": "https://localhost:8080/"
        },
        "id": "H19Wfsn7esOg",
        "outputId": "f83731cb-d2e1-4c1b-fa09-650ca51e6faa"
      },
      "source": [
        "class MyModuleOne(tf.Module):\r\n",
        "    def __init__(self):\r\n",
        "        self.v0 = tf.Variable(1.0)\r\n",
        "        self.vs = [tf.Variable(x) for x in range(10)]\r\n",
        "    \r\n",
        "class MyOtherModule(tf.Module):\r\n",
        "    def __init__(self):\r\n",
        "        self.m = MyModuleOne()\r\n",
        "        self.v = tf.Variable(10.0)\r\n",
        "    \r\n",
        "m = MyOtherModule()\r\n",
        "print(m.variables)  # 模型中的所有变量\r\n",
        "len(m.variables)"
      ],
      "execution_count": 29,
      "outputs": [
        {
          "output_type": "stream",
          "text": [
            "(<tf.Variable 'Variable:0' shape=() dtype=float32, numpy=10.0>, <tf.Variable 'Variable:0' shape=() dtype=float32, numpy=1.0>, <tf.Variable 'Variable:0' shape=() dtype=int32, numpy=0>, <tf.Variable 'Variable:0' shape=() dtype=int32, numpy=1>, <tf.Variable 'Variable:0' shape=() dtype=int32, numpy=2>, <tf.Variable 'Variable:0' shape=() dtype=int32, numpy=3>, <tf.Variable 'Variable:0' shape=() dtype=int32, numpy=4>, <tf.Variable 'Variable:0' shape=() dtype=int32, numpy=5>, <tf.Variable 'Variable:0' shape=() dtype=int32, numpy=6>, <tf.Variable 'Variable:0' shape=() dtype=int32, numpy=7>, <tf.Variable 'Variable:0' shape=() dtype=int32, numpy=8>, <tf.Variable 'Variable:0' shape=() dtype=int32, numpy=9>)\n"
          ],
          "name": "stdout"
        },
        {
          "output_type": "execute_result",
          "data": {
            "text/plain": [
              "12"
            ]
          },
          "metadata": {
            "tags": []
          },
          "execution_count": 29
        }
      ]
    }
  ]
}