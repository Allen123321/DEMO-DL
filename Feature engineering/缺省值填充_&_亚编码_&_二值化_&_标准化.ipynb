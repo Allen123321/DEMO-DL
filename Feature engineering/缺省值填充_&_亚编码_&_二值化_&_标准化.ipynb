{
  "nbformat": 4,
  "nbformat_minor": 0,
  "metadata": {
    "colab": {
      "name": "缺省值填充 & 亚编码 & 二值化 & 标准化.ipynb",
      "provenance": [],
      "authorship_tag": "ABX9TyMvbVXKv7RJCPuq3g+gToZG",
      "include_colab_link": true
    },
    "kernelspec": {
      "name": "python3",
      "display_name": "Python 3"
    }
  },
  "cells": [
    {
      "cell_type": "markdown",
      "metadata": {
        "id": "view-in-github",
        "colab_type": "text"
      },
      "source": [
        "<a href=\"https://colab.research.google.com/github/Allen123321/DEMO-DL/blob/master/%E7%BC%BA%E7%9C%81%E5%80%BC%E5%A1%AB%E5%85%85_%26_%E4%BA%9A%E7%BC%96%E7%A0%81_%26_%E4%BA%8C%E5%80%BC%E5%8C%96_%26_%E6%A0%87%E5%87%86%E5%8C%96.ipynb\" target=\"_parent\"><img src=\"https://colab.research.google.com/assets/colab-badge.svg\" alt=\"Open In Colab\"/></a>"
      ]
    },
    {
      "cell_type": "code",
      "metadata": {
        "id": "zPrbgRLgQmT2"
      },
      "source": [
        "import numpy as np\n",
        "from sklearn import impute"
      ],
      "execution_count": 6,
      "outputs": []
    },
    {
      "cell_type": "code",
      "metadata": {
        "id": "tRnc4UOUReMQ"
      },
      "source": [
        "X = [\n",
        "    [2, 2, 4, 1],\n",
        "    [np.nan, 3, 4, 4],\n",
        "    [1, 1, 1, np.nan],\n",
        "    [2, 2, np.nan, 3]\n",
        "]\n",
        "X2 = [\n",
        "    [2, 6, np.nan, 1],\n",
        "    [np.nan, 5, np.nan, 1],\n",
        "    [4, 1, np.nan, 5],\n",
        "    [np.nan, np.nan, np.nan, 1]\n",
        "]"
      ],
      "execution_count": 7,
      "outputs": []
    },
    {
      "cell_type": "code",
      "metadata": {
        "id": "WTv3cc68RfHN",
        "outputId": "00cd5df5-c2a6-462e-ba9f-5a5f189a4620",
        "colab": {
          "base_uri": "https://localhost:8080/"
        }
      },
      "source": [
        "imp1 = impute.SimpleImputer(missing_values= np.nan,strategy='mean')\n",
        "imp2 = impute.SimpleImputer(missing_values=np.nan,strategy='mean')\n",
        "imp1.fit(X)\n",
        "imp2.fit(X)\n"
      ],
      "execution_count": 9,
      "outputs": [
        {
          "output_type": "execute_result",
          "data": {
            "text/plain": [
              "SimpleImputer(add_indicator=False, copy=True, fill_value=None,\n",
              "              missing_values=nan, strategy='mean', verbose=0)"
            ]
          },
          "metadata": {
            "tags": []
          },
          "execution_count": 9
        }
      ]
    },
    {
      "cell_type": "code",
      "metadata": {
        "id": "Cjc5TBHXZO25",
        "outputId": "11f92042-d363-4eed-cf03-8515e286f549",
        "colab": {
          "base_uri": "https://localhost:8080/"
        }
      },
      "source": [
        "print (imp1.transform(X2))\n",
        "print (\"--------------------------\")\n",
        "print (imp2.transform(X2))"
      ],
      "execution_count": 10,
      "outputs": [
        {
          "output_type": "stream",
          "text": [
            "[[2.         6.         3.         1.        ]\n",
            " [1.66666667 5.         3.         1.        ]\n",
            " [4.         1.         3.         5.        ]\n",
            " [1.66666667 2.         3.         1.        ]]\n",
            "--------------------------\n",
            "[[2.         6.         3.         1.        ]\n",
            " [1.66666667 5.         3.         1.        ]\n",
            " [4.         1.         3.         5.        ]\n",
            " [1.66666667 2.         3.         1.        ]]\n"
          ],
          "name": "stdout"
        }
      ]
    },
    {
      "cell_type": "code",
      "metadata": {
        "id": "vraSU0o4bKmR",
        "outputId": "dfc694cb-3469-4bee-e946-4868915bd508",
        "colab": {
          "base_uri": "https://localhost:8080/"
        }
      },
      "source": [
        "imp3 = impute.SimpleImputer(missing_values=np.nan,strategy='mean')\n",
        "imp4 = impute.SimpleImputer(missing_values=np.nan,strategy='median')\n",
        "imp5 = impute.SimpleImputer(missing_values=np.nan,strategy='most_frequent')\n",
        "imp3.fit(X)\n",
        "imp4.fit(X)\n",
        "imp5.fit(X)\n"
      ],
      "execution_count": 11,
      "outputs": [
        {
          "output_type": "execute_result",
          "data": {
            "text/plain": [
              "SimpleImputer(add_indicator=False, copy=True, fill_value=None,\n",
              "              missing_values=nan, strategy='most_frequent', verbose=0)"
            ]
          },
          "metadata": {
            "tags": []
          },
          "execution_count": 11
        }
      ]
    },
    {
      "cell_type": "code",
      "metadata": {
        "id": "MrNkH5I3b5ha",
        "outputId": "10225cd4-6449-430e-85df-94a24f037a71",
        "colab": {
          "base_uri": "https://localhost:8080/"
        }
      },
      "source": [
        "print (X)\n",
        "print (X2)\n",
        "print (\"--------------------------\")\n",
        "print (imp3.transform(X2))\n",
        "print (\"--------------------------\")\n",
        "print (imp4.transform(X2))\n",
        "print (\"--------------------------\")\n",
        "print (imp5.transform(X2))"
      ],
      "execution_count": 13,
      "outputs": [
        {
          "output_type": "stream",
          "text": [
            "[[2, 2, 4, 1], [nan, 3, 4, 4], [1, 1, 1, nan], [2, 2, nan, 3]]\n",
            "[[2, 6, nan, 1], [nan, 5, nan, 1], [4, 1, nan, 5], [nan, nan, nan, 1]]\n",
            "--------------------------\n",
            "[[2.         6.         3.         1.        ]\n",
            " [1.66666667 5.         3.         1.        ]\n",
            " [4.         1.         3.         5.        ]\n",
            " [1.66666667 2.         3.         1.        ]]\n",
            "--------------------------\n",
            "[[2. 6. 4. 1.]\n",
            " [2. 5. 4. 1.]\n",
            " [4. 1. 4. 5.]\n",
            " [2. 2. 4. 1.]]\n",
            "--------------------------\n",
            "[[2. 6. 4. 1.]\n",
            " [2. 5. 4. 1.]\n",
            " [4. 1. 4. 5.]\n",
            " [2. 2. 4. 1.]]\n"
          ],
          "name": "stdout"
        }
      ]
    },
    {
      "cell_type": "code",
      "metadata": {
        "id": "g7I229N1ccyV",
        "outputId": "0b48f3e3-f7ec-401e-d6dc-2164b15677c5",
        "colab": {
          "base_uri": "https://localhost:8080/"
        }
      },
      "source": [
        "from numpy import random\n",
        "x=random.RandomState(1)\n",
        "0.5-x.rand(14)"
      ],
      "execution_count": 14,
      "outputs": [
        {
          "output_type": "execute_result",
          "data": {
            "text/plain": [
              "array([ 0.082978  , -0.22032449,  0.49988563,  0.19766743,  0.35324411,\n",
              "        0.40766141,  0.31373979,  0.15443927,  0.10323253, -0.03881673,\n",
              "        0.08080549, -0.1852195 ,  0.29554775, -0.37811744])"
            ]
          },
          "metadata": {
            "tags": []
          },
          "execution_count": 14
        }
      ]
    },
    {
      "cell_type": "markdown",
      "metadata": {
        "id": "qWAAHydRhAyu"
      },
      "source": [
        "哑编码"
      ]
    },
    {
      "cell_type": "code",
      "metadata": {
        "id": "GsXk0iBBclfU"
      },
      "source": [
        "from sklearn.preprocessing import OneHotEncoder\n",
        "from sklearn.feature_extraction import DictVectorizer,FeatureHasher\n",
        "import numpy as np"
      ],
      "execution_count": 15,
      "outputs": []
    },
    {
      "cell_type": "code",
      "metadata": {
        "id": "PyVouDWMcsfp",
        "outputId": "c0682edd-a08e-4b68-b672-54f7be382b87",
        "colab": {
          "base_uri": "https://localhost:8080/"
        }
      },
      "source": [
        "enc = OneHotEncoder()\n",
        "enc.fit([[0, 0, 3], [1, 1, 0], [0, 2, 1], [1, 0, 2],[1,1,1]]) \n",
        "a=np.array([[0, 0, 3], [1, 1, 0], [0, 2, 1], [1, 0, 2]])\n",
        "print(a)\n",
        "# 基于列进行编码\n",
        "print(enc.categories_)"
      ],
      "execution_count": 19,
      "outputs": [
        {
          "output_type": "stream",
          "text": [
            "[[0 0 3]\n",
            " [1 1 0]\n",
            " [0 2 1]\n",
            " [1 0 2]]\n",
            "[array([0, 1]), array([0, 1, 2]), array([0, 1, 2, 3])]\n"
          ],
          "name": "stdout"
        }
      ]
    },
    {
      "cell_type": "code",
      "metadata": {
        "id": "X0xgkcGSeGH7",
        "outputId": "c582ad6d-0b3e-4027-9709-a3ec1998b6cf",
        "colab": {
          "base_uri": "https://localhost:8080/"
        }
      },
      "source": [
        "# 把0放到第一列[0,1]比对，把1放到第二列[0,1,2]比对，把3放到第三列[0,1,2，3]比对\n",
        "enc.transform([[0, 1, 3]]).toarray()"
      ],
      "execution_count": 20,
      "outputs": [
        {
          "output_type": "execute_result",
          "data": {
            "text/plain": [
              "array([[1., 0., 0., 1., 0., 0., 0., 0., 1.]])"
            ]
          },
          "metadata": {
            "tags": []
          },
          "execution_count": 20
        }
      ]
    },
    {
      "cell_type": "code",
      "metadata": {
        "id": "GKTJAO2TfIq_",
        "outputId": "0a9cb498-1d5f-4f98-875c-4e43014ae1b9",
        "colab": {
          "base_uri": "https://localhost:8080/"
        }
      },
      "source": [
        "# 将特征值映射列表转换为向量\n",
        "dv = DictVectorizer(sparse=False)\n",
        "D = [{'foo':1, 'bar':2}, {'foo':3, 'baz': 2}]\n",
        "X = dv.fit_transform(D)\n",
        "print (X)\n",
        "print (dv.get_feature_names())\n",
        "print (dv.transform({'foo':4, 'unseen':3}))"
      ],
      "execution_count": 23,
      "outputs": [
        {
          "output_type": "stream",
          "text": [
            "[[2. 0. 1.]\n",
            " [0. 2. 3.]]\n",
            "['bar', 'baz', 'foo']\n",
            "[[0. 0. 4.]]\n"
          ],
          "name": "stdout"
        }
      ]
    },
    {
      "cell_type": "code",
      "metadata": {
        "id": "WDU9GLx1gCZ7",
        "outputId": "ee5ddc0e-c957-4ced-da1a-1c1945d1130b",
        "colab": {
          "base_uri": "https://localhost:8080/"
        }
      },
      "source": [
        "# hash转换\n",
        "h = FeatureHasher(n_features=10)\n",
        "D = [{'dog': 1, 'cat':2, 'elephant':4},{'dog': 2, 'run': 5}]\n",
        "f = h.transform(D)\n",
        "f.toarray()"
      ],
      "execution_count": 27,
      "outputs": [
        {
          "output_type": "execute_result",
          "data": {
            "text/plain": [
              "array([[ 0.,  0., -4., -1.,  0.,  0.,  0.,  0.,  0.,  2.],\n",
              "       [ 0.,  0.,  0., -2., -5.,  0.,  0.,  0.,  0.,  0.]])"
            ]
          },
          "metadata": {
            "tags": []
          },
          "execution_count": 27
        }
      ]
    },
    {
      "cell_type": "markdown",
      "metadata": {
        "id": "CNa-Zs8zhL-J"
      },
      "source": [
        "二值化"
      ]
    },
    {
      "cell_type": "code",
      "metadata": {
        "id": "_wO69_nKg8CC"
      },
      "source": [
        "import numpy as np\n",
        "from sklearn.preprocessing import Binarizer"
      ],
      "execution_count": 28,
      "outputs": []
    },
    {
      "cell_type": "code",
      "metadata": {
        "id": "oLUsdhcihVOs"
      },
      "source": [
        "arr = np.array([\n",
        "    [1.5, 1.3, 1.9],\n",
        "    [0.5, 0.5, 1.6],\n",
        "    [1.1, 2.1, 0.2]\n",
        "])"
      ],
      "execution_count": 29,
      "outputs": []
    },
    {
      "cell_type": "code",
      "metadata": {
        "id": "7J4oi-FXhiHZ",
        "outputId": "45d9957d-d284-4995-e614-f7d608071f21",
        "colab": {
          "base_uri": "https://localhost:8080/"
        }
      },
      "source": [
        "binarizer = Binarizer(threshold=1.4).fit(arr)\n",
        "binarizer"
      ],
      "execution_count": 32,
      "outputs": [
        {
          "output_type": "execute_result",
          "data": {
            "text/plain": [
              "Binarizer(copy=True, threshold=1.4)"
            ]
          },
          "metadata": {
            "tags": []
          },
          "execution_count": 32
        }
      ]
    },
    {
      "cell_type": "code",
      "metadata": {
        "id": "Usxe8sjuhkxl",
        "outputId": "aace1d48-c61e-4d46-f2b8-3736ea479f17",
        "colab": {
          "base_uri": "https://localhost:8080/"
        }
      },
      "source": [
        "binarizer.transform(arr)"
      ],
      "execution_count": 33,
      "outputs": [
        {
          "output_type": "execute_result",
          "data": {
            "text/plain": [
              "array([[1., 0., 1.],\n",
              "       [0., 0., 1.],\n",
              "       [0., 1., 0.]])"
            ]
          },
          "metadata": {
            "tags": []
          },
          "execution_count": 33
        }
      ]
    },
    {
      "cell_type": "markdown",
      "metadata": {
        "id": "Q3fkaVhyiybp"
      },
      "source": [
        "标准化"
      ]
    },
    {
      "cell_type": "code",
      "metadata": {
        "id": "bFXeTQYyixCd"
      },
      "source": [
        "from sklearn.preprocessing import StandardScaler\n"
      ],
      "execution_count": 35,
      "outputs": []
    },
    {
      "cell_type": "code",
      "metadata": {
        "id": "hvsjO86Ni5ow"
      },
      "source": [
        "X = [\n",
        "    [1, 2, 3, 2],\n",
        "    [7, 8, 9, 2.01],\n",
        "    [4, 8, 2, 2.01],\n",
        "    [9, 5, 2, 1.99],\n",
        "    [7, 5, 3, 1.99],\n",
        "    [1, 4, 9, 2]\n",
        "]"
      ],
      "execution_count": 36,
      "outputs": []
    },
    {
      "cell_type": "code",
      "metadata": {
        "id": "P8KNj_WBi7JD",
        "outputId": "8540da1f-347c-4115-d31c-e4009962949e",
        "colab": {
          "base_uri": "https://localhost:8080/"
        }
      },
      "source": [
        "ss = StandardScaler(with_mean=True, with_std=True)\n",
        "ss.fit(X)"
      ],
      "execution_count": 37,
      "outputs": [
        {
          "output_type": "execute_result",
          "data": {
            "text/plain": [
              "StandardScaler(copy=True, with_mean=True, with_std=True)"
            ]
          },
          "metadata": {
            "tags": []
          },
          "execution_count": 37
        }
      ]
    },
    {
      "cell_type": "code",
      "metadata": {
        "id": "NX4A3z8KjFOx",
        "outputId": "775f5b20-84f3-4f39-a475-30730f7ba637",
        "colab": {
          "base_uri": "https://localhost:8080/"
        }
      },
      "source": [
        "print(ss.mean_)\n",
        "print(ss.n_samples_seen_)\n",
        "print(ss.scale_)"
      ],
      "execution_count": 39,
      "outputs": [
        {
          "output_type": "stream",
          "text": [
            "[4.83333333 5.33333333 4.66666667 2.        ]\n",
            "6\n",
            "[3.07769755 2.13437475 3.09120617 0.00816497]\n"
          ],
          "name": "stdout"
        }
      ]
    },
    {
      "cell_type": "code",
      "metadata": {
        "id": "I3yLg7oSjTT5",
        "outputId": "b46513f6-2519-4e8a-e4b3-7b54e38f7b26",
        "colab": {
          "base_uri": "https://localhost:8080/"
        }
      },
      "source": [
        "print(ss.transform(X))"
      ],
      "execution_count": 40,
      "outputs": [
        {
          "output_type": "stream",
          "text": [
            "[[-1.24551983 -1.56173762 -0.53916387  0.        ]\n",
            " [ 0.70398947  1.2493901   1.40182605  1.22474487]\n",
            " [-0.27076518  1.2493901  -0.86266219  1.22474487]\n",
            " [ 1.3538259  -0.15617376 -0.86266219 -1.22474487]\n",
            " [ 0.70398947 -0.15617376 -0.53916387 -1.22474487]\n",
            " [-1.24551983 -0.62469505  1.40182605  0.        ]]\n"
          ],
          "name": "stdout"
        }
      ]
    },
    {
      "cell_type": "markdown",
      "metadata": {
        "id": "M0Xzcirmjhgn"
      },
      "source": [
        ""
      ]
    }
  ]
}