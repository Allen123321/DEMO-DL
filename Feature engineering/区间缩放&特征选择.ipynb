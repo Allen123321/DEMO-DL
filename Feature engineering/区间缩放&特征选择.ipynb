{
  "nbformat": 4,
  "nbformat_minor": 0,
  "metadata": {
    "colab": {
      "name": "区间缩放&特征选择.ipynb",
      "provenance": [],
      "authorship_tag": "ABX9TyPrm5cKCsyVw8SvQ9wg+eJ1",
      "include_colab_link": true
    },
    "kernelspec": {
      "name": "python3",
      "display_name": "Python 3"
    }
  },
  "cells": [
    {
      "cell_type": "markdown",
      "metadata": {
        "id": "view-in-github",
        "colab_type": "text"
      },
      "source": [
        "<a href=\"https://colab.research.google.com/github/Allen123321/DEMO-DL/blob/master/%E5%8C%BA%E9%97%B4%E7%BC%A9%E6%94%BE%26%E7%89%B9%E5%BE%81%E9%80%89%E6%8B%A9.ipynb\" target=\"_parent\"><img src=\"https://colab.research.google.com/assets/colab-badge.svg\" alt=\"Open In Colab\"/></a>"
      ]
    },
    {
      "cell_type": "markdown",
      "metadata": {
        "id": "AKbdZ_ETPCGl"
      },
      "source": [
        "区间缩放"
      ]
    },
    {
      "cell_type": "code",
      "metadata": {
        "id": "C8ktD1mzGkwu"
      },
      "source": [
        "import numpy as np\n",
        "from sklearn.preprocessing import MinMaxScaler\n",
        "X = np.array([\n",
        "              [1,-1,2,3],\n",
        "              [2,0,0,3],\n",
        "              [0,1,-1,3]\n",
        "],dtype = np.float64)"
      ],
      "execution_count": 1,
      "outputs": []
    },
    {
      "cell_type": "code",
      "metadata": {
        "id": "wR4kTjIWNebx",
        "colab": {
          "base_uri": "https://localhost:8080/"
        },
        "outputId": "61b90a0b-43e9-4b71-d0b0-2a82c6a858b9"
      },
      "source": [
        "scaler = MinMaxScaler(feature_range=(1,5))\n",
        "scaler.fit(X)"
      ],
      "execution_count": 3,
      "outputs": [
        {
          "output_type": "execute_result",
          "data": {
            "text/plain": [
              "MinMaxScaler(copy=True, feature_range=(1, 5))"
            ]
          },
          "metadata": {
            "tags": []
          },
          "execution_count": 3
        }
      ]
    },
    {
      "cell_type": "code",
      "metadata": {
        "id": "j5Uu6JwQOWO6",
        "colab": {
          "base_uri": "https://localhost:8080/"
        },
        "outputId": "cc669cf7-f0c0-41d5-bf17-2bc3b43bf87f"
      },
      "source": [
        "print(scaler.data_max_)\n",
        "print(scaler.data_min_)\n",
        "print(scaler.data_range_)"
      ],
      "execution_count": 5,
      "outputs": [
        {
          "output_type": "stream",
          "text": [
            "[2. 1. 2. 3.]\n",
            "[ 0. -1. -1.  3.]\n",
            "[2. 2. 3. 0.]\n"
          ],
          "name": "stdout"
        }
      ]
    },
    {
      "cell_type": "code",
      "metadata": {
        "id": "eu0uTPQJOs-q",
        "colab": {
          "base_uri": "https://localhost:8080/"
        },
        "outputId": "33f08b14-c5f6-4827-9c63-fba5c40c7a92"
      },
      "source": [
        "print(scaler.transform(X))"
      ],
      "execution_count": 6,
      "outputs": [
        {
          "output_type": "stream",
          "text": [
            "[[3.         1.         5.         1.        ]\n",
            " [5.         3.         2.33333333 1.        ]\n",
            " [1.         5.         1.         1.        ]]\n"
          ],
          "name": "stdout"
        }
      ]
    },
    {
      "cell_type": "markdown",
      "metadata": {
        "id": "GUcrBJNdPG3O"
      },
      "source": [
        "归一化"
      ]
    },
    {
      "cell_type": "code",
      "metadata": {
        "id": "_yw_7GudPM9d"
      },
      "source": [
        "import numpy as np\n",
        "from sklearn.preprocessing import Normalizer"
      ],
      "execution_count": 7,
      "outputs": []
    },
    {
      "cell_type": "code",
      "metadata": {
        "id": "EnjecE1sP-oT"
      },
      "source": [
        "X1 = np.array([\n",
        "    [1, -1, 2],\n",
        "    [2, 0, 0],\n",
        "    [0, 1, -1]\n",
        "], dtype=np.float64)"
      ],
      "execution_count": 8,
      "outputs": []
    },
    {
      "cell_type": "code",
      "metadata": {
        "id": "Z-0g3csuQCU-",
        "colab": {
          "base_uri": "https://localhost:8080/"
        },
        "outputId": "2ceca05c-a02a-416f-b1a0-c04ead4d514a"
      },
      "source": [
        "normalizer1 = Normalizer(norm='max')\n",
        "normalizer2 = Normalizer(norm='l2')\n",
        "normalizer1.fit(X)\n",
        "normalizer2.fit(X)"
      ],
      "execution_count": 9,
      "outputs": [
        {
          "output_type": "execute_result",
          "data": {
            "text/plain": [
              "Normalizer(copy=True, norm='l2')"
            ]
          },
          "metadata": {
            "tags": []
          },
          "execution_count": 9
        }
      ]
    },
    {
      "cell_type": "code",
      "metadata": {
        "id": "MfcXDyuQQK_N",
        "colab": {
          "base_uri": "https://localhost:8080/"
        },
        "outputId": "2e1341da-3ba3-48a0-87c7-779e9dbd5672"
      },
      "source": [
        "print(normalizer1.transform(X1))\n",
        "print(\"----------------------------------\")\n",
        "print(normalizer2.transform(X1))"
      ],
      "execution_count": 10,
      "outputs": [
        {
          "output_type": "stream",
          "text": [
            "[[ 0.5 -0.5  1. ]\n",
            " [ 1.   0.   0. ]\n",
            " [ 0.   1.  -1. ]]\n",
            "----------------------------------\n",
            "[[ 0.40824829 -0.40824829  0.81649658]\n",
            " [ 1.          0.          0.        ]\n",
            " [ 0.          0.70710678 -0.70710678]]\n"
          ],
          "name": "stdout"
        }
      ]
    },
    {
      "cell_type": "markdown",
      "metadata": {
        "id": "0r5e_3wzZTdJ"
      },
      "source": [
        "多项式转换"
      ]
    },
    {
      "cell_type": "code",
      "metadata": {
        "id": "xNATYL6GZPKZ"
      },
      "source": [
        "import numpy as np\n",
        "from sklearn.preprocessing import PolynomialFeatures"
      ],
      "execution_count": 11,
      "outputs": []
    },
    {
      "cell_type": "code",
      "metadata": {
        "id": "WPitzXvMZ3rF",
        "colab": {
          "base_uri": "https://localhost:8080/"
        },
        "outputId": "88f9d1d1-b1c1-4e20-af90-3d20d2167bcf"
      },
      "source": [
        "X2= np.arange(6).reshape(3,2)\n",
        "X2"
      ],
      "execution_count": 12,
      "outputs": [
        {
          "output_type": "execute_result",
          "data": {
            "text/plain": [
              "array([[0, 1],\n",
              "       [2, 3],\n",
              "       [4, 5]])"
            ]
          },
          "metadata": {
            "tags": []
          },
          "execution_count": 12
        }
      ]
    },
    {
      "cell_type": "code",
      "metadata": {
        "id": "KWf9k8Y8aCTn",
        "colab": {
          "base_uri": "https://localhost:8080/"
        },
        "outputId": "fea1a95a-5537-4c42-aef5-4ea82379b353"
      },
      "source": [
        "poly1 = PolynomialFeatures(2)\n",
        "poly1.fit(X2)"
      ],
      "execution_count": 13,
      "outputs": [
        {
          "output_type": "execute_result",
          "data": {
            "text/plain": [
              "PolynomialFeatures(degree=2, include_bias=True, interaction_only=False,\n",
              "                   order='C')"
            ]
          },
          "metadata": {
            "tags": []
          },
          "execution_count": 13
        }
      ]
    },
    {
      "cell_type": "code",
      "metadata": {
        "id": "-RO-t9BJaPlV",
        "colab": {
          "base_uri": "https://localhost:8080/"
        },
        "outputId": "8e27883e-a863-4183-c447-d2dc08a610f9"
      },
      "source": [
        "print(poly1)\n",
        "print(poly1.transform(X2))"
      ],
      "execution_count": 14,
      "outputs": [
        {
          "output_type": "stream",
          "text": [
            "PolynomialFeatures(degree=2, include_bias=True, interaction_only=False,\n",
            "                   order='C')\n",
            "[[ 1.  0.  1.  0.  0.  1.]\n",
            " [ 1.  2.  3.  4.  6.  9.]\n",
            " [ 1.  4.  5. 16. 20. 25.]]\n"
          ],
          "name": "stdout"
        }
      ]
    },
    {
      "cell_type": "code",
      "metadata": {
        "id": "ybtHJ73qabO3",
        "colab": {
          "base_uri": "https://localhost:8080/"
        },
        "outputId": "3deee1c7-42a3-49bf-b028-e2b7e25ebe5d"
      },
      "source": [
        "poly2 = PolynomialFeatures(interaction_only= True)\n",
        "poly2.fit(X2)\n",
        "print(poly2)\n",
        "print(poly2.transform(X2))"
      ],
      "execution_count": 15,
      "outputs": [
        {
          "output_type": "stream",
          "text": [
            "PolynomialFeatures(degree=2, include_bias=True, interaction_only=True,\n",
            "                   order='C')\n",
            "[[ 1.  0.  1.  0.]\n",
            " [ 1.  2.  3.  6.]\n",
            " [ 1.  4.  5. 20.]]\n"
          ],
          "name": "stdout"
        }
      ]
    },
    {
      "cell_type": "code",
      "metadata": {
        "id": "ZVQ-wiKCbD4A",
        "colab": {
          "base_uri": "https://localhost:8080/"
        },
        "outputId": "06751a64-95d1-44f5-8cbc-3c77734cf78a"
      },
      "source": [
        "poly3 = PolynomialFeatures(include_bias=False)\n",
        "poly3.fit(X2)\n",
        "print(poly3)\n",
        "print(poly3.transform(X2))"
      ],
      "execution_count": 16,
      "outputs": [
        {
          "output_type": "stream",
          "text": [
            "PolynomialFeatures(degree=2, include_bias=False, interaction_only=False,\n",
            "                   order='C')\n",
            "[[ 0.  1.  0.  0.  1.]\n",
            " [ 2.  3.  4.  6.  9.]\n",
            " [ 4.  5. 16. 20. 25.]]\n"
          ],
          "name": "stdout"
        }
      ]
    },
    {
      "cell_type": "markdown",
      "metadata": {
        "id": "vNU0DQrebx7H"
      },
      "source": [
        "特征选择"
      ]
    },
    {
      "cell_type": "code",
      "metadata": {
        "id": "jtn50FRRb1cs"
      },
      "source": [
        "import numpy as np\n",
        "from sklearn.feature_selection import VarianceThreshold,SelectKBest\n",
        "from sklearn.feature_selection import f_regression\n",
        "from sklearn.feature_selection import chi2\n",
        "from sklearn.feature_selection import RFE\n",
        "from sklearn.feature_selection import SelectFromModel\n",
        "from sklearn.linear_model import LogisticRegression\n",
        "from sklearn.svm import SVR\n",
        "from sklearn.ensemble import GradientBoostingClassifier"
      ],
      "execution_count": 17,
      "outputs": []
    },
    {
      "cell_type": "code",
      "metadata": {
        "id": "-KULJH0ecEwo"
      },
      "source": [
        "X3 = np.array([\n",
        "    [0, 2, 0, 3],\n",
        "    [0, 1, 4, 3],\n",
        "    [0.1, 1, 1, 3]\n",
        "], dtype=np.float64)\n",
        "Y = np.array([1,2,1])"
      ],
      "execution_count": 25,
      "outputs": []
    },
    {
      "cell_type": "code",
      "metadata": {
        "id": "8uTL0BUmcJ8F",
        "colab": {
          "base_uri": "https://localhost:8080/"
        },
        "outputId": "d2cdee15-8a75-4e2a-992f-3780211277e4"
      },
      "source": [
        "variance = VarianceThreshold(threshold=0.1)\n",
        "print(variance)\n",
        "variance.fit(X3)\n",
        "print(variance.transform(X3))"
      ],
      "execution_count": 26,
      "outputs": [
        {
          "output_type": "stream",
          "text": [
            "VarianceThreshold(threshold=0.1)\n",
            "[[2. 0.]\n",
            " [1. 4.]\n",
            " [1. 1.]]\n"
          ],
          "name": "stdout"
        }
      ]
    },
    {
      "cell_type": "code",
      "metadata": {
        "id": "vdDgOGdIcjyK",
        "colab": {
          "base_uri": "https://localhost:8080/"
        },
        "outputId": "188fb7cf-3bec-4a3f-a575-77d028512184"
      },
      "source": [
        "sk1 = SelectKBest(f_regression,k=2)\n",
        "sk1.fit(X3,Y)\n",
        "print(sk1)\n",
        "print(sk1.scores_)\n",
        "print(sk1.transform(X3))"
      ],
      "execution_count": 27,
      "outputs": [
        {
          "output_type": "stream",
          "text": [
            "SelectKBest(k=2, score_func=<function f_regression at 0x7f6ec381d158>)\n",
            "[ 0.33333333  0.33333333 16.33333333         nan]\n",
            "[[0.  0. ]\n",
            " [0.  4. ]\n",
            " [0.1 1. ]]\n"
          ],
          "name": "stdout"
        },
        {
          "output_type": "stream",
          "text": [
            "/usr/local/lib/python3.6/dist-packages/sklearn/feature_selection/_univariate_selection.py:299: RuntimeWarning: divide by zero encountered in true_divide\n",
            "  corr /= X_norms\n",
            "/usr/local/lib/python3.6/dist-packages/sklearn/feature_selection/_univariate_selection.py:304: RuntimeWarning: invalid value encountered in true_divide\n",
            "  F = corr ** 2 / (1 - corr ** 2) * degrees_of_freedom\n",
            "/usr/local/lib/python3.6/dist-packages/scipy/stats/_distn_infrastructure.py:903: RuntimeWarning: invalid value encountered in greater\n",
            "  return (a < x) & (x < b)\n",
            "/usr/local/lib/python3.6/dist-packages/scipy/stats/_distn_infrastructure.py:903: RuntimeWarning: invalid value encountered in less\n",
            "  return (a < x) & (x < b)\n",
            "/usr/local/lib/python3.6/dist-packages/scipy/stats/_distn_infrastructure.py:1912: RuntimeWarning: invalid value encountered in less_equal\n",
            "  cond2 = cond0 & (x <= _a)\n"
          ],
          "name": "stderr"
        }
      ]
    },
    {
      "cell_type": "markdown",
      "metadata": {
        "id": "puIGMocfuVzM"
      },
      "source": [
        "卡方检验 自变量对定性因变量的相关性"
      ]
    },
    {
      "cell_type": "code",
      "metadata": {
        "id": "9c-hqYT8grfH",
        "colab": {
          "base_uri": "https://localhost:8080/"
        },
        "outputId": "d374b50b-d8b9-4f46-938c-4a232f1528f0"
      },
      "source": [
        "sk2 = SelectKBest(chi2, k=2)\n",
        "sk2.fit(X3, Y)\n",
        "print(sk2)\n",
        "print(sk2.scores_)\n",
        "print(sk2.transform(X3))"
      ],
      "execution_count": 28,
      "outputs": [
        {
          "output_type": "stream",
          "text": [
            "SelectKBest(k=2, score_func=<function chi2 at 0x7f6ec381d0d0>)\n",
            "[0.05  0.125 4.9   0.   ]\n",
            "[[2. 0.]\n",
            " [1. 4.]\n",
            " [1. 1.]]\n"
          ],
          "name": "stdout"
        }
      ]
    },
    {
      "cell_type": "markdown",
      "metadata": {
        "id": "_HceZl-Lu1ei"
      },
      "source": [
        "递归特征消除法：使用一个基模型来进行多轮训练，每轮训练后，消除若干权值系数的特征，在基于新的特征集进行下一轮的训练。"
      ]
    },
    {
      "cell_type": "code",
      "metadata": {
        "colab": {
          "base_uri": "https://localhost:8080/"
        },
        "id": "LsF77uPJsUq6",
        "outputId": "20fa09c8-1a0e-46fa-a5db-6ff0b873e77c"
      },
      "source": [
        "estimator = SVR(kernel='linear')\n",
        "selector = RFE(estimator, 2, step=1)\n",
        "selector = selector.fit(X3, Y)\n",
        "print(selector.support_)\n",
        "print(selector.n_features_)\n",
        "print(selector.ranking_)\n",
        "print(selector.transform(X3))"
      ],
      "execution_count": 30,
      "outputs": [
        {
          "output_type": "stream",
          "text": [
            "[False  True  True False]\n",
            "2\n",
            "[2 1 1 3]\n",
            "[[2. 0.]\n",
            " [1. 4.]\n",
            " [1. 1.]]\n"
          ],
          "name": "stdout"
        }
      ]
    },
    {
      "cell_type": "markdown",
      "metadata": {
        "id": "CByMOAnQyK9d"
      },
      "source": [
        "基于惩罚项的选择方法，"
      ]
    },
    {
      "cell_type": "code",
      "metadata": {
        "colab": {
          "base_uri": "https://localhost:8080/"
        },
        "id": "uuDi8LwfwkWS",
        "outputId": "68ddc995-1ed9-4b0f-834a-3320c254fbc7"
      },
      "source": [
        "X4 = np.array([\n",
        "    [ 5.1,  3.5,  1.4,  0.2],\n",
        "    [ 4.9,  3. ,  1.4,  0.2],\n",
        "    [ -6.2,  0.4,  5.4,  2.3],\n",
        "    [ -5.9,  0. ,  5.1,  1.8]\n",
        "], dtype=np.float64)\n",
        "Y4 = np.array([0, 0, 2, 2])\n",
        "estimator = LogisticRegression(penalty='l1', C=0.1,solver='liblinear')\n",
        "sfm = SelectFromModel(estimator)\n",
        "sfm.fit(X4,Y4)\n",
        "print(sfm.transform(X4))"
      ],
      "execution_count": 33,
      "outputs": [
        {
          "output_type": "stream",
          "text": [
            "[[ 5.1]\n",
            " [ 4.9]\n",
            " [-6.2]\n",
            " [-5.9]]\n"
          ],
          "name": "stdout"
        }
      ]
    },
    {
      "cell_type": "code",
      "metadata": {
        "colab": {
          "base_uri": "https://localhost:8080/"
        },
        "id": "d4DJHNlez7jq",
        "outputId": "4070056f-627d-462f-e29e-6bd591b849d3"
      },
      "source": [
        "estimator = GradientBoostingClassifier()\n",
        "sfm = SelectFromModel(estimator)\n",
        "sfm.fit(X4, Y4)\n",
        "print(sfm.transform(X4))"
      ],
      "execution_count": 34,
      "outputs": [
        {
          "output_type": "stream",
          "text": [
            "[[ 5.1  3.5]\n",
            " [ 4.9  3. ]\n",
            " [-6.2  0.4]\n",
            " [-5.9  0. ]]\n"
          ],
          "name": "stdout"
        }
      ]
    },
    {
      "cell_type": "markdown",
      "metadata": {
        "id": "s_NoDAIS1Pn3"
      },
      "source": [
        "特征选取\n",
        "主成分分析，降维\n",
        "\n",
        "\n"
      ]
    },
    {
      "cell_type": "code",
      "metadata": {
        "colab": {
          "base_uri": "https://localhost:8080/"
        },
        "id": "wxCZWa9M0YxD",
        "outputId": "a81aecc8-cbe6-4d57-f7b7-9d1a41b39151"
      },
      "source": [
        "from sklearn.decomposition import PCA\n",
        "pca = PCA(n_components=2)\n",
        "pca.fit(X4)\n",
        "print(pca.mean_)\n",
        "print(pca.components_)\n",
        "print(pca.transform(X4))"
      ],
      "execution_count": 36,
      "outputs": [
        {
          "output_type": "stream",
          "text": [
            "[-0.525  1.725  3.325  1.125]\n",
            "[[-0.90319637 -0.24920124  0.31484024  0.15169269]\n",
            " [ 0.03919747 -0.80616444 -0.27357029 -0.52318424]]\n",
            "[[-6.26919501 -0.19988789]\n",
            " [-5.96395512  0.19535484]\n",
            " [ 6.28736349 -0.33667759]\n",
            " [ 5.94578665  0.34121064]]\n"
          ],
          "name": "stdout"
        }
      ]
    },
    {
      "cell_type": "markdown",
      "metadata": {
        "id": "9_RgUkMl1XW5"
      },
      "source": [
        "线性判别分析法"
      ]
    },
    {
      "cell_type": "code",
      "metadata": {
        "colab": {
          "base_uri": "https://localhost:8080/"
        },
        "id": "aoGYOvjf0qvV",
        "outputId": "45e1a0e8-a9fe-4b87-c5e9-ef0d29f9b656"
      },
      "source": [
        "from sklearn.discriminant_analysis import LinearDiscriminantAnalysis \n",
        "lda = LinearDiscriminantAnalysis(n_components=2)\n",
        "lda.fit(X4, Y4)\n",
        "print(lda.transform(X4))\n"
      ],
      "execution_count": 37,
      "outputs": [
        {
          "output_type": "stream",
          "text": [
            "[[-27.18468036]\n",
            " [-25.44008732]\n",
            " [ 26.80136112]\n",
            " [ 25.82340656]]\n"
          ],
          "name": "stdout"
        },
        {
          "output_type": "stream",
          "text": [
            "/usr/local/lib/python3.6/dist-packages/sklearn/discriminant_analysis.py:463: ChangedBehaviorWarning: n_components cannot be larger than min(n_features, n_classes - 1). Using min(n_features, n_classes - 1) = min(4, 2 - 1) = 1 components.\n",
            "  ChangedBehaviorWarning)\n",
            "/usr/local/lib/python3.6/dist-packages/sklearn/discriminant_analysis.py:469: FutureWarning: In version 0.23, setting n_components > min(n_features, n_classes - 1) will raise a ValueError. You should set n_components to None (default), or a value smaller or equal to min(n_features, n_classes - 1).\n",
            "  warnings.warn(future_msg, FutureWarning)\n"
          ],
          "name": "stderr"
        }
      ]
    }
  ]
}