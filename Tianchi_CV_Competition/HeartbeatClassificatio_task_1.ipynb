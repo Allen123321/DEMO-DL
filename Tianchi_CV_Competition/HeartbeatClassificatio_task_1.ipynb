{
  "nbformat": 4,
  "nbformat_minor": 0,
  "metadata": {
    "colab": {
      "name": "HeartbeatClassificatio --- task-1.ipynb",
      "provenance": [],
      "toc_visible": true,
      "mount_file_id": "1URVMggS3FhAr-TA_VIC39TPq9SHjR7L8",
      "authorship_tag": "ABX9TyNeEBnQOTmql0exhHQMgYFJ",
      "include_colab_link": true
    },
    "kernelspec": {
      "name": "python3",
      "display_name": "Python 3"
    },
    "language_info": {
      "name": "python"
    },
    "accelerator": "GPU"
  },
  "cells": [
    {
      "cell_type": "markdown",
      "metadata": {
        "id": "view-in-github",
        "colab_type": "text"
      },
      "source": [
        "<a href=\"https://colab.research.google.com/github/Allen123321/DEMO-DL/blob/master/HeartbeatClassificatio_task_1.ipynb\" target=\"_parent\"><img src=\"https://colab.research.google.com/assets/colab-badge.svg\" alt=\"Open In Colab\"/></a>"
      ]
    },
    {
      "cell_type": "markdown",
      "metadata": {
        "id": "kFhxBDuq1GXr"
      },
      "source": [
        "任务说明：根据给定的数据集，建立模型，预测不同的心跳信号。<br>\n",
        "预测心电图心跳信号类别为任务，数据集报名后可见并可下载，该该数据来自某平台心电图数据记录，总数据量超过20万，主要为1列心跳信号序列数据，其中每个样本的信号序列采样频次一致，长度相等。为了保证比赛的公平性，将会从中抽取10万条作为训练集，2万条作为测试集A，2万条作为测试集B，同时会对心跳信号类别（label）信息进行脱敏。\n",
        "+ 准确率（Accuracy）\n",
        "$$ Accuracy=\\frac{Correct}{Total}\\  Accuracy = \\frac{TP + TN}{TP + TN + FP + FN} $$ \n",
        "\n",
        "+ 精确率(Precision)是针对预测结果而言的，其含义是在被所有预测为正的样本中实际为正样本的概率\n",
        "$$ Precision = \\frac{TP}{TP + FP} $$ \n",
        "\n",
        "+ 召回率(Recall)是针对原样本而言的，其含义是在实际为正的样本中被预测为正样本的概率。\n",
        " $$ Recall = \\frac{TP}{TP + FN} $$\n",
        "\n",
        "+ 宏查准率（macro-P）\n",
        "\n",
        "计算每个样本的精确率然后求平均值 $$ {macroP=\\frac{{1}}{{n}}{\\mathop{ \\sum }\\limits_{{1}}^{{n}}{p\\mathop{{}}\\nolimits_{{i}}}}} $$ \n",
        "+ 宏查全率（macro-R）\n",
        "计算每个样本的召回率然后求平均值 $$ {macroR=\\frac{{1}}{{n}}{\\mathop{ \\sum }\\limits_{{1}}^{{n}}{R\\mathop{{}}\\nolimits_{{i}}}}} $$\n",
        "\n",
        "+ 宏F1（macro-F1） $$ {macroF1=\\frac{{2 \\times macroP \\times macroR}}{{macroP+macroR}}} $$ \n",
        "\n",
        "微查准查全，先将多个混淆矩阵的TP,FP,TN,FN对应位置求平均，然后按照P和R的公式求得micro-P和micro-R，最后根据micro-P和micro-R求得micro-F1\n",
        "+ 微查准率（micro-P） $$ {microP=\\frac{{\\overline{TP}}}{{\\overline{TP} \\times \\overline{FP}}}} $$ \n",
        "+ 微查全率（micro-R） $$ {microR=\\frac{{\\overline{TP}}}{{\\overline{TP} \\times \\overline{FN}}}} $$ \n",
        "+ 微F1（micro-F1） $$ {microF1=\\frac{{2 \\times microP\\times microR }}{{microP+microR}}} $$"
      ]
    },
    {
      "cell_type": "markdown",
      "metadata": {
        "id": "ttFxPEUm39WN"
      },
      "source": [
        "## 数据读取pandas\n",
        "\n",
        "\n"
      ]
    },
    {
      "cell_type": "code",
      "metadata": {
        "colab": {
          "base_uri": "https://localhost:8080/"
        },
        "id": "aQV7T6qx0_ur",
        "outputId": "d3d52146-d610-4172-e80a-f7d1fdbf05c6"
      },
      "source": [
        "import pandas as pd\n",
        "import numpy as np\n",
        "\n",
        "path = \"/content/drive/MyDrive/dataset/heartbeat-data/\"\n",
        "train_data=pd.read_csv(path+'train.csv')\n",
        "test_data=pd.read_csv(path+'testA.csv')\n",
        "print('Train data shape:',train_data.shape)\n",
        "print('TestA data shape:',test_data.shape)"
      ],
      "execution_count": 11,
      "outputs": [
        {
          "output_type": "stream",
          "text": [
            "Train data shape: (100000, 3)\n",
            "TestA data shape: (20000, 2)\n"
          ],
          "name": "stdout"
        }
      ]
    },
    {
      "cell_type": "markdown",
      "metadata": {
        "id": "tggwmpLX6abZ"
      },
      "source": [
        "## 分类指标计算示例"
      ]
    },
    {
      "cell_type": "code",
      "metadata": {
        "colab": {
          "base_uri": "https://localhost:8080/"
        },
        "id": "BdcrLyFg6b_B",
        "outputId": "3fc5c918-9595-474f-a482-0e3cdcbb7a6f"
      },
      "source": [
        "from sklearn.metrics import accuracy_score, precision_score, recall_score\n",
        "from sklearn.metrics import f1_score\n",
        "y_true    = [1, 1, 1, 1, 1, 2, 2, 2, 2, 3, 3, 3, 4, 4,5,5,6,6,6,0,0,0,0] #真实值\n",
        "y_pred = [1, 1, 1, 3, 3, 2, 2, 3, 3, 3, 4, 3, 4, 3,5,1,3,6,6,1,1,0,6] #预测值\n",
        "#计算准确率\n",
        "print(\"accuracy:\", accuracy_score(y_true, y_pred))\n",
        "#计算精确率\n",
        "#计算macro_precision\n",
        "print(\"macro_precision\", precision_score(y_true, y_pred, average='macro'))\n",
        "#计算micro_precision\n",
        "print(\"micro_precision\", precision_score(y_true, y_pred, average='micro'))\n",
        "#计算召回率\n",
        "#计算macro_recall\n",
        "print(\"macro_recall\", recall_score(y_true, y_pred, average='macro'))\n",
        "#计算micro_recall\n",
        "print(\"micro_recall\", recall_score(y_true, y_pred, average='micro'))\n",
        "#计算F1\n",
        "#计算macro_f1\n",
        "print(\"macro_f1\", f1_score(y_true, y_pred, average='macro'))\n",
        "#计算micro_f1\n",
        "print(\"micro_f1\", f1_score(y_true, y_pred, average='micro'))"
      ],
      "execution_count": 2,
      "outputs": [
        {
          "output_type": "stream",
          "text": [
            "accuracy: 0.5217391304347826\n",
            "macro_precision 0.7023809523809524\n",
            "micro_precision 0.5217391304347826\n",
            "macro_recall 0.5261904761904762\n",
            "micro_recall 0.5217391304347826\n",
            "macro_f1 0.5441558441558441\n",
            "micro_f1 0.5217391304347826\n"
          ],
          "name": "stdout"
        }
      ]
    },
    {
      "cell_type": "code",
      "metadata": {
        "id": "ASkECw3N65Rq"
      },
      "source": [
        "import numpy as np\n",
        "def abs_sum(y_pre,y_tru):\n",
        "    #y_pre为预测概率矩阵\n",
        "    #y_tru为真实类别矩阵\n",
        "    y_pre = np.array(y_pre)\n",
        "    y_tru = np.array(y_tru)\n",
        "    loss=sum(sum(abs(y_pre-y_tru)))\n",
        "    return loss"
      ],
      "execution_count": 7,
      "outputs": []
    },
    {
      "cell_type": "code",
      "metadata": {
        "colab": {
          "base_uri": "https://localhost:8080/"
        },
        "id": "7f8HtDOU66pk",
        "outputId": "3ea6808c-a67d-42e9-a93a-26a337a716c8"
      },
      "source": [
        "y_pre=[[0.1,0.1,0.7,0.1],[0.1,0.1,0.7,0.1]]\n",
        "y_tru=[[0,0,1,0],[0,0,1,0]]\n",
        "print(abs_sum(y_pre,y_tru))"
      ],
      "execution_count": 8,
      "outputs": [
        {
          "output_type": "stream",
          "text": [
            "1.2\n"
          ],
          "name": "stdout"
        }
      ]
    },
    {
      "cell_type": "markdown",
      "metadata": {
        "id": "9nrq0AvtDNsa"
      },
      "source": [
        "## task 代码示例"
      ]
    },
    {
      "cell_type": "code",
      "metadata": {
        "id": "YwUaGPtSDFMz"
      },
      "source": [
        "#导入warnings包，利用过滤器来实现忽略警告语句。\n",
        "import warnings\n",
        "warnings.filterwarnings('ignore')\n",
        "import missingno as msno\n",
        "import pandas as pd\n",
        "from pandas import DataFrame\n",
        "import matplotlib.pyplot as plt \n",
        "import seaborn as sns\n",
        "import numpy as np"
      ],
      "execution_count": 12,
      "outputs": []
    },
    {
      "cell_type": "code",
      "metadata": {
        "id": "hQo7VF2cDXaG"
      },
      "source": [
        "import pandas as pd\n",
        "from pandas import DataFrame, Series\n",
        "import matplotlib.pyplot as plt\n",
        "Train_data = pd.read_csv(path+'train.csv')"
      ],
      "execution_count": 13,
      "outputs": []
    },
    {
      "cell_type": "code",
      "metadata": {
        "id": "btxFTLxgDksz"
      },
      "source": [
        "Test_data = pd.read_csv(path+'testA.csv')"
      ],
      "execution_count": 14,
      "outputs": []
    },
    {
      "cell_type": "code",
      "metadata": {
        "colab": {
          "base_uri": "https://localhost:8080/",
          "height": 345
        },
        "id": "TPnmImtyDrZ9",
        "outputId": "fecc74e0-6292-4974-f6ce-ab13c96918aa"
      },
      "source": [
        "Train_data.head().append(Train_data.tail())"
      ],
      "execution_count": 16,
      "outputs": [
        {
          "output_type": "execute_result",
          "data": {
            "text/html": [
              "<div>\n",
              "<style scoped>\n",
              "    .dataframe tbody tr th:only-of-type {\n",
              "        vertical-align: middle;\n",
              "    }\n",
              "\n",
              "    .dataframe tbody tr th {\n",
              "        vertical-align: top;\n",
              "    }\n",
              "\n",
              "    .dataframe thead th {\n",
              "        text-align: right;\n",
              "    }\n",
              "</style>\n",
              "<table border=\"1\" class=\"dataframe\">\n",
              "  <thead>\n",
              "    <tr style=\"text-align: right;\">\n",
              "      <th></th>\n",
              "      <th>id</th>\n",
              "      <th>heartbeat_signals</th>\n",
              "      <th>label</th>\n",
              "    </tr>\n",
              "  </thead>\n",
              "  <tbody>\n",
              "    <tr>\n",
              "      <th>0</th>\n",
              "      <td>0</td>\n",
              "      <td>0.9912297987616655,0.9435330436439665,0.764677...</td>\n",
              "      <td>0.0</td>\n",
              "    </tr>\n",
              "    <tr>\n",
              "      <th>1</th>\n",
              "      <td>1</td>\n",
              "      <td>0.9714822034884503,0.9289687459588268,0.572932...</td>\n",
              "      <td>0.0</td>\n",
              "    </tr>\n",
              "    <tr>\n",
              "      <th>2</th>\n",
              "      <td>2</td>\n",
              "      <td>1.0,0.9591487564065292,0.7013782792997189,0.23...</td>\n",
              "      <td>2.0</td>\n",
              "    </tr>\n",
              "    <tr>\n",
              "      <th>3</th>\n",
              "      <td>3</td>\n",
              "      <td>0.9757952826275774,0.9340884687738161,0.659636...</td>\n",
              "      <td>0.0</td>\n",
              "    </tr>\n",
              "    <tr>\n",
              "      <th>4</th>\n",
              "      <td>4</td>\n",
              "      <td>0.0,0.055816398940721094,0.26129357194994196,0...</td>\n",
              "      <td>2.0</td>\n",
              "    </tr>\n",
              "    <tr>\n",
              "      <th>99995</th>\n",
              "      <td>99995</td>\n",
              "      <td>1.0,0.677705342021188,0.22239242747868546,0.25...</td>\n",
              "      <td>0.0</td>\n",
              "    </tr>\n",
              "    <tr>\n",
              "      <th>99996</th>\n",
              "      <td>99996</td>\n",
              "      <td>0.9268571578157265,0.9063471198026871,0.636993...</td>\n",
              "      <td>2.0</td>\n",
              "    </tr>\n",
              "    <tr>\n",
              "      <th>99997</th>\n",
              "      <td>99997</td>\n",
              "      <td>0.9258351628306013,0.5873839035878395,0.633226...</td>\n",
              "      <td>3.0</td>\n",
              "    </tr>\n",
              "    <tr>\n",
              "      <th>99998</th>\n",
              "      <td>99998</td>\n",
              "      <td>1.0,0.9947621698382489,0.8297017704865509,0.45...</td>\n",
              "      <td>2.0</td>\n",
              "    </tr>\n",
              "    <tr>\n",
              "      <th>99999</th>\n",
              "      <td>99999</td>\n",
              "      <td>0.9259994004527861,0.916476635326053,0.4042900...</td>\n",
              "      <td>0.0</td>\n",
              "    </tr>\n",
              "  </tbody>\n",
              "</table>\n",
              "</div>"
            ],
            "text/plain": [
              "          id                                  heartbeat_signals  label\n",
              "0          0  0.9912297987616655,0.9435330436439665,0.764677...    0.0\n",
              "1          1  0.9714822034884503,0.9289687459588268,0.572932...    0.0\n",
              "2          2  1.0,0.9591487564065292,0.7013782792997189,0.23...    2.0\n",
              "3          3  0.9757952826275774,0.9340884687738161,0.659636...    0.0\n",
              "4          4  0.0,0.055816398940721094,0.26129357194994196,0...    2.0\n",
              "99995  99995  1.0,0.677705342021188,0.22239242747868546,0.25...    0.0\n",
              "99996  99996  0.9268571578157265,0.9063471198026871,0.636993...    2.0\n",
              "99997  99997  0.9258351628306013,0.5873839035878395,0.633226...    3.0\n",
              "99998  99998  1.0,0.9947621698382489,0.8297017704865509,0.45...    2.0\n",
              "99999  99999  0.9259994004527861,0.916476635326053,0.4042900...    0.0"
            ]
          },
          "metadata": {
            "tags": []
          },
          "execution_count": 16
        }
      ]
    },
    {
      "cell_type": "code",
      "metadata": {
        "colab": {
          "base_uri": "https://localhost:8080/"
        },
        "id": "WNPAnAK5D1et",
        "outputId": "f3149843-8361-4950-f684-f46cb4849205"
      },
      "source": [
        "Train_data.shape"
      ],
      "execution_count": 17,
      "outputs": [
        {
          "output_type": "execute_result",
          "data": {
            "text/plain": [
              "(100000, 3)"
            ]
          },
          "metadata": {
            "tags": []
          },
          "execution_count": 17
        }
      ]
    },
    {
      "cell_type": "code",
      "metadata": {
        "colab": {
          "base_uri": "https://localhost:8080/",
          "height": 345
        },
        "id": "zxta5ODBD4We",
        "outputId": "4768ad14-3e0f-4672-a2bf-71f5ddbcc204"
      },
      "source": [
        "Test_data.head().append(Test_data.tail())"
      ],
      "execution_count": 18,
      "outputs": [
        {
          "output_type": "execute_result",
          "data": {
            "text/html": [
              "<div>\n",
              "<style scoped>\n",
              "    .dataframe tbody tr th:only-of-type {\n",
              "        vertical-align: middle;\n",
              "    }\n",
              "\n",
              "    .dataframe tbody tr th {\n",
              "        vertical-align: top;\n",
              "    }\n",
              "\n",
              "    .dataframe thead th {\n",
              "        text-align: right;\n",
              "    }\n",
              "</style>\n",
              "<table border=\"1\" class=\"dataframe\">\n",
              "  <thead>\n",
              "    <tr style=\"text-align: right;\">\n",
              "      <th></th>\n",
              "      <th>id</th>\n",
              "      <th>heartbeat_signals</th>\n",
              "    </tr>\n",
              "  </thead>\n",
              "  <tbody>\n",
              "    <tr>\n",
              "      <th>0</th>\n",
              "      <td>100000</td>\n",
              "      <td>0.9915713654170097,1.0,0.6318163407681274,0.13...</td>\n",
              "    </tr>\n",
              "    <tr>\n",
              "      <th>1</th>\n",
              "      <td>100001</td>\n",
              "      <td>0.6075533139615096,0.5417083883163654,0.340694...</td>\n",
              "    </tr>\n",
              "    <tr>\n",
              "      <th>2</th>\n",
              "      <td>100002</td>\n",
              "      <td>0.9752726292239277,0.6710965234906665,0.686758...</td>\n",
              "    </tr>\n",
              "    <tr>\n",
              "      <th>3</th>\n",
              "      <td>100003</td>\n",
              "      <td>0.9956348033996116,0.9170249621481004,0.521096...</td>\n",
              "    </tr>\n",
              "    <tr>\n",
              "      <th>4</th>\n",
              "      <td>100004</td>\n",
              "      <td>1.0,0.8879490481178918,0.745564725322326,0.531...</td>\n",
              "    </tr>\n",
              "    <tr>\n",
              "      <th>19995</th>\n",
              "      <td>119995</td>\n",
              "      <td>1.0,0.8330283177934747,0.6340472606311671,0.63...</td>\n",
              "    </tr>\n",
              "    <tr>\n",
              "      <th>19996</th>\n",
              "      <td>119996</td>\n",
              "      <td>1.0,0.8259705825857048,0.4521053488322387,0.08...</td>\n",
              "    </tr>\n",
              "    <tr>\n",
              "      <th>19997</th>\n",
              "      <td>119997</td>\n",
              "      <td>0.951744840752379,0.9162611283848351,0.6675251...</td>\n",
              "    </tr>\n",
              "    <tr>\n",
              "      <th>19998</th>\n",
              "      <td>119998</td>\n",
              "      <td>0.9276692903808186,0.6771898159607004,0.242906...</td>\n",
              "    </tr>\n",
              "    <tr>\n",
              "      <th>19999</th>\n",
              "      <td>119999</td>\n",
              "      <td>0.6653212231837624,0.527064114047737,0.5166625...</td>\n",
              "    </tr>\n",
              "  </tbody>\n",
              "</table>\n",
              "</div>"
            ],
            "text/plain": [
              "           id                                  heartbeat_signals\n",
              "0      100000  0.9915713654170097,1.0,0.6318163407681274,0.13...\n",
              "1      100001  0.6075533139615096,0.5417083883163654,0.340694...\n",
              "2      100002  0.9752726292239277,0.6710965234906665,0.686758...\n",
              "3      100003  0.9956348033996116,0.9170249621481004,0.521096...\n",
              "4      100004  1.0,0.8879490481178918,0.745564725322326,0.531...\n",
              "19995  119995  1.0,0.8330283177934747,0.6340472606311671,0.63...\n",
              "19996  119996  1.0,0.8259705825857048,0.4521053488322387,0.08...\n",
              "19997  119997  0.951744840752379,0.9162611283848351,0.6675251...\n",
              "19998  119998  0.9276692903808186,0.6771898159607004,0.242906...\n",
              "19999  119999  0.6653212231837624,0.527064114047737,0.5166625..."
            ]
          },
          "metadata": {
            "tags": []
          },
          "execution_count": 18
        }
      ]
    },
    {
      "cell_type": "code",
      "metadata": {
        "colab": {
          "base_uri": "https://localhost:8080/"
        },
        "id": "Jqzbx1OWD-jI",
        "outputId": "5a6e2ba0-e2d6-45b1-8223-441916d86631"
      },
      "source": [
        "Test_data.shape"
      ],
      "execution_count": 19,
      "outputs": [
        {
          "output_type": "execute_result",
          "data": {
            "text/plain": [
              "(20000, 2)"
            ]
          },
          "metadata": {
            "tags": []
          },
          "execution_count": 19
        }
      ]
    },
    {
      "cell_type": "markdown",
      "metadata": {
        "id": "we3W3g0AEDkE"
      },
      "source": [
        "+ 获取train数据的相关统计量"
      ]
    },
    {
      "cell_type": "code",
      "metadata": {
        "colab": {
          "base_uri": "https://localhost:8080/",
          "height": 286
        },
        "id": "UGMZDk0GEFN6",
        "outputId": "57e54d58-cf40-4397-b51f-e721886bf051"
      },
      "source": [
        "Train_data.describe()"
      ],
      "execution_count": 20,
      "outputs": [
        {
          "output_type": "execute_result",
          "data": {
            "text/html": [
              "<div>\n",
              "<style scoped>\n",
              "    .dataframe tbody tr th:only-of-type {\n",
              "        vertical-align: middle;\n",
              "    }\n",
              "\n",
              "    .dataframe tbody tr th {\n",
              "        vertical-align: top;\n",
              "    }\n",
              "\n",
              "    .dataframe thead th {\n",
              "        text-align: right;\n",
              "    }\n",
              "</style>\n",
              "<table border=\"1\" class=\"dataframe\">\n",
              "  <thead>\n",
              "    <tr style=\"text-align: right;\">\n",
              "      <th></th>\n",
              "      <th>id</th>\n",
              "      <th>label</th>\n",
              "    </tr>\n",
              "  </thead>\n",
              "  <tbody>\n",
              "    <tr>\n",
              "      <th>count</th>\n",
              "      <td>100000.000000</td>\n",
              "      <td>100000.000000</td>\n",
              "    </tr>\n",
              "    <tr>\n",
              "      <th>mean</th>\n",
              "      <td>49999.500000</td>\n",
              "      <td>0.856960</td>\n",
              "    </tr>\n",
              "    <tr>\n",
              "      <th>std</th>\n",
              "      <td>28867.657797</td>\n",
              "      <td>1.217084</td>\n",
              "    </tr>\n",
              "    <tr>\n",
              "      <th>min</th>\n",
              "      <td>0.000000</td>\n",
              "      <td>0.000000</td>\n",
              "    </tr>\n",
              "    <tr>\n",
              "      <th>25%</th>\n",
              "      <td>24999.750000</td>\n",
              "      <td>0.000000</td>\n",
              "    </tr>\n",
              "    <tr>\n",
              "      <th>50%</th>\n",
              "      <td>49999.500000</td>\n",
              "      <td>0.000000</td>\n",
              "    </tr>\n",
              "    <tr>\n",
              "      <th>75%</th>\n",
              "      <td>74999.250000</td>\n",
              "      <td>2.000000</td>\n",
              "    </tr>\n",
              "    <tr>\n",
              "      <th>max</th>\n",
              "      <td>99999.000000</td>\n",
              "      <td>3.000000</td>\n",
              "    </tr>\n",
              "  </tbody>\n",
              "</table>\n",
              "</div>"
            ],
            "text/plain": [
              "                  id          label\n",
              "count  100000.000000  100000.000000\n",
              "mean    49999.500000       0.856960\n",
              "std     28867.657797       1.217084\n",
              "min         0.000000       0.000000\n",
              "25%     24999.750000       0.000000\n",
              "50%     49999.500000       0.000000\n",
              "75%     74999.250000       2.000000\n",
              "max     99999.000000       3.000000"
            ]
          },
          "metadata": {
            "tags": []
          },
          "execution_count": 20
        }
      ]
    },
    {
      "cell_type": "code",
      "metadata": {
        "colab": {
          "base_uri": "https://localhost:8080/"
        },
        "id": "y0o7zoIGERfg",
        "outputId": "8f4af3fe-4c36-477e-abfd-dff87882096d"
      },
      "source": [
        "Train_data.info()"
      ],
      "execution_count": 21,
      "outputs": [
        {
          "output_type": "stream",
          "text": [
            "<class 'pandas.core.frame.DataFrame'>\n",
            "RangeIndex: 100000 entries, 0 to 99999\n",
            "Data columns (total 3 columns):\n",
            " #   Column             Non-Null Count   Dtype  \n",
            "---  ------             --------------   -----  \n",
            " 0   id                 100000 non-null  int64  \n",
            " 1   heartbeat_signals  100000 non-null  object \n",
            " 2   label              100000 non-null  float64\n",
            "dtypes: float64(1), int64(1), object(1)\n",
            "memory usage: 2.3+ MB\n"
          ],
          "name": "stdout"
        }
      ]
    },
    {
      "cell_type": "code",
      "metadata": {
        "colab": {
          "base_uri": "https://localhost:8080/",
          "height": 286
        },
        "id": "tP_tXDlCEcPh",
        "outputId": "8ab9bd39-e5a8-46f5-f974-fc09943fdbbe"
      },
      "source": [
        "Test_data.describe()"
      ],
      "execution_count": 22,
      "outputs": [
        {
          "output_type": "execute_result",
          "data": {
            "text/html": [
              "<div>\n",
              "<style scoped>\n",
              "    .dataframe tbody tr th:only-of-type {\n",
              "        vertical-align: middle;\n",
              "    }\n",
              "\n",
              "    .dataframe tbody tr th {\n",
              "        vertical-align: top;\n",
              "    }\n",
              "\n",
              "    .dataframe thead th {\n",
              "        text-align: right;\n",
              "    }\n",
              "</style>\n",
              "<table border=\"1\" class=\"dataframe\">\n",
              "  <thead>\n",
              "    <tr style=\"text-align: right;\">\n",
              "      <th></th>\n",
              "      <th>id</th>\n",
              "    </tr>\n",
              "  </thead>\n",
              "  <tbody>\n",
              "    <tr>\n",
              "      <th>count</th>\n",
              "      <td>20000.000000</td>\n",
              "    </tr>\n",
              "    <tr>\n",
              "      <th>mean</th>\n",
              "      <td>109999.500000</td>\n",
              "    </tr>\n",
              "    <tr>\n",
              "      <th>std</th>\n",
              "      <td>5773.647028</td>\n",
              "    </tr>\n",
              "    <tr>\n",
              "      <th>min</th>\n",
              "      <td>100000.000000</td>\n",
              "    </tr>\n",
              "    <tr>\n",
              "      <th>25%</th>\n",
              "      <td>104999.750000</td>\n",
              "    </tr>\n",
              "    <tr>\n",
              "      <th>50%</th>\n",
              "      <td>109999.500000</td>\n",
              "    </tr>\n",
              "    <tr>\n",
              "      <th>75%</th>\n",
              "      <td>114999.250000</td>\n",
              "    </tr>\n",
              "    <tr>\n",
              "      <th>max</th>\n",
              "      <td>119999.000000</td>\n",
              "    </tr>\n",
              "  </tbody>\n",
              "</table>\n",
              "</div>"
            ],
            "text/plain": [
              "                  id\n",
              "count   20000.000000\n",
              "mean   109999.500000\n",
              "std      5773.647028\n",
              "min    100000.000000\n",
              "25%    104999.750000\n",
              "50%    109999.500000\n",
              "75%    114999.250000\n",
              "max    119999.000000"
            ]
          },
          "metadata": {
            "tags": []
          },
          "execution_count": 22
        }
      ]
    },
    {
      "cell_type": "code",
      "metadata": {
        "colab": {
          "base_uri": "https://localhost:8080/"
        },
        "id": "_dpsRaGCEeCC",
        "outputId": "ce5f3cce-b95a-447a-cba9-5b7a3f727105"
      },
      "source": [
        "Test_data.info()"
      ],
      "execution_count": 23,
      "outputs": [
        {
          "output_type": "stream",
          "text": [
            "<class 'pandas.core.frame.DataFrame'>\n",
            "RangeIndex: 20000 entries, 0 to 19999\n",
            "Data columns (total 2 columns):\n",
            " #   Column             Non-Null Count  Dtype \n",
            "---  ------             --------------  ----- \n",
            " 0   id                 20000 non-null  int64 \n",
            " 1   heartbeat_signals  20000 non-null  object\n",
            "dtypes: int64(1), object(1)\n",
            "memory usage: 312.6+ KB\n"
          ],
          "name": "stdout"
        }
      ]
    },
    {
      "cell_type": "markdown",
      "metadata": {
        "id": "JmuWqhjMEnuS"
      },
      "source": [
        "+ 查看trian每列的存在nan情况"
      ]
    },
    {
      "cell_type": "code",
      "metadata": {
        "colab": {
          "base_uri": "https://localhost:8080/"
        },
        "id": "qJ8Z9VT7EkSY",
        "outputId": "58bc2693-a12a-47a5-9a19-bc28afdf5e6e"
      },
      "source": [
        "Train_data.isnull().sum()"
      ],
      "execution_count": 24,
      "outputs": [
        {
          "output_type": "execute_result",
          "data": {
            "text/plain": [
              "id                   0\n",
              "heartbeat_signals    0\n",
              "label                0\n",
              "dtype: int64"
            ]
          },
          "metadata": {
            "tags": []
          },
          "execution_count": 24
        }
      ]
    },
    {
      "cell_type": "code",
      "metadata": {
        "colab": {
          "base_uri": "https://localhost:8080/"
        },
        "id": "Rx3frfZpEpdx",
        "outputId": "320e43c0-2773-4655-a76f-ff9ec813628e"
      },
      "source": [
        "Test_data.isnull().sum()"
      ],
      "execution_count": 25,
      "outputs": [
        {
          "output_type": "execute_result",
          "data": {
            "text/plain": [
              "id                   0\n",
              "heartbeat_signals    0\n",
              "dtype: int64"
            ]
          },
          "metadata": {
            "tags": []
          },
          "execution_count": 25
        }
      ]
    },
    {
      "cell_type": "markdown",
      "metadata": {
        "id": "w5euqxgtEy-l"
      },
      "source": [
        "+ 了解预测值的分布"
      ]
    },
    {
      "cell_type": "code",
      "metadata": {
        "colab": {
          "base_uri": "https://localhost:8080/"
        },
        "id": "MFlRJkc4E0s7",
        "outputId": "dca54532-6367-443b-b337-787627eed760"
      },
      "source": [
        "Train_data['label']"
      ],
      "execution_count": 26,
      "outputs": [
        {
          "output_type": "execute_result",
          "data": {
            "text/plain": [
              "0        0.0\n",
              "1        0.0\n",
              "2        2.0\n",
              "3        0.0\n",
              "4        2.0\n",
              "        ... \n",
              "99995    0.0\n",
              "99996    2.0\n",
              "99997    3.0\n",
              "99998    2.0\n",
              "99999    0.0\n",
              "Name: label, Length: 100000, dtype: float64"
            ]
          },
          "metadata": {
            "tags": []
          },
          "execution_count": 26
        }
      ]
    },
    {
      "cell_type": "code",
      "metadata": {
        "colab": {
          "base_uri": "https://localhost:8080/"
        },
        "id": "Ylvta6ySE64A",
        "outputId": "e47c995c-1477-4090-ba04-fda8bc180ec2"
      },
      "source": [
        "Train_data['label'].value_counts()"
      ],
      "execution_count": 27,
      "outputs": [
        {
          "output_type": "execute_result",
          "data": {
            "text/plain": [
              "0.0    64327\n",
              "3.0    17912\n",
              "2.0    14199\n",
              "1.0     3562\n",
              "Name: label, dtype: int64"
            ]
          },
          "metadata": {
            "tags": []
          },
          "execution_count": 27
        }
      ]
    },
    {
      "cell_type": "markdown",
      "metadata": {
        "id": "2nryyaFlFOeg"
      },
      "source": [
        "## 1) 总体分布概况（无界约翰逊分布等）"
      ]
    },
    {
      "cell_type": "code",
      "metadata": {
        "colab": {
          "base_uri": "https://localhost:8080/",
          "height": 868
        },
        "id": "TqEHcEjfFAhc",
        "outputId": "6e5dd7db-32be-4c04-a243-0c1514870e02"
      },
      "source": [
        "## 1) 总体分布概况（无界约翰逊分布等）\n",
        "import scipy.stats as st\n",
        "y = Train_data['label']\n",
        "plt.figure(1); plt.title('Default')\n",
        "sns.distplot(y, rug=True, bins=20)\n",
        "plt.figure(2); plt.title('Normal')\n",
        "sns.distplot(y, kde=False, fit=st.norm)\n",
        "plt.figure(3); plt.title('Log Normal')\n",
        "sns.distplot(y, kde=False, fit=st.lognorm)"
      ],
      "execution_count": 28,
      "outputs": [
        {
          "output_type": "execute_result",
          "data": {
            "text/plain": [
              "<matplotlib.axes._subplots.AxesSubplot at 0x7f271ebf1690>"
            ]
          },
          "metadata": {
            "tags": []
          },
          "execution_count": 28
        },
        {
          "output_type": "display_data",
          "data": {
            "image/png": "[encoded data removed]",
            "text/plain": [
              "<Figure size 432x288 with 1 Axes>"
            ]
          },
          "metadata": {
            "tags": [],
            "needs_background": "light"
          }
        },
        {
          "output_type": "display_data",
          "data": {
            "image/png": "[encoded data removed]",
            "text/plain": [
              "<Figure size 432x288 with 1 Axes>"
            ]
          },
          "metadata": {
            "tags": [],
            "needs_background": "light"
          }
        },
        {
          "output_type": "display_data",
          "data": {
            "image/png": "[encoded data removed]",
            "text/plain": [
              "<Figure size 432x288 with 1 Axes>"
            ]
          },
          "metadata": {
            "tags": [],
            "needs_background": "light"
          }
        }
      ]
    },
    {
      "cell_type": "code",
      "metadata": {
        "colab": {
          "base_uri": "https://localhost:8080/",
          "height": 313
        },
        "id": "uRRhCCRiFS0Z",
        "outputId": "3efa8e01-65b4-4170-cc9b-5c57d4221b7e"
      },
      "source": [
        "# 2）查看skewness and kurtosis\n",
        "sns.distplot(Train_data['label']);\n",
        "print(\"Skewness: %f\" % Train_data['label'].skew())\n",
        "print(\"Kurtosis: %f\" % Train_data['label'].kurt())\n"
      ],
      "execution_count": 29,
      "outputs": [
        {
          "output_type": "stream",
          "text": [
            "Skewness: 0.871005\n",
            "Kurtosis: -1.009573\n"
          ],
          "name": "stdout"
        },
        {
          "output_type": "display_data",
          "data": {
            "image/png": "[encoded data removed]",
            "text/plain": [
              "<Figure size 432x288 with 1 Axes>"
            ]
          },
          "metadata": {
            "tags": [],
            "needs_background": "light"
          }
        }
      ]
    },
    {
      "cell_type": "code",
      "metadata": {
        "colab": {
          "base_uri": "https://localhost:8080/"
        },
        "id": "zfWbd9iPGOv_",
        "outputId": "40d4dc93-16f2-41b0-d4cd-a5e18fafd246"
      },
      "source": [
        "Train_data.skew(), Train_data.kurt()"
      ],
      "execution_count": 30,
      "outputs": [
        {
          "output_type": "execute_result",
          "data": {
            "text/plain": [
              "(id       0.000000\n",
              " label    0.871005\n",
              " dtype: float64, id      -1.200000\n",
              " label   -1.009573\n",
              " dtype: float64)"
            ]
          },
          "metadata": {
            "tags": []
          },
          "execution_count": 30
        }
      ]
    },
    {
      "cell_type": "code",
      "metadata": {
        "colab": {
          "base_uri": "https://localhost:8080/",
          "height": 296
        },
        "id": "FSllQxTtGdtg",
        "outputId": "78fa02be-94b1-4638-a821-301fbafd63e7"
      },
      "source": [
        "sns.distplot(Train_data.kurt(),color='orange',axlabel ='Kurtosis')"
      ],
      "execution_count": 32,
      "outputs": [
        {
          "output_type": "execute_result",
          "data": {
            "text/plain": [
              "<matplotlib.axes._subplots.AxesSubplot at 0x7f271e3baa50>"
            ]
          },
          "metadata": {
            "tags": []
          },
          "execution_count": 32
        },
        {
          "output_type": "display_data",
          "data": {
            "image/png": "[encoded data removed]",
            "text/plain": [
              "<Figure size 432x288 with 1 Axes>"
            ]
          },
          "metadata": {
            "tags": [],
            "needs_background": "light"
          }
        }
      ]
    },
    {
      "cell_type": "code",
      "metadata": {
        "colab": {
          "base_uri": "https://localhost:8080/",
          "height": 265
        },
        "id": "Wtykh32BGwjL",
        "outputId": "de9b49cc-dbf9-4d4d-a8ed-ae23b5fc0183"
      },
      "source": [
        "## 3) 查看预测值的具体频数\n",
        "plt.hist(Train_data['label'], orientation = 'vertical',histtype = 'bar', color ='red')\n",
        "plt.show()"
      ],
      "execution_count": 33,
      "outputs": [
        {
          "output_type": "display_data",
          "data": {
            "image/png": "[encoded data removed]",
            "text/plain": [
              "<Figure size 432x288 with 1 Axes>"
            ]
          },
          "metadata": {
            "tags": [],
            "needs_background": "light"
          }
        }
      ]
    }
  ]
}