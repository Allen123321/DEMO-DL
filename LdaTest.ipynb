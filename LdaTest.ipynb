{
  "nbformat": 4,
  "nbformat_minor": 0,
  "metadata": {
    "colab": {
      "name": "LdaTest.ipynb",
      "provenance": [],
      "authorship_tag": "ABX9TyNB3ZpHg3BvTQ9v8cxbi/QQ",
      "include_colab_link": true
    },
    "kernelspec": {
      "name": "python3",
      "display_name": "Python 3"
    }
  },
  "cells": [
    {
      "cell_type": "markdown",
      "metadata": {
        "id": "view-in-github",
        "colab_type": "text"
      },
      "source": [
        "<a href=\"https://colab.research.google.com/github/Allen123321/DEMO-DL/blob/master/LdaTest.ipynb\" target=\"_parent\"><img src=\"https://colab.research.google.com/assets/colab-badge.svg\" alt=\"Open In Colab\"/></a>"
      ]
    },
    {
      "cell_type": "code",
      "metadata": {
        "id": "hrMR_lJVe6j3",
        "outputId": "e1336b10-eb50-4095-8a7d-d296692fb8bc",
        "colab": {
          "base_uri": "https://localhost:8080/"
        }
      },
      "source": [
        "!pip install lda"
      ],
      "execution_count": 1,
      "outputs": [
        {
          "output_type": "stream",
          "text": [
            "Collecting lda\n",
            "\u001b[?25l  Downloading https://files.pythonhosted.org/packages/04/7d/eaaea06a945e7eee60922cf457514eb4c2cbb77a733b1f8e2495e821fd33/lda-2.0.0-cp36-cp36m-manylinux1_x86_64.whl (350kB)\n",
            "\u001b[K     |████████████████████████████████| 358kB 8.5MB/s \n",
            "\u001b[?25hCollecting pbr<4,>=0.6\n",
            "\u001b[?25l  Downloading https://files.pythonhosted.org/packages/0c/5d/b077dbf309993d52c1d71e6bf6fe443a8029ea215135ebbe0b1b10e7aefc/pbr-3.1.1-py2.py3-none-any.whl (99kB)\n",
            "\u001b[K     |████████████████████████████████| 102kB 8.8MB/s \n",
            "\u001b[?25hRequirement already satisfied: numpy<2.0,>=1.13.0 in /usr/local/lib/python3.6/dist-packages (from lda) (1.18.5)\n",
            "Installing collected packages: pbr, lda\n",
            "Successfully installed lda-2.0.0 pbr-3.1.1\n"
          ],
          "name": "stdout"
        }
      ]
    },
    {
      "cell_type": "code",
      "metadata": {
        "id": "d52L4XLKezrP"
      },
      "source": [
        "import numpy as np\n",
        "import matplotlib.pyplot as plt\n",
        "import matplotlib as mpl\n",
        "import lda.datasets\n",
        "# "
      ],
      "execution_count": 2,
      "outputs": []
    },
    {
      "cell_type": "code",
      "metadata": {
        "id": "i7SaVRTnfKKt",
        "outputId": "cc7cf64e-e8fb-4b1e-b45a-7760a928d424",
        "colab": {
          "base_uri": "https://localhost:8080/"
        }
      },
      "source": [
        "X = lda.datasets.load_reuters()\n",
        "print(\"type(X): {}\".format(type(X)))\n",
        "print(\"shape: {}\\n\".format(X.shape))\n",
        "print(X[:10, :10])"
      ],
      "execution_count": 3,
      "outputs": [
        {
          "output_type": "stream",
          "text": [
            "type(X): <class 'numpy.ndarray'>\n",
            "shape: (395, 4258)\n",
            "\n",
            "[[ 1  0  1  0  0  0  1  0  0  1]\n",
            " [ 7  0  2  0  0  0  0  1  0  0]\n",
            " [ 0  0  0  1 10  0  4  1  1  0]\n",
            " [ 6  0  1  0  0  0  1  1  1  0]\n",
            " [ 0  0  0  2 14  1  1  0  2  1]\n",
            " [ 0  0  2  2 24  0  2  0  2  1]\n",
            " [ 0  0  0  2  7  1  1  0  1  0]\n",
            " [ 0  0  2  2 20  0  2  0  3  1]\n",
            " [ 0  1  0  2 17  2  2  0  0  0]\n",
            " [ 2  0  2  0  0  2  0  1  0  3]]\n"
          ],
          "name": "stdout"
        }
      ]
    },
    {
      "cell_type": "code",
      "metadata": {
        "id": "3Ty6PXv2fWZo",
        "outputId": "bb9766ef-6302-4c07-cdec-5d52c9778d1e",
        "colab": {
          "base_uri": "https://localhost:8080/"
        }
      },
      "source": [
        "\n",
        "vocab = lda.datasets.load_reuters_vocab()\n",
        "print(\"type(vocab): {}\".format(type(vocab)))\n",
        "print(\"len(vocab): {}\\n\".format(len(vocab)))\n",
        "print(vocab[:10])"
      ],
      "execution_count": 4,
      "outputs": [
        {
          "output_type": "stream",
          "text": [
            "type(vocab): <class 'tuple'>\n",
            "len(vocab): 4258\n",
            "\n",
            "('church', 'pope', 'years', 'people', 'mother', 'last', 'told', 'first', 'world', 'year')\n"
          ],
          "name": "stdout"
        }
      ]
    },
    {
      "cell_type": "code",
      "metadata": {
        "id": "VqImrFfMfmjd",
        "outputId": "b878da94-6287-49ce-8fa6-e8da53274cd5",
        "colab": {
          "base_uri": "https://localhost:8080/"
        }
      },
      "source": [
        "from pprint import pprint\n",
        "# titles for each story\n",
        "titles = lda.datasets.load_reuters_titles()\n",
        "print(\"type(titles): {}\".format(type(titles)))\n",
        "print(\"len(titles): {}\\n\".format(len(titles)))\n",
        "pprint(titles[:10])"
      ],
      "execution_count": 6,
      "outputs": [
        {
          "output_type": "stream",
          "text": [
            "type(titles): <class 'tuple'>\n",
            "len(titles): 395\n",
            "\n",
            "('0 UK: Prince Charles spearheads British royal revolution. LONDON 1996-08-20',\n",
            " '1 GERMANY: Historic Dresden church rising from WW2 ashes. DRESDEN, Germany '\n",
            " '1996-08-21',\n",
            " \"2 INDIA: Mother Teresa's condition said still unstable. CALCUTTA 1996-08-23\",\n",
            " '3 UK: Palace warns British weekly over Charles pictures. LONDON 1996-08-25',\n",
            " '4 INDIA: Mother Teresa, slightly stronger, blesses nuns. CALCUTTA 1996-08-25',\n",
            " \"5 INDIA: Mother Teresa's condition unchanged, thousands pray. CALCUTTA \"\n",
            " '1996-08-25',\n",
            " '6 INDIA: Mother Teresa shows signs of strength, blesses nuns. CALCUTTA '\n",
            " '1996-08-26',\n",
            " \"7 INDIA: Mother Teresa's condition improves, many pray. CALCUTTA, India \"\n",
            " '1996-08-25',\n",
            " '8 INDIA: Mother Teresa improves, nuns pray for \"miracle\". CALCUTTA '\n",
            " '1996-08-26',\n",
            " '9 UK: Charles under fire over prospect of Queen Camilla. LONDON 1996-08-26')\n"
          ],
          "name": "stdout"
        }
      ]
    },
    {
      "cell_type": "code",
      "metadata": {
        "id": "VJS1HU0sfzjf",
        "outputId": "6dfbfc93-3926-4342-f28d-3e5366a34e4e",
        "colab": {
          "base_uri": "https://localhost:8080/"
        }
      },
      "source": [
        "#下面是测试文档编号为0，单词编号为3117的数据，X[0,3117]：\n",
        "doc_id = 0\n",
        "word_id = 3117\n",
        "print(\"doc id: {} word id: {}\".format(doc_id, word_id))\n",
        "print(\"-- count: {}\".format(X[doc_id, word_id]))\n",
        "print(\"-- word : {}\".format(vocab[word_id]))\n",
        "print(\"-- doc  : {}\".format(titles[doc_id]))"
      ],
      "execution_count": 7,
      "outputs": [
        {
          "output_type": "stream",
          "text": [
            "doc id: 0 word id: 3117\n",
            "-- count: 2\n",
            "-- word : heir-to-the-throne\n",
            "-- doc  : 0 UK: Prince Charles spearheads British royal revolution. LONDON 1996-08-20\n"
          ],
          "name": "stdout"
        }
      ]
    },
    {
      "cell_type": "code",
      "metadata": {
        "id": "wSlDFVs9gA-5",
        "outputId": "fb579fa7-d26d-480f-d5ed-be54d4ba4f55",
        "colab": {
          "base_uri": "https://localhost:8080/"
        }
      },
      "source": [
        "topic_num = 20\n",
        "model = lda.LDA(n_topics=topic_num, n_iter=500, random_state=1)\n",
        "model.fit(X)"
      ],
      "execution_count": 8,
      "outputs": [
        {
          "output_type": "stream",
          "text": [
            "INFO:lda:n_documents: 395\n",
            "INFO:lda:vocab_size: 4258\n",
            "INFO:lda:n_words: 84010\n",
            "INFO:lda:n_topics: 20\n",
            "INFO:lda:n_iter: 500\n",
            "INFO:lda:<0> log likelihood: -1051748\n",
            "INFO:lda:<10> log likelihood: -719800\n",
            "INFO:lda:<20> log likelihood: -699115\n",
            "INFO:lda:<30> log likelihood: -689370\n",
            "INFO:lda:<40> log likelihood: -684918\n",
            "INFO:lda:<50> log likelihood: -681322\n",
            "INFO:lda:<60> log likelihood: -678979\n",
            "INFO:lda:<70> log likelihood: -676598\n",
            "INFO:lda:<80> log likelihood: -675383\n",
            "INFO:lda:<90> log likelihood: -673316\n",
            "INFO:lda:<100> log likelihood: -672761\n",
            "INFO:lda:<110> log likelihood: -671320\n",
            "INFO:lda:<120> log likelihood: -669744\n",
            "INFO:lda:<130> log likelihood: -669292\n",
            "INFO:lda:<140> log likelihood: -667940\n",
            "INFO:lda:<150> log likelihood: -668038\n",
            "INFO:lda:<160> log likelihood: -667429\n",
            "INFO:lda:<170> log likelihood: -666475\n",
            "INFO:lda:<180> log likelihood: -665562\n",
            "INFO:lda:<190> log likelihood: -664920\n",
            "INFO:lda:<200> log likelihood: -664979\n",
            "INFO:lda:<210> log likelihood: -664722\n",
            "INFO:lda:<220> log likelihood: -664459\n",
            "INFO:lda:<230> log likelihood: -664360\n",
            "INFO:lda:<240> log likelihood: -663600\n",
            "INFO:lda:<250> log likelihood: -664164\n",
            "INFO:lda:<260> log likelihood: -663826\n",
            "INFO:lda:<270> log likelihood: -663458\n",
            "INFO:lda:<280> log likelihood: -663393\n",
            "INFO:lda:<290> log likelihood: -662904\n",
            "INFO:lda:<300> log likelihood: -662294\n",
            "INFO:lda:<310> log likelihood: -662031\n",
            "INFO:lda:<320> log likelihood: -662430\n",
            "INFO:lda:<330> log likelihood: -661601\n",
            "INFO:lda:<340> log likelihood: -662108\n",
            "INFO:lda:<350> log likelihood: -662152\n",
            "INFO:lda:<360> log likelihood: -661899\n",
            "INFO:lda:<370> log likelihood: -661012\n",
            "INFO:lda:<380> log likelihood: -661278\n",
            "INFO:lda:<390> log likelihood: -661085\n",
            "INFO:lda:<400> log likelihood: -660418\n",
            "INFO:lda:<410> log likelihood: -660510\n",
            "INFO:lda:<420> log likelihood: -660343\n",
            "INFO:lda:<430> log likelihood: -659789\n",
            "INFO:lda:<440> log likelihood: -659336\n",
            "INFO:lda:<450> log likelihood: -659039\n",
            "INFO:lda:<460> log likelihood: -659329\n",
            "INFO:lda:<470> log likelihood: -658707\n",
            "INFO:lda:<480> log likelihood: -658879\n",
            "INFO:lda:<490> log likelihood: -658819\n",
            "INFO:lda:<499> log likelihood: -658407\n"
          ],
          "name": "stderr"
        },
        {
          "output_type": "execute_result",
          "data": {
            "text/plain": [
              "<lda.lda.LDA at 0x7f4af955d550>"
            ]
          },
          "metadata": {
            "tags": []
          },
          "execution_count": 8
        }
      ]
    },
    {
      "cell_type": "code",
      "metadata": {
        "id": "qXYxxwGygPnB",
        "outputId": "130a286e-8e6c-4f59-c919-048dbceadb3a",
        "colab": {
          "base_uri": "https://localhost:8080/"
        }
      },
      "source": [
        "topic_word = model.topic_word_\n",
        "print(\"type(topic_word): {}\".format(type(topic_word)))\n",
        "print(\"shape: {}\".format(topic_word.shape))\n",
        "print(vocab[:5])\n",
        "print(topic_word[:, :5])"
      ],
      "execution_count": 9,
      "outputs": [
        {
          "output_type": "stream",
          "text": [
            "type(topic_word): <class 'numpy.ndarray'>\n",
            "shape: (20, 4258)\n",
            "('church', 'pope', 'years', 'people', 'mother')\n",
            "[[2.72436509e-06 2.72436509e-06 2.72708945e-03 2.72436509e-06\n",
            "  2.72436509e-06]\n",
            " [2.29518860e-02 1.08771556e-06 7.83263973e-03 1.15308726e-02\n",
            "  1.08771556e-06]\n",
            " [3.97404221e-03 4.96135108e-06 2.98177200e-03 4.96135108e-06\n",
            "  4.96135108e-06]\n",
            " [3.27374625e-03 2.72585033e-06 2.72585033e-06 2.45599115e-03\n",
            "  2.72585033e-06]\n",
            " [8.26262882e-03 8.56893407e-02 1.61980569e-06 4.87561512e-04\n",
            "  1.61980569e-06]\n",
            " [1.30107788e-02 2.95632328e-06 2.95632328e-06 2.95632328e-06\n",
            "  2.95632328e-06]\n",
            " [2.80145003e-06 2.80145003e-06 2.80145003e-06 2.80145003e-06\n",
            "  2.80145003e-06]\n",
            " [2.42858077e-02 4.66944966e-06 4.66944966e-06 4.66944966e-06\n",
            "  2.42858077e-02]\n",
            " [6.84655429e-03 1.90129250e-06 6.84655429e-03 1.90129250e-06\n",
            "  1.90129250e-06]\n",
            " [3.48361655e-06 3.48361655e-06 3.48361655e-06 3.48361655e-06\n",
            "  3.48361655e-06]\n",
            " [2.98781661e-03 3.31611166e-06 3.31611166e-06 8.29359526e-03\n",
            "  3.31611166e-06]\n",
            " [4.27062069e-06 4.27062069e-06 4.27062069e-06 1.19620086e-02\n",
            "  4.27062069e-06]\n",
            " [1.50994982e-02 1.64107142e-06 1.64107142e-06 1.59200339e-02\n",
            "  2.95556963e-03]\n",
            " [7.73480150e-07 7.73480150e-07 1.70946848e-02 7.73480150e-07\n",
            "  7.73480150e-07]\n",
            " [2.82280146e-06 2.82280146e-06 2.82280146e-06 6.77754631e-03\n",
            "  7.28311005e-02]\n",
            " [5.15309856e-06 5.15309856e-06 4.64294180e-03 5.15309856e-06\n",
            "  5.15309856e-06]\n",
            " [3.41695768e-06 3.41695768e-06 3.41695768e-06 1.29878561e-02\n",
            "  3.41695768e-06]\n",
            " [3.90980357e-02 1.70316633e-03 4.42279319e-03 3.39953358e-06\n",
            "  3.39953358e-06]\n",
            " [2.39373034e-06 2.39373034e-06 2.39373034e-06 2.39612407e-03\n",
            "  2.39373034e-06]\n",
            " [3.32493234e-06 3.32493234e-06 3.32493234e-06 3.32493234e-06\n",
            "  3.32493234e-06]]\n"
          ],
          "name": "stdout"
        }
      ]
    },
    {
      "cell_type": "code",
      "metadata": {
        "id": "Qx1Zc1MlgY2V",
        "outputId": "167e5374-e286-42ce-ff9f-fbcb9f177880",
        "colab": {
          "base_uri": "https://localhost:8080/"
        }
      },
      "source": [
        "for n in range(5):\n",
        "    sum_pr = sum(topic_word[n, :])\n",
        "    print(\"topic: {} sum: {}\".format(n, sum_pr))"
      ],
      "execution_count": 10,
      "outputs": [
        {
          "output_type": "stream",
          "text": [
            "topic: 0 sum: 1.0000000000000875\n",
            "topic: 1 sum: 1.0000000000001148\n",
            "topic: 2 sum: 0.9999999999998656\n",
            "topic: 3 sum: 1.0000000000000042\n",
            "topic: 4 sum: 1.0000000000000928\n"
          ],
          "name": "stdout"
        }
      ]
    },
    {
      "cell_type": "code",
      "metadata": {
        "id": "WjOWOySAgeoJ",
        "outputId": "ede56532-c75b-42f1-ccfa-8410cf08c95e",
        "colab": {
          "base_uri": "https://localhost:8080/"
        }
      },
      "source": [
        "#每个主题中的前7个单词\n",
        "\n",
        "n = 7\n",
        "for i, topic_dist in enumerate(topic_word):\n",
        "    topic_words = np.array(vocab)[np.argsort(topic_dist)][:-(n + 1):-1]\n",
        "    print('*Topic {}\\n- {}'.format(i, ' '.join(topic_words)))"
      ],
      "execution_count": 11,
      "outputs": [
        {
          "output_type": "stream",
          "text": [
            "*Topic 0\n",
            "- government british minister west group letters party\n",
            "*Topic 1\n",
            "- church first during people political country ceremony\n",
            "*Topic 2\n",
            "- elvis king wright fans presley concert life\n",
            "*Topic 3\n",
            "- yeltsin russian russia president kremlin michael romania\n",
            "*Topic 4\n",
            "- pope vatican paul surgery pontiff john hospital\n",
            "*Topic 5\n",
            "- family police miami versace cunanan funeral home\n",
            "*Topic 6\n",
            "- south simpson born york white north african\n",
            "*Topic 7\n",
            "- order church mother successor since election religious\n",
            "*Topic 8\n",
            "- charles prince diana royal queen king parker\n",
            "*Topic 9\n",
            "- film france french against actor paris bardot\n",
            "*Topic 10\n",
            "- germany german war nazi christian letter book\n",
            "*Topic 11\n",
            "- east prize peace timor quebec belo indonesia\n",
            "*Topic 12\n",
            "- n't told life people church show very\n",
            "*Topic 13\n",
            "- years world time year last say three\n",
            "*Topic 14\n",
            "- mother teresa heart charity calcutta missionaries sister\n",
            "*Topic 15\n",
            "- city salonika exhibition buddhist byzantine vietnam swiss\n",
            "*Topic 16\n",
            "- music first people tour including off opera\n",
            "*Topic 17\n",
            "- church catholic bernardin cardinal bishop death cancer\n",
            "*Topic 18\n",
            "- harriman clinton u.s churchill paris president ambassador\n",
            "*Topic 19\n",
            "- century art million museum city churches works\n"
          ],
          "name": "stdout"
        }
      ]
    },
    {
      "cell_type": "code",
      "metadata": {
        "id": "TSADY2iUgxaG",
        "outputId": "aadd61a1-ba3c-4b20-aee7-0238a8c0f9d3",
        "colab": {
          "base_uri": "https://localhost:8080/"
        }
      },
      "source": [
        "###计算输入前10篇文字最可能的topic\n",
        "doc_topic = model.doc_topic_\n",
        "print(\"type(doc_topic): {}\".format(type(doc_topic)))\n",
        "print(\"shape: {}\".format(doc_topic.shape))\n",
        "for i in range(10):\n",
        "    topic_most_pr = doc_topic[i].argmax()\n",
        "    print(u\"文档: {} 主题: {} value: {}\".format(i, topic_most_pr, doc_topic[i][topic_most_pr]))\n",
        "\n",
        "mpl.rcParams['font.sans-serif'] = [u'SimHei']\n",
        "mpl.rcParams['axes.unicode_minus'] = False"
      ],
      "execution_count": 12,
      "outputs": [
        {
          "output_type": "stream",
          "text": [
            "type(doc_topic): <class 'numpy.ndarray'>\n",
            "shape: (395, 20)\n",
            "文档: 0 主题: 8 value: 0.4830434782608696\n",
            "文档: 1 主题: 1 value: 0.29057971014492756\n",
            "文档: 2 主题: 14 value: 0.6656903765690377\n",
            "文档: 3 主题: 8 value: 0.5076555023923446\n",
            "文档: 4 主题: 14 value: 0.7789667896678965\n",
            "文档: 5 主题: 14 value: 0.844097222222222\n",
            "文档: 6 主题: 14 value: 0.8035353535353537\n",
            "文档: 7 主题: 14 value: 0.877474402730375\n",
            "文档: 8 主题: 14 value: 0.8196153846153844\n",
            "文档: 9 主题: 8 value: 0.5342105263157892\n"
          ],
          "name": "stdout"
        }
      ]
    },
    {
      "cell_type": "code",
      "metadata": {
        "id": "2Dq1PGu7hBQ-",
        "outputId": "942f5b2e-2593-455e-d352-a71767ac9630",
        "colab": {
          "base_uri": "https://localhost:8080/",
          "height": 655
        }
      },
      "source": [
        "#计算每个主题中单词权重分布情况：\n",
        "plt.figure(figsize=(8, 9))\n",
        "# f, ax = plt.subplots(5, 1, sharex=True)\n",
        "for i, k in enumerate([0, 5, 9, 14, 19]):\n",
        "    ax = plt.subplot(5, 1, i+1)\n",
        "    ax.plot(topic_word[k, :], 'r-')\n",
        "    ax.set_xlim(-50, 4350)   # [0,4258]\n",
        "    ax.set_ylim(0, 0.08)\n",
        "    ax.set_ylabel(u\"probability\")\n",
        "    ax.set_title(u\"topic {}\".format(k))\n",
        "plt.xlabel(u\"term\", fontsize=14)\n",
        "plt.tight_layout()\n",
        "plt.suptitle(u'Topic term distribution', fontsize=18)\n",
        "plt.subplots_adjust(top=0.9)\n",
        "plt.show()\n",
        "\n"
      ],
      "execution_count": 14,
      "outputs": [
        {
          "output_type": "display_data",
          "data": {
            "image/png": "[encoded data removed]",
            "text/plain": [
              "<Figure size 576x648 with 5 Axes>"
            ]
          },
          "metadata": {
            "tags": [],
            "needs_background": "light"
          }
        }
      ]
    },
    {
      "cell_type": "code",
      "metadata": {
        "id": "TcwUq6TMhLaC",
        "outputId": "492d8b08-2d8f-4b8b-8c97-e76dfe0959af",
        "colab": {
          "base_uri": "https://localhost:8080/",
          "height": 842
        }
      },
      "source": [
        "# Document - Topic\n",
        "plt.figure(figsize=(8, 9))\n",
        "for i, k in enumerate([1, 3, 4, 8, 9]):\n",
        "    ax = plt.subplot(5, 1, i+1)\n",
        "    ax.stem(doc_topic[k, :], linefmt='g-', markerfmt='ro')\n",
        "    ax.set_xlim(-1, topic_num+1)\n",
        "    ax.set_ylim(0, 1)\n",
        "    ax.set_ylabel(u\"probility\")\n",
        "    ax.set_title(u\"document {}\".format(k))\n",
        "plt.xlabel(u\"topic\", fontsize=14)\n",
        "plt.suptitle(u'Topic distribution of the document', fontsize=18)\n",
        "plt.tight_layout()\n",
        "plt.subplots_adjust(top=0.9)\n",
        "plt.show()"
      ],
      "execution_count": 15,
      "outputs": [
        {
          "output_type": "stream",
          "text": [
            "/usr/local/lib/python3.6/dist-packages/ipykernel_launcher.py:5: UserWarning: In Matplotlib 3.3 individual lines on a stem plot will be added as a LineCollection instead of individual lines. This significantly improves the performance of a stem plot. To remove this warning and switch to the new behaviour, set the \"use_line_collection\" keyword argument to True.\n",
            "  \"\"\"\n",
            "/usr/local/lib/python3.6/dist-packages/ipykernel_launcher.py:5: UserWarning: In Matplotlib 3.3 individual lines on a stem plot will be added as a LineCollection instead of individual lines. This significantly improves the performance of a stem plot. To remove this warning and switch to the new behaviour, set the \"use_line_collection\" keyword argument to True.\n",
            "  \"\"\"\n",
            "/usr/local/lib/python3.6/dist-packages/ipykernel_launcher.py:5: UserWarning: In Matplotlib 3.3 individual lines on a stem plot will be added as a LineCollection instead of individual lines. This significantly improves the performance of a stem plot. To remove this warning and switch to the new behaviour, set the \"use_line_collection\" keyword argument to True.\n",
            "  \"\"\"\n",
            "/usr/local/lib/python3.6/dist-packages/ipykernel_launcher.py:5: UserWarning: In Matplotlib 3.3 individual lines on a stem plot will be added as a LineCollection instead of individual lines. This significantly improves the performance of a stem plot. To remove this warning and switch to the new behaviour, set the \"use_line_collection\" keyword argument to True.\n",
            "  \"\"\"\n",
            "/usr/local/lib/python3.6/dist-packages/ipykernel_launcher.py:5: UserWarning: In Matplotlib 3.3 individual lines on a stem plot will be added as a LineCollection instead of individual lines. This significantly improves the performance of a stem plot. To remove this warning and switch to the new behaviour, set the \"use_line_collection\" keyword argument to True.\n",
            "  \"\"\"\n"
          ],
          "name": "stderr"
        },
        {
          "output_type": "display_data",
          "data": {
            "image/png": "[encoded data removed]",
            "text/plain": [
              "<Figure size 576x648 with 5 Axes>"
            ]
          },
          "metadata": {
            "tags": [],
            "needs_background": "light"
          }
        }
      ]
    }
  ]
}