{
  "nbformat": 4,
  "nbformat_minor": 0,
  "metadata": {
    "colab": {
      "name": "006.TensorFlow2教程-Eager Execution.ipynb",
      "provenance": [],
      "toc_visible": true,
      "authorship_tag": "ABX9TyMWGiRDfTjT00lpRjUZ7Brx",
      "include_colab_link": true
    },
    "kernelspec": {
      "name": "python3",
      "display_name": "Python 3"
    },
    "accelerator": "GPU"
  },
  "cells": [
    {
      "cell_type": "markdown",
      "metadata": {
        "id": "view-in-github",
        "colab_type": "text"
      },
      "source": [
        "<a href=\"https://colab.research.google.com/github/Allen123321/DEMO-DL/blob/master/006_TensorFlow2%E6%95%99%E7%A8%8B_Eager_Execution.ipynb\" target=\"_parent\"><img src=\"https://colab.research.google.com/assets/colab-badge.svg\" alt=\"Open In Colab\"/></a>"
      ]
    },
    {
      "cell_type": "markdown",
      "metadata": {
        "id": "Hq0SGNV9b3U3"
      },
      "source": [
        "TensorFlow 的 Eager Execution 是一种命令式编程环境，可立即评估操作，无需构建图：操作会返回具体的值，而不是构建以后再运行的计算图。这样可以轻松地使用 TensorFlow 和调试模型，并且还减少了样板代码。<br>\r\n",
        "Eager Execution 是一个灵活的机器学习平台，用于研究和实验，可提供：<br>\r\n",
        "+ 直观的界面 - 自然地组织代码结构并使用 Python 数据结构。快速迭代小模型和小型数据集。\r\n",
        "+ 更轻松的调试功能 - 直接调用操作以检查正在运行的模型并测试更改。使用标准 Python 调试工具进行即时错误报告。\r\n",
        "+ 自然控制流程 - 使用 Python 控制流程而不是图控制流程，简化了动态模型的规范。"
      ]
    },
    {
      "cell_type": "code",
      "metadata": {
        "colab": {
          "base_uri": "https://localhost:8080/"
        },
        "id": "RFqxXkk3bj5t",
        "outputId": "5723a21b-007b-43b7-dcaf-72aa9e1013bd"
      },
      "source": [
        "import tensorflow as tf\r\n",
        "print(tf.__version__)\r\n",
        "# 在tensorflow2中默认使用Eager Execution\r\n",
        "tf.executing_eagerly()"
      ],
      "execution_count": 2,
      "outputs": [
        {
          "output_type": "stream",
          "text": [
            "2.4.0\n"
          ],
          "name": "stdout"
        },
        {
          "output_type": "execute_result",
          "data": {
            "text/plain": [
              "True"
            ]
          },
          "metadata": {
            "tags": []
          },
          "execution_count": 2
        }
      ]
    },
    {
      "cell_type": "markdown",
      "metadata": {
        "id": "jNYKApptcSpk"
      },
      "source": [
        "1.Eager Execution下运算\r\n",
        "在Eager Execution下可以直接进行运算，结果会立即返回"
      ]
    },
    {
      "cell_type": "code",
      "metadata": {
        "colab": {
          "base_uri": "https://localhost:8080/"
        },
        "id": "nq8HttTRcRi6",
        "outputId": "3c1c2467-db7f-47ac-bdc1-8bdd129ebd72"
      },
      "source": [
        "x = [[3.]]\r\n",
        "m = tf.matmul(x,x)\r\n",
        "print(m)"
      ],
      "execution_count": 2,
      "outputs": [
        {
          "output_type": "stream",
          "text": [
            "tf.Tensor([[9.]], shape=(1, 1), dtype=float32)\n"
          ],
          "name": "stdout"
        }
      ]
    },
    {
      "cell_type": "markdown",
      "metadata": {
        "id": "49rXeJsRcrSN"
      },
      "source": [
        "启用Eager Execution会改变TensorFlow操作的行为 - 现在他们会立即评估并将其值返回给Python。tf.Tensor对象引用具体值，而不再是指向计算图中节点的符号句柄。由于在会话中没有构建和运行的计算图，因此使用print()或调试程序很容易检查结果。评估，打印和检查张量值不会破坏计算梯度的流程。<br>\r\n",
        "Eager Execution可以与NumPy很好地协作。NumPy操作接受tf.Tensor参数。TensorFlow 数学运算将Python对象和NumPy数组转换为tf.Tensor对象。tf.Tensor.numpy方法将对象的值作为NumPy的ndarray类型返回。"
      ]
    },
    {
      "cell_type": "code",
      "metadata": {
        "colab": {
          "base_uri": "https://localhost:8080/"
        },
        "id": "fAU21yPZcjhc",
        "outputId": "bdd91db8-9b5d-45d6-e7c0-99158119710f"
      },
      "source": [
        "a = tf.constant([[1,9],[3,9]])\r\n",
        "print(a)\r\n",
        "# tf.Tensor对象引用具体值"
      ],
      "execution_count": 24,
      "outputs": [
        {
          "output_type": "stream",
          "text": [
            "tf.Tensor(\n",
            "[[1 9]\n",
            " [3 9]], shape=(2, 2), dtype=int32)\n"
          ],
          "name": "stdout"
        }
      ]
    },
    {
      "cell_type": "code",
      "metadata": {
        "colab": {
          "base_uri": "https://localhost:8080/"
        },
        "id": "VSuLK5s-daEM",
        "outputId": "383bea6c-7848-4b76-8b1c-f6b995aec5d2"
      },
      "source": [
        "b = tf.add(a,2)\r\n",
        "print(b)\r\n",
        "# 支持broadcasting（广播：不同shape的数据进行数学运算）"
      ],
      "execution_count": 25,
      "outputs": [
        {
          "output_type": "stream",
          "text": [
            "tf.Tensor(\n",
            "[[ 3 11]\n",
            " [ 5 11]], shape=(2, 2), dtype=int32)\n"
          ],
          "name": "stdout"
        }
      ]
    },
    {
      "cell_type": "code",
      "metadata": {
        "colab": {
          "base_uri": "https://localhost:8080/"
        },
        "id": "p5oddKRddmqh",
        "outputId": "f9b850c9-1b01-43d5-9cf4-c6703f09990d"
      },
      "source": [
        "# 支持运算符重载\r\n",
        "print(a*b)"
      ],
      "execution_count": 26,
      "outputs": [
        {
          "output_type": "stream",
          "text": [
            "tf.Tensor(\n",
            "[[ 3 99]\n",
            " [15 99]], shape=(2, 2), dtype=int32)\n"
          ],
          "name": "stdout"
        }
      ]
    },
    {
      "cell_type": "code",
      "metadata": {
        "colab": {
          "base_uri": "https://localhost:8080/"
        },
        "id": "0Jo6iJhHdwKn",
        "outputId": "a9ed9140-38c4-42c7-9456-d3b7c72bce32"
      },
      "source": [
        "# 可以当做numpy数据使用\r\n",
        "import numpy as np\r\n",
        "s = np.multiply(a,b)\r\n",
        "print(s)"
      ],
      "execution_count": 27,
      "outputs": [
        {
          "output_type": "stream",
          "text": [
            "[[ 3 99]\n",
            " [15 99]]\n"
          ],
          "name": "stdout"
        }
      ]
    },
    {
      "cell_type": "code",
      "metadata": {
        "colab": {
          "base_uri": "https://localhost:8080/"
        },
        "id": "soQWawP6dygS",
        "outputId": "8b9fc3e6-7137-478b-ca99-6386c8ab9e59"
      },
      "source": [
        "# 转换为numpy类型\r\n",
        "print(a.numpy())"
      ],
      "execution_count": 28,
      "outputs": [
        {
          "output_type": "stream",
          "text": [
            "[[1 9]\n",
            " [3 9]]\n"
          ],
          "name": "stdout"
        }
      ]
    },
    {
      "cell_type": "markdown",
      "metadata": {
        "id": "ECeafxuAeHyI"
      },
      "source": [
        "## 2.动态控制流\r\n",
        "Eager Execution的一个主要好处是在执行模型时可以使用宿主语言(Python)的所有功能。所以，例如，写fizzbuzz很容易："
      ]
    },
    {
      "cell_type": "code",
      "metadata": {
        "colab": {
          "base_uri": "https://localhost:8080/"
        },
        "id": "UQZF8V_weMxQ",
        "outputId": "56bea321-bce4-434c-854c-79cac7417ad6"
      },
      "source": [
        "\r\n",
        "def fizzbuzz(max_num):\r\n",
        "    counter = tf.constant(0)\r\n",
        "    max_num = tf.convert_to_tensor(max_num)\r\n",
        "    # 使用range遍历\r\n",
        "    for num in range(1, max_num.numpy()+1):\r\n",
        "        # 重新转为tensor类型\r\n",
        "        num = tf.constant(num)\r\n",
        "        # 使用if-elif 做判断\r\n",
        "        if int(num % 3) == 0 and int(num % 5) == 0:\r\n",
        "            print('FizzBuzz')\r\n",
        "        elif int(num % 3) == 0:\r\n",
        "            print('Fizz')\r\n",
        "        elif int(num % 5) == 0:\r\n",
        "            print('Buzz')\r\n",
        "        else:\r\n",
        "            print(num.numpy())\r\n",
        "        counter += 1  # 自加运算\r\n",
        "fizzbuzz(16)"
      ],
      "execution_count": 8,
      "outputs": [
        {
          "output_type": "stream",
          "text": [
            "1\n",
            "2\n",
            "Fizz\n",
            "4\n",
            "Buzz\n",
            "Fizz\n",
            "7\n",
            "8\n",
            "Fizz\n",
            "Buzz\n",
            "11\n",
            "Fizz\n",
            "13\n",
            "14\n",
            "FizzBuzz\n",
            "16\n"
          ],
          "name": "stdout"
        }
      ]
    },
    {
      "cell_type": "markdown",
      "metadata": {
        "id": "alKNlkIXewWG"
      },
      "source": [
        "## 3.在Eager Execution下训练\r\n",
        "计算梯度<br>\r\n",
        "自动微分对于实现机器学习算法（例如用于训练神经网络的反向传播）来说是很有用的。在 Eager Execution中，使用 tf.GradientTape 来跟踪操作以便稍后计算梯度。\r\n",
        "\r\n",
        "可以用tf.GradientTape来训练和/或计算梯度。它对复杂的训练循环特别有用。\r\n",
        "\r\n",
        "由于在每次调用期间可能发生不同的操作，所有前向传递操作都被记录到“磁带”中。要计算梯度，请向反向播放磁带，然后丢弃。特定的tf.GradientTape只能计算一个梯度; 后续调用会引发运行时错误。"
      ]
    },
    {
      "cell_type": "code",
      "metadata": {
        "colab": {
          "base_uri": "https://localhost:8080/"
        },
        "id": "2qmbDV5zeu2Y",
        "outputId": "c64b4951-86af-4c3d-8d53-9bc003d2abc2"
      },
      "source": [
        "w = tf.Variable([[1.0]])\r\n",
        "# 用tf.GradientTape()记录梯度\r\n",
        "with tf.GradientTape() as tape:\r\n",
        "  loss = w*w\r\n",
        "grad = tape.gradient(loss,w) #计算梯度\r\n",
        "print(grad)"
      ],
      "execution_count": 9,
      "outputs": [
        {
          "output_type": "stream",
          "text": [
            "tf.Tensor([[2.]], shape=(1, 1), dtype=float32)\n"
          ],
          "name": "stdout"
        }
      ]
    },
    {
      "cell_type": "code",
      "metadata": {
        "colab": {
          "base_uri": "https://localhost:8080/"
        },
        "id": "ui3yJsWFiPYa",
        "outputId": "78ae29f3-322c-451d-b17a-4a182bb3247e"
      },
      "source": [
        "a = tf.constant([[1,2,3],[2,4,5]])\r\n",
        "print(a.shape)\r\n",
        "b = a[:,tf.newaxis]\r\n",
        "print(b)"
      ],
      "execution_count": 15,
      "outputs": [
        {
          "output_type": "stream",
          "text": [
            "(2, 3)\n",
            "tf.Tensor(\n",
            "[[[1 2 3]]\n",
            "\n",
            " [[2 4 5]]], shape=(2, 1, 3), dtype=int32)\n"
          ],
          "name": "stdout"
        }
      ]
    },
    {
      "cell_type": "code",
      "metadata": {
        "colab": {
          "base_uri": "https://localhost:8080/"
        },
        "id": "fMDFen_NkVGY",
        "outputId": "7a9b5ea0-63d1-4070-a47e-29be63d3de3e"
      },
      "source": [
        "c = tf.constant([[1],[0]])\r\n",
        "data_set_1 = tf.data.Dataset.from_tensor_slices((b,c))\r\n",
        "list(data_set_1.as_numpy_iterator())\r\n"
      ],
      "execution_count": 18,
      "outputs": [
        {
          "output_type": "execute_result",
          "data": {
            "text/plain": [
              "[(array([[1, 2, 3]], dtype=int32), array([1], dtype=int32)),\n",
              " (array([[2, 4, 5]], dtype=int32), array([0], dtype=int32))]"
            ]
          },
          "metadata": {
            "tags": []
          },
          "execution_count": 18
        }
      ]
    },
    {
      "cell_type": "markdown",
      "metadata": {
        "id": "fIKKEpcKfmCk"
      },
      "source": [
        "训练模型"
      ]
    },
    {
      "cell_type": "code",
      "metadata": {
        "id": "RR-aXy-efljt"
      },
      "source": [
        "# 导入mnist数据\r\n",
        "(mnist_images,mnist_labels),_ = tf.keras.datasets.mnist.load_data()\r\n",
        "# 数据转换\r\n",
        "dataset = tf.data.Dataset.from_tensor_slices((tf.cast(mnist_images[...,tf.newaxis]/255,tf.float32),tf.cast(mnist_labels,tf.int64)))\r\n",
        "# 数据打乱与分批次\r\n",
        "dataset = dataset.shuffle(1000).batch(32)\r\n"
      ],
      "execution_count": 21,
      "outputs": []
    },
    {
      "cell_type": "code",
      "metadata": {
        "colab": {
          "base_uri": "https://localhost:8080/"
        },
        "id": "-mOuTShyiV7x",
        "outputId": "6a29e194-1591-4f1d-e68c-08942d05ddf2"
      },
      "source": [
        "# 使用Sequential构建一个卷积网络\r\n",
        "mnist_model = tf.keras.Sequential([\r\n",
        "                                   tf.keras.layers.Conv2D(16,[3,3],activation='relu',input_shape=(None,None,1)),\r\n",
        "                                   tf.keras.layers.Conv2D(16,[3,3],activation='relu'),\r\n",
        "                                   tf.keras.layers.GlobalAveragePooling2D(),\r\n",
        "                                   tf.keras.layers.Dense(10)\r\n",
        "])\r\n",
        "\r\n",
        "# 展示数据\r\n",
        "# 即使没有经过培训，也可以调用模型并在Eager Execution中检查输出\r\n",
        "for images,labels in dataset.take(1):\r\n",
        "  print(\"Logits:\",mnist_model(images[0:1]).numpy())\r\n",
        "\r\n",
        "# 优化器与损失函数\r\n",
        "optimizer = tf.keras.optimizers.Adam()\r\n",
        "loss_object = tf.keras.losses.SparseCategoricalCrossentropy(from_logits=True)\r\n",
        "\r\n"
      ],
      "execution_count": 23,
      "outputs": [
        {
          "output_type": "stream",
          "text": [
            "Logits: [[-0.02129161  0.00969803 -0.01699401  0.03271376 -0.01652957  0.00749774\n",
            "  -0.00632772  0.01480974  0.00493363 -0.01005805]]\n"
          ],
          "name": "stdout"
        }
      ]
    },
    {
      "cell_type": "code",
      "metadata": {
        "colab": {
          "base_uri": "https://localhost:8080/",
          "height": 297
        },
        "id": "y2L0SSZMn2Dj",
        "outputId": "17e5ee40-6a66-4b56-ac76-0ada9fb80cf0"
      },
      "source": [
        "# 按批次训练\r\n",
        "# 虽然 keras 模型具有内置训练循环（fit 方法），但有时需要更多自定义设置。下面是一个用 eager 实现的训练循环示例：\r\n",
        "loss_history = []\r\n",
        "for (batch,(images,labels)) in enumerate(dataset.take(400)):\r\n",
        "  if batch % 10 == 0:\r\n",
        "    print('.',end='')\r\n",
        "  with tf.GradientTape() as tape:\r\n",
        "    # 获取预测结果\r\n",
        "    logits = mnist_model(images, training=True)\r\n",
        "    # 获取损失\r\n",
        "    loss_value = loss_object(labels, logits)\r\n",
        "\r\n",
        "  loss_history.append(loss_value.numpy().mean())\r\n",
        "  # 获取本批数据梯度\r\n",
        "  grads = tape.gradient(loss_value, mnist_model.trainable_variables)\r\n",
        "  # 反向传播优化\r\n",
        "  optimizer.apply_gradients(zip(grads, mnist_model.trainable_variables))\r\n",
        "\r\n",
        "\r\n",
        "# 绘图展示loss变化\r\n",
        "import matplotlib.pyplot as plt\r\n",
        "plt.plot(loss_history)\r\n",
        "plt.xlabel('Batch #')\r\n",
        "plt.ylabel('Loss [entropy]')\r\n"
      ],
      "execution_count": 31,
      "outputs": [
        {
          "output_type": "stream",
          "text": [
            "........................................"
          ],
          "name": "stdout"
        },
        {
          "output_type": "execute_result",
          "data": {
            "text/plain": [
              "Text(0, 0.5, 'Loss [entropy]')"
            ]
          },
          "metadata": {
            "tags": []
          },
          "execution_count": 31
        },
        {
          "output_type": "display_data",
          "data": {
            "image/png": "[encoded data removed]",
            "text/plain": [
              "<Figure size 432x288 with 1 Axes>"
            ]
          },
          "metadata": {
            "tags": [],
            "needs_background": "light"
          }
        }
      ]
    },
    {
      "cell_type": "markdown",
      "metadata": {
        "id": "69IcmVVA-eKS"
      },
      "source": [
        "## 4.变量求导优化\r\n",
        "tf.Variable对象存储在训练期间访问的可变tf.Tensor值，以使自动微分更容易。模型的参数可以作为变量封装在类中。\r\n",
        "\r\n",
        "将tf.Variable 和tf.GradientTape 结合，可以更好地封装模型参数。例如，可以重写上面的自动微分示例为："
      ]
    },
    {
      "cell_type": "code",
      "metadata": {
        "colab": {
          "base_uri": "https://localhost:8080/"
        },
        "id": "rEkCu_9W-q-d",
        "outputId": "172b1b94-6ce5-490a-a744-2eaf76bb0898"
      },
      "source": [
        "class MyModel(tf.keras.Model):\r\n",
        "  def __init__(self):\r\n",
        "    super(MyModel,self).__init__()\r\n",
        "    self.W = tf.Variable(5.,name='weight')\r\n",
        "    self.b = tf.Variable(10.,name='bias')\r\n",
        "  def call(self,inputs):\r\n",
        "    return inputs * self.W + self.b\r\n",
        "\r\n",
        "# 满足函数3 * x + 2的数据\r\n",
        "NUM_EXAMPLES = 2000\r\n",
        "training_inputs = tf.random.normal([NUM_EXAMPLES])\r\n",
        "noise = tf.random.normal([NUM_EXAMPLES])\r\n",
        "training_outputs = training_inputs * 3 + 2 + noise\r\n",
        "\r\n",
        "# 损失函数\r\n",
        "def loss(model,inputs,targets):\r\n",
        "  error = model(inputs) - targets\r\n",
        "  return tf.reduce_mean(tf.square(error))\r\n",
        "# 梯度函数 \r\n",
        "def grad(model, inputs, targets):\r\n",
        "  with tf.GradientTape() as tape:\r\n",
        "    loss_value = loss(model,inputs,targets)\r\n",
        "  return tape.gradient(loss_value,[model.W,model.b])\r\n",
        "\r\n",
        "# 模型与优化器\r\n",
        "model = MyModel() \r\n",
        "\r\n",
        "optimizer = tf.keras.optimizers.SGD(learning_rate=0.01)\r\n",
        "\r\n",
        "print(\"Initial loss: {:.3f}\".format(loss(model, training_inputs, training_outputs)))\r\n",
        "\r\n",
        "# 训练循环， 反向传播优化\r\n",
        "for i in range(300):\r\n",
        "  grads = grad(model,training_inputs,training_outputs)\r\n",
        "  optimizer.apply_gradients(zip(grads,[model.W, model.b]))\r\n",
        "  if i% 20 == 0:\r\n",
        "    print(\"loss at step{:03d}:{:.3f}\".format(i, loss(model, training_inputs, training_outputs)))\r\n",
        "\r\n",
        "print(\"Final loss: {:.3f}\".format(loss(model, training_inputs, training_outputs)))\r\n",
        "print(\"W = {}, B = {}\".format(model.W.numpy(), model.b.numpy()))"
      ],
      "execution_count": 34,
      "outputs": [
        {
          "output_type": "stream",
          "text": [
            "Initial loss: 67.675\n",
            "loss at step000:65.081\n",
            "loss at step020:30.009\n",
            "loss at step040:14.162\n",
            "loss at step060:6.995\n",
            "loss at step080:3.751\n",
            "loss at step100:2.281\n",
            "loss at step120:1.615\n",
            "loss at step140:1.312\n",
            "loss at step160:1.175\n",
            "loss at step180:1.113\n",
            "loss at step200:1.084\n",
            "loss at step220:1.071\n",
            "loss at step240:1.065\n",
            "loss at step260:1.063\n",
            "loss at step280:1.061\n",
            "Final loss: 1.061\n",
            "W = 3.0317294597625732, B = 2.023134231567383\n"
          ],
          "name": "stdout"
        }
      ]
    },
    {
      "cell_type": "markdown",
      "metadata": {
        "id": "xHUo0-F2DXRc"
      },
      "source": [
        "## 5.Eager Execution中的对象\r\n",
        "使用 Graph Execution 时，程序状态（如变量）存储在全局集合中，它们的生命周期由 tf.Session 对象管理。相反，在 Eager Execution 期间，状态对象的生命周期由其对应的 Python 对象的生命周期决定。\r\n",
        "### 变量对象\r\n",
        "变量将持续存在，直到删除对象的最后一个引用，然后变量被删除。"
      ]
    },
    {
      "cell_type": "code",
      "metadata": {
        "id": "9OfH_5LlDWDh"
      },
      "source": [
        "if tf.test.is_gpu_available():\r\n",
        "    with tf.device(\"gpu:0\"):\r\n",
        "        v = tf.Variable(tf.random.normal([1000, 1000]))\r\n",
        "        v = None  # v no longer takes up GPU memory"
      ],
      "execution_count": null,
      "outputs": []
    },
    {
      "cell_type": "markdown",
      "metadata": {
        "id": "NzGvk7aeEIwA"
      },
      "source": [
        "基于对象的保存<br>\r\n",
        "tf.train.Checkpoint 可以将 tf.Variable 保存到检查点并从中恢复："
      ]
    },
    {
      "cell_type": "code",
      "metadata": {
        "colab": {
          "base_uri": "https://localhost:8080/"
        },
        "id": "lSwb5l8cEUcX",
        "outputId": "7be6171e-4df1-42f6-f530-ff9aa3224a92"
      },
      "source": [
        "# 使用检测点保存变量\r\n",
        "x = tf.Variable(6.0)\r\n",
        "checkpoint = tf.train.Checkpoint(x=x)\r\n",
        "print(x)\r\n",
        "# 变量的改变会同步到检测点\r\n",
        "x.assign(1.0)\r\n",
        "print(x)\r\n",
        "checkpoint.save('./ckpt/')\r\n",
        "# 检测点保存后，变量的改变对检测点无影响\r\n",
        "x.assign(8.0)\r\n",
        "print(x)\r\n",
        "checkpoint.restore(tf.train.latest_checkpoint('./ckpt/'))\r\n",
        "print(x)"
      ],
      "execution_count": 38,
      "outputs": [
        {
          "output_type": "stream",
          "text": [
            "<tf.Variable 'Variable:0' shape=() dtype=float32, numpy=6.0>\n",
            "<tf.Variable 'Variable:0' shape=() dtype=float32, numpy=1.0>\n",
            "<tf.Variable 'Variable:0' shape=() dtype=float32, numpy=8.0>\n",
            "<tf.Variable 'Variable:0' shape=() dtype=float32, numpy=1.0>\n"
          ],
          "name": "stdout"
        }
      ]
    },
    {
      "cell_type": "markdown",
      "metadata": {
        "id": "60Q2BzcBEUEm"
      },
      "source": [
        "要保存和加载模型，tf.train.Checkpoint 会存储对象的内部状态，而不需要隐藏变量。要记录 model、optimizer 和全局步的状态，可以将它们传递到 tf.train.Checkpoint："
      ]
    },
    {
      "cell_type": "code",
      "metadata": {
        "colab": {
          "base_uri": "https://localhost:8080/"
        },
        "id": "1DgfCNdgE_Ba",
        "outputId": "44e9c0fd-6239-41f9-87f8-9c1009ee8db2"
      },
      "source": [
        "# 模型保持\r\n",
        "import os\r\n",
        "model = tf.keras.Sequential([\r\n",
        "                             tf.keras.layers.Conv2D(16,[3,3],activation='relu'),\r\n",
        "                             tf.keras.layers.GlobalAveragePooling2D(),\r\n",
        "                             tf.keras.layers.Dense(10)\r\n",
        "\r\n",
        "])\r\n",
        "optimizer = tf.keras.optimizers.Adam(learning_rate=0.001)\r\n",
        "Checkpoint_dir = './ck_model_dir'\r\n",
        "if not os.path.exists(Checkpoint_dir):\r\n",
        "  os.makedirs(Checkpoint_dir)\r\n",
        "checkpoint_prefix = os.path.join(Checkpoint_dir,'ckpt')\r\n",
        "# 将优化器和模型记录至检测点\r\n",
        "root = tf.train.Checkpoint(optimizer=optimizer,model=model)\r\n",
        "# 保存检测点\r\n",
        "root.save(checkpoint_prefix)\r\n",
        "# 读取检测点\r\n",
        "root.restore(tf.train.latest_checkpoint(Checkpoint_dir))"
      ],
      "execution_count": 41,
      "outputs": [
        {
          "output_type": "execute_result",
          "data": {
            "text/plain": [
              "<tensorflow.python.training.tracking.util.CheckpointLoadStatus at 0x7f6c9c7449b0>"
            ]
          },
          "metadata": {
            "tags": []
          },
          "execution_count": 41
        }
      ]
    },
    {
      "cell_type": "markdown",
      "metadata": {
        "id": "AJ0VTuORH3xV"
      },
      "source": [
        "面向对象的指标<br>\r\n",
        "tf.keras.metrics存储为对象。通过将新数据传递给callable来更新度量标准，并使用tf.keras.metrics.result方法检索结果，例如："
      ]
    },
    {
      "cell_type": "code",
      "metadata": {
        "id": "4XYoS00lIhYn"
      },
      "source": [
        "m = tf.keras.metrics.Mean('loss')"
      ],
      "execution_count": 42,
      "outputs": []
    },
    {
      "cell_type": "code",
      "metadata": {
        "colab": {
          "base_uri": "https://localhost:8080/"
        },
        "id": "6TbF0TQqInGw",
        "outputId": "bdd359ff-dea2-4c7d-c6bc-ba238ad13705"
      },
      "source": [
        "m(0)\r\n",
        "m(0)\r\n",
        "m(5)\r\n",
        "print(m.result())"
      ],
      "execution_count": 44,
      "outputs": [
        {
          "output_type": "stream",
          "text": [
            "tf.Tensor(1.6666666, shape=(), dtype=float32)\n"
          ],
          "name": "stdout"
        }
      ]
    },
    {
      "cell_type": "code",
      "metadata": {
        "colab": {
          "base_uri": "https://localhost:8080/"
        },
        "id": "v7x0vXFtIwwe",
        "outputId": "b3a57071-a33e-4e27-a668-76f5c542ee6a"
      },
      "source": [
        "m([8, 9])\r\n",
        "print(m.result())"
      ],
      "execution_count": 45,
      "outputs": [
        {
          "output_type": "stream",
          "text": [
            "tf.Tensor(4.4, shape=(), dtype=float32)\n"
          ],
          "name": "stdout"
        }
      ]
    },
    {
      "cell_type": "markdown",
      "metadata": {
        "id": "Q1anx-KnJDZe"
      },
      "source": [
        "## 6.自动微分高级内容\r\n",
        "### 动态模型\r\n",
        "tf.GradientTape 也可用于动态模型。这个回溯线搜索算法示例看起来像普通的 NumPy 代码，除了存在梯度并且可微分，尽管控制流比较复杂："
      ]
    },
    {
      "cell_type": "code",
      "metadata": {
        "id": "9zMWeU2KJMOO"
      },
      "source": [
        "def line_search_step(fn, init_x, rate=1.0):\r\n",
        "    with tf.GradientTape() as tape:\r\n",
        "        # 变量会自动记录，但需要手动观察张量\r\n",
        "        tape.watch(init_x)\r\n",
        "        value = fn(init_x)\r\n",
        "    grad = tape.gradient(value, init_x)\r\n",
        "    grad_norm = tf.reduce_sum(grad * grad)\r\n",
        "    init_value = value\r\n",
        "    while value > init_value - rate * grad_norm:\r\n",
        "        x = init_x - rate * grad\r\n",
        "        value = fn(x)\r\n",
        "        rate /= 2.0\r\n",
        "    return x, value"
      ],
      "execution_count": 47,
      "outputs": []
    },
    {
      "cell_type": "markdown",
      "metadata": {
        "id": "TXsVgg0cJ3yW"
      },
      "source": [
        "自定义梯度<br>\r\n",
        "自定义梯度是在 Eager Execution 和 Graph Execution 中覆盖梯度的一种简单方式。在正向函数中，定义相对于输入、输出或中间结果的梯度。例如，下面是在反向传播中截断梯度范数的一种简单方式："
      ]
    },
    {
      "cell_type": "code",
      "metadata": {
        "id": "DvRtvFP0J858"
      },
      "source": [
        "@tf.custom_gradient\r\n",
        "def clip_gradient_by_norm(x, norm):\r\n",
        "    y = tf.identity(x)\r\n",
        "    def grad_fn(dresult):\r\n",
        "        return [tf.clip_by_norm(dresult, norm), None]  # 梯度裁剪的最直接目的就是防止梯度爆炸，手段就是控制梯度的最大范式。 \r\n",
        "    return y, grad_fn"
      ],
      "execution_count": 46,
      "outputs": []
    },
    {
      "cell_type": "markdown",
      "metadata": {
        "id": "YwuX33XhKLAf"
      },
      "source": [
        "自定义梯度可以提供数值稳定的梯度"
      ]
    },
    {
      "cell_type": "code",
      "metadata": {
        "colab": {
          "base_uri": "https://localhost:8080/"
        },
        "id": "-6MvSjUoKOrW",
        "outputId": "a1f70d4a-3d12-4848-aeeb-c04697dd97a1"
      },
      "source": [
        "def log1pexp(x):\r\n",
        "    return tf.math.log(1 + tf.exp(x))\r\n",
        "\r\n",
        "def grad_log1pexp(x):\r\n",
        "    with tf.GradientTape() as tape:\r\n",
        "        tape.watch(x)\r\n",
        "        value = log1pexp(x)\r\n",
        "    return tape.gradient(value, x)\r\n",
        "# 梯度计算在x = 0时工作正常。\r\n",
        "print(grad_log1pexp(tf.constant(0.)).numpy())\r\n",
        "# 但是，由于数值不稳定，x = 100失败。\r\n",
        "print(grad_log1pexp(tf.constant(100.)).numpy())"
      ],
      "execution_count": 50,
      "outputs": [
        {
          "output_type": "stream",
          "text": [
            "0.5\n",
            "nan\n"
          ],
          "name": "stdout"
        }
      ]
    },
    {
      "cell_type": "markdown",
      "metadata": {
        "id": "UwVw-4QkMddp"
      },
      "source": [
        "这里，log1pexp函数可以使用自定义梯度求导进行分析简化。 下面的实现重用了在前向传递期间计算的tf.exp（x）的值 - 通过消除冗余计算使其更有效："
      ]
    },
    {
      "cell_type": "code",
      "metadata": {
        "colab": {
          "base_uri": "https://localhost:8080/"
        },
        "id": "PnWcrPzvMcPQ",
        "outputId": "0617ad3a-5ec7-44f3-87e4-611706215c7a"
      },
      "source": [
        "@tf.custom_gradient\r\n",
        "def log1pexp(x):\r\n",
        "    e = tf.exp(x)\r\n",
        "    def grad(dy):\r\n",
        "        return dy * (1 - 1 / (1 + e))\r\n",
        "    return tf.math.log(1 + e), grad\r\n",
        "\r\n",
        "def grad_log1pexp(x):\r\n",
        "    with tf.GradientTape() as tape:\r\n",
        "        tape.watch(x)\r\n",
        "        value = log1pexp(x)\r\n",
        "    return tape.gradient(value, x)\r\n",
        "# 和以前一样，梯度计算在x = 0时工作正常。\r\n",
        "print(grad_log1pexp(tf.constant(0.)).numpy())\r\n",
        "# 并且梯度计算也适用于x = 100\r\n",
        "print(grad_log1pexp(tf.constant(100.)).numpy())"
      ],
      "execution_count": 51,
      "outputs": [
        {
          "output_type": "stream",
          "text": [
            "0.5\n",
            "1.0\n"
          ],
          "name": "stdout"
        }
      ]
    },
    {
      "cell_type": "markdown",
      "metadata": {
        "id": "AoEAMvYDMuVA"
      },
      "source": [
        "## 7.使用gpu提升性能\r\n",
        "\r\n",
        "在 Eager Execution 期间，计算会自动分流到 GPU。如果要控制计算运行的位置，可以将其放在 tf.device('/gpu:0') 块（或 CPU 等效块）中："
      ]
    },
    {
      "cell_type": "code",
      "metadata": {
        "colab": {
          "base_uri": "https://localhost:8080/"
        },
        "id": "N5imuyUKMt45",
        "outputId": "27ca2e8d-5a15-4122-8c2a-1567d92eb482"
      },
      "source": [
        "import time\r\n",
        "\r\n",
        "def measure(x, steps):\r\n",
        "    # TensorFlow在第一次使用时初始化GPU，其不计入时间。\r\n",
        "    tf.matmul(x, x)\r\n",
        "    start = time.time()\r\n",
        "    for i in range(steps):\r\n",
        "        x = tf.matmul(x, x)\r\n",
        "    # tf.matmul可以在完成矩阵乘法之前返回（例如，\r\n",
        "    # 可以在对CUDA流进行操作之后返回）。 \r\n",
        "    # 下面的x.numpy（）调用将确保所有已排队\r\n",
        "    # 的操作都已完成（并且还将结果复制到主机内存，\r\n",
        "    # 因此我们只包括一些matmul操作时间）\r\n",
        "    _ = x.numpy()\r\n",
        "    end = time.time()\r\n",
        "    return end - start\r\n",
        "\r\n",
        "shape = (1000, 1000)\r\n",
        "steps = 200\r\n",
        "print(\"Time to multiply a {} matrix by itself {} times:\".format(shape, steps))\r\n",
        "\r\n",
        "# 在CPU上运行:\r\n",
        "with tf.device(\"/cpu:0\"):\r\n",
        "    print(\"CPU: {} secs\".format(measure(tf.random.normal(shape), steps)))\r\n",
        "\r\n",
        "# 在GPU上运行,如果可以的话:\r\n",
        "if tf.config.list_physical_devices('GPU'):\r\n",
        "    with tf.device(\"/gpu:0\"):\r\n",
        "        print(\"GPU: {} secs\".format(measure(tf.random.normal(shape), steps)))\r\n",
        "else:\r\n",
        "    print(\"GPU: not found\")"
      ],
      "execution_count": 4,
      "outputs": [
        {
          "output_type": "stream",
          "text": [
            "Time to multiply a (1000, 1000) matrix by itself 200 times:\n",
            "CPU: 5.206080675125122 secs\n",
            "GPU: 0.1585252285003662 secs\n"
          ],
          "name": "stdout"
        }
      ]
    },
    {
      "cell_type": "markdown",
      "metadata": {
        "id": "iFsWILRWNjS4"
      },
      "source": [
        "tf.Tensor对象可以被复制到不同的设备来执行其操作"
      ]
    },
    {
      "cell_type": "code",
      "metadata": {
        "colab": {
          "base_uri": "https://localhost:8080/"
        },
        "id": "J6_FWjDwNkQa",
        "outputId": "8aac1fbe-6545-404c-e3f3-c15b554beab1"
      },
      "source": [
        "if tf.config.list_physical_devices('GPU'):\r\n",
        "    x = tf.random.normal([10, 10])\r\n",
        "    # 将tensor对象复制到gpu上\r\n",
        "    x_gpu0 = x.gpu()\r\n",
        "    x_cpu = x.cpu()\r\n",
        "\r\n",
        "    _ = tf.matmul(x_cpu, x_cpu)    # Runs on CPU\r\n",
        "    _ = tf.matmul(x_gpu0, x_gpu0)  # Runs on GPU:0"
      ],
      "execution_count": 5,
      "outputs": [
        {
          "output_type": "stream",
          "text": [
            "WARNING:tensorflow:From <ipython-input-5-447b3ca8d201>:4: _EagerTensorBase.gpu (from tensorflow.python.framework.ops) is deprecated and will be removed in a future version.\n",
            "Instructions for updating:\n",
            "Use tf.identity instead.\n",
            "WARNING:tensorflow:From <ipython-input-5-447b3ca8d201>:5: _EagerTensorBase.cpu (from tensorflow.python.framework.ops) is deprecated and will be removed in a future version.\n",
            "Instructions for updating:\n",
            "Use tf.identity instead.\n"
          ],
          "name": "stdout"
        }
      ]
    }
  ]
}