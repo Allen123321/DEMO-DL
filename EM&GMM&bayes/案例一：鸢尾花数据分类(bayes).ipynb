{
  "nbformat": 4,
  "nbformat_minor": 0,
  "metadata": {
    "colab": {
      "name": "案例一：鸢尾花数据分类(bayes).ipynb",
      "provenance": [],
      "authorship_tag": "ABX9TyPhje0RidlrwBuPk4zlqBIc",
      "include_colab_link": true
    },
    "kernelspec": {
      "name": "python3",
      "display_name": "Python 3"
    }
  },
  "cells": [
    {
      "cell_type": "markdown",
      "metadata": {
        "id": "view-in-github",
        "colab_type": "text"
      },
      "source": [
        "<a href=\"https://colab.research.google.com/github/Allen123321/DEMO-DL/blob/master/%E6%A1%88%E4%BE%8B%E4%B8%80%EF%BC%9A%E9%B8%A2%E5%B0%BE%E8%8A%B1%E6%95%B0%E6%8D%AE%E5%88%86%E7%B1%BB(bayes).ipynb\" target=\"_parent\"><img src=\"https://colab.research.google.com/assets/colab-badge.svg\" alt=\"Open In Colab\"/></a>"
      ]
    },
    {
      "cell_type": "code",
      "metadata": {
        "id": "rkhd-Lb93MY6"
      },
      "source": [
        "import numpy as np\n",
        "import pandas as pd\n",
        "import matplotlib.pyplot as plt\n",
        "import matplotlib as mpl\n",
        "\n",
        "from sklearn.preprocessing import StandardScaler,MinMaxScaler,PolynomialFeatures\n",
        "from sklearn.naive_bayes import GaussianNB,MultinomialNB\n",
        "from sklearn.pipeline import Pipeline\n",
        "from sklearn.metrics import accuracy_score\n",
        "from sklearn.model_selection import train_test_split\n",
        "from sklearn.neighbors import KNeighborsClassifier\n",
        "from sklearn import datasets"
      ],
      "execution_count": 6,
      "outputs": []
    },
    {
      "cell_type": "code",
      "metadata": {
        "id": "14rSQT0v4r7T"
      },
      "source": [
        "# 花萼长度、花萼宽度，花瓣长度，花瓣宽度\n",
        "iris_feature_E = 'sepal length', 'sepal width', 'petal length', 'petal width'\n",
        "iris_feature_C = u'花萼长度', u'花萼宽度', u'花瓣长度', u'花瓣宽度'\n",
        "iris_class = 'Iris-setosa', 'Iris-versicolor', 'Iris-virginica'\n",
        "features = [2,3]"
      ],
      "execution_count": 7,
      "outputs": []
    },
    {
      "cell_type": "code",
      "metadata": {
        "id": "MIRHveBc46jH",
        "outputId": "453dec8c-d36c-4aa3-a314-d2b8175744df",
        "colab": {
          "base_uri": "https://localhost:8080/",
          "height": 117
        }
      },
      "source": [
        "iris = datasets.load_iris()\n",
        "\n",
        "x = iris.data[:,2:]\n",
        "y = iris.target\n",
        "print (\"总样本数目：%d；特征属性数目：%d\" % x.shape)\n",
        "print(y)"
      ],
      "execution_count": 68,
      "outputs": [
        {
          "output_type": "stream",
          "text": [
            "总样本数目：150；特征属性数目：2\n",
            "[0 0 0 0 0 0 0 0 0 0 0 0 0 0 0 0 0 0 0 0 0 0 0 0 0 0 0 0 0 0 0 0 0 0 0 0 0\n",
            " 0 0 0 0 0 0 0 0 0 0 0 0 0 1 1 1 1 1 1 1 1 1 1 1 1 1 1 1 1 1 1 1 1 1 1 1 1\n",
            " 1 1 1 1 1 1 1 1 1 1 1 1 1 1 1 1 1 1 1 1 1 1 1 1 1 1 2 2 2 2 2 2 2 2 2 2 2\n",
            " 2 2 2 2 2 2 2 2 2 2 2 2 2 2 2 2 2 2 2 2 2 2 2 2 2 2 2 2 2 2 2 2 2 2 2 2 2\n",
            " 2 2]\n"
          ],
          "name": "stdout"
        }
      ]
    },
    {
      "cell_type": "code",
      "metadata": {
        "id": "9hRpkZfG6nk8",
        "outputId": "0a7223cf-f0a0-4593-fc5b-974e484aa4fb",
        "colab": {
          "base_uri": "https://localhost:8080/",
          "height": 33
        }
      },
      "source": [
        "## 0. 数据分割，形成模型训练数据和测试数据\n",
        "x_train1, x_test1, y_train1, y_test1 = train_test_split(x, y, train_size=0.8, random_state=28)\n",
        "x_train, x_test, y_train, y_test = x_train1, x_test1, y_train1, y_test1\n",
        "print (\"训练数据集样本数目：%d, 测试数据集样本数目：%d\" % (x_train.shape[0], x_test.shape[0]))\n"
      ],
      "execution_count": 69,
      "outputs": [
        {
          "output_type": "stream",
          "text": [
            "训练数据集样本数目：120, 测试数据集样本数目：30\n"
          ],
          "name": "stdout"
        }
      ]
    },
    {
      "cell_type": "code",
      "metadata": {
        "id": "A-AN7LUK6x_E",
        "outputId": "a311bce0-6f71-4880-d0ad-51b1270b18c7",
        "colab": {
          "base_uri": "https://localhost:8080/",
          "height": 150
        }
      },
      "source": [
        "## 高斯贝叶斯模型构建\n",
        "clf = Pipeline([\n",
        "        ('sc', StandardScaler()), # 标准化，转换为高斯分布，这里用归一化效果不好\n",
        "        ('poly', PolynomialFeatures(degree=1)),\n",
        "        ('clf', GaussianNB())])\n",
        "## 训练模型\n",
        "clf.fit(x_train, y_train)"
      ],
      "execution_count": 70,
      "outputs": [
        {
          "output_type": "execute_result",
          "data": {
            "text/plain": [
              "Pipeline(memory=None,\n",
              "         steps=[('sc',\n",
              "                 StandardScaler(copy=True, with_mean=True, with_std=True)),\n",
              "                ('poly',\n",
              "                 PolynomialFeatures(degree=1, include_bias=True,\n",
              "                                    interaction_only=False, order='C')),\n",
              "                ('clf', GaussianNB(priors=None, var_smoothing=1e-09))],\n",
              "         verbose=False)"
            ]
          },
          "metadata": {
            "tags": []
          },
          "execution_count": 70
        }
      ]
    },
    {
      "cell_type": "code",
      "metadata": {
        "id": "Z0qGor6I6_Mk",
        "outputId": "17d522aa-5c60-4f04-f09e-c2d1d7d330dc",
        "colab": {
          "base_uri": "https://localhost:8080/",
          "height": 33
        }
      },
      "source": [
        "## 计算预测值并计算准确率\n",
        "y_train_hat = clf.predict(x_train)\n",
        "print ('训练集准确度: %.2f%%' % (100 * accuracy_score(y_train, y_train_hat)))"
      ],
      "execution_count": 71,
      "outputs": [
        {
          "output_type": "stream",
          "text": [
            "训练集准确度: 95.83%\n"
          ],
          "name": "stdout"
        }
      ]
    },
    {
      "cell_type": "code",
      "metadata": {
        "id": "L0JtMEym7HWm",
        "outputId": "42781bbd-2bd8-4aea-9f1a-05a987925c5f",
        "colab": {
          "base_uri": "https://localhost:8080/",
          "height": 33
        }
      },
      "source": [
        "y_test_hat = clf.predict(x_test)\n",
        "print ('测试集准确度：%.2f%%' % (100 * accuracy_score(y_test, y_test_hat)))"
      ],
      "execution_count": 72,
      "outputs": [
        {
          "output_type": "stream",
          "text": [
            "测试集准确度：96.67%\n"
          ],
          "name": "stdout"
        }
      ]
    },
    {
      "cell_type": "code",
      "metadata": {
        "id": "U_I5WDowBWv0"
      },
      "source": [
        "\n",
        "\n"
      ],
      "execution_count": 55,
      "outputs": []
    },
    {
      "cell_type": "code",
      "metadata": {
        "id": "hikK6vy37Mzm"
      },
      "source": [
        "## 产生区域图\n",
        "N, M = 500, 500     # 横纵各采样多少个值\n",
        "x1_min1, x2_min1 = np.min(x_train,axis=0)\n",
        "x1_max1, x2_max1 = np.max(x_train,axis=0)\n",
        "x1_min2, x2_min2 = np.min(x_test,axis=0)\n",
        "x1_max2, x2_max2 = np.max(x_test,axis=0)\n",
        "x1_min = np.min((x1_min1, x1_min2))\n",
        "x1_max = np.max((x1_max1, x1_max2))\n",
        "x2_min = np.min((x2_min1, x2_min2))\n",
        "x2_max = np.max((x2_max1, x2_max2))\n",
        "\n",
        "t1 = np.linspace(x1_min, x1_max, N)\n",
        "t2 = np.linspace(x2_min, x2_max, N)\n",
        "x1, x2 = np.meshgrid(t1, t2)  # 生成网格采样点\n",
        "x_show = np.dstack((x1.flat, x2.flat))[0] # 测试点\n",
        "\n",
        "cm_light = mpl.colors.ListedColormap(['#77E0A0', '#FF8080', '#A0A0FF'])\n",
        "cm_dark = mpl.colors.ListedColormap(['g', 'r', 'b'])\n",
        "y_show_hat = clf.predict(x_show)                  # 预测值\n",
        "y_show_hat = y_show_hat.reshape(x1.shape)"
      ],
      "execution_count": 73,
      "outputs": []
    },
    {
      "cell_type": "code",
      "metadata": {
        "id": "rvROQCcU9MYd",
        "outputId": "5d524169-69b8-4ad2-f630-341ae24984bc",
        "colab": {
          "base_uri": "https://localhost:8080/",
          "height": 574
        }
      },
      "source": [
        "## 画图\n",
        "plt.figure(facecolor='w',figsize=(12,9))\n",
        "plt.pcolormesh(x1, x2, y_show_hat, cmap=cm_light)     # 预测值的显示\n",
        "plt.scatter(x_train[:,0], x_train[:,1], edgecolors='k', s=50, cmap=cm_dark)\n",
        "plt.scatter(x_test[:,0], x_test[:,1], marker='^', edgecolors='k', s=120, cmap=cm_dark)\n",
        "plt.xlabel(iris_feature_E[features[0]], fontsize=13)\n",
        "plt.ylabel(iris_feature_E[features[1]], fontsize=13)\n",
        "plt.xlim(x1_min, x1_max)\n",
        "plt.ylim(x2_min, x2_max)\n",
        "plt.title(u'GaussianNB Classification results of iris data, Acc:%.3f%%' % (100 * accuracy_score(y_test, y_test_hat)), fontsize=18)\n",
        "plt.grid(True)\n",
        "plt.show()"
      ],
      "execution_count": 74,
      "outputs": [
        {
          "output_type": "display_data",
          "data": {
            "image/png": "[encoded data removed]",
            "text/plain": [
              "<Figure size 864x648 with 1 Axes>"
            ]
          },
          "metadata": {
            "tags": []
          }
        }
      ]
    }
  ]
}