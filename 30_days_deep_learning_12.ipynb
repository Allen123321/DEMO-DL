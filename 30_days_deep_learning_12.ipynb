{
  "nbformat": 4,
  "nbformat_minor": 0,
  "metadata": {
    "colab": {
      "name": "30_days_deep_learning_12.ipynb",
      "provenance": [],
      "authorship_tag": "ABX9TyNA8thv6vhGL361DJ6b3Pvt",
      "include_colab_link": true
    },
    "kernelspec": {
      "name": "python3",
      "display_name": "Python 3"
    }
  },
  "cells": [
    {
      "cell_type": "markdown",
      "metadata": {
        "id": "view-in-github",
        "colab_type": "text"
      },
      "source": [
        "<a href=\"https://colab.research.google.com/github/Allen123321/DEMO-DL/blob/master/30_days_deep_learning_12.ipynb\" target=\"_parent\"><img src=\"https://colab.research.google.com/assets/colab-badge.svg\" alt=\"Open In Colab\"/></a>"
      ]
    },
    {
      "cell_type": "markdown",
      "metadata": {
        "id": "Azx6Svuhm16Q"
      },
      "source": [
        "4-2,张量的数学运算\r\n",
        "\r\n",
        "张量的操作主要包括张量的结构操作和张量的数学运算。\r\n",
        "\r\n",
        "张量结构操作诸如：张量创建，索引切片，维度变换，合并分割。\r\n",
        "\r\n",
        "张量数学运算主要有：标量运算，向量运算，矩阵运算。另外我们会介绍张量运算的广播机制。\r\n",
        "\r\n",
        "本篇我们介绍张量的数学运算。\r\n",
        "\r\n",
        "一，标量运算\r\n",
        "\r\n",
        "张量的数学运算符可以分为标量运算符、向量运算符、以及矩阵运算符。\r\n",
        "\r\n",
        "加减乘除乘方，以及三角函数，指数，对数等常见函数，逻辑比较运算符等都是标量运算符。\r\n",
        "\r\n",
        "标量运算符的特点是对张量实施逐元素运算。\r\n",
        "\r\n",
        "有些标量运算符对常用的数学运算符进行了重载。并且支持类似numpy的广播特性。\r\n",
        "\r\n",
        "许多标量运算符都在 tf.math模块下。"
      ]
    },
    {
      "cell_type": "code",
      "metadata": {
        "id": "L8rDi5-emoLT"
      },
      "source": [
        "import tensorflow as tf \r\n",
        "import numpy as np "
      ],
      "execution_count": 1,
      "outputs": []
    },
    {
      "cell_type": "code",
      "metadata": {
        "colab": {
          "base_uri": "https://localhost:8080/"
        },
        "id": "7MxWj-dKoTOf",
        "outputId": "349ae581-ee95-4db1-8617-3ad0ea24eb0b"
      },
      "source": [
        "a = tf.constant([[1.0,2],[-3,4.0]])\r\n",
        "b = tf.constant([[5.0,6],[7.0,8.0]])\r\n",
        "a+b  #运算符重载"
      ],
      "execution_count": 2,
      "outputs": [
        {
          "output_type": "execute_result",
          "data": {
            "text/plain": [
              "<tf.Tensor: shape=(2, 2), dtype=float32, numpy=\n",
              "array([[ 6.,  8.],\n",
              "       [ 4., 12.]], dtype=float32)>"
            ]
          },
          "metadata": {
            "tags": []
          },
          "execution_count": 2
        }
      ]
    },
    {
      "cell_type": "code",
      "metadata": {
        "colab": {
          "base_uri": "https://localhost:8080/"
        },
        "id": "pwLYewkcoc66",
        "outputId": "ef4a1ecb-5c58-4e8d-926a-f0ac84a8617e"
      },
      "source": [
        "a-b "
      ],
      "execution_count": 3,
      "outputs": [
        {
          "output_type": "execute_result",
          "data": {
            "text/plain": [
              "<tf.Tensor: shape=(2, 2), dtype=float32, numpy=\n",
              "array([[ -4.,  -4.],\n",
              "       [-10.,  -4.]], dtype=float32)>"
            ]
          },
          "metadata": {
            "tags": []
          },
          "execution_count": 3
        }
      ]
    },
    {
      "cell_type": "code",
      "metadata": {
        "colab": {
          "base_uri": "https://localhost:8080/"
        },
        "id": "dvjL4SNJofK9",
        "outputId": "22673dfe-1859-443e-86bb-77f2b5861edd"
      },
      "source": [
        "a*b "
      ],
      "execution_count": 4,
      "outputs": [
        {
          "output_type": "execute_result",
          "data": {
            "text/plain": [
              "<tf.Tensor: shape=(2, 2), dtype=float32, numpy=\n",
              "array([[  5.,  12.],\n",
              "       [-21.,  32.]], dtype=float32)>"
            ]
          },
          "metadata": {
            "tags": []
          },
          "execution_count": 4
        }
      ]
    },
    {
      "cell_type": "code",
      "metadata": {
        "colab": {
          "base_uri": "https://localhost:8080/"
        },
        "id": "rUTSL9oHohaQ",
        "outputId": "5683a037-d312-4dea-f6fe-a18e844083f8"
      },
      "source": [
        "a/b"
      ],
      "execution_count": 5,
      "outputs": [
        {
          "output_type": "execute_result",
          "data": {
            "text/plain": [
              "<tf.Tensor: shape=(2, 2), dtype=float32, numpy=\n",
              "array([[ 0.2       ,  0.33333334],\n",
              "       [-0.42857143,  0.5       ]], dtype=float32)>"
            ]
          },
          "metadata": {
            "tags": []
          },
          "execution_count": 5
        }
      ]
    },
    {
      "cell_type": "code",
      "metadata": {
        "colab": {
          "base_uri": "https://localhost:8080/"
        },
        "id": "4--T7znFooJk",
        "outputId": "a055d5f0-8f4a-4560-da58-d9d396baba9b"
      },
      "source": [
        "a**2"
      ],
      "execution_count": 6,
      "outputs": [
        {
          "output_type": "execute_result",
          "data": {
            "text/plain": [
              "<tf.Tensor: shape=(2, 2), dtype=float32, numpy=\n",
              "array([[ 1.,  4.],\n",
              "       [ 9., 16.]], dtype=float32)>"
            ]
          },
          "metadata": {
            "tags": []
          },
          "execution_count": 6
        }
      ]
    },
    {
      "cell_type": "code",
      "metadata": {
        "colab": {
          "base_uri": "https://localhost:8080/"
        },
        "id": "0Waqt9f7oqOU",
        "outputId": "0efcbb80-3c14-4eb4-e448-87d463b201db"
      },
      "source": [
        "a**(0.5)"
      ],
      "execution_count": 7,
      "outputs": [
        {
          "output_type": "execute_result",
          "data": {
            "text/plain": [
              "<tf.Tensor: shape=(2, 2), dtype=float32, numpy=\n",
              "array([[1.       , 1.4142135],\n",
              "       [      nan, 2.       ]], dtype=float32)>"
            ]
          },
          "metadata": {
            "tags": []
          },
          "execution_count": 7
        }
      ]
    },
    {
      "cell_type": "code",
      "metadata": {
        "colab": {
          "base_uri": "https://localhost:8080/"
        },
        "id": "n3iPOIIfov_t",
        "outputId": "3ac7027d-8743-407d-ac1a-a3072cb6cf2f"
      },
      "source": [
        "a%3 #mod的运算符重载，等价于m = tf.math.mod(a,3)"
      ],
      "execution_count": 8,
      "outputs": [
        {
          "output_type": "execute_result",
          "data": {
            "text/plain": [
              "<tf.Tensor: shape=(2, 2), dtype=float32, numpy=\n",
              "array([[ 1.,  2.],\n",
              "       [-0.,  1.]], dtype=float32)>"
            ]
          },
          "metadata": {
            "tags": []
          },
          "execution_count": 8
        }
      ]
    },
    {
      "cell_type": "code",
      "metadata": {
        "colab": {
          "base_uri": "https://localhost:8080/"
        },
        "id": "T1HNhyBho0Bi",
        "outputId": "5d015d44-fe03-474c-a4ff-097876a43c5e"
      },
      "source": [
        "a//3  #地板除法"
      ],
      "execution_count": 9,
      "outputs": [
        {
          "output_type": "execute_result",
          "data": {
            "text/plain": [
              "<tf.Tensor: shape=(2, 2), dtype=float32, numpy=\n",
              "array([[ 0.,  0.],\n",
              "       [-1.,  1.]], dtype=float32)>"
            ]
          },
          "metadata": {
            "tags": []
          },
          "execution_count": 9
        }
      ]
    },
    {
      "cell_type": "code",
      "metadata": {
        "colab": {
          "base_uri": "https://localhost:8080/"
        },
        "id": "5lAci_qlpU15",
        "outputId": "f0355b41-b939-40bc-b512-c12abb9a2488"
      },
      "source": [
        "(a>=2)"
      ],
      "execution_count": 10,
      "outputs": [
        {
          "output_type": "execute_result",
          "data": {
            "text/plain": [
              "<tf.Tensor: shape=(2, 2), dtype=bool, numpy=\n",
              "array([[False,  True],\n",
              "       [False,  True]])>"
            ]
          },
          "metadata": {
            "tags": []
          },
          "execution_count": 10
        }
      ]
    },
    {
      "cell_type": "code",
      "metadata": {
        "colab": {
          "base_uri": "https://localhost:8080/"
        },
        "id": "qwGKAzrEpZZ7",
        "outputId": "ddfff1bc-a7ea-4e96-f3bd-f3d747a7b855"
      },
      "source": [
        "(a>=2)&(a<=3)"
      ],
      "execution_count": 11,
      "outputs": [
        {
          "output_type": "execute_result",
          "data": {
            "text/plain": [
              "<tf.Tensor: shape=(2, 2), dtype=bool, numpy=\n",
              "array([[False,  True],\n",
              "       [False, False]])>"
            ]
          },
          "metadata": {
            "tags": []
          },
          "execution_count": 11
        }
      ]
    },
    {
      "cell_type": "code",
      "metadata": {
        "colab": {
          "base_uri": "https://localhost:8080/"
        },
        "id": "2g8btYQwpfvC",
        "outputId": "e24cd63e-90f7-4279-9b6a-309ddea2410c"
      },
      "source": [
        "(a>=2)|(a<=3)"
      ],
      "execution_count": 12,
      "outputs": [
        {
          "output_type": "execute_result",
          "data": {
            "text/plain": [
              "<tf.Tensor: shape=(2, 2), dtype=bool, numpy=\n",
              "array([[ True,  True],\n",
              "       [ True,  True]])>"
            ]
          },
          "metadata": {
            "tags": []
          },
          "execution_count": 12
        }
      ]
    },
    {
      "cell_type": "code",
      "metadata": {
        "colab": {
          "base_uri": "https://localhost:8080/"
        },
        "id": "ljbPDATtpmgF",
        "outputId": "3b649e0c-2b3e-461c-8d57-b4690c477d53"
      },
      "source": [
        "a==5 #tf.equal(a,5)"
      ],
      "execution_count": 13,
      "outputs": [
        {
          "output_type": "execute_result",
          "data": {
            "text/plain": [
              "<tf.Tensor: shape=(2, 2), dtype=bool, numpy=\n",
              "array([[False, False],\n",
              "       [False, False]])>"
            ]
          },
          "metadata": {
            "tags": []
          },
          "execution_count": 13
        }
      ]
    },
    {
      "cell_type": "code",
      "metadata": {
        "colab": {
          "base_uri": "https://localhost:8080/"
        },
        "id": "8K5kq-63pqEp",
        "outputId": "3db82473-be71-4778-ba55-b6713bce1332"
      },
      "source": [
        "tf.sqrt(a)"
      ],
      "execution_count": 14,
      "outputs": [
        {
          "output_type": "execute_result",
          "data": {
            "text/plain": [
              "<tf.Tensor: shape=(2, 2), dtype=float32, numpy=\n",
              "array([[1.       , 1.4142135],\n",
              "       [      nan, 2.       ]], dtype=float32)>"
            ]
          },
          "metadata": {
            "tags": []
          },
          "execution_count": 14
        }
      ]
    },
    {
      "cell_type": "code",
      "metadata": {
        "colab": {
          "base_uri": "https://localhost:8080/"
        },
        "id": "d1ruM0Zmps1p",
        "outputId": "39c3c555-43f3-4452-9bc9-9c2a35030b1d"
      },
      "source": [
        "a = tf.constant([1.0,8.0])\r\n",
        "b = tf.constant([5.0,6.0])\r\n",
        "c = tf.constant([6.0,7.0])\r\n",
        "tf.add_n([a,b,c])"
      ],
      "execution_count": 15,
      "outputs": [
        {
          "output_type": "execute_result",
          "data": {
            "text/plain": [
              "<tf.Tensor: shape=(2,), dtype=float32, numpy=array([12., 21.], dtype=float32)>"
            ]
          },
          "metadata": {
            "tags": []
          },
          "execution_count": 15
        }
      ]
    },
    {
      "cell_type": "code",
      "metadata": {
        "colab": {
          "base_uri": "https://localhost:8080/"
        },
        "id": "_fJkcinkqEgM",
        "outputId": "ac0062d8-e051-4dcf-ab3d-fbec9d8d08e6"
      },
      "source": [
        "tf.print(tf.maximum(a,b))"
      ],
      "execution_count": 16,
      "outputs": [
        {
          "output_type": "stream",
          "text": [
            "[5 8]\n"
          ],
          "name": "stdout"
        }
      ]
    },
    {
      "cell_type": "code",
      "metadata": {
        "colab": {
          "base_uri": "https://localhost:8080/"
        },
        "id": "e5Wa4GN3qIOh",
        "outputId": "63102a96-458b-4e56-a1d2-22f3aa271c59"
      },
      "source": [
        "tf.print(tf.minimum(a,b))"
      ],
      "execution_count": 17,
      "outputs": [
        {
          "output_type": "stream",
          "text": [
            "[1 6]\n"
          ],
          "name": "stdout"
        }
      ]
    },
    {
      "cell_type": "code",
      "metadata": {
        "colab": {
          "base_uri": "https://localhost:8080/"
        },
        "id": "evbC8Q3VqMEp",
        "outputId": "f82af884-0135-4e3f-a152-45611fe32619"
      },
      "source": [
        "x = tf.constant([2.6,-2.7])\r\n",
        "\r\n",
        "tf.print(tf.math.round(x)) #保留整数部分，四舍五入\r\n",
        "tf.print(tf.math.floor(x)) #保留整数部分，向下归整\r\n",
        "tf.print(tf.math.ceil(x))  #保留整数部分，向上归整"
      ],
      "execution_count": 18,
      "outputs": [
        {
          "output_type": "stream",
          "text": [
            "[3 -3]\n",
            "[2 -3]\n",
            "[3 -2]\n"
          ],
          "name": "stdout"
        }
      ]
    },
    {
      "cell_type": "code",
      "metadata": {
        "colab": {
          "base_uri": "https://localhost:8080/"
        },
        "id": "zVio8SmKqrWD",
        "outputId": "fdf509d9-59aa-4ed9-a6c2-36573cc11b07"
      },
      "source": [
        "# 幅值裁剪\r\n",
        "x = tf.constant([0.9,-0.8,100.0,-20.0,0.7])\r\n",
        "y = tf.clip_by_value(x,clip_value_min=-1,clip_value_max=1)\r\n",
        "z = tf.clip_by_norm(x,clip_norm = 3)\r\n",
        "tf.print(y)\r\n",
        "tf.print(z)"
      ],
      "execution_count": 19,
      "outputs": [
        {
          "output_type": "stream",
          "text": [
            "[0.9 -0.8 1 -1 0.7]\n",
            "[0.0264732055 -0.0235317405 2.94146752 -0.588293493 0.0205902718]\n"
          ],
          "name": "stdout"
        }
      ]
    },
    {
      "cell_type": "markdown",
      "metadata": {
        "id": "xsFwoeGjrVtW"
      },
      "source": [
        "二，向量运算\r\n",
        "\r\n",
        "向量运算符只在一个特定轴上运算，将一个向量映射到一个标量或者另外一个向量。 许多向量运算符都以reduce开头。"
      ]
    },
    {
      "cell_type": "code",
      "metadata": {
        "colab": {
          "base_uri": "https://localhost:8080/"
        },
        "id": "OPqDuS0srZjU",
        "outputId": "6cebdf2d-3149-4ef9-dd44-69fdaa4ef4c2"
      },
      "source": [
        "#向量reduce\r\n",
        "a = tf.range(1,10)\r\n",
        "tf.print(tf.reduce_sum(a))\r\n",
        "tf.print(tf.reduce_mean(a))\r\n",
        "tf.print(tf.reduce_max(a))\r\n",
        "tf.print(tf.reduce_min(a))\r\n",
        "tf.print(tf.reduce_prod(a)) # Computes the product of elements across dimensions of a tensor.计算跨张量维度的元素乘积。"
      ],
      "execution_count": 20,
      "outputs": [
        {
          "output_type": "stream",
          "text": [
            "45\n",
            "5\n",
            "9\n",
            "1\n",
            "362880\n"
          ],
          "name": "stdout"
        }
      ]
    },
    {
      "cell_type": "code",
      "metadata": {
        "colab": {
          "base_uri": "https://localhost:8080/"
        },
        "id": "WLE9RT7jshdX",
        "outputId": "df1e3b8a-935f-493e-ae6c-440b1d484fd6"
      },
      "source": [
        "#张量指定维度进行reduce\r\n",
        "b = tf.reshape(a,(3,3))\r\n",
        "tf.print(b)\r\n",
        "tf.print(tf.reduce_sum(b, axis=1, keepdims=True))\r\n",
        "tf.print(tf.reduce_sum(b, axis=0, keepdims=True))"
      ],
      "execution_count": 23,
      "outputs": [
        {
          "output_type": "stream",
          "text": [
            "[[1 2 3]\n",
            " [4 5 6]\n",
            " [7 8 9]]\n",
            "[[6]\n",
            " [15]\n",
            " [24]]\n",
            "[[12 15 18]]\n"
          ],
          "name": "stdout"
        }
      ]
    },
    {
      "cell_type": "code",
      "metadata": {
        "colab": {
          "base_uri": "https://localhost:8080/"
        },
        "id": "6DOhTs3Vv4fK",
        "outputId": "a9d53667-3c8f-4d1a-a676-60218419cd95"
      },
      "source": [
        "#bool类型的reduce\r\n",
        "p = tf.constant([True,False,False])\r\n",
        "q = tf.constant([False,False,True])\r\n",
        "tf.print(tf.reduce_all(p))\r\n",
        "tf.print(tf.reduce_any(q))"
      ],
      "execution_count": 28,
      "outputs": [
        {
          "output_type": "stream",
          "text": [
            "0\n",
            "1\n"
          ],
          "name": "stdout"
        }
      ]
    },
    {
      "cell_type": "code",
      "metadata": {
        "colab": {
          "base_uri": "https://localhost:8080/"
        },
        "id": "PRuy4umbwsml",
        "outputId": "069ec673-58ce-4102-c85a-d308a9c67608"
      },
      "source": [
        "#利用tf.foldr实现tf.reduce_sum\r\n",
        "s = tf.foldr(lambda a,b:a+b,tf.range(10)) #foldr on the list of tensors unpacked from elems on dimension 0. 从维度0的元素解压缩的张量列表中的folder\r\n",
        "tf.print(s)"
      ],
      "execution_count": 29,
      "outputs": [
        {
          "output_type": "stream",
          "text": [
            "45\n"
          ],
          "name": "stdout"
        }
      ]
    },
    {
      "cell_type": "code",
      "metadata": {
        "colab": {
          "base_uri": "https://localhost:8080/"
        },
        "id": "zTrx6iCBxDYO",
        "outputId": "03277cbb-adc2-4e4d-8855-f1836519234a"
      },
      "source": [
        "#cum扫描累积\r\n",
        "a = tf.range(1,10)\r\n",
        "tf.print(tf.math.cumsum(a)) # cumulative 累计\r\n",
        "tf.print(tf.math.cumprod(a))"
      ],
      "execution_count": 30,
      "outputs": [
        {
          "output_type": "stream",
          "text": [
            "[1 3 6 ... 28 36 45]\n",
            "[1 2 6 ... 5040 40320 362880]\n"
          ],
          "name": "stdout"
        }
      ]
    },
    {
      "cell_type": "code",
      "metadata": {
        "colab": {
          "base_uri": "https://localhost:8080/"
        },
        "id": "m2bsWtpYxYr5",
        "outputId": "d234952e-35b9-4e93-b754-c9d6f3bf6da2"
      },
      "source": [
        "#arg最大最小值索引\r\n",
        "a = tf.range(1,10)\r\n",
        "tf.print(tf.argmax(a))\r\n",
        "tf.print(tf.argmin(a))"
      ],
      "execution_count": 31,
      "outputs": [
        {
          "output_type": "stream",
          "text": [
            "8\n",
            "0\n"
          ],
          "name": "stdout"
        }
      ]
    },
    {
      "cell_type": "code",
      "metadata": {
        "colab": {
          "base_uri": "https://localhost:8080/"
        },
        "id": "IILoXtPsxx5w",
        "outputId": "dc2ed126-b56b-4a17-e593-99b3b119bec1"
      },
      "source": [
        "#tf.math.top_k可以用于对张量排序\r\n",
        "a = tf.constant([1,3,7,5,4,8])\r\n",
        "\r\n",
        "values,indices = tf.math.top_k(a,3,sorted=True)\r\n",
        "tf.print(values)\r\n",
        "tf.print(indices)\r\n",
        "\r\n",
        "#利用tf.math.top_k可以在TensorFlow中实现KNN算法"
      ],
      "execution_count": 32,
      "outputs": [
        {
          "output_type": "stream",
          "text": [
            "[8 7 5]\n",
            "[5 2 3]\n"
          ],
          "name": "stdout"
        }
      ]
    },
    {
      "cell_type": "markdown",
      "metadata": {
        "id": "In_ApOxlyJS3"
      },
      "source": [
        "三，矩阵运算\r\n",
        "\r\n",
        "矩阵必须是二维的。类似tf.constant([1,2,3])这样的不是矩阵。\r\n",
        "\r\n",
        "矩阵运算包括：矩阵乘法，矩阵转置，矩阵逆，矩阵求迹，矩阵范数，矩阵行列式，矩阵求特征值，矩阵分解等运算。\r\n",
        "\r\n",
        "除了一些常用的运算外，大部分和矩阵有关的运算都在tf.linalg子包中。"
      ]
    },
    {
      "cell_type": "code",
      "metadata": {
        "colab": {
          "base_uri": "https://localhost:8080/"
        },
        "id": "KgbJVKC6yPb9",
        "outputId": "72be48ae-eba6-45a2-ed4c-af12684da8a9"
      },
      "source": [
        "#矩阵乘法\r\n",
        "a = tf.constant([[1,2],[3,4]])\r\n",
        "b = tf.constant([[2,0],[0,2]])\r\n",
        "a@b  #等价于tf.matmul(a,b)"
      ],
      "execution_count": 33,
      "outputs": [
        {
          "output_type": "execute_result",
          "data": {
            "text/plain": [
              "<tf.Tensor: shape=(2, 2), dtype=int32, numpy=\n",
              "array([[2, 4],\n",
              "       [6, 8]], dtype=int32)>"
            ]
          },
          "metadata": {
            "tags": []
          },
          "execution_count": 33
        }
      ]
    },
    {
      "cell_type": "code",
      "metadata": {
        "colab": {
          "base_uri": "https://localhost:8080/"
        },
        "id": "Tt9RJMJMyWfw",
        "outputId": "75186b00-65d2-41bb-ed20-73e8e34c9a6f"
      },
      "source": [
        "#矩阵转置\r\n",
        "a = tf.constant([[1,2],[3,4]])\r\n",
        "tf.transpose(a)"
      ],
      "execution_count": 34,
      "outputs": [
        {
          "output_type": "execute_result",
          "data": {
            "text/plain": [
              "<tf.Tensor: shape=(2, 2), dtype=int32, numpy=\n",
              "array([[1, 3],\n",
              "       [2, 4]], dtype=int32)>"
            ]
          },
          "metadata": {
            "tags": []
          },
          "execution_count": 34
        }
      ]
    },
    {
      "cell_type": "code",
      "metadata": {
        "colab": {
          "base_uri": "https://localhost:8080/"
        },
        "id": "SjIEaTFlyeQ5",
        "outputId": "2a84978d-e6b0-4206-dd5a-c6c40ecc27a8"
      },
      "source": [
        "#矩阵逆，必须为tf.float32或tf.double类型\r\n",
        "a = tf.constant([[1.0,2],[3,4]],dtype = tf.float32)\r\n",
        "tf.linalg.inv(a) # Operations for linear algebra. Computes the inverse of one or more square invertible matrices or their adjoints (conjugate transposes)."
      ],
      "execution_count": 35,
      "outputs": [
        {
          "output_type": "execute_result",
          "data": {
            "text/plain": [
              "<tf.Tensor: shape=(2, 2), dtype=float32, numpy=\n",
              "array([[-2.0000002 ,  1.0000001 ],\n",
              "       [ 1.5000001 , -0.50000006]], dtype=float32)>"
            ]
          },
          "metadata": {
            "tags": []
          },
          "execution_count": 35
        }
      ]
    },
    {
      "cell_type": "code",
      "metadata": {
        "colab": {
          "base_uri": "https://localhost:8080/"
        },
        "id": "W9429p32zFr1",
        "outputId": "f873af93-757f-4929-e84c-8b287e4b37ae"
      },
      "source": [
        "#矩阵求trace\r\n",
        "a = tf.constant([[1.0,2],[3,4]],dtype = tf.float32)\r\n",
        "tf.linalg.trace(a) # Compute the trace of a tensor"
      ],
      "execution_count": 36,
      "outputs": [
        {
          "output_type": "execute_result",
          "data": {
            "text/plain": [
              "<tf.Tensor: shape=(), dtype=float32, numpy=5.0>"
            ]
          },
          "metadata": {
            "tags": []
          },
          "execution_count": 36
        }
      ]
    },
    {
      "cell_type": "code",
      "metadata": {
        "colab": {
          "base_uri": "https://localhost:8080/"
        },
        "id": "mVCzeWzjz2PI",
        "outputId": "4cf87574-4271-4428-9e6c-110d2509cc57"
      },
      "source": [
        "#矩阵求范数\r\n",
        "a = tf.constant([[1.0,2],[3,4]])\r\n",
        "tf.linalg.norm(a) # Computes the norm of vectors, matrices, and tensors.\r\n",
        "# b = tf.reshape(a,[4])\r\n",
        "# (sum(b**2))**0.5"
      ],
      "execution_count": 37,
      "outputs": [
        {
          "output_type": "execute_result",
          "data": {
            "text/plain": [
              "<tf.Tensor: shape=(), dtype=float32, numpy=5.477226>"
            ]
          },
          "metadata": {
            "tags": []
          },
          "execution_count": 37
        }
      ]
    },
    {
      "cell_type": "code",
      "metadata": {
        "colab": {
          "base_uri": "https://localhost:8080/"
        },
        "id": "lvwtaS_50LO7",
        "outputId": "4ed33811-f76f-490a-ef63-5d9d046bac0b"
      },
      "source": [
        "#矩阵行列式\r\n",
        "a = tf.constant([[1.0,2],[3,4]])\r\n",
        "tf.linalg.det(a) # Computes the determinant of one or more square matrices. 计算一个或多个平方矩阵的行列式。\r\n"
      ],
      "execution_count": 49,
      "outputs": [
        {
          "output_type": "execute_result",
          "data": {
            "text/plain": [
              "<tf.Tensor: shape=(), dtype=float32, numpy=-2.0>"
            ]
          },
          "metadata": {
            "tags": []
          },
          "execution_count": 49
        }
      ]
    },
    {
      "cell_type": "code",
      "metadata": {
        "colab": {
          "base_uri": "https://localhost:8080/"
        },
        "id": "nXazZ8qs2M1u",
        "outputId": "3b185a39-60d1-462b-b33e-ea9c22f574ac"
      },
      "source": [
        "#矩阵特征值\r\n",
        "a = tf.constant([[1.0,2],[-5,4]])\r\n",
        "tf.linalg.eigvals(a) # Computes the eigenvalues of one or more matrices. 计算一个或多个矩阵的特征值。"
      ],
      "execution_count": 50,
      "outputs": [
        {
          "output_type": "execute_result",
          "data": {
            "text/plain": [
              "<tf.Tensor: shape=(2,), dtype=complex64, numpy=array([2.4999995+2.7838817j, 2.5      -2.783882j ], dtype=complex64)>"
            ]
          },
          "metadata": {
            "tags": []
          },
          "execution_count": 50
        }
      ]
    },
    {
      "cell_type": "code",
      "metadata": {
        "colab": {
          "base_uri": "https://localhost:8080/"
        },
        "id": "hpHo97_c2mbr",
        "outputId": "c43a2274-6405-4e17-8ed5-a0a1af01964c"
      },
      "source": [
        "#矩阵QR分解, 将一个方阵分解为一个正交矩阵q和上三角矩阵r\r\n",
        "#QR分解实际上是对矩阵a实施Schmidt正交化得到q\r\n",
        "\r\n",
        "a = tf.constant([[1.0,2.0],[3.0,4.0]],dtype = tf.float32)\r\n",
        "q,r = tf.linalg.qr(a)\r\n",
        "\r\n",
        "tf.print(q)\r\n",
        "tf.print(r)\r\n",
        "tf.print(q@r)"
      ],
      "execution_count": 51,
      "outputs": [
        {
          "output_type": "stream",
          "text": [
            "[[-0.316227794 -0.948683321]\n",
            " [-0.948683321 0.316227764]]\n",
            "[[-3.1622777 -4.4271884]\n",
            " [0 -0.632455409]]\n",
            "[[1.00000012 1.99999988]\n",
            " [3 3.99999976]]\n"
          ],
          "name": "stdout"
        }
      ]
    },
    {
      "cell_type": "code",
      "metadata": {
        "colab": {
          "base_uri": "https://localhost:8080/"
        },
        "id": "BB8obvSQ3YVV",
        "outputId": "c581cb2d-555b-4db1-ee95-4668b6469eae"
      },
      "source": [
        "#矩阵svd分解\r\n",
        "#svd分解可以将任意一个矩阵分解为一个正交矩阵u,一个对角阵s和一个正交矩阵v.t()的乘积\r\n",
        "#svd常用于矩阵压缩和降维\r\n",
        "\r\n",
        "a  = tf.constant([[1.0,2.0],[3.0,4.0],[5.0,6.0]], dtype = tf.float32)\r\n",
        "s,u,v = tf.linalg.svd(a)\r\n",
        "tf.print(u,\"\\n\")\r\n",
        "tf.print(s,\"\\n\")\r\n",
        "tf.print(v,\"\\n\")\r\n",
        "tf.print(u@tf.linalg.diag(s)@tf.transpose(v))\r\n",
        "\r\n",
        "#利用svd分解可以在TensorFlow中实现主成分分析降维"
      ],
      "execution_count": 52,
      "outputs": [
        {
          "output_type": "stream",
          "text": [
            "[[0.229847804 -0.883461118]\n",
            " [0.524744928 -0.240782872]\n",
            " [0.819642 0.401896209]] \n",
            "\n",
            "[9.52552 0.514300048] \n",
            "\n",
            "[[0.619629562 0.784894466]\n",
            " [0.784894466 -0.619629562]] \n",
            "\n",
            "[[1.00000155 2.00000095]\n",
            " [3.00000167 4.00000191]\n",
            " [5.00000191 6.00000191]]\n"
          ],
          "name": "stdout"
        }
      ]
    },
    {
      "cell_type": "markdown",
      "metadata": {
        "id": "fUqyjDKQ371C"
      },
      "source": [
        "四，广播机制\r\n",
        "\r\n",
        "TensorFlow的广播规则和numpy是一样的:\r\n",
        "\r\n",
        "1、如果张量的维度不同，将维度较小的张量进行扩展，直到两个张量的维度都一样。\r\n",
        "\r\n",
        "2、如果两个张量在某个维度上的长度是相同的，或者其中一个张量在该维度上的长度为1，那么我们就说这两个张量在该维度上是相容的。\r\n",
        "\r\n",
        "3、如果两个张量在所有维度上都是相容的，它们就能使用广播。\r\n",
        "\r\n",
        "4、广播之后，每个维度的长度将取两个张量在该维度长度的较大值。\r\n",
        "\r\n",
        "5、在任何一个维度上，如果一个张量的长度为1，另一个张量长度大于1，那么在该维度上，就好像是对第一个张量进行了复制。\r\n",
        "\r\n",
        "tf.broadcast_to 以显式的方式按照广播机制扩展张量的维度。"
      ]
    },
    {
      "cell_type": "code",
      "metadata": {
        "colab": {
          "base_uri": "https://localhost:8080/"
        },
        "id": "7QSk6R7O4Sbf",
        "outputId": "3ffd1f68-24b1-4759-d042-c6446dc6bd2b"
      },
      "source": [
        "a = tf.constant([1,2,3])\r\n",
        "b = tf.constant([[0,0,0],[1,1,1],[2,2,2]])\r\n",
        "b + a  #等价于 b + tf.broadcast_to(a,b.shape)"
      ],
      "execution_count": 53,
      "outputs": [
        {
          "output_type": "execute_result",
          "data": {
            "text/plain": [
              "<tf.Tensor: shape=(3, 3), dtype=int32, numpy=\n",
              "array([[1, 2, 3],\n",
              "       [2, 3, 4],\n",
              "       [3, 4, 5]], dtype=int32)>"
            ]
          },
          "metadata": {
            "tags": []
          },
          "execution_count": 53
        }
      ]
    },
    {
      "cell_type": "code",
      "metadata": {
        "colab": {
          "base_uri": "https://localhost:8080/"
        },
        "id": "jxfhiO0n4a48",
        "outputId": "a0b2c98b-f5dc-4e53-9956-cdeeee7c9030"
      },
      "source": [
        "tf.broadcast_to(a,b.shape)"
      ],
      "execution_count": 54,
      "outputs": [
        {
          "output_type": "execute_result",
          "data": {
            "text/plain": [
              "<tf.Tensor: shape=(3, 3), dtype=int32, numpy=\n",
              "array([[1, 2, 3],\n",
              "       [1, 2, 3],\n",
              "       [1, 2, 3]], dtype=int32)>"
            ]
          },
          "metadata": {
            "tags": []
          },
          "execution_count": 54
        }
      ]
    },
    {
      "cell_type": "code",
      "metadata": {
        "colab": {
          "base_uri": "https://localhost:8080/"
        },
        "id": "2houoCNw4f4Q",
        "outputId": "39340a98-71b2-4963-f693-626bd87dc7a7"
      },
      "source": [
        "#计算广播后计算结果的形状，静态形状，TensorShape类型参数\r\n",
        "tf.broadcast_static_shape(a.shape,b.shape)"
      ],
      "execution_count": 55,
      "outputs": [
        {
          "output_type": "execute_result",
          "data": {
            "text/plain": [
              "TensorShape([3, 3])"
            ]
          },
          "metadata": {
            "tags": []
          },
          "execution_count": 55
        }
      ]
    },
    {
      "cell_type": "code",
      "metadata": {
        "colab": {
          "base_uri": "https://localhost:8080/"
        },
        "id": "ZkFlUgcI4ods",
        "outputId": "10459fb6-8868-40ba-e2e9-f5f745ea229b"
      },
      "source": [
        "#计算广播后计算结果的形状，动态形状，Tensor类型参数\r\n",
        "c = tf.constant([1,2,3])\r\n",
        "d = tf.constant([[1],[2],[3]])\r\n",
        "tf.broadcast_dynamic_shape(tf.shape(c),tf.shape(d))"
      ],
      "execution_count": 56,
      "outputs": [
        {
          "output_type": "execute_result",
          "data": {
            "text/plain": [
              "<tf.Tensor: shape=(2,), dtype=int32, numpy=array([3, 3], dtype=int32)>"
            ]
          },
          "metadata": {
            "tags": []
          },
          "execution_count": 56
        }
      ]
    },
    {
      "cell_type": "code",
      "metadata": {
        "colab": {
          "base_uri": "https://localhost:8080/"
        },
        "id": "CWtgf6sL4z_y",
        "outputId": "edd0bd11-291d-4e55-816c-c4529e25f630"
      },
      "source": [
        "#广播效果\r\n",
        "c+d #等价于 tf.broadcast_to(c,[3,3]) + tf.broadcast_to(d,[3,3])"
      ],
      "execution_count": 57,
      "outputs": [
        {
          "output_type": "execute_result",
          "data": {
            "text/plain": [
              "<tf.Tensor: shape=(3, 3), dtype=int32, numpy=\n",
              "array([[2, 3, 4],\n",
              "       [3, 4, 5],\n",
              "       [4, 5, 6]], dtype=int32)>"
            ]
          },
          "metadata": {
            "tags": []
          },
          "execution_count": 57
        }
      ]
    }
  ]
}