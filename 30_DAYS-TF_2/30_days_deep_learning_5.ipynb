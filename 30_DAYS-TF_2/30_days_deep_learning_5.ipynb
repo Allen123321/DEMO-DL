{
  "nbformat": 4,
  "nbformat_minor": 0,
  "metadata": {
    "colab": {
      "name": "30_days_deep_learning_5.ipynb",
      "provenance": [],
      "authorship_tag": "ABX9TyM+cLDDKEomIlgehsUF2sK8",
      "include_colab_link": true
    },
    "kernelspec": {
      "name": "python3",
      "display_name": "Python 3"
    }
  },
  "cells": [
    {
      "cell_type": "markdown",
      "metadata": {
        "id": "view-in-github",
        "colab_type": "text"
      },
      "source": [
        "<a href=\"https://colab.research.google.com/github/Allen123321/DEMO-DL/blob/master/30_days_deep_learning_5.ipynb\" target=\"_parent\"><img src=\"https://colab.research.google.com/assets/colab-badge.svg\" alt=\"Open In Colab\"/></a>"
      ]
    },
    {
      "cell_type": "markdown",
      "metadata": {
        "id": "Hjeq8z5R56W5"
      },
      "source": [
        "2-1,张量数据结构\r\n",
        "\r\n",
        "---\r\n",
        "程序 = 数据结构+算法。\r\n",
        "\r\n",
        "TensorFlow程序 = 张量数据结构 + 计算图算法语言\r\n",
        "\r\n",
        "张量和计算图是 TensorFlow的核心概念。\r\n",
        "Tensorflow的基本数据结构是张量Tensor。张量即多维数组。Tensorflow的张量和numpy中的array很类似。\r\n",
        "\r\n",
        "从行为特性来看，有两种类型的张量，常量constant和变量Variable.\r\n",
        "\r\n",
        "常量的值在计算图中不可以被重新赋值，变量可以在计算图中用assign等算子重新赋值。\r\n",
        "\r\n",
        "一，常量张量\r\n",
        "\r\n",
        "张量的数据类型和numpy.array基本一一对应\r\n",
        "\r\n",
        "\r\n",
        "\r\n",
        "\r\n",
        "\r\n"
      ]
    },
    {
      "cell_type": "code",
      "metadata": {
        "colab": {
          "base_uri": "https://localhost:8080/"
        },
        "id": "tt_7q6wy5yZD",
        "outputId": "0db25ba4-d26c-4f59-f3fa-f182437dd7bd"
      },
      "source": [
        "import numpy as np\r\n",
        "import tensorflow as tf\r\n",
        "i = tf.constant(1) # tf.int32 类型常量\r\n",
        "l = tf.constant(1,dtype = tf.int64) # tf.int64 类型常量\r\n",
        "f = tf.constant(1.23) #tf.float32 \r\n",
        "d = tf.constant(3.14,dtype = tf.double) #\r\n",
        "s = tf.constant(\"hello world\")\r\n",
        "b = tf.constant(True)\r\n",
        "\r\n",
        "\r\n",
        "print(tf.int64 == np.int64) \r\n",
        "print(tf.bool == np.bool)\r\n",
        "print(tf.double == np.float64)\r\n",
        "print(tf.string == np.unicode) # tf.string类型和np.unicode类型不等价"
      ],
      "execution_count": 1,
      "outputs": [
        {
          "output_type": "stream",
          "text": [
            "True\n",
            "True\n",
            "True\n",
            "False\n"
          ],
          "name": "stdout"
        }
      ]
    },
    {
      "cell_type": "code",
      "metadata": {
        "colab": {
          "base_uri": "https://localhost:8080/"
        },
        "id": "yaHVSEae-DxA",
        "outputId": "ddc9b0ed-74f8-4e53-8073-75134f6d04da"
      },
      "source": [
        "# 不同类型的数据可以用不同维度(rank)的张量来表示。\r\n",
        "\r\n",
        "# 标量为0维张量，向量为1维张量，矩阵为2维张量。\r\n",
        "\r\n",
        "# 彩色图像有rgb三个通道，可以表示为3维张量。\r\n",
        "\r\n",
        "# 视频还有时间维，可以表示为4维张量。\r\n",
        "\r\n",
        "# 可以简单地总结为：有几层中括号，就是多少维的张量。\r\n",
        "\r\n",
        "scalar = tf.constant(True)\r\n",
        "\r\n",
        "print(tf.rank(scalar))\r\n",
        "print(scalar.numpy().ndim)  # tf.rank的作用和numpy的ndim方法相同"
      ],
      "execution_count": 2,
      "outputs": [
        {
          "output_type": "stream",
          "text": [
            "tf.Tensor(0, shape=(), dtype=int32)\n",
            "0\n"
          ],
          "name": "stdout"
        }
      ]
    },
    {
      "cell_type": "code",
      "metadata": {
        "colab": {
          "base_uri": "https://localhost:8080/"
        },
        "id": "WxwIY3x8_QCu",
        "outputId": "2a6efaeb-2360-4189-a966-6a0d6f3dca58"
      },
      "source": [
        "vector = tf.constant([1.0,2.0,3.0,4.0]) #向量，1维张量\r\n",
        "print(tf.rank(vector))\r\n",
        "print(np.ndim(vector.numpy()))"
      ],
      "execution_count": 4,
      "outputs": [
        {
          "output_type": "stream",
          "text": [
            "tf.Tensor(1, shape=(), dtype=int32)\n",
            "1\n"
          ],
          "name": "stdout"
        }
      ]
    },
    {
      "cell_type": "code",
      "metadata": {
        "colab": {
          "base_uri": "https://localhost:8080/"
        },
        "id": "sCi7-I5u_ebQ",
        "outputId": "e45decc7-5145-4a1c-bdcd-1edf0d20943a"
      },
      "source": [
        "matrix = tf.constant([[1.0,2.0],[3.0,4.0]]) #矩阵, 2维张量\r\n",
        "print(tf.rank(matrix).numpy())\r\n",
        "print(np.ndim(matrix))"
      ],
      "execution_count": 6,
      "outputs": [
        {
          "output_type": "stream",
          "text": [
            "2\n",
            "2\n"
          ],
          "name": "stdout"
        }
      ]
    },
    {
      "cell_type": "code",
      "metadata": {
        "colab": {
          "base_uri": "https://localhost:8080/"
        },
        "id": "xTcFhys4AURf",
        "outputId": "b0b007e3-1265-4156-e7aa-4e05f0a651e1"
      },
      "source": [
        "tensor2 = tf.constant([[[1.0,2.0],[3.0,4.0]],[[5.0,6.0],[7.0,8.0]]]) # 3维张量\r\n",
        "print(tensor2)\r\n",
        "print(tf.rank(tensor2))\r\n",
        "print(tf.rank(tensor2).numpy())"
      ],
      "execution_count": 9,
      "outputs": [
        {
          "output_type": "stream",
          "text": [
            "tf.Tensor(\n",
            "[[[1. 2.]\n",
            "  [3. 4.]]\n",
            "\n",
            " [[5. 6.]\n",
            "  [7. 8.]]], shape=(2, 2, 2), dtype=float32)\n",
            "tf.Tensor(3, shape=(), dtype=int32)\n",
            "3\n"
          ],
          "name": "stdout"
        }
      ]
    },
    {
      "cell_type": "code",
      "metadata": {
        "colab": {
          "base_uri": "https://localhost:8080/"
        },
        "id": "mmTXi4LfBwGQ",
        "outputId": "c066cab0-b9ed-4a4b-f175-16bfc949587b"
      },
      "source": [
        "tensor4 = tf.constant([[[[1.0,1.0],[2.0,2.0]],[[3.0,3.0],[4.0,4.0]]],\r\n",
        "                        [[[5.0,5.0],[6.0,6.0]],[[7.0,7.0],[8.0,8.0]]]])  # 4维张量\r\n",
        "print(tensor4)\r\n",
        "print(tf.rank(tensor4))"
      ],
      "execution_count": 10,
      "outputs": [
        {
          "output_type": "stream",
          "text": [
            "tf.Tensor(\n",
            "[[[[1. 1.]\n",
            "   [2. 2.]]\n",
            "\n",
            "  [[3. 3.]\n",
            "   [4. 4.]]]\n",
            "\n",
            "\n",
            " [[[5. 5.]\n",
            "   [6. 6.]]\n",
            "\n",
            "  [[7. 7.]\n",
            "   [8. 8.]]]], shape=(2, 2, 2, 2), dtype=float32)\n",
            "tf.Tensor(4, shape=(), dtype=int32)\n"
          ],
          "name": "stdout"
        }
      ]
    },
    {
      "cell_type": "code",
      "metadata": {
        "colab": {
          "base_uri": "https://localhost:8080/"
        },
        "id": "ed0AD6bGCKnX",
        "outputId": "470972ee-d34f-4291-daaf-c29a2528b61d"
      },
      "source": [
        "# 可以用tf.cast改变张量的数据类型。\r\n",
        "# 可以用numpy方法将tensorflow中的张量转化成numpy中的张量。\r\n",
        "# 可以用shape方法查看张量的尺寸。\r\n",
        "h = tf.constant([123,456],dtype = tf.int32)\r\n",
        "f = tf.cast(h,tf.float32)\r\n",
        "print(h.dtype,f.dtype)"
      ],
      "execution_count": 11,
      "outputs": [
        {
          "output_type": "stream",
          "text": [
            "<dtype: 'int32'> <dtype: 'float32'>\n"
          ],
          "name": "stdout"
        }
      ]
    },
    {
      "cell_type": "code",
      "metadata": {
        "colab": {
          "base_uri": "https://localhost:8080/"
        },
        "id": "UrrF3ac4DPw0",
        "outputId": "282d1bbd-b00b-420b-c17d-06d77467681c"
      },
      "source": [
        "y = tf.constant([[1.0,2.0],[3.0,4.0]])\r\n",
        "print(y.shape)\r\n",
        "print(y.numpy()) #转换成np.array\r\n",
        "print(y.shape)"
      ],
      "execution_count": 13,
      "outputs": [
        {
          "output_type": "stream",
          "text": [
            "(2, 2)\n",
            "[[1. 2.]\n",
            " [3. 4.]]\n",
            "(2, 2)\n"
          ],
          "name": "stdout"
        }
      ]
    },
    {
      "cell_type": "code",
      "metadata": {
        "colab": {
          "base_uri": "https://localhost:8080/"
        },
        "id": "7dAD2gTCDr1W",
        "outputId": "e6646248-342e-4579-a7b1-5d411b1e4e5c"
      },
      "source": [
        "u = tf.constant(u\"你好 世界\")\r\n",
        "print(u.numpy())  \r\n",
        "print(u.numpy().decode(\"utf-8\"))"
      ],
      "execution_count": 14,
      "outputs": [
        {
          "output_type": "stream",
          "text": [
            "b'\\xe4\\xbd\\xa0\\xe5\\xa5\\xbd \\xe4\\xb8\\x96\\xe7\\x95\\x8c'\n",
            "你好 世界\n"
          ],
          "name": "stdout"
        }
      ]
    },
    {
      "cell_type": "code",
      "metadata": {
        "colab": {
          "base_uri": "https://localhost:8080/"
        },
        "id": "HSDyVZLmEAiz",
        "outputId": "79e4a9ab-ee19-4f16-abf9-f23d13a574c5"
      },
      "source": [
        "# 二，变量张量\r\n",
        "# 模型中需要被训练的参数一般被设置成变量。\r\n",
        "# 常量值不可以改变，常量的重新赋值相当于创造新的内存空间\r\n",
        "c = tf.constant([1.0,2.0])\r\n",
        "print(c)"
      ],
      "execution_count": 15,
      "outputs": [
        {
          "output_type": "stream",
          "text": [
            "tf.Tensor([1. 2.], shape=(2,), dtype=float32)\n"
          ],
          "name": "stdout"
        }
      ]
    },
    {
      "cell_type": "code",
      "metadata": {
        "colab": {
          "base_uri": "https://localhost:8080/"
        },
        "id": "X-PR3CFKKWNu",
        "outputId": "f49e2b90-1e06-49b2-bace-1cb262e1e71f"
      },
      "source": [
        "print(id(c))"
      ],
      "execution_count": 16,
      "outputs": [
        {
          "output_type": "stream",
          "text": [
            "140214432199432\n"
          ],
          "name": "stdout"
        }
      ]
    },
    {
      "cell_type": "code",
      "metadata": {
        "colab": {
          "base_uri": "https://localhost:8080/"
        },
        "id": "DSFHNwt1Kaob",
        "outputId": "f1be23b6-362f-4377-9342-52d9de4bf35c"
      },
      "source": [
        "c = c + tf.constant([1.0,1.0])\r\n",
        "print(c)\r\n",
        "print(id(c))"
      ],
      "execution_count": 17,
      "outputs": [
        {
          "output_type": "stream",
          "text": [
            "tf.Tensor([2. 3.], shape=(2,), dtype=float32)\n",
            "140214432200136\n"
          ],
          "name": "stdout"
        }
      ]
    },
    {
      "cell_type": "code",
      "metadata": {
        "colab": {
          "base_uri": "https://localhost:8080/"
        },
        "id": "hqOJqPUwKt0l",
        "outputId": "3c4b36ef-eb1f-4ba1-cd52-fad5dd65af10"
      },
      "source": [
        "# 变量的值可以改变，可以通过assign, assign_add等方法给变量重新赋值\r\n",
        "v = tf.Variable([1.0,2.0],name = \"v\")\r\n",
        "print(v)\r\n",
        "print(id(v))\r\n",
        "v.assign_add([1.0,1.0])\r\n",
        "print(v)\r\n",
        "print(id(v))"
      ],
      "execution_count": 18,
      "outputs": [
        {
          "output_type": "stream",
          "text": [
            "<tf.Variable 'v:0' shape=(2,) dtype=float32, numpy=array([1., 2.], dtype=float32)>\n",
            "140214432252424\n",
            "<tf.Variable 'v:0' shape=(2,) dtype=float32, numpy=array([2., 3.], dtype=float32)>\n",
            "140214432252424\n"
          ],
          "name": "stdout"
        }
      ]
    }
  ]
}