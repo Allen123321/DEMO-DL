{
  "nbformat": 4,
  "nbformat_minor": 0,
  "metadata": {
    "colab": {
      "name": "30_days_deep_learning_17.ipynb",
      "provenance": [],
      "authorship_tag": "ABX9TyPRdL9kJLKDZ5BxaQM/C5Pr",
      "include_colab_link": true
    },
    "kernelspec": {
      "name": "python3",
      "display_name": "Python 3"
    }
  },
  "cells": [
    {
      "cell_type": "markdown",
      "metadata": {
        "id": "view-in-github",
        "colab_type": "text"
      },
      "source": [
        "<a href=\"https://colab.research.google.com/github/Allen123321/DEMO-DL/blob/master/30_days_deep_learning_17.ipynb\" target=\"_parent\"><img src=\"https://colab.research.google.com/assets/colab-badge.svg\" alt=\"Open In Colab\"/></a>"
      ]
    },
    {
      "cell_type": "markdown",
      "metadata": {
        "id": "kGdlYOUGpyZ6"
      },
      "source": [
        "## 5-5,损失函数losses\r\n",
        "一般来说，监督学习的目标函数由损失函数和正则化项组成。（Objective = Loss + Regularization）\r\n",
        "\r\n",
        "对于keras模型，目标函数中的正则化项一般在各层中指定，例如使用Dense的 kernel_regularizer 和 bias_regularizer等参数指定权重使用l1或者l2正则化项，此外还可以用kernel_constraint 和 bias_constraint等参数约束权重的取值范围，这也是一种正则化手段。\r\n",
        "\r\n",
        "损失函数在模型编译时候指定。对于回归模型，通常使用的损失函数是均方损失函数 mean_squared_error。\r\n",
        "\r\n",
        "对于二分类模型，通常使用的是二元交叉熵损失函数 binary_crossentropy。\r\n",
        "\r\n",
        "对于多分类模型，如果label是one-hot编码的，则使用类别交叉熵损失函数 categorical_crossentropy。如果label是类别序号编码的，则需要使用稀疏类别交叉熵损失函数 sparse_categorical_crossentropy。\r\n",
        "\r\n",
        "如果有需要，也可以自定义损失函数，自定义损失函数需要接收两个张量y_true,y_pred作为输入参数，并输出一个标量作为损失函数值。\r\n",
        "\r\n",
        "\r\n"
      ]
    },
    {
      "cell_type": "code",
      "metadata": {
        "id": "5QLGJTNgmiS6"
      },
      "source": [
        "import numpy as np\r\n",
        "import pandas as pd\r\n",
        "import tensorflow as tf\r\n",
        "from tensorflow.keras import layers,models,losses,regularizers,constraints\r\n"
      ],
      "execution_count": 2,
      "outputs": []
    },
    {
      "cell_type": "code",
      "metadata": {
        "colab": {
          "base_uri": "https://localhost:8080/"
        },
        "id": "wyhePH9NqzKM",
        "outputId": "361fb724-030c-4eed-d2b2-c2a0b1c15e0b"
      },
      "source": [
        "#一，损失函数和正则化项\r\n",
        "# tf.keras.backend.clear_session()\r\n",
        "model = models.Sequential()\r\n",
        "model.add(layers.Dense(64,input_dim=64,kernel_regularizer=regularizers.l2(0.01),\r\n",
        "                       activity_regularizer=regularizers.l1(0.01),\r\n",
        "                       kernel_constraint=constraints.MaxNorm(max_value=2,axis=0)))\r\n",
        "model.add(layers.Dense(10,kernel_regularizer=regularizers.l1_l2(0.01,0.01),activation=\"sigmoid\"))\r\n",
        "model.compile(optimizer = \"rmsprop\",\r\n",
        "               loss = \"binary_crossentropy\",metrics=[\"AUC\"])\r\n",
        "model.summary()\r\n",
        "\r\n"
      ],
      "execution_count": 4,
      "outputs": [
        {
          "output_type": "stream",
          "text": [
            "Model: \"sequential_1\"\n",
            "_________________________________________________________________\n",
            "Layer (type)                 Output Shape              Param #   \n",
            "=================================================================\n",
            "dense_2 (Dense)              (None, 64)                4160      \n",
            "_________________________________________________________________\n",
            "dense_3 (Dense)              (None, 10)                650       \n",
            "=================================================================\n",
            "Total params: 4,810\n",
            "Trainable params: 4,810\n",
            "Non-trainable params: 0\n",
            "_________________________________________________________________\n"
          ],
          "name": "stdout"
        }
      ]
    },
    {
      "cell_type": "markdown",
      "metadata": {
        "id": "bXwz-RS2u2rO"
      },
      "source": [
        "## 二，内置损失函数\r\n",
        "内置的损失函数一般有类的实现和函数的实现两种形式。\r\n",
        "\r\n",
        "如：CategoricalCrossentropy 和 categorical_crossentropy 都是类别交叉熵损失函数，前者是类的实现形式，后者是函数的实现形式。\r\n",
        "\r\n",
        "常用的一些内置损失函数说明如下。\r\n",
        "\r\n",
        "mean_squared_error（均方误差损失，用于回归，简写为 mse, 类与函数实现形式分别为 MeanSquaredError 和 MSE）\r\n",
        "\r\n",
        "mean_absolute_error (平均绝对值误差损失，用于回归，简写为 mae, 类与函数实现形式分别为 MeanAbsoluteError 和 MAE)\r\n",
        "\r\n",
        "mean_absolute_percentage_error (平均百分比误差损失，用于回归，简写为 mape, 类与函数实现形式分别为 MeanAbsolutePercentageError 和 MAPE)\r\n",
        "\r\n",
        "Huber(Huber损失，只有类实现形式，用于回归，介于mse和mae之间，对异常值比较鲁棒，相对mse有一定的优势)[Huber loss](https://en.wikipedia.org/wiki/Huber_loss)\r\n",
        "\r\n",
        "binary_crossentropy(二元交叉熵，用于二分类，类实现形式为 BinaryCrossentropy)\r\n",
        "\r\n",
        "categorical_crossentropy(类别交叉熵，用于多分类，要求label为onehot编码，类实现形式为 CategoricalCrossentropy)\r\n",
        "\r\n",
        "sparse_categorical_crossentropy(稀疏类别交叉熵，用于多分类，要求label为序号编码形式，类实现形式为 SparseCategoricalCrossentropy)\r\n",
        "\r\n",
        "hinge(合页损失函数，用于二分类，最著名的应用是作为支持向量机SVM的损失函数，类实现形式为 Hinge)\r\n",
        "\r\n",
        "kld(相对熵损失，也叫KL散度，常用于最大期望算法EM的损失函数，两个概率分布差异的一种信息度量。类与函数实现形式分别为 KLDivergence 或 KLD)\r\n",
        "\r\n",
        "cosine_similarity(余弦相似度，可用于多分类，类实现形式为 CosineSimilarity)"
      ]
    },
    {
      "cell_type": "markdown",
      "metadata": {
        "id": "C4zvUGfO0UQ6"
      },
      "source": [
        "## 自定义损失函数\r\n",
        "自定义损失函数接收两个张量y_true,y_pred作为输入参数，并输出一个标量作为损失函数值。\r\n",
        "\r\n",
        "也可以对tf.keras.losses.Loss进行子类化，重写call方法实现损失的计算逻辑，从而得到损失函数的类的实现。\r\n",
        "\r\n",
        "下面是一个Focal Loss的自定义实现示范。Focal Loss是一种对binary_crossentropy的改进损失函数形式。\r\n",
        "\r\n",
        "它在样本不均衡和存在较多易分类的样本时相比binary_crossentropy具有明显的优势。\r\n",
        "\r\n",
        "它有两个可调参数，alpha参数和gamma参数。其中alpha参数主要用于衰减负样本的权重，gamma参数主要用于衰减容易训练样本的权重。\r\n",
        "\r\n",
        "从而让模型更加聚焦在正样本和困难样本上。这就是为什么这个损失函数叫做Focal Loss。\r\n",
        "\r\n",
        "详见[《5分钟理解Focal Loss与GHM——解决样本不平衡利器》](https://zhuanlan.zhihu.com/p/80594704)"
      ]
    },
    {
      "cell_type": "code",
      "metadata": {
        "id": "cc36-sD-uxn2"
      },
      "source": [
        "def focal_loss(gamma=2., alpha=0.75):\r\n",
        "  def focal_loss_fixed(y_true,y_pred):\r\n",
        "    bce = tf.losses.binary_crossentropy(y_true,y_pred)\r\n",
        "    p_t = (y_true*y_pred) + ((1-y_true)*(1-y_pred))\r\n",
        "    alpha_factor = y_true*alpha + (1-y_true)*(1-alpha)\r\n",
        "    modulating_factor = tf.pow(1.0-p_t,gamma)\r\n",
        "    loss = tf.reduce_sum(alpha_factor * modulating_factor * bce,axis = -1 )\r\n",
        "    return loss\r\n",
        "\r\n",
        "  return focal_loss_fixed\r\n",
        "\r\n",
        "  \r\n"
      ],
      "execution_count": 5,
      "outputs": []
    },
    {
      "cell_type": "code",
      "metadata": {
        "id": "6PeNgxBr9YAK"
      },
      "source": [
        "class FocalLoss(tf.keras.losses.Loss):\r\n",
        "  def __init__(self,gamma=2.0,alpha=0.75,name=\"focal_loss\"):\r\n",
        "    self.gamma =gamma\r\n",
        "    self.alpha = alpha\r\n",
        "\r\n",
        "  def call(self,y_true,y_pred):\r\n",
        "    bce = tf.losses.binary_crossentropy(y_true, y_pred)\r\n",
        "    p_t = (y_true * y_pred) + ((1 - y_true) * (1 - y_pred))\r\n",
        "    alpha_factor = y_true * self.alpha + (1 - y_true) * (1 - self.alpha)\r\n",
        "    modulating_factor = tf.pow(1.0 - p_t, self.gamma)\r\n",
        "    loss = tf.reduce_sum(alpha_factor * modulating_factor * bce,axis = -1 )\r\n",
        "    return loss"
      ],
      "execution_count": 6,
      "outputs": []
    },
    {
      "cell_type": "markdown",
      "metadata": {
        "id": "Mtm_e6gu-Hte"
      },
      "source": [
        "## 5-6,评估指标metrics\r\n",
        "损失函数除了作为模型训练时候的优化目标，也能够作为模型好坏的一种评价指标。但通常人们还会从其它角度评估模型的好坏。\r\n",
        "\r\n",
        "这就是评估指标。通常损失函数都可以作为评估指标，如MAE,MSE,CategoricalCrossentropy等也是常用的评估指标。 \r\n",
        "\r\n",
        "但评估指标不一定可以作为损失函数，例如AUC（Area Under Curve）,Accuracy,Precision。因为评估指标不要求连续可导，而损失函数通常要求连续可导。\r\n",
        "\r\n",
        "编译模型时，可以通过列表形式指定多个评估指标。\r\n",
        "\r\n",
        "如果有需要，也可以自定义评估指标。\r\n",
        "\r\n",
        "自定义评估指标需要接收两个张量y_true,y_pred作为输入参数，并输出一个标量作为评估值。\r\n",
        "\r\n",
        "也可以对tf.keras.metrics.Metric进行子类化，重写初始化方法, update_state方法, result方法实现评估指标的计算逻辑，从而得到评估指标的类的实现形式。\r\n",
        "\r\n",
        "由于训练的过程通常是分批次训练的，而评估指标要跑完一个epoch才能够得到整体的指标结果。因此，类形式的评估指标更为常见。即需要编写初始化方法以创建与计算指标结果相关的一些中间变量，编写update_state方法在每个batch后更新相关中间变量的状态，编写result方法输出最终指标结果。\r\n",
        "\r\n",
        "如果编写函数形式的评估指标，则只能取epoch中各个batch计算的评估指标结果的平均值作为整个epoch上的评估指标结果，这个结果通常会偏离整个epoch数据一次计算的结果。\r\n",
        "\r\n",
        "## 一，常用的内置评估指标\r\n",
        "MeanSquaredError（均方误差，用于回归，可以简写为MSE，函数形式为mse）\r\n",
        "\r\n",
        "MeanAbsoluteError (平均绝对值误差，用于回归，可以简写为MAE，函数形式为mae)\r\n",
        "\r\n",
        "MeanAbsolutePercentageError (平均百分比误差，用于回归，可以简写为MAPE，函数形式为mape)\r\n",
        "\r\n",
        "RootMeanSquaredError (均方根误差，用于回归)\r\n",
        "\r\n",
        "Accuracy (准确率，用于分类，可以用字符串\"Accuracy\"表示，Accuracy=(TP+TN)/(TP+TN+FP+FN)，要求y_true和y_pred都为类别序号编码)\r\n",
        "\r\n",
        "Precision (精确率，用于二分类，Precision = TP/(TP+FP))\r\n",
        "\r\n",
        "Recall (召回率，用于二分类，Recall = TP/(TP+FN))\r\n",
        "\r\n",
        "TruePositives (真正例，用于二分类)\r\n",
        "\r\n",
        "TrueNegatives (真负例，用于二分类)\r\n",
        "\r\n",
        "FalsePositives (假正例，用于二分类)\r\n",
        "\r\n",
        "FalseNegatives (假负例，用于二分类)\r\n",
        "\r\n",
        "AUC(ROC曲线(TPR vs FPR)下的面积，用于二分类，直观解释为随机抽取一个正样本和一个负样本，正样本的预测值大于负样本的概率)\r\n",
        "\r\n",
        "CategoricalAccuracy（分类准确率，与Accuracy含义相同，要求y_true(label)为onehot编码形式）\r\n",
        "\r\n",
        "SparseCategoricalAccuracy (稀疏分类准确率，与Accuracy含义相同，要求y_true(label)为序号编码形式)\r\n",
        "\r\n",
        "MeanIoU (Intersection-Over-Union，常用于图像分割)\r\n",
        "\r\n",
        "TopKCategoricalAccuracy (多分类TopK准确率，要求y_true(label)为onehot编码形式)\r\n",
        "\r\n",
        "SparseTopKCategoricalAccuracy (稀疏多分类TopK准确率，要求y_true(label)为序号编码形式)\r\n",
        "\r\n",
        "Mean (平均值)\r\n",
        "\r\n",
        "Sum (求和)"
      ]
    },
    {
      "cell_type": "markdown",
      "metadata": {
        "id": "GLU0Fgq-AyHE"
      },
      "source": [
        "## 二， 自定义评估指标\r\n",
        "我们以金融风控领域常用的KS指标为例，示范自定义评估指标。\r\n",
        "\r\n",
        "KS指标适合二分类问题，其计算方式为 KS=max(TPR-FPR).\r\n",
        "\r\n",
        "其中TPR=TP/(TP+FN) , FPR = FP/(FP+TN)\r\n",
        "\r\n",
        "TPR曲线实际上就是正样本的累积分布曲线(CDF)，FPR曲线实际上就是负样本的累积分布曲线(CDF)。\r\n",
        "\r\n",
        "KS指标就是正样本和负样本累积分布曲线差值的最大值。\r\n",
        "KS(Kolmogorov-Smirnov)值衡量的是好坏样本累计分部之间的差值。\r\n",
        "![image.png](data:image/png;base64,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)"
      ]
    },
    {
      "cell_type": "code",
      "metadata": {
        "id": "hiAfTdu7-GvG"
      },
      "source": [
        "import numpy as np\r\n",
        "import pandas as pd\r\n",
        "import tensorflow as tf\r\n",
        "from tensorflow.keras import layers,models,losses,metrics"
      ],
      "execution_count": 7,
      "outputs": []
    },
    {
      "cell_type": "code",
      "metadata": {
        "id": "Z9isZ5P3CPdn"
      },
      "source": [
        "#函数形式的自定义评估指标\r\n",
        "@tf.function\r\n",
        "def ks(y_true,y_pred):\r\n",
        "    y_true = tf.reshape(y_true,(-1,))\r\n",
        "    y_pred = tf.reshape(y_pred,(-1,))\r\n",
        "    length = tf.shape(y_true)[0]\r\n",
        "    t = tf.math.top_k(y_pred,k = length,sorted = False)\r\n",
        "    y_pred_sorted = tf.gather(y_pred,t.indices)\r\n",
        "    tf.print(y_pred_sorted)\r\n",
        "    y_true_sorted = tf.gather(y_true,t.indices)\r\n",
        "    tf.print(y_true_sorted)\r\n",
        "    cum_positive_ratio = tf.truediv(tf.cumsum(y_true_sorted),tf.reduce_sum(y_true_sorted))\r\n",
        "    tf.print(cum_positive_ratio)\r\n",
        "    cum_negative_ratio = tf.truediv(tf.cumsum(1 - y_true_sorted),tf.reduce_sum(1 - y_true_sorted))\r\n",
        "    tf.print(cum_negative_ratio)\r\n",
        "    ks_value = tf.reduce_max(tf.abs(cum_positive_ratio - cum_negative_ratio)) \r\n",
        "    return ks_value"
      ],
      "execution_count": 11,
      "outputs": []
    },
    {
      "cell_type": "code",
      "metadata": {
        "colab": {
          "base_uri": "https://localhost:8080/"
        },
        "id": "vIsOv2KeEYw5",
        "outputId": "70b356b0-29d1-4512-fcec-86a5737df7ef"
      },
      "source": [
        "y_true = tf.constant([[1],[1],[1],[0],[1],[1],[1],[0],[0],[0],[1],[0],[1],[0]])\r\n",
        "y_pred = tf.constant([[0.6],[0.1],[0.4],[0.5],[0.7],[0.7],[0.7],[0.4],[0.4],[0.5],[0.8],[0.3],[0.5],[0.3]])\r\n",
        "\r\n",
        "tf.print(ks(y_true,y_pred))"
      ],
      "execution_count": 12,
      "outputs": [
        {
          "output_type": "stream",
          "text": [
            "[0.8 0.7 0.7 ... 0.3 0.3 0.1]\n",
            "[1 1 1 ... 0 0 1]\n",
            "[0.125 0.25 0.375 ... 0.875 0.875 1]\n",
            "[0 0 0 ... 0.83333333333333337 1 1]\n",
            "0.625\n"
          ],
          "name": "stdout"
        }
      ]
    },
    {
      "cell_type": "code",
      "metadata": {
        "id": "Pv5t2vKTFypP"
      },
      "source": [
        "#类形式的自定义评估指标\r\n",
        "class KS(metrics.Metric):\r\n",
        "  def __init__(self, name = \"ks\", **kwargs):\r\n",
        "    super(KS,self).__init__(name=name,**kwargs)\r\n",
        "    self.true_positives = self.add_weight(name = \"tp\",shape = (101,), initializer = \"zeros\")\r\n",
        "    self.false_positives = self.add_weight(name = \"fp\",shape = (101,), initializer = \"zeros\")\r\n",
        "\r\n",
        "  @tf.function\r\n",
        "  def update_state(self,y_true,y_pred):\r\n",
        "    y_true = tf.cast(tf.reshape(y_true,(-1,)),tf.bool)\r\n",
        "    y_pred = tf.cast(100*tf.reshape(y_pred,(-1,)),tf.int32)\r\n",
        "\r\n",
        "    for i in tf.range(0,tf.shape(y_true)[0]):\r\n",
        "      if y_true[i]:\r\n",
        "        self.true_positives[y_pred[i]].assign(self.true_positives[y_pred[i]]+1.0)\r\n",
        "      else:\r\n",
        "        self.false_positives[y_pred[i]].assign(self.false_positives[y_pred[i]]+1.0)\r\n",
        "\r\n",
        "    return (self.true_positives,self.false_positives)\r\n",
        "\r\n",
        "  @tf.function\r\n",
        "  def result(self):\r\n",
        "    cum_positive_ratio = tf.truediv(tf.cumsum(self.true_positives),tf.reduce_sum(self.true_positives))\r\n",
        "    cum_negative_ratio = tf.truediv(tf.cumsum(self.false_positives),tf.reduce_sum(self.false_positives))\r\n",
        "    ks_value = tf.reduce_max(tf.abs(cum_positive_ratio - cum_negative_ratio)) \r\n",
        "    return ks_value\r\n",
        "\r\n",
        "\r\n"
      ],
      "execution_count": 14,
      "outputs": []
    },
    {
      "cell_type": "code",
      "metadata": {
        "colab": {
          "base_uri": "https://localhost:8080/"
        },
        "id": "2QcOIHm0HIR1",
        "outputId": "bab0a55b-6682-4931-c049-a59ce031e683"
      },
      "source": [
        "y_true = tf.constant([[1],[1],[1],[0],[1],[1],[1],[0],[0],[0],[1],[0],[1],[0]])\r\n",
        "y_pred = tf.constant([[0.6],[0.1],[0.4],[0.5],[0.7],[0.7],\r\n",
        "                      [0.7],[0.4],[0.4],[0.5],[0.8],[0.3],[0.5],[0.3]])\r\n",
        "\r\n",
        "myks = KS()\r\n",
        "myks.update_state(y_true,y_pred)\r\n",
        "tf.print(myks.result())"
      ],
      "execution_count": 15,
      "outputs": [
        {
          "output_type": "stream",
          "text": [
            "0.625\n"
          ],
          "name": "stdout"
        }
      ]
    }
  ]
}