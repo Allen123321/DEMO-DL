{
  "nbformat": 4,
  "nbformat_minor": 0,
  "metadata": {
    "colab": {
      "name": "GEE.demo.ipynb",
      "provenance": [],
      "collapsed_sections": [],
      "authorship_tag": "ABX9TyNxcuGoPjzxI/sMeLFz9cCI",
      "include_colab_link": true
    },
    "kernelspec": {
      "name": "python3",
      "display_name": "Python 3"
    },
    "accelerator": "GPU"
  },
  "cells": [
    {
      "cell_type": "markdown",
      "metadata": {
        "id": "view-in-github",
        "colab_type": "text"
      },
      "source": [
        "<a href=\"https://colab.research.google.com/github/Allen123321/DEMO-DL/blob/master/GEE_demo.ipynb\" target=\"_parent\"><img src=\"https://colab.research.google.com/assets/colab-badge.svg\" alt=\"Open In Colab\"/></a>"
      ]
    },
    {
      "cell_type": "markdown",
      "metadata": {
        "id": "f1NVQ36nllKk"
      },
      "source": [
        "This is an Earth Engine <> TensorFlow demonstration notebook. Specifically, this notebook shows:\r\n",
        "\r\n",
        "Exporting training/testing data from Earth Engine in TFRecord format.\r\n",
        "Preparing the data for use in a TensorFlow model.\r\n",
        "Training and validating a simple model (Keras Sequential neural network) in TensorFlow.\r\n",
        "Making predictions on image data exported from Earth Engine in TFRecord format.\r\n",
        "Ingesting classified image data to Earth Engine in TFRecord format."
      ]
    },
    {
      "cell_type": "markdown",
      "metadata": {
        "id": "_Z4wZmKamvmz"
      },
      "source": [
        "Import software libraries and/or authenticate as necessary."
      ]
    },
    {
      "cell_type": "code",
      "metadata": {
        "id": "9IwHd3kjJRB2"
      },
      "source": [
        "from google.colab import auth\r\n",
        "auth.authenticate_user()"
      ],
      "execution_count": 1,
      "outputs": []
    },
    {
      "cell_type": "code",
      "metadata": {
        "id": "Jp5qstt8Jemi",
        "colab": {
          "base_uri": "https://localhost:8080/"
        },
        "outputId": "a1c8e811-1633-45dc-b997-129d5c850539"
      },
      "source": [
        "import ee\r\n",
        "ee.Authenticate()\r\n",
        "ee.Initialize()"
      ],
      "execution_count": 2,
      "outputs": [
        {
          "output_type": "stream",
          "text": [
            "To authorize access needed by Earth Engine, open the following URL in a web browser and follow the instructions. If the web browser does not start automatically, please manually browse the URL below.\n",
            "\n",
            "    https://accounts.google.com/o/oauth2/auth?client_id=517222506229-vsmmajv00ul0bs7p89v5m89qs8eb9359.apps.googleusercontent.com&scope=https%3A%2F%2Fwww.googleapis.com%2Fauth%2Fearthengine+https%3A%2F%2Fwww.googleapis.com%2Fauth%2Fdevstorage.full_control&redirect_uri=urn%3Aietf%3Awg%3Aoauth%3A2.0%3Aoob&response_type=code&code_challenge=LBsmhhCtUpwuLT0DS2xuaMDPquA0Iq13z0L2EivPRmY&code_challenge_method=S256\n",
            "\n",
            "The authorization workflow will generate a code, which you should paste in the box below. \n",
            "Enter verification code: 4/1AY0e-g7NroXfz8K1Nm3fQVAaEy9lGCyJzQYOkzVVTuZ3hKTdWxSKPtlz1v4\n",
            "\n",
            "Successfully saved authorization token.\n"
          ],
          "name": "stdout"
        }
      ]
    },
    {
      "cell_type": "code",
      "metadata": {
        "id": "QMKNvQArJisk",
        "colab": {
          "base_uri": "https://localhost:8080/"
        },
        "outputId": "81897c32-5866-47c9-cfc2-7159cb6c5981"
      },
      "source": [
        "import tensorflow as tf\r\n",
        "print(tf.__version__)"
      ],
      "execution_count": 3,
      "outputs": [
        {
          "output_type": "stream",
          "text": [
            "2.4.0\n"
          ],
          "name": "stdout"
        }
      ]
    },
    {
      "cell_type": "code",
      "metadata": {
        "id": "tBvqgMmVJobj",
        "colab": {
          "base_uri": "https://localhost:8080/"
        },
        "outputId": "8a296ef9-1d47-48f0-f188-460b90a0f63b"
      },
      "source": [
        "import folium\r\n",
        "print(folium.__version__)"
      ],
      "execution_count": 4,
      "outputs": [
        {
          "output_type": "stream",
          "text": [
            "0.8.3\n"
          ],
          "name": "stdout"
        }
      ]
    },
    {
      "cell_type": "markdown",
      "metadata": {
        "id": "F7ExkGRPm2NQ"
      },
      "source": [
        "## Define variables"
      ]
    },
    {
      "cell_type": "code",
      "metadata": {
        "id": "5bRsfS0HJrwz"
      },
      "source": [
        "# Your Earth Engine username.  This is used to import a classified image\r\n",
        "# into your Earth Engine assets folder.\r\n",
        "USER_NAME = 'jiashuxu1'\r\n",
        "\r\n",
        "# Cloud Storage bucket into which training, testing and prediction \r\n",
        "# datasets will be written.  You must be able to write into this bucket.\r\n",
        "OUTPUT_BUCKET = 'geetest-allen'\r\n",
        "\r\n",
        "# Use Landsat 8 surface reflectance data for predictors. #使用Landsat 8表面反射率数据作为预测变量。\r\n",
        "L8SR = ee.ImageCollection('LANDSAT/LC08/C01/T1_SR')\r\n",
        "# Use these bands for prediction.\r\n",
        "BANDS = ['B2', 'B3', 'B4', 'B5', 'B6', 'B7']\r\n",
        "\r\n",
        "# This is a trianing/testing dataset of points with known land cover labels.\r\n",
        "LABEL_DATA = ee.FeatureCollection('projects/google/demo_landcover_labels')\r\n",
        "# The labels, consecutive integer indices starting from zero, are stored in\r\n",
        "# this property, set on each point.\r\n",
        "LABEL = 'landcover'\r\n",
        "# Number of label values, i.e. number of classes in the classification.\r\n",
        "N_CLASSES = 3\r\n",
        "\r\n",
        "# These names are used to specify properties in the export of\r\n",
        "# training/testing data and to define the mapping between names and data\r\n",
        "# when reading into TensorFlow datasets.\r\n",
        "FEATURE_NAMES = list(BANDS)\r\n",
        "FEATURE_NAMES.append(LABEL)\r\n",
        "\r\n",
        "# File names for the training and testing datasets.  These TFRecord files\r\n",
        "# will be exported from Earth Engine into the Cloud Storage bucket.\r\n",
        "TRAIN_FILE_PREFIX = 'Training_demo'\r\n",
        "TEST_FILE_PREFIX = 'Testing_demo'\r\n",
        "file_extension = '.tfrecord.gz'\r\n",
        "TRAIN_FILE_PATH = 'gs://' + OUTPUT_BUCKET + '/' + TRAIN_FILE_PREFIX + file_extension\r\n",
        "TEST_FILE_PATH = 'gs://' + OUTPUT_BUCKET + '/' + TEST_FILE_PREFIX + file_extension\r\n",
        "\r\n",
        "# File name for the prediction (image) dataset.  The trained model will read\r\n",
        "# this dataset and make predictions in each pixel.\r\n",
        "IMAGE_FILE_PREFIX = 'Image_pixel_demo_'\r\n",
        "\r\n",
        "# The output path for the classified image (i.e. predictions) TFRecord file.\r\n",
        "OUTPUT_IMAGE_FILE = 'gs://' + OUTPUT_BUCKET + '/Classified_pixel_demo.TFRecord'\r\n",
        "# Export imagery in this region.\r\n",
        "EXPORT_REGION = ee.Geometry.Rectangle([-122.7, 37.3, -121.8, 38.00])\r\n",
        "# The name of the Earth Engine asset to be created by importing\r\n",
        "# the classified image from the TFRecord file in Cloud Storage.\r\n",
        "OUTPUT_ASSET_ID = 'users/' + USER_NAME + '/Classified_pixel_demo'"
      ],
      "execution_count": 15,
      "outputs": []
    },
    {
      "cell_type": "markdown",
      "metadata": {
        "id": "gP46crycs4TT"
      },
      "source": [
        "## Get Training and Testing data from Earth Engine\r\n",
        "To get data for a classification model of three classes (bare, vegetation, water), we need labels and the value of predictor variables for each labeled example. We've already generated some labels in Earth Engine. Specifically, these are visually interpreted points labeled \"bare,\" \"vegetation,\" or \"water\" for a very simple classification demo (example script). For predictor variables, we'll use Landsat 8 surface reflectance imagery, bands 2-7."
      ]
    },
    {
      "cell_type": "markdown",
      "metadata": {
        "id": "deGfwf7Rs-1P"
      },
      "source": [
        "### Prepare Landsat 8 imagery\r\n",
        "First, make a cloud-masked median composite of Landsat 8 surface reflectance imagery from 2018. Check the composite by visualizing with folium."
      ]
    },
    {
      "cell_type": "code",
      "metadata": {
        "id": "CIkv8QWkKlab",
        "colab": {
          "base_uri": "https://localhost:8080/",
          "height": 992
        },
        "outputId": "e153da6a-fc15-47e7-cebb-4c468e63a44f"
      },
      "source": [
        "# Cloud masking function.\r\n",
        "def maskL8sr(image):\r\n",
        "  cloudShadowBitMask = ee.Number(2).pow(3).int()\r\n",
        "  cloudsBitMask = ee.Number(2).pow(5).int()\r\n",
        "  qa = image.select('pixel_qa')\r\n",
        "  mask = qa.bitwiseAnd(cloudShadowBitMask).eq(0).And(\r\n",
        "    qa.bitwiseAnd(cloudsBitMask).eq(0))\r\n",
        "  return image.updateMask(mask).select(BANDS).divide(10000)\r\n",
        "\r\n",
        "# The image input data is a 2018 cloud-masked median composite.\r\n",
        "image = L8SR.filterDate('2018-01-01', '2018-12-31').map(maskL8sr).median()\r\n",
        "\r\n",
        "# Use folium to visualize the imagery.\r\n",
        "mapid = image.getMapId({'bands': ['B4', 'B3', 'B2'], 'min': 0, 'max': 0.3})\r\n",
        "map = folium.Map(location=[38., -122.5])\r\n",
        "\r\n",
        "folium.TileLayer(\r\n",
        "    tiles=mapid['tile_fetcher'].url_format,\r\n",
        "    attr='Map Data &copy; <a href=\"https://earthengine.google.com/\">Google Earth Engine</a>',\r\n",
        "    overlay=True,\r\n",
        "    name='median composite',\r\n",
        "  ).add_to(map)\r\n",
        "map.add_child(folium.LayerControl())\r\n",
        "map"
      ],
      "execution_count": 16,
      "outputs": [
        {
          "output_type": "execute_result",
          "data": {
            "text/html": [
              "<div style=\"width:100%;\"><div style=\"position:relative;width:100%;height:0;padding-bottom:60%;\"><span style=\"color:#565656\">Make this Notebook Trusted to load map: File -> Trust Notebook</span><iframe src=\"about:blank\" style=\"position:absolute;width:100%;height:100%;left:0;top:0;border:none !important;\" data-html=%3C%21DOCTYPE%20html%3E%0A%3Chead%3E%20%20%20%20%0A%20%20%20%20%3Cmeta%20http-equiv%3D%22content-type%22%20content%3D%22text/html%3B%20charset%3DUTF-8%22%20/%3E%0A%20%20%20%20%3Cscript%3EL_PREFER_CANVAS%3Dfalse%3B%20L_NO_TOUCH%3Dfalse%3B%20L_DISABLE_3D%3Dfalse%3B%3C/script%3E%0A%20%20%20%20%3Cscript%20src%3D%22https%3A//cdn.jsdelivr.net/npm/leaflet%401.4.0/dist/leaflet.js%22%3E%3C/script%3E%0A%20%20%20%20%3Cscript%20src%3D%22https%3A//code.jquery.com/jquery-1.12.4.min.js%22%3E%3C/script%3E%0A%20%20%20%20%3Cscript%20src%3D%22https%3A//maxcdn.bootstrapcdn.com/bootstrap/3.2.0/js/bootstrap.min.js%22%3E%3C/script%3E%0A%20%20%20%20%3Cscript%20src%3D%22https%3A//cdnjs.cloudflare.com/ajax/libs/Leaflet.awesome-markers/2.0.2/leaflet.awesome-markers.js%22%3E%3C/script%3E%0A%20%20%20%20%3Clink%20rel%3D%22stylesheet%22%20href%3D%22https%3A//cdn.jsdelivr.net/npm/leaflet%401.4.0/dist/leaflet.css%22/%3E%0A%20%20%20%20%3Clink%20rel%3D%22stylesheet%22%20href%3D%22https%3A//maxcdn.bootstrapcdn.com/bootstrap/3.2.0/css/bootstrap.min.css%22/%3E%0A%20%20%20%20%3Clink%20rel%3D%22stylesheet%22%20href%3D%22https%3A//maxcdn.bootstrapcdn.com/bootstrap/3.2.0/css/bootstrap-theme.min.css%22/%3E%0A%20%20%20%20%3Clink%20rel%3D%22stylesheet%22%20href%3D%22https%3A//maxcdn.bootstrapcdn.com/font-awesome/4.6.3/css/font-awesome.min.css%22/%3E%0A%20%20%20%20%3Clink%20rel%3D%22stylesheet%22%20href%3D%22https%3A//cdnjs.cloudflare.com/ajax/libs/Leaflet.awesome-markers/2.0.2/leaflet.awesome-markers.css%22/%3E%0A%20%20%20%20%3Clink%20rel%3D%22stylesheet%22%20href%3D%22https%3A//rawcdn.githack.com/python-visualization/folium/master/folium/templates/leaflet.awesome.rotate.css%22/%3E%0A%20%20%20%20%3Cstyle%3Ehtml%2C%20body%20%7Bwidth%3A%20100%25%3Bheight%3A%20100%25%3Bmargin%3A%200%3Bpadding%3A%200%3B%7D%3C/style%3E%0A%20%20%20%20%3Cstyle%3E%23map%20%7Bposition%3Aabsolute%3Btop%3A0%3Bbottom%3A0%3Bright%3A0%3Bleft%3A0%3B%7D%3C/style%3E%0A%20%20%20%20%0A%20%20%20%20%3Cmeta%20name%3D%22viewport%22%20content%3D%22width%3Ddevice-width%2C%0A%20%20%20%20%20%20%20%20initial-scale%3D1.0%2C%20maximum-scale%3D1.0%2C%20user-scalable%3Dno%22%20/%3E%0A%20%20%20%20%3Cstyle%3E%23map_7c9aa7851eab49a2ac4b3272dae886ed%20%7B%0A%20%20%20%20%20%20%20%20position%3A%20relative%3B%0A%20%20%20%20%20%20%20%20width%3A%20100.0%25%3B%0A%20%20%20%20%20%20%20%20height%3A%20100.0%25%3B%0A%20%20%20%20%20%20%20%20left%3A%200.0%25%3B%0A%20%20%20%20%20%20%20%20top%3A%200.0%25%3B%0A%20%20%20%20%20%20%20%20%7D%0A%20%20%20%20%3C/style%3E%0A%3C/head%3E%0A%3Cbody%3E%20%20%20%20%0A%20%20%20%20%0A%20%20%20%20%3Cdiv%20class%3D%22folium-map%22%20id%3D%22map_7c9aa7851eab49a2ac4b3272dae886ed%22%20%3E%3C/div%3E%0A%3C/body%3E%0A%3Cscript%3E%20%20%20%20%0A%20%20%20%20%0A%20%20%20%20%0A%20%20%20%20%20%20%20%20var%20bounds%20%3D%20null%3B%0A%20%20%20%20%0A%0A%20%20%20%20var%20map_7c9aa7851eab49a2ac4b3272dae886ed%20%3D%20L.map%28%0A%20%20%20%20%20%20%20%20%27map_7c9aa7851eab49a2ac4b3272dae886ed%27%2C%20%7B%0A%20%20%20%20%20%20%20%20center%3A%20%5B38.0%2C%20-122.5%5D%2C%0A%20%20%20%20%20%20%20%20zoom%3A%2010%2C%0A%20%20%20%20%20%20%20%20maxBounds%3A%20bounds%2C%0A%20%20%20%20%20%20%20%20layers%3A%20%5B%5D%2C%0A%20%20%20%20%20%20%20%20worldCopyJump%3A%20false%2C%0A%20%20%20%20%20%20%20%20crs%3A%20L.CRS.EPSG3857%2C%0A%20%20%20%20%20%20%20%20zoomControl%3A%20true%2C%0A%20%20%20%20%20%20%20%20%7D%29%3B%0A%0A%0A%20%20%20%20%0A%20%20%20%20var%20tile_layer_e6c075bee6864cd39c07a70e39a87739%20%3D%20L.tileLayer%28%0A%20%20%20%20%20%20%20%20%27https%3A//%7Bs%7D.tile.openstreetmap.org/%7Bz%7D/%7Bx%7D/%7By%7D.png%27%2C%0A%20%20%20%20%20%20%20%20%7B%0A%20%20%20%20%20%20%20%20%22attribution%22%3A%20null%2C%0A%20%20%20%20%20%20%20%20%22detectRetina%22%3A%20false%2C%0A%20%20%20%20%20%20%20%20%22maxNativeZoom%22%3A%2018%2C%0A%20%20%20%20%20%20%20%20%22maxZoom%22%3A%2018%2C%0A%20%20%20%20%20%20%20%20%22minZoom%22%3A%200%2C%0A%20%20%20%20%20%20%20%20%22noWrap%22%3A%20false%2C%0A%20%20%20%20%20%20%20%20%22opacity%22%3A%201%2C%0A%20%20%20%20%20%20%20%20%22subdomains%22%3A%20%22abc%22%2C%0A%20%20%20%20%20%20%20%20%22tms%22%3A%20false%0A%7D%29.addTo%28map_7c9aa7851eab49a2ac4b3272dae886ed%29%3B%0A%20%20%20%20var%20tile_layer_bfc397f747604b1583f20cdaf9053e9d%20%3D%20L.tileLayer%28%0A%20%20%20%20%20%20%20%20%27https%3A//earthengine.googleapis.com/v1alpha/projects/earthengine-legacy/maps/91ef0a91b0759b7cbaa67d7db99b1300-f702a54ef9984bb951e04b6f564bc2d5/tiles/%7Bz%7D/%7Bx%7D/%7By%7D%27%2C%0A%20%20%20%20%20%20%20%20%7B%0A%20%20%20%20%20%20%20%20%22attribution%22%3A%20%22Map%20Data%20%26copy%3B%20%3Ca%20href%3D%5C%22https%3A//earthengine.google.com/%5C%22%3EGoogle%20Earth%20Engine%3C/a%3E%22%2C%0A%20%20%20%20%20%20%20%20%22detectRetina%22%3A%20false%2C%0A%20%20%20%20%20%20%20%20%22maxNativeZoom%22%3A%2018%2C%0A%20%20%20%20%20%20%20%20%22maxZoom%22%3A%2018%2C%0A%20%20%20%20%20%20%20%20%22minZoom%22%3A%200%2C%0A%20%20%20%20%20%20%20%20%22noWrap%22%3A%20false%2C%0A%20%20%20%20%20%20%20%20%22opacity%22%3A%201%2C%0A%20%20%20%20%20%20%20%20%22subdomains%22%3A%20%22abc%22%2C%0A%20%20%20%20%20%20%20%20%22tms%22%3A%20false%0A%7D%29.addTo%28map_7c9aa7851eab49a2ac4b3272dae886ed%29%3B%0A%20%20%20%20%0A%20%20%20%20%20%20%20%20%20%20%20%20var%20layer_control_a59dbeb3405b483ca58d37f930917f83%20%3D%20%7B%0A%20%20%20%20%20%20%20%20%20%20%20%20%20%20%20%20base_layers%20%3A%20%7B%20%22openstreetmap%22%20%3A%20tile_layer_e6c075bee6864cd39c07a70e39a87739%2C%20%7D%2C%0A%20%20%20%20%20%20%20%20%20%20%20%20%20%20%20%20overlays%20%3A%20%7B%20%22median%20composite%22%20%3A%20tile_layer_bfc397f747604b1583f20cdaf9053e9d%2C%20%7D%0A%20%20%20%20%20%20%20%20%20%20%20%20%20%20%20%20%7D%3B%0A%20%20%20%20%20%20%20%20%20%20%20%20L.control.layers%28%0A%20%20%20%20%20%20%20%20%20%20%20%20%20%20%20%20layer_control_a59dbeb3405b483ca58d37f930917f83.base_layers%2C%0A%20%20%20%20%20%20%20%20%20%20%20%20%20%20%20%20layer_control_a59dbeb3405b483ca58d37f930917f83.overlays%2C%0A%20%20%20%20%20%20%20%20%20%20%20%20%20%20%20%20%7Bposition%3A%20%27topright%27%2C%0A%20%20%20%20%20%20%20%20%20%20%20%20%20%20%20%20%20collapsed%3A%20true%2C%0A%20%20%20%20%20%20%20%20%20%20%20%20%20%20%20%20%20autoZIndex%3A%20true%0A%20%20%20%20%20%20%20%20%20%20%20%20%20%20%20%20%7D%29.addTo%28map_7c9aa7851eab49a2ac4b3272dae886ed%29%3B%0A%20%20%20%20%20%20%20%20%20%20%20%20%0A%20%20%20%20%20%20%20%20%0A%3C/script%3E onload=\"this.contentDocument.open();this.contentDocument.write(    decodeURIComponent(this.getAttribute('data-html')));this.contentDocument.close();\" allowfullscreen webkitallowfullscreen mozallowfullscreen></iframe></div></div>"
            ],
            "text/plain": [
              "<folium.folium.Map at 0x7fbc52e72550>"
            ]
          },
          "metadata": {
            "tags": []
          },
          "execution_count": 16
        }
      ]
    },
    {
      "cell_type": "markdown",
      "metadata": {
        "id": "6iJ6tSXWtObS"
      },
      "source": [
        "### Add pixel values of the composite to labeled points\r\n",
        "Some training labels have already been collected for you. Load the labeled points from an existing Earth Engine asset. Each point in this table has a property called landcover that stores the label, encoded as an integer. Here we overlay the points on imagery to get predictor variables along with labels."
      ]
    },
    {
      "cell_type": "code",
      "metadata": {
        "id": "qkPcXW-IK0Pa",
        "colab": {
          "base_uri": "https://localhost:8080/"
        },
        "outputId": "2bee91f3-5464-4b27-b3ff-a588686449d5"
      },
      "source": [
        "# Sample the image at the points and add a random column.\r\n",
        "sample = image.sampleRegions(\r\n",
        "  collection=LABEL_DATA, properties=[LABEL], scale=30).randomColumn()\r\n",
        "\r\n",
        "# Partition the sample approximately 70-30.\r\n",
        "training = sample.filter(ee.Filter.lt('random', 0.7))\r\n",
        "testing = sample.filter(ee.Filter.gte('random', 0.7))\r\n",
        "\r\n",
        "from pprint import pprint\r\n",
        "\r\n",
        "# Print the first couple points to verify.\r\n",
        "pprint({'training': training.first().getInfo()})\r\n",
        "pprint({'testing': testing.first().getInfo()})"
      ],
      "execution_count": 17,
      "outputs": [
        {
          "output_type": "stream",
          "text": [
            "{'training': {'geometry': None,\n",
            "              'id': '00009f65e3c9ae02b84e_0',\n",
            "              'properties': {'B2': 0.05220000073313713,\n",
            "                             'B3': 0.062049999833106995,\n",
            "                             'B4': 0.03660000115633011,\n",
            "                             'B5': 0.01140000019222498,\n",
            "                             'B6': 0.006800000090152025,\n",
            "                             'B7': 0.005249999929219484,\n",
            "                             'landcover': 2,\n",
            "                             'random': 0.39322176058184644},\n",
            "              'type': 'Feature'}}\n",
            "{'testing': {'geometry': None,\n",
            "             'id': '0000642db5938d967908_0',\n",
            "             'properties': {'B2': 0.05829999968409538,\n",
            "                            'B3': 0.08560000360012054,\n",
            "                            'B4': 0.11620000004768372,\n",
            "                            'B5': 0.24390000104904175,\n",
            "                            'B6': 0.29600000381469727,\n",
            "                            'B7': 0.19820000231266022,\n",
            "                            'landcover': 1,\n",
            "                            'random': 0.9379440383229853},\n",
            "             'type': 'Feature'}}\n"
          ],
          "name": "stdout"
        }
      ]
    },
    {
      "cell_type": "markdown",
      "metadata": {
        "id": "o8zQFEQluipQ"
      },
      "source": [
        "### Export the training and testing data\r\n",
        "Now that there's training and testing data in Earth Engine and you've inspected a couple examples to ensure that the information you need is present, it's time to materialize the datasets in a place where the TensorFlow model has access to them. You can do that by exporting the training and testing datasets to tables in TFRecord format (learn more about TFRecord format) in your Cloud Storage bucket."
      ]
    },
    {
      "cell_type": "code",
      "metadata": {
        "id": "iJ0hI6QUK7hj",
        "colab": {
          "base_uri": "https://localhost:8080/"
        },
        "outputId": "21bbd48c-aa07-4acd-cc41-0cd67c555243"
      },
      "source": [
        "# Make sure you can see the output bucket.  You must have write access.\r\n",
        "print('Found Cloud Storage bucket.' if tf.io.gfile.exists('gs://' + OUTPUT_BUCKET) \r\n",
        "    else 'Can not find output Cloud Storage bucket.')"
      ],
      "execution_count": 18,
      "outputs": [
        {
          "output_type": "stream",
          "text": [
            "Found Cloud Storage bucket.\n"
          ],
          "name": "stdout"
        }
      ]
    },
    {
      "cell_type": "code",
      "metadata": {
        "id": "76BnJykyK_Wq"
      },
      "source": [
        "# Create the tasks.\r\n",
        "training_task = ee.batch.Export.table.toCloudStorage(\r\n",
        "  collection=training,\r\n",
        "  description='Training Export',\r\n",
        "  fileNamePrefix=TRAIN_FILE_PREFIX,\r\n",
        "  bucket=OUTPUT_BUCKET,\r\n",
        "  fileFormat='TFRecord',\r\n",
        "  selectors=FEATURE_NAMES)\r\n",
        "\r\n",
        "testing_task = ee.batch.Export.table.toCloudStorage(\r\n",
        "  collection=testing,\r\n",
        "  description='Testing Export',\r\n",
        "  fileNamePrefix=TEST_FILE_PREFIX,\r\n",
        "  bucket=OUTPUT_BUCKET,\r\n",
        "  fileFormat='TFRecord',\r\n",
        "  selectors=FEATURE_NAMES)"
      ],
      "execution_count": 25,
      "outputs": []
    },
    {
      "cell_type": "code",
      "metadata": {
        "id": "LwpoO7xqLBvI"
      },
      "source": [
        "# Start the tasks.\r\n",
        "training_task.start()\r\n",
        "testing_task.start()"
      ],
      "execution_count": 26,
      "outputs": []
    },
    {
      "cell_type": "markdown",
      "metadata": {
        "id": "aYJiW-AivMNN"
      },
      "source": [
        "## Monitor task progress\r\n",
        "You can see all your Earth Engine tasks by listing them. Make sure the training and testing tasks are completed before continuing."
      ]
    },
    {
      "cell_type": "code",
      "metadata": {
        "id": "hjVdTzBFLEAQ",
        "colab": {
          "base_uri": "https://localhost:8080/"
        },
        "outputId": "533d7722-ce60-4f4c-f99d-f4d70de0ee04"
      },
      "source": [
        "# Print all tasks.\r\n",
        "pprint(ee.batch.Task.list())"
      ],
      "execution_count": 27,
      "outputs": [
        {
          "output_type": "stream",
          "text": [
            "[<Task EXPORT_FEATURES: Testing Export (READY)>,\n",
            " <Task EXPORT_FEATURES: Training Export (READY)>,\n",
            " <Task EXPORT_FEATURES: Testing Export (COMPLETED)>,\n",
            " <Task EXPORT_FEATURES: Training Export (COMPLETED)>,\n",
            " <Task EXPORT_FEATURES: Testing Export (COMPLETED)>,\n",
            " <Task EXPORT_FEATURES: Training Export (COMPLETED)>,\n",
            " <Task EXPORT_IMAGE: Image Export (RUNNING)>,\n",
            " <Task EXPORT_FEATURES: Testing Export (COMPLETED)>,\n",
            " <Task EXPORT_FEATURES: Training Export (COMPLETED)>,\n",
            " <Task EXPORT_IMAGE: Image Export (COMPLETED)>,\n",
            " <Task EXPORT_FEATURES: Testing Export (COMPLETED)>,\n",
            " <Task EXPORT_FEATURES: Training Export (COMPLETED)>,\n",
            " <Task EXPORT_FEATURES: Testing Export (COMPLETED)>,\n",
            " <Task EXPORT_FEATURES: Training Export (COMPLETED)>]\n"
          ],
          "name": "stdout"
        }
      ]
    },
    {
      "cell_type": "code",
      "metadata": {
        "id": "nEiegNwXLHqX",
        "colab": {
          "base_uri": "https://localhost:8080/"
        },
        "outputId": "5d773c5d-143f-4a3e-a421-c9d8651f473b"
      },
      "source": [
        "print('Found training file.' if tf.io.gfile.exists(TRAIN_FILE_PATH) \r\n",
        "    else 'No training file found.')\r\n",
        "print('Found testing file.' if tf.io.gfile.exists(TEST_FILE_PATH) \r\n",
        "    else 'No testing file found.')"
      ],
      "execution_count": 28,
      "outputs": [
        {
          "output_type": "stream",
          "text": [
            "Found training file.\n",
            "Found testing file.\n"
          ],
          "name": "stdout"
        }
      ]
    },
    {
      "cell_type": "markdown",
      "metadata": {
        "id": "zFJwwrUmvei5"
      },
      "source": [
        "## Export the imagery\r\n",
        "You can also export imagery using TFRecord format. Specifically, export whatever imagery you want to be classified by the trained model into the output Cloud Storage bucket."
      ]
    },
    {
      "cell_type": "code",
      "metadata": {
        "id": "84jcrghBLTBY"
      },
      "source": [
        "# Specify patch and file dimensions.\r\n",
        "image_export_options = {\r\n",
        "  'patchDimensions': [256, 256],\r\n",
        "  'maxFileSize': 104857600,\r\n",
        "  'compressed': True\r\n",
        "}\r\n",
        "\r\n",
        "# Setup the task.\r\n",
        "image_task = ee.batch.Export.image.toCloudStorage(\r\n",
        "  image=image,\r\n",
        "  description='Image Export',\r\n",
        "  fileNamePrefix=IMAGE_FILE_PREFIX,\r\n",
        "  bucket=OUTPUT_BUCKET,\r\n",
        "  scale=30,\r\n",
        "  fileFormat='TFRecord',\r\n",
        "  region=EXPORT_REGION.toGeoJSON()['coordinates'],\r\n",
        "  formatOptions=image_export_options,\r\n",
        ")"
      ],
      "execution_count": 29,
      "outputs": []
    },
    {
      "cell_type": "code",
      "metadata": {
        "id": "hUp4MW7PLWAf"
      },
      "source": [
        "# Start the task.\r\n",
        "image_task.start()"
      ],
      "execution_count": 30,
      "outputs": []
    },
    {
      "cell_type": "code",
      "metadata": {
        "id": "JilS67r_LYJe",
        "colab": {
          "base_uri": "https://localhost:8080/"
        },
        "outputId": "767fe44d-8f54-49ea-ca71-1c51919ae630"
      },
      "source": [
        "# Print all tasks.\r\n",
        "pprint(ee.batch.Task.list())"
      ],
      "execution_count": 31,
      "outputs": [
        {
          "output_type": "stream",
          "text": [
            "[<Task EXPORT_IMAGE: Image Export (READY)>,\n",
            " <Task EXPORT_FEATURES: Testing Export (READY)>,\n",
            " <Task EXPORT_FEATURES: Training Export (COMPLETED)>,\n",
            " <Task EXPORT_FEATURES: Testing Export (COMPLETED)>,\n",
            " <Task EXPORT_FEATURES: Training Export (COMPLETED)>,\n",
            " <Task EXPORT_FEATURES: Testing Export (COMPLETED)>,\n",
            " <Task EXPORT_FEATURES: Training Export (COMPLETED)>,\n",
            " <Task EXPORT_IMAGE: Image Export (RUNNING)>,\n",
            " <Task EXPORT_FEATURES: Testing Export (COMPLETED)>,\n",
            " <Task EXPORT_FEATURES: Training Export (COMPLETED)>,\n",
            " <Task EXPORT_IMAGE: Image Export (COMPLETED)>,\n",
            " <Task EXPORT_FEATURES: Testing Export (COMPLETED)>,\n",
            " <Task EXPORT_FEATURES: Training Export (COMPLETED)>,\n",
            " <Task EXPORT_FEATURES: Testing Export (COMPLETED)>,\n",
            " <Task EXPORT_FEATURES: Training Export (COMPLETED)>]\n"
          ],
          "name": "stdout"
        }
      ]
    },
    {
      "cell_type": "markdown",
      "metadata": {
        "id": "Ymp37YqExj8H"
      },
      "source": [
        "It's also possible to monitor an individual task. Here we poll the task until it's done. If you do this, please put a sleep() in the loop to avoid making too many requests. Note that this will block until complete (you can always halt the execution of this cell)."
      ]
    },
    {
      "cell_type": "code",
      "metadata": {
        "id": "Kypse78XLajZ",
        "colab": {
          "base_uri": "https://localhost:8080/"
        },
        "outputId": "50ea3743-8e90-45c5-cbea-53ebbf56f89f"
      },
      "source": [
        "import time\r\n",
        "\r\n",
        "while image_task.active():\r\n",
        "  print('Polling for task (id: {}).'.format(image_task.id))\r\n",
        "  time.sleep(30)\r\n",
        "print('Done with image export.')"
      ],
      "execution_count": 32,
      "outputs": [
        {
          "output_type": "stream",
          "text": [
            "Polling for task (id: 7R2M7DYX2OYJBK5W7N73BU76).\n",
            "Polling for task (id: 7R2M7DYX2OYJBK5W7N73BU76).\n",
            "Polling for task (id: 7R2M7DYX2OYJBK5W7N73BU76).\n",
            "Polling for task (id: 7R2M7DYX2OYJBK5W7N73BU76).\n",
            "Polling for task (id: 7R2M7DYX2OYJBK5W7N73BU76).\n",
            "Polling for task (id: 7R2M7DYX2OYJBK5W7N73BU76).\n",
            "Polling for task (id: 7R2M7DYX2OYJBK5W7N73BU76).\n",
            "Polling for task (id: 7R2M7DYX2OYJBK5W7N73BU76).\n",
            "Polling for task (id: 7R2M7DYX2OYJBK5W7N73BU76).\n",
            "Polling for task (id: 7R2M7DYX2OYJBK5W7N73BU76).\n",
            "Polling for task (id: 7R2M7DYX2OYJBK5W7N73BU76).\n",
            "Polling for task (id: 7R2M7DYX2OYJBK5W7N73BU76).\n",
            "Polling for task (id: 7R2M7DYX2OYJBK5W7N73BU76).\n",
            "Polling for task (id: 7R2M7DYX2OYJBK5W7N73BU76).\n",
            "Done with image export.\n"
          ],
          "name": "stdout"
        }
      ]
    },
    {
      "cell_type": "markdown",
      "metadata": {
        "id": "N8dZuWD6zLTy"
      },
      "source": [
        "### Data preparation and pre-processing\r\n",
        "Read data from the TFRecord file into a tf.data.Dataset. Pre-process the dataset to get it into a suitable format for input to the model."
      ]
    },
    {
      "cell_type": "markdown",
      "metadata": {
        "id": "0KbICAV4zUJo"
      },
      "source": [
        "#### Read into a tf.data.Dataset\r\n",
        "Here we are going to read a file in Cloud Storage into a tf.data.Dataset. (these TensorFlow docs explain more about reading data into a Dataset). Check that you can read examples from the file. The purpose here is to ensure that we can read from the file without an error. The actual content is not necessarily human readable."
      ]
    },
    {
      "cell_type": "code",
      "metadata": {
        "id": "lAahVsmhM-Cd",
        "colab": {
          "base_uri": "https://localhost:8080/"
        },
        "outputId": "e3bee0fe-49eb-4b9d-fba9-9246784357e9"
      },
      "source": [
        "# Create a dataset from the TFRecord file in Cloud Storage.\r\n",
        "train_dataset = tf.data.TFRecordDataset(TRAIN_FILE_PATH, compression_type='GZIP')\r\n",
        "# Print the first record to check.\r\n",
        "print(iter(train_dataset).next())"
      ],
      "execution_count": 33,
      "outputs": [
        {
          "output_type": "stream",
          "text": [
            "tf.Tensor(b'\\nw\\n\\x0e\\n\\x02B2\\x12\\x08\\x12\\x06\\n\\x04\\xab\\xcfU=\\n\\x0e\\n\\x02B3\\x12\\x08\\x12\\x06\\n\\x04$(~=\\n\\x0e\\n\\x02B4\\x12\\x08\\x12\\x06\\n\\x04\\xe2\\xe9\\x15=\\n\\x0e\\n\\x02B5\\x12\\x08\\x12\\x06\\n\\x04\\x11\\xc7:<\\n\\x0e\\n\\x02B6\\x12\\x08\\x12\\x06\\n\\x04\\x89\\xd2\\xde;\\n\\x0e\\n\\x02B7\\x12\\x08\\x12\\x06\\n\\x041\\x08\\xac;\\n\\x15\\n\\tlandcover\\x12\\x08\\x12\\x06\\n\\x04\\x00\\x00\\x00@', shape=(), dtype=string)\n"
          ],
          "name": "stdout"
        }
      ]
    },
    {
      "cell_type": "markdown",
      "metadata": {
        "id": "NrEuU8aUznmu"
      },
      "source": [
        "### Define the structure of your data\r\n",
        "For parsing the exported TFRecord files, featuresDict is a mapping between feature names (recall that featureNames contains the band and label names) and float32 tf.io.FixedLenFeature objects. This mapping is necessary for telling TensorFlow how to read data in a TFRecord file into tensors. Specifically, all numeric data exported from Earth Engine is exported as float32.\r\n",
        "\r\n",
        "(Note: features in the TensorFlow context (i.e. tf.train.Feature) are not to be confused with Earth Engine features (i.e. ee.Feature), where the former is a protocol message type for serialized data input to the model and the latter is a geometry-based geographic data structure.)"
      ]
    },
    {
      "cell_type": "code",
      "metadata": {
        "id": "vmao6KaWNBvO",
        "colab": {
          "base_uri": "https://localhost:8080/"
        },
        "outputId": "56ae0b6e-1010-41ed-c013-c1207fa14c9a"
      },
      "source": [
        "# List of fixed-length features, all of which are float32.\r\n",
        "columns = [\r\n",
        "  tf.io.FixedLenFeature(shape=[1], dtype=tf.float32) for k in FEATURE_NAMES\r\n",
        "]\r\n",
        "\r\n",
        "# Dictionary with names as keys, features as values.\r\n",
        "features_dict = dict(zip(FEATURE_NAMES, columns))\r\n",
        "\r\n",
        "pprint(features_dict)"
      ],
      "execution_count": 34,
      "outputs": [
        {
          "output_type": "stream",
          "text": [
            "{'B2': FixedLenFeature(shape=[1], dtype=tf.float32, default_value=None),\n",
            " 'B3': FixedLenFeature(shape=[1], dtype=tf.float32, default_value=None),\n",
            " 'B4': FixedLenFeature(shape=[1], dtype=tf.float32, default_value=None),\n",
            " 'B5': FixedLenFeature(shape=[1], dtype=tf.float32, default_value=None),\n",
            " 'B6': FixedLenFeature(shape=[1], dtype=tf.float32, default_value=None),\n",
            " 'B7': FixedLenFeature(shape=[1], dtype=tf.float32, default_value=None),\n",
            " 'landcover': FixedLenFeature(shape=[1], dtype=tf.float32, default_value=None)}\n"
          ],
          "name": "stdout"
        }
      ]
    },
    {
      "cell_type": "markdown",
      "metadata": {
        "id": "MsiZcBok0Ce9"
      },
      "source": [
        "### Parse the dataset\r\n",
        "Now we need to make a parsing function for the data in the TFRecord files. The data comes in flattened 2D arrays per record and we want to use the first part of the array for input to the model and the last element of the array as the class label. The parsing function reads data from a serialized Example proto into a dictionary in which the keys are the feature names and the values are the tensors storing the value of the features for that example. (These TensorFlow docs explain more about reading Example protos from TFRecord files)."
      ]
    },
    {
      "cell_type": "code",
      "metadata": {
        "id": "aLi-8X8GNFJU",
        "colab": {
          "base_uri": "https://localhost:8080/"
        },
        "outputId": "1b99a75d-bbb7-4bb3-e051-9a2a46c85d1a"
      },
      "source": [
        "def parse_tfrecord(example_proto):\r\n",
        "  \"\"\"The parsing function.\r\n",
        "\r\n",
        "  Read a serialized example into the structure defined by featuresDict.\r\n",
        "\r\n",
        "  Args:\r\n",
        "    example_proto: a serialized Example.\r\n",
        "\r\n",
        "  Returns:\r\n",
        "    A tuple of the predictors dictionary and the label, cast to an `int32`.\r\n",
        "  \"\"\"\r\n",
        "  parsed_features = tf.io.parse_single_example(example_proto, features_dict)\r\n",
        "  labels = parsed_features.pop(LABEL)\r\n",
        "  return parsed_features, tf.cast(labels, tf.int32)\r\n",
        "\r\n",
        "# Map the function over the dataset.\r\n",
        "parsed_dataset = train_dataset.map(parse_tfrecord, num_parallel_calls=5)\r\n",
        "\r\n",
        "# Print the first parsed record to check.\r\n",
        "pprint(iter(parsed_dataset).next())"
      ],
      "execution_count": 35,
      "outputs": [
        {
          "output_type": "stream",
          "text": [
            "({'B2': <tf.Tensor: shape=(1,), dtype=float32, numpy=array([0.0522], dtype=float32)>,\n",
            "  'B3': <tf.Tensor: shape=(1,), dtype=float32, numpy=array([0.06205], dtype=float32)>,\n",
            "  'B4': <tf.Tensor: shape=(1,), dtype=float32, numpy=array([0.0366], dtype=float32)>,\n",
            "  'B5': <tf.Tensor: shape=(1,), dtype=float32, numpy=array([0.0114], dtype=float32)>,\n",
            "  'B6': <tf.Tensor: shape=(1,), dtype=float32, numpy=array([0.0068], dtype=float32)>,\n",
            "  'B7': <tf.Tensor: shape=(1,), dtype=float32, numpy=array([0.00525], dtype=float32)>},\n",
            " <tf.Tensor: shape=(1,), dtype=int32, numpy=array([2], dtype=int32)>)\n"
          ],
          "name": "stdout"
        }
      ]
    },
    {
      "cell_type": "markdown",
      "metadata": {
        "id": "UKLc1byO1fOO"
      },
      "source": [
        "### Create additional features\r\n",
        "Another thing we might want to do as part of the input process is to create new features, for example NDVI, a vegetation index computed from reflectance in two spectral bands. Here are some helper functions for that."
      ]
    },
    {
      "cell_type": "code",
      "metadata": {
        "id": "5piXNFfGNH-8"
      },
      "source": [
        "def normalized_difference(a, b):\r\n",
        "  \"\"\"Compute normalized difference of two inputs.\r\n",
        "\r\n",
        "  Compute (a - b) / (a + b).  If the denomenator is zero, add a small delta.\r\n",
        "\r\n",
        "  Args:\r\n",
        "    a: an input tensor with shape=[1]\r\n",
        "    b: an input tensor with shape=[1]\r\n",
        "\r\n",
        "  Returns:\r\n",
        "    The normalized difference as a tensor.\r\n",
        "  \"\"\"\r\n",
        "  nd = (a - b) / (a + b)\r\n",
        "  nd_inf = (a - b) / (a + b + 0.000001)\r\n",
        "  return tf.where(tf.math.is_finite(nd), nd, nd_inf)\r\n",
        "\r\n",
        "def add_NDVI(features, label):\r\n",
        "  \"\"\"Add NDVI to the dataset.\r\n",
        "  Args:\r\n",
        "    features: a dictionary of input tensors keyed by feature name.\r\n",
        "    label: the target label\r\n",
        "\r\n",
        "  Returns:\r\n",
        "    A tuple of the input dictionary with an NDVI tensor added and the label.\r\n",
        "  \"\"\"\r\n",
        "  features['NDVI'] = normalized_difference(features['B5'], features['B4'])\r\n",
        "  return features, label"
      ],
      "execution_count": 36,
      "outputs": []
    },
    {
      "cell_type": "code",
      "metadata": {
        "id": "JxmONrBuNMlX",
        "colab": {
          "base_uri": "https://localhost:8080/"
        },
        "outputId": "15e19923-5522-4482-bbf2-c8cefab74886"
      },
      "source": [
        "from tensorflow import keras\r\n",
        "\r\n",
        "# Add NDVI.\r\n",
        "input_dataset = parsed_dataset.map(add_NDVI)\r\n",
        "\r\n",
        "# Keras requires inputs as a tuple.  Note that the inputs must be in the\r\n",
        "# right shape.  Also note that to use the categorical_crossentropy loss,\r\n",
        "# the label needs to be turned into a one-hot vector.\r\n",
        "def to_tuple(inputs, label):\r\n",
        "  return (tf.transpose(list(inputs.values())),\r\n",
        "          tf.one_hot(indices=label, depth=N_CLASSES))\r\n",
        "\r\n",
        "# Map the to_tuple function, shuffle and batch.\r\n",
        "input_dataset = input_dataset.map(to_tuple).batch(8)\r\n",
        "\r\n",
        "# Define the layers in the model.\r\n",
        "model = tf.keras.models.Sequential([\r\n",
        "  tf.keras.layers.Dense(64, activation=tf.nn.relu),\r\n",
        "  tf.keras.layers.Dropout(0.2),\r\n",
        "  tf.keras.layers.Dense(N_CLASSES, activation=tf.nn.softmax)\r\n",
        "])\r\n",
        "\r\n",
        "# Compile the model with the specified loss function.\r\n",
        "model.compile(optimizer=tf.keras.optimizers.Adam(),\r\n",
        "              loss='categorical_crossentropy',\r\n",
        "              metrics=['accuracy'])\r\n",
        "\r\n",
        "# Fit the model to the training data.\r\n",
        "model.fit(x=input_dataset, epochs=10)"
      ],
      "execution_count": 37,
      "outputs": [
        {
          "output_type": "stream",
          "text": [
            "Epoch 1/10\n",
            "10/10 [==============================] - 2s 8ms/step - loss: 1.0813 - accuracy: 0.4054\n",
            "Epoch 2/10\n",
            "10/10 [==============================] - 0s 3ms/step - loss: 1.0302 - accuracy: 0.5213\n",
            "Epoch 3/10\n",
            "10/10 [==============================] - 0s 3ms/step - loss: 0.9954 - accuracy: 0.7121\n",
            "Epoch 4/10\n",
            "10/10 [==============================] - 0s 3ms/step - loss: 0.9534 - accuracy: 0.7919\n",
            "Epoch 5/10\n",
            "10/10 [==============================] - 0s 3ms/step - loss: 0.9189 - accuracy: 0.8265\n",
            "Epoch 6/10\n",
            "10/10 [==============================] - 0s 3ms/step - loss: 0.8923 - accuracy: 0.8543\n",
            "Epoch 7/10\n",
            "10/10 [==============================] - 0s 3ms/step - loss: 0.8587 - accuracy: 0.8889\n",
            "Epoch 8/10\n",
            "10/10 [==============================] - 0s 3ms/step - loss: 0.8286 - accuracy: 0.9468\n",
            "Epoch 9/10\n",
            "10/10 [==============================] - 0s 3ms/step - loss: 0.8049 - accuracy: 0.9430\n",
            "Epoch 10/10\n",
            "10/10 [==============================] - 0s 3ms/step - loss: 0.7670 - accuracy: 0.9354\n"
          ],
          "name": "stdout"
        },
        {
          "output_type": "execute_result",
          "data": {
            "text/plain": [
              "<tensorflow.python.keras.callbacks.History at 0x7fbc401edef0>"
            ]
          },
          "metadata": {
            "tags": []
          },
          "execution_count": 37
        }
      ]
    },
    {
      "cell_type": "code",
      "metadata": {
        "id": "qPQG-pVrNPuX",
        "colab": {
          "base_uri": "https://localhost:8080/"
        },
        "outputId": "f400ce54-918a-4e84-ff09-e6802dac7d45"
      },
      "source": [
        "test_dataset = (\r\n",
        "  tf.data.TFRecordDataset(TEST_FILE_PATH, compression_type='GZIP')\r\n",
        "    .map(parse_tfrecord, num_parallel_calls=5)\r\n",
        "    .map(add_NDVI)\r\n",
        "    .map(to_tuple)\r\n",
        "    .batch(1))\r\n",
        "\r\n",
        "model.evaluate(test_dataset)"
      ],
      "execution_count": 38,
      "outputs": [
        {
          "output_type": "stream",
          "text": [
            "24/24 [==============================] - 1s 3ms/step - loss: 0.6407 - accuracy: 0.9583\n"
          ],
          "name": "stdout"
        },
        {
          "output_type": "execute_result",
          "data": {
            "text/plain": [
              "[0.6407201886177063, 0.9583333134651184]"
            ]
          },
          "metadata": {
            "tags": []
          },
          "execution_count": 38
        }
      ]
    },
    {
      "cell_type": "code",
      "metadata": {
        "id": "0X4Jbo_tNUC4",
        "colab": {
          "base_uri": "https://localhost:8080/"
        },
        "outputId": "1b842721-1547-4b61-a256-5ae47a35f54b"
      },
      "source": [
        "# Get a list of all the files in the output bucket.\r\n",
        "files_list = !gsutil ls 'gs://'{OUTPUT_BUCKET}\r\n",
        "# Get only the files generated by the image export.\r\n",
        "exported_files_list = [s for s in files_list if IMAGE_FILE_PREFIX in s]\r\n",
        "\r\n",
        "# Get the list of image files and the JSON mixer file.\r\n",
        "image_files_list = []\r\n",
        "json_file = None\r\n",
        "for f in exported_files_list:\r\n",
        "  if f.endswith('.tfrecord.gz'):\r\n",
        "    image_files_list.append(f)\r\n",
        "  elif f.endswith('.json'):\r\n",
        "    json_file = f\r\n",
        "\r\n",
        "# Make sure the files are in the right order.\r\n",
        "image_files_list.sort()\r\n",
        "\r\n",
        "pprint(image_files_list)\r\n",
        "print(json_file)"
      ],
      "execution_count": 39,
      "outputs": [
        {
          "output_type": "stream",
          "text": [
            "['gs://geetest-allen/Image_pixel_demo_00000.tfrecord.gz',\n",
            " 'gs://geetest-allen/Image_pixel_demo_00001.tfrecord.gz']\n",
            "gs://geetest-allen/Image_pixel_demo_mixer.json\n"
          ],
          "name": "stdout"
        }
      ]
    },
    {
      "cell_type": "code",
      "metadata": {
        "id": "U1atNQrwNXL-",
        "colab": {
          "base_uri": "https://localhost:8080/"
        },
        "outputId": "c8be8140-1843-4c9d-d355-6acfba8574a8"
      },
      "source": [
        "import json\r\n",
        "\r\n",
        "# Load the contents of the mixer file to a JSON object.\r\n",
        "json_text = !gsutil cat {json_file}\r\n",
        "# Get a single string w/ newlines from the IPython.utils.text.SList\r\n",
        "mixer = json.loads(json_text.nlstr)\r\n",
        "pprint(mixer)"
      ],
      "execution_count": 40,
      "outputs": [
        {
          "output_type": "stream",
          "text": [
            "{'patchDimensions': [256, 256],\n",
            " 'patchesPerRow': 13,\n",
            " 'projection': {'affine': {'doubleMatrix': [0.00026949458523585647,\n",
            "                                            0.0,\n",
            "                                            -122.70007617412975,\n",
            "                                            0.0,\n",
            "                                            -0.00026949458523585647,\n",
            "                                            38.00089247493765]},\n",
            "                'crs': 'EPSG:4326'},\n",
            " 'totalPatches': 130}\n"
          ],
          "name": "stdout"
        }
      ]
    },
    {
      "cell_type": "markdown",
      "metadata": {
        "id": "btx-_Q9K2txU"
      },
      "source": [
        "### Read the image files into a dataset\r\n",
        "You can feed the list of files (imageFilesList) directly to the TFRecordDataset constructor to make a combined dataset on which to perform inference. The input needs to be preprocessed differently than the training and testing. Mainly, this is because the pixels are written into records as patches, we need to read the patches in as one big tensor (one patch for each band), then flatten them into lots of little tensors."
      ]
    },
    {
      "cell_type": "code",
      "metadata": {
        "id": "yNauGBHONcWE"
      },
      "source": [
        "# Get relevant info from the JSON mixer file.\r\n",
        "patch_width = mixer['patchDimensions'][0]\r\n",
        "patch_height = mixer['patchDimensions'][1]\r\n",
        "patches = mixer['totalPatches']\r\n",
        "patch_dimensions_flat = [patch_width * patch_height, 1]\r\n",
        "\r\n",
        "# Note that the tensors are in the shape of a patch, one patch for each band.\r\n",
        "image_columns = [\r\n",
        "  tf.io.FixedLenFeature(shape=patch_dimensions_flat, dtype=tf.float32) \r\n",
        "    for k in BANDS\r\n",
        "]\r\n",
        "\r\n",
        "# Parsing dictionary.\r\n",
        "image_features_dict = dict(zip(BANDS, image_columns))\r\n",
        "\r\n",
        "# Note that you can make one dataset from many files by specifying a list.\r\n",
        "image_dataset = tf.data.TFRecordDataset(image_files_list, compression_type='GZIP')\r\n",
        "\r\n",
        "# Parsing function.\r\n",
        "def parse_image(example_proto):\r\n",
        "  return tf.io.parse_single_example(example_proto, image_features_dict)\r\n",
        "\r\n",
        "# Parse the data into tensors, one long tensor per patch.\r\n",
        "image_dataset = image_dataset.map(parse_image, num_parallel_calls=5)\r\n",
        "\r\n",
        "# Break our long tensors into many little ones.\r\n",
        "image_dataset = image_dataset.flat_map(\r\n",
        "  lambda features: tf.data.Dataset.from_tensor_slices(features)\r\n",
        ")\r\n",
        "\r\n",
        "# Add additional features (NDVI).\r\n",
        "image_dataset = image_dataset.map(\r\n",
        "  # Add NDVI to a feature that doesn't have a label.\r\n",
        "  lambda features: add_NDVI(features, None)[0]\r\n",
        ")\r\n",
        "\r\n",
        "# Turn the dictionary in each record into a tuple without a label.\r\n",
        "image_dataset = image_dataset.map(\r\n",
        "  lambda data_dict: (tf.transpose(list(data_dict.values())), )\r\n",
        ")\r\n",
        "\r\n",
        "# Turn each patch into a batch.\r\n",
        "image_dataset = image_dataset.batch(patch_width * patch_height)"
      ],
      "execution_count": 41,
      "outputs": []
    },
    {
      "cell_type": "markdown",
      "metadata": {
        "id": "KVXPU_bl37zs"
      },
      "source": [
        "### Generate predictions for the image pixels\r\n",
        "To get predictions in each pixel, run the image dataset through the trained model using model.predict(). Print the first prediction to see that the output is a list of the three class probabilities for each pixel. Running all predictions might take a while."
      ]
    },
    {
      "cell_type": "code",
      "metadata": {
        "id": "o-t7fb1jNenp",
        "colab": {
          "base_uri": "https://localhost:8080/"
        },
        "outputId": "07d68e9c-ddaa-400d-8b2a-12775ce3c764"
      },
      "source": [
        "# Run prediction in batches, with as many steps as there are patches.\r\n",
        "predictions = model.predict(image_dataset, steps=patches, verbose=1)\r\n",
        "\r\n",
        "# Note that the predictions come as a numpy array.  Check the first one.\r\n",
        "print(predictions[0])"
      ],
      "execution_count": 42,
      "outputs": [
        {
          "output_type": "stream",
          "text": [
            "130/130 [==============================] - 497s 4s/step\n",
            "[[0.30747983 0.5304895  0.16203062]]\n"
          ],
          "name": "stdout"
        }
      ]
    },
    {
      "cell_type": "code",
      "metadata": {
        "id": "ehmW4NyfPt0G",
        "colab": {
          "base_uri": "https://localhost:8080/"
        },
        "outputId": "ba0007b3-4d68-4760-ec11-6def27f73cbd"
      },
      "source": [
        "print('Writing to file ' + OUTPUT_IMAGE_FILE)"
      ],
      "execution_count": 43,
      "outputs": [
        {
          "output_type": "stream",
          "text": [
            "Writing to file gs://geetest-allen/Classified_pixel_demo.TFRecord\n"
          ],
          "name": "stdout"
        }
      ]
    },
    {
      "cell_type": "markdown",
      "metadata": {
        "id": "GZ25bCpN6Vpa"
      },
      "source": [
        "### Write the predictions to a TFRecord file\r\n",
        "Now that there's a list of class probabilities in predictions, it's time to write them back into a file, optionally including a class label which is simply the index of the maximum probability. We'll write directly from TensorFlow to a file in the output Cloud Storage bucket.\r\n",
        "\r\n",
        "Iterate over the list, compute class label and write the class and the probabilities in patches. Specifically, we need to write the pixels into the file as patches in the same order they came out. The records are written as serialized tf.train.Example protos. This might take a while."
      ]
    },
    {
      "cell_type": "code",
      "metadata": {
        "id": "G0-cOD0-PvLZ",
        "colab": {
          "base_uri": "https://localhost:8080/"
        },
        "outputId": "ef860d70-f65a-4219-ba03-f1535ca3ecd5"
      },
      "source": [
        "# Instantiate the writer.\r\n",
        "writer = tf.io.TFRecordWriter(OUTPUT_IMAGE_FILE)\r\n",
        "\r\n",
        "# Every patch-worth of predictions we'll dump an example into the output\r\n",
        "# file with a single feature that holds our predictions. Since our predictions\r\n",
        "# are already in the order of the exported data, the patches we create here\r\n",
        "# will also be in the right order.\r\n",
        "patch = [[], [], [], []]\r\n",
        "cur_patch = 1\r\n",
        "for prediction in predictions:\r\n",
        "  patch[0].append(tf.argmax(prediction, 1))\r\n",
        "  patch[1].append(prediction[0][0])\r\n",
        "  patch[2].append(prediction[0][1])\r\n",
        "  patch[3].append(prediction[0][2])\r\n",
        "  # Once we've seen a patches-worth of class_ids...\r\n",
        "  if (len(patch[0]) == patch_width * patch_height):\r\n",
        "    print('Done with patch ' + str(cur_patch) + ' of ' + str(patches) + '...')\r\n",
        "    # Create an example\r\n",
        "    example = tf.train.Example(\r\n",
        "      features=tf.train.Features(\r\n",
        "        feature={\r\n",
        "          'prediction': tf.train.Feature(\r\n",
        "              int64_list=tf.train.Int64List(\r\n",
        "                  value=patch[0])),\r\n",
        "          'bareProb': tf.train.Feature(\r\n",
        "              float_list=tf.train.FloatList(\r\n",
        "                  value=patch[1])),\r\n",
        "          'vegProb': tf.train.Feature(\r\n",
        "              float_list=tf.train.FloatList(\r\n",
        "                  value=patch[2])),\r\n",
        "          'waterProb': tf.train.Feature(\r\n",
        "              float_list=tf.train.FloatList(\r\n",
        "                  value=patch[3])),\r\n",
        "        }\r\n",
        "      )\r\n",
        "    )\r\n",
        "    # Write the example to the file and clear our patch array so it's ready for\r\n",
        "    # another batch of class ids\r\n",
        "    writer.write(example.SerializeToString())\r\n",
        "    patch = [[], [], [], []]\r\n",
        "    cur_patch += 1\r\n",
        "\r\n",
        "writer.close()"
      ],
      "execution_count": 44,
      "outputs": [
        {
          "output_type": "stream",
          "text": [
            "Done with patch 1 of 130...\n",
            "Done with patch 2 of 130...\n",
            "Done with patch 3 of 130...\n",
            "Done with patch 4 of 130...\n",
            "Done with patch 5 of 130...\n",
            "Done with patch 6 of 130...\n",
            "Done with patch 7 of 130...\n",
            "Done with patch 8 of 130...\n",
            "Done with patch 9 of 130...\n",
            "Done with patch 10 of 130...\n",
            "Done with patch 11 of 130...\n",
            "Done with patch 12 of 130...\n",
            "Done with patch 13 of 130...\n",
            "Done with patch 14 of 130...\n",
            "Done with patch 15 of 130...\n",
            "Done with patch 16 of 130...\n",
            "Done with patch 17 of 130...\n",
            "Done with patch 18 of 130...\n",
            "Done with patch 19 of 130...\n",
            "Done with patch 20 of 130...\n",
            "Done with patch 21 of 130...\n",
            "Done with patch 22 of 130...\n",
            "Done with patch 23 of 130...\n",
            "Done with patch 24 of 130...\n",
            "Done with patch 25 of 130...\n",
            "Done with patch 26 of 130...\n",
            "Done with patch 27 of 130...\n",
            "Done with patch 28 of 130...\n",
            "Done with patch 29 of 130...\n",
            "Done with patch 30 of 130...\n",
            "Done with patch 31 of 130...\n",
            "Done with patch 32 of 130...\n",
            "Done with patch 33 of 130...\n",
            "Done with patch 34 of 130...\n",
            "Done with patch 35 of 130...\n",
            "Done with patch 36 of 130...\n",
            "Done with patch 37 of 130...\n",
            "Done with patch 38 of 130...\n",
            "Done with patch 39 of 130...\n",
            "Done with patch 40 of 130...\n",
            "Done with patch 41 of 130...\n",
            "Done with patch 42 of 130...\n",
            "Done with patch 43 of 130...\n",
            "Done with patch 44 of 130...\n",
            "Done with patch 45 of 130...\n",
            "Done with patch 46 of 130...\n",
            "Done with patch 47 of 130...\n",
            "Done with patch 48 of 130...\n",
            "Done with patch 49 of 130...\n",
            "Done with patch 50 of 130...\n",
            "Done with patch 51 of 130...\n",
            "Done with patch 52 of 130...\n",
            "Done with patch 53 of 130...\n",
            "Done with patch 54 of 130...\n",
            "Done with patch 55 of 130...\n",
            "Done with patch 56 of 130...\n",
            "Done with patch 57 of 130...\n",
            "Done with patch 58 of 130...\n",
            "Done with patch 59 of 130...\n",
            "Done with patch 60 of 130...\n",
            "Done with patch 61 of 130...\n",
            "Done with patch 62 of 130...\n",
            "Done with patch 63 of 130...\n",
            "Done with patch 64 of 130...\n",
            "Done with patch 65 of 130...\n",
            "Done with patch 66 of 130...\n",
            "Done with patch 67 of 130...\n",
            "Done with patch 68 of 130...\n",
            "Done with patch 69 of 130...\n",
            "Done with patch 70 of 130...\n",
            "Done with patch 71 of 130...\n",
            "Done with patch 72 of 130...\n",
            "Done with patch 73 of 130...\n",
            "Done with patch 74 of 130...\n",
            "Done with patch 75 of 130...\n",
            "Done with patch 76 of 130...\n",
            "Done with patch 77 of 130...\n",
            "Done with patch 78 of 130...\n",
            "Done with patch 79 of 130...\n",
            "Done with patch 80 of 130...\n",
            "Done with patch 81 of 130...\n",
            "Done with patch 82 of 130...\n",
            "Done with patch 83 of 130...\n",
            "Done with patch 84 of 130...\n",
            "Done with patch 85 of 130...\n",
            "Done with patch 86 of 130...\n",
            "Done with patch 87 of 130...\n",
            "Done with patch 88 of 130...\n",
            "Done with patch 89 of 130...\n",
            "Done with patch 90 of 130...\n",
            "Done with patch 91 of 130...\n",
            "Done with patch 92 of 130...\n",
            "Done with patch 93 of 130...\n",
            "Done with patch 94 of 130...\n",
            "Done with patch 95 of 130...\n",
            "Done with patch 96 of 130...\n",
            "Done with patch 97 of 130...\n",
            "Done with patch 98 of 130...\n",
            "Done with patch 99 of 130...\n",
            "Done with patch 100 of 130...\n",
            "Done with patch 101 of 130...\n",
            "Done with patch 102 of 130...\n",
            "Done with patch 103 of 130...\n",
            "Done with patch 104 of 130...\n",
            "Done with patch 105 of 130...\n",
            "Done with patch 106 of 130...\n",
            "Done with patch 107 of 130...\n",
            "Done with patch 108 of 130...\n",
            "Done with patch 109 of 130...\n",
            "Done with patch 110 of 130...\n",
            "Done with patch 111 of 130...\n",
            "Done with patch 112 of 130...\n",
            "Done with patch 113 of 130...\n",
            "Done with patch 114 of 130...\n",
            "Done with patch 115 of 130...\n",
            "Done with patch 116 of 130...\n",
            "Done with patch 117 of 130...\n",
            "Done with patch 118 of 130...\n",
            "Done with patch 119 of 130...\n",
            "Done with patch 120 of 130...\n",
            "Done with patch 121 of 130...\n",
            "Done with patch 122 of 130...\n",
            "Done with patch 123 of 130...\n",
            "Done with patch 124 of 130...\n",
            "Done with patch 125 of 130...\n",
            "Done with patch 126 of 130...\n",
            "Done with patch 127 of 130...\n",
            "Done with patch 128 of 130...\n",
            "Done with patch 129 of 130...\n",
            "Done with patch 130 of 130...\n"
          ],
          "name": "stdout"
        }
      ]
    },
    {
      "cell_type": "markdown",
      "metadata": {
        "id": "P5Yxg1iY6fmF"
      },
      "source": [
        "### Upload the classifications to an Earth Engine asset\r\n",
        "Verify the existence of the predictions file\r\n",
        "At this stage, there should be a predictions TFRecord file sitting in the output Cloud Storage bucket. Use the gsutil command to verify that the predictions image (and associated mixer JSON) exist and have non-zero size."
      ]
    },
    {
      "cell_type": "code",
      "metadata": {
        "id": "4eAouGSEQ0J1",
        "colab": {
          "base_uri": "https://localhost:8080/"
        },
        "outputId": "2d20fd0e-94b7-46ff-987a-fe5634abd21a"
      },
      "source": [
        "!gsutil ls -l {OUTPUT_IMAGE_FILE}"
      ],
      "execution_count": 52,
      "outputs": [
        {
          "output_type": "stream",
          "text": [
            " 110772220  2021-01-26T09:24:53Z  gs://geetest-allen/Classified_pixel_demo.TFRecord\n",
            "TOTAL: 1 objects, 110772220 bytes (105.64 MiB)\n"
          ],
          "name": "stdout"
        }
      ]
    },
    {
      "cell_type": "markdown",
      "metadata": {
        "id": "sUF2aGcD6tHR"
      },
      "source": [
        "### Upload the classified image to Earth Engine\r\n",
        "Upload the image to Earth Engine directly from the Cloud Storage bucket with the earthengine command. Provide both the image TFRecord file and the JSON file as arguments to earthengine upload."
      ]
    },
    {
      "cell_type": "code",
      "metadata": {
        "id": "9MmcDssDQ3BN",
        "colab": {
          "base_uri": "https://localhost:8080/"
        },
        "outputId": "9ab1ce64-2328-4b51-f67c-d30f9aafe56b"
      },
      "source": [
        "print('Uploading to ' + OUTPUT_ASSET_ID)"
      ],
      "execution_count": 53,
      "outputs": [
        {
          "output_type": "stream",
          "text": [
            "Uploading to users/jiashuxu1/Classified_pixel_demo\n"
          ],
          "name": "stdout"
        }
      ]
    },
    {
      "cell_type": "code",
      "metadata": {
        "id": "HLY10JGeQ6kr",
        "colab": {
          "base_uri": "https://localhost:8080/"
        },
        "outputId": "e2345575-0b94-4f4d-8a71-3d405e3ba0cd"
      },
      "source": [
        "# Start the upload.\r\n",
        "!earthengine upload image --asset_id={OUTPUT_ASSET_ID} --pyramiding_policy=mode {OUTPUT_IMAGE_FILE} {json_file}"
      ],
      "execution_count": 82,
      "outputs": [
        {
          "output_type": "stream",
          "text": [
            "WARNING:tensorflow:From /usr/local/lib/python3.6/dist-packages/tensorflow/python/compat/v2_compat.py:96: disable_resource_variables (from tensorflow.python.ops.variable_scope) is deprecated and will be removed in a future version.\n",
            "Instructions for updating:\n",
            "non-resource variables are not supported in the long term\n",
            "Running command using Cloud API.  Set --no-use_cloud_api to go back to using the API\n",
            "\n",
            "I0126 11:09:29.171093 140040762943360 discovery.py:275] URL being requested: GET https://earthengine.googleapis.com/$discovery/rest?version=v1alpha&prettyPrint=false\n",
            "I0126 11:09:30.594670 140040762943360 discovery.py:275] URL being requested: GET https://earthengine.googleapis.com/$discovery/rest?version=v1alpha&prettyPrint=false\n",
            "I0126 11:09:31.765893 140040762943360 discovery.py:894] URL being requested: GET https://earthengine.googleapis.com/v1alpha/projects/earthengine-legacy/algorithms?prettyPrint=false&alt=json\n",
            "I0126 11:09:33.240528 140040762943360 discovery.py:894] URL being requested: POST https://earthengine.googleapis.com/v1alpha/projects/earthengine-legacy/image:import?alt=json\n",
            "Started upload task with ID: RL5EGZBGFUKM3CQNH3WUMJFD\n"
          ],
          "name": "stdout"
        }
      ]
    },
    {
      "cell_type": "markdown",
      "metadata": {
        "id": "LwQET6aH6x4s"
      },
      "source": [
        "### Check the status of the asset ingestion\r\n",
        "You can also use the Earth Engine API to check the status of your asset upload. It might take a while. The upload of the image is an asset ingestion task."
      ]
    },
    {
      "cell_type": "code",
      "metadata": {
        "id": "RMca4VtpRQGe",
        "colab": {
          "base_uri": "https://localhost:8080/"
        },
        "outputId": "392990d2-0d7d-4ea2-b381-500e2408a119"
      },
      "source": [
        "ee.batch.Task.list()"
      ],
      "execution_count": 86,
      "outputs": [
        {
          "output_type": "execute_result",
          "data": {
            "text/plain": [
              "[<Task INGEST_IMAGE: Ingest image: \"projects/earthengine-legacy/assets/users/jiashuxu1/Classified_pixel_demo\" (FAILED)>,\n",
              " <Task INGEST_IMAGE: Ingest image: \"projects/earthengine-legacy/assets/users/jiashuxu1/Classified_pixel_demo\" (FAILED)>,\n",
              " <Task INGEST_IMAGE: Ingest image: \"projects/earthengine-legacy/assets/users/jiashuxu1/Classified_pixel_demo\" (FAILED)>,\n",
              " <Task INGEST_IMAGE: Ingest image: \"projects/earthengine-legacy/assets/users/jiashuxu1/Classified_pixel_demo\" (COMPLETED)>,\n",
              " <Task EXPORT_IMAGE: Image Export (COMPLETED)>,\n",
              " <Task EXPORT_FEATURES: Testing Export (COMPLETED)>,\n",
              " <Task EXPORT_FEATURES: Training Export (COMPLETED)>,\n",
              " <Task EXPORT_FEATURES: Testing Export (COMPLETED)>,\n",
              " <Task EXPORT_FEATURES: Training Export (COMPLETED)>,\n",
              " <Task EXPORT_FEATURES: Testing Export (COMPLETED)>,\n",
              " <Task EXPORT_FEATURES: Training Export (COMPLETED)>,\n",
              " <Task EXPORT_IMAGE: Image Export (COMPLETED)>,\n",
              " <Task EXPORT_FEATURES: Testing Export (COMPLETED)>,\n",
              " <Task EXPORT_FEATURES: Training Export (COMPLETED)>,\n",
              " <Task EXPORT_IMAGE: Image Export (COMPLETED)>,\n",
              " <Task EXPORT_FEATURES: Testing Export (COMPLETED)>,\n",
              " <Task EXPORT_FEATURES: Training Export (COMPLETED)>,\n",
              " <Task EXPORT_FEATURES: Testing Export (COMPLETED)>,\n",
              " <Task EXPORT_FEATURES: Training Export (COMPLETED)>]"
            ]
          },
          "metadata": {
            "tags": []
          },
          "execution_count": 86
        }
      ]
    },
    {
      "cell_type": "markdown",
      "metadata": {
        "id": "NY7j-Hu862sQ"
      },
      "source": [
        "### View the ingested asset\r\n",
        "Display the vector of class probabilities as an RGB image with colors corresponding to the probability of bare, vegetation, water in a pixel. Also display the winning class using the same color palette."
      ]
    },
    {
      "cell_type": "code",
      "metadata": {
        "id": "0a39zlenRUN4",
        "colab": {
          "base_uri": "https://localhost:8080/",
          "height": 992
        },
        "outputId": "2f0ebd25-b1ef-4e1f-e4eb-64b82bbf4b94"
      },
      "source": [
        "predictions_image = ee.Image(OUTPUT_ASSET_ID)\r\n",
        "\r\n",
        "prediction_vis = {\r\n",
        "  'bands': 'prediction',\r\n",
        "  'min': 0,\r\n",
        "  'max': 2,\r\n",
        "  'palette': ['red', 'green', 'blue']\r\n",
        "}\r\n",
        "probability_vis = {'bands': ['bareProb', 'vegProb', 'waterProb'], 'max': 0.5}\r\n",
        "\r\n",
        "prediction_map_id = predictions_image.getMapId(prediction_vis)\r\n",
        "probability_map_id = predictions_image.getMapId(probability_vis)\r\n",
        "\r\n",
        "map = folium.Map(location=[37.6413, -122.2582])\r\n",
        "folium.TileLayer(\r\n",
        "  tiles=prediction_map_id['tile_fetcher'].url_format,\r\n",
        "  attr='Map Data &copy; <a href=\"https://earthengine.google.com/\">Google Earth Engine</a>',\r\n",
        "  overlay=True,\r\n",
        "  name='prediction',\r\n",
        ").add_to(map)\r\n",
        "folium.TileLayer(\r\n",
        "  tiles=probability_map_id['tile_fetcher'].url_format,\r\n",
        "  attr='Map Data &copy; <a href=\"https://earthengine.google.com/\">Google Earth Engine</a>',\r\n",
        "  overlay=True,\r\n",
        "  name='probability',\r\n",
        ").add_to(map)\r\n",
        "map.add_child(folium.LayerControl())\r\n",
        "map"
      ],
      "execution_count": 87,
      "outputs": [
        {
          "output_type": "execute_result",
          "data": {
            "text/html": [
              "<div style=\"width:100%;\"><div style=\"position:relative;width:100%;height:0;padding-bottom:60%;\"><span style=\"color:#565656\">Make this Notebook Trusted to load map: File -> Trust Notebook</span><iframe src=\"about:blank\" style=\"position:absolute;width:100%;height:100%;left:0;top:0;border:none !important;\" data-html=%3C%21DOCTYPE%20html%3E%0A%3Chead%3E%20%20%20%20%0A%20%20%20%20%3Cmeta%20http-equiv%3D%22content-type%22%20content%3D%22text/html%3B%20charset%3DUTF-8%22%20/%3E%0A%20%20%20%20%3Cscript%3EL_PREFER_CANVAS%3Dfalse%3B%20L_NO_TOUCH%3Dfalse%3B%20L_DISABLE_3D%3Dfalse%3B%3C/script%3E%0A%20%20%20%20%3Cscript%20src%3D%22https%3A//cdn.jsdelivr.net/npm/leaflet%401.4.0/dist/leaflet.js%22%3E%3C/script%3E%0A%20%20%20%20%3Cscript%20src%3D%22https%3A//code.jquery.com/jquery-1.12.4.min.js%22%3E%3C/script%3E%0A%20%20%20%20%3Cscript%20src%3D%22https%3A//maxcdn.bootstrapcdn.com/bootstrap/3.2.0/js/bootstrap.min.js%22%3E%3C/script%3E%0A%20%20%20%20%3Cscript%20src%3D%22https%3A//cdnjs.cloudflare.com/ajax/libs/Leaflet.awesome-markers/2.0.2/leaflet.awesome-markers.js%22%3E%3C/script%3E%0A%20%20%20%20%3Clink%20rel%3D%22stylesheet%22%20href%3D%22https%3A//cdn.jsdelivr.net/npm/leaflet%401.4.0/dist/leaflet.css%22/%3E%0A%20%20%20%20%3Clink%20rel%3D%22stylesheet%22%20href%3D%22https%3A//maxcdn.bootstrapcdn.com/bootstrap/3.2.0/css/bootstrap.min.css%22/%3E%0A%20%20%20%20%3Clink%20rel%3D%22stylesheet%22%20href%3D%22https%3A//maxcdn.bootstrapcdn.com/bootstrap/3.2.0/css/bootstrap-theme.min.css%22/%3E%0A%20%20%20%20%3Clink%20rel%3D%22stylesheet%22%20href%3D%22https%3A//maxcdn.bootstrapcdn.com/font-awesome/4.6.3/css/font-awesome.min.css%22/%3E%0A%20%20%20%20%3Clink%20rel%3D%22stylesheet%22%20href%3D%22https%3A//cdnjs.cloudflare.com/ajax/libs/Leaflet.awesome-markers/2.0.2/leaflet.awesome-markers.css%22/%3E%0A%20%20%20%20%3Clink%20rel%3D%22stylesheet%22%20href%3D%22https%3A//rawcdn.githack.com/python-visualization/folium/master/folium/templates/leaflet.awesome.rotate.css%22/%3E%0A%20%20%20%20%3Cstyle%3Ehtml%2C%20body%20%7Bwidth%3A%20100%25%3Bheight%3A%20100%25%3Bmargin%3A%200%3Bpadding%3A%200%3B%7D%3C/style%3E%0A%20%20%20%20%3Cstyle%3E%23map%20%7Bposition%3Aabsolute%3Btop%3A0%3Bbottom%3A0%3Bright%3A0%3Bleft%3A0%3B%7D%3C/style%3E%0A%20%20%20%20%0A%20%20%20%20%3Cmeta%20name%3D%22viewport%22%20content%3D%22width%3Ddevice-width%2C%0A%20%20%20%20%20%20%20%20initial-scale%3D1.0%2C%20maximum-scale%3D1.0%2C%20user-scalable%3Dno%22%20/%3E%0A%20%20%20%20%3Cstyle%3E%23map_0082a61033d7495bb5db21d2a029a32c%20%7B%0A%20%20%20%20%20%20%20%20position%3A%20relative%3B%0A%20%20%20%20%20%20%20%20width%3A%20100.0%25%3B%0A%20%20%20%20%20%20%20%20height%3A%20100.0%25%3B%0A%20%20%20%20%20%20%20%20left%3A%200.0%25%3B%0A%20%20%20%20%20%20%20%20top%3A%200.0%25%3B%0A%20%20%20%20%20%20%20%20%7D%0A%20%20%20%20%3C/style%3E%0A%3C/head%3E%0A%3Cbody%3E%20%20%20%20%0A%20%20%20%20%0A%20%20%20%20%3Cdiv%20class%3D%22folium-map%22%20id%3D%22map_0082a61033d7495bb5db21d2a029a32c%22%20%3E%3C/div%3E%0A%3C/body%3E%0A%3Cscript%3E%20%20%20%20%0A%20%20%20%20%0A%20%20%20%20%0A%20%20%20%20%20%20%20%20var%20bounds%20%3D%20null%3B%0A%20%20%20%20%0A%0A%20%20%20%20var%20map_0082a61033d7495bb5db21d2a029a32c%20%3D%20L.map%28%0A%20%20%20%20%20%20%20%20%27map_0082a61033d7495bb5db21d2a029a32c%27%2C%20%7B%0A%20%20%20%20%20%20%20%20center%3A%20%5B37.6413%2C%20-122.2582%5D%2C%0A%20%20%20%20%20%20%20%20zoom%3A%2010%2C%0A%20%20%20%20%20%20%20%20maxBounds%3A%20bounds%2C%0A%20%20%20%20%20%20%20%20layers%3A%20%5B%5D%2C%0A%20%20%20%20%20%20%20%20worldCopyJump%3A%20false%2C%0A%20%20%20%20%20%20%20%20crs%3A%20L.CRS.EPSG3857%2C%0A%20%20%20%20%20%20%20%20zoomControl%3A%20true%2C%0A%20%20%20%20%20%20%20%20%7D%29%3B%0A%0A%0A%20%20%20%20%0A%20%20%20%20var%20tile_layer_a385e020494540f485f569ded812c15d%20%3D%20L.tileLayer%28%0A%20%20%20%20%20%20%20%20%27https%3A//%7Bs%7D.tile.openstreetmap.org/%7Bz%7D/%7Bx%7D/%7By%7D.png%27%2C%0A%20%20%20%20%20%20%20%20%7B%0A%20%20%20%20%20%20%20%20%22attribution%22%3A%20null%2C%0A%20%20%20%20%20%20%20%20%22detectRetina%22%3A%20false%2C%0A%20%20%20%20%20%20%20%20%22maxNativeZoom%22%3A%2018%2C%0A%20%20%20%20%20%20%20%20%22maxZoom%22%3A%2018%2C%0A%20%20%20%20%20%20%20%20%22minZoom%22%3A%200%2C%0A%20%20%20%20%20%20%20%20%22noWrap%22%3A%20false%2C%0A%20%20%20%20%20%20%20%20%22opacity%22%3A%201%2C%0A%20%20%20%20%20%20%20%20%22subdomains%22%3A%20%22abc%22%2C%0A%20%20%20%20%20%20%20%20%22tms%22%3A%20false%0A%7D%29.addTo%28map_0082a61033d7495bb5db21d2a029a32c%29%3B%0A%20%20%20%20var%20tile_layer_99a2b22cb12645b2af53a48037b23e08%20%3D%20L.tileLayer%28%0A%20%20%20%20%20%20%20%20%27https%3A//earthengine.googleapis.com/v1alpha/projects/earthengine-legacy/maps/e8e1511e722e294b2fec7adddc75a747-8bd456ad1224fab3bb880888772dac9e/tiles/%7Bz%7D/%7Bx%7D/%7By%7D%27%2C%0A%20%20%20%20%20%20%20%20%7B%0A%20%20%20%20%20%20%20%20%22attribution%22%3A%20%22Map%20Data%20%26copy%3B%20%3Ca%20href%3D%5C%22https%3A//earthengine.google.com/%5C%22%3EGoogle%20Earth%20Engine%3C/a%3E%22%2C%0A%20%20%20%20%20%20%20%20%22detectRetina%22%3A%20false%2C%0A%20%20%20%20%20%20%20%20%22maxNativeZoom%22%3A%2018%2C%0A%20%20%20%20%20%20%20%20%22maxZoom%22%3A%2018%2C%0A%20%20%20%20%20%20%20%20%22minZoom%22%3A%200%2C%0A%20%20%20%20%20%20%20%20%22noWrap%22%3A%20false%2C%0A%20%20%20%20%20%20%20%20%22opacity%22%3A%201%2C%0A%20%20%20%20%20%20%20%20%22subdomains%22%3A%20%22abc%22%2C%0A%20%20%20%20%20%20%20%20%22tms%22%3A%20false%0A%7D%29.addTo%28map_0082a61033d7495bb5db21d2a029a32c%29%3B%0A%20%20%20%20var%20tile_layer_7b94039bf930471a995d598eea0573a5%20%3D%20L.tileLayer%28%0A%20%20%20%20%20%20%20%20%27https%3A//earthengine.googleapis.com/v1alpha/projects/earthengine-legacy/maps/d9ba52b5469a5ec2c71c39ae739e80ce-ebd5806583ddd46cdb3c4df148cffe45/tiles/%7Bz%7D/%7Bx%7D/%7By%7D%27%2C%0A%20%20%20%20%20%20%20%20%7B%0A%20%20%20%20%20%20%20%20%22attribution%22%3A%20%22Map%20Data%20%26copy%3B%20%3Ca%20href%3D%5C%22https%3A//earthengine.google.com/%5C%22%3EGoogle%20Earth%20Engine%3C/a%3E%22%2C%0A%20%20%20%20%20%20%20%20%22detectRetina%22%3A%20false%2C%0A%20%20%20%20%20%20%20%20%22maxNativeZoom%22%3A%2018%2C%0A%20%20%20%20%20%20%20%20%22maxZoom%22%3A%2018%2C%0A%20%20%20%20%20%20%20%20%22minZoom%22%3A%200%2C%0A%20%20%20%20%20%20%20%20%22noWrap%22%3A%20false%2C%0A%20%20%20%20%20%20%20%20%22opacity%22%3A%201%2C%0A%20%20%20%20%20%20%20%20%22subdomains%22%3A%20%22abc%22%2C%0A%20%20%20%20%20%20%20%20%22tms%22%3A%20false%0A%7D%29.addTo%28map_0082a61033d7495bb5db21d2a029a32c%29%3B%0A%20%20%20%20%0A%20%20%20%20%20%20%20%20%20%20%20%20var%20layer_control_c4cdf735b2624a00be65ae06f316dbd0%20%3D%20%7B%0A%20%20%20%20%20%20%20%20%20%20%20%20%20%20%20%20base_layers%20%3A%20%7B%20%22openstreetmap%22%20%3A%20tile_layer_a385e020494540f485f569ded812c15d%2C%20%7D%2C%0A%20%20%20%20%20%20%20%20%20%20%20%20%20%20%20%20overlays%20%3A%20%7B%20%22prediction%22%20%3A%20tile_layer_99a2b22cb12645b2af53a48037b23e08%2C%22probability%22%20%3A%20tile_layer_7b94039bf930471a995d598eea0573a5%2C%20%7D%0A%20%20%20%20%20%20%20%20%20%20%20%20%20%20%20%20%7D%3B%0A%20%20%20%20%20%20%20%20%20%20%20%20L.control.layers%28%0A%20%20%20%20%20%20%20%20%20%20%20%20%20%20%20%20layer_control_c4cdf735b2624a00be65ae06f316dbd0.base_layers%2C%0A%20%20%20%20%20%20%20%20%20%20%20%20%20%20%20%20layer_control_c4cdf735b2624a00be65ae06f316dbd0.overlays%2C%0A%20%20%20%20%20%20%20%20%20%20%20%20%20%20%20%20%7Bposition%3A%20%27topright%27%2C%0A%20%20%20%20%20%20%20%20%20%20%20%20%20%20%20%20%20collapsed%3A%20true%2C%0A%20%20%20%20%20%20%20%20%20%20%20%20%20%20%20%20%20autoZIndex%3A%20true%0A%20%20%20%20%20%20%20%20%20%20%20%20%20%20%20%20%7D%29.addTo%28map_0082a61033d7495bb5db21d2a029a32c%29%3B%0A%20%20%20%20%20%20%20%20%20%20%20%20%0A%20%20%20%20%20%20%20%20%0A%3C/script%3E onload=\"this.contentDocument.open();this.contentDocument.write(    decodeURIComponent(this.getAttribute('data-html')));this.contentDocument.close();\" allowfullscreen webkitallowfullscreen mozallowfullscreen></iframe></div></div>"
            ],
            "text/plain": [
              "<folium.folium.Map at 0x7fbbe0e3f2b0>"
            ]
          },
          "metadata": {
            "tags": []
          },
          "execution_count": 87
        }
      ]
    }
  ]
}