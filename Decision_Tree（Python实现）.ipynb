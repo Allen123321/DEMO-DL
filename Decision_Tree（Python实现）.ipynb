{
  "nbformat": 4,
  "nbformat_minor": 0,
  "metadata": {
    "colab": {
      "name": "Decision_Tree（Python实现）.ipynb",
      "provenance": [],
      "authorship_tag": "ABX9TyO27mIOftv8fo4Ug4HL1kZp",
      "include_colab_link": true
    },
    "kernelspec": {
      "name": "python3",
      "display_name": "Python 3"
    }
  },
  "cells": [
    {
      "cell_type": "markdown",
      "metadata": {
        "id": "view-in-github",
        "colab_type": "text"
      },
      "source": [
        "<a href=\"https://colab.research.google.com/github/Allen123321/DEMO-DL/blob/master/Decision_Tree%EF%BC%88Python%E5%AE%9E%E7%8E%B0%EF%BC%89.ipynb\" target=\"_parent\"><img src=\"https://colab.research.google.com/assets/colab-badge.svg\" alt=\"Open In Colab\"/></a>"
      ]
    },
    {
      "cell_type": "markdown",
      "metadata": {
        "id": "jsgA6ln_1-cG",
        "colab_type": "text"
      },
      "source": [
        "1.熵的实现"
      ]
    },
    {
      "cell_type": "code",
      "metadata": {
        "id": "YtuUP2eRz_YT",
        "colab_type": "code",
        "colab": {}
      },
      "source": [
        "from math import log\n",
        "def calcShannonEnt(dataSet):\n",
        "    '''\n",
        "    计算香农熵\n",
        "    :param dataSet:数据集\n",
        "    :return: 计算结果\n",
        "    '''\n",
        "    numEntries = len(dataSet)\n",
        "    labelCounts = {}\n",
        "    for featVec in dataSet: # 遍历每个实例，统计标签的频数\n",
        "        currentLabel = featVec[-1]\n",
        "        if currentLabel not in labelCounts.keys(): \n",
        "            labelCounts[currentLabel] = 0\n",
        "        labelCounts[currentLabel] += 1\n",
        "    shannonEnt = 0.0\n",
        "    for key in labelCounts:\n",
        "        prob = float(labelCounts[key]) / numEntries\n",
        "        shannonEnt -= prob * log(prob,2) # 以2为底的对数\n",
        "    return shannonEnt"
      ],
      "execution_count": 12,
      "outputs": []
    },
    {
      "cell_type": "markdown",
      "metadata": {
        "id": "Tgmz9SUV2JPz",
        "colab_type": "text"
      },
      "source": [
        "2.条件熵（conditional entropy）"
      ]
    },
    {
      "cell_type": "code",
      "metadata": {
        "id": "2CGpP4-k2N1k",
        "colab_type": "code",
        "colab": {}
      },
      "source": [
        "def splitDataSet(dataSet, axis, value):\n",
        "    '''\n",
        "    按照给定特征划分数据集\n",
        "    :param dataSet:待划分的数据集\n",
        "    :param axis:划分数据集的特征\n",
        "    :param value: 需要返回的特征的值\n",
        "    :return: 划分结果列表\n",
        "    '''\n",
        "    retDataSet = []\n",
        "    for featVec in dataSet:\n",
        "        if featVec[axis] == value:\n",
        "            reducedFeatVec = featVec[:axis]     #chop out axis used for splitting\n",
        "            reducedFeatVec.extend(featVec[axis+1:])\n",
        "            retDataSet.append(reducedFeatVec)\n",
        "    return retDataSet\n",
        "\n",
        "def calcConditionalEntropy(dataSet, i, featList, uniqueVals):\n",
        "    '''\n",
        "    计算X_i给定的条件下，Y的条件熵\n",
        "    :param dataSet:数据集\n",
        "    :param i:维度i\n",
        "    :param featList: 数据集特征列表\n",
        "    :param uniqueVals: 数据集特征集合\n",
        "    :return: 条件熵\n",
        "    '''\n",
        "    conditionEnt = 0.0\n",
        "    for value in uniqueVals:\n",
        "        subDataSet = splitDataSet(dataSet, i, value)\n",
        "        prob = len(subDataSet) / float(len(dataSet))  # 极大似然估计概率\n",
        "        conditionEnt += prob * calcShannonEnt(subDataSet)  # 条件熵的计算\n",
        "    return conditionEnt"
      ],
      "execution_count": 15,
      "outputs": []
    },
    {
      "cell_type": "markdown",
      "metadata": {
        "id": "asmIi4Cz3Wak",
        "colab_type": "text"
      },
      "source": [
        "3.信息增益（information gain）\n"
      ]
    },
    {
      "cell_type": "code",
      "metadata": {
        "id": "QMy0p-jb3amF",
        "colab_type": "code",
        "colab": {}
      },
      "source": [
        "def calcInformationGain(dataSet, baseEntropy, i):\n",
        "    '''\n",
        "    计算信息增益\n",
        "    :param dataSet:数据集\n",
        "    :param baseEntropy:数据集的信息熵\n",
        "    :param i: 特征维度i\n",
        "    :return: 特征i对数据集的信息增益g(D|X_i)\n",
        "    '''\n",
        "    featList = [example[i] for example in dataSet]  # 第i维特征列表\n",
        "    uniqueVals = set(featList)  # 转换成集合\n",
        "    newEntropy = calcConditionalEntropy(dataSet, i, featList, uniqueVals)\n",
        "    infoGain = baseEntropy - newEntropy  # 信息增益，就yes熵的减少，也就yes不确定性的减少\n",
        "    return infoGain"
      ],
      "execution_count": 16,
      "outputs": []
    },
    {
      "cell_type": "markdown",
      "metadata": {
        "id": "l0FuyiMz3mFk",
        "colab_type": "text"
      },
      "source": [
        "4.信息增益比（information gain ratio）\n"
      ]
    },
    {
      "cell_type": "code",
      "metadata": {
        "id": "KnC_VtUW3nm8",
        "colab_type": "code",
        "colab": {}
      },
      "source": [
        "def calcInformationGainRatio(dataSet, baseEntropy, i):\n",
        "    '''\n",
        "    计算信息增益比\n",
        "    :param dataSet:数据集\n",
        "    :param baseEntropy:数据集的信息熵\n",
        "    :param i: 特征维度i\n",
        "    :return: 特征i对数据集的信息增益比gR(D|X_i)\n",
        "    '''\n",
        "    return calcInformationGain(dataSet, baseEntropy, i) / baseEntropy\n"
      ],
      "execution_count": 17,
      "outputs": []
    },
    {
      "cell_type": "markdown",
      "metadata": {
        "id": "z00UldrW4F9L",
        "colab_type": "text"
      },
      "source": [
        "三、决策树的生成"
      ]
    },
    {
      "cell_type": "code",
      "metadata": {
        "id": "j7iFP77G4CpC",
        "colab_type": "code",
        "colab": {}
      },
      "source": [
        "def chooseBestFeatureToSplitByID3(dataSet):\n",
        "    '''\n",
        "            选择最好的数据集划分方式\n",
        "    :param dataSet:数据集\n",
        "    :return: 划分结果\n",
        "    '''\n",
        "    numFeatures = len(dataSet[0]) - 1  # 最后一列yes分类标签，不属于特征向量\n",
        "    baseEntropy = calcShannonEnt(dataSet)\n",
        "    bestInfoGain = 0.0\n",
        "    bestFeature = -1\n",
        "    for i in range(numFeatures):  # 遍历所有特征\n",
        "        infoGain = calcInformationGain(dataSet, baseEntropy, i)     # 计算信息增益\n",
        "        if (infoGain > bestInfoGain):  # 选择最大的信息增益\n",
        "            bestInfoGain = infoGain\n",
        "            bestFeature = i\n",
        "    return bestFeature  # 返回最优特征对应的维度\n",
        "\n",
        "def majorityCnt(classList):\n",
        "    '''\n",
        "    采用多数表决的方法决定叶结点的分类\n",
        "    :param: 所有的类标签列表\n",
        "    :return: 出现次数最多的类\n",
        "    '''\n",
        "    classCount={}\n",
        "    for vote in classList:                  # 统计所有类标签的频数\n",
        "        if vote not in classCount.keys():\n",
        "            classCount[vote] = 0\n",
        "        classCount[vote] += 1\n",
        "    sortedClassCount = sorted(classCount.iteritems(), key=operator.itemgetter(1), reverse=True) # 排序\n",
        "    return sortedClassCount[0][0]\n",
        "\n",
        "def createTree(dataSet,labels):\n",
        "    '''\n",
        "    创建决策树\n",
        "    :param: dataSet:训练数据集\n",
        "    :return: labels:所有的类标签\n",
        "    '''\n",
        "    classList = [example[-1] for example in dataSet]\n",
        "    if classList.count(classList[0]) == len(classList): \n",
        "        return classList[0]             # 第一个递归结束条件：所有的类标签完全相同\n",
        "    if len(dataSet[0]) == 1:        \n",
        "        return majorityCnt(classList)   # 第二个递归结束条件：用完了所有特征\n",
        "    bestFeat = chooseBestFeatureToSplitByID3(dataSet)   # 最优划分特征\n",
        "    bestFeatLabel = labels[bestFeat]\n",
        "    myTree = {bestFeatLabel:{}}         # 使用字典类型储存树的信息\n",
        "    del(labels[bestFeat])\n",
        "    featValues = [example[bestFeat] for example in dataSet]\n",
        "    uniqueVals = set(featValues)\n",
        "    for value in uniqueVals:\n",
        "        subLabels = labels[:]       # 复制所有类标签，保证每次递归调用时不改变原始列表的内容\n",
        "        myTree[bestFeatLabel][value] = createTree(splitDataSet(dataSet, bestFeat, value),subLabels)\n",
        "    return myTree"
      ],
      "execution_count": 18,
      "outputs": []
    },
    {
      "cell_type": "markdown",
      "metadata": {
        "id": "vhRLAg7O4R19",
        "colab_type": "text"
      },
      "source": [
        "2.可视化"
      ]
    },
    {
      "cell_type": "code",
      "metadata": {
        "id": "77eYU3SY4L_h",
        "colab_type": "code",
        "colab": {}
      },
      "source": [
        "import matplotlib.pyplot as plt\n",
        "# 定义文本框和箭头格式\n",
        "decisionNode = dict(boxstyle=\"round4\", color='#3366FF')  # 定义判断结点形态\n",
        "leafNode = dict(boxstyle=\"circle\", color='#FF6633')  # 定义叶结点形态\n",
        "arrow_args = dict(arrowstyle=\"<-\", color='g')  # 定义箭头\n",
        "\n",
        "#计算叶结点数\n",
        "def getNumLeafs(myTree):\n",
        "    numLeafs = 0\n",
        "    firstStr = list(myTree.keys())[0]\n",
        "    secondDict = myTree[firstStr]\n",
        "    for key in secondDict.keys():\n",
        "        if type(secondDict[key]).__name__=='dict':# 测试结点的数据类型是否为字典\n",
        "            numLeafs += getNumLeafs(secondDict[key])\n",
        "        else:   numLeafs +=1\n",
        "    return numLeafs\n",
        "\n",
        "# 计算树的深度\n",
        "def getTreeDepth(myTree):\n",
        "    maxDepth = 0\n",
        "    firstStr = list(myTree.keys())[0]\n",
        "    secondDict = myTree[firstStr]\n",
        "    for key in secondDict.keys():\n",
        "        if type(secondDict[key]).__name__=='dict':# 测试结点的数据类型是否为字典\n",
        "            thisDepth = 1 + getTreeDepth(secondDict[key])\n",
        "        else:   thisDepth = 1\n",
        "        if thisDepth > maxDepth: maxDepth = thisDepth\n",
        "    return maxDepth\n",
        "\n",
        "# 绘制带箭头的注释\n",
        "def plotNode(nodeTxt, centerPt, parentPt, nodeType):\n",
        "    createPlot.ax1.annotate(nodeTxt, xy=parentPt,  xycoords='axes fraction',\n",
        "             xytext=centerPt, textcoords='axes fraction',\n",
        "             va=\"center\", ha=\"center\", bbox=nodeType, arrowprops=arrow_args )\n",
        "\n",
        "# 在父子结点间填充文本信息  \n",
        "def plotMidText(cntrPt, parentPt, txtString):\n",
        "    xMid = (parentPt[0]-cntrPt[0])/2.0 + cntrPt[0]\n",
        "    yMid = (parentPt[1]-cntrPt[1])/2.0 + cntrPt[1]\n",
        "    createPlot.ax1.text(xMid, yMid, txtString, va=\"center\", ha=\"center\", rotation=30)\n",
        "\n",
        "def plotTree(myTree, parentPt, nodeTxt):\n",
        "    numLeafs = getNumLeafs(myTree)  # 计算宽与高\n",
        "    depth = getTreeDepth(myTree)\n",
        "    firstStr = list(myTree.keys())[0]      \n",
        "    cntrPt = (plotTree.xOff + (1.0 + float(numLeafs))/2.0/plotTree.totalW, plotTree.yOff)\n",
        "    plotMidText(cntrPt, parentPt, nodeTxt)\n",
        "    plotNode(firstStr, cntrPt, parentPt, decisionNode)  # 标记子结点属性值\n",
        "    secondDict = myTree[firstStr]\n",
        "    plotTree.yOff = plotTree.yOff - 1.0/plotTree.totalD # 减少y偏移\n",
        "    for key in secondDict.keys():\n",
        "        if type(secondDict[key]).__name__=='dict':   \n",
        "            plotTree(secondDict[key],cntrPt,str(key))        #recursion\n",
        "        else:   #it's a leaf node print the leaf node\n",
        "            plotTree.xOff = plotTree.xOff + 1.0/plotTree.totalW\n",
        "            plotNode(secondDict[key], (plotTree.xOff, plotTree.yOff), cntrPt, leafNode)\n",
        "            plotMidText((plotTree.xOff, plotTree.yOff), cntrPt, str(key))\n",
        "    plotTree.yOff = plotTree.yOff + 1.0/plotTree.totalD\n",
        "#if you do get a dictonary you know it's a tree, and the first element will be another dict\n",
        "\n",
        "def createPlot(inTree):\n",
        "    fig = plt.figure(1, facecolor='white')\n",
        "    fig.clf()\n",
        "    axprops = dict(xticks=[], yticks=[])\n",
        "    createPlot.ax1 = plt.subplot(111, frameon=False, **axprops)\n",
        "    plotTree.totalW = float(getNumLeafs(inTree))\n",
        "    plotTree.totalD = float(getTreeDepth(inTree))\n",
        "    plotTree.xOff = -0.5/plotTree.totalW; plotTree.yOff = 1.0;\n",
        "    plotTree(inTree, (0.5,1.0), '')\n",
        "    plt.show()"
      ],
      "execution_count": 19,
      "outputs": []
    },
    {
      "cell_type": "code",
      "metadata": {
        "id": "XqieC7DT4VYX",
        "colab_type": "code",
        "colab": {
          "base_uri": "https://localhost:8080/",
          "height": 276
        },
        "outputId": "9c2528e3-e4df-4775-ad7c-182e43bf05e7"
      },
      "source": [
        "# 导入数据\n",
        "def createDataSet():\n",
        "    dataSet = [['youth', 'no', 'no', 1, 'refuse'],\n",
        "               ['youth', 'no', 'no', '2', 'refuse'],\n",
        "               ['youth', 'yes', 'no', '2', 'agree'],\n",
        "               ['youth', 'yes', 'yes', 1, 'agree'],\n",
        "               ['youth', 'no', 'no', 1, 'refuse'],\n",
        "               ['mid', 'no', 'no', 1, 'refuse'],\n",
        "               ['mid', 'no', 'no', '2', 'refuse'],\n",
        "               ['mid', 'yes', 'yes', '2', 'agree'],\n",
        "               ['mid', 'no', 'yes', '3', 'agree'],\n",
        "               ['mid', 'no', 'yes', '3', 'agree'],\n",
        "               ['elder', 'no', 'yes', '3', 'agree'],\n",
        "               ['elder', 'no', 'yes', '2', 'agree'],\n",
        "               ['elder', 'yes', 'no', '2', 'agree'],\n",
        "               ['elder', 'yes', 'no', '3', 'agree'],\n",
        "               ['elder', 'no', 'no', 1, 'refuse'],\n",
        "               ]\n",
        "    labels = ['age', 'working?', 'house?', 'credit_situation']\n",
        "    return dataSet, labels\n",
        "# 测试代码\n",
        "if __name__ == \"__main__\":\n",
        "    myDat, labels = createDataSet()\n",
        "    myTree = createTree(myDat, labels)\n",
        "    print(myTree)\n",
        "    createPlot(myTree)"
      ],
      "execution_count": 20,
      "outputs": [
        {
          "output_type": "stream",
          "text": [
            "{'house?': {'yes': 'agree', 'no': {'working?': {'yes': 'agree', 'no': 'refuse'}}}}\n"
          ],
          "name": "stdout"
        },
        {
          "output_type": "display_data",
          "data": {
            "image/png": "[encoded data removed]",
            "text/plain": [
              "<Figure size 432x288 with 1 Axes>"
            ]
          },
          "metadata": {
            "tags": []
          }
        }
      ]
    },
    {
      "cell_type": "markdown",
      "metadata": {
        "id": "jDmyX0cP9tox",
        "colab_type": "text"
      },
      "source": [
        "C4.5算法"
      ]
    },
    {
      "cell_type": "code",
      "metadata": {
        "id": "oNtAUPAO9sr3",
        "colab_type": "code",
        "colab": {}
      },
      "source": [
        "def chooseBestFeatureToSplitByC45(dataSet):\n",
        "    '''\n",
        "            选择最好的数据集划分方式\n",
        "    :param dataSet:\n",
        "    :return: 划分结果\n",
        "    '''\n",
        "    numFeatures = len(dataSet[0]) - 1  # 最后一列yes分类标签，不属于特征变量\n",
        "    baseEntropy = calcShannonEnt(dataSet)\n",
        "    bestInfoGainRate = 0.0\n",
        "    bestFeature = -1\n",
        "    for i in range(numFeatures):  # 遍历所有维度特征\n",
        "        infoGainRate = calcInformationGainRatio(dataSet, baseEntropy, i)    # 计算信息增益比 \n",
        "        if (infoGainRate > bestInfoGainRate):  # 选择最大的信息增益比\n",
        "            bestInfoGainRate = infoGainRate\n",
        "            bestFeature = i\n",
        "    return bestFeature  # 返回最佳特征对应的维度"
      ],
      "execution_count": 21,
      "outputs": []
    },
    {
      "cell_type": "markdown",
      "metadata": {
        "id": "fhERQSYZ-hVB",
        "colab_type": "text"
      },
      "source": [
        "5.执行分类"
      ]
    },
    {
      "cell_type": "code",
      "metadata": {
        "id": "8WvYY7xb94ln",
        "colab_type": "code",
        "colab": {}
      },
      "source": [
        "def classify(inputTree,featLabels,testVec):\n",
        "    '''\n",
        "           利用决策树进行分类\n",
        "    :param: inputTree:构造好的决策树模型\n",
        "    :param: featLabels:所有的类标签\n",
        "    :param: testVec:测试数据\n",
        "    :return: 分类决策结果\n",
        "    '''\n",
        "    firstStr = inputTree.keys()[0]\n",
        "    secondDict = inputTree[firstStr]\n",
        "    featIndex = featLabels.index(firstStr)\n",
        "    key = testVec[featIndex]\n",
        "    valueOfFeat = secondDict[key]\n",
        "    if isinstance(valueOfFeat, dict): \n",
        "        classLabel = classify(valueOfFeat, featLabels, testVec)\n",
        "    else: classLabel = valueOfFeat\n",
        "    return classLabel"
      ],
      "execution_count": 22,
      "outputs": []
    },
    {
      "cell_type": "code",
      "metadata": {
        "id": "MbD_TWuQ-3bc",
        "colab_type": "code",
        "colab": {
          "base_uri": "https://localhost:8080/",
          "height": 293
        },
        "outputId": "b283c7e6-1d34-47c6-f1cd-dfe215eb4cb4"
      },
      "source": [
        "# classify(myTree,['agree','refuse'],['youth','no','no',1])"
      ],
      "execution_count": 23,
      "outputs": [
        {
          "output_type": "error",
          "ename": "TypeError",
          "evalue": "ignored",
          "traceback": [
            "\u001b[0;31m---------------------------------------------------------------------------\u001b[0m",
            "\u001b[0;31mTypeError\u001b[0m                                 Traceback (most recent call last)",
            "\u001b[0;32m<ipython-input-23-44c56fc3bbe9>\u001b[0m in \u001b[0;36m<module>\u001b[0;34m()\u001b[0m\n\u001b[0;32m----> 1\u001b[0;31m \u001b[0mclassify\u001b[0m\u001b[0;34m(\u001b[0m\u001b[0mmyTree\u001b[0m\u001b[0;34m,\u001b[0m\u001b[0;34m[\u001b[0m\u001b[0;34m'agree'\u001b[0m\u001b[0;34m,\u001b[0m\u001b[0;34m'refuse'\u001b[0m\u001b[0;34m]\u001b[0m\u001b[0;34m,\u001b[0m\u001b[0;34m[\u001b[0m\u001b[0;34m'youth'\u001b[0m\u001b[0;34m,\u001b[0m\u001b[0;34m'no'\u001b[0m\u001b[0;34m,\u001b[0m\u001b[0;34m'no'\u001b[0m\u001b[0;34m,\u001b[0m\u001b[0;36m1\u001b[0m\u001b[0;34m]\u001b[0m\u001b[0;34m)\u001b[0m\u001b[0;34m\u001b[0m\u001b[0;34m\u001b[0m\u001b[0m\n\u001b[0m",
            "\u001b[0;32m<ipython-input-22-63e55555222c>\u001b[0m in \u001b[0;36mclassify\u001b[0;34m(inputTree, featLabels, testVec)\u001b[0m\n\u001b[1;32m      7\u001b[0m     \u001b[0;34m:\u001b[0m\u001b[0;32mreturn\u001b[0m\u001b[0;34m:\u001b[0m \u001b[0m分类决策结果\u001b[0m\u001b[0;34m\u001b[0m\u001b[0;34m\u001b[0m\u001b[0m\n\u001b[1;32m      8\u001b[0m     '''\n\u001b[0;32m----> 9\u001b[0;31m     \u001b[0mfirstStr\u001b[0m \u001b[0;34m=\u001b[0m \u001b[0minputTree\u001b[0m\u001b[0;34m.\u001b[0m\u001b[0mkeys\u001b[0m\u001b[0;34m(\u001b[0m\u001b[0;34m)\u001b[0m\u001b[0;34m[\u001b[0m\u001b[0;36m0\u001b[0m\u001b[0;34m]\u001b[0m\u001b[0;34m\u001b[0m\u001b[0;34m\u001b[0m\u001b[0m\n\u001b[0m\u001b[1;32m     10\u001b[0m     \u001b[0msecondDict\u001b[0m \u001b[0;34m=\u001b[0m \u001b[0minputTree\u001b[0m\u001b[0;34m[\u001b[0m\u001b[0mfirstStr\u001b[0m\u001b[0;34m]\u001b[0m\u001b[0;34m\u001b[0m\u001b[0;34m\u001b[0m\u001b[0m\n\u001b[1;32m     11\u001b[0m     \u001b[0mfeatIndex\u001b[0m \u001b[0;34m=\u001b[0m \u001b[0mfeatLabels\u001b[0m\u001b[0;34m.\u001b[0m\u001b[0mindex\u001b[0m\u001b[0;34m(\u001b[0m\u001b[0mfirstStr\u001b[0m\u001b[0;34m)\u001b[0m\u001b[0;34m\u001b[0m\u001b[0;34m\u001b[0m\u001b[0m\n",
            "\u001b[0;31mTypeError\u001b[0m: 'dict_keys' object does not support indexing"
          ]
        }
      ]
    }
  ]
}