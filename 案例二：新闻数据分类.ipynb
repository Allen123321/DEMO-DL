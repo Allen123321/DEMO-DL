{
  "nbformat": 4,
  "nbformat_minor": 0,
  "metadata": {
    "colab": {
      "name": "案例二：新闻数据分类.ipynb",
      "provenance": [],
      "collapsed_sections": [],
      "authorship_tag": "ABX9TyP/VJAd5YUo53adJYfu2LxD",
      "include_colab_link": true
    },
    "kernelspec": {
      "name": "python3",
      "display_name": "Python 3"
    }
  },
  "cells": [
    {
      "cell_type": "markdown",
      "metadata": {
        "id": "view-in-github",
        "colab_type": "text"
      },
      "source": [
        "<a href=\"https://colab.research.google.com/github/Allen123321/DEMO-DL/blob/master/%E6%A1%88%E4%BE%8B%E4%BA%8C%EF%BC%9A%E6%96%B0%E9%97%BB%E6%95%B0%E6%8D%AE%E5%88%86%E7%B1%BB.ipynb\" target=\"_parent\"><img src=\"https://colab.research.google.com/assets/colab-badge.svg\" alt=\"Open In Colab\"/></a>"
      ]
    },
    {
      "cell_type": "code",
      "metadata": {
        "id": "A8j6YJmWih9Z"
      },
      "source": [
        "import numpy as np\n",
        "from time import time\n",
        "import matplotlib.pyplot as plt\n",
        "import matplotlib as mpl\n",
        "\n",
        "from sklearn.datasets import fetch_20newsgroups #引入新闻数据包\n",
        "from sklearn.feature_extraction.text import TfidfVectorizer #tf-idf 编码  用于提取文本特征的方法\n",
        "from sklearn.feature_selection import SelectKBest,chi2 #卡方检验-特征筛选\n",
        "from sklearn.linear_model import RidgeClassifier\n",
        "from sklearn.svm import LinearSVC,SVC\n",
        "from sklearn.naive_bayes import MultinomialNB,BernoulliNB\n",
        "from sklearn.neighbors import KNeighborsClassifier\n",
        "from sklearn.ensemble import RandomForestClassifier\n",
        "from sklearn.model_selection import GridSearchCV\n",
        "from sklearn import metrics\n",
        " \n"
      ],
      "execution_count": 1,
      "outputs": []
    },
    {
      "cell_type": "code",
      "metadata": {
        "id": "0T7jw0FLkrH5"
      },
      "source": [
        "##基准模型方法\n",
        "def benchmark(clf,name):\n",
        "  print(u'classifier:',clf)\n",
        "  ## 设置最优参数，并使用5折交叉验证获取最优参数值\n",
        "  alpha_can = np.logspace(-2,1,10)\n",
        "  model = GridSearchCV(clf,param_grid={'alpha':alpha_can},cv=5)\n",
        "  m = alpha_can.size\n",
        "  ## 如果模型有一个参数是alpha，进行设置\n",
        "  if hasattr(clf,'alpha'):\n",
        "    model.set_params(param_grid={'alpha':alpha_can})\n",
        "    m=alpha_can.size\n",
        "\n",
        "  ## 如果模型有一个k近邻的参数，进行设置\n",
        "\n",
        "  if hasattr(clf,'n_neighbors'):\n",
        "    neighbors_can = np.arange(1,15)\n",
        "    model.set_params(param_grid={'n_neighbors':neighbors_can})\n",
        "    m=neighbors_can.size\n",
        "\n",
        "  ## LinearSVC最优参数配置\n",
        "  if hasattr(clf,'C'):\n",
        "    C_can = np.logspace(1,3,3)\n",
        "    model.set_params(param_grid={'C':C_can})\n",
        "    m = C_can.size\n",
        "\n",
        "  ## SVM最优参数设置\n",
        "  if hasattr(clf,'C') & hasattr(clf,'gamma'):\n",
        "    C_can = np.logspace(1,3,3)\n",
        "    gamma_can = np.logspace(-3,0,3)\n",
        "    model.set_params(param_grid={'C':C_can,'gamma':gamma_can})\n",
        "    m = C_can.size * gamma_can.size\n",
        "\n",
        "  ## 设置深度相关参数，决策树\n",
        "\n",
        "  if hasattr(clf,'max_depth'):\n",
        "    max_depth_can = np.arange(4,10)\n",
        "    model.set_params(param_grid={'max_depth':max_depth_can})\n",
        "    m = max_depth_can.size\n",
        "\n",
        "  ## 模型训练\n",
        "\n",
        "  t_start = time()\n",
        "  model.fit(x_train,y_train)\n",
        "  t_end = time()\n",
        "  t_train = (t_end - t_start) / (5*m)\n",
        "  print (u'5折交叉验证的训练时间为：%.3f秒/(5*%d)=%.3f秒' % ((t_end - t_start), m, t_train))\n",
        "  print (u'最优超参数为：', model.best_params_)\n",
        "\n",
        "  ## 模型预测\n",
        "  t_start = time()\n",
        "  y_hat = model.predict(x_test)\n",
        "  t_end = time()\n",
        "  t_test = t_end - t_start\n",
        "  print (u'测试时间：%.3f秒' % t_test)\n",
        "\n",
        "  ##模型效果评估\n",
        "  train_acc = metrics.accuracy_score(y_train,model.predict(x_train))\n",
        "  test_acc = metrics.accuracy_score(y_test,y_hat)\n",
        "  print (u'训练集准确率：%.2f%%' % (100 * train_acc))\n",
        "  print (u'测试集准确率：%.2f%%' % (100 * test_acc))\n",
        "  ## 返回结果(训练时间耗时，预测数据耗时，训练数据错误率，测试数据错误率, 名称)\n",
        "  return t_train, t_test, 1-train_acc, 1-test_acc, name\n",
        "\n",
        "\n",
        "\n",
        "\n",
        "  "
      ],
      "execution_count": 2,
      "outputs": []
    },
    {
      "cell_type": "code",
      "metadata": {
        "id": "Zu1MYnjsqPNH",
        "outputId": "fba3aa07-49d7-4e79-fd80-79e47482a812",
        "colab": {
          "base_uri": "https://localhost:8080/",
          "height": 50
        }
      },
      "source": [
        "### 数据加载\n",
        "print (u'开始下载/加载数据...')\n",
        "t_start = time()\n",
        "## 不要头部信息\n",
        "remove = ('headers', 'footers', 'quotes')\n",
        "## 只要这四类数据\n",
        "categories = 'alt.atheism', 'talk.religion.misc', 'comp.graphics', 'sci.space'\n",
        "\n",
        "## 分别加载训练数据和测试数据\n",
        "data_train = fetch_20newsgroups(data_home='./datas/',subset='train', categories=categories, shuffle=True, random_state=0, remove=remove)\n",
        "data_test = fetch_20newsgroups(data_home='./datas/',subset='test', categories=categories, shuffle=True, random_state=0, remove=remove)\n",
        "\n",
        "## 完成\n",
        "print (u\"完成数据加载过程.耗时:%.3fs\" % (time() - t_start))"
      ],
      "execution_count": 3,
      "outputs": [
        {
          "output_type": "stream",
          "text": [
            "开始下载/加载数据...\n",
            "完成数据加载过程.耗时:2.405s\n"
          ],
          "name": "stdout"
        }
      ]
    },
    {
      "cell_type": "code",
      "metadata": {
        "id": "D96mX83RqkWq",
        "outputId": "65bcfbac-c7db-45af-d225-99bde8d96ec3",
        "colab": {
          "base_uri": "https://localhost:8080/",
          "height": 100
        }
      },
      "source": [
        "### 获取加载数据的相关信息\n",
        "# 算下docs大小\n",
        "def size_mb(docs):\n",
        "  return sum(len(s.encode('utf-8')) for s in docs) / 1e6\n",
        "\n",
        "categories = data_train.target_names\n",
        "data_train_size_mb = size_mb(data_train.data)\n",
        "data_test_size_mb = size_mb(data_test.data)\n",
        "print(u'数据类型：', type(data_train))\n",
        "print(\"%d文本数量 - %0.3fMB (训练数据集)\" % (len(data_train.data), data_train_size_mb))\n",
        "print(\"%d文本数量 - %0.3fMB (测试数据集)\" % (len(data_test.data), data_test_size_mb))\n",
        "print(u'训练集和测试集使用的%d个类别的名称：' % len(categories))\n",
        "print(categories)"
      ],
      "execution_count": 4,
      "outputs": [
        {
          "output_type": "stream",
          "text": [
            "数据类型： <class 'sklearn.utils.Bunch'>\n",
            "2034文本数量 - 2.428MB (训练数据集)\n",
            "1353文本数量 - 1.800MB (测试数据集)\n",
            "训练集和测试集使用的4个类别的名称：\n",
            "['alt.atheism', 'comp.graphics', 'sci.space', 'talk.religion.misc']\n"
          ],
          "name": "stdout"
        }
      ]
    },
    {
      "cell_type": "code",
      "metadata": {
        "id": "cbCzrU29rduj"
      },
      "source": [
        "### 数据重命名\n",
        "x_train = data_train.data\n",
        "y_train = data_train.target\n",
        "x_test = data_test.data\n",
        "y_test = data_test.target"
      ],
      "execution_count": 5,
      "outputs": []
    },
    {
      "cell_type": "code",
      "metadata": {
        "id": "UkVrb8WHroEF",
        "outputId": "4cb7b806-0766-4f83-b560-c5a38d52bcfd",
        "colab": {
          "base_uri": "https://localhost:8080/",
          "height": 1000
        }
      },
      "source": [
        "###输出前 5 个样本\n",
        "print(u'--前五个样本--')\n",
        "for i in range(5):\n",
        "  print(u'文本%d(属于类别-%s):'%(i+1,categories[y_train[i]]))\n",
        "  print(x_train[i])\n",
        "  print('\\n\\n')"
      ],
      "execution_count": 6,
      "outputs": [
        {
          "output_type": "stream",
          "text": [
            "--前五个样本--\n",
            "文本1(属于类别-alt.atheism):\n",
            "If one is a vegan (a vegetarian taht eats no animal products at at i.e eggs, \n",
            "milk, cheese, etc., after about 3 years of a vegan diet, you need to start \n",
            "taking B12 supplements because b12 is found only in animals.) Acutally our \n",
            "bodies make B12, I think, but our bodies use up our own B12 after 2 or 3 \n",
            "years.  \n",
            "Lacto-oveo vegetarians, like myself, still get B12 through milk products \n",
            "and eggs, so we don't need supplements.\n",
            "And If anyone knows more, PLEASE post it.  I'm nearly contridicting myself \n",
            "with the mish-mash of knowledge I've gleaned.\n",
            "\n",
            "\n",
            "\n",
            "文本2(属于类别-comp.graphics):\n",
            "Hi,\n",
            "         I have a friend who is working on 2-d and 3-d object recognition. He is looking\n",
            "for references describing algorithms on the following subject areas:\n",
            "\n",
            "Thresholding\n",
            "Edge Segmentation\n",
            "Marr-Hildreth\n",
            "Sobel Operator\n",
            "Chain Codes\n",
            "Thinning - Skeletonising\n",
            "\n",
            "If anybody is willing to post an algorithm that they have implemented which demonstrates\n",
            "any of the above topics, it would be much appreciated.\n",
            "\n",
            "Please post all replies to my e-mail address. If requested I will post a summary to the\n",
            "newsgroup in a couple of weeks.\n",
            "\n",
            "\n",
            "Thanks in advance for all replies\n",
            "\n",
            "\n",
            "\n",
            "文本3(属于类别-comp.graphics):\n",
            "Hello netters\n",
            "\n",
            "Sorry, I don't know if this is the right way of doing this kind of thing,\n",
            "probably should be a CFV, but since I don't have tha ability to create a \n",
            "news group myself, I just want to start the discussion. \n",
            "\n",
            "I enjoy reading c.g very much, but I often find it difficult to sort out what\n",
            "I'm interested in. Everything from screen-drivers, graphics cards, graphics\n",
            "programming and graphics programs are discused here. What I'd like is a \n",
            "comp.graphics.programmer news group.\n",
            "What do you other think.\n",
            "\n",
            "\n",
            "\n",
            "\n",
            "文本4(属于类别-comp.graphics):\n",
            "\n",
            "Yes, I did punch in the wrong numbers (working too many late nites).  I\n",
            "intended on stating 640x400 is 256,000 bytes.  It's not in the bios, just my\n",
            "VESA TSR.\n",
            "\n",
            "\n",
            "\n",
            "\n",
            "文本5(属于类别-talk.religion.misc):\n",
            "\n",
            "\n",
            "\n",
            "\n",
            "Well, I am not Andy, but if you had familiarized yourself with some of\n",
            "the current theories/hypotheses about abiogenesis before posting :-), you\n",
            "would be aware of the fact that none of them claims that proteins were\n",
            "assembled randomly from amino acids. It is current thinking that RNA-\n",
            "based replicators came before proteinaceous enzymes, and that proteins\n",
            "were assembled by some kind of primitive translation machinery.\n",
            "\n",
            "Now respond to 2. :-)\n",
            "--Cornelius.\n",
            "\n",
            "\n",
            "\n"
          ],
          "name": "stdout"
        }
      ]
    },
    {
      "cell_type": "code",
      "metadata": {
        "id": "9EN2QnBysrhm",
        "outputId": "88893e27-48a4-46b5-84a9-c128d21d3684",
        "colab": {
          "base_uri": "https://localhost:8080/",
          "height": 104
        }
      },
      "source": [
        "### 文档转换为向量\n",
        "## 转换\n",
        "## max_df 只取前50%的权重\n",
        "vectorizer = TfidfVectorizer(input='content', stop_words='english', max_df=0.5, sublinear_tf=True)\n",
        "x_train = vectorizer.fit_transform(data_train.data)  # x_train是稀疏的，scipy.sparse.csr.csr_matrix\n",
        "x_test = vectorizer.transform(data_test.data)\n",
        "print (u'训练集样本个数：%d，特征个数：%d' % x_train.shape)\n",
        "print (u'停止词:\\n')\n",
        "print(vectorizer.get_stop_words())\n",
        "## 获取最终的特征属性名称\n",
        "feature_names = np.asarray(vectorizer.get_feature_names())"
      ],
      "execution_count": 7,
      "outputs": [
        {
          "output_type": "stream",
          "text": [
            "训练集样本个数：2034，特征个数：26576\n",
            "停止词:\n",
            "\n",
            "frozenset({'by', 'fifteen', 'back', 'fire', 'been', 'but', 'can', 'former', 'although', 'at', 'anything', 'here', 'latter', 'name', 'less', 'out', 'whereas', 'within', 'very', 'several', 'hundred', 'do', 'them', 'almost', 'many', 'moreover', 'except', 'sometimes', 'when', 'wherever', 'six', 'across', 'its', 'thereby', 'the', 'above', 'four', 'latterly', 'be', 'give', 'front', 'nothing', 'yours', 'hereby', 'seem', 'put', 'thin', 'an', 'neither', 'whereupon', 'system', 'how', 'onto', 'around', 'de', 'somehow', 'mostly', 'that', 'and', 'there', 'may', 'nor', 'become', 'since', 'too', 'two', 'seeming', 'move', 'she', 'were', 'again', 'further', 'during', 'sixty', 'down', 'eleven', 'always', 'toward', 'this', 'without', 'etc', 'herself', 'through', 'myself', 'am', 'whenever', 'behind', 'twelve', 'i', 'under', 'yourself', 'sincere', 'eight', 'hereupon', 'became', 'beside', 'due', 'he', 'none', 'anywhere', 'full', 'perhaps', 'rather', 'mill', 'because', 'done', 'seems', 'else', 'whom', 'own', 'three', 'however', 'go', 're', 'hence', 'his', 'via', 'thick', 'beforehand', 'now', 'me', 'per', 'eg', 'con', 'might', 'of', 'along', 'ever', 'top', 'will', 'found', 'being', 'together', 'into', 'herein', 'it', 'my', 'co', 'these', 'whole', 'noone', 'otherwise', 'from', 'or', 'somewhere', 'nine', 'same', 'only', 'thereafter', 'already', 'every', 'everyone', 'nowhere', 'fill', 'indeed', 'whoever', 'un', 'their', 'afterwards', 'becomes', 'empty', 'between', 'hasnt', 'forty', 'last', 'not', 'was', 'yet', 'becoming', 'cannot', 'they', 'after', 'could', 'elsewhere', 'formerly', 'five', 'beyond', 'ten', 'whither', 'take', 'amoungst', 'up', 'no', 'us', 'thereupon', 'alone', 'nevertheless', 'thru', 'anyhow', 'below', 'which', 'either', 'ltd', 'as', 'upon', 'still', 'your', 'those', 'couldnt', 'more', 'about', 'than', 'made', 'any', 'her', 'whose', 'with', 'nobody', 'inc', 'had', 'all', 'seemed', 'serious', 'whence', 'get', 'twenty', 'himself', 'side', 'in', 'our', 'besides', 'whereafter', 'bottom', 'other', 'towards', 'while', 'least', 'where', 'has', 'cant', 'everything', 'against', 'another', 'meanwhile', 'show', 'much', 'whereby', 'must', 'until', 'something', 'fifty', 'namely', 'find', 'who', 'keep', 'part', 'therefore', 'call', 'interest', 'one', 'what', 'enough', 'themselves', 'see', 'are', 'few', 'someone', 'next', 'often', 'thence', 'we', 'describe', 'over', 'also', 'others', 'everywhere', 'off', 'why', 'anyway', 'ourselves', 'some', 'mine', 'for', 'sometime', 'then', 'whatever', 'itself', 'thus', 'you', 'would', 'once', 'ie', 'please', 'third', 'both', 'each', 'even', 'hereafter', 'so', 'bill', 'first', 'though', 'ours', 'to', 'never', 'therein', 'him', 'such', 'well', 'cry', 'should', 'whether', 'throughout', 'detail', 'have', 'if', 'wherein', 'amount', 'among', 'amongst', 'anyone', 'on', 'yourselves', 'hers', 'a', 'most', 'before', 'is'})\n"
          ],
          "name": "stdout"
        }
      ]
    },
    {
      "cell_type": "code",
      "metadata": {
        "id": "KZPfEJ7AuXXD"
      },
      "source": [
        "## 特征选择\n",
        "ch2 = SelectKBest(chi2, k=1000)\n",
        "x_train = ch2.fit_transform(x_train, y_train)\n",
        "x_test = ch2.transform(x_test)\n",
        "feature_names = [feature_names[i] for i in ch2.get_support(indices=True)]"
      ],
      "execution_count": 8,
      "outputs": []
    },
    {
      "cell_type": "code",
      "metadata": {
        "id": "Gh8RZdYJujt5",
        "outputId": "428ab4d5-3803-4103-9061-970e57349a70",
        "colab": {
          "base_uri": "https://localhost:8080/",
          "height": 1000
        }
      },
      "source": [
        "### 使用不同的分类器对数据进行比较\n",
        "print (u'分类器的比较：\\n')\n",
        "clfs = [\n",
        "    [RidgeClassifier(), 'Ridge'],\n",
        "    [KNeighborsClassifier(), 'KNN'],\n",
        "    [MultinomialNB(), 'MultinomialNB'],\n",
        "    [BernoulliNB(), 'BernoulliNB'],\n",
        "    [RandomForestClassifier(n_estimators=200), 'RandomForest'],\n",
        "    [SVC(), 'SVM'],\n",
        "    [LinearSVC(loss='squared_hinge', penalty='l1', dual=False, tol=1e-4), 'LinearSVC-l1'],\n",
        "    [LinearSVC(loss='squared_hinge', penalty='l2', dual=False, tol=1e-4), 'LinearSVC-l2']\n",
        "]\n",
        "\n",
        "## 将训练数据保存到一个列表中\n",
        "result = []\n",
        "for clf,name in clfs:\n",
        "    # 计算算法结果\n",
        "    a = benchmark(clf,name)\n",
        "    # 追加到一个列表中，方便进行展示操作\n",
        "    result.append(a)\n",
        "    print('\\n')\n",
        "## 将列表转换为数组\n",
        "result = np.array(result)"
      ],
      "execution_count": 9,
      "outputs": [
        {
          "output_type": "stream",
          "text": [
            "分类器的比较：\n",
            "\n",
            "classifier: RidgeClassifier(alpha=1.0, class_weight=None, copy_X=True, fit_intercept=True,\n",
            "                max_iter=None, normalize=False, random_state=None,\n",
            "                solver='auto', tol=0.001)\n",
            "5折交叉验证的训练时间为：1.301秒/(5*10)=0.026秒\n",
            "最优超参数为： {'alpha': 0.46415888336127775}\n",
            "测试时间：0.001秒\n",
            "训练集准确率：92.63%\n",
            "测试集准确率：75.76%\n",
            "\n",
            "\n",
            "classifier: KNeighborsClassifier(algorithm='auto', leaf_size=30, metric='minkowski',\n",
            "                     metric_params=None, n_jobs=None, n_neighbors=5, p=2,\n",
            "                     weights='uniform')\n",
            "5折交叉验证的训练时间为：2.243秒/(5*14)=0.032秒\n",
            "最优超参数为： {'n_neighbors': 1}\n",
            "测试时间：0.088秒\n",
            "训练集准确率：96.51%\n",
            "测试集准确率：50.55%\n",
            "\n",
            "\n",
            "classifier: MultinomialNB(alpha=1.0, class_prior=None, fit_prior=True)\n",
            "5折交叉验证的训练时间为：0.135秒/(5*10)=0.003秒\n",
            "最优超参数为： {'alpha': 0.01}\n",
            "测试时间：0.001秒\n",
            "训练集准确率：91.40%\n",
            "测试集准确率：76.72%\n",
            "\n",
            "\n",
            "classifier: BernoulliNB(alpha=1.0, binarize=0.0, class_prior=None, fit_prior=True)\n",
            "5折交叉验证的训练时间为：0.173秒/(5*10)=0.003秒\n",
            "最优超参数为： {'alpha': 0.01}\n",
            "测试时间：0.002秒\n",
            "训练集准确率：88.64%\n",
            "测试集准确率：74.28%\n",
            "\n",
            "\n",
            "classifier: RandomForestClassifier(bootstrap=True, ccp_alpha=0.0, class_weight=None,\n",
            "                       criterion='gini', max_depth=None, max_features='auto',\n",
            "                       max_leaf_nodes=None, max_samples=None,\n",
            "                       min_impurity_decrease=0.0, min_impurity_split=None,\n",
            "                       min_samples_leaf=1, min_samples_split=2,\n",
            "                       min_weight_fraction_leaf=0.0, n_estimators=200,\n",
            "                       n_jobs=None, oob_score=False, random_state=None,\n",
            "                       verbose=0, warm_start=False)\n",
            "5折交叉验证的训练时间为：12.883秒/(5*6)=0.429秒\n",
            "最优超参数为： {'max_depth': 9}\n",
            "测试时间：0.047秒\n",
            "训练集准确率：75.47%\n",
            "测试集准确率：67.18%\n",
            "\n",
            "\n",
            "classifier: SVC(C=1.0, break_ties=False, cache_size=200, class_weight=None, coef0=0.0,\n",
            "    decision_function_shape='ovr', degree=3, gamma='scale', kernel='rbf',\n",
            "    max_iter=-1, probability=False, random_state=None, shrinking=True,\n",
            "    tol=0.001, verbose=False)\n",
            "5折交叉验证的训练时间为：18.410秒/(5*9)=0.409秒\n",
            "最优超参数为： {'C': 10.0, 'gamma': 1.0}\n",
            "测试时间：0.223秒\n",
            "训练集准确率：95.58%\n",
            "测试集准确率：71.10%\n",
            "\n",
            "\n",
            "classifier: LinearSVC(C=1.0, class_weight=None, dual=False, fit_intercept=True,\n",
            "          intercept_scaling=1, loss='squared_hinge', max_iter=1000,\n",
            "          multi_class='ovr', penalty='l1', random_state=None, tol=0.0001,\n",
            "          verbose=0)\n"
          ],
          "name": "stdout"
        },
        {
          "output_type": "stream",
          "text": [
            "/usr/local/lib/python3.6/dist-packages/sklearn/svm/_base.py:947: ConvergenceWarning: Liblinear failed to converge, increase the number of iterations.\n",
            "  \"the number of iterations.\", ConvergenceWarning)\n"
          ],
          "name": "stderr"
        },
        {
          "output_type": "stream",
          "text": [
            "5折交叉验证的训练时间为：8.483秒/(5*3)=0.566秒\n",
            "最优超参数为： {'C': 10.0}\n",
            "测试时间：0.003秒\n",
            "训练集准确率：96.31%\n",
            "测试集准确率：72.21%\n",
            "\n",
            "\n",
            "classifier: LinearSVC(C=1.0, class_weight=None, dual=False, fit_intercept=True,\n",
            "          intercept_scaling=1, loss='squared_hinge', max_iter=1000,\n",
            "          multi_class='ovr', penalty='l2', random_state=None, tol=0.0001,\n",
            "          verbose=0)\n",
            "5折交叉验证的训练时间为：0.927秒/(5*3)=0.062秒\n",
            "最优超参数为： {'C': 10.0}\n",
            "测试时间：0.001秒\n",
            "训练集准确率：95.48%\n",
            "测试集准确率：74.58%\n",
            "\n",
            "\n"
          ],
          "name": "stdout"
        }
      ]
    },
    {
      "cell_type": "code",
      "metadata": {
        "id": "1GThy8FavIhO"
      },
      "source": [
        "### 获取需要画图的数据\n",
        "result = [[x[i] for x in result] for i in range(5)]\n",
        "training_time, test_time, training_err, test_err, clf_names = result\n",
        "\n",
        "training_time = np.array(training_time).astype(np.float)\n",
        "test_time = np.array(test_time).astype(np.float)\n",
        "training_err = np.array(training_err).astype(np.float)\n",
        "test_err = np.array(test_err).astype(np.float)"
      ],
      "execution_count": 10,
      "outputs": []
    },
    {
      "cell_type": "code",
      "metadata": {
        "id": "_aSF05Hlva6E",
        "outputId": "c5bc1e6d-5f02-4afb-f1c4-509c010cc7df",
        "colab": {
          "base_uri": "https://localhost:8080/",
          "height": 659
        }
      },
      "source": [
        "### 画图\n",
        "x = np.arange(len(training_time))\n",
        "plt.figure(figsize=(15, 10), facecolor='w')\n",
        "ax = plt.axes()\n",
        "b0 = ax.bar(x+0.1, training_err, width=0.2, color='#77E0A0')\n",
        "b1 = ax.bar(x+0.3, test_err, width=0.2, color='#8800FF')\n",
        "ax2 = ax.twinx()\n",
        "b2 = ax2.bar(x+0.5, training_time, width=0.2, color='#FFA0A0')\n",
        "b3 = ax2.bar(x+0.7, test_time, width=0.2, color='#FF8080')\n",
        "plt.xticks(x+0.5, clf_names)\n",
        "plt.legend([b0[0], b1[0], b2[0], b3[0]], (u'Training set error rate', u'test set error rate', u'training time', u'test time'), loc='upper left', shadow=True)\n",
        "plt.title(u'Newsgroup text data classification and comparison of the effects of different classifiers', fontsize=18)\n",
        "plt.xlabel(u'Classifier name')\n",
        "plt.grid(True)\n",
        "plt.tight_layout(2)\n",
        "plt.show()"
      ],
      "execution_count": 13,
      "outputs": [
        {
          "output_type": "display_data",
          "data": {
            "image/png": "[encoded data removed]",
            "text/plain": [
              "<Figure size 1080x720 with 2 Axes>"
            ]
          },
          "metadata": {
            "tags": []
          }
        }
      ]
    }
  ]
}