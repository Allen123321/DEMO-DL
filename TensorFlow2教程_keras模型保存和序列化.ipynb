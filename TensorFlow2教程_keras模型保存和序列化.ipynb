{
  "nbformat": 4,
  "nbformat_minor": 0,
  "metadata": {
    "colab": {
      "name": "TensorFlow2教程-keras模型保存和序列化.ipynb",
      "provenance": [],
      "authorship_tag": "ABX9TyOZRA6Yk9iQZI0hXaUTJ/c0",
      "include_colab_link": true
    },
    "kernelspec": {
      "name": "python3",
      "display_name": "Python 3"
    }
  },
  "cells": [
    {
      "cell_type": "markdown",
      "metadata": {
        "id": "view-in-github",
        "colab_type": "text"
      },
      "source": [
        "<a href=\"https://colab.research.google.com/github/Allen123321/DEMO-DL/blob/master/TensorFlow2%E6%95%99%E7%A8%8B_keras%E6%A8%A1%E5%9E%8B%E4%BF%9D%E5%AD%98%E5%92%8C%E5%BA%8F%E5%88%97%E5%8C%96.ipynb\" target=\"_parent\"><img src=\"https://colab.research.google.com/assets/colab-badge.svg\" alt=\"Open In Colab\"/></a>"
      ]
    },
    {
      "cell_type": "markdown",
      "metadata": {
        "id": "T2Uq-Rk87Hdv"
      },
      "source": [
        "## 1.TensorFlow2教程-keras模型保存和序列化"
      ]
    },
    {
      "cell_type": "code",
      "metadata": {
        "colab": {
          "base_uri": "https://localhost:8080/"
        },
        "id": "i0QAFATN7CWl",
        "outputId": "186e848a-403f-4b14-d091-b66567f763eb"
      },
      "source": [
        "# 构建一个简单的模型并训练\r\n",
        "\r\n",
        "from __future__ import absolute_import,division,print_function\r\n",
        "import tensorflow as tf\r\n",
        "\r\n",
        "from tensorflow import keras\r\n",
        "from tensorflow.keras import layers\r\n",
        "inputs = keras.Input(shape=(784,),name='digits')\r\n",
        "x = layers.Dense(64,activation = 'relu',name='dense_1')(inputs)\r\n",
        "x = layers.Dense(64,activation = 'relu',name='dense_2')(x)\r\n",
        "outputs = layers.Dense(10,activation='softmax',name='predictions')(x)\r\n",
        "model = keras.Model(inputs=inputs,outputs=outputs,name='3_layer_mlp')\r\n",
        "model.summary()\r\n"
      ],
      "execution_count": 3,
      "outputs": [
        {
          "output_type": "stream",
          "text": [
            "Model: \"3_layer_mlp\"\n",
            "_________________________________________________________________\n",
            "Layer (type)                 Output Shape              Param #   \n",
            "=================================================================\n",
            "digits (InputLayer)          [(None, 784)]             0         \n",
            "_________________________________________________________________\n",
            "dense_1 (Dense)              (None, 64)                50240     \n",
            "_________________________________________________________________\n",
            "dense_2 (Dense)              (None, 64)                4160      \n",
            "_________________________________________________________________\n",
            "predictions (Dense)          (None, 10)                650       \n",
            "=================================================================\n",
            "Total params: 55,050\n",
            "Trainable params: 55,050\n",
            "Non-trainable params: 0\n",
            "_________________________________________________________________\n"
          ],
          "name": "stdout"
        }
      ]
    },
    {
      "cell_type": "code",
      "metadata": {
        "colab": {
          "base_uri": "https://localhost:8080/"
        },
        "id": "g2VJJsCF9TTl",
        "outputId": "517f38a7-edda-403c-c0d9-c5c564be7199"
      },
      "source": [
        "(x_train, y_train), (x_test, y_test) = keras.datasets.mnist.load_data()\r\n",
        "x_train = x_train.reshape(60000,784).astype('float32')/255\r\n",
        "x_test = x_test.reshape(10000,784).astype('float32')/255\r\n",
        "\r\n",
        "model.compile(loss='sparse_categorical_crossentropy',optimizer=keras.optimizers.RMSprop()) #Root Mean Square Prop\r\n",
        "history = model.fit(x_train,y_train,batch_size=64,epochs=1)\r\n",
        "\r\n",
        "predictions = model.predict(x_test)"
      ],
      "execution_count": 4,
      "outputs": [
        {
          "output_type": "stream",
          "text": [
            "Downloading data from https://storage.googleapis.com/tensorflow/tf-keras-datasets/mnist.npz\n",
            "11493376/11490434 [==============================] - 0s 0us/step\n",
            "938/938 [==============================] - 2s 2ms/step - loss: 0.5075\n"
          ],
          "name": "stdout"
        }
      ]
    },
    {
      "cell_type": "markdown",
      "metadata": {
        "id": "HRGrIA_4-pJ7"
      },
      "source": [
        "注释： RMSProp算法对梯度计算了 微分平方加权平均数。这种做法有利于消除了摆动幅度大的方向，用来修正摆动幅度，使得各个维度的摆动幅度都较小。另一方面也使得网络函数收敛更快。"
      ]
    },
    {
      "cell_type": "markdown",
      "metadata": {
        "id": "oO0WXT9p_Yi6"
      },
      "source": [
        "\r\n",
        "## 1.1 保存整个模型\r\n",
        "可以对整个模型进行保存，其保持的内容包括：\r\n",
        "\r\n",
        "+ 该模型的架构\r\n",
        "+ 模型的权重（在训练期间学到的）\r\n",
        "+ 模型的训练配置（传递给编译的）\r\n",
        "+ 优化器及其状态（这使您可以从中断的地方重新启动训练）"
      ]
    },
    {
      "cell_type": "code",
      "metadata": {
        "id": "Gf-eyPvZ_Xh3"
      },
      "source": [
        "import numpy as np\r\n",
        "# 模型保存\r\n",
        "model.save('the_save_model.h5')\r\n",
        "# 导入模型\r\n",
        "new_model = keras.models.load_model('the_save_model.h5')\r\n",
        "new_prediction = new_model.predict(x_test)\r\n",
        "np.testing.assert_allclose(predictions, new_prediction, atol=1e-6) # 预测结果一样 (如果两个对象不相等，则引发AssertionError公差。)"
      ],
      "execution_count": 5,
      "outputs": []
    },
    {
      "cell_type": "markdown",
      "metadata": {
        "id": "-HY-9nPQAYIX"
      },
      "source": [
        "## 1.2 导出为SavedModel文件\r\n",
        "SavedModel是Tensorflow对象的独立序列化格式，支持使用Tensorflow Serving server来部署模型，支持其他语言读取。"
      ]
    },
    {
      "cell_type": "code",
      "metadata": {
        "colab": {
          "base_uri": "https://localhost:8080/"
        },
        "id": "LGzoZcGdAWE7",
        "outputId": "94e2596a-7c8e-4dc9-92df-cc519e845c6c"
      },
      "source": [
        "# 导出为tf的SavedModel文件\r\n",
        "model.save('save_model', save_format='tf')\r\n",
        "# 从SavedModel文件中导入模型\r\n",
        "new_model_1 = keras.models.load_model('save_model')\r\n",
        "\r\n",
        "new_prediction = new_model_1.predict(x_test)\r\n",
        "np.testing.assert_allclose(predictions, new_prediction, atol=1e-6) # 预测结果一样"
      ],
      "execution_count": 6,
      "outputs": [
        {
          "output_type": "stream",
          "text": [
            "INFO:tensorflow:Assets written to: save_model/assets\n"
          ],
          "name": "stdout"
        }
      ]
    },
    {
      "cell_type": "markdown",
      "metadata": {
        "id": "CQwy01ndBw8n"
      },
      "source": [
        "SaveModel创建的文件包含：\r\n",
        "\r\n",
        "+ 权重\r\n",
        "+ 网络图"
      ]
    },
    {
      "cell_type": "markdown",
      "metadata": {
        "id": "2xJvmcJwB4Qc"
      },
      "source": [
        "## 1.3 仅保存网络结构\r\n",
        "仅保持网络结构，这样导出的模型并未包含训练好的参数"
      ]
    },
    {
      "cell_type": "code",
      "metadata": {
        "id": "kyJor9uPB2Zi"
      },
      "source": [
        "# 获取网络结构配置\r\n",
        "config = model.get_config()\r\n",
        "reinitialized_model = keras.Model.from_config(config)\r\n",
        "\r\n",
        "new_prediction = reinitialized_model.predict(x_test)\r\n",
        "assert abs(np.sum(predictions-new_prediction)) >0"
      ],
      "execution_count": 8,
      "outputs": []
    },
    {
      "cell_type": "markdown",
      "metadata": {
        "id": "UHxiPUUtC60m"
      },
      "source": [
        "也可以使用json保存网络结构"
      ]
    },
    {
      "cell_type": "code",
      "metadata": {
        "id": "RRKetfr1C9Jw"
      },
      "source": [
        "# 将网络结构导出为json格式\r\n",
        "json_config = model.to_json()\r\n",
        "reinitialized_model = keras.models.model_from_json(json_config)\r\n",
        "\r\n",
        "new_prediction = reinitialized_model.predict(x_test)\r\n",
        "assert abs(np.sum(predictions-new_prediction)) >0  # assert 断言"
      ],
      "execution_count": 9,
      "outputs": []
    },
    {
      "cell_type": "markdown",
      "metadata": {
        "id": "7eJ-Y9v0DRHN"
      },
      "source": [
        "1.4 仅保存网络权重参数"
      ]
    },
    {
      "cell_type": "code",
      "metadata": {
        "id": "Cq_jrYSwDRzE"
      },
      "source": [
        "# 获取网络权重\r\n",
        "weights = model.get_weights()\r\n",
        "# 对网络权重进行赋值\r\n",
        "model.set_weights(weights)  "
      ],
      "execution_count": 10,
      "outputs": []
    },
    {
      "cell_type": "markdown",
      "metadata": {
        "id": "3-1rQvYVERS_"
      },
      "source": [
        "可以把结构和参数保存结合起来"
      ]
    },
    {
      "cell_type": "code",
      "metadata": {
        "id": "A--Eyma5EQt4"
      },
      "source": [
        "config = model.get_config()\r\n",
        "weights = model.get_weights()\r\n",
        "\r\n",
        "new_model = keras.Model.from_config(config) # config只能用keras.Model的这个api\r\n",
        "new_model.set_weights(weights)\r\n",
        "\r\n",
        "new_predictions = new_model.predict(x_test)\r\n",
        "np.testing.assert_allclose(predictions, new_predictions, atol=1e-6)"
      ],
      "execution_count": 11,
      "outputs": []
    },
    {
      "cell_type": "markdown",
      "metadata": {
        "id": "ILlzNfUmEkop"
      },
      "source": [
        "1.5 完整的模型保存方法"
      ]
    },
    {
      "cell_type": "code",
      "metadata": {
        "id": "M3Nzx1F2EOw5"
      },
      "source": [
        "\r\n",
        "# 导出网络结构和权重\r\n",
        "json_config = model.to_json()\r\n",
        "with open('model_config.json', 'w') as json_file:\r\n",
        "    json_file.write(json_config)\r\n",
        "model.save_weights('path_to_my_weights.h5')\r\n",
        "# 载入网络结构和权重\r\n",
        "with open('model_config.json') as json_file:\r\n",
        "    json_config_1 = json_file.read()\r\n",
        "new_model = keras.models.model_from_json(json_config_1)\r\n",
        "new_model.load_weights('path_to_my_weights.h5')\r\n",
        "\r\n",
        "new_predictions = new_model.predict(x_test)\r\n",
        "np.testing.assert_allclose(predictions, new_predictions, atol=1e-6)"
      ],
      "execution_count": 12,
      "outputs": []
    },
    {
      "cell_type": "code",
      "metadata": {
        "id": "nM9_FuozFoVP"
      },
      "source": [
        "# 当然也可以一步到位\r\n",
        "model.save('path_to_my_model.h5')\r\n",
        "del model\r\n",
        "model = keras.models.load_model('path_to_my_model.h5')"
      ],
      "execution_count": 14,
      "outputs": []
    },
    {
      "cell_type": "markdown",
      "metadata": {
        "id": "ViN2dlwzFtep"
      },
      "source": [
        "\r\n",
        "## 1.6 权重保存格式\r\n",
        "有.h5或.keras后缀时保存为keras HDF5格式文件，否则默认为TensorFlow Checkpoint格式文件。可以使用save_format显式确定。\r\n",
        "\r\n",
        "\r\n",
        "\r\n"
      ]
    },
    {
      "cell_type": "code",
      "metadata": {
        "id": "i_FoXULhFzVr"
      },
      "source": [
        "\r\n",
        "model.save_weights('weight_tf_savedmodel')\r\n",
        "model.save_weights('weight_tf_savedmodel.h5')"
      ],
      "execution_count": 15,
      "outputs": []
    },
    {
      "cell_type": "code",
      "metadata": {
        "id": "BlYY_pO_GIMx"
      },
      "source": [
        "model.save_weights('weight_tf_savedmodel_tf', save_format='tf')\r\n",
        "model.save_weights('weight_tf_savedmodel_h5', save_format='h5')"
      ],
      "execution_count": 16,
      "outputs": []
    },
    {
      "cell_type": "markdown",
      "metadata": {
        "id": "W7ryldn7GOZG"
      },
      "source": [
        "## 1.7 子类模型权重保存\r\n",
        "子类模型的结构无法保存和序列化，只能保持参数"
      ]
    },
    {
      "cell_type": "code",
      "metadata": {
        "id": "g6KCXLQ9GNuy"
      },
      "source": [
        "# 构建模型\r\n",
        "class ThreeLayerMLP(keras.Model):\r\n",
        "  \r\n",
        "    def __init__(self, name=None):\r\n",
        "        super(ThreeLayerMLP, self).__init__(name=name)\r\n",
        "        self.dense_1 = layers.Dense(64, activation='relu', name='dense_1')\r\n",
        "        self.dense_2 = layers.Dense(64, activation='relu', name='dense_2')\r\n",
        "        self.pred_layer = layers.Dense(10, activation='softmax', name='predictions')\r\n",
        "\r\n",
        "    def call(self, inputs):\r\n",
        "        x = self.dense_1(inputs)\r\n",
        "        x = self.dense_2(x)\r\n",
        "        return self.pred_layer(x)\r\n",
        "\r\n",
        "def get_model():\r\n",
        "    return ThreeLayerMLP(name='3_layer_mlp')\r\n",
        "\r\n",
        "model = get_model()"
      ],
      "execution_count": 17,
      "outputs": []
    },
    {
      "cell_type": "markdown",
      "metadata": {
        "id": "v9FrmK-qGwQx"
      },
      "source": [
        "首先，无法保存从未使用过的子类模型。<br>\r\n",
        "\r\n",
        "这是因为需要在某些数据上调用子类模型才能创建其权重。"
      ]
    },
    {
      "cell_type": "code",
      "metadata": {
        "colab": {
          "base_uri": "https://localhost:8080/"
        },
        "id": "W2uMU7pvGzrp",
        "outputId": "847f5d6a-c589-4f5b-b734-cdc6f52f5378"
      },
      "source": [
        "# 训练模型\r\n",
        "(x_train, y_train), (x_test, y_test) = keras.datasets.mnist.load_data()\r\n",
        "x_train = x_train.reshape(60000, 784).astype('float32') / 255\r\n",
        "x_test = x_test.reshape(10000, 784).astype('float32') / 255\r\n",
        "\r\n",
        "model.compile(loss='sparse_categorical_crossentropy',\r\n",
        "              optimizer=keras.optimizers.RMSprop())\r\n",
        "history = model.fit(x_train, y_train,\r\n",
        "                    batch_size=64,\r\n",
        "                    epochs=1)"
      ],
      "execution_count": 18,
      "outputs": [
        {
          "output_type": "stream",
          "text": [
            "938/938 [==============================] - 2s 2ms/step - loss: 0.5113\n"
          ],
          "name": "stdout"
        }
      ]
    },
    {
      "cell_type": "markdown",
      "metadata": {
        "id": "rDy7aOUCHIX1"
      },
      "source": [
        "推荐的保存子类模型的方法是使用save_weights创建TensorFlow SavedModel检查点。\r\n",
        "\r\n",
        "该检查点将包含与模型关联的所有变量的值：\r\n",
        "\r\n",
        "图层的权重\r\n",
        "\r\n",
        "优化器的状态\r\n",
        "\r\n",
        "与有状态模型指标关联的任何变量"
      ]
    },
    {
      "cell_type": "code",
      "metadata": {
        "id": "e3M9qXpOHE8y"
      },
      "source": [
        "# 保持权重参数\r\n",
        "model.save_weights('my_model_weights', save_format='tf')\r\n",
        "\r\n",
        "# 输出结果，供后面对比\r\n",
        "\r\n",
        "predictions = model.predict(x_test)\r\n",
        "first_batch_loss = model.train_on_batch(x_train[:64], y_train[:64])"
      ],
      "execution_count": 19,
      "outputs": []
    },
    {
      "cell_type": "markdown",
      "metadata": {
        "id": "666UqCK_Hj3k"
      },
      "source": [
        "要还原模型，将需要访问创建模型对象的代码。\r\n",
        "\r\n",
        "请注意，为了恢复优化器状态和任何有状态度量的状态，应该先编译模型（使用与以前完全相同的参数）。"
      ]
    },
    {
      "cell_type": "code",
      "metadata": {
        "id": "NmBW1tHRHlaB"
      },
      "source": [
        "# 读取保存的模型参数\r\n",
        "new_model = get_model()\r\n",
        "new_model.compile(loss='sparse_categorical_crossentropy',\r\n",
        "                  optimizer=keras.optimizers.RMSprop())\r\n",
        "\r\n",
        "#new_model.train_on_batch(x_train[:1], y_train[:1])\r\n",
        "\r\n",
        "new_model.load_weights('my_model_weights')\r\n",
        "\r\n",
        "new_predictions = new_model.predict(x_test)\r\n",
        "np.testing.assert_allclose(predictions, new_predictions, atol=1e-6)\r\n",
        "\r\n",
        "\r\n",
        "new_first_batch_loss = new_model.train_on_batch(x_train[:64], y_train[:64])\r\n",
        "assert first_batch_loss == new_first_batch_loss"
      ],
      "execution_count": null,
      "outputs": []
    }
  ]
}