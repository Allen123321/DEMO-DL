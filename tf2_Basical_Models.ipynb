{
  "nbformat": 4,
  "nbformat_minor": 0,
  "metadata": {
    "colab": {
      "name": "tf2-Basical_Models.ipynb",
      "provenance": [],
      "authorship_tag": "ABX9TyPRf9bmlatGP4FTq9WsLtpi",
      "include_colab_link": true
    },
    "kernelspec": {
      "display_name": "Python 3",
      "name": "python3"
    }
  },
  "cells": [
    {
      "cell_type": "markdown",
      "metadata": {
        "id": "view-in-github",
        "colab_type": "text"
      },
      "source": [
        "<a href=\"https://colab.research.google.com/github/Allen123321/DEMO-DL/blob/master/tf2_Basical_Models.ipynb\" target=\"_parent\"><img src=\"https://colab.research.google.com/assets/colab-badge.svg\" alt=\"Open In Colab\"/></a>"
      ]
    },
    {
      "cell_type": "code",
      "metadata": {
        "colab": {
          "base_uri": "https://localhost:8080/",
          "height": 541
        },
        "id": "EKtWaaLW030U",
        "outputId": "834fc434-47f2-46e1-a25a-2abc24050744"
      },
      "source": [
        "import tensorflow as tf\r\n",
        "import numpy as np\r\n",
        "import matplotlib.pyplot as plt\r\n",
        "\r\n",
        "# fake data\r\n",
        "x = np.linspace(-5, 5, 100)\r\n",
        "\r\n",
        "# following are popular activation functions\r\n",
        "y_relu = tf.nn.relu(x)\r\n",
        "y_sigmoid = tf.nn.sigmoid(x)\r\n",
        "y_tanh = tf.nn.tanh(x)\r\n",
        "y_softplus = tf.nn.softplus(x)\r\n",
        "# y_softmax = tf.nn.softmax(x)  softmax is a special kind of activation function, it is about probability\r\n",
        "\r\n",
        "# plt to visualize these activation function\r\n",
        "plt.figure(1, figsize=(12, 9))\r\n",
        "plt.subplot(221)\r\n",
        "plt.plot(x, y_relu, c='red', label='relu')\r\n",
        "plt.ylim((-1, 5))\r\n",
        "plt.legend(loc='best')\r\n",
        "\r\n",
        "plt.subplot(222)\r\n",
        "plt.plot(x, y_sigmoid, c='red', label='sigmoid')\r\n",
        "plt.ylim((-0.2, 1.2))\r\n",
        "plt.legend(loc='best')\r\n",
        "\r\n",
        "plt.subplot(223)\r\n",
        "plt.plot(x, y_tanh, c='red', label='tanh')\r\n",
        "plt.ylim((-1.2, 1.2))\r\n",
        "plt.legend(loc='best')\r\n",
        "\r\n",
        "plt.subplot(224)\r\n",
        "plt.plot(x, y_softplus, c='red', label='softplus')\r\n",
        "plt.ylim((-0.2, 6))\r\n",
        "plt.legend(loc='best')\r\n",
        "\r\n",
        "plt.show()"
      ],
      "execution_count": 1,
      "outputs": [
        {
          "output_type": "display_data",
          "data": {
            "image/png": "[encoded data removed]",
            "text/plain": [
              "<Figure size 864x648 with 4 Axes>"
            ]
          },
          "metadata": {
            "tags": [],
            "needs_background": "light"
          }
        }
      ]
    },
    {
      "cell_type": "code",
      "metadata": {
        "colab": {
          "base_uri": "https://localhost:8080/"
        },
        "id": "S4ukvX7O4IHZ",
        "outputId": "738024d9-b826-45b9-d5d8-eaec4f85c3ad"
      },
      "source": [
        "import tensorflow as tf\r\n",
        "x = tf.constant(3.0)\r\n",
        "with tf.GradientTape(persistent=True) as t:\r\n",
        "  t.watch(x)\r\n",
        "  y = x*x\r\n",
        "  z = y*y\r\n",
        "\r\n",
        "print(t.gradient(z,x))\r\n",
        "print(t.gradient(y,x))\r\n"
      ],
      "execution_count": 2,
      "outputs": [
        {
          "output_type": "stream",
          "text": [
            "tf.Tensor(108.0, shape=(), dtype=float32)\n",
            "tf.Tensor(6.0, shape=(), dtype=float32)\n"
          ],
          "name": "stdout"
        }
      ]
    },
    {
      "cell_type": "code",
      "metadata": {
        "id": "Aw4MZVqU6s0_"
      },
      "source": [
        "def f(x, y):\r\n",
        "    output = 1.0\r\n",
        "    for i in range(y):\r\n",
        "        if i > 1 and i < 5:\r\n",
        "            output = tf.multiply(output, x)\r\n",
        "            print(output)\r\n",
        "    return output\r\n",
        "\r\n",
        "def grad(x, y):\r\n",
        "    with tf.GradientTape() as t:\r\n",
        "        t.watch(x)\r\n",
        "        out = f(x, y)\r\n",
        "    return t.gradient(out, x)\r\n",
        "\r\n",
        "x = tf.convert_to_tensor(2.0)\r\n",
        "\r\n"
      ],
      "execution_count": 3,
      "outputs": []
    },
    {
      "cell_type": "code",
      "metadata": {
        "colab": {
          "base_uri": "https://localhost:8080/"
        },
        "id": "FtvSEG8C9i-R",
        "outputId": "34fd2d70-bc1a-47f1-8044-2eba4b904712"
      },
      "source": [
        "grad(x, 5).numpy()"
      ],
      "execution_count": 4,
      "outputs": [
        {
          "output_type": "stream",
          "text": [
            "tf.Tensor(2.0, shape=(), dtype=float32)\n",
            "tf.Tensor(4.0, shape=(), dtype=float32)\n",
            "tf.Tensor(8.0, shape=(), dtype=float32)\n"
          ],
          "name": "stdout"
        },
        {
          "output_type": "execute_result",
          "data": {
            "text/plain": [
              "12.0"
            ]
          },
          "metadata": {
            "tags": []
          },
          "execution_count": 4
        }
      ]
    },
    {
      "cell_type": "code",
      "metadata": {
        "id": "2YoYVSA4AH1R"
      },
      "source": [
        "import numpy as np\r\n",
        "import tensorflow as tf\r\n",
        "import matplotlib.pyplot as plt"
      ],
      "execution_count": 5,
      "outputs": []
    },
    {
      "cell_type": "code",
      "metadata": {
        "id": "jaO6s-LcALSe"
      },
      "source": [
        "# Define model and Loss\r\n",
        "\r\n",
        "class Model(object):\r\n",
        "    def __init__(self):\r\n",
        "        self.W = tf.Variable(10.0)\r\n",
        "        self.b = tf.Variable(-5.0)\r\n",
        "\r\n",
        "    def __call__(self, inputs):\r\n",
        "        return self.W * inputs + self.b\r\n",
        "\r\n",
        "\r\n",
        "def compute_loss(y_true, y_pred):\r\n",
        "    return tf.reduce_mean(tf.square(y_true-y_pred))\r\n",
        "\r\n"
      ],
      "execution_count": 6,
      "outputs": []
    },
    {
      "cell_type": "code",
      "metadata": {
        "id": "SYWn57QaBnfL"
      },
      "source": [
        "model = Model()\r\n"
      ],
      "execution_count": 7,
      "outputs": []
    },
    {
      "cell_type": "code",
      "metadata": {
        "id": "vKOF4LgFBrBx"
      },
      "source": [
        "TRUE_W = 3.0\r\n",
        "TRUE_b = 2.0"
      ],
      "execution_count": 8,
      "outputs": []
    },
    {
      "cell_type": "code",
      "metadata": {
        "id": "9BXNfV8gB3bw"
      },
      "source": [
        "# Obtain training data, Let's synthesize the training data with some noise.\r\n",
        "\r\n",
        "NUM_EXAMPLES = 1000\r\n",
        "inputs  = tf.random.normal(shape=[NUM_EXAMPLES])\r\n",
        "noise   = tf.random.normal(shape=[NUM_EXAMPLES])\r\n",
        "outputs = inputs * TRUE_W + TRUE_b + noise"
      ],
      "execution_count": 9,
      "outputs": []
    },
    {
      "cell_type": "code",
      "metadata": {
        "id": "N8Ws9HN2B7zT"
      },
      "source": [
        "# Before we train the model let's visualize where the model stands right now.\r\n",
        "# We'll plot the model's predictions in red and the training data in blue.\r\n",
        "\r\n",
        "def plot(epoch):\r\n",
        "    plt.scatter(inputs, outputs, c='b')\r\n",
        "    plt.scatter(inputs, model(inputs), c='r')\r\n",
        "    plt.title(\"epoch %2d, loss = %s\" %(epoch, str(compute_loss(outputs, model(inputs)).numpy())))\r\n",
        "    plt.legend()\r\n",
        "    plt.draw()\r\n",
        "    plt.ion()\r\n",
        "    plt.pause(1)\r\n",
        "    plt.close()"
      ],
      "execution_count": 10,
      "outputs": []
    },
    {
      "cell_type": "code",
      "metadata": {
        "colab": {
          "base_uri": "https://localhost:8080/",
          "height": 1000
        },
        "id": "vLMwYvRXCU0i",
        "outputId": "06f3aa1b-1825-4e9e-8cc9-be1a50064ec6"
      },
      "source": [
        "# Define a training loop\r\n",
        "learning_rate = 0.1\r\n",
        "for epoch in range(30):\r\n",
        "    with tf.GradientTape() as tape:\r\n",
        "        loss = compute_loss(outputs, model(inputs))\r\n",
        "\r\n",
        "    dW, db = tape.gradient(loss, [model.W, model.b])\r\n",
        "\r\n",
        "    model.W.assign_sub(learning_rate * dW)\r\n",
        "    model.b.assign_sub(learning_rate * db)\r\n",
        "\r\n",
        "    print(\"=> epoch %2d: w_true= %.2f, w_pred= %.2f; b_true= %.2f, b_pred= %.2f, loss= %.2f\" %(\r\n",
        "          epoch+1, TRUE_W, model.W.numpy(), TRUE_b, model.b.numpy(), loss.numpy()))\r\n",
        "    if (epoch) % 10 == 0: plot(epoch + 1)"
      ],
      "execution_count": 11,
      "outputs": [
        {
          "output_type": "stream",
          "text": [
            "=> epoch  1: w_true= 3.00, w_pred= 8.58; b_true= 2.00, b_pred= -3.60, loss= 99.30\n"
          ],
          "name": "stdout"
        },
        {
          "output_type": "stream",
          "text": [
            "No handles with labels found to put in legend.\n"
          ],
          "name": "stderr"
        },
        {
          "output_type": "display_data",
          "data": {
            "image/png": "[encoded data removed]",
            "text/plain": [
              "<Figure size 432x288 with 1 Axes>"
            ]
          },
          "metadata": {
            "tags": [],
            "needs_background": "light"
          }
        },
        {
          "output_type": "stream",
          "text": [
            "No handles with labels found to put in legend.\n"
          ],
          "name": "stderr"
        },
        {
          "output_type": "stream",
          "text": [
            "=> epoch  2: w_true= 3.00, w_pred= 7.45; b_true= 2.00, b_pred= -2.48, loss= 63.52\n",
            "=> epoch  3: w_true= 3.00, w_pred= 6.55; b_true= 2.00, b_pred= -1.58, loss= 40.76\n",
            "=> epoch  4: w_true= 3.00, w_pred= 5.83; b_true= 2.00, b_pred= -0.87, loss= 26.29\n",
            "=> epoch  5: w_true= 3.00, w_pred= 5.26; b_true= 2.00, b_pred= -0.30, loss= 17.08\n",
            "=> epoch  6: w_true= 3.00, w_pred= 4.81; b_true= 2.00, b_pred= 0.16, loss= 11.22\n",
            "=> epoch  7: w_true= 3.00, w_pred= 4.45; b_true= 2.00, b_pred= 0.52, loss= 7.50\n",
            "=> epoch  8: w_true= 3.00, w_pred= 4.16; b_true= 2.00, b_pred= 0.81, loss= 5.13\n",
            "=> epoch  9: w_true= 3.00, w_pred= 3.93; b_true= 2.00, b_pred= 1.04, loss= 3.62\n",
            "=> epoch 10: w_true= 3.00, w_pred= 3.75; b_true= 2.00, b_pred= 1.23, loss= 2.67\n",
            "=> epoch 11: w_true= 3.00, w_pred= 3.60; b_true= 2.00, b_pred= 1.38, loss= 2.06\n"
          ],
          "name": "stdout"
        },
        {
          "output_type": "display_data",
          "data": {
            "image/png": "[encoded data removed]",
            "text/plain": [
              "<Figure size 432x288 with 1 Axes>"
            ]
          },
          "metadata": {
            "tags": [],
            "needs_background": "light"
          }
        },
        {
          "output_type": "stream",
          "text": [
            "No handles with labels found to put in legend.\n"
          ],
          "name": "stderr"
        },
        {
          "output_type": "stream",
          "text": [
            "=> epoch 12: w_true= 3.00, w_pred= 3.48; b_true= 2.00, b_pred= 1.50, loss= 1.67\n",
            "=> epoch 13: w_true= 3.00, w_pred= 3.39; b_true= 2.00, b_pred= 1.59, loss= 1.42\n",
            "=> epoch 14: w_true= 3.00, w_pred= 3.32; b_true= 2.00, b_pred= 1.67, loss= 1.26\n",
            "=> epoch 15: w_true= 3.00, w_pred= 3.26; b_true= 2.00, b_pred= 1.73, loss= 1.16\n",
            "=> epoch 16: w_true= 3.00, w_pred= 3.21; b_true= 2.00, b_pred= 1.78, loss= 1.10\n",
            "=> epoch 17: w_true= 3.00, w_pred= 3.18; b_true= 2.00, b_pred= 1.81, loss= 1.06\n",
            "=> epoch 18: w_true= 3.00, w_pred= 3.15; b_true= 2.00, b_pred= 1.85, loss= 1.03\n",
            "=> epoch 19: w_true= 3.00, w_pred= 3.12; b_true= 2.00, b_pred= 1.87, loss= 1.02\n",
            "=> epoch 20: w_true= 3.00, w_pred= 3.10; b_true= 2.00, b_pred= 1.89, loss= 1.01\n",
            "=> epoch 21: w_true= 3.00, w_pred= 3.09; b_true= 2.00, b_pred= 1.91, loss= 1.00\n"
          ],
          "name": "stdout"
        },
        {
          "output_type": "display_data",
          "data": {
            "image/png": "[encoded data removed]",
            "text/plain": [
              "<Figure size 432x288 with 1 Axes>"
            ]
          },
          "metadata": {
            "tags": [],
            "needs_background": "light"
          }
        },
        {
          "output_type": "stream",
          "text": [
            "=> epoch 22: w_true= 3.00, w_pred= 3.08; b_true= 2.00, b_pred= 1.92, loss= 1.00\n",
            "=> epoch 23: w_true= 3.00, w_pred= 3.07; b_true= 2.00, b_pred= 1.93, loss= 0.99\n",
            "=> epoch 24: w_true= 3.00, w_pred= 3.06; b_true= 2.00, b_pred= 1.94, loss= 0.99\n",
            "=> epoch 25: w_true= 3.00, w_pred= 3.05; b_true= 2.00, b_pred= 1.94, loss= 0.99\n",
            "=> epoch 26: w_true= 3.00, w_pred= 3.05; b_true= 2.00, b_pred= 1.95, loss= 0.99\n",
            "=> epoch 27: w_true= 3.00, w_pred= 3.05; b_true= 2.00, b_pred= 1.95, loss= 0.99\n",
            "=> epoch 28: w_true= 3.00, w_pred= 3.04; b_true= 2.00, b_pred= 1.95, loss= 0.99\n",
            "=> epoch 29: w_true= 3.00, w_pred= 3.04; b_true= 2.00, b_pred= 1.96, loss= 0.99\n",
            "=> epoch 30: w_true= 3.00, w_pred= 3.04; b_true= 2.00, b_pred= 1.96, loss= 0.99\n"
          ],
          "name": "stdout"
        }
      ]
    },
    {
      "cell_type": "code",
      "metadata": {
        "id": "qeqopy5jGgnl"
      },
      "source": [
        "import numpy as np\r\n",
        "import tensorflow as tf"
      ],
      "execution_count": 12,
      "outputs": []
    },
    {
      "cell_type": "code",
      "metadata": {
        "id": "MVtkUnaHGjkH",
        "colab": {
          "base_uri": "https://localhost:8080/"
        },
        "outputId": "f1aa26ba-4655-4473-f7fc-823f23a1dded"
      },
      "source": [
        "# Parameters\r\n",
        "learning_rate = 0.001\r\n",
        "training_epochs = 6\r\n",
        "batch_size = 600\r\n",
        "\r\n",
        "# Import MNIST data\r\n",
        "(x_train, y_train), (x_test, y_test) = tf.keras.datasets.mnist.load_data()\r\n",
        "\r\n",
        "train_dataset = (\r\n",
        "    tf.data.Dataset.from_tensor_slices((tf.reshape(x_train, [-1, 784]), y_train))\r\n",
        "    .batch(batch_size)\r\n",
        "    .shuffle(1000)\r\n",
        ")\r\n",
        "\r\n",
        "train_dataset = (\r\n",
        "    train_dataset.map(lambda x, y:\r\n",
        "                      (tf.divide(tf.cast(x, tf.float32), 255.0),\r\n",
        "                       tf.reshape(tf.one_hot(y, 10), (-1, 10))))\r\n",
        ")"
      ],
      "execution_count": 13,
      "outputs": [
        {
          "output_type": "stream",
          "text": [
            "Downloading data from https://storage.googleapis.com/tensorflow/tf-keras-datasets/mnist.npz\n",
            "11493376/11490434 [==============================] - 0s 0us/step\n"
          ],
          "name": "stdout"
        }
      ]
    },
    {
      "cell_type": "code",
      "metadata": {
        "id": "C6L-y_wpHGrh"
      },
      "source": [
        "# Set model weights\r\n",
        "W = tf.Variable(tf.zeros([784, 10]))\r\n",
        "b = tf.Variable(tf.zeros([10]))"
      ],
      "execution_count": 14,
      "outputs": []
    },
    {
      "cell_type": "code",
      "metadata": {
        "colab": {
          "base_uri": "https://localhost:8080/"
        },
        "id": "_IENuSmhHSLz",
        "outputId": "2738cd79-47b7-4c09-ac33-7b37f3e18229"
      },
      "source": [
        "# Construct model\r\n",
        "model = lambda x: tf.nn.softmax(tf.matmul(x, W) + b) # Softmax\r\n",
        "# Minimize error using cross entropy\r\n",
        "compute_loss = lambda true, pred: tf.reduce_mean(tf.reduce_sum(tf.losses.binary_crossentropy(true, pred), axis=-1))\r\n",
        "# caculate accuracy\r\n",
        "compute_accuracy = lambda true, pred: tf.reduce_mean(tf.keras.metrics.categorical_accuracy(true, pred))\r\n",
        "# Gradient Descent\r\n",
        "optimizer = tf.optimizers.Adam(learning_rate)\r\n",
        "\r\n",
        "for epoch in range(training_epochs):\r\n",
        "    for i, (x_, y_) in enumerate(train_dataset):\r\n",
        "        with tf.GradientTape() as tape:\r\n",
        "            pred = model(x_)\r\n",
        "            loss = compute_loss(y_, pred)\r\n",
        "        acc = compute_accuracy(y_, pred)\r\n",
        "        grads = tape.gradient(loss, [W, b])\r\n",
        "        optimizer.apply_gradients(zip(grads, [W, b]))\r\n",
        "        print(\"=> loss %.2f acc %.2f\" %(loss.numpy(), acc.numpy()))"
      ],
      "execution_count": 15,
      "outputs": [
        {
          "output_type": "stream",
          "text": [
            "=> loss 195.05 acc 0.09\n",
            "=> loss 191.96 acc 0.54\n",
            "=> loss 188.48 acc 0.63\n",
            "=> loss 185.88 acc 0.55\n",
            "=> loss 182.77 acc 0.62\n",
            "=> loss 178.99 acc 0.67\n",
            "=> loss 176.60 acc 0.61\n",
            "=> loss 172.74 acc 0.65\n",
            "=> loss 172.46 acc 0.62\n",
            "=> loss 168.34 acc 0.67\n",
            "=> loss 166.38 acc 0.67\n",
            "=> loss 162.71 acc 0.68\n",
            "=> loss 158.49 acc 0.68\n",
            "=> loss 156.59 acc 0.66\n",
            "=> loss 152.75 acc 0.73\n",
            "=> loss 152.18 acc 0.75\n",
            "=> loss 148.16 acc 0.71\n",
            "=> loss 150.90 acc 0.72\n",
            "=> loss 146.62 acc 0.74\n",
            "=> loss 146.44 acc 0.74\n",
            "=> loss 142.41 acc 0.73\n",
            "=> loss 147.35 acc 0.72\n",
            "=> loss 142.15 acc 0.77\n",
            "=> loss 138.93 acc 0.75\n",
            "=> loss 134.77 acc 0.75\n",
            "=> loss 133.31 acc 0.80\n",
            "=> loss 121.80 acc 0.82\n",
            "=> loss 128.12 acc 0.75\n",
            "=> loss 129.45 acc 0.77\n",
            "=> loss 126.26 acc 0.77\n",
            "=> loss 123.54 acc 0.79\n",
            "=> loss 118.95 acc 0.77\n",
            "=> loss 118.94 acc 0.78\n",
            "=> loss 115.95 acc 0.80\n",
            "=> loss 110.38 acc 0.83\n",
            "=> loss 121.22 acc 0.73\n",
            "=> loss 113.23 acc 0.78\n",
            "=> loss 105.42 acc 0.83\n",
            "=> loss 113.76 acc 0.76\n",
            "=> loss 113.46 acc 0.75\n",
            "=> loss 104.79 acc 0.80\n",
            "=> loss 111.83 acc 0.77\n",
            "=> loss 99.42 acc 0.81\n",
            "=> loss 106.63 acc 0.79\n",
            "=> loss 107.38 acc 0.76\n",
            "=> loss 107.48 acc 0.73\n",
            "=> loss 101.79 acc 0.76\n",
            "=> loss 104.66 acc 0.79\n",
            "=> loss 90.72 acc 0.82\n",
            "=> loss 99.44 acc 0.77\n",
            "=> loss 89.40 acc 0.88\n",
            "=> loss 84.48 acc 0.85\n",
            "=> loss 101.36 acc 0.76\n",
            "=> loss 82.54 acc 0.86\n",
            "=> loss 92.67 acc 0.80\n",
            "=> loss 83.68 acc 0.82\n",
            "=> loss 87.18 acc 0.82\n",
            "=> loss 88.32 acc 0.84\n",
            "=> loss 87.18 acc 0.82\n",
            "=> loss 86.33 acc 0.82\n",
            "=> loss 84.58 acc 0.85\n",
            "=> loss 84.71 acc 0.86\n",
            "=> loss 85.15 acc 0.80\n",
            "=> loss 87.38 acc 0.82\n",
            "=> loss 88.49 acc 0.81\n",
            "=> loss 93.13 acc 0.77\n",
            "=> loss 82.71 acc 0.83\n",
            "=> loss 80.49 acc 0.83\n",
            "=> loss 81.49 acc 0.85\n",
            "=> loss 77.55 acc 0.84\n",
            "=> loss 74.82 acc 0.87\n",
            "=> loss 88.29 acc 0.82\n",
            "=> loss 74.31 acc 0.85\n",
            "=> loss 91.82 acc 0.78\n",
            "=> loss 78.07 acc 0.82\n",
            "=> loss 73.19 acc 0.84\n",
            "=> loss 78.60 acc 0.81\n",
            "=> loss 71.50 acc 0.87\n",
            "=> loss 81.07 acc 0.81\n",
            "=> loss 72.05 acc 0.85\n",
            "=> loss 72.00 acc 0.86\n",
            "=> loss 69.92 acc 0.85\n",
            "=> loss 74.83 acc 0.83\n",
            "=> loss 75.79 acc 0.81\n",
            "=> loss 83.21 acc 0.81\n",
            "=> loss 77.33 acc 0.81\n",
            "=> loss 52.06 acc 0.94\n",
            "=> loss 66.13 acc 0.87\n",
            "=> loss 73.35 acc 0.84\n",
            "=> loss 66.22 acc 0.87\n",
            "=> loss 79.25 acc 0.78\n",
            "=> loss 61.38 acc 0.89\n",
            "=> loss 76.90 acc 0.81\n",
            "=> loss 73.33 acc 0.83\n",
            "=> loss 75.89 acc 0.79\n",
            "=> loss 64.30 acc 0.87\n",
            "=> loss 63.55 acc 0.87\n",
            "=> loss 65.42 acc 0.84\n",
            "=> loss 63.73 acc 0.89\n",
            "=> loss 60.56 acc 0.88\n",
            "=> loss 57.54 acc 0.89\n",
            "=> loss 68.75 acc 0.85\n",
            "=> loss 68.06 acc 0.85\n",
            "=> loss 73.84 acc 0.81\n",
            "=> loss 65.88 acc 0.83\n",
            "=> loss 59.77 acc 0.88\n",
            "=> loss 68.08 acc 0.84\n",
            "=> loss 72.68 acc 0.81\n",
            "=> loss 60.02 acc 0.88\n",
            "=> loss 70.80 acc 0.80\n",
            "=> loss 52.45 acc 0.91\n",
            "=> loss 67.44 acc 0.84\n",
            "=> loss 62.31 acc 0.85\n",
            "=> loss 70.29 acc 0.80\n",
            "=> loss 67.36 acc 0.82\n",
            "=> loss 57.20 acc 0.88\n",
            "=> loss 61.13 acc 0.87\n",
            "=> loss 51.65 acc 0.88\n",
            "=> loss 53.87 acc 0.90\n",
            "=> loss 63.33 acc 0.86\n",
            "=> loss 61.73 acc 0.86\n",
            "=> loss 57.44 acc 0.88\n",
            "=> loss 61.49 acc 0.85\n",
            "=> loss 65.26 acc 0.85\n",
            "=> loss 61.89 acc 0.84\n",
            "=> loss 61.60 acc 0.87\n",
            "=> loss 68.48 acc 0.81\n",
            "=> loss 66.21 acc 0.83\n",
            "=> loss 51.73 acc 0.90\n",
            "=> loss 68.41 acc 0.82\n",
            "=> loss 56.32 acc 0.85\n",
            "=> loss 61.21 acc 0.85\n",
            "=> loss 65.50 acc 0.85\n",
            "=> loss 53.06 acc 0.88\n",
            "=> loss 57.38 acc 0.86\n",
            "=> loss 54.45 acc 0.88\n",
            "=> loss 66.85 acc 0.84\n",
            "=> loss 63.86 acc 0.83\n",
            "=> loss 60.30 acc 0.85\n",
            "=> loss 58.47 acc 0.85\n",
            "=> loss 52.55 acc 0.89\n",
            "=> loss 53.90 acc 0.87\n",
            "=> loss 50.73 acc 0.88\n",
            "=> loss 47.29 acc 0.89\n",
            "=> loss 53.81 acc 0.87\n",
            "=> loss 49.85 acc 0.89\n",
            "=> loss 62.70 acc 0.84\n",
            "=> loss 50.86 acc 0.90\n",
            "=> loss 63.62 acc 0.83\n",
            "=> loss 52.30 acc 0.88\n",
            "=> loss 55.20 acc 0.87\n",
            "=> loss 56.10 acc 0.88\n",
            "=> loss 66.74 acc 0.83\n",
            "=> loss 57.24 acc 0.85\n",
            "=> loss 53.07 acc 0.87\n",
            "=> loss 50.49 acc 0.89\n",
            "=> loss 52.46 acc 0.87\n",
            "=> loss 49.54 acc 0.90\n",
            "=> loss 52.77 acc 0.87\n",
            "=> loss 57.73 acc 0.85\n",
            "=> loss 53.35 acc 0.86\n",
            "=> loss 46.45 acc 0.89\n",
            "=> loss 63.56 acc 0.81\n",
            "=> loss 47.23 acc 0.90\n",
            "=> loss 50.16 acc 0.88\n",
            "=> loss 51.31 acc 0.87\n",
            "=> loss 47.54 acc 0.89\n",
            "=> loss 56.07 acc 0.86\n",
            "=> loss 53.02 acc 0.88\n",
            "=> loss 51.34 acc 0.87\n",
            "=> loss 43.04 acc 0.90\n",
            "=> loss 50.25 acc 0.88\n",
            "=> loss 58.14 acc 0.87\n",
            "=> loss 56.61 acc 0.86\n",
            "=> loss 59.47 acc 0.83\n",
            "=> loss 46.25 acc 0.89\n",
            "=> loss 48.87 acc 0.89\n",
            "=> loss 52.54 acc 0.88\n",
            "=> loss 31.93 acc 0.95\n",
            "=> loss 44.25 acc 0.90\n",
            "=> loss 44.78 acc 0.91\n",
            "=> loss 40.52 acc 0.92\n",
            "=> loss 49.51 acc 0.88\n",
            "=> loss 42.08 acc 0.90\n",
            "=> loss 46.59 acc 0.91\n",
            "=> loss 55.84 acc 0.86\n",
            "=> loss 52.41 acc 0.88\n",
            "=> loss 40.81 acc 0.91\n",
            "=> loss 48.64 acc 0.88\n",
            "=> loss 46.28 acc 0.89\n",
            "=> loss 48.06 acc 0.89\n",
            "=> loss 57.90 acc 0.84\n",
            "=> loss 56.54 acc 0.86\n",
            "=> loss 51.31 acc 0.86\n",
            "=> loss 57.09 acc 0.84\n",
            "=> loss 60.01 acc 0.82\n",
            "=> loss 48.30 acc 0.87\n",
            "=> loss 43.59 acc 0.89\n",
            "=> loss 48.70 acc 0.86\n",
            "=> loss 48.63 acc 0.89\n",
            "=> loss 47.65 acc 0.87\n",
            "=> loss 39.54 acc 0.90\n",
            "=> loss 43.03 acc 0.89\n",
            "=> loss 44.42 acc 0.89\n",
            "=> loss 47.90 acc 0.87\n",
            "=> loss 43.24 acc 0.91\n",
            "=> loss 55.79 acc 0.85\n",
            "=> loss 49.36 acc 0.88\n",
            "=> loss 48.68 acc 0.88\n",
            "=> loss 52.80 acc 0.87\n",
            "=> loss 41.29 acc 0.92\n",
            "=> loss 48.52 acc 0.89\n",
            "=> loss 45.25 acc 0.89\n",
            "=> loss 56.26 acc 0.85\n",
            "=> loss 48.48 acc 0.87\n",
            "=> loss 48.76 acc 0.87\n",
            "=> loss 53.06 acc 0.86\n",
            "=> loss 42.70 acc 0.90\n",
            "=> loss 54.60 acc 0.84\n",
            "=> loss 28.30 acc 0.95\n",
            "=> loss 58.36 acc 0.84\n",
            "=> loss 57.57 acc 0.83\n",
            "=> loss 49.25 acc 0.87\n",
            "=> loss 46.46 acc 0.89\n",
            "=> loss 52.44 acc 0.88\n",
            "=> loss 50.30 acc 0.87\n",
            "=> loss 54.62 acc 0.84\n",
            "=> loss 52.19 acc 0.87\n",
            "=> loss 49.74 acc 0.86\n",
            "=> loss 40.17 acc 0.90\n",
            "=> loss 45.73 acc 0.87\n",
            "=> loss 43.39 acc 0.90\n",
            "=> loss 43.04 acc 0.89\n",
            "=> loss 47.35 acc 0.88\n",
            "=> loss 56.48 acc 0.84\n",
            "=> loss 45.24 acc 0.87\n",
            "=> loss 47.25 acc 0.87\n",
            "=> loss 47.34 acc 0.88\n",
            "=> loss 36.82 acc 0.91\n",
            "=> loss 49.64 acc 0.88\n",
            "=> loss 38.40 acc 0.91\n",
            "=> loss 45.62 acc 0.89\n",
            "=> loss 42.06 acc 0.90\n",
            "=> loss 47.15 acc 0.87\n",
            "=> loss 43.31 acc 0.90\n",
            "=> loss 39.52 acc 0.93\n",
            "=> loss 39.42 acc 0.90\n",
            "=> loss 41.15 acc 0.91\n",
            "=> loss 43.27 acc 0.89\n",
            "=> loss 42.53 acc 0.90\n",
            "=> loss 43.74 acc 0.89\n",
            "=> loss 39.88 acc 0.91\n",
            "=> loss 53.36 acc 0.85\n",
            "=> loss 53.95 acc 0.85\n",
            "=> loss 45.15 acc 0.89\n",
            "=> loss 40.17 acc 0.91\n",
            "=> loss 41.74 acc 0.89\n",
            "=> loss 50.75 acc 0.85\n",
            "=> loss 47.04 acc 0.88\n",
            "=> loss 39.95 acc 0.90\n",
            "=> loss 46.66 acc 0.87\n",
            "=> loss 50.61 acc 0.86\n",
            "=> loss 42.43 acc 0.89\n",
            "=> loss 46.85 acc 0.89\n",
            "=> loss 41.59 acc 0.89\n",
            "=> loss 47.98 acc 0.88\n",
            "=> loss 41.65 acc 0.88\n",
            "=> loss 34.17 acc 0.93\n",
            "=> loss 42.72 acc 0.89\n",
            "=> loss 38.65 acc 0.90\n",
            "=> loss 37.70 acc 0.91\n",
            "=> loss 49.91 acc 0.86\n",
            "=> loss 40.88 acc 0.90\n",
            "=> loss 42.88 acc 0.88\n",
            "=> loss 54.05 acc 0.84\n",
            "=> loss 46.08 acc 0.87\n",
            "=> loss 41.97 acc 0.87\n",
            "=> loss 43.28 acc 0.87\n",
            "=> loss 41.62 acc 0.91\n",
            "=> loss 48.61 acc 0.87\n",
            "=> loss 37.09 acc 0.92\n",
            "=> loss 36.96 acc 0.91\n",
            "=> loss 50.97 acc 0.85\n",
            "=> loss 36.22 acc 0.91\n",
            "=> loss 42.60 acc 0.88\n",
            "=> loss 40.95 acc 0.88\n",
            "=> loss 30.12 acc 0.94\n",
            "=> loss 36.92 acc 0.92\n",
            "=> loss 33.50 acc 0.92\n",
            "=> loss 47.98 acc 0.85\n",
            "=> loss 43.22 acc 0.89\n",
            "=> loss 32.70 acc 0.94\n",
            "=> loss 33.99 acc 0.91\n",
            "=> loss 48.26 acc 0.87\n",
            "=> loss 45.91 acc 0.87\n",
            "=> loss 49.38 acc 0.88\n",
            "=> loss 40.42 acc 0.89\n",
            "=> loss 33.36 acc 0.92\n",
            "=> loss 45.33 acc 0.88\n",
            "=> loss 50.01 acc 0.86\n",
            "=> loss 43.23 acc 0.88\n",
            "=> loss 40.35 acc 0.89\n",
            "=> loss 35.66 acc 0.91\n",
            "=> loss 39.57 acc 0.90\n",
            "=> loss 41.59 acc 0.90\n",
            "=> loss 40.71 acc 0.89\n",
            "=> loss 36.93 acc 0.91\n",
            "=> loss 42.71 acc 0.89\n",
            "=> loss 41.22 acc 0.91\n",
            "=> loss 41.21 acc 0.88\n",
            "=> loss 50.22 acc 0.86\n",
            "=> loss 47.70 acc 0.87\n",
            "=> loss 51.63 acc 0.84\n",
            "=> loss 40.66 acc 0.88\n",
            "=> loss 39.19 acc 0.91\n",
            "=> loss 51.39 acc 0.85\n",
            "=> loss 34.90 acc 0.93\n",
            "=> loss 44.30 acc 0.88\n",
            "=> loss 44.96 acc 0.88\n",
            "=> loss 32.30 acc 0.93\n",
            "=> loss 41.64 acc 0.89\n",
            "=> loss 43.63 acc 0.88\n",
            "=> loss 39.09 acc 0.90\n",
            "=> loss 39.03 acc 0.89\n",
            "=> loss 45.20 acc 0.87\n",
            "=> loss 31.56 acc 0.93\n",
            "=> loss 40.85 acc 0.87\n",
            "=> loss 42.97 acc 0.88\n",
            "=> loss 37.97 acc 0.90\n",
            "=> loss 37.97 acc 0.91\n",
            "=> loss 39.80 acc 0.89\n",
            "=> loss 47.46 acc 0.89\n",
            "=> loss 41.99 acc 0.88\n",
            "=> loss 50.36 acc 0.86\n",
            "=> loss 41.34 acc 0.90\n",
            "=> loss 35.51 acc 0.92\n",
            "=> loss 35.75 acc 0.90\n",
            "=> loss 46.05 acc 0.87\n",
            "=> loss 39.72 acc 0.90\n",
            "=> loss 30.33 acc 0.94\n",
            "=> loss 33.53 acc 0.92\n",
            "=> loss 39.36 acc 0.89\n",
            "=> loss 48.73 acc 0.86\n",
            "=> loss 44.54 acc 0.88\n",
            "=> loss 34.44 acc 0.92\n",
            "=> loss 41.24 acc 0.89\n",
            "=> loss 36.90 acc 0.91\n",
            "=> loss 41.96 acc 0.88\n",
            "=> loss 42.13 acc 0.88\n",
            "=> loss 35.83 acc 0.91\n",
            "=> loss 47.19 acc 0.87\n",
            "=> loss 33.26 acc 0.93\n",
            "=> loss 41.44 acc 0.88\n",
            "=> loss 46.34 acc 0.88\n",
            "=> loss 44.74 acc 0.89\n",
            "=> loss 44.93 acc 0.85\n",
            "=> loss 30.91 acc 0.93\n",
            "=> loss 47.20 acc 0.87\n",
            "=> loss 51.12 acc 0.87\n",
            "=> loss 34.53 acc 0.91\n",
            "=> loss 34.33 acc 0.92\n",
            "=> loss 43.23 acc 0.89\n",
            "=> loss 50.66 acc 0.86\n",
            "=> loss 35.45 acc 0.91\n",
            "=> loss 43.17 acc 0.87\n",
            "=> loss 32.74 acc 0.92\n",
            "=> loss 42.31 acc 0.89\n",
            "=> loss 41.68 acc 0.88\n",
            "=> loss 50.24 acc 0.86\n",
            "=> loss 38.97 acc 0.90\n",
            "=> loss 45.43 acc 0.87\n",
            "=> loss 37.24 acc 0.92\n",
            "=> loss 38.02 acc 0.89\n",
            "=> loss 43.31 acc 0.88\n",
            "=> loss 44.56 acc 0.87\n",
            "=> loss 37.56 acc 0.91\n",
            "=> loss 35.75 acc 0.90\n",
            "=> loss 38.85 acc 0.91\n",
            "=> loss 39.52 acc 0.90\n",
            "=> loss 36.56 acc 0.90\n",
            "=> loss 38.22 acc 0.89\n",
            "=> loss 25.89 acc 0.94\n",
            "=> loss 33.21 acc 0.93\n",
            "=> loss 30.63 acc 0.92\n",
            "=> loss 38.48 acc 0.88\n",
            "=> loss 39.93 acc 0.90\n",
            "=> loss 30.41 acc 0.92\n",
            "=> loss 46.17 acc 0.87\n",
            "=> loss 30.99 acc 0.92\n",
            "=> loss 34.21 acc 0.92\n",
            "=> loss 33.52 acc 0.92\n",
            "=> loss 35.28 acc 0.91\n",
            "=> loss 21.92 acc 0.95\n",
            "=> loss 41.03 acc 0.89\n",
            "=> loss 36.81 acc 0.90\n",
            "=> loss 35.93 acc 0.90\n",
            "=> loss 32.68 acc 0.92\n",
            "=> loss 42.26 acc 0.89\n",
            "=> loss 44.28 acc 0.88\n",
            "=> loss 33.21 acc 0.92\n",
            "=> loss 39.76 acc 0.88\n",
            "=> loss 29.71 acc 0.92\n",
            "=> loss 35.61 acc 0.90\n",
            "=> loss 33.69 acc 0.92\n",
            "=> loss 47.84 acc 0.86\n",
            "=> loss 44.42 acc 0.88\n",
            "=> loss 34.61 acc 0.92\n",
            "=> loss 40.89 acc 0.88\n",
            "=> loss 35.57 acc 0.92\n",
            "=> loss 33.57 acc 0.91\n",
            "=> loss 38.85 acc 0.89\n",
            "=> loss 32.35 acc 0.93\n",
            "=> loss 29.54 acc 0.93\n",
            "=> loss 31.65 acc 0.92\n",
            "=> loss 33.71 acc 0.90\n",
            "=> loss 37.43 acc 0.88\n",
            "=> loss 35.44 acc 0.90\n",
            "=> loss 37.07 acc 0.91\n",
            "=> loss 40.17 acc 0.89\n",
            "=> loss 41.51 acc 0.88\n",
            "=> loss 30.52 acc 0.92\n",
            "=> loss 42.24 acc 0.88\n",
            "=> loss 28.98 acc 0.93\n",
            "=> loss 36.66 acc 0.90\n",
            "=> loss 38.22 acc 0.91\n",
            "=> loss 38.35 acc 0.90\n",
            "=> loss 37.68 acc 0.89\n",
            "=> loss 39.95 acc 0.89\n",
            "=> loss 29.10 acc 0.93\n",
            "=> loss 36.75 acc 0.90\n",
            "=> loss 47.98 acc 0.87\n",
            "=> loss 31.96 acc 0.92\n",
            "=> loss 34.68 acc 0.92\n",
            "=> loss 37.67 acc 0.89\n",
            "=> loss 38.33 acc 0.90\n",
            "=> loss 30.83 acc 0.92\n",
            "=> loss 42.81 acc 0.88\n",
            "=> loss 35.58 acc 0.92\n",
            "=> loss 31.50 acc 0.92\n",
            "=> loss 32.29 acc 0.93\n",
            "=> loss 33.69 acc 0.92\n",
            "=> loss 24.33 acc 0.94\n",
            "=> loss 29.28 acc 0.93\n",
            "=> loss 39.11 acc 0.89\n",
            "=> loss 38.55 acc 0.88\n",
            "=> loss 42.80 acc 0.88\n",
            "=> loss 30.95 acc 0.94\n",
            "=> loss 40.95 acc 0.88\n",
            "=> loss 32.40 acc 0.92\n",
            "=> loss 35.24 acc 0.89\n",
            "=> loss 41.48 acc 0.89\n",
            "=> loss 42.23 acc 0.89\n",
            "=> loss 36.34 acc 0.91\n",
            "=> loss 44.33 acc 0.89\n",
            "=> loss 31.12 acc 0.92\n",
            "=> loss 47.37 acc 0.86\n",
            "=> loss 32.49 acc 0.91\n",
            "=> loss 33.96 acc 0.92\n",
            "=> loss 48.41 acc 0.87\n",
            "=> loss 35.37 acc 0.92\n",
            "=> loss 29.15 acc 0.92\n",
            "=> loss 39.86 acc 0.90\n",
            "=> loss 31.96 acc 0.92\n",
            "=> loss 36.14 acc 0.90\n",
            "=> loss 32.38 acc 0.91\n",
            "=> loss 40.43 acc 0.90\n",
            "=> loss 35.18 acc 0.91\n",
            "=> loss 30.61 acc 0.93\n",
            "=> loss 43.31 acc 0.88\n",
            "=> loss 41.76 acc 0.86\n",
            "=> loss 39.63 acc 0.89\n",
            "=> loss 46.02 acc 0.87\n",
            "=> loss 35.31 acc 0.90\n",
            "=> loss 35.70 acc 0.89\n",
            "=> loss 46.59 acc 0.87\n",
            "=> loss 32.00 acc 0.92\n",
            "=> loss 43.84 acc 0.88\n",
            "=> loss 30.38 acc 0.93\n",
            "=> loss 35.05 acc 0.90\n",
            "=> loss 34.90 acc 0.91\n",
            "=> loss 20.19 acc 0.96\n",
            "=> loss 25.79 acc 0.95\n",
            "=> loss 47.79 acc 0.87\n",
            "=> loss 35.84 acc 0.91\n",
            "=> loss 39.82 acc 0.88\n",
            "=> loss 35.86 acc 0.90\n",
            "=> loss 33.80 acc 0.91\n",
            "=> loss 34.95 acc 0.90\n",
            "=> loss 36.42 acc 0.90\n",
            "=> loss 44.84 acc 0.87\n",
            "=> loss 41.20 acc 0.89\n",
            "=> loss 38.95 acc 0.90\n",
            "=> loss 38.41 acc 0.89\n",
            "=> loss 42.50 acc 0.88\n",
            "=> loss 35.68 acc 0.92\n",
            "=> loss 36.73 acc 0.91\n",
            "=> loss 41.30 acc 0.88\n",
            "=> loss 37.76 acc 0.91\n",
            "=> loss 42.85 acc 0.88\n",
            "=> loss 38.38 acc 0.88\n",
            "=> loss 31.47 acc 0.91\n",
            "=> loss 33.20 acc 0.92\n",
            "=> loss 45.23 acc 0.88\n",
            "=> loss 33.03 acc 0.92\n",
            "=> loss 39.61 acc 0.90\n",
            "=> loss 27.33 acc 0.93\n",
            "=> loss 35.49 acc 0.92\n",
            "=> loss 29.52 acc 0.93\n",
            "=> loss 30.18 acc 0.92\n",
            "=> loss 34.56 acc 0.90\n",
            "=> loss 41.37 acc 0.88\n",
            "=> loss 36.77 acc 0.89\n",
            "=> loss 40.44 acc 0.87\n",
            "=> loss 31.73 acc 0.92\n",
            "=> loss 37.73 acc 0.90\n",
            "=> loss 34.62 acc 0.90\n",
            "=> loss 34.65 acc 0.91\n",
            "=> loss 33.65 acc 0.90\n",
            "=> loss 38.15 acc 0.90\n",
            "=> loss 19.73 acc 0.96\n",
            "=> loss 34.90 acc 0.91\n",
            "=> loss 27.53 acc 0.93\n",
            "=> loss 35.07 acc 0.92\n",
            "=> loss 42.08 acc 0.88\n",
            "=> loss 46.69 acc 0.87\n",
            "=> loss 34.58 acc 0.90\n",
            "=> loss 47.17 acc 0.87\n",
            "=> loss 30.97 acc 0.92\n",
            "=> loss 29.74 acc 0.92\n",
            "=> loss 34.88 acc 0.90\n",
            "=> loss 43.89 acc 0.87\n",
            "=> loss 37.73 acc 0.90\n",
            "=> loss 36.38 acc 0.90\n",
            "=> loss 39.99 acc 0.89\n",
            "=> loss 35.46 acc 0.92\n",
            "=> loss 28.68 acc 0.93\n",
            "=> loss 30.78 acc 0.92\n",
            "=> loss 33.72 acc 0.91\n",
            "=> loss 37.28 acc 0.90\n",
            "=> loss 33.67 acc 0.92\n",
            "=> loss 32.37 acc 0.92\n",
            "=> loss 37.24 acc 0.90\n",
            "=> loss 39.87 acc 0.89\n",
            "=> loss 38.53 acc 0.88\n",
            "=> loss 32.23 acc 0.91\n",
            "=> loss 36.75 acc 0.90\n",
            "=> loss 36.23 acc 0.89\n",
            "=> loss 30.32 acc 0.93\n",
            "=> loss 34.32 acc 0.91\n",
            "=> loss 38.31 acc 0.89\n",
            "=> loss 40.83 acc 0.89\n",
            "=> loss 34.64 acc 0.90\n",
            "=> loss 39.29 acc 0.88\n",
            "=> loss 31.47 acc 0.93\n",
            "=> loss 31.94 acc 0.91\n",
            "=> loss 44.79 acc 0.87\n",
            "=> loss 33.77 acc 0.90\n",
            "=> loss 34.07 acc 0.92\n",
            "=> loss 39.76 acc 0.89\n",
            "=> loss 40.57 acc 0.89\n",
            "=> loss 41.02 acc 0.88\n",
            "=> loss 28.78 acc 0.92\n",
            "=> loss 34.21 acc 0.90\n",
            "=> loss 41.37 acc 0.88\n",
            "=> loss 32.64 acc 0.92\n",
            "=> loss 36.09 acc 0.90\n",
            "=> loss 42.00 acc 0.88\n",
            "=> loss 45.50 acc 0.87\n",
            "=> loss 28.40 acc 0.94\n",
            "=> loss 33.59 acc 0.91\n",
            "=> loss 26.48 acc 0.93\n",
            "=> loss 36.07 acc 0.90\n",
            "=> loss 21.64 acc 0.94\n",
            "=> loss 24.15 acc 0.95\n",
            "=> loss 44.75 acc 0.87\n",
            "=> loss 44.74 acc 0.88\n",
            "=> loss 28.86 acc 0.92\n",
            "=> loss 28.48 acc 0.92\n",
            "=> loss 35.39 acc 0.90\n",
            "=> loss 30.32 acc 0.92\n",
            "=> loss 29.35 acc 0.92\n",
            "=> loss 31.48 acc 0.92\n",
            "=> loss 27.91 acc 0.92\n",
            "=> loss 39.50 acc 0.89\n",
            "=> loss 30.93 acc 0.90\n",
            "=> loss 35.27 acc 0.91\n",
            "=> loss 26.59 acc 0.93\n",
            "=> loss 37.35 acc 0.90\n",
            "=> loss 27.31 acc 0.93\n",
            "=> loss 37.05 acc 0.90\n",
            "=> loss 40.92 acc 0.89\n",
            "=> loss 34.59 acc 0.91\n",
            "=> loss 41.72 acc 0.90\n",
            "=> loss 28.53 acc 0.94\n",
            "=> loss 27.45 acc 0.94\n",
            "=> loss 36.79 acc 0.88\n",
            "=> loss 34.30 acc 0.90\n",
            "=> loss 34.51 acc 0.90\n",
            "=> loss 29.85 acc 0.93\n",
            "=> loss 34.29 acc 0.91\n"
          ],
          "name": "stdout"
        }
      ]
    },
    {
      "cell_type": "code",
      "metadata": {
        "colab": {
          "base_uri": "https://localhost:8080/"
        },
        "id": "lR4xzU7T9YTO",
        "outputId": "41ea9bf5-60e3-4870-e13b-1224731eeac0"
      },
      "source": [
        "tf.cast(tf.one_hot([0,1,2,3,3,2,4,2,1], 5), tf.int64)"
      ],
      "execution_count": 33,
      "outputs": [
        {
          "output_type": "execute_result",
          "data": {
            "text/plain": [
              "<tf.Tensor: shape=(9, 5), dtype=int64, numpy=\n",
              "array([[1, 0, 0, 0, 0],\n",
              "       [0, 1, 0, 0, 0],\n",
              "       [0, 0, 1, 0, 0],\n",
              "       [0, 0, 0, 1, 0],\n",
              "       [0, 0, 0, 1, 0],\n",
              "       [0, 0, 1, 0, 0],\n",
              "       [0, 0, 0, 0, 1],\n",
              "       [0, 0, 1, 0, 0],\n",
              "       [0, 1, 0, 0, 0]])>"
            ]
          },
          "metadata": {
            "tags": []
          },
          "execution_count": 33
        }
      ]
    },
    {
      "cell_type": "markdown",
      "metadata": {
        "id": "5aQ71mHdDABk"
      },
      "source": [
        "Multilayer Perceptron Layer\r\n",
        "\r\n",
        "Subsequent work with multilayer perceptrons has shown that they are capable of approximating an XOR operator as well as many other non-linear functions.\r\n",
        "\r\n",
        "A multilayer perceptron (MLP) is a deep, artificial neural network. It is composed of more than one perceptron. They are composed of an input layer to receive the signal, an output layer that makes a decision or prediction about the input, and in between those two, an arbitrary number of hidden layers that are the true computational engine of the MLP. MLPs with one hidden layer are capable of approximating any continuous function.\r\n",
        "\r\n",
        "Multilayer perceptrons are often applied to supervised learning problems3: they train on a set of input-output pairs and learn to model the correlation (or dependencies) between those inputs and outputs. Training involves adjusting the parameters, or the weights and biases, of the model in order to minimize error. Backpropagation is used to make those weigh and bias adjustments relative to the error, and the error itself can be measured in a variety of ways, including by root mean squared error (RMSE)."
      ]
    },
    {
      "cell_type": "code",
      "metadata": {
        "id": "0_TzahaYCH26"
      },
      "source": [
        "import numpy as np\r\n",
        "import tensorflow as tf\r\n",
        "# Parameters\r\n",
        "learning_rate = 0.001\r\n",
        "training_steps = 3000\r\n",
        "batch_size = 100\r\n",
        "display_step = 300"
      ],
      "execution_count": 18,
      "outputs": []
    },
    {
      "cell_type": "code",
      "metadata": {
        "id": "0cIoV__OFC9J"
      },
      "source": [
        "(x_train, y_train), (x_test, y_test) = tf.keras.datasets.mnist.load_data()\r\n",
        "# Convert to float32.\r\n",
        "x_train, x_test = np.array(x_train, np.float32), np.array(x_test, np.float32)\r\n",
        "\r\n",
        "# Flatten images to 1-D vector of 784 features (28*28).\r\n",
        "x_train, x_test = x_train.reshape([-1, 784]), x_test.reshape([-1, 784])\r\n",
        "\r\n",
        "# Normalize images value from [0, 255] to [0, 1].\r\n",
        "x_train, x_test = x_train / 255., x_test / 255.\r\n",
        "\r\n"
      ],
      "execution_count": 19,
      "outputs": []
    },
    {
      "cell_type": "code",
      "metadata": {
        "colab": {
          "base_uri": "https://localhost:8080/"
        },
        "id": "B4iItaw2GdD2",
        "outputId": "592b10fa-6971-4372-b9a4-53523c84878f"
      },
      "source": [
        "print(tf.shape(x_train))\r\n",
        "print(tf.shape(y_train))"
      ],
      "execution_count": 25,
      "outputs": [
        {
          "output_type": "stream",
          "text": [
            "tf.Tensor([60000   784], shape=(2,), dtype=int32)\n",
            "tf.Tensor([60000], shape=(1,), dtype=int32)\n"
          ],
          "name": "stdout"
        }
      ]
    },
    {
      "cell_type": "code",
      "metadata": {
        "colab": {
          "base_uri": "https://localhost:8080/"
        },
        "id": "9tQdWi7dPlrj",
        "outputId": "0c9a2041-9001-4bd2-e87c-7f591caa5560"
      },
      "source": [
        "print(y_train[0])"
      ],
      "execution_count": 37,
      "outputs": [
        {
          "output_type": "stream",
          "text": [
            "5\n"
          ],
          "name": "stdout"
        }
      ]
    },
    {
      "cell_type": "code",
      "metadata": {
        "id": "dG-WotmFG5ZH"
      },
      "source": [
        "# Use tf.data API to shuffle and batch data.\r\n",
        "train_data = tf.data.Dataset.from_tensor_slices((x_train, y_train))\r\n",
        "train_data = train_data.repeat().shuffle(5000).batch(batch_size).prefetch(1)"
      ],
      "execution_count": 26,
      "outputs": []
    },
    {
      "cell_type": "code",
      "metadata": {
        "id": "IMwF1ZrOHdLR"
      },
      "source": [
        "# Network Parameters\r\n",
        "n_hidden_1 = 256 # 1st layer number of neurons\r\n",
        "n_hidden_2 = 256 # 2nd layer number of neurons\r\n",
        "n_input = 784 # MNIST data input (img shape: 28*28)\r\n",
        "n_classes = 10 # MNIST total classes (0-9 digits)"
      ],
      "execution_count": 30,
      "outputs": []
    },
    {
      "cell_type": "code",
      "metadata": {
        "id": "vsq3LWrPJYVH"
      },
      "source": [
        "# Store layers weight & bias\r\n",
        "weights = {\r\n",
        "    'h1': tf.Variable(tf.random.normal([n_input, n_hidden_1])),\r\n",
        "    'h2': tf.Variable(tf.random.normal([n_hidden_1, n_hidden_2])),\r\n",
        "    'out': tf.Variable(tf.random.normal([n_hidden_2, n_classes]))\r\n",
        "}\r\n",
        "biases = {\r\n",
        "    'b1': tf.Variable(tf.random.normal([n_hidden_1])),\r\n",
        "    'b2': tf.Variable(tf.random.normal([n_hidden_2])),\r\n",
        "    'out': tf.Variable(tf.random.normal([n_classes]))\r\n",
        "}"
      ],
      "execution_count": 31,
      "outputs": []
    },
    {
      "cell_type": "code",
      "metadata": {
        "id": "7WEo_-RTJjmI"
      },
      "source": [
        "# Create model\r\n",
        "def multilayer_perceptron(x):\r\n",
        "    # Hidden fully connected layer with 256 neurons\r\n",
        "    layer_1 = tf.add(tf.matmul(x, weights['h1']), biases['b1'])\r\n",
        "    layer_1 = tf.nn.sigmoid(layer_1)\r\n",
        "    # Hidden fully connected layer with 256 neurons\r\n",
        "    layer_2 = tf.add(tf.matmul(layer_1, weights['h2']), biases['b2'])\r\n",
        "    # Output fully connected layer with a neuron for each class\r\n",
        "    layer_2 = tf.nn.sigmoid(layer_2)\r\n",
        "    output = tf.matmul(layer_2, weights['out']) + biases['out']\r\n",
        "    return tf.nn.softmax(output)\r\n",
        "\r\n",
        "# Cross-Entropy loss function.\r\n",
        "def cross_entropy(y_pred, y_true):\r\n",
        "    # Encode label to a one hot vector.\r\n",
        "    y_true = tf.one_hot(y_true, depth=10)\r\n",
        "    # Clip prediction values to avoid log(0) error.\r\n",
        "    y_pred = tf.clip_by_value(y_pred, 1e-9, 1.)\r\n",
        "    # Compute cross-entropy.\r\n",
        "    return tf.reduce_mean(-tf.reduce_sum(y_true * tf.math.log(y_pred)))\r\n",
        "\r\n",
        "# Accuracy metric.\r\n",
        "def accuracy(y_pred, y_true):\r\n",
        "    # Predicted class is the index of highest score in prediction vector (i.e. argmax).\r\n",
        "    correct_prediction = tf.equal(tf.argmax(y_pred, 1), tf.cast(y_true, tf.int64))\r\n",
        "    return tf.reduce_mean(tf.cast(correct_prediction, tf.float32), axis=-1)\r\n",
        "\r\n",
        "# Stochastic gradient descent optimizer.\r\n",
        "optimizer = tf.optimizers.SGD(learning_rate)"
      ],
      "execution_count": 32,
      "outputs": []
    },
    {
      "cell_type": "code",
      "metadata": {
        "id": "DKpJKMAsMvFj"
      },
      "source": [
        "# Optimization process. \r\n",
        "def train_step(x, y):\r\n",
        "    # Wrap computation inside a GradientTape for automatic differentiation.\r\n",
        "    with tf.GradientTape() as tape:\r\n",
        "        pred = multilayer_perceptron(x)\r\n",
        "        loss = cross_entropy(pred, y)\r\n",
        "        \r\n",
        "    # Variables to update, i.e. trainable variables.\r\n",
        "    trainable_variables = list(weights.values()) + list(biases.values())\r\n",
        "\r\n",
        "    # Compute gradients.\r\n",
        "    gradients = tape.gradient(loss, trainable_variables)\r\n",
        "    \r\n",
        "    # Update W and b following gradients.\r\n",
        "    optimizer.apply_gradients(zip(gradients, trainable_variables))"
      ],
      "execution_count": 34,
      "outputs": []
    },
    {
      "cell_type": "code",
      "metadata": {
        "colab": {
          "base_uri": "https://localhost:8080/"
        },
        "id": "Id1nasApNuYQ",
        "outputId": "b464f274-b0e6-462c-95ae-86d7a36d24e9"
      },
      "source": [
        "# Run training for the given number of steps.\r\n",
        "for step, (batch_x, batch_y) in enumerate(train_data.take(training_steps), 1):  # start 1\r\n",
        "    # Run the optimization to update W and b values.\r\n",
        "    train_step(batch_x, batch_y)\r\n",
        "    \r\n",
        "    if (step+1) % display_step == 0:\r\n",
        "        print(\"batch_x shape\",tf.shape(batch_x))\r\n",
        "        pred = multilayer_perceptron(batch_x)\r\n",
        "        loss  = cross_entropy(pred, batch_y)\r\n",
        "        acc  = accuracy(pred, batch_y)\r\n",
        "        print(\"batch_y shape\",tf.shape(batch_y))\r\n",
        "        print(\"pred\",tf.shape(pred))\r\n",
        "        print(\"step: %i, loss: %f, accuracy: %f\" % (step+1, loss, acc))"
      ],
      "execution_count": 35,
      "outputs": [
        {
          "output_type": "stream",
          "text": [
            "batch_x shape tf.Tensor([100 784], shape=(2,), dtype=int32)\n",
            "batch_y shape tf.Tensor([100], shape=(1,), dtype=int32)\n",
            "pred tf.Tensor([100  10], shape=(2,), dtype=int32)\n",
            "step: 300, loss: 104.889740, accuracy: 0.750000\n",
            "batch_x shape tf.Tensor([100 784], shape=(2,), dtype=int32)\n",
            "batch_y shape tf.Tensor([100], shape=(1,), dtype=int32)\n",
            "pred tf.Tensor([100  10], shape=(2,), dtype=int32)\n",
            "step: 600, loss: 65.909714, accuracy: 0.770000\n",
            "batch_x shape tf.Tensor([100 784], shape=(2,), dtype=int32)\n",
            "batch_y shape tf.Tensor([100], shape=(1,), dtype=int32)\n",
            "pred tf.Tensor([100  10], shape=(2,), dtype=int32)\n",
            "step: 900, loss: 56.805771, accuracy: 0.850000\n",
            "batch_x shape tf.Tensor([100 784], shape=(2,), dtype=int32)\n",
            "batch_y shape tf.Tensor([100], shape=(1,), dtype=int32)\n",
            "pred tf.Tensor([100  10], shape=(2,), dtype=int32)\n",
            "step: 1200, loss: 85.869812, accuracy: 0.750000\n",
            "batch_x shape tf.Tensor([100 784], shape=(2,), dtype=int32)\n",
            "batch_y shape tf.Tensor([100], shape=(1,), dtype=int32)\n",
            "pred tf.Tensor([100  10], shape=(2,), dtype=int32)\n",
            "step: 1500, loss: 85.089279, accuracy: 0.770000\n",
            "batch_x shape tf.Tensor([100 784], shape=(2,), dtype=int32)\n",
            "batch_y shape tf.Tensor([100], shape=(1,), dtype=int32)\n",
            "pred tf.Tensor([100  10], shape=(2,), dtype=int32)\n",
            "step: 1800, loss: 27.711411, accuracy: 0.900000\n",
            "batch_x shape tf.Tensor([100 784], shape=(2,), dtype=int32)\n",
            "batch_y shape tf.Tensor([100], shape=(1,), dtype=int32)\n",
            "pred tf.Tensor([100  10], shape=(2,), dtype=int32)\n",
            "step: 2100, loss: 29.927916, accuracy: 0.920000\n",
            "batch_x shape tf.Tensor([100 784], shape=(2,), dtype=int32)\n",
            "batch_y shape tf.Tensor([100], shape=(1,), dtype=int32)\n",
            "pred tf.Tensor([100  10], shape=(2,), dtype=int32)\n",
            "step: 2400, loss: 47.185570, accuracy: 0.900000\n",
            "batch_x shape tf.Tensor([100 784], shape=(2,), dtype=int32)\n",
            "batch_y shape tf.Tensor([100], shape=(1,), dtype=int32)\n",
            "pred tf.Tensor([100  10], shape=(2,), dtype=int32)\n",
            "step: 2700, loss: 54.249126, accuracy: 0.830000\n",
            "batch_x shape tf.Tensor([100 784], shape=(2,), dtype=int32)\n",
            "batch_y shape tf.Tensor([100], shape=(1,), dtype=int32)\n",
            "pred tf.Tensor([100  10], shape=(2,), dtype=int32)\n",
            "step: 3000, loss: 24.299961, accuracy: 0.940000\n"
          ],
          "name": "stdout"
        }
      ]
    },
    {
      "cell_type": "markdown",
      "metadata": {
        "id": "fnKs1PLNQFkx"
      },
      "source": [
        "CNN"
      ]
    },
    {
      "cell_type": "code",
      "metadata": {
        "id": "voZFBwxiQE5e"
      },
      "source": [
        "import tensorflow as tf\r\n",
        "\r\n",
        "from tensorflow.keras.layers import Dense, Flatten, Conv2D\r\n",
        "from tensorflow.keras import Model"
      ],
      "execution_count": 38,
      "outputs": []
    },
    {
      "cell_type": "code",
      "metadata": {
        "id": "IpidEjn6RnXp"
      },
      "source": [
        "mnist = tf.keras.datasets.mnist\r\n",
        "\r\n",
        "(x_train, y_train), (x_test, y_test) = mnist.load_data()\r\n",
        "x_train, x_test = x_train / 255.0, x_test / 255.0\r\n",
        "\r\n",
        "# Add a channels dimension\r\n",
        "x_train = x_train[..., tf.newaxis].astype(\"float32\")\r\n",
        "x_test = x_test[..., tf.newaxis].astype(\"float32\")"
      ],
      "execution_count": 39,
      "outputs": []
    },
    {
      "cell_type": "code",
      "metadata": {
        "id": "O6S-fzgZWJNZ"
      },
      "source": [
        "train_ds = tf.data.Dataset.from_tensor_slices(\r\n",
        "    (x_train, y_train)).shuffle(10000).batch(32)\r\n",
        "\r\n",
        "test_ds = tf.data.Dataset.from_tensor_slices((x_test, y_test)).batch(32)"
      ],
      "execution_count": 40,
      "outputs": []
    },
    {
      "cell_type": "markdown",
      "metadata": {
        "id": "9su_USVjWOjn"
      },
      "source": [
        "Build the tf.keras model using the Keras model subclassing API:"
      ]
    },
    {
      "cell_type": "code",
      "metadata": {
        "id": "QTzLVakaWPG8"
      },
      "source": [
        "class MyModel(Model):\r\n",
        "  def __init__(self):\r\n",
        "    super(MyModel, self).__init__()\r\n",
        "    self.conv1 = Conv2D(32, 3, activation='relu')\r\n",
        "    self.flatten = Flatten()\r\n",
        "    self.d1 = Dense(128, activation='relu')\r\n",
        "    self.d2 = Dense(10)\r\n",
        "\r\n",
        "  def call(self, x):\r\n",
        "    x = self.conv1(x)\r\n",
        "    x = self.flatten(x)\r\n",
        "    x = self.d1(x)\r\n",
        "    return self.d2(x)\r\n",
        "\r\n",
        "# Create an instance of the model\r\n",
        "model = MyModel()"
      ],
      "execution_count": 41,
      "outputs": []
    },
    {
      "cell_type": "code",
      "metadata": {
        "id": "wFt7BQVSYCy2"
      },
      "source": [
        "loss_object = tf.keras.losses.SparseCategoricalCrossentropy(from_logits=True)\r\n",
        "\r\n",
        "optimizer = tf.keras.optimizers.Adam()"
      ],
      "execution_count": 50,
      "outputs": []
    },
    {
      "cell_type": "code",
      "metadata": {
        "id": "gnHMeYliZFuG"
      },
      "source": [
        "train_loss = tf.keras.metrics.Mean(name='train_loss')\r\n",
        "train_accuracy = tf.keras.metrics.SparseCategoricalAccuracy(name='train_accuracy')\r\n",
        "\r\n",
        "test_loss = tf.keras.metrics.Mean(name='test_loss')\r\n",
        "test_accuracy = tf.keras.metrics.SparseCategoricalAccuracy(name='test_accuracy')"
      ],
      "execution_count": 51,
      "outputs": []
    },
    {
      "cell_type": "code",
      "metadata": {
        "id": "bFeOM1DUZNLQ"
      },
      "source": [
        "@tf.function\r\n",
        "def train_step(images, labels):\r\n",
        "  with tf.GradientTape() as tape:\r\n",
        "    # training=True is only needed if there are layers with different\r\n",
        "    # behavior during training versus inference (e.g. Dropout).\r\n",
        "    predictions = model(images, training=True)\r\n",
        "    loss = loss_object(labels, predictions)\r\n",
        "  gradients = tape.gradient(loss, model.trainable_variables)\r\n",
        "  optimizer.apply_gradients(zip(gradients, model.trainable_variables))\r\n",
        "\r\n",
        "  train_loss(loss)\r\n",
        "  train_accuracy(labels, predictions)"
      ],
      "execution_count": 52,
      "outputs": []
    },
    {
      "cell_type": "code",
      "metadata": {
        "id": "gr2DKLnXZTug"
      },
      "source": [
        "@tf.function\r\n",
        "def test_step(images, labels):\r\n",
        "  # training=False is only needed if there are layers with different\r\n",
        "  # behavior during training versus inference (e.g. Dropout).\r\n",
        "  predictions = model(images, training=False)\r\n",
        "  t_loss = loss_object(labels, predictions)\r\n",
        "\r\n",
        "  test_loss(t_loss)\r\n",
        "  test_accuracy(labels, predictions)"
      ],
      "execution_count": 54,
      "outputs": []
    },
    {
      "cell_type": "code",
      "metadata": {
        "colab": {
          "base_uri": "https://localhost:8080/"
        },
        "id": "ppngNEb4Zelx",
        "outputId": "9304eb6b-a4b7-4706-e21d-8ed39e62886e"
      },
      "source": [
        "EPOCHS = 5\r\n",
        "\r\n",
        "for epoch in range(EPOCHS):\r\n",
        "  # Reset the metrics at the start of the next epoch\r\n",
        "  train_loss.reset_states()\r\n",
        "  train_accuracy.reset_states()\r\n",
        "  test_loss.reset_states()\r\n",
        "  test_accuracy.reset_states()\r\n",
        "\r\n",
        "  for images, labels in train_ds:\r\n",
        "    train_step(images, labels)\r\n",
        "\r\n",
        "  for test_images, test_labels in test_ds:\r\n",
        "    test_step(test_images, test_labels)\r\n",
        "\r\n",
        "  print(\r\n",
        "    f'Epoch {epoch + 1}, '\r\n",
        "    f'Loss: {train_loss.result()}, '\r\n",
        "    f'Accuracy: {train_accuracy.result() * 100}, '\r\n",
        "    f'Test Loss: {test_loss.result()}, '\r\n",
        "    f'Test Accuracy: {test_accuracy.result() * 100}'\r\n",
        "  )"
      ],
      "execution_count": 55,
      "outputs": [
        {
          "output_type": "stream",
          "text": [
            "Epoch 1, Loss: 0.13381989300251007, Accuracy: 95.92499542236328, Test Loss: 0.05441633239388466, Test Accuracy: 98.18999481201172\n",
            "Epoch 2, Loss: 0.0407634861767292, Accuracy: 98.69499969482422, Test Loss: 0.05145733430981636, Test Accuracy: 98.36000061035156\n",
            "Epoch 3, Loss: 0.021127818152308464, Accuracy: 99.37000274658203, Test Loss: 0.06974439322948456, Test Accuracy: 97.8699951171875\n",
            "Epoch 4, Loss: 0.013735523447394371, Accuracy: 99.56666564941406, Test Loss: 0.05750737339258194, Test Accuracy: 98.30999755859375\n",
            "Epoch 5, Loss: 0.009947195649147034, Accuracy: 99.6883316040039, Test Loss: 0.06984474509954453, Test Accuracy: 98.18000030517578\n"
          ],
          "name": "stdout"
        }
      ]
    }
  ]
}