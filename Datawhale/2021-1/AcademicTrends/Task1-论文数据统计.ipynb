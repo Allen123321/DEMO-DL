{
  "nbformat": 4,
  "nbformat_minor": 0,
  "metadata": {
    "colab": {
      "name": "Task1 论文数据统计.ipynb",
      "provenance": [],
      "authorship_tag": "ABX9TyNDHEcoKD+ZPi2X/AQs9UGc",
      "include_colab_link": true
    },
    "kernelspec": {
      "name": "python3",
      "display_name": "Python 3"
    }
  },
  "cells": [
    {
      "cell_type": "markdown",
      "metadata": {
        "id": "view-in-github",
        "colab_type": "text"
      },
      "source": [
        "<a href=\"https://colab.research.google.com/github/Allen123321/DEMO-DL/blob/master/Task1_%E8%AE%BA%E6%96%87%E6%95%B0%E6%8D%AE%E7%BB%9F%E8%AE%A1.ipynb\" target=\"_parent\"><img src=\"https://colab.research.google.com/assets/colab-badge.svg\" alt=\"Open In Colab\"/></a>"
      ]
    },
    {
      "cell_type": "markdown",
      "metadata": {
        "id": "T75XzXkh63iS"
      },
      "source": [
        "## 任务说明\r\n",
        "\r\n",
        "任务主题：论文数量统计，即统计2019年全年计算机各个方向论文数量；\r\n",
        "\r\n",
        "任务内容：赛题的理解、使用 Pandas 读取数据并进行统计；\r\n",
        "\r\n",
        "任务成果：学习 Pandas 的基础操作；\r\n",
        "## 任务环境\r\n",
        "Google Colab <br>\r\n",
        "## 具体代码实现"
      ]
    },
    {
      "cell_type": "markdown",
      "metadata": {
        "id": "GM9ogVKHV2J1"
      },
      "source": [
        "## 一、从kaggle上下载arxiv数据集\r\n",
        "**1.上传kaggle.json文件**\r\n",
        "在kaggle账户上下载该文件"
      ]
    },
    {
      "cell_type": "code",
      "metadata": {
        "id": "ZuP60oNaTqiY"
      },
      "source": [
        "from google.colab import files\r\n",
        "files.upload() # upload kaggle.json "
      ],
      "execution_count": null,
      "outputs": []
    },
    {
      "cell_type": "markdown",
      "metadata": {
        "id": "Vprw_iiRWdi6"
      },
      "source": [
        "**2.安装 kaggle 在colab上**"
      ]
    },
    {
      "cell_type": "code",
      "metadata": {
        "id": "IBneZ5cuSCdW"
      },
      "source": [
        "!pip install -q kaggle #安装 kaggle 在colab上"
      ],
      "execution_count": 2,
      "outputs": []
    },
    {
      "cell_type": "markdown",
      "metadata": {
        "id": "esMebm82WjWA"
      },
      "source": [
        "**3.创建 /root/.kaggle**"
      ]
    },
    {
      "cell_type": "code",
      "metadata": {
        "id": "eKdFq9CTT1zB"
      },
      "source": [
        "!mkdir -p ~/.kaggle"
      ],
      "execution_count": 3,
      "outputs": []
    },
    {
      "cell_type": "markdown",
      "metadata": {
        "id": "MTm2V3RMWzF_"
      },
      "source": [
        "**4.移动kaggle.json 到创建的/root/.kaggle/ 下**"
      ]
    },
    {
      "cell_type": "code",
      "metadata": {
        "id": "ByS8BbqVT46D"
      },
      "source": [
        "!cp kaggle.json ~/.kaggle/"
      ],
      "execution_count": 4,
      "outputs": []
    },
    {
      "cell_type": "code",
      "metadata": {
        "colab": {
          "base_uri": "https://localhost:8080/"
        },
        "id": "o5v2-tFeT-v2",
        "outputId": "8350ff40-02ff-49c5-fa42-9a07f666ed5d"
      },
      "source": [
        "!ls ~/.kaggle"
      ],
      "execution_count": 5,
      "outputs": [
        {
          "output_type": "stream",
          "text": [
            "kaggle.json\n"
          ],
          "name": "stdout"
        }
      ]
    },
    {
      "cell_type": "code",
      "metadata": {
        "id": "tIt9hpiwUBf2"
      },
      "source": [
        "!chmod 600 /root/.kaggle/kaggle.json"
      ],
      "execution_count": 6,
      "outputs": []
    },
    {
      "cell_type": "markdown",
      "metadata": {
        "id": "pgt-ui91XS16"
      },
      "source": [
        "**5.开始下载arxiv.zip文件**"
      ]
    },
    {
      "cell_type": "code",
      "metadata": {
        "id": "MVEq9vBLUMDX"
      },
      "source": [
        "!kaggle datasets download -d Cornell-University/arxiv"
      ],
      "execution_count": null,
      "outputs": []
    },
    {
      "cell_type": "code",
      "metadata": {
        "colab": {
          "base_uri": "https://localhost:8080/"
        },
        "id": "twWY2nH4UW27",
        "outputId": "2e74b068-c9d0-49dd-f403-886f9c1de7d5"
      },
      "source": [
        "from google.colab import drive \r\n",
        "\r\n",
        "drive.mount('/content/gdrive/')  #挂载google drive 将数据集存在云盘，下次无需再次kaggle下载。"
      ],
      "execution_count": 8,
      "outputs": [
        {
          "output_type": "stream",
          "text": [
            "Mounted at /content/gdrive/\n"
          ],
          "name": "stdout"
        }
      ]
    },
    {
      "cell_type": "code",
      "metadata": {
        "id": "L5M-xMdfUvfH"
      },
      "source": [
        "!cp -f /content/arxiv.zip  /content/gdrive/MyDrive/Colab\\ Notebooks/"
      ],
      "execution_count": 11,
      "outputs": []
    },
    {
      "cell_type": "code",
      "metadata": {
        "colab": {
          "base_uri": "https://localhost:8080/"
        },
        "id": "iIwWqXFtCQ6B",
        "outputId": "a0cf1cdf-3ee2-4d79-f255-ffbe88babfbd"
      },
      "source": [
        "!unzip -o /content/arxiv.zip  #解压数据集"
      ],
      "execution_count": 12,
      "outputs": [
        {
          "output_type": "stream",
          "text": [
            "Archive:  /content/arxiv.zip\n",
            "  inflating: arxiv-metadata-oai-snapshot.json  \n"
          ],
          "name": "stdout"
        }
      ]
    },
    {
      "cell_type": "markdown",
      "metadata": {
        "id": "xRs_hzH0Y1qB"
      },
      "source": [
        "## 二、数据读取"
      ]
    },
    {
      "cell_type": "code",
      "metadata": {
        "id": "YBWoQJKb6xnC"
      },
      "source": [
        "# 导入所需的package\r\n",
        "import seaborn as sns #用于画图\r\n",
        "from bs4 import BeautifulSoup #用于爬取arxiv的数据\r\n",
        "import re #用于正则表达式，匹配字符串的模式\r\n",
        "import requests #用于网络连接，发送网络请求，使用域名获取对应信息\r\n",
        "import json #读取数据，我们的数据为json格式的\r\n",
        "import pandas as pd #数据处理，数据分析\r\n",
        "import matplotlib.pyplot as plt #画图工具"
      ],
      "execution_count": 8,
      "outputs": []
    },
    {
      "cell_type": "code",
      "metadata": {
        "colab": {
          "base_uri": "https://localhost:8080/"
        },
        "id": "QZ6nIFbibXxD",
        "outputId": "32191384-b894-4306-8010-4e563c537266"
      },
      "source": [
        "## 读取第一行查看数据特征\r\n",
        "with open(\"arxiv-metadata-oai-snapshot.json\") as f:\r\n",
        "  for line in f:\r\n",
        "    print(line)\r\n",
        "    break"
      ],
      "execution_count": 11,
      "outputs": [
        {
          "output_type": "stream",
          "text": [
            "{\"id\":\"0704.0001\",\"submitter\":\"Pavel Nadolsky\",\"authors\":\"C. Bal\\\\'azs, E. L. Berger, P. M. Nadolsky, C.-P. Yuan\",\"title\":\"Calculation of prompt diphoton production cross sections at Tevatron and\\n  LHC energies\",\"comments\":\"37 pages, 15 figures; published version\",\"journal-ref\":\"Phys.Rev.D76:013009,2007\",\"doi\":\"10.1103/PhysRevD.76.013009\",\"report-no\":\"ANL-HEP-PR-07-12\",\"categories\":\"hep-ph\",\"license\":null,\"abstract\":\"  A fully differential calculation in perturbative quantum chromodynamics is\\npresented for the production of massive photon pairs at hadron colliders. All\\nnext-to-leading order perturbative contributions from quark-antiquark,\\ngluon-(anti)quark, and gluon-gluon subprocesses are included, as well as\\nall-orders resummation of initial-state gluon radiation valid at\\nnext-to-next-to-leading logarithmic accuracy. The region of phase space is\\nspecified in which the calculation is most reliable. Good agreement is\\ndemonstrated with data from the Fermilab Tevatron, and predictions are made for\\nmore detailed tests with CDF and DO data. Predictions are shown for\\ndistributions of diphoton pairs produced at the energy of the Large Hadron\\nCollider (LHC). Distributions of the diphoton pairs from the decay of a Higgs\\nboson are contrasted with those produced from QCD processes at the LHC, showing\\nthat enhanced sensitivity to the signal can be obtained with judicious\\nselection of events.\\n\",\"versions\":[{\"version\":\"v1\",\"created\":\"Mon, 2 Apr 2007 19:18:42 GMT\"},{\"version\":\"v2\",\"created\":\"Tue, 24 Jul 2007 20:10:27 GMT\"}],\"update_date\":\"2008-11-26\",\"authors_parsed\":[[\"Bal\\u00e1zs\",\"C.\",\"\"],[\"Berger\",\"E. L.\",\"\"],[\"Nadolsky\",\"P. M.\",\"\"],[\"Yuan\",\"C. -P.\",\"\"]]}\n",
            "\n"
          ],
          "name": "stdout"
        }
      ]
    },
    {
      "cell_type": "markdown",
      "metadata": {
        "id": "7peZht33eEpy"
      },
      "source": [
        "使用 enumerate() 函数为json数据加一个索引序列，以便于控制读取数据的数量。"
      ]
    },
    {
      "cell_type": "code",
      "metadata": {
        "colab": {
          "base_uri": "https://localhost:8080/"
        },
        "id": "APJpfgIoC1Ca",
        "outputId": "a33f728b-7f4b-45fb-a022-cda34e86f11b"
      },
      "source": [
        "\r\n",
        "# 读入数据\r\n",
        "data  = []\r\n",
        "#使用with语句优势：1.自动关闭文件句柄；2.自动显示（处理）文件读取数据异常\r\n",
        "with open(\"arxiv-metadata-oai-snapshot.json\", 'r') as f: \r\n",
        "    for idx, line in enumerate(f):         \r\n",
        "        # 读取前100行，如果读取所有数据需要8G内存\r\n",
        "        if idx >= 100:\r\n",
        "            break        \r\n",
        "        data.append(json.loads(line)) # 将已编码的 JSON 字符串解码为 Python 对象\r\n",
        "        \r\n",
        "data = pd.DataFrame(data) #将list变为dataframe格式，方便使用pandas进行分析\r\n",
        "data.shape #显示数据大小"
      ],
      "execution_count": 12,
      "outputs": [
        {
          "output_type": "execute_result",
          "data": {
            "text/plain": [
              "(100, 14)"
            ]
          },
          "metadata": {
            "tags": []
          },
          "execution_count": 12
        }
      ]
    },
    {
      "cell_type": "code",
      "metadata": {
        "colab": {
          "base_uri": "https://localhost:8080/",
          "height": 667
        },
        "id": "aUI4FpK-D5zI",
        "outputId": "38b4aaec-f972-4751-e173-314117fc35e6"
      },
      "source": [
        "data.head() #显示数据的前五行"
      ],
      "execution_count": 13,
      "outputs": [
        {
          "output_type": "execute_result",
          "data": {
            "text/html": [
              "<div>\n",
              "<style scoped>\n",
              "    .dataframe tbody tr th:only-of-type {\n",
              "        vertical-align: middle;\n",
              "    }\n",
              "\n",
              "    .dataframe tbody tr th {\n",
              "        vertical-align: top;\n",
              "    }\n",
              "\n",
              "    .dataframe thead th {\n",
              "        text-align: right;\n",
              "    }\n",
              "</style>\n",
              "<table border=\"1\" class=\"dataframe\">\n",
              "  <thead>\n",
              "    <tr style=\"text-align: right;\">\n",
              "      <th></th>\n",
              "      <th>id</th>\n",
              "      <th>submitter</th>\n",
              "      <th>authors</th>\n",
              "      <th>title</th>\n",
              "      <th>comments</th>\n",
              "      <th>journal-ref</th>\n",
              "      <th>doi</th>\n",
              "      <th>report-no</th>\n",
              "      <th>categories</th>\n",
              "      <th>license</th>\n",
              "      <th>abstract</th>\n",
              "      <th>versions</th>\n",
              "      <th>update_date</th>\n",
              "      <th>authors_parsed</th>\n",
              "    </tr>\n",
              "  </thead>\n",
              "  <tbody>\n",
              "    <tr>\n",
              "      <th>0</th>\n",
              "      <td>0704.0001</td>\n",
              "      <td>Pavel Nadolsky</td>\n",
              "      <td>C. Bal\\'azs, E. L. Berger, P. M. Nadolsky, C.-...</td>\n",
              "      <td>Calculation of prompt diphoton production cros...</td>\n",
              "      <td>37 pages, 15 figures; published version</td>\n",
              "      <td>Phys.Rev.D76:013009,2007</td>\n",
              "      <td>10.1103/PhysRevD.76.013009</td>\n",
              "      <td>ANL-HEP-PR-07-12</td>\n",
              "      <td>hep-ph</td>\n",
              "      <td>None</td>\n",
              "      <td>A fully differential calculation in perturba...</td>\n",
              "      <td>[{'version': 'v1', 'created': 'Mon, 2 Apr 2007...</td>\n",
              "      <td>2008-11-26</td>\n",
              "      <td>[[Balázs, C., ], [Berger, E. L., ], [Nadolsky,...</td>\n",
              "    </tr>\n",
              "    <tr>\n",
              "      <th>1</th>\n",
              "      <td>0704.0002</td>\n",
              "      <td>Louis Theran</td>\n",
              "      <td>Ileana Streinu and Louis Theran</td>\n",
              "      <td>Sparsity-certifying Graph Decompositions</td>\n",
              "      <td>To appear in Graphs and Combinatorics</td>\n",
              "      <td>None</td>\n",
              "      <td>None</td>\n",
              "      <td>None</td>\n",
              "      <td>math.CO cs.CG</td>\n",
              "      <td>http://arxiv.org/licenses/nonexclusive-distrib...</td>\n",
              "      <td>We describe a new algorithm, the $(k,\\ell)$-...</td>\n",
              "      <td>[{'version': 'v1', 'created': 'Sat, 31 Mar 200...</td>\n",
              "      <td>2008-12-13</td>\n",
              "      <td>[[Streinu, Ileana, ], [Theran, Louis, ]]</td>\n",
              "    </tr>\n",
              "    <tr>\n",
              "      <th>2</th>\n",
              "      <td>0704.0003</td>\n",
              "      <td>Hongjun Pan</td>\n",
              "      <td>Hongjun Pan</td>\n",
              "      <td>The evolution of the Earth-Moon system based o...</td>\n",
              "      <td>23 pages, 3 figures</td>\n",
              "      <td>None</td>\n",
              "      <td>None</td>\n",
              "      <td>None</td>\n",
              "      <td>physics.gen-ph</td>\n",
              "      <td>None</td>\n",
              "      <td>The evolution of Earth-Moon system is descri...</td>\n",
              "      <td>[{'version': 'v1', 'created': 'Sun, 1 Apr 2007...</td>\n",
              "      <td>2008-01-13</td>\n",
              "      <td>[[Pan, Hongjun, ]]</td>\n",
              "    </tr>\n",
              "    <tr>\n",
              "      <th>3</th>\n",
              "      <td>0704.0004</td>\n",
              "      <td>David Callan</td>\n",
              "      <td>David Callan</td>\n",
              "      <td>A determinant of Stirling cycle numbers counts...</td>\n",
              "      <td>11 pages</td>\n",
              "      <td>None</td>\n",
              "      <td>None</td>\n",
              "      <td>None</td>\n",
              "      <td>math.CO</td>\n",
              "      <td>None</td>\n",
              "      <td>We show that a determinant of Stirling cycle...</td>\n",
              "      <td>[{'version': 'v1', 'created': 'Sat, 31 Mar 200...</td>\n",
              "      <td>2007-05-23</td>\n",
              "      <td>[[Callan, David, ]]</td>\n",
              "    </tr>\n",
              "    <tr>\n",
              "      <th>4</th>\n",
              "      <td>0704.0005</td>\n",
              "      <td>Alberto Torchinsky</td>\n",
              "      <td>Wael Abu-Shammala and Alberto Torchinsky</td>\n",
              "      <td>From dyadic $\\Lambda_{\\alpha}$ to $\\Lambda_{\\a...</td>\n",
              "      <td>None</td>\n",
              "      <td>Illinois J. Math. 52 (2008) no.2, 681-689</td>\n",
              "      <td>None</td>\n",
              "      <td>None</td>\n",
              "      <td>math.CA math.FA</td>\n",
              "      <td>None</td>\n",
              "      <td>In this paper we show how to compute the $\\L...</td>\n",
              "      <td>[{'version': 'v1', 'created': 'Mon, 2 Apr 2007...</td>\n",
              "      <td>2013-10-15</td>\n",
              "      <td>[[Abu-Shammala, Wael, ], [Torchinsky, Alberto, ]]</td>\n",
              "    </tr>\n",
              "  </tbody>\n",
              "</table>\n",
              "</div>"
            ],
            "text/plain": [
              "          id  ...                                     authors_parsed\n",
              "0  0704.0001  ...  [[Balázs, C., ], [Berger, E. L., ], [Nadolsky,...\n",
              "1  0704.0002  ...           [[Streinu, Ileana, ], [Theran, Louis, ]]\n",
              "2  0704.0003  ...                                 [[Pan, Hongjun, ]]\n",
              "3  0704.0004  ...                                [[Callan, David, ]]\n",
              "4  0704.0005  ...  [[Abu-Shammala, Wael, ], [Torchinsky, Alberto, ]]\n",
              "\n",
              "[5 rows x 14 columns]"
            ]
          },
          "metadata": {
            "tags": []
          },
          "execution_count": 13
        }
      ]
    },
    {
      "cell_type": "code",
      "metadata": {
        "colab": {
          "base_uri": "https://localhost:8080/"
        },
        "id": "P5zKXLPDedwT",
        "outputId": "facd7b87-25f9-4af8-a4c7-b21b3e0b6922"
      },
      "source": [
        "data.info()"
      ],
      "execution_count": 14,
      "outputs": [
        {
          "output_type": "stream",
          "text": [
            "<class 'pandas.core.frame.DataFrame'>\n",
            "RangeIndex: 100 entries, 0 to 99\n",
            "Data columns (total 14 columns):\n",
            " #   Column          Non-Null Count  Dtype \n",
            "---  ------          --------------  ----- \n",
            " 0   id              100 non-null    object\n",
            " 1   submitter       100 non-null    object\n",
            " 2   authors         100 non-null    object\n",
            " 3   title           100 non-null    object\n",
            " 4   comments        87 non-null     object\n",
            " 5   journal-ref     52 non-null     object\n",
            " 6   doi             50 non-null     object\n",
            " 7   report-no       8 non-null      object\n",
            " 8   categories      100 non-null    object\n",
            " 9   license         11 non-null     object\n",
            " 10  abstract        100 non-null    object\n",
            " 11  versions        100 non-null    object\n",
            " 12  update_date     100 non-null    object\n",
            " 13  authors_parsed  100 non-null    object\n",
            "dtypes: object(14)\n",
            "memory usage: 11.1+ KB\n"
          ],
          "name": "stdout"
        }
      ]
    },
    {
      "cell_type": "code",
      "metadata": {
        "id": "8WWPArOqEVTO"
      },
      "source": [
        "\r\n",
        "def readArxivFile(path, columns=['id', 'submitter', 'authors', 'title', 'comments', 'journal-ref', 'doi',\r\n",
        "                                 'report-no', 'categories', 'license', 'abstract', 'versions',\r\n",
        "                                 'update_date', 'authors_parsed'], count=None):\r\n",
        "    '''\r\n",
        "    定义读取文件的函数\r\n",
        "        path: 文件路径\r\n",
        "        columns: 需要选择的列\r\n",
        "        count: 读取行数\r\n",
        "    '''    \r\n",
        "    data  = []\r\n",
        "    with open(path, 'r') as f: \r\n",
        "        for idx, line in enumerate(f): \r\n",
        "            if idx == count:\r\n",
        "                break   \r\n",
        "            d = json.loads(line)\r\n",
        "            d = {col : d[col] for col in columns} # 选取需要的数据特征\r\n",
        "            data.append(d)\r\n",
        "    data = pd.DataFrame(data)\r\n",
        "    return data\r\n",
        "\r\n",
        "data = readArxivFile('arxiv-metadata-oai-snapshot.json', ['id', 'categories', 'update_date'])"
      ],
      "execution_count": 16,
      "outputs": []
    },
    {
      "cell_type": "markdown",
      "metadata": {
        "id": "KVr3_HcxF8aH"
      },
      "source": [
        "## 三、数据预处理\r\n",
        "首先粗略统计论文的种类信息：<br>\r\n",
        "count：一列数据的元素个数；<br>\r\n",
        "unique：一列数据中元素的种类；<br>\r\n",
        "top：一列数据中出现频率最高的元素；<br>\r\n",
        "freq：一列数据中出现频率最高的元素的个数；<br>"
      ]
    },
    {
      "cell_type": "code",
      "metadata": {
        "colab": {
          "base_uri": "https://localhost:8080/"
        },
        "id": "QHq2kCwXF7CA",
        "outputId": "3dbb49c3-7e05-4053-82e5-c1bbefd1bf35"
      },
      "source": [
        "data[\"categories\"].describe()"
      ],
      "execution_count": 17,
      "outputs": [
        {
          "output_type": "execute_result",
          "data": {
            "text/plain": [
              "count      1796911\n",
              "unique       62055\n",
              "top       astro-ph\n",
              "freq         86914\n",
              "Name: categories, dtype: object"
            ]
          },
          "metadata": {
            "tags": []
          },
          "execution_count": 17
        }
      ]
    },
    {
      "cell_type": "markdown",
      "metadata": {
        "id": "TX6Gh21vHO5n"
      },
      "source": [
        "以上的结果表明：共有1796911个数据，有62055个子类这里仅仅是粗略统计），其中最多的种类是astro-ph，即Astrophysics（天体物理学），共出现了86914次。"
      ]
    },
    {
      "cell_type": "code",
      "metadata": {
        "colab": {
          "base_uri": "https://localhost:8080/"
        },
        "id": "N_R5tNRqga9B",
        "outputId": "71be0a15-46a1-4931-d60f-b6978e3906c4"
      },
      "source": [
        "print(data[\"categories\"])"
      ],
      "execution_count": 18,
      "outputs": [
        {
          "output_type": "stream",
          "text": [
            "0                              hep-ph\n",
            "1                       math.CO cs.CG\n",
            "2                      physics.gen-ph\n",
            "3                             math.CO\n",
            "4                     math.CA math.FA\n",
            "                      ...            \n",
            "1796906    supr-con cond-mat.supr-con\n",
            "1796907    supr-con cond-mat.supr-con\n",
            "1796908    supr-con cond-mat.supr-con\n",
            "1796909    supr-con cond-mat.supr-con\n",
            "1796910    supr-con cond-mat.supr-con\n",
            "Name: categories, Length: 1796911, dtype: object\n"
          ],
          "name": "stdout"
        }
      ]
    },
    {
      "cell_type": "code",
      "metadata": {
        "colab": {
          "base_uri": "https://localhost:8080/"
        },
        "id": "pWC_us1QHY_x",
        "outputId": "24e72ae9-6d10-4dbc-9aec-29d03a75b57f"
      },
      "source": [
        "#由于部分论文的类别不止一种，所以下面判断在本数据集中共出现了多少种独立的数据集。\r\n",
        "#set() 函数创建一个无序不重复元素集，删除重复类别，统计所有类别。\r\n",
        "unique_categories = set([i for l in [x.split(' ') for x in data[\"categories\"]] for i in l])\r\n",
        "#注释 先对所有类别拆分，再是两层for循环，所有行的类别特征传给l，再将拆分后的数据分开传给i，由set()函数去重处理\r\n",
        "print(len(unique_categories))\r\n",
        "unique_categories"
      ],
      "execution_count": 19,
      "outputs": [
        {
          "output_type": "stream",
          "text": [
            "176\n"
          ],
          "name": "stdout"
        },
        {
          "output_type": "execute_result",
          "data": {
            "text/plain": [
              "{'acc-phys',\n",
              " 'adap-org',\n",
              " 'alg-geom',\n",
              " 'ao-sci',\n",
              " 'astro-ph',\n",
              " 'astro-ph.CO',\n",
              " 'astro-ph.EP',\n",
              " 'astro-ph.GA',\n",
              " 'astro-ph.HE',\n",
              " 'astro-ph.IM',\n",
              " 'astro-ph.SR',\n",
              " 'atom-ph',\n",
              " 'bayes-an',\n",
              " 'chao-dyn',\n",
              " 'chem-ph',\n",
              " 'cmp-lg',\n",
              " 'comp-gas',\n",
              " 'cond-mat',\n",
              " 'cond-mat.dis-nn',\n",
              " 'cond-mat.mes-hall',\n",
              " 'cond-mat.mtrl-sci',\n",
              " 'cond-mat.other',\n",
              " 'cond-mat.quant-gas',\n",
              " 'cond-mat.soft',\n",
              " 'cond-mat.stat-mech',\n",
              " 'cond-mat.str-el',\n",
              " 'cond-mat.supr-con',\n",
              " 'cs.AI',\n",
              " 'cs.AR',\n",
              " 'cs.CC',\n",
              " 'cs.CE',\n",
              " 'cs.CG',\n",
              " 'cs.CL',\n",
              " 'cs.CR',\n",
              " 'cs.CV',\n",
              " 'cs.CY',\n",
              " 'cs.DB',\n",
              " 'cs.DC',\n",
              " 'cs.DL',\n",
              " 'cs.DM',\n",
              " 'cs.DS',\n",
              " 'cs.ET',\n",
              " 'cs.FL',\n",
              " 'cs.GL',\n",
              " 'cs.GR',\n",
              " 'cs.GT',\n",
              " 'cs.HC',\n",
              " 'cs.IR',\n",
              " 'cs.IT',\n",
              " 'cs.LG',\n",
              " 'cs.LO',\n",
              " 'cs.MA',\n",
              " 'cs.MM',\n",
              " 'cs.MS',\n",
              " 'cs.NA',\n",
              " 'cs.NE',\n",
              " 'cs.NI',\n",
              " 'cs.OH',\n",
              " 'cs.OS',\n",
              " 'cs.PF',\n",
              " 'cs.PL',\n",
              " 'cs.RO',\n",
              " 'cs.SC',\n",
              " 'cs.SD',\n",
              " 'cs.SE',\n",
              " 'cs.SI',\n",
              " 'cs.SY',\n",
              " 'dg-ga',\n",
              " 'econ.EM',\n",
              " 'econ.GN',\n",
              " 'econ.TH',\n",
              " 'eess.AS',\n",
              " 'eess.IV',\n",
              " 'eess.SP',\n",
              " 'eess.SY',\n",
              " 'funct-an',\n",
              " 'gr-qc',\n",
              " 'hep-ex',\n",
              " 'hep-lat',\n",
              " 'hep-ph',\n",
              " 'hep-th',\n",
              " 'math-ph',\n",
              " 'math.AC',\n",
              " 'math.AG',\n",
              " 'math.AP',\n",
              " 'math.AT',\n",
              " 'math.CA',\n",
              " 'math.CO',\n",
              " 'math.CT',\n",
              " 'math.CV',\n",
              " 'math.DG',\n",
              " 'math.DS',\n",
              " 'math.FA',\n",
              " 'math.GM',\n",
              " 'math.GN',\n",
              " 'math.GR',\n",
              " 'math.GT',\n",
              " 'math.HO',\n",
              " 'math.IT',\n",
              " 'math.KT',\n",
              " 'math.LO',\n",
              " 'math.MG',\n",
              " 'math.MP',\n",
              " 'math.NA',\n",
              " 'math.NT',\n",
              " 'math.OA',\n",
              " 'math.OC',\n",
              " 'math.PR',\n",
              " 'math.QA',\n",
              " 'math.RA',\n",
              " 'math.RT',\n",
              " 'math.SG',\n",
              " 'math.SP',\n",
              " 'math.ST',\n",
              " 'mtrl-th',\n",
              " 'nlin.AO',\n",
              " 'nlin.CD',\n",
              " 'nlin.CG',\n",
              " 'nlin.PS',\n",
              " 'nlin.SI',\n",
              " 'nucl-ex',\n",
              " 'nucl-th',\n",
              " 'patt-sol',\n",
              " 'physics.acc-ph',\n",
              " 'physics.ao-ph',\n",
              " 'physics.app-ph',\n",
              " 'physics.atm-clus',\n",
              " 'physics.atom-ph',\n",
              " 'physics.bio-ph',\n",
              " 'physics.chem-ph',\n",
              " 'physics.class-ph',\n",
              " 'physics.comp-ph',\n",
              " 'physics.data-an',\n",
              " 'physics.ed-ph',\n",
              " 'physics.flu-dyn',\n",
              " 'physics.gen-ph',\n",
              " 'physics.geo-ph',\n",
              " 'physics.hist-ph',\n",
              " 'physics.ins-det',\n",
              " 'physics.med-ph',\n",
              " 'physics.optics',\n",
              " 'physics.plasm-ph',\n",
              " 'physics.pop-ph',\n",
              " 'physics.soc-ph',\n",
              " 'physics.space-ph',\n",
              " 'plasm-ph',\n",
              " 'q-alg',\n",
              " 'q-bio',\n",
              " 'q-bio.BM',\n",
              " 'q-bio.CB',\n",
              " 'q-bio.GN',\n",
              " 'q-bio.MN',\n",
              " 'q-bio.NC',\n",
              " 'q-bio.OT',\n",
              " 'q-bio.PE',\n",
              " 'q-bio.QM',\n",
              " 'q-bio.SC',\n",
              " 'q-bio.TO',\n",
              " 'q-fin.CP',\n",
              " 'q-fin.EC',\n",
              " 'q-fin.GN',\n",
              " 'q-fin.MF',\n",
              " 'q-fin.PM',\n",
              " 'q-fin.PR',\n",
              " 'q-fin.RM',\n",
              " 'q-fin.ST',\n",
              " 'q-fin.TR',\n",
              " 'quant-ph',\n",
              " 'solv-int',\n",
              " 'stat.AP',\n",
              " 'stat.CO',\n",
              " 'stat.ME',\n",
              " 'stat.ML',\n",
              " 'stat.OT',\n",
              " 'stat.TH',\n",
              " 'supr-con'}"
            ]
          },
          "metadata": {
            "tags": []
          },
          "execution_count": 19
        }
      ]
    },
    {
      "cell_type": "markdown",
      "metadata": {
        "id": "M-fOxdBjJq9p"
      },
      "source": [
        "任务要求对于2019年以后的paper进行分析，所以首先对于时间特征进行预处理，从而得到2019年以后的所有种类的论文："
      ]
    },
    {
      "cell_type": "code",
      "metadata": {
        "id": "fes105ntJqgK",
        "colab": {
          "base_uri": "https://localhost:8080/",
          "height": 198
        },
        "outputId": "b701487c-05ea-46f6-b2aa-54cb0c104e2f"
      },
      "source": [
        "data[\"year\"] = pd.to_datetime(data[\"update_date\"]).dt.year #将update_date从例如2019-02-20的str变为datetime格式，并提取处year\r\n",
        "del data[\"update_date\"] #删除 update_date特征，其使命已完成\r\n",
        "data = data[data[\"year\"] >= 2019] #找出 year 中2019年以后的数据，并将其他数据删除\r\n",
        "data.head() #查看结果\r\n"
      ],
      "execution_count": 20,
      "outputs": [
        {
          "output_type": "execute_result",
          "data": {
            "text/html": [
              "<div>\n",
              "<style scoped>\n",
              "    .dataframe tbody tr th:only-of-type {\n",
              "        vertical-align: middle;\n",
              "    }\n",
              "\n",
              "    .dataframe tbody tr th {\n",
              "        vertical-align: top;\n",
              "    }\n",
              "\n",
              "    .dataframe thead th {\n",
              "        text-align: right;\n",
              "    }\n",
              "</style>\n",
              "<table border=\"1\" class=\"dataframe\">\n",
              "  <thead>\n",
              "    <tr style=\"text-align: right;\">\n",
              "      <th></th>\n",
              "      <th>id</th>\n",
              "      <th>categories</th>\n",
              "      <th>year</th>\n",
              "    </tr>\n",
              "  </thead>\n",
              "  <tbody>\n",
              "    <tr>\n",
              "      <th>296</th>\n",
              "      <td>0704.0297</td>\n",
              "      <td>astro-ph</td>\n",
              "      <td>2019</td>\n",
              "    </tr>\n",
              "    <tr>\n",
              "      <th>341</th>\n",
              "      <td>0704.0342</td>\n",
              "      <td>math.AT</td>\n",
              "      <td>2019</td>\n",
              "    </tr>\n",
              "    <tr>\n",
              "      <th>359</th>\n",
              "      <td>0704.0360</td>\n",
              "      <td>astro-ph</td>\n",
              "      <td>2019</td>\n",
              "    </tr>\n",
              "    <tr>\n",
              "      <th>524</th>\n",
              "      <td>0704.0525</td>\n",
              "      <td>gr-qc</td>\n",
              "      <td>2019</td>\n",
              "    </tr>\n",
              "    <tr>\n",
              "      <th>534</th>\n",
              "      <td>0704.0535</td>\n",
              "      <td>astro-ph</td>\n",
              "      <td>2019</td>\n",
              "    </tr>\n",
              "  </tbody>\n",
              "</table>\n",
              "</div>"
            ],
            "text/plain": [
              "            id categories  year\n",
              "296  0704.0297   astro-ph  2019\n",
              "341  0704.0342    math.AT  2019\n",
              "359  0704.0360   astro-ph  2019\n",
              "524  0704.0525      gr-qc  2019\n",
              "534  0704.0535   astro-ph  2019"
            ]
          },
          "metadata": {
            "tags": []
          },
          "execution_count": 20
        }
      ]
    },
    {
      "cell_type": "code",
      "metadata": {
        "colab": {
          "base_uri": "https://localhost:8080/",
          "height": 407
        },
        "id": "aKJDaGkyK7Rw",
        "outputId": "25e4881e-0d01-4b5f-8037-6562f6855558"
      },
      "source": [
        "data.reset_index(drop=True, inplace=True) #重新编号\r\n",
        "data"
      ],
      "execution_count": 21,
      "outputs": [
        {
          "output_type": "execute_result",
          "data": {
            "text/html": [
              "<div>\n",
              "<style scoped>\n",
              "    .dataframe tbody tr th:only-of-type {\n",
              "        vertical-align: middle;\n",
              "    }\n",
              "\n",
              "    .dataframe tbody tr th {\n",
              "        vertical-align: top;\n",
              "    }\n",
              "\n",
              "    .dataframe thead th {\n",
              "        text-align: right;\n",
              "    }\n",
              "</style>\n",
              "<table border=\"1\" class=\"dataframe\">\n",
              "  <thead>\n",
              "    <tr style=\"text-align: right;\">\n",
              "      <th></th>\n",
              "      <th>id</th>\n",
              "      <th>categories</th>\n",
              "      <th>year</th>\n",
              "    </tr>\n",
              "  </thead>\n",
              "  <tbody>\n",
              "    <tr>\n",
              "      <th>0</th>\n",
              "      <td>0704.0297</td>\n",
              "      <td>astro-ph</td>\n",
              "      <td>2019</td>\n",
              "    </tr>\n",
              "    <tr>\n",
              "      <th>1</th>\n",
              "      <td>0704.0342</td>\n",
              "      <td>math.AT</td>\n",
              "      <td>2019</td>\n",
              "    </tr>\n",
              "    <tr>\n",
              "      <th>2</th>\n",
              "      <td>0704.0360</td>\n",
              "      <td>astro-ph</td>\n",
              "      <td>2019</td>\n",
              "    </tr>\n",
              "    <tr>\n",
              "      <th>3</th>\n",
              "      <td>0704.0525</td>\n",
              "      <td>gr-qc</td>\n",
              "      <td>2019</td>\n",
              "    </tr>\n",
              "    <tr>\n",
              "      <th>4</th>\n",
              "      <td>0704.0535</td>\n",
              "      <td>astro-ph</td>\n",
              "      <td>2019</td>\n",
              "    </tr>\n",
              "    <tr>\n",
              "      <th>...</th>\n",
              "      <td>...</td>\n",
              "      <td>...</td>\n",
              "      <td>...</td>\n",
              "    </tr>\n",
              "    <tr>\n",
              "      <th>395118</th>\n",
              "      <td>quant-ph/9911051</td>\n",
              "      <td>quant-ph</td>\n",
              "      <td>2020</td>\n",
              "    </tr>\n",
              "    <tr>\n",
              "      <th>395119</th>\n",
              "      <td>solv-int/9511005</td>\n",
              "      <td>solv-int nlin.SI</td>\n",
              "      <td>2019</td>\n",
              "    </tr>\n",
              "    <tr>\n",
              "      <th>395120</th>\n",
              "      <td>solv-int/9809008</td>\n",
              "      <td>solv-int nlin.SI</td>\n",
              "      <td>2019</td>\n",
              "    </tr>\n",
              "    <tr>\n",
              "      <th>395121</th>\n",
              "      <td>solv-int/9909010</td>\n",
              "      <td>solv-int adap-org hep-th nlin.AO nlin.SI</td>\n",
              "      <td>2019</td>\n",
              "    </tr>\n",
              "    <tr>\n",
              "      <th>395122</th>\n",
              "      <td>solv-int/9909014</td>\n",
              "      <td>solv-int nlin.SI</td>\n",
              "      <td>2019</td>\n",
              "    </tr>\n",
              "  </tbody>\n",
              "</table>\n",
              "<p>395123 rows × 3 columns</p>\n",
              "</div>"
            ],
            "text/plain": [
              "                      id                                categories  year\n",
              "0              0704.0297                                  astro-ph  2019\n",
              "1              0704.0342                                   math.AT  2019\n",
              "2              0704.0360                                  astro-ph  2019\n",
              "3              0704.0525                                     gr-qc  2019\n",
              "4              0704.0535                                  astro-ph  2019\n",
              "...                  ...                                       ...   ...\n",
              "395118  quant-ph/9911051                                  quant-ph  2020\n",
              "395119  solv-int/9511005                          solv-int nlin.SI  2019\n",
              "395120  solv-int/9809008                          solv-int nlin.SI  2019\n",
              "395121  solv-int/9909010  solv-int adap-org hep-th nlin.AO nlin.SI  2019\n",
              "395122  solv-int/9909014                          solv-int nlin.SI  2019\n",
              "\n",
              "[395123 rows x 3 columns]"
            ]
          },
          "metadata": {
            "tags": []
          },
          "execution_count": 21
        }
      ]
    },
    {
      "cell_type": "markdown",
      "metadata": {
        "id": "by6lDCQULK-B"
      },
      "source": [
        "这里我们就已经得到了所有2019年以后的论文，下面我们挑选出计算机领域内的所有文章："
      ]
    },
    {
      "cell_type": "code",
      "metadata": {
        "colab": {
          "base_uri": "https://localhost:8080/",
          "height": 407
        },
        "id": "LXL99pS_LGFf",
        "outputId": "d2b895c9-6982-4d22-8c34-a971f5235e21"
      },
      "source": [
        "#爬取所有的类别\r\n",
        "website_url = requests.get('https://arxiv.org/category_taxonomy').text #获取网页的文本数据\r\n",
        "soup = BeautifulSoup(website_url,'lxml') #爬取数据，这里使用lxml的解析器，加速\r\n",
        "root = soup.find('div',{'id':'category_taxonomy_list'}) #找出 BeautifulSoup 对应的标签入口\r\n",
        "tags = root.find_all([\"h2\",\"h3\",\"h4\",\"p\"], recursive=True) #读取 tags\r\n",
        "\r\n",
        "#初始化 str 和 list 变量\r\n",
        "level_1_name = \"\"\r\n",
        "level_2_name = \"\"\r\n",
        "level_2_code = \"\"\r\n",
        "level_1_names = []\r\n",
        "level_2_codes = []\r\n",
        "level_2_names = []\r\n",
        "level_3_codes = []\r\n",
        "level_3_names = []\r\n",
        "level_3_notes = []\r\n",
        "\r\n",
        "#进行\r\n",
        "for t in tags:\r\n",
        "  if t.name == \"h2\":\r\n",
        "    level_1_name = t.text\r\n",
        "    level_2_code = t.text\r\n",
        "    level_2_name = t.text\r\n",
        "  elif t.name == \"h3\":\r\n",
        "    raw = t.text\r\n",
        "    level_2_code = re.sub(r\"(.*)\\((.*)\\)\",r\"\\2\",raw) #正则表达式：模式字符串：(.*)\\((.*)\\)；被替换字符串\"\\2\"；被处理字符串：raw\r\n",
        "    level_2_name = re.sub(r\"(.*)\\((.*)\\)\",r\"\\1\",raw)\r\n",
        "  elif t.name == \"h4\":\r\n",
        "    raw = t.text\r\n",
        "    level_3_code = re.sub(r\"(.*) \\((.*)\\)\",r\"\\1\",raw)\r\n",
        "    level_3_name = re.sub(r\"(.*) \\((.*)\\)\",r\"\\2\",raw)\r\n",
        "  elif t.name == \"p\":\r\n",
        "    notes = t.text\r\n",
        "    level_1_names.append(level_1_name)\r\n",
        "    level_2_names.append(level_2_name)\r\n",
        "    level_2_codes.append(level_2_code)\r\n",
        "    level_3_names.append(level_3_name)\r\n",
        "    level_3_codes.append(level_3_code)\r\n",
        "    level_3_notes.append(notes)\r\n",
        "\r\n",
        "\r\n",
        "#根据以上信息生成dataframe格式的数据\r\n",
        "df_taxonomy = pd.DataFrame({\r\n",
        "    'group_name' : level_1_names,\r\n",
        "    'archive_name' : level_2_names,\r\n",
        "    'archive_id' : level_2_codes,\r\n",
        "    'category_name' : level_3_names,\r\n",
        "    'categories' : level_3_codes,\r\n",
        "    'category_description': level_3_notes\r\n",
        "    \r\n",
        "})\r\n",
        "#按照 \"group_name\" 进行分组，在组内使用 \"archive_name\" 进行排序\r\n",
        "df_taxonomy.groupby([\"group_name\",\"archive_name\"])\r\n",
        "df_taxonomy"
      ],
      "execution_count": 22,
      "outputs": [
        {
          "output_type": "execute_result",
          "data": {
            "text/html": [
              "<div>\n",
              "<style scoped>\n",
              "    .dataframe tbody tr th:only-of-type {\n",
              "        vertical-align: middle;\n",
              "    }\n",
              "\n",
              "    .dataframe tbody tr th {\n",
              "        vertical-align: top;\n",
              "    }\n",
              "\n",
              "    .dataframe thead th {\n",
              "        text-align: right;\n",
              "    }\n",
              "</style>\n",
              "<table border=\"1\" class=\"dataframe\">\n",
              "  <thead>\n",
              "    <tr style=\"text-align: right;\">\n",
              "      <th></th>\n",
              "      <th>group_name</th>\n",
              "      <th>archive_name</th>\n",
              "      <th>archive_id</th>\n",
              "      <th>category_name</th>\n",
              "      <th>categories</th>\n",
              "      <th>category_description</th>\n",
              "    </tr>\n",
              "  </thead>\n",
              "  <tbody>\n",
              "    <tr>\n",
              "      <th>0</th>\n",
              "      <td>Computer Science</td>\n",
              "      <td>Computer Science</td>\n",
              "      <td>Computer Science</td>\n",
              "      <td>Artificial Intelligence</td>\n",
              "      <td>cs.AI</td>\n",
              "      <td>Covers all areas of AI except Vision, Robotics...</td>\n",
              "    </tr>\n",
              "    <tr>\n",
              "      <th>1</th>\n",
              "      <td>Computer Science</td>\n",
              "      <td>Computer Science</td>\n",
              "      <td>Computer Science</td>\n",
              "      <td>Hardware Architecture</td>\n",
              "      <td>cs.AR</td>\n",
              "      <td>Covers systems organization and hardware archi...</td>\n",
              "    </tr>\n",
              "    <tr>\n",
              "      <th>2</th>\n",
              "      <td>Computer Science</td>\n",
              "      <td>Computer Science</td>\n",
              "      <td>Computer Science</td>\n",
              "      <td>Computational Complexity</td>\n",
              "      <td>cs.CC</td>\n",
              "      <td>Covers models of computation, complexity class...</td>\n",
              "    </tr>\n",
              "    <tr>\n",
              "      <th>3</th>\n",
              "      <td>Computer Science</td>\n",
              "      <td>Computer Science</td>\n",
              "      <td>Computer Science</td>\n",
              "      <td>Computational Engineering, Finance, and Science</td>\n",
              "      <td>cs.CE</td>\n",
              "      <td>Covers applications of computer science to the...</td>\n",
              "    </tr>\n",
              "    <tr>\n",
              "      <th>4</th>\n",
              "      <td>Computer Science</td>\n",
              "      <td>Computer Science</td>\n",
              "      <td>Computer Science</td>\n",
              "      <td>Computational Geometry</td>\n",
              "      <td>cs.CG</td>\n",
              "      <td>Roughly includes material in ACM Subject Class...</td>\n",
              "    </tr>\n",
              "    <tr>\n",
              "      <th>...</th>\n",
              "      <td>...</td>\n",
              "      <td>...</td>\n",
              "      <td>...</td>\n",
              "      <td>...</td>\n",
              "      <td>...</td>\n",
              "      <td>...</td>\n",
              "    </tr>\n",
              "    <tr>\n",
              "      <th>150</th>\n",
              "      <td>Statistics</td>\n",
              "      <td>Statistics</td>\n",
              "      <td>Statistics</td>\n",
              "      <td>Computation</td>\n",
              "      <td>stat.CO</td>\n",
              "      <td>Algorithms, Simulation, Visualization</td>\n",
              "    </tr>\n",
              "    <tr>\n",
              "      <th>151</th>\n",
              "      <td>Statistics</td>\n",
              "      <td>Statistics</td>\n",
              "      <td>Statistics</td>\n",
              "      <td>Methodology</td>\n",
              "      <td>stat.ME</td>\n",
              "      <td>Design, Surveys, Model Selection, Multiple Tes...</td>\n",
              "    </tr>\n",
              "    <tr>\n",
              "      <th>152</th>\n",
              "      <td>Statistics</td>\n",
              "      <td>Statistics</td>\n",
              "      <td>Statistics</td>\n",
              "      <td>Machine Learning</td>\n",
              "      <td>stat.ML</td>\n",
              "      <td>Covers machine learning papers (supervised, un...</td>\n",
              "    </tr>\n",
              "    <tr>\n",
              "      <th>153</th>\n",
              "      <td>Statistics</td>\n",
              "      <td>Statistics</td>\n",
              "      <td>Statistics</td>\n",
              "      <td>Other Statistics</td>\n",
              "      <td>stat.OT</td>\n",
              "      <td>Work in statistics that does not fit into the ...</td>\n",
              "    </tr>\n",
              "    <tr>\n",
              "      <th>154</th>\n",
              "      <td>Statistics</td>\n",
              "      <td>Statistics</td>\n",
              "      <td>Statistics</td>\n",
              "      <td>Statistics Theory</td>\n",
              "      <td>stat.TH</td>\n",
              "      <td>stat.TH is an alias for math.ST. Asymptotics, ...</td>\n",
              "    </tr>\n",
              "  </tbody>\n",
              "</table>\n",
              "<p>155 rows × 6 columns</p>\n",
              "</div>"
            ],
            "text/plain": [
              "           group_name  ...                               category_description\n",
              "0    Computer Science  ...  Covers all areas of AI except Vision, Robotics...\n",
              "1    Computer Science  ...  Covers systems organization and hardware archi...\n",
              "2    Computer Science  ...  Covers models of computation, complexity class...\n",
              "3    Computer Science  ...  Covers applications of computer science to the...\n",
              "4    Computer Science  ...  Roughly includes material in ACM Subject Class...\n",
              "..                ...  ...                                                ...\n",
              "150        Statistics  ...              Algorithms, Simulation, Visualization\n",
              "151        Statistics  ...  Design, Surveys, Model Selection, Multiple Tes...\n",
              "152        Statistics  ...  Covers machine learning papers (supervised, un...\n",
              "153        Statistics  ...  Work in statistics that does not fit into the ...\n",
              "154        Statistics  ...  stat.TH is an alias for math.ST. Asymptotics, ...\n",
              "\n",
              "[155 rows x 6 columns]"
            ]
          },
          "metadata": {
            "tags": []
          },
          "execution_count": 22
        }
      ]
    },
    {
      "cell_type": "markdown",
      "metadata": {
        "id": "sdrTQcrJQlFc"
      },
      "source": [
        "\r\n",
        "这里主要说明一下上面代码中的正则操作，这里我们使用re.sub来用于替换字符串中的匹配项<br>\r\n",
        "\r\n",
        "pattern : 正则中的模式字符串。<br>\r\n",
        "repl : 替换的字符串，也可为一个函数。<br>\r\n",
        "string : 要被查找替换的原始字符串。<br>\r\n",
        "count : 模式匹配后替换的最大次数，默认 0 表示替换所有的匹配。<br>\r\n",
        "flags : 编译时用的匹配模式，数字形式。<br>\r\n",
        "其中pattern、repl、string为必选参数<br>\r\n",
        "re.sub(pattern, repl, string, count=0, flags=0)"
      ]
    },
    {
      "cell_type": "code",
      "metadata": {
        "colab": {
          "base_uri": "https://localhost:8080/"
        },
        "id": "80TQx9LNQkBc",
        "outputId": "5d54967b-5fe5-4dfa-b39c-72724bfad886"
      },
      "source": [
        "#实例如下：\r\n",
        "import re\r\n",
        "\r\n",
        "phone = \"2004-959-559 # 这是一个电话号码\"\r\n",
        " \r\n",
        "# 删除注释\r\n",
        "num = re.sub(r'#.*$', \"\", phone)\r\n",
        "print (\"电话号码 : \", num)\r\n",
        " \r\n",
        "# 移除非数字的内容\r\n",
        "num = re.sub(r'\\D', \"\", phone)\r\n",
        "print (\"电话号码 : \", num)"
      ],
      "execution_count": 23,
      "outputs": [
        {
          "output_type": "stream",
          "text": [
            "电话号码 :  2004-959-559 \n",
            "电话号码 :  2004959559\n"
          ],
          "name": "stdout"
        }
      ]
    },
    {
      "cell_type": "markdown",
      "metadata": {
        "id": "fFVS-jR5SCva"
      },
      "source": [
        "[Python3 正则表达式](https://www.runoob.com/python3/python3-reg-expressions.html)"
      ]
    },
    {
      "cell_type": "code",
      "metadata": {
        "colab": {
          "base_uri": "https://localhost:8080/",
          "height": 35
        },
        "id": "Cus0iarpSGWW",
        "outputId": "14f59679-23eb-4a7e-9525-b9678f775a05"
      },
      "source": [
        "\r\n",
        "re.sub(r\"(.*)\\((.*)\\)\",r\"\\2\", \" Astrophysics(astro-ph)\")\r\n",
        "# 对应的参数\r\n",
        "\r\n",
        "# 正则中的模式字符串 pattern 的格式为 “任意字符” + “(” + \"任意字符\" + \")\"。\r\n",
        "# 替换的字符串 repl 为第2个分组的内容。\r\n",
        "# 要被查找替换的原始字符串 string 为原始的爬取的数据。"
      ],
      "execution_count": 24,
      "outputs": [
        {
          "output_type": "execute_result",
          "data": {
            "application/vnd.google.colaboratory.intrinsic+json": {
              "type": "string"
            },
            "text/plain": [
              "'astro-ph'"
            ]
          },
          "metadata": {
            "tags": []
          },
          "execution_count": 24
        }
      ]
    },
    {
      "cell_type": "markdown",
      "metadata": {
        "id": "FiMpary9TIoX"
      },
      "source": [
        "[在线正则表达式测试的网站](https://tool.oschina.net/regex/)"
      ]
    },
    {
      "cell_type": "markdown",
      "metadata": {
        "id": "FSa6uK2MTdgL"
      },
      "source": [
        "## 四、数据分析及可视化\r\n",
        "接下来我们首先看一下所有大类的paper数量分布：\r\n",
        "\r\n",
        "我们使用merge函数，以两个dataframe共同的属性 “categories” 进行合并，并以 “group_name” 作为类别进行统计，统计结果放入 “id” 列中并排序。"
      ]
    },
    {
      "cell_type": "code",
      "metadata": {
        "colab": {
          "base_uri": "https://localhost:8080/",
          "height": 288
        },
        "id": "JEwf2zdKTQ-Q",
        "outputId": "e2038673-3ce7-4577-fe41-bbc32c776bd1"
      },
      "source": [
        "_df = data.merge(df_taxonomy, on=\"categories\", how=\"left\").drop_duplicates([\"id\",\"group_name\"]).groupby(\"group_name\").agg({\"id\":\"count\"}).sort_values(by=\"id\",ascending=False).reset_index()\r\n",
        "\r\n",
        "_df"
      ],
      "execution_count": 25,
      "outputs": [
        {
          "output_type": "execute_result",
          "data": {
            "text/html": [
              "<div>\n",
              "<style scoped>\n",
              "    .dataframe tbody tr th:only-of-type {\n",
              "        vertical-align: middle;\n",
              "    }\n",
              "\n",
              "    .dataframe tbody tr th {\n",
              "        vertical-align: top;\n",
              "    }\n",
              "\n",
              "    .dataframe thead th {\n",
              "        text-align: right;\n",
              "    }\n",
              "</style>\n",
              "<table border=\"1\" class=\"dataframe\">\n",
              "  <thead>\n",
              "    <tr style=\"text-align: right;\">\n",
              "      <th></th>\n",
              "      <th>group_name</th>\n",
              "      <th>id</th>\n",
              "    </tr>\n",
              "  </thead>\n",
              "  <tbody>\n",
              "    <tr>\n",
              "      <th>0</th>\n",
              "      <td>Physics</td>\n",
              "      <td>79985</td>\n",
              "    </tr>\n",
              "    <tr>\n",
              "      <th>1</th>\n",
              "      <td>Mathematics</td>\n",
              "      <td>51567</td>\n",
              "    </tr>\n",
              "    <tr>\n",
              "      <th>2</th>\n",
              "      <td>Computer Science</td>\n",
              "      <td>40067</td>\n",
              "    </tr>\n",
              "    <tr>\n",
              "      <th>3</th>\n",
              "      <td>Statistics</td>\n",
              "      <td>4054</td>\n",
              "    </tr>\n",
              "    <tr>\n",
              "      <th>4</th>\n",
              "      <td>Electrical Engineering and Systems Science</td>\n",
              "      <td>3297</td>\n",
              "    </tr>\n",
              "    <tr>\n",
              "      <th>5</th>\n",
              "      <td>Quantitative Biology</td>\n",
              "      <td>1994</td>\n",
              "    </tr>\n",
              "    <tr>\n",
              "      <th>6</th>\n",
              "      <td>Quantitative Finance</td>\n",
              "      <td>826</td>\n",
              "    </tr>\n",
              "    <tr>\n",
              "      <th>7</th>\n",
              "      <td>Economics</td>\n",
              "      <td>576</td>\n",
              "    </tr>\n",
              "  </tbody>\n",
              "</table>\n",
              "</div>"
            ],
            "text/plain": [
              "                                   group_name     id\n",
              "0                                     Physics  79985\n",
              "1                                 Mathematics  51567\n",
              "2                            Computer Science  40067\n",
              "3                                  Statistics   4054\n",
              "4  Electrical Engineering and Systems Science   3297\n",
              "5                        Quantitative Biology   1994\n",
              "6                        Quantitative Finance    826\n",
              "7                                   Economics    576"
            ]
          },
          "metadata": {
            "tags": []
          },
          "execution_count": 25
        }
      ]
    },
    {
      "cell_type": "code",
      "metadata": {
        "colab": {
          "base_uri": "https://localhost:8080/",
          "height": 873
        },
        "id": "BP3cjx6zWKxu",
        "outputId": "746396d2-b2cf-4a50-dc26-c13f00b5e68d"
      },
      "source": [
        "#下面使用饼图进行上图结果的可视化：\r\n",
        "fig = plt.figure(figsize=(15,12))\r\n",
        "explode = (0, 0, 0, 0.1, 0.2, 0.3, 0.2, 0.1) \r\n",
        "plt.pie(_df[\"id\"],  labels=_df[\"group_name\"], autopct='%1.2f%%', startangle=145, explode=explode)\r\n",
        "plt.tight_layout()\r\n",
        "plt.show()"
      ],
      "execution_count": null,
      "outputs": [
        {
          "output_type": "display_data",
          "data": {
            "image/png": "[encoded data removed]",
            "text/plain": [
              "<Figure size 1080x864 with 1 Axes>"
            ]
          },
          "metadata": {
            "tags": []
          }
        }
      ]
    },
    {
      "cell_type": "markdown",
      "metadata": {
        "id": "R5zmKvkcXU5h"
      },
      "source": [
        "统计在计算机各个子领域2019年后的paper数量，我们同样使用 merge 函数，对于两个dataframe 共同的特征 categories 进行合并并且进行查询。然后我们再对于数据进行统计和排序从而得到以下的结果："
      ]
    },
    {
      "cell_type": "code",
      "metadata": {
        "id": "kHxvKIvKXQUa"
      },
      "source": [
        "group_name=\"Computer Science\"\r\n",
        "cats = data.merge(df_taxonomy, on=\"categories\").query(\"group_name == @group_name\")\r\n",
        "data1 = cats.groupby([\"year\",\"category_name\"]).count().reset_index().pivot(index=\"category_name\", columns=\"year\",values=\"id\")"
      ],
      "execution_count": 26,
      "outputs": []
    },
    {
      "cell_type": "code",
      "metadata": {
        "colab": {
          "base_uri": "https://localhost:8080/",
          "height": 1000
        },
        "id": "TB2a-j0-XzgR",
        "outputId": "02a2e64f-68cb-477e-dcb6-f76cdb00ec9c"
      },
      "source": [
        "data1"
      ],
      "execution_count": 27,
      "outputs": [
        {
          "output_type": "execute_result",
          "data": {
            "text/html": [
              "<div>\n",
              "<style scoped>\n",
              "    .dataframe tbody tr th:only-of-type {\n",
              "        vertical-align: middle;\n",
              "    }\n",
              "\n",
              "    .dataframe tbody tr th {\n",
              "        vertical-align: top;\n",
              "    }\n",
              "\n",
              "    .dataframe thead th {\n",
              "        text-align: right;\n",
              "    }\n",
              "</style>\n",
              "<table border=\"1\" class=\"dataframe\">\n",
              "  <thead>\n",
              "    <tr style=\"text-align: right;\">\n",
              "      <th>year</th>\n",
              "      <th>2019</th>\n",
              "      <th>2020</th>\n",
              "    </tr>\n",
              "    <tr>\n",
              "      <th>category_name</th>\n",
              "      <th></th>\n",
              "      <th></th>\n",
              "    </tr>\n",
              "  </thead>\n",
              "  <tbody>\n",
              "    <tr>\n",
              "      <th>Artificial Intelligence</th>\n",
              "      <td>558</td>\n",
              "      <td>757</td>\n",
              "    </tr>\n",
              "    <tr>\n",
              "      <th>Computation and Language</th>\n",
              "      <td>2153</td>\n",
              "      <td>2906</td>\n",
              "    </tr>\n",
              "    <tr>\n",
              "      <th>Computational Complexity</th>\n",
              "      <td>131</td>\n",
              "      <td>188</td>\n",
              "    </tr>\n",
              "    <tr>\n",
              "      <th>Computational Engineering, Finance, and Science</th>\n",
              "      <td>108</td>\n",
              "      <td>205</td>\n",
              "    </tr>\n",
              "    <tr>\n",
              "      <th>Computational Geometry</th>\n",
              "      <td>199</td>\n",
              "      <td>216</td>\n",
              "    </tr>\n",
              "    <tr>\n",
              "      <th>Computer Science and Game Theory</th>\n",
              "      <td>281</td>\n",
              "      <td>323</td>\n",
              "    </tr>\n",
              "    <tr>\n",
              "      <th>Computer Vision and Pattern Recognition</th>\n",
              "      <td>5559</td>\n",
              "      <td>6517</td>\n",
              "    </tr>\n",
              "    <tr>\n",
              "      <th>Computers and Society</th>\n",
              "      <td>346</td>\n",
              "      <td>564</td>\n",
              "    </tr>\n",
              "    <tr>\n",
              "      <th>Cryptography and Security</th>\n",
              "      <td>1067</td>\n",
              "      <td>1238</td>\n",
              "    </tr>\n",
              "    <tr>\n",
              "      <th>Data Structures and Algorithms</th>\n",
              "      <td>711</td>\n",
              "      <td>902</td>\n",
              "    </tr>\n",
              "    <tr>\n",
              "      <th>Databases</th>\n",
              "      <td>282</td>\n",
              "      <td>342</td>\n",
              "    </tr>\n",
              "    <tr>\n",
              "      <th>Digital Libraries</th>\n",
              "      <td>125</td>\n",
              "      <td>157</td>\n",
              "    </tr>\n",
              "    <tr>\n",
              "      <th>Discrete Mathematics</th>\n",
              "      <td>84</td>\n",
              "      <td>81</td>\n",
              "    </tr>\n",
              "    <tr>\n",
              "      <th>Distributed, Parallel, and Cluster Computing</th>\n",
              "      <td>715</td>\n",
              "      <td>774</td>\n",
              "    </tr>\n",
              "    <tr>\n",
              "      <th>Emerging Technologies</th>\n",
              "      <td>101</td>\n",
              "      <td>84</td>\n",
              "    </tr>\n",
              "    <tr>\n",
              "      <th>Formal Languages and Automata Theory</th>\n",
              "      <td>152</td>\n",
              "      <td>137</td>\n",
              "    </tr>\n",
              "    <tr>\n",
              "      <th>General Literature</th>\n",
              "      <td>5</td>\n",
              "      <td>5</td>\n",
              "    </tr>\n",
              "    <tr>\n",
              "      <th>Graphics</th>\n",
              "      <td>116</td>\n",
              "      <td>151</td>\n",
              "    </tr>\n",
              "    <tr>\n",
              "      <th>Hardware Architecture</th>\n",
              "      <td>95</td>\n",
              "      <td>159</td>\n",
              "    </tr>\n",
              "    <tr>\n",
              "      <th>Human-Computer Interaction</th>\n",
              "      <td>420</td>\n",
              "      <td>580</td>\n",
              "    </tr>\n",
              "    <tr>\n",
              "      <th>Information Retrieval</th>\n",
              "      <td>245</td>\n",
              "      <td>331</td>\n",
              "    </tr>\n",
              "    <tr>\n",
              "      <th>Logic in Computer Science</th>\n",
              "      <td>470</td>\n",
              "      <td>504</td>\n",
              "    </tr>\n",
              "    <tr>\n",
              "      <th>Machine Learning</th>\n",
              "      <td>177</td>\n",
              "      <td>538</td>\n",
              "    </tr>\n",
              "    <tr>\n",
              "      <th>Mathematical Software</th>\n",
              "      <td>27</td>\n",
              "      <td>45</td>\n",
              "    </tr>\n",
              "    <tr>\n",
              "      <th>Multiagent Systems</th>\n",
              "      <td>85</td>\n",
              "      <td>90</td>\n",
              "    </tr>\n",
              "    <tr>\n",
              "      <th>Multimedia</th>\n",
              "      <td>76</td>\n",
              "      <td>66</td>\n",
              "    </tr>\n",
              "    <tr>\n",
              "      <th>Networking and Internet Architecture</th>\n",
              "      <td>864</td>\n",
              "      <td>783</td>\n",
              "    </tr>\n",
              "    <tr>\n",
              "      <th>Neural and Evolutionary Computing</th>\n",
              "      <td>235</td>\n",
              "      <td>279</td>\n",
              "    </tr>\n",
              "    <tr>\n",
              "      <th>Numerical Analysis</th>\n",
              "      <td>40</td>\n",
              "      <td>11</td>\n",
              "    </tr>\n",
              "    <tr>\n",
              "      <th>Operating Systems</th>\n",
              "      <td>36</td>\n",
              "      <td>33</td>\n",
              "    </tr>\n",
              "    <tr>\n",
              "      <th>Other Computer Science</th>\n",
              "      <td>67</td>\n",
              "      <td>69</td>\n",
              "    </tr>\n",
              "    <tr>\n",
              "      <th>Performance</th>\n",
              "      <td>45</td>\n",
              "      <td>51</td>\n",
              "    </tr>\n",
              "    <tr>\n",
              "      <th>Programming Languages</th>\n",
              "      <td>268</td>\n",
              "      <td>294</td>\n",
              "    </tr>\n",
              "    <tr>\n",
              "      <th>Robotics</th>\n",
              "      <td>917</td>\n",
              "      <td>1298</td>\n",
              "    </tr>\n",
              "    <tr>\n",
              "      <th>Social and Information Networks</th>\n",
              "      <td>202</td>\n",
              "      <td>325</td>\n",
              "    </tr>\n",
              "    <tr>\n",
              "      <th>Software Engineering</th>\n",
              "      <td>659</td>\n",
              "      <td>804</td>\n",
              "    </tr>\n",
              "    <tr>\n",
              "      <th>Sound</th>\n",
              "      <td>7</td>\n",
              "      <td>4</td>\n",
              "    </tr>\n",
              "    <tr>\n",
              "      <th>Symbolic Computation</th>\n",
              "      <td>44</td>\n",
              "      <td>36</td>\n",
              "    </tr>\n",
              "    <tr>\n",
              "      <th>Systems and Control</th>\n",
              "      <td>415</td>\n",
              "      <td>133</td>\n",
              "    </tr>\n",
              "  </tbody>\n",
              "</table>\n",
              "</div>"
            ],
            "text/plain": [
              "year                                             2019  2020\n",
              "category_name                                              \n",
              "Artificial Intelligence                           558   757\n",
              "Computation and Language                         2153  2906\n",
              "Computational Complexity                          131   188\n",
              "Computational Engineering, Finance, and Science   108   205\n",
              "Computational Geometry                            199   216\n",
              "Computer Science and Game Theory                  281   323\n",
              "Computer Vision and Pattern Recognition          5559  6517\n",
              "Computers and Society                             346   564\n",
              "Cryptography and Security                        1067  1238\n",
              "Data Structures and Algorithms                    711   902\n",
              "Databases                                         282   342\n",
              "Digital Libraries                                 125   157\n",
              "Discrete Mathematics                               84    81\n",
              "Distributed, Parallel, and Cluster Computing      715   774\n",
              "Emerging Technologies                             101    84\n",
              "Formal Languages and Automata Theory              152   137\n",
              "General Literature                                  5     5\n",
              "Graphics                                          116   151\n",
              "Hardware Architecture                              95   159\n",
              "Human-Computer Interaction                        420   580\n",
              "Information Retrieval                             245   331\n",
              "Logic in Computer Science                         470   504\n",
              "Machine Learning                                  177   538\n",
              "Mathematical Software                              27    45\n",
              "Multiagent Systems                                 85    90\n",
              "Multimedia                                         76    66\n",
              "Networking and Internet Architecture              864   783\n",
              "Neural and Evolutionary Computing                 235   279\n",
              "Numerical Analysis                                 40    11\n",
              "Operating Systems                                  36    33\n",
              "Other Computer Science                             67    69\n",
              "Performance                                        45    51\n",
              "Programming Languages                             268   294\n",
              "Robotics                                          917  1298\n",
              "Social and Information Networks                   202   325\n",
              "Software Engineering                              659   804\n",
              "Sound                                               7     4\n",
              "Symbolic Computation                               44    36\n",
              "Systems and Control                               415   133"
            ]
          },
          "metadata": {
            "tags": []
          },
          "execution_count": 27
        }
      ]
    },
    {
      "cell_type": "code",
      "metadata": {
        "colab": {
          "base_uri": "https://localhost:8080/"
        },
        "id": "2j1854v1aNlJ",
        "outputId": "2344c159-d438-4d3b-993c-2a66d6c50009"
      },
      "source": [
        "data1.columns"
      ],
      "execution_count": 28,
      "outputs": [
        {
          "output_type": "execute_result",
          "data": {
            "text/plain": [
              "Int64Index([2019, 2020], dtype='int64', name='year')"
            ]
          },
          "metadata": {
            "tags": []
          },
          "execution_count": 28
        }
      ]
    },
    {
      "cell_type": "code",
      "metadata": {
        "colab": {
          "base_uri": "https://localhost:8080/"
        },
        "id": "vnGihWydh1rb",
        "outputId": "5d415535-2756-42c4-85cd-424e073ab74f"
      },
      "source": [
        "data1.index"
      ],
      "execution_count": 29,
      "outputs": [
        {
          "output_type": "execute_result",
          "data": {
            "text/plain": [
              "Index(['Artificial Intelligence', 'Computation and Language',\n",
              "       'Computational Complexity',\n",
              "       'Computational Engineering, Finance, and Science',\n",
              "       'Computational Geometry', 'Computer Science and Game Theory',\n",
              "       'Computer Vision and Pattern Recognition', 'Computers and Society',\n",
              "       'Cryptography and Security', 'Data Structures and Algorithms',\n",
              "       'Databases', 'Digital Libraries', 'Discrete Mathematics',\n",
              "       'Distributed, Parallel, and Cluster Computing', 'Emerging Technologies',\n",
              "       'Formal Languages and Automata Theory', 'General Literature',\n",
              "       'Graphics', 'Hardware Architecture', 'Human-Computer Interaction',\n",
              "       'Information Retrieval', 'Logic in Computer Science',\n",
              "       'Machine Learning', 'Mathematical Software', 'Multiagent Systems',\n",
              "       'Multimedia', 'Networking and Internet Architecture',\n",
              "       'Neural and Evolutionary Computing', 'Numerical Analysis',\n",
              "       'Operating Systems', 'Other Computer Science', 'Performance',\n",
              "       'Programming Languages', 'Robotics', 'Social and Information Networks',\n",
              "       'Software Engineering', 'Sound', 'Symbolic Computation',\n",
              "       'Systems and Control'],\n",
              "      dtype='object', name='category_name')"
            ]
          },
          "metadata": {
            "tags": []
          },
          "execution_count": 29
        }
      ]
    },
    {
      "cell_type": "code",
      "metadata": {
        "colab": {
          "base_uri": "https://localhost:8080/",
          "height": 938
        },
        "id": "DVx0Joqvhg-j",
        "outputId": "408f5cca-2e7f-4cc7-91fc-58092e7eedba"
      },
      "source": [
        "import numpy as np\r\n",
        "fig = plt.figure(figsize=(20,12))\r\n",
        "bar_width=0.4#设置柱状图的宽度\r\n",
        "X = np.arange(len(data1.values[:,1]))\r\n",
        "tick_label = ['Artificial Intelligence', 'Computation and Language',\r\n",
        "              'Computational Complexity',\r\n",
        "              'Computational Engineering, Finance, and Science',\r\n",
        "              'Computational Geometry', 'Computer Science and Game Theory',\r\n",
        "              'Computer Vision and Pattern Recognition', 'Computers and Society',\r\n",
        "              'Cryptography and Security', 'Data Structures and Algorithms',\r\n",
        "              'Databases', 'Digital Libraries', 'Discrete Mathematics',\r\n",
        "              'Distributed, Parallel, and Cluster Computing', 'Emerging Technologies',\r\n",
        "              'Formal Languages and Automata Theory', 'General Literature',\r\n",
        "              'Graphics', 'Hardware Architecture', 'Human-Computer Interaction',\r\n",
        "              'Information Retrieval', 'Logic in Computer Science',\r\n",
        "              'Machine Learning', 'Mathematical Software', 'Multiagent Systems',\r\n",
        "              'Multimedia', 'Networking and Internet Architecture',\r\n",
        "              'Neural and Evolutionary Computing', 'Numerical Analysis',\r\n",
        "              'Operating Systems', 'Other Computer Science', 'Performance',\r\n",
        "              'Programming Languages', 'Robotics', 'Social and Information Networks',\r\n",
        "              'Software Engineering', 'Sound', 'Symbolic Computation',\r\n",
        "              'Systems and Control']\r\n",
        "\r\n",
        "#显示每个柱的具体高度\r\n",
        "for x,y in zip(X,data1.values[:,0]):\r\n",
        "    plt.text(x,y+0.005,'%d' %y, ha='center',va='bottom',rotation=60)\r\n",
        "\r\n",
        "for x,y1 in zip(X,data1.values[:,1]):\r\n",
        "    plt.text(x+bar_width,y1+0.005,'%d' %y1, ha='center',va='bottom',rotation=60)\r\n",
        "\r\n",
        "\r\n",
        "plt.bar(X, data1.values[:,0],bar_width,label='2019', fc = 'r')\r\n",
        "plt.bar(X+bar_width,data1.values[:,1],bar_width,label='2020', fc = 'y')\r\n",
        "plt.xticks(X+bar_width/2,tick_label,rotation=90)\r\n",
        "plt.legend()\r\n",
        "plt.show()"
      ],
      "execution_count": 30,
      "outputs": [
        {
          "output_type": "display_data",
          "data": {
            "image/png": "[encoded data removed]",
            "text/plain": [
              "<Figure size 1440x864 with 1 Axes>"
            ]
          },
          "metadata": {
            "tags": [],
            "needs_background": "light"
          }
        }
      ]
    },
    {
      "cell_type": "markdown",
      "metadata": {
        "id": "-QRNFAyNlYBc"
      },
      "source": [
        "## 原教程链接：[Datawhale](https://github.com/datawhalechina/team-learning-data-mining/blob/master/AcademicTrends/Task1%20%E8%AE%BA%E6%96%87%E6%95%B0%E6%8D%AE%E7%BB%9F%E8%AE%A1.ipynb)\r\n"
      ]
    }
  ]
}