{
  "nbformat": 4,
  "nbformat_minor": 0,
  "metadata": {
    "colab": {
      "name": "作业-Task3 论文代码统计.ipynb",
      "provenance": [],
      "collapsed_sections": [],
      "authorship_tag": "ABX9TyNYZNEy1uPrx6ckxGtvXUle",
      "include_colab_link": true
    },
    "kernelspec": {
      "name": "python3",
      "display_name": "Python 3"
    }
  },
  "cells": [
    {
      "cell_type": "markdown",
      "metadata": {
        "id": "view-in-github",
        "colab_type": "text"
      },
      "source": [
        "<a href=\"https://colab.research.google.com/github/Allen123321/DEMO-DL/blob/master/%E4%BD%9C%E4%B8%9A_Task3_%E8%AE%BA%E6%96%87%E4%BB%A3%E7%A0%81%E7%BB%9F%E8%AE%A1.ipynb\" target=\"_parent\"><img src=\"https://colab.research.google.com/assets/colab-badge.svg\" alt=\"Open In Colab\"/></a>"
      ]
    },
    {
      "cell_type": "markdown",
      "metadata": {
        "id": "rYfSZp9UcWFV"
      },
      "source": [
        "\r\n",
        "## 任务\r\n",
        "主题：论文代码统计，统计所有论文出现代码的相关统计；<br>\r\n",
        "内容：使用正则表达式统计代码连接、页数和图表数据；<br>\r\n",
        "任务完成环境：Google Colab；<br>\r\n",
        "[Datawhale原链接](https://github.com/datawhalechina/team-learning-data-mining/blob/master/AcademicTrends/Task3%20%E8%AE%BA%E6%96%87%E4%BB%A3%E7%A0%81%E7%BB%9F%E8%AE%A1.ipynb)\r\n",
        "\r\n",
        "## 数据处理任务\r\n",
        "在原始arxiv数据集中作者经常会在论文的comments或abstract字段中给出具体的代码链接，所以我们需要从这些字段里面找出代码的链接。\r\n",
        "\r\n",
        "确定数据出现的位置；<br>\r\n",
        "使用正则表达式完成匹配；<br>\r\n",
        "完成相关的统计；\r\n",
        "\r\n",
        "## 正则表达式理论知识汇总\r\n",
        "正则表达式(regular expression)描述了一种字符串匹配的模式（pattern），可以用来检查一个串是否含有某种子串、将匹配的子串替换或者从某个串中取出符合某个条件的子串等。<br>\r\n",
        "**普通字符**<br>\r\n",
        "\r\n",
        "| 字符 | 描述 | \r\n",
        "| ------ | ---------------------------------- | \r\n",
        "| [ABC] | 匹配 [...] 中的所有字符，例如 [aeiou] 匹配字符串 \"google runoob taobao\" 中所有的 e o u a 字母。 |\r\n",
        "| [^ABC] | 匹配除了 [...] 中字符的所有字符，例如 [^aeiou] 匹配字符串 \"google runoob taobao\" 中除了 e o u a 字母的所有字母。 |\r\n",
        "|[A-Z]|[A-Z] 表示一个区间，匹配所有大写字母，[a-z] 表示所有小写字母。|\r\n",
        "|.|匹配除换行符（\\n、\\r）之外的任何单个字符，相等于 [^\\n\\r]。|\r\n",
        "|[\\s\\S]|匹配所有。\\s 是匹配所有空白符，包括换行，\\S 非空白符，包括换行。|\r\n",
        "|\\w|匹配字母、数字、下划线。等价于 [A-Za-z0-9_]|\r\n",
        "\r\n",
        "**非打印字符** <br>\r\n",
        "非打印字符也可以是正则表达式的组成部分。下表列出了表示非打印字符的转义序列：\r\n",
        "\r\n",
        "|字符|描述|\r\n",
        "|------|-----------------|\r\n",
        "|\\cx|匹配由x指明的控制字符。例如， \\cM 匹配一个 Control-M 或回车符。x 的值必须为 A-Z 或 a-z 之一。否则，将 c 视为一个原义的 'c' 字符。|\r\n",
        "|\\f|匹配一个换页符。等价于 \\x0c 和 \\cL。|\r\n",
        "|\\n|匹配一个换行符。等价于 \\x0a 和 \\cJ。|\r\n",
        "|\\r|匹配一个回车符。等价于 \\x0d 和 \\cM。|\r\n",
        "|\\s|匹配任何非空白字符。等价于 [^ \\f\\n\\r\\t\\v]。|\r\n",
        "|\\t|匹配一个制表符。等价于 \\x09 和 \\cI。|\r\n",
        "|\\v|匹配一个垂直制表符。等价于 \\x0b 和 \\cK。|\r\n",
        "\r\n",
        "**特殊字符**\r\n",
        "所谓特殊字符，就是一些有特殊含义的字符，如上面说的 runoo*b 中的 *，简单的说就是表示任何字符串的意思。如果要查找字符串中的 * 符号，则需要对 * 进行转义，即在其前加一个 \\: runo\\*ob 匹配 runo*ob。\r\n",
        "\r\n",
        "许多元字符要求在试图匹配它们时特别对待。若要匹配这些特殊字符，必须首先使字符\"转义\"，即，将反斜杠字符\\ 放在它们前面。下表列出了正则表达式中的特殊字符：\r\n",
        "\r\n",
        "|特别字符|描述|\r\n",
        "|----|------------|\r\n",
        "|\\$|匹配输入字符串的结尾位置。如果设置了 RegExp 对象的 Multiline 属性，则 $ 也匹配 '\\n' 或 '\\r'。要匹配 \\$ 字符本身，请使用 \\\\$。|\r\n",
        "|( )|标记一个子表达式的开始和结束位置。子表达式可以获取供以后使用。要匹配这些字符，请使用 \\\\( 和 \\\\)。|\r\n",
        "|\\*| 匹配前面的子表达式零次或多次。要匹配 \\* 字符，请使用 \\\\*。|\r\n",
        "|+|匹配前面的子表达式一次或多次。要匹配 + 字符，请使用 \\\\+|\r\n",
        "|.|匹配除换行符 \\n 之外的任何单字符。要匹配 . ，请使用 \\\\. 。|\r\n",
        "|[|标记一个中括号表达式的开始。要匹配 [，请使用 \\\\[。|\r\n",
        "|?|匹配前面的子表达式零次或一次，或指明一个非贪婪限定符。要匹配 ? 字符，请使用 \\\\?。|\r\n",
        "\r\n",
        "|^|匹配输入字符串的开始位置，除非在方括号表达式中使用，当该符号在方括号表达式中使用时，表示不接受该方括号表达式中的字符集合。要匹配 ^ 字符本身，请使用 \\\\^。|\r\n",
        "|{|标记限定符表达式的开始。要匹配 {，请使用 \\\\{。|\r\n",
        "\r\n",
        "**限定符**\r\n",
        "限定符用来指定正则表达式的一个给定组件必须要出现多少次才能满足匹配。有 * 或 + 或 ? 或 {n} 或 {n,} 或 {n,m} 共6种。\r\n",
        "\r\n",
        "正则表达式的限定符有：\r\n",
        "\r\n",
        "|字符|描述|\r\n",
        "|---|---------|\r\n",
        "|\\*|匹配前面的子表达式零次或多次。例如，zo* 能匹配 \"z\" 以及 \"zoo\"。* 等价于{0,}。|\r\n",
        "|+|匹配前面的子表达式一次或多次。例如，'zo+' 能匹配 \"zo\" 以及 \"zoo\"，但不能匹配 \"z\"。+ 等价于 {1,}。|\r\n",
        "|?|匹配前面的子表达式零次或一次。例如，\"do(es)?\" 可以匹配 \"do\" 、 \"does\" 中的 \"does\" 、 \"doxy\" 中的 \"do\" 。? 等价于 {0,1}。|\r\n",
        "|{n}|n 是一个非负整数。匹配确定的 n 次。例如，'o{2}' 不能匹配 \"Bob\" 中的 'o'，但是能匹配 \"food\" 中的两个 o。|\r\n",
        "|{n,}|n 是一个非负整数。至少匹配n 次。例如，'o{2,}' 不能匹配 \"Bob\" 中的 'o'，但能匹配 \"foooood\" 中的所有 o。'o{1,}' 等价于 'o+'。'o{0,}' 则等价于 'o*'。|\r\n",
        "|{n,m}|m 和 n 均为非负整数，其中n <= m。最少匹配 n 次且最多匹配 m 次。例如，\"o{1,3}\" 将匹配 \"fooooood\" 中的前三个 o。'o{0,1}' 等价于 'o?'。请注意在逗号和两个数之间不能有空格。|\r\n",
        "\r\n",
        "\r\n",
        "\r\n"
      ]
    },
    {
      "cell_type": "markdown",
      "metadata": {
        "id": "Nm8skG6rrqlK"
      },
      "source": [
        "## 数据加载到Colab上\r\n",
        "1.复制在google drive上的数据集 <br>\r\n",
        "2.使用unzip解压arxiv.zip"
      ]
    },
    {
      "cell_type": "code",
      "metadata": {
        "colab": {
          "base_uri": "https://localhost:8080/"
        },
        "id": "1J2G0zSZr_gL",
        "outputId": "0ddf1bb0-2b71-4e42-c7c9-710e0a4ea5c6"
      },
      "source": [
        "from google.colab import drive\r\n",
        "drive.mount('/content/gdrive/') #挂载google drive 加载数据集\r\n"
      ],
      "execution_count": 1,
      "outputs": [
        {
          "output_type": "stream",
          "text": [
            "Mounted at /content/gdrive/\n"
          ],
          "name": "stdout"
        }
      ]
    },
    {
      "cell_type": "code",
      "metadata": {
        "id": "taYKOupP3lwH"
      },
      "source": [
        "!cp -f  /content/gdrive/MyDrive/Colab\\ Notebooks/arxiv.zip  /content/ "
      ],
      "execution_count": 2,
      "outputs": []
    },
    {
      "cell_type": "code",
      "metadata": {
        "colab": {
          "base_uri": "https://localhost:8080/"
        },
        "id": "8nWC5UMluLV9",
        "outputId": "6d267f43-4b6b-46f4-e7ab-dfa41750d53e"
      },
      "source": [
        "!unzip -o /content/arxiv.zip  #解压数据集"
      ],
      "execution_count": 3,
      "outputs": [
        {
          "output_type": "stream",
          "text": [
            "Archive:  /content/arxiv.zip\n",
            "  inflating: arxiv-metadata-oai-snapshot.json  \n"
          ],
          "name": "stdout"
        }
      ]
    },
    {
      "cell_type": "markdown",
      "metadata": {
        "id": "BkotAPmjuVTk"
      },
      "source": [
        "## 统计论文页数\r\n",
        "1.参看数据可发现，论文pages和figures的数值在 comments特征下。\r\n",
        "首先读取commnets特征。<br>\r\n",
        "2.此外不是所有comments特征下都有pages和figures的信息，需要注意。"
      ]
    },
    {
      "cell_type": "code",
      "metadata": {
        "id": "3yBpYMHPuVDd"
      },
      "source": [
        "# 导入所需的package\r\n",
        "import seaborn as sns #用于画图\r\n",
        "from bs4 import BeautifulSoup #用于爬取arxiv的数据\r\n",
        "import re #用于正则表达式，匹配字符串的模式\r\n",
        "import requests #用于网络连接，发送网络请求，使用域名获取对应信息\r\n",
        "import json #读取数据，我们的数据为json格式的\r\n",
        "import pandas as pd #数据处理，数据分析\r\n",
        "import matplotlib.pyplot as plt #画图工具"
      ],
      "execution_count": 4,
      "outputs": []
    },
    {
      "cell_type": "code",
      "metadata": {
        "id": "jTAu676uHPaf"
      },
      "source": [
        "\r\n",
        "def readArxivFile(path, columns=['id', 'submitter', 'authors', 'title', 'comments', 'journal-ref', 'doi',\r\n",
        "       'report-no', 'categories', 'license', 'abstract', 'versions',\r\n",
        "       'update_date', 'authors_parsed'], count=None):\r\n",
        "    '''\r\n",
        "    定义读取文件的函数\r\n",
        "        path: 文件路径\r\n",
        "        columns: 需要选择的列\r\n",
        "        count: 读取行数\r\n",
        "    '''\r\n",
        "    data  = []\r\n",
        "    with open(path, 'r') as f: \r\n",
        "        for idx, line in enumerate(f): \r\n",
        "            if idx == count:\r\n",
        "                break\r\n",
        "                \r\n",
        "            d = json.loads(line)\r\n",
        "            d = {col : d[col] for col in columns}\r\n",
        "            data.append(d)\r\n",
        "\r\n",
        "    data = pd.DataFrame(data)\r\n",
        "    return data\r\n",
        "\r\n",
        "data = readArxivFile('arxiv-metadata-oai-snapshot.json', ['id', 'abstract', 'categories', 'comments'])"
      ],
      "execution_count": 13,
      "outputs": []
    },
    {
      "cell_type": "markdown",
      "metadata": {
        "id": "498cpP81Jp0i"
      },
      "source": [
        "## 对pages进行抽取："
      ]
    },
    {
      "cell_type": "code",
      "metadata": {
        "id": "-ZQBpHGhJpRy"
      },
      "source": [
        "# 使用正则表达式匹配，XX pages\r\n",
        "data['pages'] = data['comments'].apply(lambda x: re.findall('[1-9][0-9]* pages', str(x)))\r\n"
      ],
      "execution_count": 14,
      "outputs": []
    },
    {
      "cell_type": "code",
      "metadata": {
        "colab": {
          "base_uri": "https://localhost:8080/",
          "height": 198
        },
        "id": "P-laPugPKYQW",
        "outputId": "916a4224-a004-4537-b768-aeb6e4c187ad"
      },
      "source": [
        "data.head()"
      ],
      "execution_count": 15,
      "outputs": [
        {
          "output_type": "execute_result",
          "data": {
            "text/html": [
              "<div>\n",
              "<style scoped>\n",
              "    .dataframe tbody tr th:only-of-type {\n",
              "        vertical-align: middle;\n",
              "    }\n",
              "\n",
              "    .dataframe tbody tr th {\n",
              "        vertical-align: top;\n",
              "    }\n",
              "\n",
              "    .dataframe thead th {\n",
              "        text-align: right;\n",
              "    }\n",
              "</style>\n",
              "<table border=\"1\" class=\"dataframe\">\n",
              "  <thead>\n",
              "    <tr style=\"text-align: right;\">\n",
              "      <th></th>\n",
              "      <th>id</th>\n",
              "      <th>abstract</th>\n",
              "      <th>categories</th>\n",
              "      <th>comments</th>\n",
              "      <th>pages</th>\n",
              "    </tr>\n",
              "  </thead>\n",
              "  <tbody>\n",
              "    <tr>\n",
              "      <th>0</th>\n",
              "      <td>0704.0001</td>\n",
              "      <td>A fully differential calculation in perturba...</td>\n",
              "      <td>hep-ph</td>\n",
              "      <td>37 pages, 15 figures; published version</td>\n",
              "      <td>[37 pages]</td>\n",
              "    </tr>\n",
              "    <tr>\n",
              "      <th>1</th>\n",
              "      <td>0704.0002</td>\n",
              "      <td>We describe a new algorithm, the $(k,\\ell)$-...</td>\n",
              "      <td>math.CO cs.CG</td>\n",
              "      <td>To appear in Graphs and Combinatorics</td>\n",
              "      <td>[]</td>\n",
              "    </tr>\n",
              "    <tr>\n",
              "      <th>2</th>\n",
              "      <td>0704.0003</td>\n",
              "      <td>The evolution of Earth-Moon system is descri...</td>\n",
              "      <td>physics.gen-ph</td>\n",
              "      <td>23 pages, 3 figures</td>\n",
              "      <td>[23 pages]</td>\n",
              "    </tr>\n",
              "    <tr>\n",
              "      <th>3</th>\n",
              "      <td>0704.0004</td>\n",
              "      <td>We show that a determinant of Stirling cycle...</td>\n",
              "      <td>math.CO</td>\n",
              "      <td>11 pages</td>\n",
              "      <td>[11 pages]</td>\n",
              "    </tr>\n",
              "    <tr>\n",
              "      <th>4</th>\n",
              "      <td>0704.0005</td>\n",
              "      <td>In this paper we show how to compute the $\\L...</td>\n",
              "      <td>math.CA math.FA</td>\n",
              "      <td>None</td>\n",
              "      <td>[]</td>\n",
              "    </tr>\n",
              "  </tbody>\n",
              "</table>\n",
              "</div>"
            ],
            "text/plain": [
              "          id  ...       pages\n",
              "0  0704.0001  ...  [37 pages]\n",
              "1  0704.0002  ...          []\n",
              "2  0704.0003  ...  [23 pages]\n",
              "3  0704.0004  ...  [11 pages]\n",
              "4  0704.0005  ...          []\n",
              "\n",
              "[5 rows x 5 columns]"
            ]
          },
          "metadata": {
            "tags": []
          },
          "execution_count": 15
        }
      ]
    },
    {
      "cell_type": "code",
      "metadata": {
        "id": "BjZzz5VdKfT4"
      },
      "source": [
        "# 筛选出有pages的论文\r\n",
        "data = data[data['pages'].apply(len) > 0]"
      ],
      "execution_count": 16,
      "outputs": []
    },
    {
      "cell_type": "code",
      "metadata": {
        "colab": {
          "base_uri": "https://localhost:8080/",
          "height": 198
        },
        "id": "GeZSe-X3LJOE",
        "outputId": "b64d7884-d716-435c-84c5-ecca75a1d4cc"
      },
      "source": [
        "data.head()"
      ],
      "execution_count": 17,
      "outputs": [
        {
          "output_type": "execute_result",
          "data": {
            "text/html": [
              "<div>\n",
              "<style scoped>\n",
              "    .dataframe tbody tr th:only-of-type {\n",
              "        vertical-align: middle;\n",
              "    }\n",
              "\n",
              "    .dataframe tbody tr th {\n",
              "        vertical-align: top;\n",
              "    }\n",
              "\n",
              "    .dataframe thead th {\n",
              "        text-align: right;\n",
              "    }\n",
              "</style>\n",
              "<table border=\"1\" class=\"dataframe\">\n",
              "  <thead>\n",
              "    <tr style=\"text-align: right;\">\n",
              "      <th></th>\n",
              "      <th>id</th>\n",
              "      <th>abstract</th>\n",
              "      <th>categories</th>\n",
              "      <th>comments</th>\n",
              "      <th>pages</th>\n",
              "    </tr>\n",
              "  </thead>\n",
              "  <tbody>\n",
              "    <tr>\n",
              "      <th>0</th>\n",
              "      <td>0704.0001</td>\n",
              "      <td>A fully differential calculation in perturba...</td>\n",
              "      <td>hep-ph</td>\n",
              "      <td>37 pages, 15 figures; published version</td>\n",
              "      <td>[37 pages]</td>\n",
              "    </tr>\n",
              "    <tr>\n",
              "      <th>2</th>\n",
              "      <td>0704.0003</td>\n",
              "      <td>The evolution of Earth-Moon system is descri...</td>\n",
              "      <td>physics.gen-ph</td>\n",
              "      <td>23 pages, 3 figures</td>\n",
              "      <td>[23 pages]</td>\n",
              "    </tr>\n",
              "    <tr>\n",
              "      <th>3</th>\n",
              "      <td>0704.0004</td>\n",
              "      <td>We show that a determinant of Stirling cycle...</td>\n",
              "      <td>math.CO</td>\n",
              "      <td>11 pages</td>\n",
              "      <td>[11 pages]</td>\n",
              "    </tr>\n",
              "    <tr>\n",
              "      <th>5</th>\n",
              "      <td>0704.0006</td>\n",
              "      <td>We study the two-particle wave function of p...</td>\n",
              "      <td>cond-mat.mes-hall</td>\n",
              "      <td>6 pages, 4 figures, accepted by PRA</td>\n",
              "      <td>[6 pages]</td>\n",
              "    </tr>\n",
              "    <tr>\n",
              "      <th>6</th>\n",
              "      <td>0704.0007</td>\n",
              "      <td>A rather non-standard quantum representation...</td>\n",
              "      <td>gr-qc</td>\n",
              "      <td>16 pages, no figures. Typos corrected to match...</td>\n",
              "      <td>[16 pages]</td>\n",
              "    </tr>\n",
              "  </tbody>\n",
              "</table>\n",
              "</div>"
            ],
            "text/plain": [
              "          id  ...       pages\n",
              "0  0704.0001  ...  [37 pages]\n",
              "2  0704.0003  ...  [23 pages]\n",
              "3  0704.0004  ...  [11 pages]\n",
              "5  0704.0006  ...   [6 pages]\n",
              "6  0704.0007  ...  [16 pages]\n",
              "\n",
              "[5 rows x 5 columns]"
            ]
          },
          "metadata": {
            "tags": []
          },
          "execution_count": 17
        }
      ]
    },
    {
      "cell_type": "code",
      "metadata": {
        "id": "Aupnl4kkLMyk"
      },
      "source": [
        "# 由于匹配得到的是一个list，如['19 pages']，需要进行转换\r\n",
        "data['pages'] = data['pages'].apply(lambda x: int(x[0].replace(' pages', '')))"
      ],
      "execution_count": 18,
      "outputs": []
    },
    {
      "cell_type": "code",
      "metadata": {
        "colab": {
          "base_uri": "https://localhost:8080/",
          "height": 198
        },
        "id": "rQvr1IkpT16T",
        "outputId": "9e3b77d6-eb01-48e5-dd0c-8d3ea0a4bfd7"
      },
      "source": [
        "data.head()"
      ],
      "execution_count": 20,
      "outputs": [
        {
          "output_type": "execute_result",
          "data": {
            "text/html": [
              "<div>\n",
              "<style scoped>\n",
              "    .dataframe tbody tr th:only-of-type {\n",
              "        vertical-align: middle;\n",
              "    }\n",
              "\n",
              "    .dataframe tbody tr th {\n",
              "        vertical-align: top;\n",
              "    }\n",
              "\n",
              "    .dataframe thead th {\n",
              "        text-align: right;\n",
              "    }\n",
              "</style>\n",
              "<table border=\"1\" class=\"dataframe\">\n",
              "  <thead>\n",
              "    <tr style=\"text-align: right;\">\n",
              "      <th></th>\n",
              "      <th>id</th>\n",
              "      <th>abstract</th>\n",
              "      <th>categories</th>\n",
              "      <th>comments</th>\n",
              "      <th>pages</th>\n",
              "    </tr>\n",
              "  </thead>\n",
              "  <tbody>\n",
              "    <tr>\n",
              "      <th>0</th>\n",
              "      <td>0704.0001</td>\n",
              "      <td>A fully differential calculation in perturba...</td>\n",
              "      <td>hep-ph</td>\n",
              "      <td>37 pages, 15 figures; published version</td>\n",
              "      <td>37</td>\n",
              "    </tr>\n",
              "    <tr>\n",
              "      <th>2</th>\n",
              "      <td>0704.0003</td>\n",
              "      <td>The evolution of Earth-Moon system is descri...</td>\n",
              "      <td>physics.gen-ph</td>\n",
              "      <td>23 pages, 3 figures</td>\n",
              "      <td>23</td>\n",
              "    </tr>\n",
              "    <tr>\n",
              "      <th>3</th>\n",
              "      <td>0704.0004</td>\n",
              "      <td>We show that a determinant of Stirling cycle...</td>\n",
              "      <td>math.CO</td>\n",
              "      <td>11 pages</td>\n",
              "      <td>11</td>\n",
              "    </tr>\n",
              "    <tr>\n",
              "      <th>5</th>\n",
              "      <td>0704.0006</td>\n",
              "      <td>We study the two-particle wave function of p...</td>\n",
              "      <td>cond-mat.mes-hall</td>\n",
              "      <td>6 pages, 4 figures, accepted by PRA</td>\n",
              "      <td>6</td>\n",
              "    </tr>\n",
              "    <tr>\n",
              "      <th>6</th>\n",
              "      <td>0704.0007</td>\n",
              "      <td>A rather non-standard quantum representation...</td>\n",
              "      <td>gr-qc</td>\n",
              "      <td>16 pages, no figures. Typos corrected to match...</td>\n",
              "      <td>16</td>\n",
              "    </tr>\n",
              "  </tbody>\n",
              "</table>\n",
              "</div>"
            ],
            "text/plain": [
              "          id  ... pages\n",
              "0  0704.0001  ...    37\n",
              "2  0704.0003  ...    23\n",
              "3  0704.0004  ...    11\n",
              "5  0704.0006  ...     6\n",
              "6  0704.0007  ...    16\n",
              "\n",
              "[5 rows x 5 columns]"
            ]
          },
          "metadata": {
            "tags": []
          },
          "execution_count": 20
        }
      ]
    },
    {
      "cell_type": "markdown",
      "metadata": {
        "id": "7wkkcWXtTsSB"
      },
      "source": [
        "\r\n",
        "对pages进行统计，统计结果如下：论文平均的页数为17页，75%的论文在22页以内，最长的论文有11232页。"
      ]
    },
    {
      "cell_type": "code",
      "metadata": {
        "colab": {
          "base_uri": "https://localhost:8080/"
        },
        "id": "Bw7zjjeGSowb",
        "outputId": "58749726-e062-4e08-b4e2-41e62fb33a39"
      },
      "source": [
        "data['pages'].describe().astype(int)"
      ],
      "execution_count": 22,
      "outputs": [
        {
          "output_type": "execute_result",
          "data": {
            "text/plain": [
              "count    1089180\n",
              "mean          17\n",
              "std           22\n",
              "min            1\n",
              "25%            8\n",
              "50%           13\n",
              "75%           22\n",
              "max        11232\n",
              "Name: pages, dtype: int64"
            ]
          },
          "metadata": {
            "tags": []
          },
          "execution_count": 22
        }
      ]
    },
    {
      "cell_type": "code",
      "metadata": {
        "colab": {
          "base_uri": "https://localhost:8080/"
        },
        "id": "tleRudMNWThp",
        "outputId": "565b4183-e64f-4778-d856-bf6de51d5be5"
      },
      "source": [
        "# 选择主要类别\r\n",
        "data['categories'] = data['categories'].apply(lambda x: x.split(' ')[0])\r\n",
        "data['categories'] = data['categories'].apply(lambda x: x.split('.')[0])\r\n",
        "data['categories']"
      ],
      "execution_count": 23,
      "outputs": [
        {
          "output_type": "execute_result",
          "data": {
            "text/plain": [
              "0            hep-ph\n",
              "2           physics\n",
              "3              math\n",
              "5          cond-mat\n",
              "6             gr-qc\n",
              "             ...   \n",
              "1796906    supr-con\n",
              "1796907    supr-con\n",
              "1796908    supr-con\n",
              "1796909    supr-con\n",
              "1796910    supr-con\n",
              "Name: categories, Length: 1089180, dtype: object"
            ]
          },
          "metadata": {
            "tags": []
          },
          "execution_count": 23
        }
      ]
    },
    {
      "cell_type": "code",
      "metadata": {
        "id": "kcDyuJnYdPJo"
      },
      "source": [
        "# #只是个测试\r\n",
        "# data2.loc[data2['pages'] > 20 ]"
      ],
      "execution_count": null,
      "outputs": []
    },
    {
      "cell_type": "code",
      "metadata": {
        "colab": {
          "base_uri": "https://localhost:8080/",
          "height": 660
        },
        "id": "IjlSXCRhXtS1",
        "outputId": "5437ea4c-3ba6-4682-9f2f-916778579e29"
      },
      "source": [
        "\r\n",
        "# data.groupby(['categories'])['pages'].mean()\r\n",
        "data_pages_mean = data.groupby(['categories']).agg({'pages':'mean'}).reset_index()\r\n",
        "plt.figure(figsize=(16, 10))\r\n",
        "# data_figures_mean = data.groupby(['categories'])['figures'].mean().reset_index()\r\n",
        "sns.barplot(x=data_pages_mean['categories'], y=data_pages_mean['pages'],data=data_pages_mean,)\r\n",
        "plt.title('The average number of pages in all disciplines') \r\n",
        "plt.xticks(rotation=90)\r\n",
        "plt.show()"
      ],
      "execution_count": 78,
      "outputs": [
        {
          "output_type": "display_data",
          "data": {
            "image/png": "[encoded data removed]",
            "text/plain": [
              "<Figure size 1152x720 with 1 Axes>"
            ]
          },
          "metadata": {
            "tags": [],
            "needs_background": "light"
          }
        }
      ]
    },
    {
      "cell_type": "markdown",
      "metadata": {
        "id": "KSmEK3jBajBd"
      },
      "source": [
        "## 接下来对论文图表个数进行抽取："
      ]
    },
    {
      "cell_type": "code",
      "metadata": {
        "colab": {
          "base_uri": "https://localhost:8080/"
        },
        "id": "iQXeGKH-acBB",
        "outputId": "3d50fd4e-d917-4dc3-bc22-26d673cd4cf7"
      },
      "source": [
        "data['figures'] = data['comments'].apply(lambda x: re.findall('[1-9][0-9]* figures', str(x)))\r\n",
        "data = data[data['figures'].apply(len) > 0]\r\n",
        "#data.loc[data['figures']> 0)] # 等价于上一句\r\n",
        "data['figures'] = data['figures'].apply(lambda x: float(x[0].replace(' figures', '')))"
      ],
      "execution_count": 46,
      "outputs": [
        {
          "output_type": "stream",
          "text": [
            "/usr/local/lib/python3.6/dist-packages/ipykernel_launcher.py:3: SettingWithCopyWarning: \n",
            "A value is trying to be set on a copy of a slice from a DataFrame.\n",
            "Try using .loc[row_indexer,col_indexer] = value instead\n",
            "\n",
            "See the caveats in the documentation: https://pandas.pydata.org/pandas-docs/stable/user_guide/indexing.html#returning-a-view-versus-a-copy\n",
            "  This is separate from the ipykernel package so we can avoid doing imports until\n"
          ],
          "name": "stderr"
        }
      ]
    },
    {
      "cell_type": "code",
      "metadata": {
        "colab": {
          "base_uri": "https://localhost:8080/",
          "height": 407
        },
        "id": "bpKX2Maqfm74",
        "outputId": "8adf949f-ffb6-4f57-8dad-69e926258c71"
      },
      "source": [
        "data"
      ],
      "execution_count": 50,
      "outputs": [
        {
          "output_type": "execute_result",
          "data": {
            "text/html": [
              "<div>\n",
              "<style scoped>\n",
              "    .dataframe tbody tr th:only-of-type {\n",
              "        vertical-align: middle;\n",
              "    }\n",
              "\n",
              "    .dataframe tbody tr th {\n",
              "        vertical-align: top;\n",
              "    }\n",
              "\n",
              "    .dataframe thead th {\n",
              "        text-align: right;\n",
              "    }\n",
              "</style>\n",
              "<table border=\"1\" class=\"dataframe\">\n",
              "  <thead>\n",
              "    <tr style=\"text-align: right;\">\n",
              "      <th></th>\n",
              "      <th>id</th>\n",
              "      <th>abstract</th>\n",
              "      <th>categories</th>\n",
              "      <th>comments</th>\n",
              "      <th>pages</th>\n",
              "      <th>figures</th>\n",
              "    </tr>\n",
              "  </thead>\n",
              "  <tbody>\n",
              "    <tr>\n",
              "      <th>0</th>\n",
              "      <td>0704.0001</td>\n",
              "      <td>A fully differential calculation in perturba...</td>\n",
              "      <td>hep-ph</td>\n",
              "      <td>37 pages, 15 figures; published version</td>\n",
              "      <td>37</td>\n",
              "      <td>15.0</td>\n",
              "    </tr>\n",
              "    <tr>\n",
              "      <th>2</th>\n",
              "      <td>0704.0003</td>\n",
              "      <td>The evolution of Earth-Moon system is descri...</td>\n",
              "      <td>physics</td>\n",
              "      <td>23 pages, 3 figures</td>\n",
              "      <td>23</td>\n",
              "      <td>3.0</td>\n",
              "    </tr>\n",
              "    <tr>\n",
              "      <th>5</th>\n",
              "      <td>0704.0006</td>\n",
              "      <td>We study the two-particle wave function of p...</td>\n",
              "      <td>cond-mat</td>\n",
              "      <td>6 pages, 4 figures, accepted by PRA</td>\n",
              "      <td>6</td>\n",
              "      <td>4.0</td>\n",
              "    </tr>\n",
              "    <tr>\n",
              "      <th>9</th>\n",
              "      <td>0704.0010</td>\n",
              "      <td>Partial cubes are isometric subgraphs of hyp...</td>\n",
              "      <td>math</td>\n",
              "      <td>36 pages, 17 figures</td>\n",
              "      <td>36</td>\n",
              "      <td>17.0</td>\n",
              "    </tr>\n",
              "    <tr>\n",
              "      <th>15</th>\n",
              "      <td>0704.0016</td>\n",
              "      <td>In this work, we evaluate the lifetimes of t...</td>\n",
              "      <td>hep-ph</td>\n",
              "      <td>17 pages, 3 figures and 1 table</td>\n",
              "      <td>17</td>\n",
              "      <td>3.0</td>\n",
              "    </tr>\n",
              "    <tr>\n",
              "      <th>...</th>\n",
              "      <td>...</td>\n",
              "      <td>...</td>\n",
              "      <td>...</td>\n",
              "      <td>...</td>\n",
              "      <td>...</td>\n",
              "      <td>...</td>\n",
              "    </tr>\n",
              "    <tr>\n",
              "      <th>1796880</th>\n",
              "      <td>supr-con/9512003</td>\n",
              "      <td>The nature of the resistive transition for a...</td>\n",
              "      <td>supr-con</td>\n",
              "      <td>8 pages + 6 figures</td>\n",
              "      <td>8</td>\n",
              "      <td>6.0</td>\n",
              "    </tr>\n",
              "    <tr>\n",
              "      <th>1796885</th>\n",
              "      <td>supr-con/9604001</td>\n",
              "      <td>The magnetic field distribution, the magneti...</td>\n",
              "      <td>supr-con</td>\n",
              "      <td>LaTeX file ( 22 pages &amp; 7 figures ); the requi...</td>\n",
              "      <td>22</td>\n",
              "      <td>7.0</td>\n",
              "    </tr>\n",
              "    <tr>\n",
              "      <th>1796890</th>\n",
              "      <td>supr-con/9606002</td>\n",
              "      <td>The electronic structure of vortices in a ty...</td>\n",
              "      <td>supr-con</td>\n",
              "      <td>4 pages, REVTeX, 3 figures available upon request</td>\n",
              "      <td>4</td>\n",
              "      <td>3.0</td>\n",
              "    </tr>\n",
              "    <tr>\n",
              "      <th>1796894</th>\n",
              "      <td>supr-con/9607003</td>\n",
              "      <td>The flux flow regime of high-T$_{\\rm c}$ sam...</td>\n",
              "      <td>supr-con</td>\n",
              "      <td>3 pages. 4 figures upon request</td>\n",
              "      <td>3</td>\n",
              "      <td>4.0</td>\n",
              "    </tr>\n",
              "    <tr>\n",
              "      <th>1796902</th>\n",
              "      <td>supr-con/9608004</td>\n",
              "      <td>We investigate de Haas-van Alphen (dHvA) osc...</td>\n",
              "      <td>supr-con</td>\n",
              "      <td>39 pages, 8 figures. This is a replacement of ...</td>\n",
              "      <td>39</td>\n",
              "      <td>8.0</td>\n",
              "    </tr>\n",
              "  </tbody>\n",
              "</table>\n",
              "<p>621783 rows × 6 columns</p>\n",
              "</div>"
            ],
            "text/plain": [
              "                       id  ... figures\n",
              "0               0704.0001  ...    15.0\n",
              "2               0704.0003  ...     3.0\n",
              "5               0704.0006  ...     4.0\n",
              "9               0704.0010  ...    17.0\n",
              "15              0704.0016  ...     3.0\n",
              "...                   ...  ...     ...\n",
              "1796880  supr-con/9512003  ...     6.0\n",
              "1796885  supr-con/9604001  ...     7.0\n",
              "1796890  supr-con/9606002  ...     3.0\n",
              "1796894  supr-con/9607003  ...     4.0\n",
              "1796902  supr-con/9608004  ...     8.0\n",
              "\n",
              "[621783 rows x 6 columns]"
            ]
          },
          "metadata": {
            "tags": []
          },
          "execution_count": 50
        }
      ]
    },
    {
      "cell_type": "code",
      "metadata": {
        "id": "es0fq0RthnFS"
      },
      "source": [
        "data_figures_mean "
      ],
      "execution_count": null,
      "outputs": []
    },
    {
      "cell_type": "markdown",
      "metadata": {
        "id": "wVE1ETq0k1Yh"
      },
      "source": [
        "## 可视化每类论文的平均图片数"
      ]
    },
    {
      "cell_type": "code",
      "metadata": {
        "colab": {
          "base_uri": "https://localhost:8080/",
          "height": 660
        },
        "id": "v90K3qeQelpK",
        "outputId": "c47abb81-1d38-44b9-f62f-f7366f3ad44c"
      },
      "source": [
        "# 每类论文的平均图片数\r\n",
        "plt.figure(figsize=(16, 10))\r\n",
        "data_figures_mean = data.groupby(['categories'])['figures'].mean().reset_index()\r\n",
        "sns.barplot(x=data_figures_mean['categories'], y=data_figures_mean['figures'],data=data_figures_mean)\r\n",
        "plt.title('The average number of figures in all disciplines')\r\n",
        "plt.xticks(rotation=90)\r\n",
        "plt.show()"
      ],
      "execution_count": 73,
      "outputs": [
        {
          "output_type": "display_data",
          "data": {
            "image/png": "[encoded data removed]",
            "text/plain": [
              "<Figure size 1152x720 with 1 Axes>"
            ]
          },
          "metadata": {
            "tags": [],
            "needs_background": "light"
          }
        }
      ]
    },
    {
      "cell_type": "markdown",
      "metadata": {
        "id": "h5YQRcSnk_c9"
      },
      "source": [
        "## 对论文的代码链接进行提取，先抽取github链接："
      ]
    },
    {
      "cell_type": "code",
      "metadata": {
        "colab": {
          "base_uri": "https://localhost:8080/",
          "height": 407
        },
        "id": "6TFqcjTmk62Z",
        "outputId": "7c4b8735-6cc6-4567-fd7e-87a1d72cf847"
      },
      "source": [
        "# 筛选包含github的论文\r\n",
        "data_with_code = data[(data.comments.str.contains('github')==True)|(data.abstract.str.contains('github')==True)]\r\n",
        "data_with_code"
      ],
      "execution_count": 79,
      "outputs": [
        {
          "output_type": "execute_result",
          "data": {
            "text/html": [
              "<div>\n",
              "<style scoped>\n",
              "    .dataframe tbody tr th:only-of-type {\n",
              "        vertical-align: middle;\n",
              "    }\n",
              "\n",
              "    .dataframe tbody tr th {\n",
              "        vertical-align: top;\n",
              "    }\n",
              "\n",
              "    .dataframe thead th {\n",
              "        text-align: right;\n",
              "    }\n",
              "</style>\n",
              "<table border=\"1\" class=\"dataframe\">\n",
              "  <thead>\n",
              "    <tr style=\"text-align: right;\">\n",
              "      <th></th>\n",
              "      <th>id</th>\n",
              "      <th>abstract</th>\n",
              "      <th>categories</th>\n",
              "      <th>comments</th>\n",
              "      <th>pages</th>\n",
              "      <th>figures</th>\n",
              "    </tr>\n",
              "  </thead>\n",
              "  <tbody>\n",
              "    <tr>\n",
              "      <th>253172</th>\n",
              "      <td>1103.5904</td>\n",
              "      <td>Solar tomography has progressed rapidly in r...</td>\n",
              "      <td>astro-ph</td>\n",
              "      <td>21 pages, 6 figures, 5 tables</td>\n",
              "      <td>21</td>\n",
              "      <td>6.0</td>\n",
              "    </tr>\n",
              "    <tr>\n",
              "      <th>254226</th>\n",
              "      <td>1104.0672</td>\n",
              "      <td>We describe a hybrid Fourier/direct space co...</td>\n",
              "      <td>astro-ph</td>\n",
              "      <td>10 pages, 6 figures. Submitted to Astronomy an...</td>\n",
              "      <td>10</td>\n",
              "      <td>6.0</td>\n",
              "    </tr>\n",
              "    <tr>\n",
              "      <th>296182</th>\n",
              "      <td>1110.4876</td>\n",
              "      <td>REBOUND is a new multi-purpose N-body code w...</td>\n",
              "      <td>astro-ph</td>\n",
              "      <td>10 pages, 9 figures, accepted by A&amp;A, source c...</td>\n",
              "      <td>10</td>\n",
              "      <td>9.0</td>\n",
              "    </tr>\n",
              "    <tr>\n",
              "      <th>300298</th>\n",
              "      <td>1111.2062</td>\n",
              "      <td>This article proposes a way to improve the p...</td>\n",
              "      <td>physics</td>\n",
              "      <td>10 pages, 7 figures. CODE: https://github.com/...</td>\n",
              "      <td>10</td>\n",
              "      <td>7.0</td>\n",
              "    </tr>\n",
              "    <tr>\n",
              "      <th>311500</th>\n",
              "      <td>1112.5945</td>\n",
              "      <td>The interaction of distinct units in physica...</td>\n",
              "      <td>physics</td>\n",
              "      <td>Preprint. 24 pages, 4 figures, 2 tables. Sourc...</td>\n",
              "      <td>24</td>\n",
              "      <td>4.0</td>\n",
              "    </tr>\n",
              "    <tr>\n",
              "      <th>...</th>\n",
              "      <td>...</td>\n",
              "      <td>...</td>\n",
              "      <td>...</td>\n",
              "      <td>...</td>\n",
              "      <td>...</td>\n",
              "      <td>...</td>\n",
              "    </tr>\n",
              "    <tr>\n",
              "      <th>1381266</th>\n",
              "      <td>2011.08518</td>\n",
              "      <td>Sequence-based place recognition methods for...</td>\n",
              "      <td>cs</td>\n",
              "      <td>9 pages, 6 figures, 2 tables</td>\n",
              "      <td>9</td>\n",
              "      <td>6.0</td>\n",
              "    </tr>\n",
              "    <tr>\n",
              "      <th>1381310</th>\n",
              "      <td>2011.08562</td>\n",
              "      <td>The target identification in brain-computer ...</td>\n",
              "      <td>cs</td>\n",
              "      <td>12 pages, 6 figures</td>\n",
              "      <td>12</td>\n",
              "      <td>6.0</td>\n",
              "    </tr>\n",
              "    <tr>\n",
              "      <th>1381509</th>\n",
              "      <td>2011.08761</td>\n",
              "      <td>In this paper, we study the problem of imagi...</td>\n",
              "      <td>eess</td>\n",
              "      <td>10 pages, 2 figures, to be published in STACOM...</td>\n",
              "      <td>10</td>\n",
              "      <td>2.0</td>\n",
              "    </tr>\n",
              "    <tr>\n",
              "      <th>1381606</th>\n",
              "      <td>2011.08858</td>\n",
              "      <td>We derive a simple prescription for includin...</td>\n",
              "      <td>astro-ph</td>\n",
              "      <td>14 pages; 6 figures; 3 appendices</td>\n",
              "      <td>14</td>\n",
              "      <td>6.0</td>\n",
              "    </tr>\n",
              "    <tr>\n",
              "      <th>1382418</th>\n",
              "      <td>2011.09670</td>\n",
              "      <td>Rotation detection serves as a fundamental b...</td>\n",
              "      <td>cs</td>\n",
              "      <td>12 pages, 6 figures, 8 tables</td>\n",
              "      <td>12</td>\n",
              "      <td>6.0</td>\n",
              "    </tr>\n",
              "  </tbody>\n",
              "</table>\n",
              "<p>2175 rows × 6 columns</p>\n",
              "</div>"
            ],
            "text/plain": [
              "                 id  ... figures\n",
              "253172    1103.5904  ...     6.0\n",
              "254226    1104.0672  ...     6.0\n",
              "296182    1110.4876  ...     9.0\n",
              "300298    1111.2062  ...     7.0\n",
              "311500    1112.5945  ...     4.0\n",
              "...             ...  ...     ...\n",
              "1381266  2011.08518  ...     6.0\n",
              "1381310  2011.08562  ...     6.0\n",
              "1381509  2011.08761  ...     2.0\n",
              "1381606  2011.08858  ...     6.0\n",
              "1382418  2011.09670  ...     6.0\n",
              "\n",
              "[2175 rows x 6 columns]"
            ]
          },
          "metadata": {
            "tags": []
          },
          "execution_count": 79
        }
      ]
    },
    {
      "cell_type": "code",
      "metadata": {
        "colab": {
          "base_uri": "https://localhost:8080/",
          "height": 603
        },
        "id": "Xp09kX0voW0U",
        "outputId": "8f711672-c640-4139-cdaa-b9996d8e1fbd"
      },
      "source": [
        "# 合并comments 和 abstract\r\n",
        "data_with_code['text'] = data_with_code['abstract'].fillna('') + data_with_code['comments'].fillna('')\r\n",
        "data_with_code"
      ],
      "execution_count": 80,
      "outputs": [
        {
          "output_type": "stream",
          "text": [
            "/usr/local/lib/python3.6/dist-packages/ipykernel_launcher.py:1: SettingWithCopyWarning: \n",
            "A value is trying to be set on a copy of a slice from a DataFrame.\n",
            "Try using .loc[row_indexer,col_indexer] = value instead\n",
            "\n",
            "See the caveats in the documentation: https://pandas.pydata.org/pandas-docs/stable/user_guide/indexing.html#returning-a-view-versus-a-copy\n",
            "  \"\"\"Entry point for launching an IPython kernel.\n"
          ],
          "name": "stderr"
        },
        {
          "output_type": "execute_result",
          "data": {
            "text/html": [
              "<div>\n",
              "<style scoped>\n",
              "    .dataframe tbody tr th:only-of-type {\n",
              "        vertical-align: middle;\n",
              "    }\n",
              "\n",
              "    .dataframe tbody tr th {\n",
              "        vertical-align: top;\n",
              "    }\n",
              "\n",
              "    .dataframe thead th {\n",
              "        text-align: right;\n",
              "    }\n",
              "</style>\n",
              "<table border=\"1\" class=\"dataframe\">\n",
              "  <thead>\n",
              "    <tr style=\"text-align: right;\">\n",
              "      <th></th>\n",
              "      <th>id</th>\n",
              "      <th>abstract</th>\n",
              "      <th>categories</th>\n",
              "      <th>comments</th>\n",
              "      <th>pages</th>\n",
              "      <th>figures</th>\n",
              "      <th>text</th>\n",
              "    </tr>\n",
              "  </thead>\n",
              "  <tbody>\n",
              "    <tr>\n",
              "      <th>253172</th>\n",
              "      <td>1103.5904</td>\n",
              "      <td>Solar tomography has progressed rapidly in r...</td>\n",
              "      <td>astro-ph</td>\n",
              "      <td>21 pages, 6 figures, 5 tables</td>\n",
              "      <td>21</td>\n",
              "      <td>6.0</td>\n",
              "      <td>Solar tomography has progressed rapidly in r...</td>\n",
              "    </tr>\n",
              "    <tr>\n",
              "      <th>254226</th>\n",
              "      <td>1104.0672</td>\n",
              "      <td>We describe a hybrid Fourier/direct space co...</td>\n",
              "      <td>astro-ph</td>\n",
              "      <td>10 pages, 6 figures. Submitted to Astronomy an...</td>\n",
              "      <td>10</td>\n",
              "      <td>6.0</td>\n",
              "      <td>We describe a hybrid Fourier/direct space co...</td>\n",
              "    </tr>\n",
              "    <tr>\n",
              "      <th>296182</th>\n",
              "      <td>1110.4876</td>\n",
              "      <td>REBOUND is a new multi-purpose N-body code w...</td>\n",
              "      <td>astro-ph</td>\n",
              "      <td>10 pages, 9 figures, accepted by A&amp;A, source c...</td>\n",
              "      <td>10</td>\n",
              "      <td>9.0</td>\n",
              "      <td>REBOUND is a new multi-purpose N-body code w...</td>\n",
              "    </tr>\n",
              "    <tr>\n",
              "      <th>300298</th>\n",
              "      <td>1111.2062</td>\n",
              "      <td>This article proposes a way to improve the p...</td>\n",
              "      <td>physics</td>\n",
              "      <td>10 pages, 7 figures. CODE: https://github.com/...</td>\n",
              "      <td>10</td>\n",
              "      <td>7.0</td>\n",
              "      <td>This article proposes a way to improve the p...</td>\n",
              "    </tr>\n",
              "    <tr>\n",
              "      <th>311500</th>\n",
              "      <td>1112.5945</td>\n",
              "      <td>The interaction of distinct units in physica...</td>\n",
              "      <td>physics</td>\n",
              "      <td>Preprint. 24 pages, 4 figures, 2 tables. Sourc...</td>\n",
              "      <td>24</td>\n",
              "      <td>4.0</td>\n",
              "      <td>The interaction of distinct units in physica...</td>\n",
              "    </tr>\n",
              "    <tr>\n",
              "      <th>...</th>\n",
              "      <td>...</td>\n",
              "      <td>...</td>\n",
              "      <td>...</td>\n",
              "      <td>...</td>\n",
              "      <td>...</td>\n",
              "      <td>...</td>\n",
              "      <td>...</td>\n",
              "    </tr>\n",
              "    <tr>\n",
              "      <th>1381266</th>\n",
              "      <td>2011.08518</td>\n",
              "      <td>Sequence-based place recognition methods for...</td>\n",
              "      <td>cs</td>\n",
              "      <td>9 pages, 6 figures, 2 tables</td>\n",
              "      <td>9</td>\n",
              "      <td>6.0</td>\n",
              "      <td>Sequence-based place recognition methods for...</td>\n",
              "    </tr>\n",
              "    <tr>\n",
              "      <th>1381310</th>\n",
              "      <td>2011.08562</td>\n",
              "      <td>The target identification in brain-computer ...</td>\n",
              "      <td>cs</td>\n",
              "      <td>12 pages, 6 figures</td>\n",
              "      <td>12</td>\n",
              "      <td>6.0</td>\n",
              "      <td>The target identification in brain-computer ...</td>\n",
              "    </tr>\n",
              "    <tr>\n",
              "      <th>1381509</th>\n",
              "      <td>2011.08761</td>\n",
              "      <td>In this paper, we study the problem of imagi...</td>\n",
              "      <td>eess</td>\n",
              "      <td>10 pages, 2 figures, to be published in STACOM...</td>\n",
              "      <td>10</td>\n",
              "      <td>2.0</td>\n",
              "      <td>In this paper, we study the problem of imagi...</td>\n",
              "    </tr>\n",
              "    <tr>\n",
              "      <th>1381606</th>\n",
              "      <td>2011.08858</td>\n",
              "      <td>We derive a simple prescription for includin...</td>\n",
              "      <td>astro-ph</td>\n",
              "      <td>14 pages; 6 figures; 3 appendices</td>\n",
              "      <td>14</td>\n",
              "      <td>6.0</td>\n",
              "      <td>We derive a simple prescription for includin...</td>\n",
              "    </tr>\n",
              "    <tr>\n",
              "      <th>1382418</th>\n",
              "      <td>2011.09670</td>\n",
              "      <td>Rotation detection serves as a fundamental b...</td>\n",
              "      <td>cs</td>\n",
              "      <td>12 pages, 6 figures, 8 tables</td>\n",
              "      <td>12</td>\n",
              "      <td>6.0</td>\n",
              "      <td>Rotation detection serves as a fundamental b...</td>\n",
              "    </tr>\n",
              "  </tbody>\n",
              "</table>\n",
              "<p>2175 rows × 7 columns</p>\n",
              "</div>"
            ],
            "text/plain": [
              "                 id  ...                                               text\n",
              "253172    1103.5904  ...    Solar tomography has progressed rapidly in r...\n",
              "254226    1104.0672  ...    We describe a hybrid Fourier/direct space co...\n",
              "296182    1110.4876  ...    REBOUND is a new multi-purpose N-body code w...\n",
              "300298    1111.2062  ...    This article proposes a way to improve the p...\n",
              "311500    1112.5945  ...    The interaction of distinct units in physica...\n",
              "...             ...  ...                                                ...\n",
              "1381266  2011.08518  ...    Sequence-based place recognition methods for...\n",
              "1381310  2011.08562  ...    The target identification in brain-computer ...\n",
              "1381509  2011.08761  ...    In this paper, we study the problem of imagi...\n",
              "1381606  2011.08858  ...    We derive a simple prescription for includin...\n",
              "1382418  2011.09670  ...    Rotation detection serves as a fundamental b...\n",
              "\n",
              "[2175 rows x 7 columns]"
            ]
          },
          "metadata": {
            "tags": []
          },
          "execution_count": 80
        }
      ]
    },
    {
      "cell_type": "code",
      "metadata": {
        "colab": {
          "base_uri": "https://localhost:8080/"
        },
        "id": "R5fLOJFRonV5",
        "outputId": "4c67a096-ab2c-4713-84e4-fd15256ec6c0"
      },
      "source": [
        "# 使用正则表达式匹配论文\r\n",
        "pattern = '[a-zA-Z]+://github[^\\s]*'\r\n",
        "data_with_code['code_flag'] = data_with_code['text'].str.findall(pattern).apply(len)"
      ],
      "execution_count": 81,
      "outputs": [
        {
          "output_type": "stream",
          "text": [
            "/usr/local/lib/python3.6/dist-packages/ipykernel_launcher.py:3: SettingWithCopyWarning: \n",
            "A value is trying to be set on a copy of a slice from a DataFrame.\n",
            "Try using .loc[row_indexer,col_indexer] = value instead\n",
            "\n",
            "See the caveats in the documentation: https://pandas.pydata.org/pandas-docs/stable/user_guide/indexing.html#returning-a-view-versus-a-copy\n",
            "  This is separate from the ipykernel package so we can avoid doing imports until\n"
          ],
          "name": "stderr"
        }
      ]
    },
    {
      "cell_type": "code",
      "metadata": {
        "colab": {
          "base_uri": "https://localhost:8080/",
          "height": 580
        },
        "id": "R-J5sJadpTag",
        "outputId": "3063daaf-6aa1-4e28-ea3e-2efe724f5764"
      },
      "source": [
        "data_with_code"
      ],
      "execution_count": 82,
      "outputs": [
        {
          "output_type": "execute_result",
          "data": {
            "text/html": [
              "<div>\n",
              "<style scoped>\n",
              "    .dataframe tbody tr th:only-of-type {\n",
              "        vertical-align: middle;\n",
              "    }\n",
              "\n",
              "    .dataframe tbody tr th {\n",
              "        vertical-align: top;\n",
              "    }\n",
              "\n",
              "    .dataframe thead th {\n",
              "        text-align: right;\n",
              "    }\n",
              "</style>\n",
              "<table border=\"1\" class=\"dataframe\">\n",
              "  <thead>\n",
              "    <tr style=\"text-align: right;\">\n",
              "      <th></th>\n",
              "      <th>id</th>\n",
              "      <th>abstract</th>\n",
              "      <th>categories</th>\n",
              "      <th>comments</th>\n",
              "      <th>pages</th>\n",
              "      <th>figures</th>\n",
              "      <th>text</th>\n",
              "      <th>code_flag</th>\n",
              "    </tr>\n",
              "  </thead>\n",
              "  <tbody>\n",
              "    <tr>\n",
              "      <th>253172</th>\n",
              "      <td>1103.5904</td>\n",
              "      <td>Solar tomography has progressed rapidly in r...</td>\n",
              "      <td>astro-ph</td>\n",
              "      <td>21 pages, 6 figures, 5 tables</td>\n",
              "      <td>21</td>\n",
              "      <td>6.0</td>\n",
              "      <td>Solar tomography has progressed rapidly in r...</td>\n",
              "      <td>0</td>\n",
              "    </tr>\n",
              "    <tr>\n",
              "      <th>254226</th>\n",
              "      <td>1104.0672</td>\n",
              "      <td>We describe a hybrid Fourier/direct space co...</td>\n",
              "      <td>astro-ph</td>\n",
              "      <td>10 pages, 6 figures. Submitted to Astronomy an...</td>\n",
              "      <td>10</td>\n",
              "      <td>6.0</td>\n",
              "      <td>We describe a hybrid Fourier/direct space co...</td>\n",
              "      <td>1</td>\n",
              "    </tr>\n",
              "    <tr>\n",
              "      <th>296182</th>\n",
              "      <td>1110.4876</td>\n",
              "      <td>REBOUND is a new multi-purpose N-body code w...</td>\n",
              "      <td>astro-ph</td>\n",
              "      <td>10 pages, 9 figures, accepted by A&amp;A, source c...</td>\n",
              "      <td>10</td>\n",
              "      <td>9.0</td>\n",
              "      <td>REBOUND is a new multi-purpose N-body code w...</td>\n",
              "      <td>1</td>\n",
              "    </tr>\n",
              "    <tr>\n",
              "      <th>300298</th>\n",
              "      <td>1111.2062</td>\n",
              "      <td>This article proposes a way to improve the p...</td>\n",
              "      <td>physics</td>\n",
              "      <td>10 pages, 7 figures. CODE: https://github.com/...</td>\n",
              "      <td>10</td>\n",
              "      <td>7.0</td>\n",
              "      <td>This article proposes a way to improve the p...</td>\n",
              "      <td>2</td>\n",
              "    </tr>\n",
              "    <tr>\n",
              "      <th>311500</th>\n",
              "      <td>1112.5945</td>\n",
              "      <td>The interaction of distinct units in physica...</td>\n",
              "      <td>physics</td>\n",
              "      <td>Preprint. 24 pages, 4 figures, 2 tables. Sourc...</td>\n",
              "      <td>24</td>\n",
              "      <td>4.0</td>\n",
              "      <td>The interaction of distinct units in physica...</td>\n",
              "      <td>1</td>\n",
              "    </tr>\n",
              "    <tr>\n",
              "      <th>...</th>\n",
              "      <td>...</td>\n",
              "      <td>...</td>\n",
              "      <td>...</td>\n",
              "      <td>...</td>\n",
              "      <td>...</td>\n",
              "      <td>...</td>\n",
              "      <td>...</td>\n",
              "      <td>...</td>\n",
              "    </tr>\n",
              "    <tr>\n",
              "      <th>1381266</th>\n",
              "      <td>2011.08518</td>\n",
              "      <td>Sequence-based place recognition methods for...</td>\n",
              "      <td>cs</td>\n",
              "      <td>9 pages, 6 figures, 2 tables</td>\n",
              "      <td>9</td>\n",
              "      <td>6.0</td>\n",
              "      <td>Sequence-based place recognition methods for...</td>\n",
              "      <td>0</td>\n",
              "    </tr>\n",
              "    <tr>\n",
              "      <th>1381310</th>\n",
              "      <td>2011.08562</td>\n",
              "      <td>The target identification in brain-computer ...</td>\n",
              "      <td>cs</td>\n",
              "      <td>12 pages, 6 figures</td>\n",
              "      <td>12</td>\n",
              "      <td>6.0</td>\n",
              "      <td>The target identification in brain-computer ...</td>\n",
              "      <td>1</td>\n",
              "    </tr>\n",
              "    <tr>\n",
              "      <th>1381509</th>\n",
              "      <td>2011.08761</td>\n",
              "      <td>In this paper, we study the problem of imagi...</td>\n",
              "      <td>eess</td>\n",
              "      <td>10 pages, 2 figures, to be published in STACOM...</td>\n",
              "      <td>10</td>\n",
              "      <td>2.0</td>\n",
              "      <td>In this paper, we study the problem of imagi...</td>\n",
              "      <td>0</td>\n",
              "    </tr>\n",
              "    <tr>\n",
              "      <th>1381606</th>\n",
              "      <td>2011.08858</td>\n",
              "      <td>We derive a simple prescription for includin...</td>\n",
              "      <td>astro-ph</td>\n",
              "      <td>14 pages; 6 figures; 3 appendices</td>\n",
              "      <td>14</td>\n",
              "      <td>6.0</td>\n",
              "      <td>We derive a simple prescription for includin...</td>\n",
              "      <td>1</td>\n",
              "    </tr>\n",
              "    <tr>\n",
              "      <th>1382418</th>\n",
              "      <td>2011.09670</td>\n",
              "      <td>Rotation detection serves as a fundamental b...</td>\n",
              "      <td>cs</td>\n",
              "      <td>12 pages, 6 figures, 8 tables</td>\n",
              "      <td>12</td>\n",
              "      <td>6.0</td>\n",
              "      <td>Rotation detection serves as a fundamental b...</td>\n",
              "      <td>2</td>\n",
              "    </tr>\n",
              "  </tbody>\n",
              "</table>\n",
              "<p>2175 rows × 8 columns</p>\n",
              "</div>"
            ],
            "text/plain": [
              "                 id  ... code_flag\n",
              "253172    1103.5904  ...         0\n",
              "254226    1104.0672  ...         1\n",
              "296182    1110.4876  ...         1\n",
              "300298    1111.2062  ...         2\n",
              "311500    1112.5945  ...         1\n",
              "...             ...  ...       ...\n",
              "1381266  2011.08518  ...         0\n",
              "1381310  2011.08562  ...         1\n",
              "1381509  2011.08761  ...         0\n",
              "1381606  2011.08858  ...         1\n",
              "1382418  2011.09670  ...         2\n",
              "\n",
              "[2175 rows x 8 columns]"
            ]
          },
          "metadata": {
            "tags": []
          },
          "execution_count": 82
        }
      ]
    },
    {
      "cell_type": "code",
      "metadata": {
        "colab": {
          "base_uri": "https://localhost:8080/",
          "height": 445
        },
        "id": "XlgqCisysYMC",
        "outputId": "1c045e5d-00ed-4641-d223-1c206158c0f5"
      },
      "source": [
        "data_with_code.loc[data_with_code['code_flag'] > 0]  ## 有的flag是大于1的，就是说\r\n",
        "plt.figure(figsize=(12, 6))\r\n",
        "data_with_code.groupby(['categories'])['code_flag'].count().plot(kind='bar')"
      ],
      "execution_count": 83,
      "outputs": [
        {
          "output_type": "execute_result",
          "data": {
            "text/plain": [
              "<matplotlib.axes._subplots.AxesSubplot at 0x7f6323079c88>"
            ]
          },
          "metadata": {
            "tags": []
          },
          "execution_count": 83
        },
        {
          "output_type": "display_data",
          "data": {
            "image/png": "[encoded data removed]",
            "text/plain": [
              "<Figure size 864x432 with 1 Axes>"
            ]
          },
          "metadata": {
            "tags": [],
            "needs_background": "light"
          }
        }
      ]
    },
    {
      "cell_type": "code",
      "metadata": {
        "colab": {
          "base_uri": "https://localhost:8080/",
          "height": 406
        },
        "id": "gVfuP6IauV-5",
        "outputId": "7037b2be-3c04-4407-f791-7d0ed255f075"
      },
      "source": [
        "plt.figure(figsize=(12, 6))\r\n",
        "data_codes = data_with_code.groupby(['categories'])['code_flag'].count().reset_index()\r\n",
        "sns.barplot(x =data_codes['categories'],y= data_codes['code_flag'])\r\n"
      ],
      "execution_count": 92,
      "outputs": [
        {
          "output_type": "execute_result",
          "data": {
            "text/plain": [
              "<matplotlib.axes._subplots.AxesSubplot at 0x7f63230d0b70>"
            ]
          },
          "metadata": {
            "tags": []
          },
          "execution_count": 92
        },
        {
          "output_type": "display_data",
          "data": {
            "image/png": "[encoded data removed]",
            "text/plain": [
              "<Figure size 864x432 with 1 Axes>"
            ]
          },
          "metadata": {
            "tags": [],
            "needs_background": "light"
          }
        }
      ]
    }
  ]
}