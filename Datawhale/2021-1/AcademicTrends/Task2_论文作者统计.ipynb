{
  "nbformat": 4,
  "nbformat_minor": 0,
  "metadata": {
    "colab": {
      "name": "Task2 论文作者统计.ipynb",
      "provenance": [],
      "authorship_tag": "ABX9TyNCEWHbmPZYdahkpcq4G/E4",
      "include_colab_link": true
    },
    "kernelspec": {
      "name": "python3",
      "display_name": "Python 3"
    }
  },
  "cells": [
    {
      "cell_type": "markdown",
      "metadata": {
        "id": "view-in-github",
        "colab_type": "text"
      },
      "source": [
        "<a href=\"https://colab.research.google.com/github/Allen123321/DEMO-DL/blob/master/Task2_%E8%AE%BA%E6%96%87%E4%BD%9C%E8%80%85%E7%BB%9F%E8%AE%A1.ipynb\" target=\"_parent\"><img src=\"https://colab.research.google.com/assets/colab-badge.svg\" alt=\"Open In Colab\"/></a>"
      ]
    },
    {
      "cell_type": "markdown",
      "metadata": {
        "id": "bqofSljbPXGR"
      },
      "source": [
        "##  任务说明\r\n",
        "任务：论文作者统计，统计所有论文作者出现频率Top10的姓名；<br>\r\n",
        "任务内容：论文作者的统计、使用 Pandas 读取数据并使用字符串操作；<br>\r\n",
        "任务目的：学习 Pandas 的字符串操作；<br>\r\n",
        "[github链接(原教程):](https://github.com/datawhalechina/team-learning-data-mining/blob/master/AcademicTrends/Task2%20%E8%AE%BA%E6%96%87%E4%BD%9C%E8%80%85%E7%BB%9F%E8%AE%A1.ipyn)\r\n",
        "\r\n",
        "**主要工作**:<br>\r\n",
        "+ 1.统计并可视化了2019年以来CV领域发表论文数量top10的作者\r\n",
        "+ 2.统计并可视化了2019年以来CV领域发表论文数量top10的作者姓氏\r\n",
        "+ 3.统计并可视化了2019年以来CV领域发表论文数量top10的作者姓氏首字母\r\n",
        "+ 4.统计并可视化了2015年以来CV领域发表论文数量top10的第一作者\r\n",
        "+ 5.统计并可视化了2015年以来CV领域发表论文数量top10的第一作者姓氏"
      ]
    },
    {
      "cell_type": "markdown",
      "metadata": {
        "id": "gevUSMhAQfVX"
      },
      "source": [
        "## 具体代码实现\r\n",
        "\r\n",
        "\r\n",
        "\r\n"
      ]
    },
    {
      "cell_type": "markdown",
      "metadata": {
        "id": "TRBFJ5JRa2jI"
      },
      "source": [
        "载入数据"
      ]
    },
    {
      "cell_type": "code",
      "metadata": {
        "id": "qdXwlIJNRj0U",
        "colab": {
          "base_uri": "https://localhost:8080/"
        },
        "outputId": "c4ee28b5-ab5b-48a4-e545-d0a8853eedde"
      },
      "source": [
        "from google.colab import drive\r\n",
        "drive.mount('/content/gdrive/') #挂载google drive 加载数据集"
      ],
      "execution_count": 1,
      "outputs": [
        {
          "output_type": "stream",
          "text": [
            "Mounted at /content/gdrive/\n"
          ],
          "name": "stdout"
        }
      ]
    },
    {
      "cell_type": "code",
      "metadata": {
        "id": "_3f-Sn6_SUin"
      },
      "source": [
        "!cp -f  /content/gdrive/MyDrive/Colab\\ Notebooks/arxiv.zip  /content/ "
      ],
      "execution_count": 2,
      "outputs": []
    },
    {
      "cell_type": "code",
      "metadata": {
        "colab": {
          "base_uri": "https://localhost:8080/"
        },
        "id": "7ZuyGRHaS1T9",
        "outputId": "c44853cc-4635-49eb-f199-ef77df3da2e9"
      },
      "source": [
        "!unzip -o /content/arxiv.zip #解压"
      ],
      "execution_count": 3,
      "outputs": [
        {
          "output_type": "stream",
          "text": [
            "Archive:  /content/arxiv.zip\n",
            "  inflating: arxiv-metadata-oai-snapshot.json  \n"
          ],
          "name": "stdout"
        }
      ]
    },
    {
      "cell_type": "code",
      "metadata": {
        "id": "LTh2sjC3OtXL"
      },
      "source": [
        "# 导入所需的package\r\n",
        "import seaborn as sns #用于画图\r\n",
        "from bs4 import BeautifulSoup #用于爬取arxiv的数据\r\n",
        "import re #用于正则表达式，匹配字符串的模式\r\n",
        "import requests #用于网络连接，发送网络请求，使用域名获取对应信息\r\n",
        "import json #读取数据，我们的数据为json格式的\r\n",
        "import pandas as pd #数据处理，数据分析\r\n",
        "import matplotlib.pyplot as plt #画图工具"
      ],
      "execution_count": 1,
      "outputs": []
    },
    {
      "cell_type": "markdown",
      "metadata": {
        "id": "2DS059ibe6go"
      },
      "source": [
        "## 读取所有数据"
      ]
    },
    {
      "cell_type": "code",
      "metadata": {
        "id": "T8CAKapcTbGR"
      },
      "source": [
        "#数据读取\r\n",
        "def readArxivFile(path, columns=['id', 'submitter', 'authors', 'title', 'comments', 'journal-ref', 'doi',\r\n",
        "                                 'report-no', 'categories', 'license', 'abstract', 'versions',\r\n",
        "                                 'update_date', 'authors_parsed'], count=None):\r\n",
        "  data= []\r\n",
        "  with open(path,'r') as f:\r\n",
        "    for idx,line in enumerate(f):\r\n",
        "      if idx == count:\r\n",
        "        break\r\n",
        "\r\n",
        "      d = json.loads(line)\r\n",
        "      d = {col:d[col] for col in columns}  \r\n",
        "      data.append(d)\r\n",
        "\r\n",
        "  data = pd.DataFrame(data)\r\n",
        "\r\n",
        "  return data\r\n",
        "\r\n",
        "data = readArxivFile('arxiv-metadata-oai-snapshot.json',['id', 'authors', 'categories', 'update_date','authors_parsed'])\r\n",
        "\r\n",
        "      "
      ],
      "execution_count": 2,
      "outputs": []
    },
    {
      "cell_type": "code",
      "metadata": {
        "colab": {
          "base_uri": "https://localhost:8080/",
          "height": 198
        },
        "id": "tUYBDiuthKsI",
        "outputId": "4d54d3ce-621c-479b-c26f-12b1fb7bdcc5"
      },
      "source": [
        "data[\"year\"] = pd.to_datetime(data[\"update_date\"]).dt.year #将update_date从例如2019-02-20的str变为datetime格式，并提取处year\r\n",
        "del data[\"update_date\"] #删除 update_date特征，\r\n",
        "data3 = data[data[\"year\"] >= 2019] #找出 year 中2019年以后的数据，并将其他数据删除\r\n",
        "data3.head() #查看结果"
      ],
      "execution_count": 3,
      "outputs": [
        {
          "output_type": "execute_result",
          "data": {
            "text/html": [
              "<div>\n",
              "<style scoped>\n",
              "    .dataframe tbody tr th:only-of-type {\n",
              "        vertical-align: middle;\n",
              "    }\n",
              "\n",
              "    .dataframe tbody tr th {\n",
              "        vertical-align: top;\n",
              "    }\n",
              "\n",
              "    .dataframe thead th {\n",
              "        text-align: right;\n",
              "    }\n",
              "</style>\n",
              "<table border=\"1\" class=\"dataframe\">\n",
              "  <thead>\n",
              "    <tr style=\"text-align: right;\">\n",
              "      <th></th>\n",
              "      <th>id</th>\n",
              "      <th>authors</th>\n",
              "      <th>categories</th>\n",
              "      <th>authors_parsed</th>\n",
              "      <th>year</th>\n",
              "    </tr>\n",
              "  </thead>\n",
              "  <tbody>\n",
              "    <tr>\n",
              "      <th>296</th>\n",
              "      <td>0704.0297</td>\n",
              "      <td>Sung-Chul Yoon, Philipp Podsiadlowski and Step...</td>\n",
              "      <td>astro-ph</td>\n",
              "      <td>[[Yoon, Sung-Chul, ], [Podsiadlowski, Philipp,...</td>\n",
              "      <td>2019</td>\n",
              "    </tr>\n",
              "    <tr>\n",
              "      <th>341</th>\n",
              "      <td>0704.0342</td>\n",
              "      <td>B. Dugmore and PP. Ntumba</td>\n",
              "      <td>math.AT</td>\n",
              "      <td>[[Dugmore, B., ], [Ntumba, PP., ]]</td>\n",
              "      <td>2019</td>\n",
              "    </tr>\n",
              "    <tr>\n",
              "      <th>359</th>\n",
              "      <td>0704.0360</td>\n",
              "      <td>T.V. Zaqarashvili and K Murawski</td>\n",
              "      <td>astro-ph</td>\n",
              "      <td>[[Zaqarashvili, T. V., ], [Murawski, K, ]]</td>\n",
              "      <td>2019</td>\n",
              "    </tr>\n",
              "    <tr>\n",
              "      <th>524</th>\n",
              "      <td>0704.0525</td>\n",
              "      <td>Sezgin Aygun, Ismail Tarhan, Husnu Baysal</td>\n",
              "      <td>gr-qc</td>\n",
              "      <td>[[Aygun, Sezgin, ], [Tarhan, Ismail, ], [Baysa...</td>\n",
              "      <td>2019</td>\n",
              "    </tr>\n",
              "    <tr>\n",
              "      <th>534</th>\n",
              "      <td>0704.0535</td>\n",
              "      <td>Antonio Pipino (1,3), Thomas H. Puzia (2,4), a...</td>\n",
              "      <td>astro-ph</td>\n",
              "      <td>[[Pipino, Antonio, ], [Puzia, Thomas H., ], [M...</td>\n",
              "      <td>2019</td>\n",
              "    </tr>\n",
              "  </tbody>\n",
              "</table>\n",
              "</div>"
            ],
            "text/plain": [
              "            id  ...  year\n",
              "296  0704.0297  ...  2019\n",
              "341  0704.0342  ...  2019\n",
              "359  0704.0360  ...  2019\n",
              "524  0704.0525  ...  2019\n",
              "534  0704.0535  ...  2019\n",
              "\n",
              "[5 rows x 5 columns]"
            ]
          },
          "metadata": {
            "tags": []
          },
          "execution_count": 3
        }
      ]
    },
    {
      "cell_type": "markdown",
      "metadata": {
        "id": "jKVoVrNVchJ4"
      },
      "source": [
        "##筛选cv领域2019年之后的论文"
      ]
    },
    {
      "cell_type": "code",
      "metadata": {
        "colab": {
          "base_uri": "https://localhost:8080/",
          "height": 407
        },
        "id": "rLzMDlG6W1Cx",
        "outputId": "a24d3c95-e01f-4c0e-fab2-037f8566b479"
      },
      "source": [
        "data2 = data[data['categories'].apply(lambda x : 'cs.CV' in x)] # 选择类别为cs.CV下面的论文\r\n",
        "data2 = data2[data2[\"year\"] >= 2019]\r\n",
        "data2"
      ],
      "execution_count": 23,
      "outputs": [
        {
          "output_type": "execute_result",
          "data": {
            "text/html": [
              "<div>\n",
              "<style scoped>\n",
              "    .dataframe tbody tr th:only-of-type {\n",
              "        vertical-align: middle;\n",
              "    }\n",
              "\n",
              "    .dataframe tbody tr th {\n",
              "        vertical-align: top;\n",
              "    }\n",
              "\n",
              "    .dataframe thead th {\n",
              "        text-align: right;\n",
              "    }\n",
              "</style>\n",
              "<table border=\"1\" class=\"dataframe\">\n",
              "  <thead>\n",
              "    <tr style=\"text-align: right;\">\n",
              "      <th></th>\n",
              "      <th>id</th>\n",
              "      <th>authors</th>\n",
              "      <th>categories</th>\n",
              "      <th>authors_parsed</th>\n",
              "      <th>year</th>\n",
              "    </tr>\n",
              "  </thead>\n",
              "  <tbody>\n",
              "    <tr>\n",
              "      <th>48709</th>\n",
              "      <td>0802.1412</td>\n",
              "      <td>Mahesh Pal</td>\n",
              "      <td>cs.NE cs.CV</td>\n",
              "      <td>[[Pal, Mahesh, ]]</td>\n",
              "      <td>2019</td>\n",
              "    </tr>\n",
              "    <tr>\n",
              "      <th>122831</th>\n",
              "      <td>0905.1235</td>\n",
              "      <td>Serguei A. Mokhov, Stephen Sinclair, Ian Cl\\'e...</td>\n",
              "      <td>cs.SD cs.CL cs.CV cs.MM cs.NE</td>\n",
              "      <td>[[Mokhov, Serguei A., , for the MARF R&amp;D Group...</td>\n",
              "      <td>2019</td>\n",
              "    </tr>\n",
              "    <tr>\n",
              "      <th>274867</th>\n",
              "      <td>1107.2875</td>\n",
              "      <td>Chris Aholt, Bernd Sturmfels, Rekha Thomas</td>\n",
              "      <td>math.AG cs.CV</td>\n",
              "      <td>[[Aholt, Chris, ], [Sturmfels, Bernd, ], [Thom...</td>\n",
              "      <td>2019</td>\n",
              "    </tr>\n",
              "    <tr>\n",
              "      <th>288218</th>\n",
              "      <td>1109.3850</td>\n",
              "      <td>Dae-Woong Lee</td>\n",
              "      <td>cs.CV</td>\n",
              "      <td>[[Lee, Dae-Woong, ]]</td>\n",
              "      <td>2020</td>\n",
              "    </tr>\n",
              "    <tr>\n",
              "      <th>292514</th>\n",
              "      <td>1110.1208</td>\n",
              "      <td>Aman Chadha, Divya Jyoti, M. Mani Roja</td>\n",
              "      <td>cs.CV cs.CR cs.IT cs.MM eess.IV math.IT</td>\n",
              "      <td>[[Chadha, Aman, ], [Jyoti, Divya, ], [Roja, M....</td>\n",
              "      <td>2020</td>\n",
              "    </tr>\n",
              "    <tr>\n",
              "      <th>...</th>\n",
              "      <td>...</td>\n",
              "      <td>...</td>\n",
              "      <td>...</td>\n",
              "      <td>...</td>\n",
              "      <td>...</td>\n",
              "    </tr>\n",
              "    <tr>\n",
              "      <th>1382755</th>\n",
              "      <td>2011.10007</td>\n",
              "      <td>Yikai Li, Jiayuan Mao, Xiuming Zhang, Bill Fre...</td>\n",
              "      <td>cs.CV cs.LG stat.ML</td>\n",
              "      <td>[[Li, Yikai, ], [Mao, Jiayuan, ], [Zhang, Xium...</td>\n",
              "      <td>2020</td>\n",
              "    </tr>\n",
              "    <tr>\n",
              "      <th>1382776</th>\n",
              "      <td>2011.10028</td>\n",
              "      <td>Egor Ershov, Alex Savchik, Illya Semenkov, Nik...</td>\n",
              "      <td>cs.CV</td>\n",
              "      <td>[[Ershov, Egor, ], [Savchik, Alex, ], [Semenko...</td>\n",
              "      <td>2020</td>\n",
              "    </tr>\n",
              "    <tr>\n",
              "      <th>1382781</th>\n",
              "      <td>2011.10033</td>\n",
              "      <td>Xinge Zhu, Hui Zhou, Tai Wang, Fangzhou Hong, ...</td>\n",
              "      <td>cs.CV</td>\n",
              "      <td>[[Zhu, Xinge, ], [Zhou, Hui, ], [Wang, Tai, ],...</td>\n",
              "      <td>2020</td>\n",
              "    </tr>\n",
              "    <tr>\n",
              "      <th>1382787</th>\n",
              "      <td>2011.10039</td>\n",
              "      <td>Songwei Ge, Vedanuj Goswami, C. Lawrence Zitni...</td>\n",
              "      <td>cs.CV cs.AI</td>\n",
              "      <td>[[Ge, Songwei, ], [Goswami, Vedanuj, ], [Zitni...</td>\n",
              "      <td>2020</td>\n",
              "    </tr>\n",
              "    <tr>\n",
              "      <th>1382791</th>\n",
              "      <td>2011.10043</td>\n",
              "      <td>Zhenda Xie and Yutong Lin and Zheng Zhang and ...</td>\n",
              "      <td>cs.CV cs.LG</td>\n",
              "      <td>[[Xie, Zhenda, ], [Lin, Yutong, ], [Zhang, Zhe...</td>\n",
              "      <td>2020</td>\n",
              "    </tr>\n",
              "  </tbody>\n",
              "</table>\n",
              "<p>27481 rows × 5 columns</p>\n",
              "</div>"
            ],
            "text/plain": [
              "                 id  ...  year\n",
              "48709     0802.1412  ...  2019\n",
              "122831    0905.1235  ...  2019\n",
              "274867    1107.2875  ...  2019\n",
              "288218    1109.3850  ...  2020\n",
              "292514    1110.1208  ...  2020\n",
              "...             ...  ...   ...\n",
              "1382755  2011.10007  ...  2020\n",
              "1382776  2011.10028  ...  2020\n",
              "1382781  2011.10033  ...  2020\n",
              "1382787  2011.10039  ...  2020\n",
              "1382791  2011.10043  ...  2020\n",
              "\n",
              "[27481 rows x 5 columns]"
            ]
          },
          "metadata": {
            "tags": []
          },
          "execution_count": 23
        }
      ]
    },
    {
      "cell_type": "code",
      "metadata": {
        "colab": {
          "base_uri": "https://localhost:8080/"
        },
        "id": "JqWrwf65b94U",
        "outputId": "dd9388ec-e9c5-4d7a-ffc0-8f0e21ddc969"
      },
      "source": [
        "data2['authors_parsed'].head()"
      ],
      "execution_count": 24,
      "outputs": [
        {
          "output_type": "execute_result",
          "data": {
            "text/plain": [
              "48709                                     [[Pal, Mahesh, ]]\n",
              "122831    [[Mokhov, Serguei A., , for the MARF R&D Group...\n",
              "274867    [[Aholt, Chris, ], [Sturmfels, Bernd, ], [Thom...\n",
              "288218                                 [[Lee, Dae-Woong, ]]\n",
              "292514    [[Chadha, Aman, ], [Jyoti, Divya, ], [Roja, M....\n",
              "Name: authors_parsed, dtype: object"
            ]
          },
          "metadata": {
            "tags": []
          },
          "execution_count": 24
        }
      ]
    },
    {
      "cell_type": "markdown",
      "metadata": {
        "id": "QYOjCD_Ua8wj"
      },
      "source": [
        "## 数据预处理步骤\r\n",
        "在原始arxiv数据集中论文作者authors字段是一个字符串格式，其中每个作者使用逗号进行分隔分，所以我们我们首先需要进行预处理：\r\n",
        "+ 使用逗号对作者进行切分；\r\n",
        "+ 剔除单个作者中非常规的字符；\r\n",
        "\r\n",
        "\r\n",
        "```\r\n",
        "C. Bal\\\\'azs, E. L. Berger, P. M. Nadolsky, C.-P. Yuan\r\n",
        "\r\n",
        "# 切分为，其中\\\\为转义符\r\n",
        "\r\n",
        "C. Ba'lazs\r\n",
        "E. L. Berger\r\n",
        "P. M. Nadolsky\r\n",
        "C.-P. Yuan\r\n",
        "```\r\n",
        "\r\n",
        "原始数据集中authors_parsed字段已经帮我们处理好了作者信息，可以直接使用该字段完成后续统计。\r\n"
      ]
    },
    {
      "cell_type": "markdown",
      "metadata": {
        "id": "wMk8Sc_EW1c_"
      },
      "source": [
        "## 数据统计\r\n",
        "接下来我们将完成以下统计操作：\r\n",
        "\r\n",
        "统计所有作者姓名出现频率的Top10；<br>\r\n",
        "统计所有作者姓（姓名最后一个单词）的出现频率的Top10；<br>\r\n",
        "统计所有作者姓第一个字符的频率；<br>"
      ]
    },
    {
      "cell_type": "markdown",
      "metadata": {
        "id": "lC_tfc0jYoNx"
      },
      "source": [
        "## 使用sum 拼接list\r\n",
        "\r\n",
        "\r\n",
        "```\r\n",
        "\r\n",
        "a = [[1], [2], [3], [4], [5]] \r\n",
        " \r\n",
        "sum(a, [])  \r\n",
        "# [1, 2, 3, 4, 5]\r\n",
        "\r\n",
        ">>> a = [[1,2],[3],[4,5,6,7],[8]]\r\n",
        ">>> sum(a,[])\r\n",
        "[1, 2, 3, 4, 5, 6, 7, 8]\r\n",
        "```\r\n",
        "\r\n"
      ]
    },
    {
      "cell_type": "code",
      "metadata": {
        "id": "rXzH6nnGX2wf"
      },
      "source": [
        "# 拼接所有作者\r\n",
        "\r\n",
        "all_authors = sum(data2['authors_parsed'], [])"
      ],
      "execution_count": 25,
      "outputs": []
    },
    {
      "cell_type": "markdown",
      "metadata": {
        "id": "_2lhg8v4ZcM4"
      },
      "source": [
        "处理完成后all_authors变成了所有一个list，其中每个元素为一个作者的姓名。\r\n",
        "\r\n",
        "## 完成姓名频率的统计。"
      ]
    },
    {
      "cell_type": "code",
      "metadata": {
        "id": "Q0JLbN8lY6SM"
      },
      "source": [
        "# 拼接所有的作者\r\n",
        "authors_names = [' '.join(x) for x in all_authors]\r\n",
        "print(authors_names)"
      ],
      "execution_count": null,
      "outputs": []
    },
    {
      "cell_type": "code",
      "metadata": {
        "colab": {
          "base_uri": "https://localhost:8080/"
        },
        "id": "l9E0c7M-bRj8",
        "outputId": "3499cb9a-5683-47ca-e952-5b0244b98c4e"
      },
      "source": [
        "authors_names = pd.DataFrame(authors_names)\r\n",
        "print(authors_names)"
      ],
      "execution_count": 27,
      "outputs": [
        {
          "output_type": "stream",
          "text": [
            "                                                       0\n",
            "0                                            Pal Mahesh \n",
            "1              Mokhov Serguei A.  for the MARF R&D Group\n",
            "2               Sinclair Stephen  for the MARF R&D Group\n",
            "3                    Clément Ian  for the MARF R&D Group\n",
            "4       Nicolacopoulos Dimitrios  for the MARF R&D Group\n",
            "...                                                  ...\n",
            "123714                                       Lin Yutong \n",
            "123715                                      Zhang Zheng \n",
            "123716                                          Cao Yue \n",
            "123717                                      Lin Stephen \n",
            "123718                                           Hu Han \n",
            "\n",
            "[123719 rows x 1 columns]\n"
          ],
          "name": "stdout"
        }
      ]
    },
    {
      "cell_type": "markdown",
      "metadata": {
        "id": "eRduqI-IpjIQ"
      },
      "source": [
        "## 自2019年以来CV领域发表论文数量前十名作者"
      ]
    },
    {
      "cell_type": "code",
      "metadata": {
        "colab": {
          "base_uri": "https://localhost:8080/",
          "height": 422
        },
        "id": "TkWds96fbgeX",
        "outputId": "2970f1f7-3e55-4e8b-8052-239827e25192"
      },
      "source": [
        "# 根据作者频率绘制直方图\r\n",
        "plt.figure(figsize=(10, 6))\r\n",
        "authors_names[0].value_counts().head(10).plot(kind='barh')\r\n",
        "# 修改图配置\r\n",
        "names = authors_names[0].value_counts().index.values[:10]\r\n",
        "_ = plt.yticks(range(0, len(names)), names)\r\n",
        "plt.ylabel('Author')\r\n",
        "plt.xlabel('Count')\r\n",
        "plt.title('Top 10 authors in the number of papers in the CV field since 2019')"
      ],
      "execution_count": 29,
      "outputs": [
        {
          "output_type": "execute_result",
          "data": {
            "text/plain": [
              "Text(0.5, 1.0, 'Top 10 authors in the number of papers in the CV field since 2019')"
            ]
          },
          "metadata": {
            "tags": []
          },
          "execution_count": 29
        },
        {
          "output_type": "display_data",
          "data": {
            "image/png": "[encoded data removed]",
            "text/plain": [
              "<Figure size 720x432 with 1 Axes>"
            ]
          },
          "metadata": {
            "tags": [],
            "needs_background": "light"
          }
        }
      ]
    },
    {
      "cell_type": "markdown",
      "metadata": {
        "id": "HySDl2-bcnj7"
      },
      "source": [
        "接下来统计姓名姓，也就是authors_parsed字段中作者第一个单词："
      ]
    },
    {
      "cell_type": "code",
      "metadata": {
        "colab": {
          "base_uri": "https://localhost:8080/"
        },
        "id": "flZrUavRcm-H",
        "outputId": "8dd3b5a7-1471-4137-f217-07a276452f30"
      },
      "source": [
        "authors_lastnames = [x[0] for x in all_authors]\r\n",
        "authors_lastnames = pd.DataFrame(authors_lastnames)\r\n",
        "print(authors_lastnames)"
      ],
      "execution_count": 30,
      "outputs": [
        {
          "output_type": "stream",
          "text": [
            "                     0\n",
            "0                  Pal\n",
            "1               Mokhov\n",
            "2             Sinclair\n",
            "3              Clément\n",
            "4       Nicolacopoulos\n",
            "...                ...\n",
            "123714             Lin\n",
            "123715           Zhang\n",
            "123716             Cao\n",
            "123717             Lin\n",
            "123718              Hu\n",
            "\n",
            "[123719 rows x 1 columns]\n"
          ],
          "name": "stdout"
        }
      ]
    },
    {
      "cell_type": "markdown",
      "metadata": {
        "id": "_sCH4nT6p6hw"
      },
      "source": [
        "## 自2019年以来CV领域发表论文数量前十的姓氏"
      ]
    },
    {
      "cell_type": "code",
      "metadata": {
        "colab": {
          "base_uri": "https://localhost:8080/",
          "height": 422
        },
        "id": "gKEcIKpAc2FO",
        "outputId": "7c4acd6c-e2b9-4b91-8e81-ed0553dd1353"
      },
      "source": [
        "plt.figure(figsize=(10, 6))\r\n",
        "authors_lastnames[0].value_counts().head(10).plot(kind='barh')\r\n",
        "\r\n",
        "names = authors_lastnames[0].value_counts().index.values[:10]\r\n",
        "_ = plt.yticks(range(0, len(names)), names)\r\n",
        "plt.ylabel('Author\\'s last name')\r\n",
        "plt.xlabel('Count')\r\n",
        "plt.title('The top 10 last names in the number of papers in the CV field since 2019')"
      ],
      "execution_count": 75,
      "outputs": [
        {
          "output_type": "execute_result",
          "data": {
            "text/plain": [
              "Text(0.5, 1.0, 'The top 10 last names in the number of papers in the CV field since 2019')"
            ]
          },
          "metadata": {
            "tags": []
          },
          "execution_count": 75
        },
        {
          "output_type": "display_data",
          "data": {
            "image/png": "[encoded data removed]",
            "text/plain": [
              "<Figure size 720x432 with 1 Axes>"
            ]
          },
          "metadata": {
            "tags": [],
            "needs_background": "light"
          }
        }
      ]
    },
    {
      "cell_type": "markdown",
      "metadata": {
        "id": "KSJmDI8udmYs"
      },
      "source": [
        "## 统计所有作者姓第一个字符的频率  2019以来"
      ]
    },
    {
      "cell_type": "code",
      "metadata": {
        "id": "Q-aq5OWsdeRW"
      },
      "source": [
        "authors_first_letter = [x[0][0:1] for x in all_authors]\r\n",
        "print(authors_first_letter)\r\n",
        "authors_first_letter = pd.DataFrame(authors_first_letter)\r\n",
        "print(authors_first_letter)"
      ],
      "execution_count": null,
      "outputs": []
    },
    {
      "cell_type": "code",
      "metadata": {
        "colab": {
          "base_uri": "https://localhost:8080/",
          "height": 406
        },
        "id": "CzRV79OgeX-Z",
        "outputId": "ab7d9514-ffa8-4d45-fbfb-5637897601e9"
      },
      "source": [
        "plt.figure(figsize=(10, 6))\r\n",
        "authors_first_letter[0].value_counts().head(10).plot(kind='barh')\r\n",
        "\r\n",
        "first_letter = authors_first_letter[0].value_counts().index.values[:10]\r\n",
        "_ = plt.yticks(range(0, len(first_letter)), first_letter)\r\n",
        "plt.ylabel('Author\\'s first letter')\r\n",
        "plt.xlabel('Count')\r\n"
      ],
      "execution_count": 34,
      "outputs": [
        {
          "output_type": "execute_result",
          "data": {
            "text/plain": [
              "Text(0.5, 0, 'Count')"
            ]
          },
          "metadata": {
            "tags": []
          },
          "execution_count": 34
        },
        {
          "output_type": "display_data",
          "data": {
            "image/png": "[encoded data removed]",
            "text/plain": [
              "<Figure size 720x432 with 1 Axes>"
            ]
          },
          "metadata": {
            "tags": [],
            "needs_background": "light"
          }
        }
      ]
    },
    {
      "cell_type": "markdown",
      "metadata": {
        "id": "O_QYBZgirmCn"
      },
      "source": [
        "## 统计2015年以来第一作者的信息"
      ]
    },
    {
      "cell_type": "code",
      "metadata": {
        "colab": {
          "base_uri": "https://localhost:8080/",
          "height": 198
        },
        "id": "Xu9Zq6rjqkTp",
        "outputId": "dd588807-31b4-4b7f-e23c-f7a9af7eacce"
      },
      "source": [
        "data3 = data[data[\"year\"] >= 2015] #找出 year 中2015年以后的数据，\r\n",
        "data3 = data3[data3['categories'].apply(lambda x : 'cs.CV' in x)]\r\n",
        "data3.head() #查看结果"
      ],
      "execution_count": 37,
      "outputs": [
        {
          "output_type": "execute_result",
          "data": {
            "text/html": [
              "<div>\n",
              "<style scoped>\n",
              "    .dataframe tbody tr th:only-of-type {\n",
              "        vertical-align: middle;\n",
              "    }\n",
              "\n",
              "    .dataframe tbody tr th {\n",
              "        vertical-align: top;\n",
              "    }\n",
              "\n",
              "    .dataframe thead th {\n",
              "        text-align: right;\n",
              "    }\n",
              "</style>\n",
              "<table border=\"1\" class=\"dataframe\">\n",
              "  <thead>\n",
              "    <tr style=\"text-align: right;\">\n",
              "      <th></th>\n",
              "      <th>id</th>\n",
              "      <th>authors</th>\n",
              "      <th>categories</th>\n",
              "      <th>authors_parsed</th>\n",
              "      <th>year</th>\n",
              "    </tr>\n",
              "  </thead>\n",
              "  <tbody>\n",
              "    <tr>\n",
              "      <th>7671</th>\n",
              "      <td>0705.3669</td>\n",
              "      <td>Donald A. Sofge</td>\n",
              "      <td>cs.NE cs.CV cs.SD</td>\n",
              "      <td>[[Sofge, Donald A., ]]</td>\n",
              "      <td>2016</td>\n",
              "    </tr>\n",
              "    <tr>\n",
              "      <th>8656</th>\n",
              "      <td>0705.4654</td>\n",
              "      <td>Peter F. Lichtenwalner and Donald A. Sofge</td>\n",
              "      <td>cs.SD cs.CV</td>\n",
              "      <td>[[Lichtenwalner, Peter F., ], [Sofge, Donald A...</td>\n",
              "      <td>2015</td>\n",
              "    </tr>\n",
              "    <tr>\n",
              "      <th>27683</th>\n",
              "      <td>0710.0736</td>\n",
              "      <td>David A Kay (Oxford University Computational L...</td>\n",
              "      <td>cs.CV cs.NA</td>\n",
              "      <td>[[Kay, David A, , Oxford University Computatio...</td>\n",
              "      <td>2018</td>\n",
              "    </tr>\n",
              "    <tr>\n",
              "      <th>33676</th>\n",
              "      <td>0711.0784</td>\n",
              "      <td>Philip B. Alipour</td>\n",
              "      <td>cs.CV cs.CE</td>\n",
              "      <td>[[Alipour, Philip B., ]]</td>\n",
              "      <td>2016</td>\n",
              "    </tr>\n",
              "    <tr>\n",
              "      <th>40791</th>\n",
              "      <td>0712.2870</td>\n",
              "      <td>Hari Palaiyanur, Cheng Chang and Anant Sahai</td>\n",
              "      <td>cs.IT cs.CV math.IT</td>\n",
              "      <td>[[Palaiyanur, Hari, ], [Chang, Cheng, ], [Saha...</td>\n",
              "      <td>2016</td>\n",
              "    </tr>\n",
              "  </tbody>\n",
              "</table>\n",
              "</div>"
            ],
            "text/plain": [
              "              id  ...  year\n",
              "7671   0705.3669  ...  2016\n",
              "8656   0705.4654  ...  2015\n",
              "27683  0710.0736  ...  2018\n",
              "33676  0711.0784  ...  2016\n",
              "40791  0712.2870  ...  2016\n",
              "\n",
              "[5 rows x 5 columns]"
            ]
          },
          "metadata": {
            "tags": []
          },
          "execution_count": 37
        }
      ]
    },
    {
      "cell_type": "markdown",
      "metadata": {
        "id": "vgOOd2EQuL2Y"
      },
      "source": [
        "### 提取2015年以来第一作者姓名"
      ]
    },
    {
      "cell_type": "code",
      "metadata": {
        "colab": {
          "base_uri": "https://localhost:8080/"
        },
        "id": "qOvlbiNwsfei",
        "outputId": "4aa2eb29-cabc-4d35-cb1e-44de2200cf54"
      },
      "source": [
        "first_author = []\r\n",
        "for s in data3['authors_parsed']: \r\n",
        "  first_author.append(s[0])\r\n",
        "len(first_author)"
      ],
      "execution_count": 53,
      "outputs": [
        {
          "output_type": "execute_result",
          "data": {
            "text/plain": [
              "45722"
            ]
          },
          "metadata": {
            "tags": []
          },
          "execution_count": 53
        }
      ]
    },
    {
      "cell_type": "code",
      "metadata": {
        "colab": {
          "base_uri": "https://localhost:8080/"
        },
        "id": "opqJSz09z0JN",
        "outputId": "2fa9daf4-6bd0-4c48-ad35-37f4c3875ae5"
      },
      "source": [
        "first_author[:10]"
      ],
      "execution_count": 63,
      "outputs": [
        {
          "output_type": "execute_result",
          "data": {
            "text/plain": [
              "[['Sofge', 'Donald A.', ''],\n",
              " ['Lichtenwalner', 'Peter F.', ''],\n",
              " ['Kay', 'David A', '', 'Oxford University Computational Laboratory'],\n",
              " ['Alipour', 'Philip B.', ''],\n",
              " ['Palaiyanur', 'Hari', ''],\n",
              " ['Pal', 'Mahesh', ''],\n",
              " ['Bao', 'Forrest Sheng', ''],\n",
              " ['Li', 'Qiang', ''],\n",
              " ['Avanaki', 'Alireza', ''],\n",
              " ['Mokhov', 'Serguei A.', '', 'for the MARF R&D Group']]"
            ]
          },
          "metadata": {
            "tags": []
          },
          "execution_count": 63
        }
      ]
    },
    {
      "cell_type": "markdown",
      "metadata": {
        "id": "i8Eo1rP0w0ih"
      },
      "source": [
        "此时需要对数据预处理<br>\r\n",
        "需要将list每个元素拼接str,获取姓名"
      ]
    },
    {
      "cell_type": "code",
      "metadata": {
        "id": "CwTqGobLwgBs"
      },
      "source": [
        "first_author_1 = []\r\n",
        "for s in first_author:\r\n",
        "  tep = ''\r\n",
        "  for j in range(len(s)):\r\n",
        "    tep = tep  + ' ' + s[j]\r\n",
        "    tep.rstrip() #去除字符串右边的空格\r\n",
        "  first_author_1.append(tep) "
      ],
      "execution_count": 60,
      "outputs": []
    },
    {
      "cell_type": "code",
      "metadata": {
        "colab": {
          "base_uri": "https://localhost:8080/"
        },
        "id": "AQdEv9TMy8aA",
        "outputId": "20929db8-d9f5-4cb6-b99d-151c1e88f201"
      },
      "source": [
        "first_author_1[:10]"
      ],
      "execution_count": 62,
      "outputs": [
        {
          "output_type": "execute_result",
          "data": {
            "text/plain": [
              "[' Sofge Donald A. ',\n",
              " ' Lichtenwalner Peter F. ',\n",
              " ' Kay David A  Oxford University Computational Laboratory',\n",
              " ' Alipour Philip B. ',\n",
              " ' Palaiyanur Hari ',\n",
              " ' Pal Mahesh ',\n",
              " ' Bao Forrest Sheng ',\n",
              " ' Li Qiang ',\n",
              " ' Avanaki Alireza ',\n",
              " ' Mokhov Serguei A.  for the MARF R&D Group']"
            ]
          },
          "metadata": {
            "tags": []
          },
          "execution_count": 62
        }
      ]
    },
    {
      "cell_type": "code",
      "metadata": {
        "colab": {
          "base_uri": "https://localhost:8080/",
          "height": 407
        },
        "id": "GGxwMij500gC",
        "outputId": "0f42b2ac-2f8a-4750-9d25-0d5ecaba325f"
      },
      "source": [
        "first_author_names = pd.DataFrame(first_author_1)\r\n",
        "first_author_names"
      ],
      "execution_count": 65,
      "outputs": [
        {
          "output_type": "execute_result",
          "data": {
            "text/html": [
              "<div>\n",
              "<style scoped>\n",
              "    .dataframe tbody tr th:only-of-type {\n",
              "        vertical-align: middle;\n",
              "    }\n",
              "\n",
              "    .dataframe tbody tr th {\n",
              "        vertical-align: top;\n",
              "    }\n",
              "\n",
              "    .dataframe thead th {\n",
              "        text-align: right;\n",
              "    }\n",
              "</style>\n",
              "<table border=\"1\" class=\"dataframe\">\n",
              "  <thead>\n",
              "    <tr style=\"text-align: right;\">\n",
              "      <th></th>\n",
              "      <th>0</th>\n",
              "    </tr>\n",
              "  </thead>\n",
              "  <tbody>\n",
              "    <tr>\n",
              "      <th>0</th>\n",
              "      <td>Sofge Donald A.</td>\n",
              "    </tr>\n",
              "    <tr>\n",
              "      <th>1</th>\n",
              "      <td>Lichtenwalner Peter F.</td>\n",
              "    </tr>\n",
              "    <tr>\n",
              "      <th>2</th>\n",
              "      <td>Kay David A  Oxford University Computational ...</td>\n",
              "    </tr>\n",
              "    <tr>\n",
              "      <th>3</th>\n",
              "      <td>Alipour Philip B.</td>\n",
              "    </tr>\n",
              "    <tr>\n",
              "      <th>4</th>\n",
              "      <td>Palaiyanur Hari</td>\n",
              "    </tr>\n",
              "    <tr>\n",
              "      <th>...</th>\n",
              "      <td>...</td>\n",
              "    </tr>\n",
              "    <tr>\n",
              "      <th>45717</th>\n",
              "      <td>McGuire Patrick C.</td>\n",
              "    </tr>\n",
              "    <tr>\n",
              "      <th>45718</th>\n",
              "      <td>Bajic Dragana</td>\n",
              "    </tr>\n",
              "    <tr>\n",
              "      <th>45719</th>\n",
              "      <td>Miravet Carlos</td>\n",
              "    </tr>\n",
              "    <tr>\n",
              "      <th>45720</th>\n",
              "      <td>Frailis Marco</td>\n",
              "    </tr>\n",
              "    <tr>\n",
              "      <th>45721</th>\n",
              "      <td>Erus Guray  CRIP5</td>\n",
              "    </tr>\n",
              "  </tbody>\n",
              "</table>\n",
              "<p>45722 rows × 1 columns</p>\n",
              "</div>"
            ],
            "text/plain": [
              "                                                       0\n",
              "0                                       Sofge Donald A. \n",
              "1                                Lichtenwalner Peter F. \n",
              "2       Kay David A  Oxford University Computational ...\n",
              "3                                     Alipour Philip B. \n",
              "4                                       Palaiyanur Hari \n",
              "...                                                  ...\n",
              "45717                                McGuire Patrick C. \n",
              "45718                                     Bajic Dragana \n",
              "45719                                    Miravet Carlos \n",
              "45720                                     Frailis Marco \n",
              "45721                                  Erus Guray  CRIP5\n",
              "\n",
              "[45722 rows x 1 columns]"
            ]
          },
          "metadata": {
            "tags": []
          },
          "execution_count": 65
        }
      ]
    },
    {
      "cell_type": "code",
      "metadata": {
        "colab": {
          "base_uri": "https://localhost:8080/",
          "height": 422
        },
        "id": "9hBSeVt20CiY",
        "outputId": "0c2c7886-99b2-4970-d14b-3efc77f47893"
      },
      "source": [
        "# 根据作者频率绘制直方图\r\n",
        "plt.figure(figsize=(10, 6))\r\n",
        "first_author_names[0].value_counts().head(10).plot(kind='barh')\r\n",
        "# 修改图配置\r\n",
        "names = authors_names[0].value_counts().index.values[:10]\r\n",
        "_ = plt.yticks(range(0, len(names)), names)\r\n",
        "plt.ylabel('Author')\r\n",
        "plt.xlabel('Count')\r\n",
        "plt.title('Top 10 authors in the number of papers in the CV field since 2015 (first author)')"
      ],
      "execution_count": 67,
      "outputs": [
        {
          "output_type": "execute_result",
          "data": {
            "text/plain": [
              "Text(0.5, 1.0, 'Top 10 authors in the number of papers in the CV field since 2015 (first author)')"
            ]
          },
          "metadata": {
            "tags": []
          },
          "execution_count": 67
        },
        {
          "output_type": "display_data",
          "data": {
            "image/png": "[encoded data removed]",
            "text/plain": [
              "<Figure size 720x432 with 1 Axes>"
            ]
          },
          "metadata": {
            "tags": [],
            "needs_background": "light"
          }
        }
      ]
    },
    {
      "cell_type": "markdown",
      "metadata": {
        "id": "E1dDN3Fq1v__"
      },
      "source": [
        "## 获取2015年以来第一作者姓氏"
      ]
    },
    {
      "cell_type": "code",
      "metadata": {
        "id": "bBCpmKs41Rxq"
      },
      "source": [
        "first_author_lastname = []\r\n",
        "for s in first_author:\r\n",
        "  first_author_lastname.append(s[0]) "
      ],
      "execution_count": 68,
      "outputs": []
    },
    {
      "cell_type": "code",
      "metadata": {
        "colab": {
          "base_uri": "https://localhost:8080/"
        },
        "id": "12D3nxPi2LHO",
        "outputId": "ac0fa066-a7aa-4bff-ae24-a4614e60442c"
      },
      "source": [
        "first_author_lastname[:10]"
      ],
      "execution_count": 69,
      "outputs": [
        {
          "output_type": "execute_result",
          "data": {
            "text/plain": [
              "['Sofge',\n",
              " 'Lichtenwalner',\n",
              " 'Kay',\n",
              " 'Alipour',\n",
              " 'Palaiyanur',\n",
              " 'Pal',\n",
              " 'Bao',\n",
              " 'Li',\n",
              " 'Avanaki',\n",
              " 'Mokhov']"
            ]
          },
          "metadata": {
            "tags": []
          },
          "execution_count": 69
        }
      ]
    },
    {
      "cell_type": "code",
      "metadata": {
        "id": "FX2hLDva2Q6D"
      },
      "source": [
        "first_author_last_name = pd.DataFrame(first_author_lastname)\r\n"
      ],
      "execution_count": 70,
      "outputs": []
    },
    {
      "cell_type": "code",
      "metadata": {
        "colab": {
          "base_uri": "https://localhost:8080/",
          "height": 407
        },
        "id": "U1BWjBS52cT5",
        "outputId": "91de4ebc-40e0-49f8-f3b0-1c36bbab708c"
      },
      "source": [
        "first_author_last_name"
      ],
      "execution_count": 71,
      "outputs": [
        {
          "output_type": "execute_result",
          "data": {
            "text/html": [
              "<div>\n",
              "<style scoped>\n",
              "    .dataframe tbody tr th:only-of-type {\n",
              "        vertical-align: middle;\n",
              "    }\n",
              "\n",
              "    .dataframe tbody tr th {\n",
              "        vertical-align: top;\n",
              "    }\n",
              "\n",
              "    .dataframe thead th {\n",
              "        text-align: right;\n",
              "    }\n",
              "</style>\n",
              "<table border=\"1\" class=\"dataframe\">\n",
              "  <thead>\n",
              "    <tr style=\"text-align: right;\">\n",
              "      <th></th>\n",
              "      <th>0</th>\n",
              "    </tr>\n",
              "  </thead>\n",
              "  <tbody>\n",
              "    <tr>\n",
              "      <th>0</th>\n",
              "      <td>Sofge</td>\n",
              "    </tr>\n",
              "    <tr>\n",
              "      <th>1</th>\n",
              "      <td>Lichtenwalner</td>\n",
              "    </tr>\n",
              "    <tr>\n",
              "      <th>2</th>\n",
              "      <td>Kay</td>\n",
              "    </tr>\n",
              "    <tr>\n",
              "      <th>3</th>\n",
              "      <td>Alipour</td>\n",
              "    </tr>\n",
              "    <tr>\n",
              "      <th>4</th>\n",
              "      <td>Palaiyanur</td>\n",
              "    </tr>\n",
              "    <tr>\n",
              "      <th>...</th>\n",
              "      <td>...</td>\n",
              "    </tr>\n",
              "    <tr>\n",
              "      <th>45717</th>\n",
              "      <td>McGuire</td>\n",
              "    </tr>\n",
              "    <tr>\n",
              "      <th>45718</th>\n",
              "      <td>Bajic</td>\n",
              "    </tr>\n",
              "    <tr>\n",
              "      <th>45719</th>\n",
              "      <td>Miravet</td>\n",
              "    </tr>\n",
              "    <tr>\n",
              "      <th>45720</th>\n",
              "      <td>Frailis</td>\n",
              "    </tr>\n",
              "    <tr>\n",
              "      <th>45721</th>\n",
              "      <td>Erus</td>\n",
              "    </tr>\n",
              "  </tbody>\n",
              "</table>\n",
              "<p>45722 rows × 1 columns</p>\n",
              "</div>"
            ],
            "text/plain": [
              "                   0\n",
              "0              Sofge\n",
              "1      Lichtenwalner\n",
              "2                Kay\n",
              "3            Alipour\n",
              "4         Palaiyanur\n",
              "...              ...\n",
              "45717        McGuire\n",
              "45718          Bajic\n",
              "45719        Miravet\n",
              "45720        Frailis\n",
              "45721           Erus\n",
              "\n",
              "[45722 rows x 1 columns]"
            ]
          },
          "metadata": {
            "tags": []
          },
          "execution_count": 71
        }
      ]
    },
    {
      "cell_type": "code",
      "metadata": {
        "colab": {
          "base_uri": "https://localhost:8080/",
          "height": 422
        },
        "id": "JWMQxEIW2eAy",
        "outputId": "73e8881e-a08a-4bca-e019-465daf92d2c7"
      },
      "source": [
        "plt.figure(figsize=(10, 6))\r\n",
        "first_author_last_name[0].value_counts().head(10).plot(kind='barh')\r\n",
        "\r\n",
        "names = authors_lastnames[0].value_counts().index.values[:10]\r\n",
        "_ = plt.yticks(range(0, len(names)), names)\r\n",
        "plt.ylabel('first Author\\'s last names')\r\n",
        "plt.xlabel('Count')\r\n",
        "plt.title('The top 10 last names in the number of papers in the CV field since 2015(first Author\\'s last names)')"
      ],
      "execution_count": 74,
      "outputs": [
        {
          "output_type": "execute_result",
          "data": {
            "text/plain": [
              "Text(0.5, 1.0, \"The top 10 last names in the number of papers in the CV field since 2015(first Author's last names)\")"
            ]
          },
          "metadata": {
            "tags": []
          },
          "execution_count": 74
        },
        {
          "output_type": "display_data",
          "data": {
            "image/png": "[encoded data removed]",
            "text/plain": [
              "<Figure size 720x432 with 1 Axes>"
            ]
          },
          "metadata": {
            "tags": [],
            "needs_background": "light"
          }
        }
      ]
    }
  ]
}