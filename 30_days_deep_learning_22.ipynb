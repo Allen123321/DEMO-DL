{
  "nbformat": 4,
  "nbformat_minor": 0,
  "metadata": {
    "colab": {
      "name": "30_days_deep_learning_22.ipynb",
      "provenance": [],
      "toc_visible": true,
      "authorship_tag": "ABX9TyPrDeZjmKoZW3NS5EVUePml",
      "include_colab_link": true
    },
    "kernelspec": {
      "name": "python3",
      "display_name": "Python 3"
    }
  },
  "cells": [
    {
      "cell_type": "markdown",
      "metadata": {
        "id": "view-in-github",
        "colab_type": "text"
      },
      "source": [
        "<a href=\"https://colab.research.google.com/github/Allen123321/DEMO-DL/blob/master/30_days_deep_learning_22.ipynb\" target=\"_parent\"><img src=\"https://colab.research.google.com/assets/colab-badge.svg\" alt=\"Open In Colab\"/></a>"
      ]
    },
    {
      "cell_type": "markdown",
      "metadata": {
        "id": "N4nm0UHQF4oJ"
      },
      "source": [
        "## 6-6,使用tensorflow-serving部署模型\r\n",
        "TensorFlow训练好的模型以tensorflow原生方式保存成protobuf文件后可以用许多方式部署运行。<br>\r\n",
        "例如：通过 tensorflow-js 可以用javascrip脚本加载模型并在浏览器中运行模型。<br>\r\n",
        "通过 tensorflow-lite 可以在移动和嵌入式设备上加载并运行TensorFlow模型。<br>\r\n",
        "通过 tensorflow-serving 可以加载模型后提供网络接口API服务，通过任意编程语言发送网络请求都可以获取模型预测结果。<br>\r\n",
        "通过 tensorFlow for Java接口，可以在Java或者spark(scala)中调用tensorflow模型进行预测。<br>\r\n",
        "我们主要介绍tensorflow serving部署模型、使用spark(scala)调用tensorflow模型的方法。<br>"
      ]
    },
    {
      "cell_type": "markdown",
      "metadata": {
        "id": "pbZXu5C7GS4B"
      },
      "source": [
        "### 1.tensorflow serving模型部署概述\r\n",
        "使用 tensorflow serving 部署模型要完成以下步骤。\r\n",
        "\r\n",
        "(1) 准备protobuf模型文件。\r\n",
        "\r\n",
        "(2) 安装tensorflow serving。\r\n",
        "\r\n",
        "(3) 启动tensorflow serving 服务。\r\n",
        "\r\n",
        "(4) 向API服务发送请求，获取预测结果。"
      ]
    },
    {
      "cell_type": "code",
      "metadata": {
        "colab": {
          "base_uri": "https://localhost:8080/"
        },
        "id": "qQIXXcKsFzyn",
        "outputId": "c3bf1a51-efea-4ae4-ec96-db11ce7275c3"
      },
      "source": [
        "%tensorflow_version 2.x\r\n",
        "import tensorflow as tf\r\n",
        "print(tf.__version__)\r\n",
        "from tensorflow.keras import * "
      ],
      "execution_count": 1,
      "outputs": [
        {
          "output_type": "stream",
          "text": [
            "2.4.0\n"
          ],
          "name": "stdout"
        }
      ]
    },
    {
      "cell_type": "markdown",
      "metadata": {
        "id": "Mwx1jfewGiii"
      },
      "source": [
        "## 一，准备protobuf模型文件\r\n",
        "我们使用tf.keras 训练一个简单的线性回归模型，并保存成protobuf文件。"
      ]
    },
    {
      "cell_type": "code",
      "metadata": {
        "colab": {
          "base_uri": "https://localhost:8080/"
        },
        "id": "3t4VgEMdGgqa",
        "outputId": "61e8ca29-9d53-4924-d433-2792486a7d39"
      },
      "source": [
        "import tensorflow as tf\r\n",
        "from tensorflow.keras import models,layers,optimizers\r\n",
        "\r\n",
        "## 样本数量\r\n",
        "n = 800\r\n",
        "\r\n",
        "## 生成测试用数据集\r\n",
        "X = tf.random.uniform([n,2],minval=-10,maxval=10) \r\n",
        "w0 = tf.constant([[2.0],[-1.0]])\r\n",
        "b0 = tf.constant(3.0)\r\n",
        "\r\n",
        "Y = X@w0 + b0 + tf.random.normal([n,1],\r\n",
        "    mean = 0.0,stddev= 2.0) # @表示矩阵乘法,增加正态扰动\r\n",
        "\r\n",
        "## 建立模型\r\n",
        "tf.keras.backend.clear_session()\r\n",
        "inputs = layers.Input(shape = (2,),name =\"inputs\") #设置输入名字为inputs\r\n",
        "outputs = layers.Dense(1, name = \"outputs\")(inputs) #设置输出名字为outputs\r\n",
        "linear = models.Model(inputs = inputs,outputs = outputs)\r\n",
        "linear.summary()\r\n",
        "\r\n",
        "## 使用fit方法进行训练\r\n",
        "linear.compile(optimizer=\"rmsprop\",loss=\"mse\",metrics=[\"mae\"])\r\n",
        "linear.fit(X,Y,batch_size = 8,epochs = 100)  \r\n",
        "\r\n",
        "tf.print(\"w = \",linear.layers[1].kernel)\r\n",
        "tf.print(\"b = \",linear.layers[1].bias)\r\n",
        "\r\n",
        "## 将模型保存成pb格式文件\r\n",
        "export_path = \"/data/linear_model/\"\r\n",
        "version = \"1\"       #后续可以通过版本号进行模型版本迭代与管理\r\n",
        "linear.save(export_path+version, save_format=\"tf\") "
      ],
      "execution_count": 2,
      "outputs": [
        {
          "output_type": "stream",
          "text": [
            "Model: \"model\"\n",
            "_________________________________________________________________\n",
            "Layer (type)                 Output Shape              Param #   \n",
            "=================================================================\n",
            "inputs (InputLayer)          [(None, 2)]               0         \n",
            "_________________________________________________________________\n",
            "outputs (Dense)              (None, 1)                 3         \n",
            "=================================================================\n",
            "Total params: 3\n",
            "Trainable params: 3\n",
            "Non-trainable params: 0\n",
            "_________________________________________________________________\n",
            "Epoch 1/100\n",
            "100/100 [==============================] - 1s 782us/step - loss: 211.7169 - mae: 12.0931\n",
            "Epoch 2/100\n",
            "100/100 [==============================] - 0s 768us/step - loss: 186.7228 - mae: 11.3355\n",
            "Epoch 3/100\n",
            "100/100 [==============================] - 0s 783us/step - loss: 160.1682 - mae: 10.4815\n",
            "Epoch 4/100\n",
            "100/100 [==============================] - 0s 804us/step - loss: 148.3557 - mae: 10.1438\n",
            "Epoch 5/100\n",
            "100/100 [==============================] - 0s 824us/step - loss: 125.6929 - mae: 9.3347\n",
            "Epoch 6/100\n",
            "100/100 [==============================] - 0s 762us/step - loss: 119.3559 - mae: 9.1294\n",
            "Epoch 7/100\n",
            "100/100 [==============================] - 0s 774us/step - loss: 96.3396 - mae: 8.0366\n",
            "Epoch 8/100\n",
            "100/100 [==============================] - 0s 731us/step - loss: 86.0513 - mae: 7.7704\n",
            "Epoch 9/100\n",
            "100/100 [==============================] - 0s 753us/step - loss: 70.9856 - mae: 6.9841\n",
            "Epoch 10/100\n",
            "100/100 [==============================] - 0s 789us/step - loss: 60.7017 - mae: 6.4262\n",
            "Epoch 11/100\n",
            "100/100 [==============================] - 0s 816us/step - loss: 50.9886 - mae: 5.8715\n",
            "Epoch 12/100\n",
            "100/100 [==============================] - 0s 774us/step - loss: 48.9104 - mae: 5.7659\n",
            "Epoch 13/100\n",
            "100/100 [==============================] - 0s 777us/step - loss: 38.4570 - mae: 5.0380\n",
            "Epoch 14/100\n",
            "100/100 [==============================] - 0s 775us/step - loss: 32.2030 - mae: 4.6553\n",
            "Epoch 15/100\n",
            "100/100 [==============================] - 0s 794us/step - loss: 23.9012 - mae: 4.0080\n",
            "Epoch 16/100\n",
            "100/100 [==============================] - 0s 812us/step - loss: 17.7009 - mae: 3.4443\n",
            "Epoch 17/100\n",
            "100/100 [==============================] - 0s 740us/step - loss: 16.5164 - mae: 3.3118\n",
            "Epoch 18/100\n",
            "100/100 [==============================] - 0s 769us/step - loss: 13.3415 - mae: 2.9878\n",
            "Epoch 19/100\n",
            "100/100 [==============================] - 0s 748us/step - loss: 10.3330 - mae: 2.6015\n",
            "Epoch 20/100\n",
            "100/100 [==============================] - 0s 751us/step - loss: 9.4851 - mae: 2.4681\n",
            "Epoch 21/100\n",
            "100/100 [==============================] - 0s 786us/step - loss: 7.1197 - mae: 2.1494\n",
            "Epoch 22/100\n",
            "100/100 [==============================] - 0s 821us/step - loss: 6.6398 - mae: 2.0889\n",
            "Epoch 23/100\n",
            "100/100 [==============================] - 0s 829us/step - loss: 5.5122 - mae: 1.8893\n",
            "Epoch 24/100\n",
            "100/100 [==============================] - 0s 756us/step - loss: 5.2280 - mae: 1.8271\n",
            "Epoch 25/100\n",
            "100/100 [==============================] - 0s 786us/step - loss: 5.0967 - mae: 1.7988\n",
            "Epoch 26/100\n",
            "100/100 [==============================] - 0s 806us/step - loss: 4.9835 - mae: 1.7982\n",
            "Epoch 27/100\n",
            "100/100 [==============================] - 0s 788us/step - loss: 4.9971 - mae: 1.8024\n",
            "Epoch 28/100\n",
            "100/100 [==============================] - 0s 821us/step - loss: 5.1840 - mae: 1.7807\n",
            "Epoch 29/100\n",
            "100/100 [==============================] - 0s 814us/step - loss: 4.8584 - mae: 1.7472\n",
            "Epoch 30/100\n",
            "100/100 [==============================] - 0s 780us/step - loss: 4.5340 - mae: 1.6890\n",
            "Epoch 31/100\n",
            "100/100 [==============================] - 0s 914us/step - loss: 4.3795 - mae: 1.6567\n",
            "Epoch 32/100\n",
            "100/100 [==============================] - 0s 750us/step - loss: 3.8799 - mae: 1.5779\n",
            "Epoch 33/100\n",
            "100/100 [==============================] - 0s 778us/step - loss: 4.1440 - mae: 1.6086\n",
            "Epoch 34/100\n",
            "100/100 [==============================] - 0s 769us/step - loss: 4.2076 - mae: 1.6033\n",
            "Epoch 35/100\n",
            "100/100 [==============================] - 0s 855us/step - loss: 4.5093 - mae: 1.6782\n",
            "Epoch 36/100\n",
            "100/100 [==============================] - 0s 807us/step - loss: 4.2261 - mae: 1.6187\n",
            "Epoch 37/100\n",
            "100/100 [==============================] - 0s 775us/step - loss: 3.9961 - mae: 1.5742\n",
            "Epoch 38/100\n",
            "100/100 [==============================] - 0s 789us/step - loss: 3.9686 - mae: 1.5630\n",
            "Epoch 39/100\n",
            "100/100 [==============================] - 0s 822us/step - loss: 4.1059 - mae: 1.5875\n",
            "Epoch 40/100\n",
            "100/100 [==============================] - 0s 853us/step - loss: 3.8294 - mae: 1.5275\n",
            "Epoch 41/100\n",
            "100/100 [==============================] - 0s 836us/step - loss: 3.6108 - mae: 1.4842\n",
            "Epoch 42/100\n",
            "100/100 [==============================] - 0s 787us/step - loss: 3.8279 - mae: 1.5360\n",
            "Epoch 43/100\n",
            "100/100 [==============================] - 0s 754us/step - loss: 4.0888 - mae: 1.6142\n",
            "Epoch 44/100\n",
            "100/100 [==============================] - 0s 796us/step - loss: 3.9872 - mae: 1.5869\n",
            "Epoch 45/100\n",
            "100/100 [==============================] - 0s 768us/step - loss: 3.9917 - mae: 1.5530\n",
            "Epoch 46/100\n",
            "100/100 [==============================] - 0s 756us/step - loss: 3.5847 - mae: 1.4966\n",
            "Epoch 47/100\n",
            "100/100 [==============================] - 0s 862us/step - loss: 3.9267 - mae: 1.5491\n",
            "Epoch 48/100\n",
            "100/100 [==============================] - 0s 793us/step - loss: 3.8893 - mae: 1.5519\n",
            "Epoch 49/100\n",
            "100/100 [==============================] - 0s 801us/step - loss: 4.0253 - mae: 1.5506\n",
            "Epoch 50/100\n",
            "100/100 [==============================] - 0s 813us/step - loss: 3.9153 - mae: 1.5434\n",
            "Epoch 51/100\n",
            "100/100 [==============================] - 0s 869us/step - loss: 3.9065 - mae: 1.5497\n",
            "Epoch 52/100\n",
            "100/100 [==============================] - 0s 773us/step - loss: 3.8943 - mae: 1.5607\n",
            "Epoch 53/100\n",
            "100/100 [==============================] - 0s 857us/step - loss: 4.0935 - mae: 1.5759\n",
            "Epoch 54/100\n",
            "100/100 [==============================] - 0s 821us/step - loss: 3.8944 - mae: 1.5406\n",
            "Epoch 55/100\n",
            "100/100 [==============================] - 0s 786us/step - loss: 3.8807 - mae: 1.5526\n",
            "Epoch 56/100\n",
            "100/100 [==============================] - 0s 769us/step - loss: 3.8528 - mae: 1.5383\n",
            "Epoch 57/100\n",
            "100/100 [==============================] - 0s 797us/step - loss: 3.9162 - mae: 1.5546\n",
            "Epoch 58/100\n",
            "100/100 [==============================] - 0s 796us/step - loss: 3.6331 - mae: 1.4986\n",
            "Epoch 59/100\n",
            "100/100 [==============================] - 0s 850us/step - loss: 4.0057 - mae: 1.5505\n",
            "Epoch 60/100\n",
            "100/100 [==============================] - 0s 773us/step - loss: 4.0982 - mae: 1.5813\n",
            "Epoch 61/100\n",
            "100/100 [==============================] - 0s 781us/step - loss: 3.8258 - mae: 1.5172\n",
            "Epoch 62/100\n",
            "100/100 [==============================] - 0s 770us/step - loss: 4.2486 - mae: 1.6318\n",
            "Epoch 63/100\n",
            "100/100 [==============================] - 0s 775us/step - loss: 3.8521 - mae: 1.5548\n",
            "Epoch 64/100\n",
            "100/100 [==============================] - 0s 907us/step - loss: 3.8455 - mae: 1.5727\n",
            "Epoch 65/100\n",
            "100/100 [==============================] - 0s 849us/step - loss: 3.7804 - mae: 1.5409\n",
            "Epoch 66/100\n",
            "100/100 [==============================] - 0s 802us/step - loss: 4.0646 - mae: 1.6072\n",
            "Epoch 67/100\n",
            "100/100 [==============================] - 0s 803us/step - loss: 3.4422 - mae: 1.4642\n",
            "Epoch 68/100\n",
            "100/100 [==============================] - 0s 779us/step - loss: 3.9313 - mae: 1.5518\n",
            "Epoch 69/100\n",
            "100/100 [==============================] - 0s 834us/step - loss: 3.9626 - mae: 1.5535\n",
            "Epoch 70/100\n",
            "100/100 [==============================] - 0s 781us/step - loss: 3.9005 - mae: 1.5359\n",
            "Epoch 71/100\n",
            "100/100 [==============================] - 0s 860us/step - loss: 3.6631 - mae: 1.5021\n",
            "Epoch 72/100\n",
            "100/100 [==============================] - 0s 756us/step - loss: 3.6023 - mae: 1.4921\n",
            "Epoch 73/100\n",
            "100/100 [==============================] - 0s 853us/step - loss: 3.8756 - mae: 1.5681\n",
            "Epoch 74/100\n",
            "100/100 [==============================] - 0s 773us/step - loss: 3.7227 - mae: 1.5233\n",
            "Epoch 75/100\n",
            "100/100 [==============================] - 0s 782us/step - loss: 3.7335 - mae: 1.5283\n",
            "Epoch 76/100\n",
            "100/100 [==============================] - 0s 789us/step - loss: 4.1529 - mae: 1.5952\n",
            "Epoch 77/100\n",
            "100/100 [==============================] - 0s 813us/step - loss: 3.7749 - mae: 1.5265\n",
            "Epoch 78/100\n",
            "100/100 [==============================] - 0s 781us/step - loss: 4.2383 - mae: 1.6082\n",
            "Epoch 79/100\n",
            "100/100 [==============================] - 0s 776us/step - loss: 3.9318 - mae: 1.5477\n",
            "Epoch 80/100\n",
            "100/100 [==============================] - 0s 839us/step - loss: 3.6403 - mae: 1.5110\n",
            "Epoch 81/100\n",
            "100/100 [==============================] - 0s 1ms/step - loss: 4.0124 - mae: 1.5817\n",
            "Epoch 82/100\n",
            "100/100 [==============================] - 0s 769us/step - loss: 3.8533 - mae: 1.5509\n",
            "Epoch 83/100\n",
            "100/100 [==============================] - 0s 839us/step - loss: 4.2330 - mae: 1.6263\n",
            "Epoch 84/100\n",
            "100/100 [==============================] - 0s 812us/step - loss: 3.6990 - mae: 1.5034\n",
            "Epoch 85/100\n",
            "100/100 [==============================] - 0s 803us/step - loss: 4.0389 - mae: 1.6031\n",
            "Epoch 86/100\n",
            "100/100 [==============================] - 0s 799us/step - loss: 3.9294 - mae: 1.5553\n",
            "Epoch 87/100\n",
            "100/100 [==============================] - 0s 800us/step - loss: 4.1504 - mae: 1.5920\n",
            "Epoch 88/100\n",
            "100/100 [==============================] - 0s 755us/step - loss: 4.1396 - mae: 1.5785\n",
            "Epoch 89/100\n",
            "100/100 [==============================] - 0s 864us/step - loss: 4.1555 - mae: 1.6079\n",
            "Epoch 90/100\n",
            "100/100 [==============================] - 0s 826us/step - loss: 3.4248 - mae: 1.4781\n",
            "Epoch 91/100\n",
            "100/100 [==============================] - 0s 796us/step - loss: 3.6566 - mae: 1.5047\n",
            "Epoch 92/100\n",
            "100/100 [==============================] - 0s 795us/step - loss: 3.9481 - mae: 1.5278\n",
            "Epoch 93/100\n",
            "100/100 [==============================] - 0s 783us/step - loss: 3.6556 - mae: 1.4877\n",
            "Epoch 94/100\n",
            "100/100 [==============================] - 0s 847us/step - loss: 4.2540 - mae: 1.6119\n",
            "Epoch 95/100\n",
            "100/100 [==============================] - 0s 911us/step - loss: 3.7490 - mae: 1.5331\n",
            "Epoch 96/100\n",
            "100/100 [==============================] - 0s 820us/step - loss: 3.8600 - mae: 1.5309\n",
            "Epoch 97/100\n",
            "100/100 [==============================] - 0s 809us/step - loss: 3.7283 - mae: 1.5160\n",
            "Epoch 98/100\n",
            "100/100 [==============================] - 0s 797us/step - loss: 3.6328 - mae: 1.5190\n",
            "Epoch 99/100\n",
            "100/100 [==============================] - 0s 806us/step - loss: 3.6583 - mae: 1.5187\n",
            "Epoch 100/100\n",
            "100/100 [==============================] - 0s 819us/step - loss: 3.6365 - mae: 1.5092\n",
            "w =  [[2.02340555]\n",
            " [-0.991897464]]\n",
            "b =  [3.01716948]\n",
            "INFO:tensorflow:Assets written to: /data/linear_model/1/assets\n"
          ],
          "name": "stdout"
        }
      ]
    },
    {
      "cell_type": "code",
      "metadata": {
        "colab": {
          "base_uri": "https://localhost:8080/"
        },
        "id": "_ldnSzSqGc9d",
        "outputId": "711ce881-f22e-4c91-db98-7b6451419a26"
      },
      "source": [
        "#查看保存的模型文件\r\n",
        "!ls {export_path+version}"
      ],
      "execution_count": 3,
      "outputs": [
        {
          "output_type": "stream",
          "text": [
            "assets\tsaved_model.pb\tvariables\n"
          ],
          "name": "stdout"
        }
      ]
    },
    {
      "cell_type": "code",
      "metadata": {
        "colab": {
          "base_uri": "https://localhost:8080/"
        },
        "id": "dkPBZC9bIAn6",
        "outputId": "f9d920d1-5660-4cc8-8403-a99abb28d856"
      },
      "source": [
        "# 查看模型文件相关信息\r\n",
        "!saved_model_cli show --dir {export_path+str(version)} --all"
      ],
      "execution_count": 4,
      "outputs": [
        {
          "output_type": "stream",
          "text": [
            "\n",
            "MetaGraphDef with tag-set: 'serve' contains the following SignatureDefs:\n",
            "\n",
            "signature_def['__saved_model_init_op']:\n",
            "  The given SavedModel SignatureDef contains the following input(s):\n",
            "  The given SavedModel SignatureDef contains the following output(s):\n",
            "    outputs['__saved_model_init_op'] tensor_info:\n",
            "        dtype: DT_INVALID\n",
            "        shape: unknown_rank\n",
            "        name: NoOp\n",
            "  Method name is: \n",
            "\n",
            "signature_def['serving_default']:\n",
            "  The given SavedModel SignatureDef contains the following input(s):\n",
            "    inputs['inputs'] tensor_info:\n",
            "        dtype: DT_FLOAT\n",
            "        shape: (-1, 2)\n",
            "        name: serving_default_inputs:0\n",
            "  The given SavedModel SignatureDef contains the following output(s):\n",
            "    outputs['outputs'] tensor_info:\n",
            "        dtype: DT_FLOAT\n",
            "        shape: (-1, 1)\n",
            "        name: StatefulPartitionedCall:0\n",
            "  Method name is: tensorflow/serving/predict\n",
            "WARNING: Logging before flag parsing goes to stderr.\n",
            "W0111 15:46:16.960582 140206115104640 deprecation.py:506] From /usr/local/lib/python2.7/dist-packages/tensorflow_core/python/ops/resource_variable_ops.py:1786: calling __init__ (from tensorflow.python.ops.resource_variable_ops) with constraint is deprecated and will be removed in a future version.\n",
            "Instructions for updating:\n",
            "If using Keras pass *_constraint arguments to layers.\n",
            "\n",
            "Defined Functions:\n",
            "  Function Name: '__call__'\n",
            "    Option #1\n",
            "      Callable with:\n",
            "        Argument #1\n",
            "          inputs: TensorSpec(shape=(None, 2), dtype=tf.float32, name=u'inputs')\n",
            "        Argument #2\n",
            "          DType: bool\n",
            "          Value: False\n",
            "        Argument #3\n",
            "          DType: NoneType\n",
            "          Value: None\n",
            "    Option #2\n",
            "      Callable with:\n",
            "        Argument #1\n",
            "          inputs: TensorSpec(shape=(None, 2), dtype=tf.float32, name=u'inputs')\n",
            "        Argument #2\n",
            "          DType: bool\n",
            "          Value: True\n",
            "        Argument #3\n",
            "          DType: NoneType\n",
            "          Value: None\n",
            "\n",
            "  Function Name: '_default_save_signature'\n",
            "    Option #1\n",
            "      Callable with:\n",
            "        Argument #1\n",
            "          inputs: TensorSpec(shape=(None, 2), dtype=tf.float32, name=u'inputs')\n",
            "\n",
            "  Function Name: 'call_and_return_all_conditional_losses'\n",
            "    Option #1\n",
            "      Callable with:\n",
            "        Argument #1\n",
            "          inputs: TensorSpec(shape=(None, 2), dtype=tf.float32, name=u'inputs')\n",
            "        Argument #2\n",
            "          DType: bool\n",
            "          Value: True\n",
            "        Argument #3\n",
            "          DType: NoneType\n",
            "          Value: None\n",
            "    Option #2\n",
            "      Callable with:\n",
            "        Argument #1\n",
            "          inputs: TensorSpec(shape=(None, 2), dtype=tf.float32, name=u'inputs')\n",
            "        Argument #2\n",
            "          DType: bool\n",
            "          Value: False\n",
            "        Argument #3\n",
            "          DType: NoneType\n",
            "          Value: None\n"
          ],
          "name": "stdout"
        }
      ]
    },
    {
      "cell_type": "markdown",
      "metadata": {
        "id": "3ZV4vbp_IMO9"
      },
      "source": [
        "## 二，安装 tensorflow serving\r\n",
        "安装 tensorflow serving 有2种主要方法：通过Docker镜像安装，通过apt安装。\r\n",
        "\r\n",
        "通过Docker镜像安装是最简单，最直接的方法，推荐采用。\r\n",
        "\r\n",
        "Docker可以理解成一种容器，其上面可以给各种不同的程序提供独立的运行环境。\r\n",
        "\r\n",
        "一般业务中用到tensorflow的企业都会有运维同学通过Docker 搭建 tensorflow serving.\r\n",
        "\r\n",
        "无需算法工程师同学动手安装，以下安装过程仅供参考。\r\n",
        "\r\n",
        "不同操作系统机器上安装Docker的方法可以参照以下链接。\r\n",
        "\r\n",
        "Windows: https://www.runoob.com/docker/windows-docker-install.html\r\n",
        "\r\n",
        "MacOs: https://www.runoob.com/docker/macos-docker-install.html\r\n",
        "\r\n",
        "CentOS: https://www.runoob.com/docker/centos-docker-install.html\r\n",
        "\r\n",
        "安装Docker成功后，使用如下命令加载 tensorflow/serving 镜像到Docker中\r\n",
        "\r\n",
        "docker pull tensorflow/serving\r\n"
      ]
    },
    {
      "cell_type": "code",
      "metadata": {
        "colab": {
          "base_uri": "https://localhost:8080/"
        },
        "id": "bO48uZTNIyLc",
        "outputId": "b17c7da6-42c2-4174-858d-8cc7ceb5eebb"
      },
      "source": [
        "!curl https://storage.googleapis.com/tensorflow-serving-apt/tensorflow-serving.release.pub.gpg | apt-key add -\r\n",
        "#curl，全称CommandLine URL 或 CommandLine Uniform Resource Locator，顾名思义，curl命令是在命令行方式下工作，利用URL的语法进行数据的传输或者文件的传输。"
      ],
      "execution_count": 6,
      "outputs": [
        {
          "output_type": "stream",
          "text": [
            "  % Total    % Received % Xferd  Average Speed   Time    Time     Time  Current\n",
            "                                 Dload  Upload   Total   Spent    Left  Speed\n",
            "100  2943  100  2943    0     0   5312      0 --:--:-- --:--:-- --:--:--  5312\n",
            "OK\n"
          ],
          "name": "stdout"
        }
      ]
    },
    {
      "cell_type": "code",
      "metadata": {
        "colab": {
          "base_uri": "https://localhost:8080/"
        },
        "id": "j05xZDDpI2zU",
        "outputId": "0a018a3a-13ef-4afe-cfd5-2b97746d8153"
      },
      "source": [
        "!apt update"
      ],
      "execution_count": 7,
      "outputs": [
        {
          "output_type": "stream",
          "text": [
            "Get:1 https://cloud.r-project.org/bin/linux/ubuntu bionic-cran40/ InRelease [3,626 B]\n",
            "Get:2 https://cloud.r-project.org/bin/linux/ubuntu bionic-cran40/ Packages [43.2 kB]\n",
            "Ign:3 https://developer.download.nvidia.com/compute/cuda/repos/ubuntu1804/x86_64  InRelease\n",
            "Get:4 http://ppa.launchpad.net/c2d4u.team/c2d4u4.0+/ubuntu bionic InRelease [15.9 kB]\n",
            "Get:5 http://security.ubuntu.com/ubuntu bionic-security InRelease [88.7 kB]\n",
            "Ign:6 https://developer.download.nvidia.com/compute/machine-learning/repos/ubuntu1804/x86_64  InRelease\n",
            "Hit:7 https://developer.download.nvidia.com/compute/cuda/repos/ubuntu1804/x86_64  Release\n",
            "Get:8 https://developer.download.nvidia.com/compute/machine-learning/repos/ubuntu1804/x86_64  Release [564 B]\n",
            "Get:9 https://developer.download.nvidia.com/compute/machine-learning/repos/ubuntu1804/x86_64  Release.gpg [833 B]\n",
            "Hit:10 http://archive.ubuntu.com/ubuntu bionic InRelease\n",
            "Get:12 https://developer.download.nvidia.com/compute/machine-learning/repos/ubuntu1804/x86_64  Packages [66.5 kB]\n",
            "Get:13 http://archive.ubuntu.com/ubuntu bionic-updates InRelease [88.7 kB]\n",
            "Hit:14 http://ppa.launchpad.net/cran/libgit2/ubuntu bionic InRelease\n",
            "Get:15 http://ppa.launchpad.net/graphics-drivers/ppa/ubuntu bionic InRelease [21.3 kB]\n",
            "Get:16 http://security.ubuntu.com/ubuntu bionic-security/restricted amd64 Packages [261 kB]\n",
            "Get:17 http://archive.ubuntu.com/ubuntu bionic-backports InRelease [74.6 kB]\n",
            "Get:18 http://archive.ubuntu.com/ubuntu bionic-updates/multiverse amd64 Packages [45.6 kB]\n",
            "Get:19 http://archive.ubuntu.com/ubuntu bionic-updates/universe amd64 Packages [2,140 kB]\n",
            "Get:20 http://ppa.launchpad.net/c2d4u.team/c2d4u4.0+/ubuntu bionic/main Sources [1,707 kB]\n",
            "Get:21 http://security.ubuntu.com/ubuntu bionic-security/universe amd64 Packages [1,376 kB]\n",
            "Get:22 http://security.ubuntu.com/ubuntu bionic-security/main amd64 Packages [1,869 kB]\n",
            "Get:23 http://archive.ubuntu.com/ubuntu bionic-updates/restricted amd64 Packages [304 kB]\n",
            "Get:24 http://archive.ubuntu.com/ubuntu bionic-updates/main amd64 Packages [2,298 kB]\n",
            "Get:25 http://ppa.launchpad.net/c2d4u.team/c2d4u4.0+/ubuntu bionic/main amd64 Packages [874 kB]\n",
            "Get:26 http://ppa.launchpad.net/graphics-drivers/ppa/ubuntu bionic/main amd64 Packages [49.2 kB]\n",
            "Fetched 11.3 MB in 6s (1,763 kB/s)\n",
            "Reading package lists... Done\n",
            "Building dependency tree       \n",
            "Reading state information... Done\n",
            "39 packages can be upgraded. Run 'apt list --upgradable' to see them.\n"
          ],
          "name": "stdout"
        }
      ]
    },
    {
      "cell_type": "code",
      "metadata": {
        "colab": {
          "base_uri": "https://localhost:8080/"
        },
        "id": "OjQCRSDdJB_o",
        "outputId": "c29a4c0f-72bc-4bd5-bc8d-594a0f4eb9c8"
      },
      "source": [
        "!echo \"deb http://storage.googleapis.com/tensorflow-serving-apt stable tensorflow-model-server tensorflow-model-server-universal\" | tee /etc/apt/sources.list.d/tensorflow-serving.list && \\\r\n",
        "curl https://storage.googleapis.com/tensorflow-serving-apt/tensorflow-serving.release.pub.gpg | apt-key add -\r\n",
        "!apt update"
      ],
      "execution_count": 8,
      "outputs": [
        {
          "output_type": "stream",
          "text": [
            "deb http://storage.googleapis.com/tensorflow-serving-apt stable tensorflow-model-server tensorflow-model-server-universal\n",
            "  % Total    % Received % Xferd  Average Speed   Time    Time     Time  Current\n",
            "                                 Dload  Upload   Total   Spent    Left  Speed\n",
            "\r  0     0    0     0    0     0      0      0 --:--:-- --:--:-- --:--:--     0\r100  2943  100  2943    0     0   143k      0 --:--:-- --:--:-- --:--:--  143k\n",
            "OK\n",
            "Get:1 http://storage.googleapis.com/tensorflow-serving-apt stable InRelease [3,012 B]\n",
            "Hit:2 https://cloud.r-project.org/bin/linux/ubuntu bionic-cran40/ InRelease\n",
            "Ign:3 https://developer.download.nvidia.com/compute/cuda/repos/ubuntu1804/x86_64  InRelease\n",
            "Get:4 http://storage.googleapis.com/tensorflow-serving-apt stable/tensorflow-model-server-universal amd64 Packages [346 B]\n",
            "Hit:5 http://security.ubuntu.com/ubuntu bionic-security InRelease\n",
            "Hit:6 http://ppa.launchpad.net/c2d4u.team/c2d4u4.0+/ubuntu bionic InRelease\n",
            "Ign:7 https://developer.download.nvidia.com/compute/machine-learning/repos/ubuntu1804/x86_64  InRelease\n",
            "Hit:8 https://developer.download.nvidia.com/compute/cuda/repos/ubuntu1804/x86_64  Release\n",
            "Hit:9 https://developer.download.nvidia.com/compute/machine-learning/repos/ubuntu1804/x86_64  Release\n",
            "Get:10 http://storage.googleapis.com/tensorflow-serving-apt stable/tensorflow-model-server amd64 Packages [340 B]\n",
            "Hit:11 http://archive.ubuntu.com/ubuntu bionic InRelease\n",
            "Hit:12 http://ppa.launchpad.net/cran/libgit2/ubuntu bionic InRelease\n",
            "Hit:13 http://archive.ubuntu.com/ubuntu bionic-updates InRelease\n",
            "Hit:16 http://archive.ubuntu.com/ubuntu bionic-backports InRelease\n",
            "Hit:17 http://ppa.launchpad.net/graphics-drivers/ppa/ubuntu bionic InRelease\n",
            "Fetched 3,698 B in 2s (1,781 B/s)\n",
            "Reading package lists... Done\n",
            "Building dependency tree       \n",
            "Reading state information... Done\n",
            "39 packages can be upgraded. Run 'apt list --upgradable' to see them.\n"
          ],
          "name": "stdout"
        }
      ]
    },
    {
      "cell_type": "code",
      "metadata": {
        "colab": {
          "base_uri": "https://localhost:8080/"
        },
        "id": "iIZeXBfsJM9C",
        "outputId": "ce465fc3-712a-4b8f-c041-f268c3af95c1"
      },
      "source": [
        "!apt-get install tensorflow-model-server"
      ],
      "execution_count": 9,
      "outputs": [
        {
          "output_type": "stream",
          "text": [
            "Reading package lists... Done\n",
            "Building dependency tree       \n",
            "Reading state information... Done\n",
            "The following NEW packages will be installed:\n",
            "  tensorflow-model-server\n",
            "0 upgraded, 1 newly installed, 0 to remove and 39 not upgraded.\n",
            "Need to get 223 MB of archives.\n",
            "After this operation, 0 B of additional disk space will be used.\n",
            "Get:1 http://storage.googleapis.com/tensorflow-serving-apt stable/tensorflow-model-server amd64 tensorflow-model-server all 2.4.0 [223 MB]\n",
            "Fetched 223 MB in 5s (45.4 MB/s)\n",
            "Selecting previously unselected package tensorflow-model-server.\n",
            "(Reading database ... 145483 files and directories currently installed.)\n",
            "Preparing to unpack .../tensorflow-model-server_2.4.0_all.deb ...\n",
            "Unpacking tensorflow-model-server (2.4.0) ...\n",
            "Setting up tensorflow-model-server (2.4.0) ...\n"
          ],
          "name": "stdout"
        }
      ]
    },
    {
      "cell_type": "markdown",
      "metadata": {
        "id": "eczMIbT5IlGa"
      },
      "source": [
        "## 三，启动 tensorflow serving 服务"
      ]
    },
    {
      "cell_type": "code",
      "metadata": {
        "id": "1q7FpBgUKK24"
      },
      "source": [
        "import os\r\n",
        "os.environ[\"MODEL_DIR\"] = \"/data/linear_model/\""
      ],
      "execution_count": 14,
      "outputs": []
    },
    {
      "cell_type": "code",
      "metadata": {
        "colab": {
          "base_uri": "https://localhost:8080/",
          "height": 35
        },
        "id": "XZ9pHqDeKOkb",
        "outputId": "84b4388c-41a6-46b0-987c-228514b6e2b3"
      },
      "source": [
        "os.environ[\"MODEL_DIR\"]"
      ],
      "execution_count": 15,
      "outputs": [
        {
          "output_type": "execute_result",
          "data": {
            "application/vnd.google.colaboratory.intrinsic+json": {
              "type": "string"
            },
            "text/plain": [
              "'/data/linear_model/'"
            ]
          },
          "metadata": {
            "tags": []
          },
          "execution_count": 15
        }
      ]
    },
    {
      "cell_type": "code",
      "metadata": {
        "colab": {
          "base_uri": "https://localhost:8080/"
        },
        "id": "-jj0JuwEIKhD",
        "outputId": "2f9121de-b6bf-46f0-9c9c-ef1e71b97482"
      },
      "source": [
        "!ls /data/linear_model/"
      ],
      "execution_count": 13,
      "outputs": [
        {
          "output_type": "stream",
          "text": [
            "1\n"
          ],
          "name": "stdout"
        }
      ]
    },
    {
      "cell_type": "code",
      "metadata": {
        "colab": {
          "base_uri": "https://localhost:8080/"
        },
        "id": "1O0AiOQ4MZSK",
        "outputId": "63aef0df-839a-4861-8b33-9fa7eaff32bc"
      },
      "source": [
        "%%bash --bg \r\n",
        "nohup tensorflow_model_server \\\r\n",
        "  --rest_api_port=8501 \\\r\n",
        "  --model_name=linear_model \\\r\n",
        "  --model_base_path=\"${MODEL_DIR}\" >server.log 2>&1"
      ],
      "execution_count": 16,
      "outputs": [
        {
          "output_type": "stream",
          "text": [
            "Starting job # 0 in a separate thread.\n"
          ],
          "name": "stdout"
        }
      ]
    },
    {
      "cell_type": "code",
      "metadata": {
        "colab": {
          "base_uri": "https://localhost:8080/"
        },
        "id": "mU27do3qMcSt",
        "outputId": "bc31e1bd-348c-4d08-9e04-81c8e47c273f"
      },
      "source": [
        "# 查看日志，有可能会有报错信息\r\n",
        "!tail server.log"
      ],
      "execution_count": 17,
      "outputs": [
        {
          "output_type": "stream",
          "text": [
            "2021-01-11 16:05:11.004705: I external/org_tensorflow/tensorflow/cc/saved_model/loader.cc:206] Restoring SavedModel bundle.\n",
            "2021-01-11 16:05:11.005230: I external/org_tensorflow/tensorflow/core/platform/profile_utils/cpu_utils.cc:112] CPU Frequency: 2199995000 Hz\n",
            "2021-01-11 16:05:11.021857: I external/org_tensorflow/tensorflow/cc/saved_model/loader.cc:190] Running initialization op on SavedModel bundle at path: /data/linear_model/1\n",
            "2021-01-11 16:05:11.024649: I external/org_tensorflow/tensorflow/cc/saved_model/loader.cc:277] SavedModel load for tags { serve }; Status: success: OK. Took 45782 microseconds.\n",
            "2021-01-11 16:05:11.025013: I tensorflow_serving/servables/tensorflow/saved_model_warmup_util.cc:59] No warmup data file found at /data/linear_model/1/assets.extra/tf_serving_warmup_requests\n",
            "2021-01-11 16:05:11.025133: I tensorflow_serving/core/loader_harness.cc:87] Successfully loaded servable version {name: linear_model version: 1}\n",
            "2021-01-11 16:05:11.026098: I tensorflow_serving/model_servers/server.cc:371] Running gRPC ModelServer at 0.0.0.0:8500 ...\n",
            "[warn] getaddrinfo: address family for nodename not supported\n",
            "[evhttp_server.cc : 238] NET_LOG: Entering the event loop ...\n",
            "2021-01-11 16:05:11.026674: I tensorflow_serving/model_servers/server.cc:391] Exporting HTTP/REST API at:localhost:8501 ...\n"
          ],
          "name": "stdout"
        }
      ]
    },
    {
      "cell_type": "markdown",
      "metadata": {
        "id": "ZepWvB57MheR"
      },
      "source": [
        "## 四，向服务API发送请求\r\n",
        "可以使用任何编程语言的http功能发送请求，下面示范linux的 curl 命令发送请求，以及Python的requests库发送请求。\r\n",
        "\r\n",
        "使用 Linux 的curl命令发送请求"
      ]
    },
    {
      "cell_type": "code",
      "metadata": {
        "colab": {
          "base_uri": "https://localhost:8080/"
        },
        "id": "IRr_n8VwMhKo",
        "outputId": "12186a85-d129-4e54-e865-6306ba140ee4"
      },
      "source": [
        "!curl -d '{\"instances\": [[1.0, 2.0], [5.0,8.0]]}' \\\r\n",
        "    -X POST http://localhost:8501/v1/models/linear_model:predict"
      ],
      "execution_count": 18,
      "outputs": [
        {
          "output_type": "stream",
          "text": [
            "{\n",
            "    \"predictions\": [[3.05678], [5.19901705]\n",
            "    ]\n",
            "}"
          ],
          "name": "stdout"
        }
      ]
    },
    {
      "cell_type": "markdown",
      "metadata": {
        "id": "2P6KS1bQMplN"
      },
      "source": [
        "利用 Python request库发送请求"
      ]
    },
    {
      "cell_type": "code",
      "metadata": {
        "colab": {
          "base_uri": "https://localhost:8080/"
        },
        "id": "oQIhYkGiMo8j",
        "outputId": "01cb17cf-db49-4935-8fe6-67631d9fde34"
      },
      "source": [
        "import json\r\n",
        "data = json.dumps({\"signature_name\": \"serving_default\", \"instances\": [[1.0, 2.0], [5.0,7.0]]})\r\n",
        "\r\n",
        "import requests\r\n",
        "headers = {\"content-type\": \"application/json\"}\r\n",
        "json_response = requests.post('http://localhost:8501/v1/models/linear_model:predict', data=data, headers=headers)\r\n",
        "predictions = json.loads(json_response.text)[\"predictions\"]\r\n",
        "print(predictions)"
      ],
      "execution_count": 19,
      "outputs": [
        {
          "output_type": "stream",
          "text": [
            "[[3.05678], [6.19091463]]\n"
          ],
          "name": "stdout"
        }
      ]
    }
  ]
}