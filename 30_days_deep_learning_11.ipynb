{
  "nbformat": 4,
  "nbformat_minor": 0,
  "metadata": {
    "colab": {
      "name": "30_days_deep_learning_11.ipynb",
      "provenance": [],
      "authorship_tag": "ABX9TyP5r06sSXiNs/uGp/ZHC1AL",
      "include_colab_link": true
    },
    "kernelspec": {
      "name": "python3",
      "display_name": "Python 3"
    }
  },
  "cells": [
    {
      "cell_type": "markdown",
      "metadata": {
        "id": "view-in-github",
        "colab_type": "text"
      },
      "source": [
        "<a href=\"https://colab.research.google.com/github/Allen123321/DEMO-DL/blob/master/30_days_deep_learning_11.ipynb\" target=\"_parent\"><img src=\"https://colab.research.google.com/assets/colab-badge.svg\" alt=\"Open In Colab\"/></a>"
      ]
    },
    {
      "cell_type": "markdown",
      "metadata": {
        "id": "D3eN2x0raa3Y"
      },
      "source": [
        "4-1,张量的结构操作\r\n",
        "\r\n",
        "张量的操作主要包括张量的结构操作和张量的数学运算。\r\n",
        "\r\n",
        "张量结构操作诸如：张量创建，索引切片，维度变换，合并分割。\r\n",
        "\r\n",
        "张量数学运算主要有：标量运算，向量运算，矩阵运算。另外我们会介绍张量运算的广播机制。\r\n",
        "\r\n",
        "本篇我们介绍张量的结构操作。"
      ]
    },
    {
      "cell_type": "code",
      "metadata": {
        "id": "zK2tjaClaSsw"
      },
      "source": [
        "# 一，创建张量\r\n",
        "# 张量创建的许多方法和numpy中创建array的方法很像\r\n",
        "import tensorflow as tf\r\n",
        "import numpy as np\r\n"
      ],
      "execution_count": 1,
      "outputs": []
    },
    {
      "cell_type": "code",
      "metadata": {
        "colab": {
          "base_uri": "https://localhost:8080/"
        },
        "id": "hht5C3EGa0tw",
        "outputId": "bc09074b-42c8-4809-9766-d21e37428bff"
      },
      "source": [
        "a =tf.constant([1,2,3],dtype=tf.float32)\r\n",
        "tf.print(a)\r\n"
      ],
      "execution_count": 2,
      "outputs": [
        {
          "output_type": "stream",
          "text": [
            "[1 2 3]\n"
          ],
          "name": "stdout"
        }
      ]
    },
    {
      "cell_type": "code",
      "metadata": {
        "colab": {
          "base_uri": "https://localhost:8080/"
        },
        "id": "miEG7ncsbADB",
        "outputId": "6a532762-c68b-4c5e-ffef-e299f034049a"
      },
      "source": [
        "b = tf.range(1,10,delta =2)\r\n",
        "tf.print(b)"
      ],
      "execution_count": 3,
      "outputs": [
        {
          "output_type": "stream",
          "text": [
            "[1 3 5 7 9]\n"
          ],
          "name": "stdout"
        }
      ]
    },
    {
      "cell_type": "code",
      "metadata": {
        "colab": {
          "base_uri": "https://localhost:8080/"
        },
        "id": "K4_LWyY8bHeQ",
        "outputId": "2aab8b9e-2e2f-4966-f402-f38d29009f0c"
      },
      "source": [
        "c = tf.linspace(0.0,2*3.14,100)\r\n",
        "tf.print(c)"
      ],
      "execution_count": 4,
      "outputs": [
        {
          "output_type": "stream",
          "text": [
            "[0 0.0634343475 0.126868695 ... 6.15313148 6.21656609 6.28]\n"
          ],
          "name": "stdout"
        }
      ]
    },
    {
      "cell_type": "code",
      "metadata": {
        "colab": {
          "base_uri": "https://localhost:8080/"
        },
        "id": "wC8323_ubYQm",
        "outputId": "d4605eb4-70c5-4502-c465-76e6f3fc9993"
      },
      "source": [
        "d =tf.zeros([3,3])\r\n",
        "tf.print(d)"
      ],
      "execution_count": 5,
      "outputs": [
        {
          "output_type": "stream",
          "text": [
            "[[0 0 0]\n",
            " [0 0 0]\n",
            " [0 0 0]]\n"
          ],
          "name": "stdout"
        }
      ]
    },
    {
      "cell_type": "code",
      "metadata": {
        "colab": {
          "base_uri": "https://localhost:8080/"
        },
        "id": "ZUVs14ajbewr",
        "outputId": "1230bc80-91e3-44e0-c69a-7b81324efaf6"
      },
      "source": [
        "a = tf.ones([3,3])\r\n",
        "b = tf.zeros_like(a,dtype=tf.float32)\r\n",
        "tf.print(a)\r\n",
        "tf.print(b)"
      ],
      "execution_count": 6,
      "outputs": [
        {
          "output_type": "stream",
          "text": [
            "[[1 1 1]\n",
            " [1 1 1]\n",
            " [1 1 1]]\n",
            "[[0 0 0]\n",
            " [0 0 0]\n",
            " [0 0 0]]\n"
          ],
          "name": "stdout"
        }
      ]
    },
    {
      "cell_type": "code",
      "metadata": {
        "colab": {
          "base_uri": "https://localhost:8080/"
        },
        "id": "Ld094X_EbwE9",
        "outputId": "648f9441-dd5d-43c0-b6f5-c1b1a5d04517"
      },
      "source": [
        "b = tf.fill([3,2],5)\r\n",
        "tf.print(b)\r\n"
      ],
      "execution_count": 7,
      "outputs": [
        {
          "output_type": "stream",
          "text": [
            "[[5 5]\n",
            " [5 5]\n",
            " [5 5]]\n"
          ],
          "name": "stdout"
        }
      ]
    },
    {
      "cell_type": "code",
      "metadata": {
        "colab": {
          "base_uri": "https://localhost:8080/"
        },
        "id": "IIsscPSNb4DV",
        "outputId": "36b8e0ff-9eb2-4e8c-c070-5d9462430933"
      },
      "source": [
        "tf.random.set_seed(1.0)\r\n",
        "a = tf.random.uniform([5],minval=0,maxval=10)\r\n",
        "tf.print(a)"
      ],
      "execution_count": 8,
      "outputs": [
        {
          "output_type": "stream",
          "text": [
            "[1.65130854 9.01481247 6.30974197 4.34546089 2.9193902]\n"
          ],
          "name": "stdout"
        }
      ]
    },
    {
      "cell_type": "code",
      "metadata": {
        "colab": {
          "base_uri": "https://localhost:8080/"
        },
        "id": "eJOb0pqHcP2K",
        "outputId": "dfaaef25-bfa3-42e5-a985-25d5f8163669"
      },
      "source": [
        "#正态分布随机\r\n",
        "b = tf.random.normal([3,3],mean=0.0,stddev=1.0)\r\n",
        "tf.print(b)"
      ],
      "execution_count": 9,
      "outputs": [
        {
          "output_type": "stream",
          "text": [
            "[[0.403087884 -1.0880208 -0.0630953535]\n",
            " [1.33655667 0.711760104 -0.489286453]\n",
            " [-0.764221311 -1.03724861 -1.25193381]]\n"
          ],
          "name": "stdout"
        }
      ]
    },
    {
      "cell_type": "code",
      "metadata": {
        "colab": {
          "base_uri": "https://localhost:8080/"
        },
        "id": "pa61CkbFceOQ",
        "outputId": "e699e69c-eaee-4ab2-da68-a9af962fd514"
      },
      "source": [
        "#正态分布随机，剔除2倍方差以外数据重新生成\r\n",
        "c = tf.random.truncated_normal((5,5), mean=0.0, stddev=1.0, dtype=tf.float32)\r\n",
        "tf.print(c)\r\n",
        "#对比\r\n",
        "d = tf.random.normal((5,5), mean=0.0, stddev=1.0, dtype=tf.float32)\r\n",
        "tf.print(d)"
      ],
      "execution_count": 10,
      "outputs": [
        {
          "output_type": "stream",
          "text": [
            "[[-0.457012236 -0.406867266 0.728577733 -0.892977774 -0.369404584]\n",
            " [0.323488563 1.19383323 0.888299048 1.25985599 -1.95951891]\n",
            " [-0.202244401 0.294496894 -0.468728036 1.29494202 1.48142183]\n",
            " [0.0810953453 1.63843894 0.556645 0.977199793 -1.17777884]\n",
            " [1.67368948 0.0647980496 -0.705142677 -0.281972528 0.126546144]]\n",
            "[[1.6940167 0.119693168 -1.15846 0.172604024 -0.714496315]\n",
            " [0.689600587 -1.0908159 -1.18651032 -1.30218792 1.22400212]\n",
            " [0.022960335 -1.19011617 -2.43407607 -1.03946316 0.925247371]\n",
            " [0.251004159 1.18972564 0.480107069 0.120151304 -0.724892259]\n",
            " [1.59123611 -0.638825774 0.293274909 -0.489459932 0.616218]]\n"
          ],
          "name": "stdout"
        }
      ]
    },
    {
      "cell_type": "code",
      "metadata": {
        "colab": {
          "base_uri": "https://localhost:8080/"
        },
        "id": "NkO0Bc8EdzmJ",
        "outputId": "4904f97d-74bd-4034-b146-44a84dd4d64c"
      },
      "source": [
        "# 特殊矩阵\r\n",
        "I =tf.eye(3,3)  #单位矩阵\r\n",
        "tf.print(I)\r\n",
        "tf.print(\" \")\r\n",
        "t = tf.linalg.diag([1,2,3]) #对角阵\r\n",
        "tf.print(t)"
      ],
      "execution_count": 11,
      "outputs": [
        {
          "output_type": "stream",
          "text": [
            "[[1 0 0]\n",
            " [0 1 0]\n",
            " [0 0 1]]\n",
            " \n",
            "[[1 0 0]\n",
            " [0 2 0]\n",
            " [0 0 3]]\n"
          ],
          "name": "stdout"
        }
      ]
    },
    {
      "cell_type": "markdown",
      "metadata": {
        "id": "Wz6ShT1eeO28"
      },
      "source": [
        "二 ，索引切片\r\n",
        "\r\n",
        "张量的索引切片方式和numpy几乎是一样的。切片时支持缺省参数和省略号。\r\n",
        "\r\n",
        "对于tf.Variable,可以通过索引和切片对部分元素进行修改。\r\n",
        "\r\n",
        "对于提取张量的连续子区域，也可以使用tf.slice.\r\n",
        "\r\n",
        "此外，对于不规则的切片提取,可以使用tf.gather,tf.gather_nd,tf.boolean_mask。\r\n",
        "\r\n",
        "tf.boolean_mask功能最为强大，它可以实现tf.gather,tf.gather_nd的功能，并且tf.boolean_mask还可以实现布尔索引。\r\n",
        "\r\n",
        "如果要通过修改张量的某些元素得到新的张量，可以使用tf.where，tf.scatter_nd。"
      ]
    },
    {
      "cell_type": "code",
      "metadata": {
        "colab": {
          "base_uri": "https://localhost:8080/"
        },
        "id": "e6WGvttLepwX",
        "outputId": "467fd536-66e2-4ceb-8a84-4d3fd2ad135e"
      },
      "source": [
        "tf.random.set_seed(3)\r\n",
        "t = tf.random.uniform([5,5],minval=0,maxval=10,dtype=tf.int32)\r\n",
        "tf.print(t)"
      ],
      "execution_count": 12,
      "outputs": [
        {
          "output_type": "stream",
          "text": [
            "[[4 7 4 2 9]\n",
            " [9 1 2 4 7]\n",
            " [7 2 7 4 0]\n",
            " [9 6 9 7 2]\n",
            " [3 7 0 0 3]]\n"
          ],
          "name": "stdout"
        }
      ]
    },
    {
      "cell_type": "code",
      "metadata": {
        "colab": {
          "base_uri": "https://localhost:8080/"
        },
        "id": "xMA-Do41e1-E",
        "outputId": "be4a540a-d361-4739-a55a-15c2771f6eb6"
      },
      "source": [
        "#第0行\r\n",
        "tf.print(t[0])"
      ],
      "execution_count": 13,
      "outputs": [
        {
          "output_type": "stream",
          "text": [
            "[4 7 4 2 9]\n"
          ],
          "name": "stdout"
        }
      ]
    },
    {
      "cell_type": "code",
      "metadata": {
        "colab": {
          "base_uri": "https://localhost:8080/"
        },
        "id": "Putj6LoYe6f0",
        "outputId": "963fd698-3770-4dc7-d151-96df7c32d4a6"
      },
      "source": [
        "#倒数第一行\r\n",
        "tf.print(t[-1])"
      ],
      "execution_count": 14,
      "outputs": [
        {
          "output_type": "stream",
          "text": [
            "[3 7 0 0 3]\n"
          ],
          "name": "stdout"
        }
      ]
    },
    {
      "cell_type": "code",
      "metadata": {
        "colab": {
          "base_uri": "https://localhost:8080/"
        },
        "id": "MuohncnWe_Eo",
        "outputId": "6b279458-e920-4dc5-8592-058edb196da4"
      },
      "source": [
        "#第1行第3列\r\n",
        "tf.print(t[1,3])\r\n",
        "tf.print(t[1][3])"
      ],
      "execution_count": 15,
      "outputs": [
        {
          "output_type": "stream",
          "text": [
            "4\n",
            "4\n"
          ],
          "name": "stdout"
        }
      ]
    },
    {
      "cell_type": "code",
      "metadata": {
        "colab": {
          "base_uri": "https://localhost:8080/"
        },
        "id": "6NMth-0dfEcB",
        "outputId": "25ef4267-2fb5-42c4-c4c9-0b28ef493a88"
      },
      "source": [
        "#第1行至第3行\r\n",
        "tf.print(t[1:4,:])\r\n",
        "tf.print(tf.slice(t,[1,0],[3,5])) #tf.slice(input,begin_vector,size_vector)\r\n",
        "tf.print(tf.slice(t,[1,0],[3,4]))"
      ],
      "execution_count": 18,
      "outputs": [
        {
          "output_type": "stream",
          "text": [
            "[[9 1 2 4 7]\n",
            " [7 2 7 4 0]\n",
            " [9 6 9 7 2]]\n",
            "[[9 1 2 4 7]\n",
            " [7 2 7 4 0]\n",
            " [9 6 9 7 2]]\n",
            "[[9 1 2 4]\n",
            " [7 2 7 4]\n",
            " [9 6 9 7]]\n"
          ],
          "name": "stdout"
        }
      ]
    },
    {
      "cell_type": "code",
      "metadata": {
        "colab": {
          "base_uri": "https://localhost:8080/"
        },
        "id": "yIqRNYYhfqjw",
        "outputId": "bd741f1e-4735-4201-b0f8-8112bc62e9d5"
      },
      "source": [
        "#第1行至最后一行，第0列到最后一列每隔两列取一列\r\n",
        "tf.print(t[1:4,0:5:2])\r\n",
        "tf.print(t[1:4,0:4:2])\r\n",
        "tf.print(t[1:4,:4:2])\r\n",
        "tf.print(t[1:4,:-1:2])"
      ],
      "execution_count": 27,
      "outputs": [
        {
          "output_type": "stream",
          "text": [
            "[[9 2 7]\n",
            " [7 7 0]\n",
            " [9 9 2]]\n",
            "[[9 2]\n",
            " [7 7]\n",
            " [9 9]]\n",
            "[[9 2]\n",
            " [7 7]\n",
            " [9 9]]\n",
            "[[9 2]\n",
            " [7 7]\n",
            " [9 9]]\n"
          ],
          "name": "stdout"
        }
      ]
    },
    {
      "cell_type": "code",
      "metadata": {
        "colab": {
          "base_uri": "https://localhost:8080/"
        },
        "id": "aZg1ZCdfgy4y",
        "outputId": "057d465d-b4be-4b64-cafb-54a301090f93"
      },
      "source": [
        "#对变量来说，还可以使用索引和切片修改部分元素\r\n",
        "x = tf.Variable([[1,2],[3,4]],dtype =tf.float32)\r\n",
        "x[1,:].assign(tf.constant([0.0,0.0]))\r\n",
        "tf.print(x)\r\n"
      ],
      "execution_count": 31,
      "outputs": [
        {
          "output_type": "stream",
          "text": [
            "[[1 2]\n",
            " [0 0]]\n"
          ],
          "name": "stdout"
        }
      ]
    },
    {
      "cell_type": "code",
      "metadata": {
        "colab": {
          "base_uri": "https://localhost:8080/"
        },
        "id": "waRHg1LRiESd",
        "outputId": "54d391f3-3cf7-4d94-d7c3-f01e549ecdbd"
      },
      "source": [
        "a = tf.random.uniform([3,3,3],minval=0,maxval=10,dtype=tf.int32)\r\n",
        "tf.print(a)"
      ],
      "execution_count": 32,
      "outputs": [
        {
          "output_type": "stream",
          "text": [
            "[[[7 3 9]\n",
            "  [9 0 7]\n",
            "  [9 6 7]]\n",
            "\n",
            " [[1 3 3]\n",
            "  [0 8 1]\n",
            "  [3 1 0]]\n",
            "\n",
            " [[4 0 6]\n",
            "  [6 2 2]\n",
            "  [7 9 5]]]\n"
          ],
          "name": "stdout"
        }
      ]
    },
    {
      "cell_type": "code",
      "metadata": {
        "colab": {
          "base_uri": "https://localhost:8080/"
        },
        "id": "CCKGfvLoiReq",
        "outputId": "4672e141-da97-44a1-9d69-67110aa63703"
      },
      "source": [
        "#省略号可以表示多个冒号\r\n",
        "tf.print(a[...,1])\r\n",
        "\r\n",
        "tf.print(a[...,0])"
      ],
      "execution_count": 33,
      "outputs": [
        {
          "output_type": "stream",
          "text": [
            "[[3 0 6]\n",
            " [3 8 1]\n",
            " [0 2 9]]\n",
            "[[7 9 9]\n",
            " [1 0 3]\n",
            " [4 6 7]]\n"
          ],
          "name": "stdout"
        }
      ]
    },
    {
      "cell_type": "markdown",
      "metadata": {
        "id": "Kf2Mg1-Fibkn"
      },
      "source": [
        "以上切片方式相对规则，对于不规则的切片提取,可以使用tf.gather,tf.gather_nd,tf.boolean_mask。\r\n",
        "\r\n",
        "考虑班级成绩册的例子，有4个班级，每个班级10个学生，每个学生7门科目成绩。可以用一个4×10×7的张量来表示。"
      ]
    },
    {
      "cell_type": "code",
      "metadata": {
        "colab": {
          "base_uri": "https://localhost:8080/"
        },
        "id": "0-BP89DcieDd",
        "outputId": "d47eb62b-2410-41d7-911e-bef8cb614597"
      },
      "source": [
        "scores = tf.random.uniform((4,10,7),minval=0,maxval=100,dtype=tf.int32)\r\n",
        "tf.print(scores)"
      ],
      "execution_count": 34,
      "outputs": [
        {
          "output_type": "stream",
          "text": [
            "[[[52 82 66 ... 17 86 14]\n",
            "  [8 36 94 ... 13 78 41]\n",
            "  [77 53 51 ... 22 91 56]\n",
            "  ...\n",
            "  [11 19 26 ... 89 86 68]\n",
            "  [60 72 0 ... 11 26 15]\n",
            "  [24 99 38 ... 97 44 74]]\n",
            "\n",
            " [[79 73 73 ... 35 3 81]\n",
            "  [83 36 31 ... 75 38 85]\n",
            "  [54 26 67 ... 60 68 98]\n",
            "  ...\n",
            "  [20 5 18 ... 32 45 3]\n",
            "  [72 52 81 ... 88 41 20]\n",
            "  [0 21 89 ... 53 10 90]]\n",
            "\n",
            " [[52 80 22 ... 29 25 60]\n",
            "  [78 71 54 ... 43 98 81]\n",
            "  [21 66 53 ... 97 75 77]\n",
            "  ...\n",
            "  [6 74 3 ... 53 65 43]\n",
            "  [98 36 72 ... 33 36 81]\n",
            "  [61 78 70 ... 7 59 21]]\n",
            "\n",
            " [[56 57 45 ... 23 15 3]\n",
            "  [35 8 82 ... 11 59 97]\n",
            "  [44 6 99 ... 81 60 27]\n",
            "  ...\n",
            "  [76 26 35 ... 51 8 17]\n",
            "  [33 52 53 ... 78 37 31]\n",
            "  [71 27 44 ... 0 52 16]]]\n"
          ],
          "name": "stdout"
        }
      ]
    },
    {
      "cell_type": "code",
      "metadata": {
        "colab": {
          "base_uri": "https://localhost:8080/"
        },
        "id": "rgo24czhjl2m",
        "outputId": "64a2b14d-eedd-4168-ec68-68b1e78a1fc5"
      },
      "source": [
        "#抽取每个班级第0个学生，第5个学生，第9个学生的全部成绩\r\n",
        "p = tf.gather(scores,[0,5,9],axis=1)\r\n",
        "tf.print(p)"
      ],
      "execution_count": 36,
      "outputs": [
        {
          "output_type": "stream",
          "text": [
            "[[[52 82 66 ... 17 86 14]\n",
            "  [24 80 70 ... 72 63 96]\n",
            "  [24 99 38 ... 97 44 74]]\n",
            "\n",
            " [[79 73 73 ... 35 3 81]\n",
            "  [46 10 94 ... 23 18 92]\n",
            "  [0 21 89 ... 53 10 90]]\n",
            "\n",
            " [[52 80 22 ... 29 25 60]\n",
            "  [19 12 23 ... 87 86 25]\n",
            "  [61 78 70 ... 7 59 21]]\n",
            "\n",
            " [[56 57 45 ... 23 15 3]\n",
            "  [6 41 79 ... 97 43 13]\n",
            "  [71 27 44 ... 0 52 16]]]\n"
          ],
          "name": "stdout"
        }
      ]
    },
    {
      "cell_type": "code",
      "metadata": {
        "colab": {
          "base_uri": "https://localhost:8080/"
        },
        "id": "POwMGRHUkRJn",
        "outputId": "93cadad2-49dd-4a06-99f3-c93cfc211925"
      },
      "source": [
        "#抽取每个班级第0个学生，第5个学生，第9个学生的第1门课程，第3门课程，第6门课程成绩\r\n",
        "q = tf.gather(p,[1,3,6],axis=2) # tf.gather(tf.gather(scores,[0,5,9],axis=1),[1,3,6],axis=2)\r\n",
        "tf.print(q)"
      ],
      "execution_count": 37,
      "outputs": [
        {
          "output_type": "stream",
          "text": [
            "[[[82 55 14]\n",
            "  [80 46 96]\n",
            "  [99 58 74]]\n",
            "\n",
            " [[73 48 81]\n",
            "  [10 38 92]\n",
            "  [21 86 90]]\n",
            "\n",
            " [[80 57 60]\n",
            "  [12 34 25]\n",
            "  [78 71 21]]\n",
            "\n",
            " [[57 75 3]\n",
            "  [41 47 13]\n",
            "  [27 96 16]]]\n"
          ],
          "name": "stdout"
        }
      ]
    },
    {
      "cell_type": "code",
      "metadata": {
        "colab": {
          "base_uri": "https://localhost:8080/"
        },
        "id": "nf5sZ9SGkpnI",
        "outputId": "36ed745c-96ad-49d8-ddd3-bc56e1590234"
      },
      "source": [
        "# 抽取第0个班级第0个学生，第2个班级的第4个学生，第3个班级的第6个学生的全部成绩\r\n",
        "#indices的长度为采样样本的个数，每个元素为采样位置的坐标\r\n",
        "s = tf.gather_nd(scores,indices = [[0,0],[2,4],[3,6]])\r\n",
        "s"
      ],
      "execution_count": 38,
      "outputs": [
        {
          "output_type": "execute_result",
          "data": {
            "text/plain": [
              "<tf.Tensor: shape=(3, 7), dtype=int32, numpy=\n",
              "array([[52, 82, 66, 55, 17, 86, 14],\n",
              "       [99, 94, 46, 70,  1, 63, 41],\n",
              "       [46, 83, 70, 80, 90, 85, 17]], dtype=int32)>"
            ]
          },
          "metadata": {
            "tags": []
          },
          "execution_count": 38
        }
      ]
    },
    {
      "cell_type": "markdown",
      "metadata": {
        "id": "L6IpjHlglxn9"
      },
      "source": [
        "以上tf.gather和tf.gather_nd的功能也可以用tf.boolean_mask来实现。"
      ]
    },
    {
      "cell_type": "code",
      "metadata": {
        "colab": {
          "base_uri": "https://localhost:8080/"
        },
        "id": "YY7rt-S9lv_T",
        "outputId": "a308bbcc-7abb-45df-a2c4-ab64f02e6977"
      },
      "source": [
        "#抽取每个班级第0个学生，第5个学生，第9个学生的全部成绩\r\n",
        "p = tf.boolean_mask(scores,[True,False,False,False,False,\r\n",
        "                            True,False,False,False,True],axis=1)\r\n",
        "tf.print(p)"
      ],
      "execution_count": 39,
      "outputs": [
        {
          "output_type": "stream",
          "text": [
            "[[[52 82 66 ... 17 86 14]\n",
            "  [24 80 70 ... 72 63 96]\n",
            "  [24 99 38 ... 97 44 74]]\n",
            "\n",
            " [[79 73 73 ... 35 3 81]\n",
            "  [46 10 94 ... 23 18 92]\n",
            "  [0 21 89 ... 53 10 90]]\n",
            "\n",
            " [[52 80 22 ... 29 25 60]\n",
            "  [19 12 23 ... 87 86 25]\n",
            "  [61 78 70 ... 7 59 21]]\n",
            "\n",
            " [[56 57 45 ... 23 15 3]\n",
            "  [6 41 79 ... 97 43 13]\n",
            "  [71 27 44 ... 0 52 16]]]\n"
          ],
          "name": "stdout"
        }
      ]
    },
    {
      "cell_type": "code",
      "metadata": {
        "colab": {
          "base_uri": "https://localhost:8080/"
        },
        "id": "RGa4nahimVoA",
        "outputId": "2fc781a4-fd3f-47f6-dcd1-d3848dabc62d"
      },
      "source": [
        "#抽取第0个班级第0个学生，第2个班级的第4个学生，第3个班级的第6个学生的全部成绩\r\n",
        "s = tf.boolean_mask(scores,\r\n",
        "    [[True,False,False,False,False,False,False,False,False,False],\r\n",
        "     [False,False,False,False,False,False,False,False,False,False],\r\n",
        "     [False,False,False,False,True,False,False,False,False,False],\r\n",
        "     [False,False,False,False,False,False,True,False,False,False]])\r\n",
        "tf.print(s)"
      ],
      "execution_count": 40,
      "outputs": [
        {
          "output_type": "stream",
          "text": [
            "[[52 82 66 ... 17 86 14]\n",
            " [99 94 46 ... 1 63 41]\n",
            " [46 83 70 ... 90 85 17]]\n"
          ],
          "name": "stdout"
        }
      ]
    },
    {
      "cell_type": "code",
      "metadata": {
        "colab": {
          "base_uri": "https://localhost:8080/"
        },
        "id": "7JriZU9Imjj6",
        "outputId": "269753b8-e1cb-4107-b7e8-ee8fb4d5e905"
      },
      "source": [
        "#利用tf.boolean_mask可以实现布尔索引\r\n",
        "#找到矩阵中小于0的元素\r\n",
        "c = tf.constant([[-1,1,-1],[2,2,-2],[3,-3,3]],dtype=tf.float32)\r\n",
        "tf.print(c,\"\\n\")\r\n",
        "\r\n",
        "tf.print(tf.boolean_mask(c,c<0),\"\\n\") \r\n",
        "tf.print(c[c<0]) #布尔索引，为boolean_mask的语法糖形式"
      ],
      "execution_count": 41,
      "outputs": [
        {
          "output_type": "stream",
          "text": [
            "[[-1 1 -1]\n",
            " [2 2 -2]\n",
            " [3 -3 3]] \n",
            "\n",
            "[-1 -1 -2 -3] \n",
            "\n",
            "[-1 -1 -2 -3]\n"
          ],
          "name": "stdout"
        }
      ]
    },
    {
      "cell_type": "markdown",
      "metadata": {
        "id": "BWvdoucknN8Q"
      },
      "source": [
        "以上这些方法仅能提取张量的部分元素值，但不能更改张量的部分元素值得到新的张量。\r\n",
        "\r\n",
        "如果要通过修改张量的部分元素值得到新的张量，可以使用tf.where和tf.scatter_nd。\r\n",
        "\r\n",
        "tf.where可以理解为if的张量版本，此外它还可以用于找到满足条件的所有元素的位置坐标。\r\n",
        "\r\n",
        "tf.scatter_nd的作用和tf.gather_nd有些相反，tf.gather_nd用于收集张量的给定位置的元素，\r\n",
        "\r\n",
        "而tf.scatter_nd可以将某些值插入到一个给定shape的全0的张量的指定位置处。"
      ]
    },
    {
      "cell_type": "code",
      "metadata": {
        "colab": {
          "base_uri": "https://localhost:8080/"
        },
        "id": "i9nT0LWEnNC0",
        "outputId": "14b7ddf1-9589-469d-b88d-b4105c873201"
      },
      "source": [
        "#找到张量中小于0的元素,将其换成np.nan得到新的张量\r\n",
        "#tf.where和np.where作用类似，可以理解为if的张量版本\r\n",
        "c = tf.constant([[-1,1,-1],[2,2,-2],[3,-3,3]],dtype=tf.float32)\r\n",
        "d = tf.where(c<0,tf.fill(c.shape,np.nan),c) \r\n",
        "d"
      ],
      "execution_count": 42,
      "outputs": [
        {
          "output_type": "execute_result",
          "data": {
            "text/plain": [
              "<tf.Tensor: shape=(3, 3), dtype=float32, numpy=\n",
              "array([[nan,  1., nan],\n",
              "       [ 2.,  2., nan],\n",
              "       [ 3., nan,  3.]], dtype=float32)>"
            ]
          },
          "metadata": {
            "tags": []
          },
          "execution_count": 42
        }
      ]
    },
    {
      "cell_type": "code",
      "metadata": {
        "colab": {
          "base_uri": "https://localhost:8080/"
        },
        "id": "8mxhcSpln3dN",
        "outputId": "66013889-6a35-46c9-d5da-60e43cebaec8"
      },
      "source": [
        "#如果where只有一个参数，将返回所有满足条件的位置坐标\r\n",
        "indices = tf.where(c<0)\r\n",
        "indices"
      ],
      "execution_count": 43,
      "outputs": [
        {
          "output_type": "execute_result",
          "data": {
            "text/plain": [
              "<tf.Tensor: shape=(4, 2), dtype=int64, numpy=\n",
              "array([[0, 0],\n",
              "       [0, 2],\n",
              "       [1, 2],\n",
              "       [2, 1]])>"
            ]
          },
          "metadata": {
            "tags": []
          },
          "execution_count": 43
        }
      ]
    },
    {
      "cell_type": "code",
      "metadata": {
        "colab": {
          "base_uri": "https://localhost:8080/"
        },
        "id": "4bmbrk5qn5_0",
        "outputId": "59ddd552-e853-4fa3-def7-ee0be418212c"
      },
      "source": [
        "#将张量的第[0,0]和[2,1]两个位置元素替换为0得到新的张量\r\n",
        "d = c - tf.scatter_nd([[0,0],[2,1]],[c[0,0],c[2,1]],c.shape) # scatter = tf.scatter_nd(indices, updates, shape)\r\n",
        "d"
      ],
      "execution_count": 44,
      "outputs": [
        {
          "output_type": "execute_result",
          "data": {
            "text/plain": [
              "<tf.Tensor: shape=(3, 3), dtype=float32, numpy=\n",
              "array([[ 0.,  1., -1.],\n",
              "       [ 2.,  2., -2.],\n",
              "       [ 3.,  0.,  3.]], dtype=float32)>"
            ]
          },
          "metadata": {
            "tags": []
          },
          "execution_count": 44
        }
      ]
    },
    {
      "cell_type": "code",
      "metadata": {
        "colab": {
          "base_uri": "https://localhost:8080/"
        },
        "id": "pfr2p3JEpOJz",
        "outputId": "1141c1a1-9e08-4a2c-ce45-9ef3b96f7ed0"
      },
      "source": [
        "#scatter_nd的作用和gather_nd有些相反\r\n",
        "#可以将某些值插入到一个给定shape的全0的张量的指定位置处。\r\n",
        "indices = tf.where(c<0)\r\n",
        "tf.scatter_nd(indices,tf.gather_nd(c,indices),c.shape)"
      ],
      "execution_count": 45,
      "outputs": [
        {
          "output_type": "execute_result",
          "data": {
            "text/plain": [
              "<tf.Tensor: shape=(3, 3), dtype=float32, numpy=\n",
              "array([[-1.,  0., -1.],\n",
              "       [ 0.,  0., -2.],\n",
              "       [ 0., -3.,  0.]], dtype=float32)>"
            ]
          },
          "metadata": {
            "tags": []
          },
          "execution_count": 45
        }
      ]
    },
    {
      "cell_type": "markdown",
      "metadata": {
        "id": "JzmhgVGWpbAf"
      },
      "source": [
        "三，维度变换\r\n",
        "\r\n",
        "维度变换相关函数主要有 tf.reshape, tf.squeeze, tf.expand_dims, tf.transpose.\r\n",
        "\r\n",
        "tf.reshape 可以改变张量的形状。\r\n",
        "\r\n",
        "tf.squeeze 可以减少维度。\r\n",
        "\r\n",
        "tf.expand_dims 可以增加维度。\r\n",
        "\r\n",
        "tf.transpose 可以交换维度。\r\n",
        "\r\n",
        "tf.reshape可以改变张量的形状，但是其本质上不会改变张量元素的存储顺序，所以，该操作实际上非常迅速，并且是可逆的。"
      ]
    },
    {
      "cell_type": "code",
      "metadata": {
        "colab": {
          "base_uri": "https://localhost:8080/"
        },
        "id": "aS-M9lZspaQR",
        "outputId": "768c95b5-415a-48fe-dc32-e085f1e402a6"
      },
      "source": [
        "a = tf.random.uniform(shape=[1,3,3,2],\r\n",
        "                      minval=0,maxval=255,dtype=tf.int32)\r\n",
        "tf.print(a.shape)\r\n",
        "tf.print(a)"
      ],
      "execution_count": 46,
      "outputs": [
        {
          "output_type": "stream",
          "text": [
            "TensorShape([1, 3, 3, 2])\n",
            "[[[[100 44]\n",
            "   [181 14]\n",
            "   [90 53]]\n",
            "\n",
            "  [[205 141]\n",
            "   [14 24]\n",
            "   [239 46]]\n",
            "\n",
            "  [[225 174]\n",
            "   [212 78]\n",
            "   [14 144]]]]\n"
          ],
          "name": "stdout"
        }
      ]
    },
    {
      "cell_type": "code",
      "metadata": {
        "colab": {
          "base_uri": "https://localhost:8080/"
        },
        "id": "qYX2V1asqY69",
        "outputId": "194d26d9-c35d-4745-9e3e-4d8c80fe6de0"
      },
      "source": [
        "# 改成 （3,6）形状的张量\r\n",
        "b = tf.reshape(a,[3,6])\r\n",
        "tf.print(b.shape)\r\n",
        "tf.print(b)"
      ],
      "execution_count": 47,
      "outputs": [
        {
          "output_type": "stream",
          "text": [
            "TensorShape([3, 6])\n",
            "[[100 44 181 14 90 53]\n",
            " [205 141 14 24 239 46]\n",
            " [225 174 212 78 14 144]]\n"
          ],
          "name": "stdout"
        }
      ]
    },
    {
      "cell_type": "code",
      "metadata": {
        "colab": {
          "base_uri": "https://localhost:8080/"
        },
        "id": "ZQ3NJAC3qdth",
        "outputId": "d0dc18ca-a296-40ba-d6bb-e6f672edca44"
      },
      "source": [
        "# 改回成 [1,3,3,2] 形状的张量\r\n",
        "c = tf.reshape(b,[1,3,3,2])\r\n",
        "tf.print(c)"
      ],
      "execution_count": 48,
      "outputs": [
        {
          "output_type": "stream",
          "text": [
            "[[[[100 44]\n",
            "   [181 14]\n",
            "   [90 53]]\n",
            "\n",
            "  [[205 141]\n",
            "   [14 24]\n",
            "   [239 46]]\n",
            "\n",
            "  [[225 174]\n",
            "   [212 78]\n",
            "   [14 144]]]]\n"
          ],
          "name": "stdout"
        }
      ]
    },
    {
      "cell_type": "markdown",
      "metadata": {
        "id": "mfGhGICsqjkZ"
      },
      "source": [
        "如果张量在某个维度上只有一个元素，利用tf.squeeze可以消除这个维度。\r\n",
        "\r\n",
        "和tf.reshape相似，它本质上不会改变张量元素的存储顺序。\r\n",
        "\r\n",
        "张量的各个元素在内存中是线性存储的，其一般规律是，同一层级中的相邻元素的物理地址也相邻。"
      ]
    },
    {
      "cell_type": "code",
      "metadata": {
        "colab": {
          "base_uri": "https://localhost:8080/"
        },
        "id": "gJUXQhv8qhtN",
        "outputId": "781f9ba7-678e-4bce-a193-95b394769842"
      },
      "source": [
        "s = tf.squeeze(a)\r\n",
        "tf.print(s.shape)\r\n",
        "tf.print(s)"
      ],
      "execution_count": 49,
      "outputs": [
        {
          "output_type": "stream",
          "text": [
            "TensorShape([3, 3, 2])\n",
            "[[[100 44]\n",
            "  [181 14]\n",
            "  [90 53]]\n",
            "\n",
            " [[205 141]\n",
            "  [14 24]\n",
            "  [239 46]]\n",
            "\n",
            " [[225 174]\n",
            "  [212 78]\n",
            "  [14 144]]]\n"
          ],
          "name": "stdout"
        }
      ]
    },
    {
      "cell_type": "code",
      "metadata": {
        "colab": {
          "base_uri": "https://localhost:8080/"
        },
        "id": "XjhuaeSIrHnf",
        "outputId": "25cc4792-3ad0-48e9-effe-da1a9a726d25"
      },
      "source": [
        "d = tf.expand_dims(s,axis=0) #在第0维插入长度为1的一个维度\r\n",
        "d"
      ],
      "execution_count": 50,
      "outputs": [
        {
          "output_type": "execute_result",
          "data": {
            "text/plain": [
              "<tf.Tensor: shape=(1, 3, 3, 2), dtype=int32, numpy=\n",
              "array([[[[100,  44],\n",
              "         [181,  14],\n",
              "         [ 90,  53]],\n",
              "\n",
              "        [[205, 141],\n",
              "         [ 14,  24],\n",
              "         [239,  46]],\n",
              "\n",
              "        [[225, 174],\n",
              "         [212,  78],\n",
              "         [ 14, 144]]]], dtype=int32)>"
            ]
          },
          "metadata": {
            "tags": []
          },
          "execution_count": 50
        }
      ]
    },
    {
      "cell_type": "code",
      "metadata": {
        "colab": {
          "base_uri": "https://localhost:8080/"
        },
        "id": "wXFw_702rN_H",
        "outputId": "9de3e73a-77d2-4cc4-f1c7-78446605c53a"
      },
      "source": [
        "# tf.transpose可以交换张量的维度，与tf.reshape不同，它会改变张量元素的存储顺序。\r\n",
        "# tf.transpose常用于图片存储格式的变换上。\r\n",
        "\r\n",
        "# Batch,Height,Width,Channel\r\n",
        "a = tf.random.uniform(shape=[100,600,600,4],minval=0,maxval=255,dtype=tf.int32)\r\n",
        "tf.print(a.shape)\r\n",
        "\r\n",
        "# 转换成 Channel,Height,Width,Batch\r\n",
        "s= tf.transpose(a,perm=[3,1,2,0])\r\n",
        "tf.print(s.shape)"
      ],
      "execution_count": 51,
      "outputs": [
        {
          "output_type": "stream",
          "text": [
            "TensorShape([100, 600, 600, 4])\n",
            "TensorShape([4, 600, 600, 100])\n"
          ],
          "name": "stdout"
        }
      ]
    },
    {
      "cell_type": "code",
      "metadata": {
        "colab": {
          "base_uri": "https://localhost:8080/"
        },
        "id": "DFjNqgfLsUta",
        "outputId": "60d379da-9e42-446e-9744-5aeb4dba6478"
      },
      "source": [
        "# 四，合并分割\r\n",
        "# 和numpy类似，可以用tf.concat和tf.stack方法对多个张量进行合并，可以用tf.split方法把一个张量分割成多个张量。\r\n",
        "\r\n",
        "# tf.concat和tf.stack有略微的区别，tf.concat是连接，不会增加维度，而tf.stack是堆叠，会增加维度。\r\n",
        "a = tf.constant([[1.0,2.0],[3.0,4.0]])\r\n",
        "b = tf.constant([[5.0,6.0],[7.0,8.0]])\r\n",
        "c = tf.constant([[9.0,10.0],[11.0,12.0]])\r\n",
        "\r\n",
        "tf.concat([a,b,c],axis = 0)\r\n"
      ],
      "execution_count": 52,
      "outputs": [
        {
          "output_type": "execute_result",
          "data": {
            "text/plain": [
              "<tf.Tensor: shape=(6, 2), dtype=float32, numpy=\n",
              "array([[ 1.,  2.],\n",
              "       [ 3.,  4.],\n",
              "       [ 5.,  6.],\n",
              "       [ 7.,  8.],\n",
              "       [ 9., 10.],\n",
              "       [11., 12.]], dtype=float32)>"
            ]
          },
          "metadata": {
            "tags": []
          },
          "execution_count": 52
        }
      ]
    },
    {
      "cell_type": "code",
      "metadata": {
        "colab": {
          "base_uri": "https://localhost:8080/"
        },
        "id": "OGqx5kzOsj2A",
        "outputId": "f2057706-d0c2-4fa7-b154-6870a0e8aa68"
      },
      "source": [
        "tf.concat([a,b,c],axis = 1)"
      ],
      "execution_count": 53,
      "outputs": [
        {
          "output_type": "execute_result",
          "data": {
            "text/plain": [
              "<tf.Tensor: shape=(2, 6), dtype=float32, numpy=\n",
              "array([[ 1.,  2.,  5.,  6.,  9., 10.],\n",
              "       [ 3.,  4.,  7.,  8., 11., 12.]], dtype=float32)>"
            ]
          },
          "metadata": {
            "tags": []
          },
          "execution_count": 53
        }
      ]
    },
    {
      "cell_type": "code",
      "metadata": {
        "colab": {
          "base_uri": "https://localhost:8080/"
        },
        "id": "GCtcteViso1u",
        "outputId": "3946069b-2f07-4701-c644-9854990af9cf"
      },
      "source": [
        "tf.stack([a,b,c])"
      ],
      "execution_count": 54,
      "outputs": [
        {
          "output_type": "execute_result",
          "data": {
            "text/plain": [
              "<tf.Tensor: shape=(3, 2, 2), dtype=float32, numpy=\n",
              "array([[[ 1.,  2.],\n",
              "        [ 3.,  4.]],\n",
              "\n",
              "       [[ 5.,  6.],\n",
              "        [ 7.,  8.]],\n",
              "\n",
              "       [[ 9., 10.],\n",
              "        [11., 12.]]], dtype=float32)>"
            ]
          },
          "metadata": {
            "tags": []
          },
          "execution_count": 54
        }
      ]
    },
    {
      "cell_type": "code",
      "metadata": {
        "colab": {
          "base_uri": "https://localhost:8080/"
        },
        "id": "ZVs9dWW7sv7j",
        "outputId": "709aaf6e-c933-4608-98ed-c35b1f91a171"
      },
      "source": [
        "tf.stack([a,b,c],axis=1)"
      ],
      "execution_count": 55,
      "outputs": [
        {
          "output_type": "execute_result",
          "data": {
            "text/plain": [
              "<tf.Tensor: shape=(2, 3, 2), dtype=float32, numpy=\n",
              "array([[[ 1.,  2.],\n",
              "        [ 5.,  6.],\n",
              "        [ 9., 10.]],\n",
              "\n",
              "       [[ 3.,  4.],\n",
              "        [ 7.,  8.],\n",
              "        [11., 12.]]], dtype=float32)>"
            ]
          },
          "metadata": {
            "tags": []
          },
          "execution_count": 55
        }
      ]
    },
    {
      "cell_type": "code",
      "metadata": {
        "colab": {
          "base_uri": "https://localhost:8080/"
        },
        "id": "vueseB7Bs_Ya",
        "outputId": "3710442e-f26f-4733-999b-59145f241ab0"
      },
      "source": [
        "a = tf.constant([[1.0,2.0],[3.0,4.0]])\r\n",
        "b = tf.constant([[5.0,6.0],[7.0,8.0]])\r\n",
        "c = tf.constant([[9.0,10.0],[11.0,12.0]])\r\n",
        "\r\n",
        "c = tf.concat([a,b,c],axis = 0)\r\n",
        "tf.print(c)"
      ],
      "execution_count": 58,
      "outputs": [
        {
          "output_type": "stream",
          "text": [
            "[[1 2]\n",
            " [3 4]\n",
            " [5 6]\n",
            " [7 8]\n",
            " [9 10]\n",
            " [11 12]]\n"
          ],
          "name": "stdout"
        }
      ]
    },
    {
      "cell_type": "code",
      "metadata": {
        "colab": {
          "base_uri": "https://localhost:8080/"
        },
        "id": "1OcuB7KOtQ5-",
        "outputId": "10aab489-344f-4fe1-d760-267e77acc19b"
      },
      "source": [
        "#tf.split是tf.concat的逆运算，可以指定分割份数平均分割，也可以通过指定每份的记录数量进行分割。\r\n",
        "#tf.split(value,num_or_size_splits,axis)\r\n",
        "tf.split(c,3,axis = 0)  #指定分割份数，平均分割"
      ],
      "execution_count": 59,
      "outputs": [
        {
          "output_type": "execute_result",
          "data": {
            "text/plain": [
              "[<tf.Tensor: shape=(2, 2), dtype=float32, numpy=\n",
              " array([[1., 2.],\n",
              "        [3., 4.]], dtype=float32)>,\n",
              " <tf.Tensor: shape=(2, 2), dtype=float32, numpy=\n",
              " array([[5., 6.],\n",
              "        [7., 8.]], dtype=float32)>,\n",
              " <tf.Tensor: shape=(2, 2), dtype=float32, numpy=\n",
              " array([[ 9., 10.],\n",
              "        [11., 12.]], dtype=float32)>]"
            ]
          },
          "metadata": {
            "tags": []
          },
          "execution_count": 59
        }
      ]
    },
    {
      "cell_type": "code",
      "metadata": {
        "colab": {
          "base_uri": "https://localhost:8080/"
        },
        "id": "gpzthbRYthrs",
        "outputId": "a44a286d-fd69-430e-955e-1362da82a387"
      },
      "source": [
        "tf.split(c,[2,2,2],axis = 0) #指定每份的记录数量"
      ],
      "execution_count": 60,
      "outputs": [
        {
          "output_type": "execute_result",
          "data": {
            "text/plain": [
              "[<tf.Tensor: shape=(2, 2), dtype=float32, numpy=\n",
              " array([[1., 2.],\n",
              "        [3., 4.]], dtype=float32)>,\n",
              " <tf.Tensor: shape=(2, 2), dtype=float32, numpy=\n",
              " array([[5., 6.],\n",
              "        [7., 8.]], dtype=float32)>,\n",
              " <tf.Tensor: shape=(2, 2), dtype=float32, numpy=\n",
              " array([[ 9., 10.],\n",
              "        [11., 12.]], dtype=float32)>]"
            ]
          },
          "metadata": {
            "tags": []
          },
          "execution_count": 60
        }
      ]
    }
  ]
}