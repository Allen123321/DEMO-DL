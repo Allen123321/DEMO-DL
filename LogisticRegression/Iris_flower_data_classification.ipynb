{
  "nbformat": 4,
  "nbformat_minor": 0,
  "metadata": {
    "colab": {
      "name": "Iris flower data classification",
      "provenance": [],
      "authorship_tag": "ABX9TyOmGqorLP6T3bFeud9RYbs+",
      "include_colab_link": true
    },
    "kernelspec": {
      "name": "python3",
      "display_name": "Python 3"
    }
  },
  "cells": [
    {
      "cell_type": "markdown",
      "metadata": {
        "id": "view-in-github",
        "colab_type": "text"
      },
      "source": [
        "<a href=\"https://colab.research.google.com/github/Allen123321/DEMO-DL/blob/master/Iris_flower_data_classification.ipynb\" target=\"_parent\"><img src=\"https://colab.research.google.com/assets/colab-badge.svg\" alt=\"Open In Colab\"/></a>"
      ]
    },
    {
      "cell_type": "code",
      "metadata": {
        "id": "_OIWeK4SOU0a",
        "colab_type": "code",
        "colab": {}
      },
      "source": [
        "import numpy as np\n",
        "import matplotlib as mpl\n",
        "import matplotlib.pyplot as plt\n",
        "import pandas as pd\n",
        "import warnings\n",
        "import sklearn\n",
        "from sklearn.linear_model import LogisticRegressionCV\n",
        "from sklearn.exceptions import ConvergenceWarning\n",
        "from sklearn.model_selection import train_test_split\n",
        "from sklearn.preprocessing import StandardScaler\n",
        "from sklearn.neighbors import KNeighborsClassifier\n",
        "from sklearn.preprocessing import label_binarize\n",
        "from sklearn import metrics"
      ],
      "execution_count": 1,
      "outputs": []
    },
    {
      "cell_type": "code",
      "metadata": {
        "id": "S425WVpATrk0",
        "colab_type": "code",
        "colab": {}
      },
      "source": [
        "warnings.filterwarnings(action = 'ignore', category=ConvergenceWarning)"
      ],
      "execution_count": 3,
      "outputs": []
    },
    {
      "cell_type": "code",
      "metadata": {
        "id": "3G8n-USzTtnr",
        "colab_type": "code",
        "colab": {
          "base_uri": "https://localhost:8080/",
          "height": 195
        },
        "outputId": "3ccd9f54-3101-4a69-bf06-811828434eba"
      },
      "source": [
        "## 数据加载\n",
        "path = \"iris.data\"\n",
        "names = ['sepal_length', 'sepal_width', 'petal_length', 'petal_width', 'cla']\n",
        "df = pd.read_csv(path, header=None, names = names)\n",
        "\n",
        "df.head()"
      ],
      "execution_count": 21,
      "outputs": [
        {
          "output_type": "execute_result",
          "data": {
            "text/html": [
              "<div>\n",
              "<style scoped>\n",
              "    .dataframe tbody tr th:only-of-type {\n",
              "        vertical-align: middle;\n",
              "    }\n",
              "\n",
              "    .dataframe tbody tr th {\n",
              "        vertical-align: top;\n",
              "    }\n",
              "\n",
              "    .dataframe thead th {\n",
              "        text-align: right;\n",
              "    }\n",
              "</style>\n",
              "<table border=\"1\" class=\"dataframe\">\n",
              "  <thead>\n",
              "    <tr style=\"text-align: right;\">\n",
              "      <th></th>\n",
              "      <th>sepal_length</th>\n",
              "      <th>sepal_width</th>\n",
              "      <th>petal_length</th>\n",
              "      <th>petal_width</th>\n",
              "      <th>cla</th>\n",
              "    </tr>\n",
              "  </thead>\n",
              "  <tbody>\n",
              "    <tr>\n",
              "      <th>0</th>\n",
              "      <td>5.1</td>\n",
              "      <td>3.5</td>\n",
              "      <td>1.4</td>\n",
              "      <td>0.2</td>\n",
              "      <td>Iris-setosa</td>\n",
              "    </tr>\n",
              "    <tr>\n",
              "      <th>1</th>\n",
              "      <td>4.9</td>\n",
              "      <td>3.0</td>\n",
              "      <td>1.4</td>\n",
              "      <td>0.2</td>\n",
              "      <td>Iris-setosa</td>\n",
              "    </tr>\n",
              "    <tr>\n",
              "      <th>2</th>\n",
              "      <td>4.7</td>\n",
              "      <td>3.2</td>\n",
              "      <td>1.3</td>\n",
              "      <td>0.2</td>\n",
              "      <td>Iris-setosa</td>\n",
              "    </tr>\n",
              "    <tr>\n",
              "      <th>3</th>\n",
              "      <td>4.6</td>\n",
              "      <td>3.1</td>\n",
              "      <td>1.5</td>\n",
              "      <td>0.2</td>\n",
              "      <td>Iris-setosa</td>\n",
              "    </tr>\n",
              "    <tr>\n",
              "      <th>4</th>\n",
              "      <td>5.0</td>\n",
              "      <td>3.6</td>\n",
              "      <td>1.4</td>\n",
              "      <td>0.2</td>\n",
              "      <td>Iris-setosa</td>\n",
              "    </tr>\n",
              "  </tbody>\n",
              "</table>\n",
              "</div>"
            ],
            "text/plain": [
              "   sepal_length  sepal_width  petal_length  petal_width          cla\n",
              "0           5.1          3.5           1.4          0.2  Iris-setosa\n",
              "1           4.9          3.0           1.4          0.2  Iris-setosa\n",
              "2           4.7          3.2           1.3          0.2  Iris-setosa\n",
              "3           4.6          3.1           1.5          0.2  Iris-setosa\n",
              "4           5.0          3.6           1.4          0.2  Iris-setosa"
            ]
          },
          "metadata": {
            "tags": []
          },
          "execution_count": 21
        }
      ]
    },
    {
      "cell_type": "code",
      "metadata": {
        "id": "IlwpPKfOX4jO",
        "colab_type": "code",
        "colab": {
          "base_uri": "https://localhost:8080/",
          "height": 862
        },
        "outputId": "34a42c69-e08e-4c7a-8791-2a8a234d01f1"
      },
      "source": [
        "df.info()\n",
        "df.sepal_length.value_counts()"
      ],
      "execution_count": 22,
      "outputs": [
        {
          "output_type": "stream",
          "text": [
            "<class 'pandas.core.frame.DataFrame'>\n",
            "RangeIndex: 150 entries, 0 to 149\n",
            "Data columns (total 5 columns):\n",
            " #   Column        Non-Null Count  Dtype  \n",
            "---  ------        --------------  -----  \n",
            " 0   sepal_length  150 non-null    float64\n",
            " 1   sepal_width   150 non-null    float64\n",
            " 2   petal_length  150 non-null    float64\n",
            " 3   petal_width   150 non-null    float64\n",
            " 4   cla           150 non-null    object \n",
            "dtypes: float64(4), object(1)\n",
            "memory usage: 6.0+ KB\n"
          ],
          "name": "stdout"
        },
        {
          "output_type": "execute_result",
          "data": {
            "text/plain": [
              "5.0    10\n",
              "6.3     9\n",
              "5.1     9\n",
              "6.7     8\n",
              "5.7     8\n",
              "5.5     7\n",
              "5.8     7\n",
              "6.4     7\n",
              "6.0     6\n",
              "4.9     6\n",
              "6.1     6\n",
              "5.4     6\n",
              "5.6     6\n",
              "6.5     5\n",
              "4.8     5\n",
              "7.7     4\n",
              "6.9     4\n",
              "5.2     4\n",
              "6.2     4\n",
              "4.6     4\n",
              "7.2     3\n",
              "6.8     3\n",
              "4.4     3\n",
              "5.9     3\n",
              "6.6     2\n",
              "4.7     2\n",
              "7.6     1\n",
              "7.4     1\n",
              "4.3     1\n",
              "7.9     1\n",
              "7.3     1\n",
              "7.0     1\n",
              "4.5     1\n",
              "5.3     1\n",
              "7.1     1\n",
              "Name: sepal_length, dtype: int64"
            ]
          },
          "metadata": {
            "tags": []
          },
          "execution_count": 22
        }
      ]
    },
    {
      "cell_type": "code",
      "metadata": {
        "id": "dw_Z-gemT6OB",
        "colab_type": "code",
        "colab": {}
      },
      "source": [
        "def parseRecord(record):\n",
        "    result=[]\n",
        "    r = zip(names,record)\n",
        "    for name,v in r:\n",
        "        if name == 'cla':\n",
        "            if v == 'Iris-setosa':\n",
        "                result.append(1)\n",
        "            elif v == 'Iris-versicolor':\n",
        "                result.append(2)\n",
        "            elif v == 'Iris-virginica':\n",
        "                result.append(3)\n",
        "            else:\n",
        "                result.append(np.nan)\n",
        "        else:\n",
        "            result.append(float(v))\n",
        "    return result"
      ],
      "execution_count": 23,
      "outputs": []
    },
    {
      "cell_type": "code",
      "metadata": {
        "id": "AAlvvfYXUDxT",
        "colab_type": "code",
        "colab": {
          "base_uri": "https://localhost:8080/",
          "height": 34
        },
        "outputId": "653d71b5-c166-4d86-c3b8-5396400938f5"
      },
      "source": [
        "### 1. 数据转换为数字以及分割\n",
        "## 数据转换\n",
        "datas = df.apply(lambda r: pd.Series(parseRecord(r), index = names),axis=1)\n",
        "\n",
        "## 异常数据删除\n",
        "datas = datas.dropna(how='any')\n",
        "\n",
        "## 数据分割\n",
        "X = datas[names[0:-1]]\n",
        "Y = datas[names[-1]]\n",
        "## 数据抽样(训练数据和测试数据分割)\n",
        "X_train,X_test,Y_train,Y_test = train_test_split(X, Y, test_size=0.4, random_state=0)\n",
        "print(\"原始数据条数:%d；训练数据条数:%d；特征个数:%d；测试样本条数:%d\" % (len(X), len(X_train), X_train.shape[1], X_test.shape[0]))"
      ],
      "execution_count": 46,
      "outputs": [
        {
          "output_type": "stream",
          "text": [
            "原始数据条数:150；训练数据条数:90；特征个数:4；测试样本条数:60\n"
          ],
          "name": "stdout"
        }
      ]
    },
    {
      "cell_type": "code",
      "metadata": {
        "id": "9qmQmC5kevjW",
        "colab_type": "code",
        "colab": {
          "base_uri": "https://localhost:8080/",
          "height": 166
        },
        "outputId": "1bc48a54-4961-4ee1-d88c-e5032f4eaf6d"
      },
      "source": [
        "X_train.describe().T"
      ],
      "execution_count": 47,
      "outputs": [
        {
          "output_type": "execute_result",
          "data": {
            "text/html": [
              "<div>\n",
              "<style scoped>\n",
              "    .dataframe tbody tr th:only-of-type {\n",
              "        vertical-align: middle;\n",
              "    }\n",
              "\n",
              "    .dataframe tbody tr th {\n",
              "        vertical-align: top;\n",
              "    }\n",
              "\n",
              "    .dataframe thead th {\n",
              "        text-align: right;\n",
              "    }\n",
              "</style>\n",
              "<table border=\"1\" class=\"dataframe\">\n",
              "  <thead>\n",
              "    <tr style=\"text-align: right;\">\n",
              "      <th></th>\n",
              "      <th>count</th>\n",
              "      <th>mean</th>\n",
              "      <th>std</th>\n",
              "      <th>min</th>\n",
              "      <th>25%</th>\n",
              "      <th>50%</th>\n",
              "      <th>75%</th>\n",
              "      <th>max</th>\n",
              "    </tr>\n",
              "  </thead>\n",
              "  <tbody>\n",
              "    <tr>\n",
              "      <th>sepal_length</th>\n",
              "      <td>90.0</td>\n",
              "      <td>5.838889</td>\n",
              "      <td>0.889855</td>\n",
              "      <td>4.3</td>\n",
              "      <td>5.100</td>\n",
              "      <td>5.70</td>\n",
              "      <td>6.475</td>\n",
              "      <td>7.9</td>\n",
              "    </tr>\n",
              "    <tr>\n",
              "      <th>sepal_width</th>\n",
              "      <td>90.0</td>\n",
              "      <td>3.097778</td>\n",
              "      <td>0.427424</td>\n",
              "      <td>2.2</td>\n",
              "      <td>2.825</td>\n",
              "      <td>3.05</td>\n",
              "      <td>3.400</td>\n",
              "      <td>4.4</td>\n",
              "    </tr>\n",
              "    <tr>\n",
              "      <th>petal_length</th>\n",
              "      <td>90.0</td>\n",
              "      <td>3.651111</td>\n",
              "      <td>1.869401</td>\n",
              "      <td>1.1</td>\n",
              "      <td>1.500</td>\n",
              "      <td>4.15</td>\n",
              "      <td>5.175</td>\n",
              "      <td>6.9</td>\n",
              "    </tr>\n",
              "    <tr>\n",
              "      <th>petal_width</th>\n",
              "      <td>90.0</td>\n",
              "      <td>1.153333</td>\n",
              "      <td>0.804370</td>\n",
              "      <td>0.1</td>\n",
              "      <td>0.200</td>\n",
              "      <td>1.30</td>\n",
              "      <td>1.900</td>\n",
              "      <td>2.5</td>\n",
              "    </tr>\n",
              "  </tbody>\n",
              "</table>\n",
              "</div>"
            ],
            "text/plain": [
              "              count      mean       std  min    25%   50%    75%  max\n",
              "sepal_length   90.0  5.838889  0.889855  4.3  5.100  5.70  6.475  7.9\n",
              "sepal_width    90.0  3.097778  0.427424  2.2  2.825  3.05  3.400  4.4\n",
              "petal_length   90.0  3.651111  1.869401  1.1  1.500  4.15  5.175  6.9\n",
              "petal_width    90.0  1.153333  0.804370  0.1  0.200  1.30  1.900  2.5"
            ]
          },
          "metadata": {
            "tags": []
          },
          "execution_count": 47
        }
      ]
    },
    {
      "cell_type": "code",
      "metadata": {
        "id": "JcA31_hVee5T",
        "colab_type": "code",
        "colab": {}
      },
      "source": [
        "### 2. 数据化处理\n",
        "ss = StandardScaler()\n",
        "X_train = ss.fit_transform(X_train)\n",
        "X_test = ss.transform(X_test)"
      ],
      "execution_count": 48,
      "outputs": []
    },
    {
      "cell_type": "code",
      "metadata": {
        "id": "nLlQlUN_eyed",
        "colab_type": "code",
        "colab": {
          "base_uri": "https://localhost:8080/",
          "height": 263
        },
        "outputId": "5918f9f5-b2d6-4deb-bcc9-425c17431763"
      },
      "source": [
        "### 5. 模型构建\n",
        "lr = LogisticRegressionCV(Cs=np.logspace(-4,1,50), fit_intercept=True, penalty='l2', solver='lbfgs', tol=0.01, multi_class='multinomial')\n",
        "lr.fit(X_train, Y_train)\n"
      ],
      "execution_count": 49,
      "outputs": [
        {
          "output_type": "execute_result",
          "data": {
            "text/plain": [
              "LogisticRegressionCV(Cs=array([1.00000000e-04, 1.26485522e-04, 1.59985872e-04, 2.02358965e-04,\n",
              "       2.55954792e-04, 3.23745754e-04, 4.09491506e-04, 5.17947468e-04,\n",
              "       6.55128557e-04, 8.28642773e-04, 1.04811313e-03, 1.32571137e-03,\n",
              "       1.67683294e-03, 2.12095089e-03, 2.68269580e-03, 3.39322177e-03,\n",
              "       4.29193426e-03, 5.42867544e-03, 6.86648845e-03, 8.68511374e-03,\n",
              "       1.09854114e-02, 1.38...\n",
              "       1.20679264e+00, 1.52641797e+00, 1.93069773e+00, 2.44205309e+00,\n",
              "       3.08884360e+00, 3.90693994e+00, 4.94171336e+00, 6.25055193e+00,\n",
              "       7.90604321e+00, 1.00000000e+01]),\n",
              "                     class_weight=None, cv=None, dual=False, fit_intercept=True,\n",
              "                     intercept_scaling=1.0, l1_ratios=None, max_iter=100,\n",
              "                     multi_class='multinomial', n_jobs=None, penalty='l2',\n",
              "                     random_state=None, refit=True, scoring=None,\n",
              "                     solver='lbfgs', tol=0.01, verbose=0)"
            ]
          },
          "metadata": {
            "tags": []
          },
          "execution_count": 49
        }
      ]
    },
    {
      "cell_type": "code",
      "metadata": {
        "id": "cQreckP7hwnf",
        "colab_type": "code",
        "colab": {
          "base_uri": "https://localhost:8080/",
          "height": 1000
        },
        "outputId": "b1c68a14-d8ac-474a-9567-a3c983e7ae98"
      },
      "source": [
        "label_binarize(Y_test,classes=(1,2,3))"
      ],
      "execution_count": 56,
      "outputs": [
        {
          "output_type": "execute_result",
          "data": {
            "text/plain": [
              "array([[0, 0, 1],\n",
              "       [0, 1, 0],\n",
              "       [1, 0, 0],\n",
              "       [0, 0, 1],\n",
              "       [1, 0, 0],\n",
              "       [0, 0, 1],\n",
              "       [1, 0, 0],\n",
              "       [0, 1, 0],\n",
              "       [0, 1, 0],\n",
              "       [0, 1, 0],\n",
              "       [0, 0, 1],\n",
              "       [0, 1, 0],\n",
              "       [0, 1, 0],\n",
              "       [0, 1, 0],\n",
              "       [0, 1, 0],\n",
              "       [1, 0, 0],\n",
              "       [0, 1, 0],\n",
              "       [0, 1, 0],\n",
              "       [1, 0, 0],\n",
              "       [1, 0, 0],\n",
              "       [0, 0, 1],\n",
              "       [0, 1, 0],\n",
              "       [1, 0, 0],\n",
              "       [1, 0, 0],\n",
              "       [0, 0, 1],\n",
              "       [1, 0, 0],\n",
              "       [1, 0, 0],\n",
              "       [0, 1, 0],\n",
              "       [0, 1, 0],\n",
              "       [1, 0, 0],\n",
              "       [0, 0, 1],\n",
              "       [0, 1, 0],\n",
              "       [1, 0, 0],\n",
              "       [0, 0, 1],\n",
              "       [0, 0, 1],\n",
              "       [0, 1, 0],\n",
              "       [1, 0, 0],\n",
              "       [0, 1, 0],\n",
              "       [0, 1, 0],\n",
              "       [0, 1, 0],\n",
              "       [0, 0, 1],\n",
              "       [1, 0, 0],\n",
              "       [0, 0, 1],\n",
              "       [1, 0, 0],\n",
              "       [1, 0, 0],\n",
              "       [0, 1, 0],\n",
              "       [0, 0, 1],\n",
              "       [0, 0, 1],\n",
              "       [0, 0, 1],\n",
              "       [0, 0, 1],\n",
              "       [0, 1, 0],\n",
              "       [0, 0, 1],\n",
              "       [0, 1, 0],\n",
              "       [0, 1, 0],\n",
              "       [0, 0, 1],\n",
              "       [0, 0, 1],\n",
              "       [0, 0, 1],\n",
              "       [0, 0, 1],\n",
              "       [0, 1, 0],\n",
              "       [0, 0, 1]])"
            ]
          },
          "metadata": {
            "tags": []
          },
          "execution_count": 56
        }
      ]
    },
    {
      "cell_type": "code",
      "metadata": {
        "id": "bZZ4425giMLS",
        "colab_type": "code",
        "colab": {
          "base_uri": "https://localhost:8080/",
          "height": 1000
        },
        "outputId": "6e3da593-3e59-4bf1-ccb4-04e35aeebc46"
      },
      "source": [
        "lr.decision_function(X_test)"
      ],
      "execution_count": 57,
      "outputs": [
        {
          "output_type": "execute_result",
          "data": {
            "text/plain": [
              "array([[-4.198647  ,  0.90455406,  3.29409294],\n",
              "       [-1.91651672,  2.8781106 , -0.96159388],\n",
              "       [ 6.24698811,  0.71942973, -6.96641784],\n",
              "       [-5.59745382,  1.86773312,  3.7297207 ],\n",
              "       [ 5.20652353,  1.538309  , -6.74483253],\n",
              "       [-4.79067356,  0.3693503 ,  4.42132325],\n",
              "       [ 5.37843295,  1.33847452, -6.71690747],\n",
              "       [-2.56957632,  1.61388469,  0.95569163],\n",
              "       [-3.14719673,  2.125193  ,  1.02200373],\n",
              "       [-1.46681299,  1.90965943, -0.44284644],\n",
              "       [-3.43194618,  2.0413526 ,  1.39059358],\n",
              "       [-1.86629475,  1.35297258,  0.51332217],\n",
              "       [-1.884282  ,  1.96096767, -0.07668567],\n",
              "       [-2.82587616,  1.92002577,  0.90585038],\n",
              "       [-2.07864576,  1.6787201 ,  0.39992566],\n",
              "       [ 4.94216152,  1.96202106, -6.90418258],\n",
              "       [-1.98350111,  1.56460522,  0.41889589],\n",
              "       [-1.32421229,  1.96067047, -0.63645818],\n",
              "       [ 4.5682627 ,  1.90019497, -6.46845767],\n",
              "       [ 5.49338381,  0.9200952 , -6.41347901],\n",
              "       [-3.02987312,  1.12241747,  1.90745565],\n",
              "       [-1.34129651,  1.25125475,  0.09004175],\n",
              "       [ 5.0843696 ,  1.43343229, -6.51780188],\n",
              "       [ 5.02287007,  1.92483695, -6.94770703],\n",
              "       [-3.23710195,  1.55003239,  1.68706956],\n",
              "       [ 6.47399321,  1.11099322, -7.58498643],\n",
              "       [ 5.12030017,  0.8940259 , -6.01432607],\n",
              "       [-1.65129561,  1.81357154, -0.16227593],\n",
              "       [ 0.01379294,  2.31579575, -2.32958869],\n",
              "       [ 4.73522456,  1.38385113, -6.11907568],\n",
              "       [-3.50329691,  1.22315475,  2.28014216],\n",
              "       [-1.11512057,  1.16020241, -0.04508184],\n",
              "       [ 5.17020034,  1.49811557, -6.66831591],\n",
              "       [-2.83139096,  1.23855857,  1.59283239],\n",
              "       [-4.92837062,  1.31143242,  3.6169382 ],\n",
              "       [-0.74389982,  1.55912485, -0.81522503],\n",
              "       [ 4.80804555,  1.24959602, -6.05764157],\n",
              "       [-3.07780965,  1.73085933,  1.34695032],\n",
              "       [-1.41931301,  1.39820155,  0.02111146],\n",
              "       [-1.31514632,  2.11107336, -0.79592703],\n",
              "       [-4.72182628,  1.31000254,  3.41182374],\n",
              "       [ 5.34024687,  1.67113423, -7.0113811 ],\n",
              "       [-4.68094814,  1.08710552,  3.59384262],\n",
              "       [ 4.54086079,  1.10160356, -5.64246435],\n",
              "       [ 5.32372989,  1.32667636, -6.65040625],\n",
              "       [-0.72993022,  2.7026209 , -1.97269068],\n",
              "       [-3.80623762,  1.3999267 ,  2.40631092],\n",
              "       [-4.98177803,  0.56182327,  4.41995475],\n",
              "       [-3.74788265,  2.46604521,  1.28183744],\n",
              "       [-5.24292467,  2.13683966,  3.10608501],\n",
              "       [-0.99963242,  2.23022378, -1.23059136],\n",
              "       [-6.64632927,  1.54799975,  5.09832952],\n",
              "       [-1.92962722,  1.09378755,  0.83583967],\n",
              "       [-0.98931473,  2.31939948, -1.33008475],\n",
              "       [-3.62712512,  1.72334825,  1.90377687],\n",
              "       [-3.03511255,  1.81169296,  1.22341959],\n",
              "       [-1.88316097,  1.43779865,  0.44536231],\n",
              "       [-4.28602133,  1.90688282,  2.37913851],\n",
              "       [-2.52687922,  1.69471832,  0.8321609 ],\n",
              "       [-3.92920673,  1.25929319,  2.66991353]])"
            ]
          },
          "metadata": {
            "tags": []
          },
          "execution_count": 57
        }
      ]
    },
    {
      "cell_type": "code",
      "metadata": {
        "id": "3UML9dxnfQ-s",
        "colab_type": "code",
        "colab": {
          "base_uri": "https://localhost:8080/",
          "height": 52
        },
        "outputId": "5af6709b-dcfa-44d4-c454-01ec4fccd831"
      },
      "source": [
        "### 6. 模型效果输出\n",
        "## 将正确的数据转换为矩阵形式  (每个类别使用向量来表示)\n",
        "y_test_hot = label_binarize(Y_test,classes=(1,2,3))\n",
        "## 得到预测的损失值\n",
        "lr_y_score = lr.decision_function(X_test)\n",
        "## 计算roc的值\n",
        "lr_fpr, lr_tpr, lr_threasholds = metrics.roc_curve(y_test_hot.ravel(),lr_y_score.ravel())\n",
        "## 计算auc的值\n",
        "lr_auc = metrics.auc(lr_fpr, lr_tpr)\n",
        "print(\"Logistic: ROC value：\", lr.score(X_train, Y_train))\n",
        "print(\"Logistic: AUC value：\", lr_auc)"
      ],
      "execution_count": 51,
      "outputs": [
        {
          "output_type": "stream",
          "text": [
            "Logistic: R value： 0.9777777777777777\n",
            "Logistic: AUC value： 0.9495833333333332\n"
          ],
          "name": "stdout"
        }
      ]
    },
    {
      "cell_type": "code",
      "metadata": {
        "id": "gXDswJqCfrco",
        "colab_type": "code",
        "colab": {
          "base_uri": "https://localhost:8080/",
          "height": 70
        },
        "outputId": "39bc01c8-54e2-4fa3-f4a0-4ae7774415a5"
      },
      "source": [
        "### 7. 模型预测\n",
        "lr_y_predict = lr.predict(X_test)\n",
        "print(lr_y_predict)"
      ],
      "execution_count": 53,
      "outputs": [
        {
          "output_type": "stream",
          "text": [
            "[3. 2. 1. 3. 1. 3. 1. 2. 2. 2. 2. 2. 2. 2. 2. 1. 2. 2. 1. 1. 3. 2. 1. 1.\n",
            " 3. 1. 1. 2. 2. 1. 3. 2. 1. 3. 3. 2. 1. 2. 2. 2. 3. 1. 3. 1. 1. 2. 3. 3.\n",
            " 2. 3. 2. 3. 2. 2. 3. 2. 2. 3. 2. 3.]\n"
          ],
          "name": "stdout"
        }
      ]
    },
    {
      "cell_type": "code",
      "metadata": {
        "id": "zZYt_sOCgCUy",
        "colab_type": "code",
        "colab": {
          "base_uri": "https://localhost:8080/",
          "height": 52
        },
        "outputId": "945de148-4e7f-4399-f3e6-e6bdc696c560"
      },
      "source": [
        "##### KNN算法实现\n",
        "# a. 模型构建\n",
        "knn = KNeighborsClassifier(n_neighbors=3)\n",
        "knn.fit(X_train, Y_train)\n",
        "\n",
        "# b. 模型效果输出\n",
        "## 将正确的数据转换为矩阵形式\n",
        "y_test_hot = label_binarize(Y_test,classes=(1,2,3))\n",
        "## 得到预测的损失值\n",
        "knn_y_score = knn.predict_proba(X_test)\n",
        "## 计算roc的值\n",
        "knn_fpr, knn_tpr, knn_threasholds = metrics.roc_curve(y_test_hot.ravel(),knn_y_score.ravel())\n",
        "## 计算auc的值\n",
        "knn_auc = metrics.auc(knn_fpr, knn_tpr)\n",
        "print(\"KNN:ROC value：\", knn.score(X_train, Y_train))\n",
        "print(\"KNN:AUC value：\", knn_auc)"
      ],
      "execution_count": 54,
      "outputs": [
        {
          "output_type": "stream",
          "text": [
            "KNN:ROC value： 0.9777777777777777\n",
            "KNN:AUC value： 0.9694444444444446\n"
          ],
          "name": "stdout"
        }
      ]
    },
    {
      "cell_type": "code",
      "metadata": {
        "id": "mp-NOdCogZpB",
        "colab_type": "code",
        "colab": {
          "base_uri": "https://localhost:8080/",
          "height": 976
        },
        "outputId": "a35a2460-3ce8-470e-f93f-faee74465c7e"
      },
      "source": [
        "# c. 模型预测\n",
        "knn_y_predict = knn.predict(X_test)\n",
        "\n",
        "## 画图1：ROC曲线画图\n",
        "plt.figure(figsize=(8, 6), facecolor='w')\n",
        "plt.plot(lr_fpr,lr_tpr,c='r',lw=2,label=u'Logistic,AUC=%.3f' % lr_auc)\n",
        "plt.plot(knn_fpr,knn_tpr,c='g',lw=2,label=u'KNN,AUC=%.3f' % knn_auc)\n",
        "plt.plot((0,1),(0,1),c='#a0a0a0',lw=2,ls='--')\n",
        "plt.xlim(-0.01, 1.02)\n",
        "plt.ylim(-0.01, 1.02)\n",
        "plt.xticks(np.arange(0, 1.1, 0.1))\n",
        "plt.yticks(np.arange(0, 1.1, 0.1))\n",
        "plt.xlabel('False Positive Rate(FPR)', fontsize=16)\n",
        "plt.ylabel('True Positive Rate(TPR)', fontsize=16)\n",
        "plt.grid(b=True, ls=':')\n",
        "plt.legend(loc='lower right', fancybox=True, framealpha=0.8, fontsize=12)\n",
        "plt.title(u'ROC/AUC of Iris data Logistic and KNN algorithm', fontsize=18)\n",
        "plt.show()\n",
        "\n",
        "## 画图2：预测结果画图\n",
        "x_test_len = range(len(X_test))\n",
        "plt.figure(figsize=(12, 9), facecolor='w')\n",
        "plt.ylim(0.5,3.5)\n",
        "plt.plot(x_test_len, Y_test, 'ro',markersize = 6, zorder=3, label=u'real value')\n",
        "plt.plot(x_test_len, lr_y_predict, 'go', markersize = 10, zorder=2, label=u'Logis predict,$R^2$=%.3f' % lr.score(X_test, Y_test))\n",
        "plt.plot(x_test_len, knn_y_predict, 'yo', markersize = 16, zorder=1, label=u'KNN predict,$R^2$=%.3f' % knn.score(X_test, Y_test))\n",
        "plt.legend(loc = 'lower right')\n",
        "plt.xlabel(u'data number', fontsize=18)\n",
        "plt.ylabel(u'class', fontsize=18)\n",
        "plt.title(u'Iris Classification', fontsize=20)\n",
        "plt.show()\n"
      ],
      "execution_count": 55,
      "outputs": [
        {
          "output_type": "display_data",
          "data": {
            "image/png": "[encoded data removed]",
            "text/plain": [
              "<Figure size 576x432 with 1 Axes>"
            ]
          },
          "metadata": {
            "tags": []
          }
        },
        {
          "output_type": "display_data",
          "data": {
            "image/png": "[encoded data removed]",
            "text/plain": [
              "<Figure size 864x648 with 1 Axes>"
            ]
          },
          "metadata": {
            "tags": []
          }
        }
      ]
    }
  ]
}