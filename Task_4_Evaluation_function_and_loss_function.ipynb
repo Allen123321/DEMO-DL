{
  "nbformat": 4,
  "nbformat_minor": 0,
  "metadata": {
    "colab": {
      "name": "Task-4_Evaluation function and loss function.ipynb",
      "provenance": [],
      "authorship_tag": "ABX9TyODQg+jZbzTl1myLdAmSCtp",
      "include_colab_link": true
    },
    "kernelspec": {
      "name": "python3",
      "display_name": "Python 3"
    }
  },
  "cells": [
    {
      "cell_type": "markdown",
      "metadata": {
        "id": "view-in-github",
        "colab_type": "text"
      },
      "source": [
        "<a href=\"https://colab.research.google.com/github/Allen123321/DEMO-DL/blob/master/Task_4_Evaluation_function_and_loss_function.ipynb\" target=\"_parent\"><img src=\"https://colab.research.google.com/assets/colab-badge.svg\" alt=\"Open In Colab\"/></a>"
      ]
    },
    {
      "cell_type": "markdown",
      "metadata": {
        "id": "EzqFbyd0kzne"
      },
      "source": [
        "## 评价函数与损失函数\r\n",
        "### 4.1任务目标\r\n",
        "学习常见的评价函数和损失函数Dice、IoU、BCE、Focal Loss、Lovász-Softmax；\r\n",
        "对评价/损失函数的实践；\r\n",
        "### 4.2 TP TN FP FN\r\n",
        "+ TP(真正例 true positive) \r\n",
        "+ TN(真反例 true negative) \r\n",
        "+ FP(假正例 false positive) \r\n",
        "+ FN(假反例 false negative)\r\n",
        "\r\n",
        "在分类问题中，我们经常看到上述的表述方式，以二分类为例，我们可以将所有的样本预测结果分成TP、TN、 FP、FN四类，并且每一类含有的样本数量之和为总样本数量，即TP+FP+FN+TN=总样本数量。其混淆矩阵如下：\r\n",
        "![image.png](data:image/png;base64,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)"
      ]
    },
    {
      "cell_type": "markdown",
      "metadata": {
        "id": "ghi4Zmj1liqW"
      },
      "source": [
        "上述的概念都是通过以预测结果的视角定义的，可以依据下面方式理解：\r\n",
        "+ 预测结果中的正例 → 在实际中是正例 → 的所有样本被称为真正例（TP）<预测正确>\r\n",
        "+ 预测结果中的正例 → 在实际中是反例 → 的所有样本被称为假正例（FP）<预测错误>\r\n",
        "+ 预测结果中的反例 → 在实际中是正例 → 的所有样本被称为假反例（FN）<预测错误>\r\n",
        "+ 预测结果中的反例 → 在实际中是反例 → 的所有样本被称为真反例（TN）<预测正确>\r\n",
        "\r\n",
        "精确率（precision）和召回率（recall）\r\n",
        " $$ Precision=\\frac{TP}{TP+FP} \\ Recall=\\frac{TP}{TP+FN} $$\r\n",
        "\r\n",
        "$Precision$代表了预测的正例中真正的正例所占比例；$Recall$代表了真正的正例中被正确预测出来的比例。"
      ]
    },
    {
      "cell_type": "markdown",
      "metadata": {
        "id": "QsFB56TmmKYr"
      },
      "source": [
        "转移到语义分割任务中来，我们可以将语义分割看作是对每一个图像像素的的分类问题。根据混淆矩阵中的定义，我们亦可以将特定像素所属的集合或区域划分成TP、TN、 FP、FN四类。\r\n",
        "\r\n",
        "![image](https://github.com/datawhalechina/team-learning-cv/blob/master/AerialImageSegmentation/img/Task4%EF%BC%9A%E8%AF%84%E4%BB%B7%E5%87%BD%E6%95%B0%E4%B8%8E%E6%8D%9F%E5%A4%B1%E5%87%BD%E6%95%B0_image/%E5%88%86%E5%89%B2%E5%AF%B9%E7%85%A7.png)\r\n",
        "\r\n",
        "以上面的图片为例，图中左子图中的人物区域（黄色像素集合）是我们真实标注的前景信息（target），其他区域（紫色像素集合）为背景信息。当经过预测之后，我们会得到的一张预测结果，图中右子图中的黄色像素为预测的前景（prediction），紫色像素为预测的背景区域。此时，我们便能够将预测结果分成4个部分：\r\n",
        "\r\n",
        "+ 预测结果中的黄色无线区域 → 真实的前景 → 的所有像素集合被称为真正例（TP）<预测正确>\r\n",
        "+ 预测结果中的蓝色斜线区域 → 真实的背景 → 的所有像素集合被称为假正例（FP）<预测错误>\r\n",
        "+ 预测结果中的红色斜线区域 → 真实的前景 → 的所有像素集合被称为假反例（FN）<预测错误>\r\n",
        "+ 预测结果中的白色斜线区域 → 真实的背景 → 的所有像素集合被称为真反例（TN）<预测正确>\r\n"
      ]
    },
    {
      "cell_type": "markdown",
      "metadata": {
        "id": "hOPEtmtDnhr6"
      },
      "source": [
        "### Dice评价指标\r\n",
        "Dice系数（Dice coefficient）是常见的评价分割效果的方法之一，同样也可以改写成损失函数用来度量prediction和target之间的距离。Dice系数定义如下：\r\n",
        "$$ Dice (T, P) = \\frac{2 |T \\cap P|}{|T| \\cup |P|} = \\frac{2TP}{FP+2TP+FN} $$ 式中：<br>\r\n",
        "$T$表示真实前景（target），$P$表示预测前景（prediction）。Dice系数取值范围为$[0,1]$，其中值为1时代表预测与真实完全一致。仔细观察，Dice系数与分类评价指标中的F1 score很相似：\r\n",
        "$$ \\frac{1}{F1} = \\frac{1}{Precision} + \\frac{1}{Recall} \\ F1 = \\frac{2TP}{FP+2TP+FN} $$\r\n",
        "\r\n",
        "所以，Dice系数不仅在直观上体现了target与prediction的相似程度，同时其本质上还隐含了精确率和召回率两个重要指标。\r\n",
        "\r\n",
        "计算Dice时，将$|T \\cap P|$近似为prediction与target对应元素相乘再相加的结果。$|T|$ 和$|P|$的计算直接进行简单的元素求和（也有一些做法是取平方求和），如下示例：\r\n",
        "\r\n",
        "$$ |T \\cap P| = \\begin{bmatrix} 0.01 & 0.03 & 0.02 & 0.02 \\ 0.05 & 0.12 & 0.09 & 0.07 \\ 0.89 & 0.85 & 0.88 & 0.91 \\ 0.99 & 0.97 & 0.95 & 0.97 \\ \\end{bmatrix} * \\begin{bmatrix} 0 & 0 & 0 & 0 \\ 0 & 0 & 0 & 0 \\ 1 & 1 & 1 & 1 \\ 1 & 1 & 1 & 1 \\ \\end{bmatrix} \\stackrel{}{\\rightarrow} \\begin{bmatrix} 0 & 0 & 0 & 0 \\ 0 & 0 & 0 & 0 \\ 0.89 & 0.85 & 0.88 & 0.91 \\ 0.99 & 0.97 & 0.95 & 0.97 \\ \\end{bmatrix} \\stackrel{sum}{\\rightarrow} 7.41 $$\r\n",
        "\r\n",
        "$$ |T| = \\begin{bmatrix} 0.01 & 0.03 & 0.02 & 0.02 \\ 0.05 & 0.12 & 0.09 & 0.07 \\ 0.89 & 0.85 & 0.88 & 0.91 \\ 0.99 & 0.97 & 0.95 & 0.97 \\ \\end{bmatrix} \\stackrel{sum}{\\rightarrow} 7.82 $$\r\n",
        "\r\n",
        "$$ |P| = \\begin{bmatrix} 0 & 0 & 0 & 0 \\ 0 & 0 & 0 & 0 \\ 1 & 1 & 1 & 1 \\ 1 & 1 & 1 & 1 \\ \\end{bmatrix} \\stackrel{sum}{\\rightarrow} 8 $$\r\n",
        "\r\n",
        "Dice Loss\r\n",
        "\r\n",
        "Dice Loss是在V-net模型中被提出应用的，是通过Dice系数转变而来，其实为了能够实现最小化的损失函数，以方便模型训练，以$1 - Dice$的形式作为损失函数： $$ L = 1-\\frac{2 |T \\cap P|}{|T| \\cup |P|} $$ 在一些场合还可以添加上Laplace smoothing减少过拟合： $$ L = 1-\\frac{2 |T \\cap P| + 1}{|T| \\cup |P|+1} $$"
      ]
    },
    {
      "cell_type": "code",
      "metadata": {
        "id": "yDd-eKhbmJtw",
        "colab": {
          "base_uri": "https://localhost:8080/"
        },
        "outputId": "2869b5a8-12a0-4611-e683-261c19201995"
      },
      "source": [
        "# 代码实现\r\n",
        "import numpy as np\r\n",
        "\r\n",
        "def dice(output, target):\r\n",
        "    '''计算Dice系数'''\r\n",
        "    smooth = 1e-6 # 避免0为除数\r\n",
        "    intersection = (output * target).sum()\r\n",
        "    return (2. * intersection + smooth) / (output.sum() + target.sum() + smooth)\r\n",
        "\r\n",
        "# 生成随机两个矩阵测试\r\n",
        "target = np.random.randint(0, 2, (3, 3))\r\n",
        "output = np.random.randint(0, 2, (3, 3))\r\n",
        "print(\"target  ************\")\r\n",
        "print(target)\r\n",
        "print(\"output  ************\")\r\n",
        "print(output)\r\n",
        "d = dice(output, target)\r\n",
        "\r\n",
        "print(\"d:\",d)"
      ],
      "execution_count": 3,
      "outputs": [
        {
          "output_type": "stream",
          "text": [
            "target  ************\n",
            "[[1 1 0]\n",
            " [1 0 1]\n",
            " [1 0 0]]\n",
            "output  ************\n",
            "[[1 0 0]\n",
            " [0 1 0]\n",
            " [0 0 0]]\n",
            "d: 0.28571438775508745\n"
          ],
          "name": "stdout"
        }
      ]
    },
    {
      "cell_type": "markdown",
      "metadata": {
        "id": "u94hjT5ztX2s"
      },
      "source": [
        "###  IoU评价指标\r\n",
        "IoU（intersection over union）指标就是常说的交并比，不仅在语义分割评价中经常被使用，在目标检测中也是常用的评价指标。顾名思义，交并比就是指target与prediction两者之间交集与并集的比值：\r\n",
        "\r\n",
        "$$ IoU=\\frac{T \\cap P}{T \\cup P}=\\frac{TP}{FP+TP+FN} $$ 仍然以人物前景分割为例，如下图，其IoU的计算就是使用$intersection / union$。"
      ]
    },
    {
      "cell_type": "markdown",
      "metadata": {
        "id": "Je90f8MjtmRK"
      },
      "source": [
        "### 代码实现"
      ]
    },
    {
      "cell_type": "code",
      "metadata": {
        "id": "91QxcqSYYvMP",
        "colab": {
          "base_uri": "https://localhost:8080/"
        },
        "outputId": "6137173d-80b3-4f3a-9747-9b2a0b0a2ae5"
      },
      "source": [
        "'''计算IoU指标'''\r\n",
        "def iou_score(output, target):\r\n",
        "  intersection = np.logical_and(target, output) \r\n",
        "  union = np.logical_or(target, output) \r\n",
        "  return np.sum(intersection) / np.sum(union)\r\n",
        "\r\n",
        "# 生成随机两个矩阵测试\r\n",
        "target = np.random.randint(0, 2, (3, 3))\r\n",
        "output = np.random.randint(0, 2, (3, 3))\r\n",
        "print(\"target  ************\")\r\n",
        "print(target)\r\n",
        "print(\"output  ************\")\r\n",
        "print(output)\r\n",
        "d = iou_score(output, target)\r\n",
        "print(\"iou_score:\",d)"
      ],
      "execution_count": 6,
      "outputs": [
        {
          "output_type": "stream",
          "text": [
            "target  ************\n",
            "[[1 1 1]\n",
            " [1 1 0]\n",
            " [1 0 0]]\n",
            "output  ************\n",
            "[[0 1 1]\n",
            " [0 0 1]\n",
            " [0 0 0]]\n",
            "iou_score: 0.2857142857142857\n"
          ],
          "name": "stdout"
        }
      ]
    },
    {
      "cell_type": "markdown",
      "metadata": {
        "id": "BhGa2r6iukJx"
      },
      "source": [
        "### BCE损失函数\r\n",
        "BCE损失函数（Binary Cross-Entropy Loss）是交叉熵损失函数（Cross-Entropy Loss）的一种特例，BCE Loss只应用在二分类任务中。针对分类问题，单样本的交叉熵损失为： $$ l(\\pmb y, \\pmb{\\hat y})=- \\sum_{i=1}^{c}y_i \\cdot log\\hat y_i $$ 式中，$\\pmb{y}={y_1,y_2,...,y_c,}$，其中$y_i$是非0即1的数字，代表了是否属于第$i$类，为真实值；$\\hat y_i$代表属于第i类的概率，为预测值。可以看出，交叉熵损失考虑了多类别情况，针对每一种类别都求了损失。针对二分类问题，上述公式可以改写为： $$ l(y,\\hat y)=-[y \\cdot log\\hat y +(1-y)\\cdot log (1-\\hat y)] $$ 式中,$y$为真实值，非1即0；$\\hat y$为所属此类的概率值，为预测值。这个公式也就是BCE损失函数，即二分类任务时的交叉熵损失。值得强调的是，公式中的$\\hat y$为概率分布形式，因此在使用BCE损失前，都应该将预测出来的结果转变成概率值，一般为sigmoid激活之后的输出。"
      ]
    },
    {
      "cell_type": "markdown",
      "metadata": {
        "id": "s6NT19Ewu7-x"
      },
      "source": [
        "### 代码实现\r\n",
        "在pytorch中，官方已经给出了BCE损失函数的API，免去了自己编写函数的痛苦：\r\n",
        "\r\n",
        "torch.nn.BCELoss(weight: Optional[torch.Tensor] = None, size_average=None, reduce=None, reduction: str = 'mean') $$ ℓ(y,\\hat y)=L={l_1,…,l_N }^⊤,\\ \\ \\ l_n=-w_n[y_n \\cdot log\\hat y_n +(1-y_n)\\cdot log (1-\\hat y_n)] $$ 参数： weight(Tensor)- 为每一批量下的loss添加一个权重，很少使用 size_average(bool)- 弃用中 reduce(bool)- 弃用中 reduction(str) - 'none' | 'mean' | 'sum'：为代替上面的size_average和reduce而生。——为mean时返回的该批量样本loss的平均值；为sum时，返回的该批量样本loss之和"
      ]
    },
    {
      "cell_type": "markdown",
      "metadata": {
        "id": "fW2gX-9Uvneh"
      },
      "source": [
        "同时，pytorch还提供了已经结合了Sigmoid函数的BCE损失：torch.nn.BCEWithLogitsLoss()，相当于免去了实现进行Sigmoid激活的操作。"
      ]
    },
    {
      "cell_type": "code",
      "metadata": {
        "colab": {
          "base_uri": "https://localhost:8080/"
        },
        "id": "l8pcpu8BvtfG",
        "outputId": "ae7d4bc1-eda9-4add-863e-7a60b111ec76"
      },
      "source": [
        "import torch\r\n",
        "import torch.nn as nn\r\n",
        "\r\n",
        "bce = nn.BCELoss()\r\n",
        "bce_sig = nn.BCEWithLogitsLoss()\r\n",
        "\r\n",
        "input = torch.randn(5, 1, requires_grad=True)\r\n",
        "target = torch.empty(5, 1).random_(2)\r\n",
        "pre = nn.Sigmoid()(input)\r\n",
        "\r\n",
        "loss_bce = bce(pre, target)\r\n",
        "loss_bce_sig = bce_sig(input, target)\r\n",
        "\r\n",
        "print(\"target  ************\")\r\n",
        "print(target)\r\n",
        "print(\"input  ************\")\r\n",
        "print(input)\r\n",
        "print(\"pre  ************\")\r\n",
        "print(pre)\r\n",
        "\r\n",
        "print(loss_bce)\r\n",
        "\r\n",
        "print(loss_bce_sig)"
      ],
      "execution_count": 9,
      "outputs": [
        {
          "output_type": "stream",
          "text": [
            "target  ************\n",
            "tensor([[0.],\n",
            "        [0.],\n",
            "        [1.],\n",
            "        [0.],\n",
            "        [0.]])\n",
            "input  ************\n",
            "tensor([[-1.1285],\n",
            "        [-0.0195],\n",
            "        [-0.5302],\n",
            "        [-2.0519],\n",
            "        [ 0.0976]], requires_grad=True)\n",
            "pre  ************\n",
            "tensor([[0.2444],\n",
            "        [0.4951],\n",
            "        [0.3705],\n",
            "        [0.1139],\n",
            "        [0.5244]], grad_fn=<SigmoidBackward>)\n",
            "tensor(0.5642, grad_fn=<BinaryCrossEntropyBackward>)\n",
            "tensor(0.5642, grad_fn=<BinaryCrossEntropyWithLogitsBackward>)\n"
          ],
          "name": "stdout"
        }
      ]
    },
    {
      "cell_type": "markdown",
      "metadata": {
        "id": "JwvIkmyxwfEI"
      },
      "source": [
        "### Focal Loss\r\n",
        "Focal loss最初是出现在目标检测领域，主要是为了解决正负样本比例失调的问题。那么对于分割任务来说，如果存在数据不均衡的情况，也可以借用focal loss来进行缓解。Focal loss函数公式如下所示：\r\n",
        "\r\n",
        "$$ loss = -\\frac{1}{N} \\sum_{i=1}^{N}\\left(\\alpha y_{i}\\left(1-p_{i}\\right)^{\\gamma} \\log p_{i}+(1-\\alpha)\\left(1-y_{i}\\right) p_{i}^{\\gamma} \\log \\left(1-p_{i}\\right)\\right) $$ 仔细观察就不难发现，它其实是BCE扩展而来，对比BCE其实就多了个 $$ \\alpha(1-p_{i})^{\\gamma}和(1-\\alpha)p_{i}^{\\gamma} $$ 为什么多了这个就能缓解正负样本不均衡的问题呢？见下图：\r\n",
        "\r\n",
        "![image.png](data:image/png;base64,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)"
      ]
    },
    {
      "cell_type": "markdown",
      "metadata": {
        "id": "xFSARWYwxSzm"
      },
      "source": [
        "简单来说：$α$解决样本不平衡问题，$γ$解决样本难易问题。\r\n",
        "\r\n",
        "也就是说，当数据不均衡时，可以根据比例设置合适的$α$，这个很好理解，为了能够使得正负样本得到的损失能够均衡，因此对loss前面加上一定的权重，其中负样本数量多，因此占用的权重可以设置的小一点；正样本数量少，就对正样本产生的损失的权重设的高一点。\r\n",
        "\r\n",
        "那γ具体怎么起作用呢？以图中$γ=5$曲线为例，假设$gt$类别为1，当模型预测结果为1的概率$p_t$比较大时，我们认为模型预测的比较准确，也就是说这个样本比较简单。而对于比较简单的样本，我们希望提供的loss小一些而让模型主要学习难一些的样本，也就是$p_t→ 1$则loss接近于0，既不用再特别学习；当分类错误时，$p_t → 0$则loss正常产生，继续学习。对比图中蓝色和绿色曲线，可以看到，γ值越大，当模型预测结果比较准确的时候能提供更小的loss，符合我们为简单样本降低loss的预期。"
      ]
    },
    {
      "cell_type": "code",
      "metadata": {
        "colab": {
          "base_uri": "https://localhost:8080/"
        },
        "id": "amuCTN_9wb_K",
        "outputId": "3c78699f-4ceb-4629-8165-4ce710fcd672"
      },
      "source": [
        "import torch.nn as nn\r\n",
        "import torch\r\n",
        "import torch.nn.functional as F\r\n",
        "\r\n",
        "class FocalLoss(nn.Module):\r\n",
        "    def __init__(self, alpha=1, gamma=2, logits=False, reduce=True):\r\n",
        "        super(FocalLoss, self).__init__()\r\n",
        "        self.alpha = alpha\r\n",
        "        self.gamma = gamma\r\n",
        "        self.logits = logits\t# 如果BEC带logits则损失函数在计算BECloss之前会自动计算softmax/sigmoid将其映射到[0,1]\r\n",
        "        self.reduce = reduce\r\n",
        "\r\n",
        "    def forward(self, inputs, targets):\r\n",
        "        if self.logits:\r\n",
        "            BCE_loss = F.binary_cross_entropy_with_logits(inputs, targets, reduce=False)\r\n",
        "        else:\r\n",
        "            BCE_loss = F.binary_cross_entropy(inputs, targets, reduce=False)\r\n",
        "        pt = torch.exp(-BCE_loss)\r\n",
        "        F_loss = self.alpha * (1-pt)**self.gamma * BCE_loss\r\n",
        "\r\n",
        "        if self.reduce:\r\n",
        "            return torch.mean(F_loss)\r\n",
        "        else:\r\n",
        "            return F_loss\r\n",
        "\r\n",
        "FL1 = FocalLoss(logits=False)\r\n",
        "FL2 = FocalLoss(logits=True)\r\n",
        "\r\n",
        "inputs = torch.randn(5, 1, requires_grad=True)\r\n",
        "targets = torch.empty(5, 1).random_(2)\r\n",
        "pre = nn.Sigmoid()(inputs)\r\n",
        "f_loss_1 = FL1(pre, targets)\r\n",
        "f_loss_2 = FL2(inputs, targets)\r\n",
        "\r\n",
        "print('inputs:', inputs)\r\n",
        "print('targets:', targets)\r\n",
        "print('pre:', pre)\r\n",
        "\r\n",
        "print('f_loss_1:', f_loss_1)\r\n",
        "\r\n",
        "print('f_loss_2', f_loss_2)"
      ],
      "execution_count": 10,
      "outputs": [
        {
          "output_type": "stream",
          "text": [
            "inputs: tensor([[-0.3156],\n",
            "        [ 1.3554],\n",
            "        [ 0.1046],\n",
            "        [ 1.5615],\n",
            "        [-1.5017]], requires_grad=True)\n",
            "targets: tensor([[1.],\n",
            "        [0.],\n",
            "        [1.],\n",
            "        [0.],\n",
            "        [1.]])\n",
            "pre: tensor([[0.4218],\n",
            "        [0.7950],\n",
            "        [0.5261],\n",
            "        [0.8266],\n",
            "        [0.1822]], grad_fn=<SigmoidBackward>)\n",
            "f_loss_1: tensor(0.7541, grad_fn=<MeanBackward0>)\n",
            "f_loss_2 tensor(0.7541, grad_fn=<MeanBackward0>)\n"
          ],
          "name": "stdout"
        },
        {
          "output_type": "stream",
          "text": [
            "/usr/local/lib/python3.7/dist-packages/torch/nn/_reduction.py:44: UserWarning: size_average and reduce args will be deprecated, please use reduction='none' instead.\n",
            "  warnings.warn(warning.format(ret))\n"
          ],
          "name": "stderr"
        }
      ]
    },
    {
      "cell_type": "markdown",
      "metadata": {
        "id": "AKLg5O0wz1th"
      },
      "source": [
        "### Lovász-Softmax"
      ]
    },
    {
      "cell_type": "markdown",
      "metadata": {
        "id": "9aznXR5cz6ab"
      },
      "source": [
        "IoU是评价分割模型分割结果质量的重要指标，因此很自然想到能否用$1-IoU$（即Jaccard loss）来做损失函数，但是它是一个离散的loss，不能直接求导，所以无法直接用来作为损失函数。为了克服这个离散的问题，可以采用lLovász extension将离散的Jaccard loss 变得连续，从而可以直接求导，使得其作为分割网络的loss function。Lovász-Softmax相比于交叉熵函数具有更好的效果。"
      ]
    },
    {
      "cell_type": "markdown",
      "metadata": {
        "id": "GF5OHqDZz8C9"
      },
      "source": [
        "首先明确定义，在语义分割任务中，给定真实像素标签向量$\\pmb{y^*}$和预测像素标签$\\pmb{\\hat{y}}$，则所属类别$c$的IoU（也称为Jaccard index）如下，其取值范围为$[0,1]$，并规定$0/0=1$：\r\n",
        "$$\r\n",
        "J_c(\\pmb{y^*},\\pmb{\\hat{y}})=\\frac{|\\{\\pmb{y^*}=c\\} \\cap \\{\\pmb{\\hat{y}}=c\\}|}{|\\{\\pmb{y^*}=c\\} \\cup \\{\\pmb{\\hat{y}}=c\\}|}\r\n",
        "$$\r\n",
        "则Jaccard loss为：\r\n",
        "$$\r\n",
        "\\Delta_{J_c}(\\pmb{y^*},\\pmb{\\hat{y}}) =1-J_c(\\pmb{y^*},\\pmb{\\hat{y}})\r\n",
        "$$\r\n",
        "针对类别$c$，所有未被正确预测的像素集合定义为：\r\n",
        "$$\r\n",
        "M_c(\\pmb{y^*},\\pmb{\\hat{y}})=\\{\\pmb{y^*}=c, \\pmb{\\hat{y}} \\neq c\\}\\cup \\{\\{\\pmb{y^*}\\neq c, \\pmb{\\hat{y}} = c\\}\\}\r\n",
        "$$\r\n",
        "则可将Jaccard loss改写为关于$M_c$的子模集合函数（submodular set functions）：\r\n",
        "$$\r\n",
        "\\Delta_{J_c}:M_c \\in \\{0,1\\}^{p} \\mapsto \\frac{|M_c|}{|\\{\\pmb{y^*}=c\\}\\cup M_c|}\r\n",
        "$$\r\n",
        "方便理解，此处可以把$\\{0,1\\}^p$理解成如图像mask展开成离散一维向量的形式。"
      ]
    },
    {
      "cell_type": "markdown",
      "metadata": {
        "id": "IZ9AObqZ5bZe"
      },
      "source": [
        "Lovász extension可以求解子模最小化问题，并且子模的Lovász extension是凸函数，可以高效实现最小化。在论文中作者对$\\Delta$（集合函数）和$\\overline{\\Delta}$（集合函数的Lovász extension）进行了定义，为不涉及过多概念以方便理解，此处不再过多讨论。我们可以将$\\overline{\\Delta}$理解为一个线性插值函数，可以将$\\{0,1\\}^p$这种离散向量连续化，主要是为了方便后续反向传播、求梯度等等。因此我们可以通过这个线性插值函数得到$\\Delta_{J_c}$的Lovász extension$\\overline{\\Delta_{J_c}}$。\r\n",
        "\r\n",
        "在具有$c(c>2)$个类别的语义分割任务中，我们使用Softmax函数将模型的输出映射到概率分布形式，类似传统交叉熵损失函数所进行的操作：\r\n",
        "$$\r\n",
        "p_i(c)=\\frac{e^{F_i(c)}}{\\sum_{c^{'}\\in C}e^{F_i(c^{'})}}　　\\forall i \\in [1,p],\\forall c \\in C\r\n",
        "$$\r\n",
        "式中，$p_i(c)$表示了像素$i$所属类别$c$的概率。通过上式可以构建每个像素产生的误差$m(c)$：\r\n",
        "$$\r\n",
        "m_i(c)=\\left \\{  \r\n",
        "\\begin{array}{c}\r\n",
        "1-p_i(c),\\ \\ if \\ \\ c=y^{*}_{i} \\\\\r\n",
        "p_i(c),\\ \\ \\ \\ \\ \\ \\ otherwise\r\n",
        "\\end{array}\r\n",
        "\\right.\r\n",
        "$$\r\n",
        "可知，对于一张图像中所有像素则误差向量为$m(c)\\in \\{0, 1\\}^p$，则可以建立关于$\\Delta_{J_c}$的代理损失函数：\r\n",
        "$$\r\n",
        "loss(p(c))=\\overline{\\Delta_{J_c}}(m(c))\r\n",
        "$$\r\n",
        "当我们考虑整个数据集是，一般会使用mIoU进行度量，因此我们对上述损失也进行平均化处理，则定义的Lovász-Softmax损失函数为：\r\n",
        "$$\r\n",
        "loss(\\pmb{p})=\\frac{1}{|C|}\\sum_{c\\in C}\\overline{\\Delta_{J_c}}(m(c))\r\n",
        "$$"
      ]
    },
    {
      "cell_type": "code",
      "metadata": {
        "id": "yDSdyBDyzxiC"
      },
      "source": [
        "import torch\r\n",
        "from torch.autograd import Variable\r\n",
        "import torch.nn.functional as F\r\n",
        "import numpy as np\r\n",
        "try:\r\n",
        "    from itertools import  ifilterfalse\r\n",
        "except ImportError: # py3k\r\n",
        "    from itertools import  filterfalse as ifilterfalse\r\n",
        "    \r\n",
        "# --------------------------- MULTICLASS LOSSES ---------------------------\r\n",
        "def lovasz_softmax(probas, labels, classes='present', per_image=False, ignore=None):\r\n",
        "    \"\"\"\r\n",
        "    Multi-class Lovasz-Softmax loss\r\n",
        "      probas: [B, C, H, W] Variable, class probabilities at each prediction (between 0 and 1).\r\n",
        "              Interpreted as binary (sigmoid) output with outputs of size [B, H, W].\r\n",
        "      labels: [B, H, W] Tensor, ground truth labels (between 0 and C - 1)\r\n",
        "      classes: 'all' for all, 'present' for classes present in labels, or a list of classes to average.\r\n",
        "      per_image: compute the loss per image instead of per batch\r\n",
        "      ignore: void class labels\r\n",
        "    \"\"\"\r\n",
        "    if per_image:\r\n",
        "        loss = mean(lovasz_softmax_flat(*flatten_probas(prob.unsqueeze(0), lab.unsqueeze(0), ignore), classes=classes)\r\n",
        "                          for prob, lab in zip(probas, labels))\r\n",
        "    else:\r\n",
        "        loss = lovasz_softmax_flat(*flatten_probas(probas, labels, ignore), classes=classes)\r\n",
        "    return loss\r\n",
        "\r\n",
        "\r\n",
        "def lovasz_softmax_flat(probas, labels, classes='present'):\r\n",
        "    \"\"\"\r\n",
        "    Multi-class Lovasz-Softmax loss\r\n",
        "      probas: [P, C] Variable, class probabilities at each prediction (between 0 and 1)\r\n",
        "      labels: [P] Tensor, ground truth labels (between 0 and C - 1)\r\n",
        "      classes: 'all' for all, 'present' for classes present in labels, or a list of classes to average.\r\n",
        "    \"\"\"\r\n",
        "    if probas.numel() == 0:\r\n",
        "        # only void pixels, the gradients should be 0\r\n",
        "        return probas * 0.\r\n",
        "    C = probas.size(1)\r\n",
        "    losses = []\r\n",
        "    class_to_sum = list(range(C)) if classes in ['all', 'present'] else classes\r\n",
        "    for c in class_to_sum:\r\n",
        "        fg = (labels == c).float() # foreground for class c\r\n",
        "        if (classes is 'present' and fg.sum() == 0):\r\n",
        "            continue\r\n",
        "        if C == 1:\r\n",
        "            if len(classes) > 1:\r\n",
        "                raise ValueError('Sigmoid output possible only with 1 class')\r\n",
        "            class_pred = probas[:, 0]\r\n",
        "        else:\r\n",
        "            class_pred = probas[:, c]\r\n",
        "        errors = (Variable(fg) - class_pred).abs()\r\n",
        "        errors_sorted, perm = torch.sort(errors, 0, descending=True)\r\n",
        "        perm = perm.data\r\n",
        "        fg_sorted = fg[perm]\r\n",
        "        losses.append(torch.dot(errors_sorted, Variable(lovasz_grad(fg_sorted))))\r\n",
        "    return mean(losses)\r\n",
        "\r\n",
        "\r\n",
        "def flatten_probas(probas, labels, ignore=None):\r\n",
        "    \"\"\"\r\n",
        "    Flattens predictions in the batch\r\n",
        "    \"\"\"\r\n",
        "    if probas.dim() == 3:\r\n",
        "        # assumes output of a sigmoid layer\r\n",
        "        B, H, W = probas.size()\r\n",
        "        probas = probas.view(B, 1, H, W)\r\n",
        "    B, C, H, W = probas.size()\r\n",
        "    probas = probas.permute(0, 2, 3, 1).contiguous().view(-1, C)  # B * H * W, C = P, C\r\n",
        "    labels = labels.view(-1)\r\n",
        "    if ignore is None:\r\n",
        "        return probas, labels\r\n",
        "    valid = (labels != ignore)\r\n",
        "    vprobas = probas[valid.nonzero().squeeze()]\r\n",
        "    vlabels = labels[valid]\r\n",
        "    return vprobas, vlabels\r\n",
        "\r\n",
        "\r\n",
        "def xloss(logits, labels, ignore=None):\r\n",
        "    \"\"\"\r\n",
        "    Cross entropy loss\r\n",
        "    \"\"\"\r\n",
        "    return F.cross_entropy(logits, Variable(labels), ignore_index=255)\r\n",
        "\r\n",
        "# --------------------------- HELPER FUNCTIONS ---------------------------\r\n",
        "def isnan(x):\r\n",
        "    return x != x\r\n",
        "    \r\n",
        "def mean(l, ignore_nan=False, empty=0):\r\n",
        "    \"\"\"\r\n",
        "    nanmean compatible with generators.\r\n",
        "    \"\"\"\r\n",
        "    l = iter(l)\r\n",
        "    if ignore_nan:\r\n",
        "        l = ifilterfalse(isnan, l)\r\n",
        "    try:\r\n",
        "        n = 1\r\n",
        "        acc = next(l)\r\n",
        "    except StopIteration:\r\n",
        "        if empty == 'raise':\r\n",
        "            raise ValueError('Empty mean')\r\n",
        "        return empty\r\n",
        "    for n, v in enumerate(l, 2):\r\n",
        "        acc += v\r\n",
        "    if n == 1:\r\n",
        "        return acc\r\n",
        "    return acc / n"
      ],
      "execution_count": 11,
      "outputs": []
    }
  ]
}